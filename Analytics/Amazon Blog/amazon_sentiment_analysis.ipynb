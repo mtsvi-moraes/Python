{
 "cells": [
  {
   "cell_type": "code",
   "execution_count": 14,
   "metadata": {},
   "outputs": [],
   "source": [
    "import nltk"
   ]
  },
  {
   "cell_type": "code",
   "execution_count": 15,
   "metadata": {},
   "outputs": [],
   "source": [
    "from nltk.sentiment.vader import SentimentIntensityAnalyzer\n",
    "import pandas as pd"
   ]
  },
  {
   "cell_type": "code",
   "execution_count": 16,
   "metadata": {},
   "outputs": [],
   "source": [
    "sid = SentimentIntensityAnalyzer()"
   ]
  },
  {
   "cell_type": "code",
   "execution_count": 17,
   "metadata": {},
   "outputs": [],
   "source": [
    "df = pd.read_csv('amazon.csv', sep=';')\n",
    "df.replace(r'\\n', '', regex=True, inplace=True)"
   ]
  },
  {
   "cell_type": "code",
   "execution_count": 18,
   "metadata": {},
   "outputs": [],
   "source": [
    "import datetime as dt"
   ]
  },
  {
   "cell_type": "code",
   "execution_count": 19,
   "metadata": {},
   "outputs": [
    {
     "data": {
      "text/html": [
       "<div>\n",
       "<style scoped>\n",
       "    .dataframe tbody tr th:only-of-type {\n",
       "        vertical-align: middle;\n",
       "    }\n",
       "\n",
       "    .dataframe tbody tr th {\n",
       "        vertical-align: top;\n",
       "    }\n",
       "\n",
       "    .dataframe thead th {\n",
       "        text-align: right;\n",
       "    }\n",
       "</style>\n",
       "<table border=\"1\" class=\"dataframe\">\n",
       "  <thead>\n",
       "    <tr style=\"text-align: right;\">\n",
       "      <th></th>\n",
       "      <th>Title</th>\n",
       "      <th>Date</th>\n",
       "      <th>Contributor</th>\n",
       "      <th>Content</th>\n",
       "      <th>Link</th>\n",
       "      <th>Role</th>\n",
       "    </tr>\n",
       "  </thead>\n",
       "  <tbody>\n",
       "    <tr>\n",
       "      <th>0</th>\n",
       "      <td>Be a Part of Ambient Intelligence</td>\n",
       "      <td>2021-11-16</td>\n",
       "      <td>Bob Mars</td>\n",
       "      <td>Ambient intelligence is an environment where e...</td>\n",
       "      <td>https://developer.amazon.com/en-US/blogs/alexa...</td>\n",
       "      <td>NaN</td>\n",
       "    </tr>\n",
       "    <tr>\n",
       "      <th>1</th>\n",
       "      <td>Launch of Smart Home Device Health Service</td>\n",
       "      <td>2021-11-08</td>\n",
       "      <td>Sharon Morrow</td>\n",
       "      <td>Do you want to use Smart Home technology to he...</td>\n",
       "      <td>https://developer.amazon.com/en-US/blogs/alexa...</td>\n",
       "      <td>NaN</td>\n",
       "    </tr>\n",
       "    <tr>\n",
       "      <th>2</th>\n",
       "      <td>Support for Matter over Thread coming to Echo ...</td>\n",
       "      <td>2021-11-03</td>\n",
       "      <td>Gabe Kassel</td>\n",
       "      <td>Today, we are excited to announce our support ...</td>\n",
       "      <td>https://developer.amazon.com/en-US/blogs/alexa...</td>\n",
       "      <td>NaN</td>\n",
       "    </tr>\n",
       "    <tr>\n",
       "      <th>3</th>\n",
       "      <td>Alexa is Coming to Hospitals and Senior Living...</td>\n",
       "      <td>2021-10-25</td>\n",
       "      <td>Shantanu Kurhekar</td>\n",
       "      <td>Today, we are excited to announce two new solu...</td>\n",
       "      <td>https://developer.amazon.com/en-US/blogs/alexa...</td>\n",
       "      <td>NaN</td>\n",
       "    </tr>\n",
       "    <tr>\n",
       "      <th>4</th>\n",
       "      <td>Introducing the New Alexa Connect Kit SDK for ...</td>\n",
       "      <td>2021-10-20</td>\n",
       "      <td>Nithya Chandrasekaran</td>\n",
       "      <td>Today, we are excited to announce Alexa Connec...</td>\n",
       "      <td>https://developer.amazon.com/en-US/blogs/alexa...</td>\n",
       "      <td>NaN</td>\n",
       "    </tr>\n",
       "    <tr>\n",
       "      <th>...</th>\n",
       "      <td>...</td>\n",
       "      <td>...</td>\n",
       "      <td>...</td>\n",
       "      <td>...</td>\n",
       "      <td>...</td>\n",
       "      <td>...</td>\n",
       "    </tr>\n",
       "    <tr>\n",
       "      <th>135</th>\n",
       "      <td>Sonos’ Karen Wickert: Proof That Testing Is Cr...</td>\n",
       "      <td>2018-03-07</td>\n",
       "      <td>Jennifer King</td>\n",
       "      <td>When Karen Wickert started their career as a m...</td>\n",
       "      <td>https://developer.amazon.com/en-US/blogs/alexa...</td>\n",
       "      <td>NaN</td>\n",
       "    </tr>\n",
       "    <tr>\n",
       "      <th>136</th>\n",
       "      <td>Introducing the Amazon Alexa Premium Far-Field...</td>\n",
       "      <td>2018-01-05</td>\n",
       "      <td>Gagan Luthra</td>\n",
       "      <td>The Amazon Alexa Voice Service (AVS) makes it ...</td>\n",
       "      <td>https://developer.amazon.com/en-US/blogs/alexa...</td>\n",
       "      <td>NaN</td>\n",
       "    </tr>\n",
       "    <tr>\n",
       "      <th>137</th>\n",
       "      <td>Amazon Alexa Mobile Accessories: A New Alexa-E...</td>\n",
       "      <td>2018-01-05</td>\n",
       "      <td>Gagan Luthra</td>\n",
       "      <td>Millions of customers around the world have in...</td>\n",
       "      <td>https://developer.amazon.com/en-US/blogs/alexa...</td>\n",
       "      <td>NaN</td>\n",
       "    </tr>\n",
       "    <tr>\n",
       "      <th>138</th>\n",
       "      <td>How to Control Your Cooking Devices with the S...</td>\n",
       "      <td>2018-01-04</td>\n",
       "      <td>Mike Maas</td>\n",
       "      <td>Today we announced updates to the Smart Home S...</td>\n",
       "      <td>https://developer.amazon.com/en-US/blogs/alexa...</td>\n",
       "      <td>NaN</td>\n",
       "    </tr>\n",
       "    <tr>\n",
       "      <th>139</th>\n",
       "      <td>Introducing Cooking Capabilities in the Alexa ...</td>\n",
       "      <td>2018-01-04</td>\n",
       "      <td>Mike Maas</td>\n",
       "      <td>Customers have now connected tens of millions ...</td>\n",
       "      <td>https://developer.amazon.com/en-US/blogs/alexa...</td>\n",
       "      <td>NaN</td>\n",
       "    </tr>\n",
       "  </tbody>\n",
       "</table>\n",
       "<p>140 rows × 6 columns</p>\n",
       "</div>"
      ],
      "text/plain": [
       "                                                 Title        Date  \\\n",
       "0                    Be a Part of Ambient Intelligence  2021-11-16   \n",
       "1           Launch of Smart Home Device Health Service  2021-11-08   \n",
       "2    Support for Matter over Thread coming to Echo ...  2021-11-03   \n",
       "3    Alexa is Coming to Hospitals and Senior Living...  2021-10-25   \n",
       "4    Introducing the New Alexa Connect Kit SDK for ...  2021-10-20   \n",
       "..                                                 ...         ...   \n",
       "135  Sonos’ Karen Wickert: Proof That Testing Is Cr...  2018-03-07   \n",
       "136  Introducing the Amazon Alexa Premium Far-Field...  2018-01-05   \n",
       "137  Amazon Alexa Mobile Accessories: A New Alexa-E...  2018-01-05   \n",
       "138  How to Control Your Cooking Devices with the S...  2018-01-04   \n",
       "139  Introducing Cooking Capabilities in the Alexa ...  2018-01-04   \n",
       "\n",
       "               Contributor                                            Content  \\\n",
       "0                 Bob Mars  Ambient intelligence is an environment where e...   \n",
       "1            Sharon Morrow  Do you want to use Smart Home technology to he...   \n",
       "2              Gabe Kassel  Today, we are excited to announce our support ...   \n",
       "3        Shantanu Kurhekar  Today, we are excited to announce two new solu...   \n",
       "4    Nithya Chandrasekaran  Today, we are excited to announce Alexa Connec...   \n",
       "..                     ...                                                ...   \n",
       "135          Jennifer King  When Karen Wickert started their career as a m...   \n",
       "136           Gagan Luthra  The Amazon Alexa Voice Service (AVS) makes it ...   \n",
       "137           Gagan Luthra  Millions of customers around the world have in...   \n",
       "138              Mike Maas  Today we announced updates to the Smart Home S...   \n",
       "139              Mike Maas  Customers have now connected tens of millions ...   \n",
       "\n",
       "                                                  Link  Role  \n",
       "0    https://developer.amazon.com/en-US/blogs/alexa...   NaN  \n",
       "1    https://developer.amazon.com/en-US/blogs/alexa...   NaN  \n",
       "2    https://developer.amazon.com/en-US/blogs/alexa...   NaN  \n",
       "3    https://developer.amazon.com/en-US/blogs/alexa...   NaN  \n",
       "4    https://developer.amazon.com/en-US/blogs/alexa...   NaN  \n",
       "..                                                 ...   ...  \n",
       "135  https://developer.amazon.com/en-US/blogs/alexa...   NaN  \n",
       "136  https://developer.amazon.com/en-US/blogs/alexa...   NaN  \n",
       "137  https://developer.amazon.com/en-US/blogs/alexa...   NaN  \n",
       "138  https://developer.amazon.com/en-US/blogs/alexa...   NaN  \n",
       "139  https://developer.amazon.com/en-US/blogs/alexa...   NaN  \n",
       "\n",
       "[140 rows x 6 columns]"
      ]
     },
     "execution_count": 19,
     "metadata": {},
     "output_type": "execute_result"
    }
   ],
   "source": [
    "df['Date'] = pd.to_datetime(df['Date']).dt.date\n",
    "df"
   ]
  },
  {
   "cell_type": "code",
   "execution_count": 20,
   "metadata": {},
   "outputs": [
    {
     "data": {
      "text/plain": [
       "Title            0\n",
       "Date             0\n",
       "Contributor      0\n",
       "Content          0\n",
       "Link             0\n",
       "Role           140\n",
       "dtype: int64"
      ]
     },
     "execution_count": 20,
     "metadata": {},
     "output_type": "execute_result"
    }
   ],
   "source": [
    "df.isnull().sum()"
   ]
  },
  {
   "cell_type": "code",
   "execution_count": 21,
   "metadata": {},
   "outputs": [],
   "source": [
    "df.drop('Role', axis=1, inplace=True)"
   ]
  },
  {
   "cell_type": "code",
   "execution_count": 22,
   "metadata": {},
   "outputs": [
    {
     "data": {
      "text/plain": [
       "{'neg': 0.017, 'neu': 0.86, 'pos': 0.123, 'compound': 0.9984}"
      ]
     },
     "execution_count": 22,
     "metadata": {},
     "output_type": "execute_result"
    }
   ],
   "source": [
    "sid.polarity_scores(df.iloc[0]['Content'])"
   ]
  },
  {
   "cell_type": "code",
   "execution_count": 23,
   "metadata": {},
   "outputs": [
    {
     "data": {
      "text/plain": [
       "\"Ambient intelligence is an environment where each of your devices and services is interconnected through artificial intelligence (AI), offering far more capabilities than any single service or device could. In this paradigm, AI understands the state of your environment and your preferences, helps you when you need it, and recedes into the background when you don't. Imagine a smart picture frame that shows you your personal schedule as you approach it, interacts with a third-party weather service to proactively make a suggestion for what to wear, and reverts to artwork as you walk away.Amazon is just one of many companies investing in ambient intelligence. We're making it easier for developers and partners to build devices and services that integrate deeply with our products. We believe that a truly ambient environment will include many different technologies and voice AIs working together, seamlessly, in a customer's household. Amazon understands that developing ambient environments requires support and knowledge from the entire industry — so we sponsored the Voice Interoperability Initiative to support and accelerate voice AIs working together.In a world with multiple voice services, each with different capabilities, we believe customers should have the freedom to choose their preferred service. To this end, Amazon, along with leading technology companies, announced the Voice Interoperability Initiative (VII) just over two years ago. VII now has over 90 members committed to providing customers choice and flexibility to interact with multiple voice services. Our aim is to deliver this experience through simultaneously available voice services, each with their own ‘wake word’ or invocation name that enable customers to talk to the service of their choice by simply saying its name.Bringing together many different technologies and having voice services working together in ambient environments introduces new challenges for product and voice agent designers. To understand how simultaneously available voice services can work together on the same product, Amazon published a Multi-Agent Design Guide (MADG) with the input of VII members. The MADG provides design recommendations and best practices for delivering delightful customer experiences with multi-agent devices.The MADG paves the way to natural voice interactions with agents. For example, it should be clear to customers which agent is listening so they can direct the question they are asking or command to the intended agent. Also, when a user is in a conversation with one agent, interruptions from other agents should be limited, much the same way we limit interruptions when we engage in human conversations. The MADG covers these topics and also introduces new concepts such as Universal Device Commands (UDCs) and Agent Transfers.UDCs allow a person to ask any agent on a device to perform certain functions, such as stopping music playback, which is helpful when it is unclear which agent was initially asked to play music because the person who started the music has since left the room. An Agent Transfer redirects to another agent on the device when a user asks an agent to perform a task that it cannot fulfill. In this case, the agent automatically initiates a dialog with another agent that may be able to fulfill the task. UDCs and Agent Transfers improve the customer experience in ambient environments by helping accomplish what the customer wants when multiple voice agents are involved.Amazon has recently announced two new technologies that support agent interoperability on a single product that are consistent with the principles outlined in the Multi-Agent Design Guide: Alexa Custom Assistant (ACA) and the Multi-Agent eXperience (MAX) Toolkit.ACA is a comprehensive new solution built directly on top of Alexa technology that lets device makers and service providers create intelligent assistants tailored to their brand personality and customer needs. It provides companies with access to world class, always-improving voice AI technology, customized with a unique wake word, voice, skills, and capabilities. The brand's assistant also seamlessly coexists and cooperates with Alexa, providing customers the benefit of an intelligent assistant that is their product and services expert, while Alexa provides the familiar experiences they already know and love.MAX Toolkit includes an agent-agnostic MAX Library middleware that enables your agent and cloud services to coordinate and interoperate with other agents. MAX models conversations between people and agents in much the same way that people engage in conversations with one another. It also provides methods for coordinating potential simultaneous speech output by multiple agents. For example, if the user has asked an agent to remind them of something later in the day and that reminder is about to occur while another agent is speaking, the reminder speech can be queued to be output after the speaking agent finishes.Both ACA and MAX facilitate the integration of multiple agents on products in ambient environments. Use ACA to host your brand agent if you do not have a voice agent infrastructure. Or consider MAX Toolkit to integrate your agent and its cloud services alongside other agents and Alexa on your product.Today, customers can interact with Alexa and other agents on a number of devices, including Facebook's Portal devices and Deutsche Telekom's Smart Speaker Mini. There are also devices from Orange, Xiaomi, OnePlus and more as well as in vehicles from Audi, BMW, VW, and Nissan where voice agents co-exist. That's the beauty of ambient intelligence done right — it enables developers to bring together different solutions into a unified, delightful customer experience.In the coming years, a large number of homes and work places will have ambient intelligence that will be able to learn about your environment and preferences and act on those insights in ways that are useful to you. Ambient environments consist of many different technologies and voice agents that work together seamlessly on, and across, devices. VII, MADG, ACA and MAX Toolkit are making it easier for developers and partners to build devices and voice services that work well together in serving customer needs.\""
      ]
     },
     "execution_count": 23,
     "metadata": {},
     "output_type": "execute_result"
    }
   ],
   "source": [
    "df.Content[0]"
   ]
  },
  {
   "cell_type": "code",
   "execution_count": 24,
   "metadata": {},
   "outputs": [],
   "source": [
    "df['Scores'] = df['Content'].apply(lambda content: sid.polarity_scores(content))"
   ]
  },
  {
   "cell_type": "code",
   "execution_count": 25,
   "metadata": {},
   "outputs": [
    {
     "data": {
      "text/html": [
       "<div>\n",
       "<style scoped>\n",
       "    .dataframe tbody tr th:only-of-type {\n",
       "        vertical-align: middle;\n",
       "    }\n",
       "\n",
       "    .dataframe tbody tr th {\n",
       "        vertical-align: top;\n",
       "    }\n",
       "\n",
       "    .dataframe thead th {\n",
       "        text-align: right;\n",
       "    }\n",
       "</style>\n",
       "<table border=\"1\" class=\"dataframe\">\n",
       "  <thead>\n",
       "    <tr style=\"text-align: right;\">\n",
       "      <th></th>\n",
       "      <th>Title</th>\n",
       "      <th>Date</th>\n",
       "      <th>Contributor</th>\n",
       "      <th>Content</th>\n",
       "      <th>Link</th>\n",
       "      <th>Scores</th>\n",
       "    </tr>\n",
       "  </thead>\n",
       "  <tbody>\n",
       "    <tr>\n",
       "      <th>0</th>\n",
       "      <td>Be a Part of Ambient Intelligence</td>\n",
       "      <td>2021-11-16</td>\n",
       "      <td>Bob Mars</td>\n",
       "      <td>Ambient intelligence is an environment where e...</td>\n",
       "      <td>https://developer.amazon.com/en-US/blogs/alexa...</td>\n",
       "      <td>{'neg': 0.017, 'neu': 0.86, 'pos': 0.123, 'com...</td>\n",
       "    </tr>\n",
       "    <tr>\n",
       "      <th>1</th>\n",
       "      <td>Launch of Smart Home Device Health Service</td>\n",
       "      <td>2021-11-08</td>\n",
       "      <td>Sharon Morrow</td>\n",
       "      <td>Do you want to use Smart Home technology to he...</td>\n",
       "      <td>https://developer.amazon.com/en-US/blogs/alexa...</td>\n",
       "      <td>{'neg': 0.0, 'neu': 0.787, 'pos': 0.213, 'comp...</td>\n",
       "    </tr>\n",
       "    <tr>\n",
       "      <th>2</th>\n",
       "      <td>Support for Matter over Thread coming to Echo ...</td>\n",
       "      <td>2021-11-03</td>\n",
       "      <td>Gabe Kassel</td>\n",
       "      <td>Today, we are excited to announce our support ...</td>\n",
       "      <td>https://developer.amazon.com/en-US/blogs/alexa...</td>\n",
       "      <td>{'neg': 0.0, 'neu': 0.81, 'pos': 0.19, 'compou...</td>\n",
       "    </tr>\n",
       "    <tr>\n",
       "      <th>3</th>\n",
       "      <td>Alexa is Coming to Hospitals and Senior Living...</td>\n",
       "      <td>2021-10-25</td>\n",
       "      <td>Shantanu Kurhekar</td>\n",
       "      <td>Today, we are excited to announce two new solu...</td>\n",
       "      <td>https://developer.amazon.com/en-US/blogs/alexa...</td>\n",
       "      <td>{'neg': 0.023, 'neu': 0.82, 'pos': 0.158, 'com...</td>\n",
       "    </tr>\n",
       "    <tr>\n",
       "      <th>4</th>\n",
       "      <td>Introducing the New Alexa Connect Kit SDK for ...</td>\n",
       "      <td>2021-10-20</td>\n",
       "      <td>Nithya Chandrasekaran</td>\n",
       "      <td>Today, we are excited to announce Alexa Connec...</td>\n",
       "      <td>https://developer.amazon.com/en-US/blogs/alexa...</td>\n",
       "      <td>{'neg': 0.013, 'neu': 0.833, 'pos': 0.154, 'co...</td>\n",
       "    </tr>\n",
       "    <tr>\n",
       "      <th>...</th>\n",
       "      <td>...</td>\n",
       "      <td>...</td>\n",
       "      <td>...</td>\n",
       "      <td>...</td>\n",
       "      <td>...</td>\n",
       "      <td>...</td>\n",
       "    </tr>\n",
       "    <tr>\n",
       "      <th>135</th>\n",
       "      <td>Sonos’ Karen Wickert: Proof That Testing Is Cr...</td>\n",
       "      <td>2018-03-07</td>\n",
       "      <td>Jennifer King</td>\n",
       "      <td>When Karen Wickert started their career as a m...</td>\n",
       "      <td>https://developer.amazon.com/en-US/blogs/alexa...</td>\n",
       "      <td>{'neg': 0.026, 'neu': 0.837, 'pos': 0.137, 'co...</td>\n",
       "    </tr>\n",
       "    <tr>\n",
       "      <th>136</th>\n",
       "      <td>Introducing the Amazon Alexa Premium Far-Field...</td>\n",
       "      <td>2018-01-05</td>\n",
       "      <td>Gagan Luthra</td>\n",
       "      <td>The Amazon Alexa Voice Service (AVS) makes it ...</td>\n",
       "      <td>https://developer.amazon.com/en-US/blogs/alexa...</td>\n",
       "      <td>{'neg': 0.008, 'neu': 0.879, 'pos': 0.113, 'co...</td>\n",
       "    </tr>\n",
       "    <tr>\n",
       "      <th>137</th>\n",
       "      <td>Amazon Alexa Mobile Accessories: A New Alexa-E...</td>\n",
       "      <td>2018-01-05</td>\n",
       "      <td>Gagan Luthra</td>\n",
       "      <td>Millions of customers around the world have in...</td>\n",
       "      <td>https://developer.amazon.com/en-US/blogs/alexa...</td>\n",
       "      <td>{'neg': 0.005, 'neu': 0.878, 'pos': 0.117, 'co...</td>\n",
       "    </tr>\n",
       "    <tr>\n",
       "      <th>138</th>\n",
       "      <td>How to Control Your Cooking Devices with the S...</td>\n",
       "      <td>2018-01-04</td>\n",
       "      <td>Mike Maas</td>\n",
       "      <td>Today we announced updates to the Smart Home S...</td>\n",
       "      <td>https://developer.amazon.com/en-US/blogs/alexa...</td>\n",
       "      <td>{'neg': 0.0, 'neu': 0.92, 'pos': 0.08, 'compou...</td>\n",
       "    </tr>\n",
       "    <tr>\n",
       "      <th>139</th>\n",
       "      <td>Introducing Cooking Capabilities in the Alexa ...</td>\n",
       "      <td>2018-01-04</td>\n",
       "      <td>Mike Maas</td>\n",
       "      <td>Customers have now connected tens of millions ...</td>\n",
       "      <td>https://developer.amazon.com/en-US/blogs/alexa...</td>\n",
       "      <td>{'neg': 0.005, 'neu': 0.815, 'pos': 0.18, 'com...</td>\n",
       "    </tr>\n",
       "  </tbody>\n",
       "</table>\n",
       "<p>140 rows × 6 columns</p>\n",
       "</div>"
      ],
      "text/plain": [
       "                                                 Title        Date  \\\n",
       "0                    Be a Part of Ambient Intelligence  2021-11-16   \n",
       "1           Launch of Smart Home Device Health Service  2021-11-08   \n",
       "2    Support for Matter over Thread coming to Echo ...  2021-11-03   \n",
       "3    Alexa is Coming to Hospitals and Senior Living...  2021-10-25   \n",
       "4    Introducing the New Alexa Connect Kit SDK for ...  2021-10-20   \n",
       "..                                                 ...         ...   \n",
       "135  Sonos’ Karen Wickert: Proof That Testing Is Cr...  2018-03-07   \n",
       "136  Introducing the Amazon Alexa Premium Far-Field...  2018-01-05   \n",
       "137  Amazon Alexa Mobile Accessories: A New Alexa-E...  2018-01-05   \n",
       "138  How to Control Your Cooking Devices with the S...  2018-01-04   \n",
       "139  Introducing Cooking Capabilities in the Alexa ...  2018-01-04   \n",
       "\n",
       "               Contributor                                            Content  \\\n",
       "0                 Bob Mars  Ambient intelligence is an environment where e...   \n",
       "1            Sharon Morrow  Do you want to use Smart Home technology to he...   \n",
       "2              Gabe Kassel  Today, we are excited to announce our support ...   \n",
       "3        Shantanu Kurhekar  Today, we are excited to announce two new solu...   \n",
       "4    Nithya Chandrasekaran  Today, we are excited to announce Alexa Connec...   \n",
       "..                     ...                                                ...   \n",
       "135          Jennifer King  When Karen Wickert started their career as a m...   \n",
       "136           Gagan Luthra  The Amazon Alexa Voice Service (AVS) makes it ...   \n",
       "137           Gagan Luthra  Millions of customers around the world have in...   \n",
       "138              Mike Maas  Today we announced updates to the Smart Home S...   \n",
       "139              Mike Maas  Customers have now connected tens of millions ...   \n",
       "\n",
       "                                                  Link  \\\n",
       "0    https://developer.amazon.com/en-US/blogs/alexa...   \n",
       "1    https://developer.amazon.com/en-US/blogs/alexa...   \n",
       "2    https://developer.amazon.com/en-US/blogs/alexa...   \n",
       "3    https://developer.amazon.com/en-US/blogs/alexa...   \n",
       "4    https://developer.amazon.com/en-US/blogs/alexa...   \n",
       "..                                                 ...   \n",
       "135  https://developer.amazon.com/en-US/blogs/alexa...   \n",
       "136  https://developer.amazon.com/en-US/blogs/alexa...   \n",
       "137  https://developer.amazon.com/en-US/blogs/alexa...   \n",
       "138  https://developer.amazon.com/en-US/blogs/alexa...   \n",
       "139  https://developer.amazon.com/en-US/blogs/alexa...   \n",
       "\n",
       "                                                Scores  \n",
       "0    {'neg': 0.017, 'neu': 0.86, 'pos': 0.123, 'com...  \n",
       "1    {'neg': 0.0, 'neu': 0.787, 'pos': 0.213, 'comp...  \n",
       "2    {'neg': 0.0, 'neu': 0.81, 'pos': 0.19, 'compou...  \n",
       "3    {'neg': 0.023, 'neu': 0.82, 'pos': 0.158, 'com...  \n",
       "4    {'neg': 0.013, 'neu': 0.833, 'pos': 0.154, 'co...  \n",
       "..                                                 ...  \n",
       "135  {'neg': 0.026, 'neu': 0.837, 'pos': 0.137, 'co...  \n",
       "136  {'neg': 0.008, 'neu': 0.879, 'pos': 0.113, 'co...  \n",
       "137  {'neg': 0.005, 'neu': 0.878, 'pos': 0.117, 'co...  \n",
       "138  {'neg': 0.0, 'neu': 0.92, 'pos': 0.08, 'compou...  \n",
       "139  {'neg': 0.005, 'neu': 0.815, 'pos': 0.18, 'com...  \n",
       "\n",
       "[140 rows x 6 columns]"
      ]
     },
     "execution_count": 25,
     "metadata": {},
     "output_type": "execute_result"
    }
   ],
   "source": [
    "df"
   ]
  },
  {
   "cell_type": "code",
   "execution_count": 26,
   "metadata": {},
   "outputs": [],
   "source": [
    "df['Compound'] = df['Scores'].apply(lambda d: d['compound'])"
   ]
  },
  {
   "cell_type": "code",
   "execution_count": 27,
   "metadata": {},
   "outputs": [],
   "source": [
    "df['Overall Score'] = df['Compound'].apply(lambda score: 'POS' if score >=0 else 'NEG')"
   ]
  },
  {
   "cell_type": "code",
   "execution_count": 28,
   "metadata": {},
   "outputs": [
    {
     "data": {
      "text/html": [
       "<div>\n",
       "<style scoped>\n",
       "    .dataframe tbody tr th:only-of-type {\n",
       "        vertical-align: middle;\n",
       "    }\n",
       "\n",
       "    .dataframe tbody tr th {\n",
       "        vertical-align: top;\n",
       "    }\n",
       "\n",
       "    .dataframe thead th {\n",
       "        text-align: right;\n",
       "    }\n",
       "</style>\n",
       "<table border=\"1\" class=\"dataframe\">\n",
       "  <thead>\n",
       "    <tr style=\"text-align: right;\">\n",
       "      <th></th>\n",
       "      <th>Title</th>\n",
       "      <th>Date</th>\n",
       "      <th>Contributor</th>\n",
       "      <th>Content</th>\n",
       "      <th>Link</th>\n",
       "      <th>Scores</th>\n",
       "      <th>Compound</th>\n",
       "      <th>Overall Score</th>\n",
       "    </tr>\n",
       "  </thead>\n",
       "  <tbody>\n",
       "  </tbody>\n",
       "</table>\n",
       "</div>"
      ],
      "text/plain": [
       "Empty DataFrame\n",
       "Columns: [Title, Date, Contributor, Content, Link, Scores, Compound, Overall Score]\n",
       "Index: []"
      ]
     },
     "execution_count": 28,
     "metadata": {},
     "output_type": "execute_result"
    }
   ],
   "source": [
    "df[df['Overall Score'] == 'NEG']"
   ]
  },
  {
   "cell_type": "code",
   "execution_count": 29,
   "metadata": {},
   "outputs": [],
   "source": [
    "from sklearn.feature_extraction.text import CountVectorizer"
   ]
  },
  {
   "cell_type": "code",
   "execution_count": 30,
   "metadata": {},
   "outputs": [],
   "source": [
    "cv = CountVectorizer(max_df=.9, min_df=.1, stop_words= 'english')"
   ]
  },
  {
   "cell_type": "code",
   "execution_count": 31,
   "metadata": {},
   "outputs": [],
   "source": [
    "dtm = cv.fit_transform(df['Content'])"
   ]
  },
  {
   "cell_type": "code",
   "execution_count": 32,
   "metadata": {},
   "outputs": [
    {
     "data": {
      "text/plain": [
       "<140x564 sparse matrix of type '<class 'numpy.int64'>'\n",
       "\twith 17168 stored elements in Compressed Sparse Row format>"
      ]
     },
     "execution_count": 32,
     "metadata": {},
     "output_type": "execute_result"
    }
   ],
   "source": [
    "dtm"
   ]
  },
  {
   "cell_type": "code",
   "execution_count": 33,
   "metadata": {},
   "outputs": [],
   "source": [
    "from sklearn.decomposition import LatentDirichletAllocation"
   ]
  },
  {
   "cell_type": "code",
   "execution_count": 34,
   "metadata": {},
   "outputs": [],
   "source": [
    "LDA = LatentDirichletAllocation(n_components=10)"
   ]
  },
  {
   "cell_type": "code",
   "execution_count": 35,
   "metadata": {},
   "outputs": [
    {
     "data": {
      "text/plain": [
       "LatentDirichletAllocation()"
      ]
     },
     "execution_count": 35,
     "metadata": {},
     "output_type": "execute_result"
    }
   ],
   "source": [
    "LDA.fit(dtm)"
   ]
  },
  {
   "cell_type": "code",
   "execution_count": 36,
   "metadata": {},
   "outputs": [
    {
     "data": {
      "text/plain": [
       "564"
      ]
     },
     "execution_count": 36,
     "metadata": {},
     "output_type": "execute_result"
    }
   ],
   "source": [
    "len(cv.get_feature_names_out()) #Mesmo tamanho do dtm, ou seja, são mil e poucas dimensoes (documentos) por 590 linhas"
   ]
  },
  {
   "cell_type": "code",
   "execution_count": 37,
   "metadata": {},
   "outputs": [
    {
     "data": {
      "text/plain": [
       "'consumer'"
      ]
     },
     "execution_count": 37,
     "metadata": {},
     "output_type": "execute_result"
    }
   ],
   "source": [
    "cv.get_feature_names_out()[100]"
   ]
  },
  {
   "cell_type": "code",
   "execution_count": 38,
   "metadata": {},
   "outputs": [
    {
     "data": {
      "text/plain": [
       "10"
      ]
     },
     "execution_count": 38,
     "metadata": {},
     "output_type": "execute_result"
    }
   ],
   "source": [
    "len(LDA.components_) #Retorna o numero de tópicos"
   ]
  },
  {
   "cell_type": "code",
   "execution_count": 39,
   "metadata": {},
   "outputs": [],
   "source": [
    "first_topic = LDA.components_[0]"
   ]
  },
  {
   "cell_type": "code",
   "execution_count": 40,
   "metadata": {},
   "outputs": [
    {
     "data": {
      "text/plain": [
       "numpy.ndarray"
      ]
     },
     "execution_count": 40,
     "metadata": {},
     "output_type": "execute_result"
    }
   ],
   "source": [
    "type(first_topic)"
   ]
  },
  {
   "cell_type": "code",
   "execution_count": 41,
   "metadata": {},
   "outputs": [
    {
     "data": {
      "text/plain": [
       "array([139, 439, 105, 470, 140,  93,  34, 165,  92, 362, 515, 561, 415,\n",
       "        67, 405, 353,  11, 186,  64, 403, 544, 109, 327, 230, 411, 277,\n",
       "       326, 340, 447, 144,  69, 477, 116, 482, 532, 549, 476, 520, 523,\n",
       "       479, 412, 194, 398,  10, 255, 374, 170,  78, 451, 406, 202, 294,\n",
       "       418, 531, 123, 396, 150, 341, 319, 510, 290,  81, 260,  99, 512,\n",
       "       169,  17,  70, 536, 424,  32, 266, 184, 529, 554, 302, 480, 129,\n",
       "        84, 339, 414, 379, 475, 229, 497, 437, 354, 440, 213, 300, 426,\n",
       "        50, 533, 146, 147, 423,  76, 190, 446, 555, 223, 385, 289, 101,\n",
       "       333, 445, 282, 422, 487, 409, 323, 357, 408,  39, 485, 428, 455,\n",
       "       324,  90, 196, 364,  98, 257, 505,  30,  85, 254, 201, 280, 231,\n",
       "       203, 130, 452, 465,  96,  62, 350, 453,  91, 417, 521, 121, 489,\n",
       "       369, 371, 261, 311, 120, 427, 404, 309, 481, 117,  97, 410, 546,\n",
       "        47,  45,  48,   8, 198, 469, 227, 166,  16, 516, 226, 188, 111,\n",
       "       433, 205, 114, 556, 500, 547, 273,  68, 149,  75, 407, 358, 317,\n",
       "        31, 483, 295, 397, 372, 454, 459, 391, 250, 538,  25, 450, 553,\n",
       "       112, 386, 210, 335,  49, 474,  38,  18, 106, 177, 197, 238, 334,\n",
       "       278,  65, 220, 265, 438, 249, 185,  20, 526, 232, 100, 304, 401,\n",
       "       110, 413, 552, 314, 360, 399, 491,  41, 321, 338,  12, 488, 498,\n",
       "       336, 192, 137, 370, 204, 217, 143, 252, 359, 541, 346, 237,  42,\n",
       "       431, 471, 518, 378, 297, 256, 361, 517, 351, 486, 368, 208, 394,\n",
       "       279, 468,  56,  13, 267, 463, 352, 436,  82, 138, 285, 432, 502,\n",
       "       286, 478, 215, 107,  43, 434, 162, 244,  80, 288, 207, 142, 464,\n",
       "       206, 389, 492, 164, 301, 501, 393, 183, 191, 559, 299,  66, 509,\n",
       "       416, 421, 179, 189, 308,   1, 344, 316, 506, 387, 216, 148, 342,\n",
       "       534, 153, 363, 315,  14, 539, 167,  15,  79,  28, 246,  22,  24,\n",
       "        77, 388, 377, 392, 225,  51,  23,  83, 499, 126, 131, 395,  35,\n",
       "       269,   3, 181,  61, 151, 187, 176, 134, 214, 365, 444, 242, 435,\n",
       "       281, 234,  33, 172, 284,  55, 161, 347,  72, 247, 345, 180, 366,\n",
       "       384, 511, 160, 108, 118, 241, 312, 283,  73, 259, 221,   6,  89,\n",
       "       158, 274, 420, 296, 402, 209, 381, 292, 503, 253, 355, 449, 173,\n",
       "       367, 400, 141, 383, 222, 145, 154, 332,   4, 466, 441,  19, 211,\n",
       "        88, 528, 235, 245, 522, 243, 419, 271, 306, 178, 318, 200, 380,\n",
       "       390, 218, 124, 545, 527, 103,  37, 268, 193, 349, 525, 313,  53,\n",
       "       322,  71, 330, 494, 239, 472,  74, 493, 262, 373,  94,   5, 551,\n",
       "       125, 328, 473,   2, 519, 228, 212, 320, 540, 331, 563, 233, 514,\n",
       "       156, 102, 128, 325, 298,  95, 240, 382, 310, 490, 535, 115, 467,\n",
       "        46,  21, 276, 272, 195, 548, 448,   0,  52,  36, 429, 258, 495,\n",
       "       264, 356, 425, 163, 251, 329, 348, 307,   7, 537, 168,  54, 199,\n",
       "       542, 159, 462, 248,   9, 293, 127, 263, 550, 375,  27, 122, 270,\n",
       "       135,  40, 460, 343, 558,  86, 152, 524, 171,  87, 508,  63,  44,\n",
       "       461, 557, 507, 560, 113, 484, 157, 442, 104, 291,  60, 182, 155,\n",
       "       504, 430, 275, 287, 513, 443, 562, 119, 236, 219,  58, 303, 132,\n",
       "       174, 530, 456, 305, 496,  29, 133,  57, 376,  59, 224,  26, 457,\n",
       "       175, 136, 458, 337, 543], dtype=int64)"
      ]
     },
     "execution_count": 41,
     "metadata": {},
     "output_type": "execute_result"
    }
   ],
   "source": [
    "first_topic.argsort() #retorna um array com o numero dos indices dos valores sorteados em ordem do menor pro maior\n",
    "\n",
    "#ex: [10, 200, 1] retornaria [2, 0, 1]"
   ]
  },
  {
   "cell_type": "code",
   "execution_count": 42,
   "metadata": {},
   "outputs": [],
   "source": [
    "top_ten = first_topic.argsort()[-10:]"
   ]
  },
  {
   "cell_type": "code",
   "execution_count": 43,
   "metadata": {},
   "outputs": [
    {
     "name": "stdout",
     "output_type": "stream",
     "text": [
      "products\n",
      "built\n",
      "home\n",
      "amazon\n",
      "skills\n",
      "experiences\n",
      "devices\n",
      "smart\n",
      "new\n",
      "voice\n"
     ]
    }
   ],
   "source": [
    "for index in top_ten:\n",
    "    print(cv.get_feature_names_out()[index])"
   ]
  },
  {
   "cell_type": "code",
   "execution_count": 44,
   "metadata": {},
   "outputs": [],
   "source": [
    "import sys\n",
    "\n",
    "orig_stdout = sys.stdout\n",
    "f = open(\n",
    "    'df.txt', 'w'\n",
    ")\n",
    "sys.stdout = f\n",
    "\n",
    "\n",
    "for index, topic in enumerate(LDA.components_):\n",
    "    dataframe = pd.DataFrame(columns=[f'THE TOP 15 WORDS FOR TOPIC #{index}'], data=[cv.get_feature_names_out()[index] for index in topic.argsort()[-15:]])\n",
    "    print(dataframe)\n",
    "\n",
    "sys.stdout = orig_stdout\n",
    "f.close()"
   ]
  },
  {
   "cell_type": "code",
   "execution_count": 45,
   "metadata": {},
   "outputs": [
    {
     "data": {
      "text/html": [
       "<div>\n",
       "<style scoped>\n",
       "    .dataframe tbody tr th:only-of-type {\n",
       "        vertical-align: middle;\n",
       "    }\n",
       "\n",
       "    .dataframe tbody tr th {\n",
       "        vertical-align: top;\n",
       "    }\n",
       "\n",
       "    .dataframe thead th {\n",
       "        text-align: right;\n",
       "    }\n",
       "</style>\n",
       "<table border=\"1\" class=\"dataframe\">\n",
       "  <thead>\n",
       "    <tr style=\"text-align: right;\">\n",
       "      <th></th>\n",
       "      <th>THE TOP 15 WORDS FOR TOPIC #0</th>\n",
       "      <th>THE TOP 15 WORDS FOR TOPIC #1</th>\n",
       "      <th>THE TOP 15 WORDS FOR TOPIC #2</th>\n",
       "      <th>THE TOP 15 WORDS FOR TOPIC #3</th>\n",
       "      <th>THE TOP 15 WORDS FOR TOPIC #4</th>\n",
       "      <th>THE TOP 15 WORDS FOR TOPIC #5</th>\n",
       "      <th>THE TOP 15 WORDS FOR TOPIC #6</th>\n",
       "      <th>THE TOP 15 WORDS FOR TOPIC #7</th>\n",
       "      <th>THE TOP 15 WORDS FOR TOPIC #8</th>\n",
       "      <th>THE TOP 15 WORDS FOR TOPIC #9</th>\n",
       "    </tr>\n",
       "  </thead>\n",
       "  <tbody>\n",
       "    <tr>\n",
       "      <th>0</th>\n",
       "      <td>0                         makers</td>\n",
       "      <td>0                        version</td>\n",
       "      <td>0                       solution</td>\n",
       "      <td>0                       commands</td>\n",
       "      <td>0                           make</td>\n",
       "      <td>0                      certified</td>\n",
       "      <td>0                       features</td>\n",
       "      <td>0                         create</td>\n",
       "      <td>0                        managed</td>\n",
       "      <td>0                        example</td>\n",
       "    </tr>\n",
       "    <tr>\n",
       "      <th>1</th>\n",
       "      <td>1                     technology</td>\n",
       "      <td>1                      interface</td>\n",
       "      <td>1                        enabled</td>\n",
       "      <td>1                           time</td>\n",
       "      <td>1                          power</td>\n",
       "      <td>1                            use</td>\n",
       "      <td>1                         enable</td>\n",
       "      <td>1                          music</td>\n",
       "      <td>1                         makers</td>\n",
       "      <td>1                      including</td>\n",
       "    </tr>\n",
       "    <tr>\n",
       "      <th>2</th>\n",
       "      <td>2                      announced</td>\n",
       "      <td>2                        support</td>\n",
       "      <td>2                          bring</td>\n",
       "      <td>2                           mode</td>\n",
       "      <td>2                        control</td>\n",
       "      <td>2                             wi</td>\n",
       "      <td>2                           like</td>\n",
       "      <td>2                          using</td>\n",
       "      <td>2                        service</td>\n",
       "      <td>2                           news</td>\n",
       "    </tr>\n",
       "    <tr>\n",
       "      <th>3</th>\n",
       "      <td>3                     developers</td>\n",
       "      <td>3                         create</td>\n",
       "      <td>3                      developer</td>\n",
       "      <td>3                            new</td>\n",
       "      <td>3                          water</td>\n",
       "      <td>3                  certification</td>\n",
       "      <td>3                           mode</td>\n",
       "      <td>3                        respond</td>\n",
       "      <td>3                          using</td>\n",
       "      <td>3                           play</td>\n",
       "    </tr>\n",
       "    <tr>\n",
       "      <th>4</th>\n",
       "      <td>4                          build</td>\n",
       "      <td>4                          using</td>\n",
       "      <td>4                          built</td>\n",
       "      <td>4                            use</td>\n",
       "      <td>4                            api</td>\n",
       "      <td>4                       products</td>\n",
       "      <td>4                          using</td>\n",
       "      <td>4                           sent</td>\n",
       "      <td>4                          smart</td>\n",
       "      <td>4                          built</td>\n",
       "    </tr>\n",
       "    <tr>\n",
       "      <th>5</th>\n",
       "      <td>5                       products</td>\n",
       "      <td>5                           time</td>\n",
       "      <td>5                            kit</td>\n",
       "      <td>5                        control</td>\n",
       "      <td>5                         lights</td>\n",
       "      <td>5                             fi</td>\n",
       "      <td>5                        devices</td>\n",
       "      <td>5                      directive</td>\n",
       "      <td>5                        product</td>\n",
       "      <td>5                           just</td>\n",
       "    </tr>\n",
       "    <tr>\n",
       "      <th>6</th>\n",
       "      <td>6                          built</td>\n",
       "      <td>6                            avs</td>\n",
       "      <td>6                         makers</td>\n",
       "      <td>6                        devices</td>\n",
       "      <td>6                            app</td>\n",
       "      <td>6                       customer</td>\n",
       "      <td>6                        support</td>\n",
       "      <td>6                      interface</td>\n",
       "      <td>6                            sdk</td>\n",
       "      <td>6                     experience</td>\n",
       "    </tr>\n",
       "    <tr>\n",
       "      <th>7</th>\n",
       "      <td>7                           home</td>\n",
       "      <td>7                   capabilities</td>\n",
       "      <td>7                         access</td>\n",
       "      <td>7                            api</td>\n",
       "      <td>7                       customer</td>\n",
       "      <td>7                            new</td>\n",
       "      <td>7                         custom</td>\n",
       "      <td>7                           uses</td>\n",
       "      <td>7                        devices</td>\n",
       "      <td>7                       customer</td>\n",
       "    </tr>\n",
       "    <tr>\n",
       "      <th>8</th>\n",
       "      <td>8                         amazon</td>\n",
       "      <td>8                            aws</td>\n",
       "      <td>8                            new</td>\n",
       "      <td>8                          smart</td>\n",
       "      <td>8                         report</td>\n",
       "      <td>8                            wwa</td>\n",
       "      <td>8                         skills</td>\n",
       "      <td>8                           wall</td>\n",
       "      <td>8                        connect</td>\n",
       "      <td>8                          voice</td>\n",
       "    </tr>\n",
       "    <tr>\n",
       "      <th>9</th>\n",
       "      <td>9                         skills</td>\n",
       "      <td>9                            use</td>\n",
       "      <td>9                    development</td>\n",
       "      <td>9                       customer</td>\n",
       "      <td>9                            new</td>\n",
       "      <td>9                         simple</td>\n",
       "      <td>9                            new</td>\n",
       "      <td>9                           time</td>\n",
       "      <td>9                          cloud</td>\n",
       "      <td>9                            avs</td>\n",
       "    </tr>\n",
       "    <tr>\n",
       "      <th>10</th>\n",
       "      <td>10                   experiences</td>\n",
       "      <td>10                          code</td>\n",
       "      <td>10                        amazon</td>\n",
       "      <td>10                        coming</td>\n",
       "      <td>10                           use</td>\n",
       "      <td>10                          home</td>\n",
       "      <td>10                           use</td>\n",
       "      <td>10                         build</td>\n",
       "      <td>10                        amazon</td>\n",
       "      <td>10                          room</td>\n",
       "    </tr>\n",
       "    <tr>\n",
       "      <th>11</th>\n",
       "      <td>11                       devices</td>\n",
       "      <td>11                       product</td>\n",
       "      <td>11                       product</td>\n",
       "      <td>11                          soon</td>\n",
       "      <td>11                        enable</td>\n",
       "      <td>11                        amazon</td>\n",
       "      <td>11                           api</td>\n",
       "      <td>11                          wake</td>\n",
       "      <td>11                   development</td>\n",
       "      <td>11                           app</td>\n",
       "    </tr>\n",
       "    <tr>\n",
       "      <th>12</th>\n",
       "      <td>12                         smart</td>\n",
       "      <td>12                        sample</td>\n",
       "      <td>12                      products</td>\n",
       "      <td>12                        enable</td>\n",
       "      <td>12                          home</td>\n",
       "      <td>12                         setup</td>\n",
       "      <td>12                          home</td>\n",
       "      <td>12                      customer</td>\n",
       "      <td>12                        module</td>\n",
       "      <td>12                         music</td>\n",
       "    </tr>\n",
       "    <tr>\n",
       "      <th>13</th>\n",
       "      <td>13                           new</td>\n",
       "      <td>13                   application</td>\n",
       "      <td>13                         voice</td>\n",
       "      <td>13                          food</td>\n",
       "      <td>13                         smart</td>\n",
       "      <td>13                         smart</td>\n",
       "      <td>13                         smart</td>\n",
       "      <td>13                    interfaces</td>\n",
       "      <td>13                           kit</td>\n",
       "      <td>13                        amazon</td>\n",
       "    </tr>\n",
       "    <tr>\n",
       "      <th>14</th>\n",
       "      <td>14                         voice</td>\n",
       "      <td>14                           sdk</td>\n",
       "      <td>14                           avs</td>\n",
       "      <td>14                       cooking</td>\n",
       "      <td>14                       devices</td>\n",
       "      <td>14                       devices</td>\n",
       "      <td>14                         skill</td>\n",
       "      <td>14                          echo</td>\n",
       "      <td>14                           ack</td>\n",
       "      <td>14                       devices</td>\n",
       "    </tr>\n",
       "  </tbody>\n",
       "</table>\n",
       "</div>"
      ],
      "text/plain": [
       "0      THE TOP 15 WORDS FOR TOPIC #0     THE TOP 15 WORDS FOR TOPIC #1  \\\n",
       "0   0                         makers  0                        version   \n",
       "1   1                     technology  1                      interface   \n",
       "2   2                      announced  2                        support   \n",
       "3   3                     developers  3                         create   \n",
       "4   4                          build  4                          using   \n",
       "5   5                       products  5                           time   \n",
       "6   6                          built  6                            avs   \n",
       "7   7                           home  7                   capabilities   \n",
       "8   8                         amazon  8                            aws   \n",
       "9   9                         skills  9                            use   \n",
       "10  10                   experiences  10                          code   \n",
       "11  11                       devices  11                       product   \n",
       "12  12                         smart  12                        sample   \n",
       "13  13                           new  13                   application   \n",
       "14  14                         voice  14                           sdk   \n",
       "\n",
       "0      THE TOP 15 WORDS FOR TOPIC #2     THE TOP 15 WORDS FOR TOPIC #3  \\\n",
       "0   0                       solution  0                       commands   \n",
       "1   1                        enabled  1                           time   \n",
       "2   2                          bring  2                           mode   \n",
       "3   3                      developer  3                            new   \n",
       "4   4                          built  4                            use   \n",
       "5   5                            kit  5                        control   \n",
       "6   6                         makers  6                        devices   \n",
       "7   7                         access  7                            api   \n",
       "8   8                            new  8                          smart   \n",
       "9   9                    development  9                       customer   \n",
       "10  10                        amazon  10                        coming   \n",
       "11  11                       product  11                          soon   \n",
       "12  12                      products  12                        enable   \n",
       "13  13                         voice  13                          food   \n",
       "14  14                           avs  14                       cooking   \n",
       "\n",
       "0      THE TOP 15 WORDS FOR TOPIC #4     THE TOP 15 WORDS FOR TOPIC #5  \\\n",
       "0   0                           make  0                      certified   \n",
       "1   1                          power  1                            use   \n",
       "2   2                        control  2                             wi   \n",
       "3   3                          water  3                  certification   \n",
       "4   4                            api  4                       products   \n",
       "5   5                         lights  5                             fi   \n",
       "6   6                            app  6                       customer   \n",
       "7   7                       customer  7                            new   \n",
       "8   8                         report  8                            wwa   \n",
       "9   9                            new  9                         simple   \n",
       "10  10                           use  10                          home   \n",
       "11  11                        enable  11                        amazon   \n",
       "12  12                          home  12                         setup   \n",
       "13  13                         smart  13                         smart   \n",
       "14  14                       devices  14                       devices   \n",
       "\n",
       "0      THE TOP 15 WORDS FOR TOPIC #6     THE TOP 15 WORDS FOR TOPIC #7  \\\n",
       "0   0                       features  0                         create   \n",
       "1   1                         enable  1                          music   \n",
       "2   2                           like  2                          using   \n",
       "3   3                           mode  3                        respond   \n",
       "4   4                          using  4                           sent   \n",
       "5   5                        devices  5                      directive   \n",
       "6   6                        support  6                      interface   \n",
       "7   7                         custom  7                           uses   \n",
       "8   8                         skills  8                           wall   \n",
       "9   9                            new  9                           time   \n",
       "10  10                           use  10                         build   \n",
       "11  11                           api  11                          wake   \n",
       "12  12                          home  12                      customer   \n",
       "13  13                         smart  13                    interfaces   \n",
       "14  14                         skill  14                          echo   \n",
       "\n",
       "0      THE TOP 15 WORDS FOR TOPIC #8     THE TOP 15 WORDS FOR TOPIC #9  \n",
       "0   0                        managed  0                        example  \n",
       "1   1                         makers  1                      including  \n",
       "2   2                        service  2                           news  \n",
       "3   3                          using  3                           play  \n",
       "4   4                          smart  4                          built  \n",
       "5   5                        product  5                           just  \n",
       "6   6                            sdk  6                     experience  \n",
       "7   7                        devices  7                       customer  \n",
       "8   8                        connect  8                          voice  \n",
       "9   9                          cloud  9                            avs  \n",
       "10  10                        amazon  10                          room  \n",
       "11  11                   development  11                           app  \n",
       "12  12                        module  12                         music  \n",
       "13  13                           kit  13                        amazon  \n",
       "14  14                           ack  14                       devices  "
      ]
     },
     "execution_count": 45,
     "metadata": {},
     "output_type": "execute_result"
    }
   ],
   "source": [
    "df2 = pd.read_table('df.txt', header=None)\n",
    "import numpy as np\n",
    "arr = np.array(df2)\n",
    "dataframe = pd.DataFrame(arr.reshape((10, 16))).T\n",
    "headers = dataframe.iloc[0]\n",
    "new_df = pd.DataFrame(data=dataframe.values[1:], columns=headers)\n",
    "new_df"
   ]
  },
  {
   "cell_type": "code",
   "execution_count": 46,
   "metadata": {},
   "outputs": [],
   "source": [
    "topic_results = LDA.transform(dtm)"
   ]
  },
  {
   "cell_type": "code",
   "execution_count": 47,
   "metadata": {},
   "outputs": [
    {
     "data": {
      "text/plain": [
       "0"
      ]
     },
     "execution_count": 47,
     "metadata": {},
     "output_type": "execute_result"
    }
   ],
   "source": [
    "topic_results[0].argmax()"
   ]
  },
  {
   "cell_type": "code",
   "execution_count": 48,
   "metadata": {},
   "outputs": [],
   "source": [
    "df['Topic'] = topic_results.argmax(axis=1)"
   ]
  },
  {
   "cell_type": "code",
   "execution_count": 49,
   "metadata": {},
   "outputs": [],
   "source": [
    "new_df.to_excel('amazon_topic.xlsx', index=False)\n",
    "df.to_excel('amazon_final.xlsx', index=False)"
   ]
  }
 ],
 "metadata": {
  "interpreter": {
   "hash": "85ea59b576b4d42e5b007ccfc29f7533bd412890d47039184691991a9b14feb4"
  },
  "kernelspec": {
   "display_name": "Python 3.8.12 64-bit ('base': conda)",
   "language": "python",
   "name": "python3"
  },
  "language_info": {
   "codemirror_mode": {
    "name": "ipython",
    "version": 3
   },
   "file_extension": ".py",
   "mimetype": "text/x-python",
   "name": "python",
   "nbconvert_exporter": "python",
   "pygments_lexer": "ipython3",
   "version": "3.8.12"
  },
  "orig_nbformat": 4
 },
 "nbformat": 4,
 "nbformat_minor": 2
}
