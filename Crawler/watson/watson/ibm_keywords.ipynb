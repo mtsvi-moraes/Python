{
 "cells": [
  {
   "cell_type": "code",
   "execution_count": 2,
   "metadata": {
    "id": "ojv6zagSrRA_"
   },
   "outputs": [],
   "source": [
    "import pandas as pd\n",
    "import matplotlib.pyplot as plt\n",
    "import numpy as np\n",
    "import seaborn as sns\n",
    "import spacy\n",
    "from collections import Counter\n",
    "from string import punctuation\n",
    "from matplotlib import rcParams\n",
    "%matplotlib inline\n",
    "import os\n",
    "os.environ[\"KMP_DUPLICATE_LIB_OK\"]=\"TRUE\""
   ]
  },
  {
   "cell_type": "code",
   "execution_count": 7,
   "metadata": {
    "colab": {
     "base_uri": "https://localhost:8080/",
     "height": 173
    },
    "id": "u2QJJXqnrga7",
    "outputId": "4f373ebf-ae9b-47a2-a4fc-8ccb9251c862"
   },
   "outputs": [
    {
     "data": {
      "text/html": [
       "<div>\n",
       "<style scoped>\n",
       "    .dataframe tbody tr th:only-of-type {\n",
       "        vertical-align: middle;\n",
       "    }\n",
       "\n",
       "    .dataframe tbody tr th {\n",
       "        vertical-align: top;\n",
       "    }\n",
       "\n",
       "    .dataframe thead th {\n",
       "        text-align: right;\n",
       "    }\n",
       "</style>\n",
       "<table border=\"1\" class=\"dataframe\">\n",
       "  <thead>\n",
       "    <tr style=\"text-align: right;\">\n",
       "      <th></th>\n",
       "      <th>Article</th>\n",
       "      <th>Date</th>\n",
       "      <th>Link</th>\n",
       "    </tr>\n",
       "  </thead>\n",
       "  <tbody>\n",
       "    <tr>\n",
       "      <th>0</th>\n",
       "      <td>IBM Study: C-Suite Executives Declare One-Vend...</td>\n",
       "      <td>2021-10-28</td>\n",
       "      <td>https://newsroom.ibm.com/2021-10-28-IBM-Study-...</td>\n",
       "    </tr>\n",
       "    <tr>\n",
       "      <th>1</th>\n",
       "      <td>IBM Acquires Leading Adobe Workfront Consultancy</td>\n",
       "      <td>2021-10-19</td>\n",
       "      <td>https://newsroom.ibm.com/2021-10-19-IBM-Acquir...</td>\n",
       "    </tr>\n",
       "    <tr>\n",
       "      <th>2</th>\n",
       "      <td>Virgin Megastore in Saudi Arabia to Accelerate...</td>\n",
       "      <td>2021-10-13</td>\n",
       "      <td>https://newsroom.ibm.com/2021-10-13-Virgin-Meg...</td>\n",
       "    </tr>\n",
       "    <tr>\n",
       "      <th>3</th>\n",
       "      <td>IBM Reports 2021 Third-Quarter Results</td>\n",
       "      <td>2021-10-20</td>\n",
       "      <td>https://newsroom.ibm.com/2021-10-20-IBM-Report...</td>\n",
       "    </tr>\n",
       "    <tr>\n",
       "      <th>4</th>\n",
       "      <td>Leading Financial Institutions Publish Detaile...</td>\n",
       "      <td>2021-10-19</td>\n",
       "      <td>https://newsroom.ibm.com/2021-10-19-Leading-Fi...</td>\n",
       "    </tr>\n",
       "    <tr>\n",
       "      <th>...</th>\n",
       "      <td>...</td>\n",
       "      <td>...</td>\n",
       "      <td>...</td>\n",
       "    </tr>\n",
       "    <tr>\n",
       "      <th>3974</th>\n",
       "      <td>National Bank Financial Group Signs CDN$450-Mi...</td>\n",
       "      <td>2009-04-16</td>\n",
       "      <td>https://newsroom.ibm.com/2009-04-16-National-B...</td>\n",
       "    </tr>\n",
       "    <tr>\n",
       "      <th>3975</th>\n",
       "      <td>IBM Introduces Products and Services to Combat...</td>\n",
       "      <td>2009-04-21</td>\n",
       "      <td>https://newsroom.ibm.com/2009-04-21-IBM-Introd...</td>\n",
       "    </tr>\n",
       "    <tr>\n",
       "      <th>3976</th>\n",
       "      <td>Equifax Extends Technology Services Agreement ...</td>\n",
       "      <td>2009-04-17</td>\n",
       "      <td>https://newsroom.ibm.com/2009-04-17-Equifax-Ex...</td>\n",
       "    </tr>\n",
       "    <tr>\n",
       "      <th>3977</th>\n",
       "      <td>HDFC Bank Appoints IBM to Support Business Growth</td>\n",
       "      <td>2009-04-21</td>\n",
       "      <td>https://newsroom.ibm.com/2009-04-21-HDFC-Bank-...</td>\n",
       "    </tr>\n",
       "    <tr>\n",
       "      <th>3978</th>\n",
       "      <td>New IBM Study Highlights Exploding Demand for ...</td>\n",
       "      <td>2009-04-16</td>\n",
       "      <td>https://newsroom.ibm.com/2009-04-16-New-IBM-St...</td>\n",
       "    </tr>\n",
       "  </tbody>\n",
       "</table>\n",
       "<p>3979 rows × 3 columns</p>\n",
       "</div>"
      ],
      "text/plain": [
       "                                                Article       Date  \\\n",
       "0     IBM Study: C-Suite Executives Declare One-Vend... 2021-10-28   \n",
       "1      IBM Acquires Leading Adobe Workfront Consultancy 2021-10-19   \n",
       "2     Virgin Megastore in Saudi Arabia to Accelerate... 2021-10-13   \n",
       "3                IBM Reports 2021 Third-Quarter Results 2021-10-20   \n",
       "4     Leading Financial Institutions Publish Detaile... 2021-10-19   \n",
       "...                                                 ...        ...   \n",
       "3974  National Bank Financial Group Signs CDN$450-Mi... 2009-04-16   \n",
       "3975  IBM Introduces Products and Services to Combat... 2009-04-21   \n",
       "3976  Equifax Extends Technology Services Agreement ... 2009-04-17   \n",
       "3977  HDFC Bank Appoints IBM to Support Business Growth 2009-04-21   \n",
       "3978  New IBM Study Highlights Exploding Demand for ... 2009-04-16   \n",
       "\n",
       "                                                   Link  \n",
       "0     https://newsroom.ibm.com/2021-10-28-IBM-Study-...  \n",
       "1     https://newsroom.ibm.com/2021-10-19-IBM-Acquir...  \n",
       "2     https://newsroom.ibm.com/2021-10-13-Virgin-Meg...  \n",
       "3     https://newsroom.ibm.com/2021-10-20-IBM-Report...  \n",
       "4     https://newsroom.ibm.com/2021-10-19-Leading-Fi...  \n",
       "...                                                 ...  \n",
       "3974  https://newsroom.ibm.com/2009-04-16-National-B...  \n",
       "3975  https://newsroom.ibm.com/2009-04-21-IBM-Introd...  \n",
       "3976  https://newsroom.ibm.com/2009-04-17-Equifax-Ex...  \n",
       "3977  https://newsroom.ibm.com/2009-04-21-HDFC-Bank-...  \n",
       "3978  https://newsroom.ibm.com/2009-04-16-New-IBM-St...  \n",
       "\n",
       "[3979 rows x 3 columns]"
      ]
     },
     "execution_count": 7,
     "metadata": {},
     "output_type": "execute_result"
    }
   ],
   "source": [
    "messages = pd.read_json('ibm.json')\n",
    "messages"
   ]
  },
  {
   "cell_type": "code",
   "execution_count": 8,
   "metadata": {
    "id": "iiKZx7RPrjLQ"
   },
   "outputs": [],
   "source": [
    "nlp = spacy.load(\"en_core_web_sm\")"
   ]
  },
  {
   "cell_type": "code",
   "execution_count": 9,
   "metadata": {
    "id": "caZstaYernOa"
   },
   "outputs": [],
   "source": [
    "def get_hotwords(text):\n",
    "    result = []\n",
    "    pos_tag = ['PROPN', 'ADJ', 'NOUN']\n",
    "    doc = nlp(text.lower())\n",
    "    for token in doc:\n",
    "        \n",
    "        if(token.text in nlp.Defaults.stop_words or token.text in punctuation):\n",
    "            continue\n",
    "        \n",
    "        elif(token.pos_ in pos_tag):\n",
    "            result.append(token.text)\n",
    "                \n",
    "    return result"
   ]
  },
  {
   "cell_type": "code",
   "execution_count": 10,
   "metadata": {
    "id": "bKbyOvXrrq0J"
   },
   "outputs": [],
   "source": [
    "message_text = str(messages.Article.values)\n",
    "output = get_hotwords(message_text)\n",
    "words = [x for x in Counter(output).most_common(30)]"
   ]
  },
  {
   "cell_type": "code",
   "execution_count": 12,
   "metadata": {
    "colab": {
     "base_uri": "https://localhost:8080/",
     "height": 514
    },
    "id": "gaxBfKv5rxss",
    "outputId": "675f2a91-bdb7-4210-9ebb-c3b19b753303"
   },
   "outputs": [
    {
     "data": {
      "image/png": "[encoded data removed]",
      "text/plain": [
       "<Figure size 1440x1152 with 1 Axes>"
      ]
     },
     "metadata": {},
     "output_type": "display_data"
    }
   ],
   "source": [
    "df = pd.DataFrame(words, columns =['Most commom keywords', 'Amount'])\n",
    "rcParams['figure.figsize'] = 20,16\n",
    "sns.set_style('darkgrid')\n",
    "ax = sns.barplot(x='Amount', y='Most commom keywords', data= df[:10], palette='rocket', edgecolor='k')\n",
    "ax.set_title('IBM TOP 10 MOST COMMOM KEYWORDS BY FREQUENCY', fontsize=14, weight='bold')\n",
    "ax.set_xlabel('Amount')\n",
    "sns.despine();\n",
    "plt.savefig('ibm_keywords.png')"
   ]
  }
 ],
 "metadata": {
  "colab": {
   "name": "accenture_keywords.ipynb",
   "provenance": []
  },
  "kernelspec": {
   "display_name": "Python 3 (ipykernel)",
   "language": "python",
   "name": "python3"
  },
  "language_info": {
   "codemirror_mode": {
    "name": "ipython",
    "version": 3
   },
   "file_extension": ".py",
   "mimetype": "text/x-python",
   "name": "python",
   "nbconvert_exporter": "python",
   "pygments_lexer": "ipython3",
   "version": "3.8.12"
  }
 },
 "nbformat": 4,
 "nbformat_minor": 1
}
