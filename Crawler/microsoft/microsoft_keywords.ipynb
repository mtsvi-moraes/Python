{
 "cells": [
  {
   "cell_type": "code",
   "execution_count": 7,
   "metadata": {
    "id": "ojv6zagSrRA_"
   },
   "outputs": [],
   "source": [
    "import pandas as pd\n",
    "import matplotlib.pyplot as plt\n",
    "import numpy as np\n",
    "import seaborn as sns\n",
    "import spacy\n",
    "from collections import Counter\n",
    "from string import punctuation\n",
    "from matplotlib import rcParams\n",
    "%matplotlib inline\n",
    "import os\n",
    "os.environ[\"KMP_DUPLICATE_LIB_OK\"]=\"TRUE\""
   ]
  },
  {
   "cell_type": "code",
   "execution_count": 8,
   "metadata": {
    "colab": {
     "base_uri": "https://localhost:8080/",
     "height": 173
    },
    "id": "u2QJJXqnrga7",
    "outputId": "4f373ebf-ae9b-47a2-a4fc-8ccb9251c862"
   },
   "outputs": [
    {
     "data": {
      "text/html": [
       "<div>\n",
       "<style scoped>\n",
       "    .dataframe tbody tr th:only-of-type {\n",
       "        vertical-align: middle;\n",
       "    }\n",
       "\n",
       "    .dataframe tbody tr th {\n",
       "        vertical-align: top;\n",
       "    }\n",
       "\n",
       "    .dataframe thead th {\n",
       "        text-align: right;\n",
       "    }\n",
       "</style>\n",
       "<table border=\"1\" class=\"dataframe\">\n",
       "  <thead>\n",
       "    <tr style=\"text-align: right;\">\n",
       "      <th></th>\n",
       "      <th>Article</th>\n",
       "      <th>Date</th>\n",
       "      <th>Contributor</th>\n",
       "      <th>Role</th>\n",
       "    </tr>\n",
       "  </thead>\n",
       "  <tbody>\n",
       "    <tr>\n",
       "      <th>0</th>\n",
       "      <td>3 ways to enhance your cloud journey: break, p...</td>\n",
       "      <td>Posted on November 3, 2021</td>\n",
       "      <td>Omar Khan</td>\n",
       "      <td>General Manager, Microsoft Azure</td>\n",
       "    </tr>\n",
       "    <tr>\n",
       "      <th>1</th>\n",
       "      <td>Transform your business with Microsoft's unriv...</td>\n",
       "      <td>Posted on November 2, 2021</td>\n",
       "      <td>Rohan Kumar</td>\n",
       "      <td>Corporate Vice President, Azure Data</td>\n",
       "    </tr>\n",
       "    <tr>\n",
       "      <th>2</th>\n",
       "      <td>Innovate with cloud-native apps and open sourc...</td>\n",
       "      <td>Posted on November 2, 2021</td>\n",
       "      <td>Brendan Burns</td>\n",
       "      <td>Corporate Vice President, Azure Compute</td>\n",
       "    </tr>\n",
       "    <tr>\n",
       "      <th>3</th>\n",
       "      <td>Your hybrid, multicloud, and edge strategy jus...</td>\n",
       "      <td>Posted on November 2, 2021</td>\n",
       "      <td>Kathleen Mitford</td>\n",
       "      <td>Corporate Vice President, Azure Marketing</td>\n",
       "    </tr>\n",
       "    <tr>\n",
       "      <th>4</th>\n",
       "      <td>Key foundations for protecting your data with ...</td>\n",
       "      <td>Posted on November 2, 2021</td>\n",
       "      <td>Mark Russinovich</td>\n",
       "      <td>Chief Technology Officer and Technical Fellow,...</td>\n",
       "    </tr>\n",
       "    <tr>\n",
       "      <th>...</th>\n",
       "      <td>...</td>\n",
       "      <td>...</td>\n",
       "      <td>...</td>\n",
       "      <td>...</td>\n",
       "    </tr>\n",
       "    <tr>\n",
       "      <th>6031</th>\n",
       "      <td>Why customers, including SAP, choose Azure for...</td>\n",
       "      <td>Posted on June 9, 2021</td>\n",
       "      <td>Talal Alqinawi</td>\n",
       "      <td>Senior Director, Azure Marketing</td>\n",
       "    </tr>\n",
       "    <tr>\n",
       "      <th>6032</th>\n",
       "      <td>5 reasons to attend the Azure Hybrid and Multi...</td>\n",
       "      <td>Posted on June 9, 2021</td>\n",
       "      <td>Guillermo Gomez</td>\n",
       "      <td>Senior Product Marketing Manager</td>\n",
       "    </tr>\n",
       "    <tr>\n",
       "      <th>6033</th>\n",
       "      <td>Expanding cloud services: Microsoft launches i...</td>\n",
       "      <td>Posted on June 15, 2021</td>\n",
       "      <td>Noelle Walsh</td>\n",
       "      <td>Corporate Vice President, Cloud Operations + I...</td>\n",
       "    </tr>\n",
       "    <tr>\n",
       "      <th>6034</th>\n",
       "      <td>Unlocking the enterprise opportunity with 5G, ...</td>\n",
       "      <td>Posted on June 16, 2021</td>\n",
       "      <td>Tad Brockway</td>\n",
       "      <td>Corporate Vice President, Microsoft Azure for ...</td>\n",
       "    </tr>\n",
       "    <tr>\n",
       "      <th>6035</th>\n",
       "      <td>Optimize extreme computing performance with Az...</td>\n",
       "      <td>Posted on June 22, 2021</td>\n",
       "      <td>Andy Jia</td>\n",
       "      <td>Senior Program Manager</td>\n",
       "    </tr>\n",
       "  </tbody>\n",
       "</table>\n",
       "<p>6036 rows × 4 columns</p>\n",
       "</div>"
      ],
      "text/plain": [
       "                                                Article  \\\n",
       "0     3 ways to enhance your cloud journey: break, p...   \n",
       "1     Transform your business with Microsoft's unriv...   \n",
       "2     Innovate with cloud-native apps and open sourc...   \n",
       "3     Your hybrid, multicloud, and edge strategy jus...   \n",
       "4     Key foundations for protecting your data with ...   \n",
       "...                                                 ...   \n",
       "6031  Why customers, including SAP, choose Azure for...   \n",
       "6032  5 reasons to attend the Azure Hybrid and Multi...   \n",
       "6033  Expanding cloud services: Microsoft launches i...   \n",
       "6034  Unlocking the enterprise opportunity with 5G, ...   \n",
       "6035  Optimize extreme computing performance with Az...   \n",
       "\n",
       "                            Date       Contributor  \\\n",
       "0     Posted on November 3, 2021         Omar Khan   \n",
       "1     Posted on November 2, 2021       Rohan Kumar   \n",
       "2     Posted on November 2, 2021     Brendan Burns   \n",
       "3     Posted on November 2, 2021  Kathleen Mitford   \n",
       "4     Posted on November 2, 2021  Mark Russinovich   \n",
       "...                          ...               ...   \n",
       "6031      Posted on June 9, 2021    Talal Alqinawi   \n",
       "6032      Posted on June 9, 2021   Guillermo Gomez   \n",
       "6033     Posted on June 15, 2021      Noelle Walsh   \n",
       "6034     Posted on June 16, 2021      Tad Brockway   \n",
       "6035     Posted on June 22, 2021          Andy Jia   \n",
       "\n",
       "                                                   Role  \n",
       "0                      General Manager, Microsoft Azure  \n",
       "1                  Corporate Vice President, Azure Data  \n",
       "2               Corporate Vice President, Azure Compute  \n",
       "3             Corporate Vice President, Azure Marketing  \n",
       "4     Chief Technology Officer and Technical Fellow,...  \n",
       "...                                                 ...  \n",
       "6031                   Senior Director, Azure Marketing  \n",
       "6032                   Senior Product Marketing Manager  \n",
       "6033  Corporate Vice President, Cloud Operations + I...  \n",
       "6034  Corporate Vice President, Microsoft Azure for ...  \n",
       "6035                             Senior Program Manager  \n",
       "\n",
       "[6036 rows x 4 columns]"
      ]
     },
     "execution_count": 8,
     "metadata": {},
     "output_type": "execute_result"
    }
   ],
   "source": [
    "messages = pd.read_json('microsoft.json')\n",
    "messages"
   ]
  },
  {
   "cell_type": "code",
   "execution_count": 9,
   "metadata": {
    "id": "iiKZx7RPrjLQ"
   },
   "outputs": [],
   "source": [
    "nlp = spacy.load(\"en_core_web_sm\")"
   ]
  },
  {
   "cell_type": "code",
   "execution_count": 10,
   "metadata": {
    "id": "caZstaYernOa"
   },
   "outputs": [],
   "source": [
    "def get_hotwords(text):\n",
    "    result = []\n",
    "    pos_tag = ['PROPN', 'ADJ', 'NOUN']\n",
    "    doc = nlp(text.lower())\n",
    "    for token in doc:\n",
    "        \n",
    "        if(token.text in nlp.Defaults.stop_words or token.text in punctuation):\n",
    "            continue\n",
    "        \n",
    "        elif(token.pos_ in pos_tag):\n",
    "            result.append(token.text)\n",
    "                \n",
    "    return result"
   ]
  },
  {
   "cell_type": "code",
   "execution_count": 11,
   "metadata": {
    "id": "bKbyOvXrrq0J"
   },
   "outputs": [],
   "source": [
    "message_text = str(messages.Article.values)\n",
    "output = get_hotwords(message_text)\n",
    "words = [x for x in Counter(output).most_common(30)]"
   ]
  },
  {
   "cell_type": "code",
   "execution_count": 12,
   "metadata": {
    "colab": {
     "base_uri": "https://localhost:8080/",
     "height": 514
    },
    "id": "gaxBfKv5rxss",
    "outputId": "675f2a91-bdb7-4210-9ebb-c3b19b753303"
   },
   "outputs": [
    {
     "data": {
      "image/png": "[encoded data removed]",
      "text/plain": [
       "<Figure size 1440x1152 with 1 Axes>"
      ]
     },
     "metadata": {},
     "output_type": "display_data"
    }
   ],
   "source": [
    "df = pd.DataFrame(words, columns =['Most commom keywords', 'Amount'])\n",
    "rcParams['figure.figsize'] = 20,16\n",
    "sns.set_style('darkgrid')\n",
    "ax = sns.barplot(x='Amount', y='Most commom keywords', data= df[:10], palette='rocket', edgecolor='k')\n",
    "ax.set_title('MICROSOFT TOP 10 MOST COMMOM KEYWORDS BY FREQUENCY', fontsize=14, weight='bold')\n",
    "ax.set_xlabel('Amount')\n",
    "sns.despine();\n",
    "plt.savefig('microsoft_keywords.png')"
   ]
  },
  {
   "cell_type": "code",
   "execution_count": 13,
   "metadata": {},
   "outputs": [],
   "source": [
    "doc = list(nlp(message_text).noun_chunks)"
   ]
  },
  {
   "cell_type": "code",
   "execution_count": 15,
   "metadata": {},
   "outputs": [],
   "source": [
    "import sys\n",
    "\n",
    "orig_stdout = sys.stdout\n",
    "f = open(\n",
    "    'cloud.txt', 'w'\n",
    ")\n",
    "sys.stdout = f\n",
    "\n",
    "\n",
    "for token in doc:\n",
    "    if 'cloud' in str(token):\n",
    "        print(token)\n",
    "\n",
    "sys.stdout = orig_stdout\n",
    "f.close()"
   ]
  },
  {
   "cell_type": "code",
   "execution_count": 16,
   "metadata": {},
   "outputs": [
    {
     "data": {
      "text/html": [
       "<div>\n",
       "<style scoped>\n",
       "    .dataframe tbody tr th:only-of-type {\n",
       "        vertical-align: middle;\n",
       "    }\n",
       "\n",
       "    .dataframe tbody tr th {\n",
       "        vertical-align: top;\n",
       "    }\n",
       "\n",
       "    .dataframe thead th {\n",
       "        text-align: right;\n",
       "    }\n",
       "</style>\n",
       "<table border=\"1\" class=\"dataframe\">\n",
       "  <thead>\n",
       "    <tr style=\"text-align: right;\">\n",
       "      <th></th>\n",
       "      <th>Frequency</th>\n",
       "    </tr>\n",
       "    <tr>\n",
       "      <th>Term</th>\n",
       "      <th></th>\n",
       "    </tr>\n",
       "  </thead>\n",
       "  <tbody>\n",
       "    <tr>\n",
       "      <th>your cloud</th>\n",
       "      <td>1</td>\n",
       "    </tr>\n",
       "    <tr>\n",
       "      <th>cloud-native apps</th>\n",
       "      <td>1</td>\n",
       "    </tr>\n",
       "    <tr>\n",
       "      <th>cloud services</th>\n",
       "      <td>1</td>\n",
       "    </tr>\n",
       "    <tr>\n",
       "      <th>cloud</th>\n",
       "      <td>1</td>\n",
       "    </tr>\n",
       "  </tbody>\n",
       "</table>\n",
       "</div>"
      ],
      "text/plain": [
       "                   Frequency\n",
       "Term                        \n",
       "your cloud                 1\n",
       "cloud-native apps          1\n",
       "cloud services             1\n",
       "cloud                      1"
      ]
     },
     "execution_count": 16,
     "metadata": {},
     "output_type": "execute_result"
    }
   ],
   "source": [
    "df = pd.read_table(\n",
    "    'cloud.txt', \n",
    "    header=None\n",
    ")\n",
    "df.rename(\n",
    "    columns={\n",
    "        0: 'Cloud'\n",
    "    },\n",
    "    inplace=True, \n",
    "    errors='raise'\n",
    ")\n",
    "dff = pd.DataFrame(\n",
    "    data=df.Cloud.value_counts()\n",
    ").rename(\n",
    "    columns={'Cloud': 'Frequency'}\n",
    ").rename_axis(\n",
    "    'Term'\n",
    ")\n",
    "dff.head()"
   ]
  },
  {
   "cell_type": "code",
   "execution_count": 17,
   "metadata": {},
   "outputs": [
    {
     "data": {
      "image/png": "[encoded data removed]",
      "text/plain": [
       "<Figure size 1296x1080 with 1 Axes>"
      ]
     },
     "metadata": {},
     "output_type": "display_data"
    }
   ],
   "source": [
    "rcParams[\n",
    "    'figure.figsize'\n",
    "] = 18,15\n",
    "ax = sns.barplot(\n",
    "    data=dff[:5], \n",
    "    x=dff.index[:5], \n",
    "    y='Frequency', \n",
    "    palette='rocket', \n",
    "    edgecolor='k'\n",
    ")\n",
    "ax.set_title(\n",
    "    'TOP 5 MOST COMMOM KEYWORDS INSIDE CLOUD BY FREQUENCY', \n",
    "    fontsize=14, \n",
    "    weight='bold'\n",
    ")\n",
    "ax.set_xlabel(\n",
    "    'TERM'\n",
    ")\n",
    "plt.savefig(\n",
    "    'most_commom_keyword.png'\n",
    ")"
   ]
  },
  {
   "cell_type": "code",
   "execution_count": 20,
   "metadata": {},
   "outputs": [],
   "source": [
    "orig_stdout = sys.stdout\n",
    "f = open(\n",
    "    'azure.txt', 'w'\n",
    ")\n",
    "sys.stdout = f\n",
    "\n",
    "\n",
    "for token in doc:\n",
    "    if 'Azure' in str(token):\n",
    "        print(token)\n",
    "\n",
    "sys.stdout = orig_stdout\n",
    "f.close()"
   ]
  },
  {
   "cell_type": "code",
   "execution_count": 21,
   "metadata": {},
   "outputs": [
    {
     "data": {
      "text/html": [
       "<div>\n",
       "<style scoped>\n",
       "    .dataframe tbody tr th:only-of-type {\n",
       "        vertical-align: middle;\n",
       "    }\n",
       "\n",
       "    .dataframe tbody tr th {\n",
       "        vertical-align: top;\n",
       "    }\n",
       "\n",
       "    .dataframe thead th {\n",
       "        text-align: right;\n",
       "    }\n",
       "</style>\n",
       "<table border=\"1\" class=\"dataframe\">\n",
       "  <thead>\n",
       "    <tr style=\"text-align: right;\">\n",
       "      <th></th>\n",
       "      <th>Frequency</th>\n",
       "    </tr>\n",
       "    <tr>\n",
       "      <th>Term</th>\n",
       "      <th></th>\n",
       "    </tr>\n",
       "  </thead>\n",
       "  <tbody>\n",
       "    <tr>\n",
       "      <th>Azure</th>\n",
       "      <td>2</td>\n",
       "    </tr>\n",
       "    <tr>\n",
       "      <th>Azure FX-series Virtual Machines</th>\n",
       "      <td>1</td>\n",
       "    </tr>\n",
       "  </tbody>\n",
       "</table>\n",
       "</div>"
      ],
      "text/plain": [
       "                                  Frequency\n",
       "Term                                       \n",
       "Azure                                     2\n",
       "Azure FX-series Virtual Machines          1"
      ]
     },
     "execution_count": 21,
     "metadata": {},
     "output_type": "execute_result"
    }
   ],
   "source": [
    "df2 = pd.read_table(\n",
    "    'azure.txt', \n",
    "    header=None\n",
    ")\n",
    "df2.rename(\n",
    "    columns={\n",
    "        0: 'Azure'\n",
    "    },\n",
    "    inplace=True, \n",
    "    errors='raise'\n",
    ")\n",
    "dff2 = pd.DataFrame(\n",
    "    data=df2.Azure.value_counts()\n",
    ").rename(\n",
    "    columns={'Azure': 'Frequency'}\n",
    ").rename_axis(\n",
    "    'Term'\n",
    ")\n",
    "dff2.head()"
   ]
  },
  {
   "cell_type": "code",
   "execution_count": 22,
   "metadata": {},
   "outputs": [
    {
     "data": {
      "image/png": "[encoded data removed]",
      "text/plain": [
       "<Figure size 1296x1080 with 1 Axes>"
      ]
     },
     "metadata": {},
     "output_type": "display_data"
    }
   ],
   "source": [
    "rcParams[\n",
    "    'figure.figsize'\n",
    "] = 18,15\n",
    "ax = sns.barplot(\n",
    "    data=dff2[:5], \n",
    "    x=dff2.index[:5], \n",
    "    y='Frequency', \n",
    "    palette='rocket', \n",
    "    edgecolor='k'\n",
    ")\n",
    "ax.set_title(\n",
    "    'TOP 2 MOST COMMOM KEYWORDS INSIDE AZURE BY FREQUENCY', \n",
    "    fontsize=14, \n",
    "    weight='bold'\n",
    ")\n",
    "ax.set_xlabel(\n",
    "    'TERM'\n",
    ")\n",
    "plt.savefig(\n",
    "    'second_most_commom_keyword.png'\n",
    ")"
   ]
  },
  {
   "cell_type": "code",
   "execution_count": 24,
   "metadata": {},
   "outputs": [],
   "source": [
    "\n",
    "orig_stdout = sys.stdout\n",
    "f = open(\n",
    "    'apps.txt', 'w'\n",
    ")\n",
    "sys.stdout = f\n",
    "\n",
    "\n",
    "for token in doc:\n",
    "    if 'apps' in str(token):\n",
    "        print(token)\n",
    "\n",
    "sys.stdout = orig_stdout\n",
    "f.close()"
   ]
  },
  {
   "cell_type": "code",
   "execution_count": 26,
   "metadata": {},
   "outputs": [
    {
     "data": {
      "text/html": [
       "<div>\n",
       "<style scoped>\n",
       "    .dataframe tbody tr th:only-of-type {\n",
       "        vertical-align: middle;\n",
       "    }\n",
       "\n",
       "    .dataframe tbody tr th {\n",
       "        vertical-align: top;\n",
       "    }\n",
       "\n",
       "    .dataframe thead th {\n",
       "        text-align: right;\n",
       "    }\n",
       "</style>\n",
       "<table border=\"1\" class=\"dataframe\">\n",
       "  <thead>\n",
       "    <tr style=\"text-align: right;\">\n",
       "      <th></th>\n",
       "      <th>Frequency</th>\n",
       "    </tr>\n",
       "    <tr>\n",
       "      <th>Term</th>\n",
       "      <th></th>\n",
       "    </tr>\n",
       "  </thead>\n",
       "  <tbody>\n",
       "    <tr>\n",
       "      <th>your apps</th>\n",
       "      <td>1</td>\n",
       "    </tr>\n",
       "    <tr>\n",
       "      <th>cloud-native apps</th>\n",
       "      <td>1</td>\n",
       "    </tr>\n",
       "  </tbody>\n",
       "</table>\n",
       "</div>"
      ],
      "text/plain": [
       "                   Frequency\n",
       "Term                        \n",
       "your apps                  1\n",
       "cloud-native apps          1"
      ]
     },
     "execution_count": 26,
     "metadata": {},
     "output_type": "execute_result"
    }
   ],
   "source": [
    "df3 = pd.read_table(\n",
    "    'apps.txt', \n",
    "    header=None\n",
    ")\n",
    "df3.rename(\n",
    "    columns={\n",
    "        0: 'Apps'\n",
    "    },\n",
    "    inplace=True, \n",
    "    errors='raise'\n",
    ")\n",
    "dff3 = pd.DataFrame(\n",
    "    data=df3.Apps.value_counts()\n",
    ").rename(\n",
    "    columns={'Apps': 'Frequency'}\n",
    ").rename_axis(\n",
    "    'Term'\n",
    ")\n",
    "dff3.head()"
   ]
  },
  {
   "cell_type": "code",
   "execution_count": 27,
   "metadata": {},
   "outputs": [
    {
     "data": {
      "image/png": "[encoded data removed]",
      "text/plain": [
       "<Figure size 1296x1080 with 1 Axes>"
      ]
     },
     "metadata": {},
     "output_type": "display_data"
    }
   ],
   "source": [
    "rcParams[\n",
    "    'figure.figsize'\n",
    "] = 18,15\n",
    "ax = sns.barplot(\n",
    "    data=dff3[:5], \n",
    "    x=dff3.index[:5], \n",
    "    y='Frequency', \n",
    "    palette='rocket', \n",
    "    edgecolor='k'\n",
    ")\n",
    "ax.set_title(\n",
    "    'TOP 2 MOST COMMOM KEYWORDS INSIDE APPS BY FREQUENCY', \n",
    "    fontsize=14, \n",
    "    weight='bold'\n",
    ")\n",
    "ax.set_xlabel(\n",
    "    'TERM'\n",
    ")\n",
    "plt.savefig(\n",
    "    'third_most_commom_keyword.png'\n",
    ")"
   ]
  },
  {
   "cell_type": "code",
   "execution_count": 30,
   "metadata": {},
   "outputs": [],
   "source": [
    "orig_stdout = sys.stdout\n",
    "f = open(\n",
    "    'microsoft.txt', 'w'\n",
    ")\n",
    "sys.stdout = f\n",
    "\n",
    "\n",
    "for token in doc:\n",
    "    if 'Microsoft' in str(token):\n",
    "        print(token)\n",
    "\n",
    "sys.stdout = orig_stdout\n",
    "f.close()"
   ]
  },
  {
   "cell_type": "code",
   "execution_count": 31,
   "metadata": {},
   "outputs": [
    {
     "data": {
      "text/html": [
       "<div>\n",
       "<style scoped>\n",
       "    .dataframe tbody tr th:only-of-type {\n",
       "        vertical-align: middle;\n",
       "    }\n",
       "\n",
       "    .dataframe tbody tr th {\n",
       "        vertical-align: top;\n",
       "    }\n",
       "\n",
       "    .dataframe thead th {\n",
       "        text-align: right;\n",
       "    }\n",
       "</style>\n",
       "<table border=\"1\" class=\"dataframe\">\n",
       "  <thead>\n",
       "    <tr style=\"text-align: right;\">\n",
       "      <th></th>\n",
       "      <th>Frequency</th>\n",
       "    </tr>\n",
       "    <tr>\n",
       "      <th>Term</th>\n",
       "      <th></th>\n",
       "    </tr>\n",
       "  </thead>\n",
       "  <tbody>\n",
       "    <tr>\n",
       "      <th>Microsoft</th>\n",
       "      <td>1</td>\n",
       "    </tr>\n",
       "  </tbody>\n",
       "</table>\n",
       "</div>"
      ],
      "text/plain": [
       "           Frequency\n",
       "Term                \n",
       "Microsoft          1"
      ]
     },
     "execution_count": 31,
     "metadata": {},
     "output_type": "execute_result"
    }
   ],
   "source": [
    "df4 = pd.read_table(\n",
    "    'microsoft.txt', \n",
    "    header=None\n",
    ")\n",
    "df4.rename(\n",
    "    columns={\n",
    "        0: 'Microsoft'\n",
    "    },\n",
    "    inplace=True, \n",
    "    errors='raise'\n",
    ")\n",
    "dff4 = pd.DataFrame(\n",
    "    data=df4.Microsoft.value_counts()\n",
    ").rename(\n",
    "    columns={'Microsoft': 'Frequency'}\n",
    ").rename_axis(\n",
    "    'Term'\n",
    ")\n",
    "dff4.head()"
   ]
  },
  {
   "cell_type": "code",
   "execution_count": 32,
   "metadata": {},
   "outputs": [
    {
     "data": {
      "image/png": "[encoded data removed]",
      "text/plain": [
       "<Figure size 1296x1080 with 1 Axes>"
      ]
     },
     "metadata": {},
     "output_type": "display_data"
    }
   ],
   "source": [
    "rcParams[\n",
    "    'figure.figsize'\n",
    "] = 18,15\n",
    "ax = sns.barplot(\n",
    "    data=dff4[:5], \n",
    "    x=dff4.index[:5], \n",
    "    y='Frequency', \n",
    "    palette='rocket', \n",
    "    edgecolor='k'\n",
    ")\n",
    "ax.set_title(\n",
    "    'TOP MOST COMMOM KEYWORDS INSIDE MICROSOFT BY FREQUENCY', \n",
    "    fontsize=14, \n",
    "    weight='bold'\n",
    ")\n",
    "ax.set_xlabel(\n",
    "    'TERM'\n",
    ")\n",
    "plt.savefig(\n",
    "    'fourth_most_commom_keyword.png'\n",
    ")"
   ]
  },
  {
   "cell_type": "code",
   "execution_count": 35,
   "metadata": {},
   "outputs": [],
   "source": [
    "orig_stdout = sys.stdout\n",
    "f = open(\n",
    "    'end.txt', 'w'\n",
    ")\n",
    "sys.stdout = f\n",
    "\n",
    "\n",
    "for token in doc:\n",
    "    if 'end' in str(token):\n",
    "        print(token)\n",
    "\n",
    "sys.stdout = orig_stdout\n",
    "f.close()"
   ]
  },
  {
   "cell_type": "code",
   "execution_count": 36,
   "metadata": {},
   "outputs": [
    {
     "data": {
      "text/html": [
       "<div>\n",
       "<style scoped>\n",
       "    .dataframe tbody tr th:only-of-type {\n",
       "        vertical-align: middle;\n",
       "    }\n",
       "\n",
       "    .dataframe tbody tr th {\n",
       "        vertical-align: top;\n",
       "    }\n",
       "\n",
       "    .dataframe thead th {\n",
       "        text-align: right;\n",
       "    }\n",
       "</style>\n",
       "<table border=\"1\" class=\"dataframe\">\n",
       "  <thead>\n",
       "    <tr style=\"text-align: right;\">\n",
       "      <th></th>\n",
       "      <th>Frequency</th>\n",
       "    </tr>\n",
       "    <tr>\n",
       "      <th>Term</th>\n",
       "      <th></th>\n",
       "    </tr>\n",
       "  </thead>\n",
       "  <tbody>\n",
       "    <tr>\n",
       "      <th>end</th>\n",
       "      <td>1</td>\n",
       "    </tr>\n",
       "  </tbody>\n",
       "</table>\n",
       "</div>"
      ],
      "text/plain": [
       "      Frequency\n",
       "Term           \n",
       "end           1"
      ]
     },
     "execution_count": 36,
     "metadata": {},
     "output_type": "execute_result"
    }
   ],
   "source": [
    "df5 = pd.read_table(\n",
    "    'end.txt', \n",
    "    header=None\n",
    ")\n",
    "df5.rename(\n",
    "    columns={\n",
    "        0: 'End'\n",
    "    },\n",
    "    inplace=True, \n",
    "    errors='raise'\n",
    ")\n",
    "dff5 = pd.DataFrame(\n",
    "    data=df5.End.value_counts()\n",
    ").rename(\n",
    "    columns={'End': 'Frequency'}\n",
    ").rename_axis(\n",
    "    'Term'\n",
    ")\n",
    "dff5.head()"
   ]
  },
  {
   "cell_type": "code",
   "execution_count": 37,
   "metadata": {},
   "outputs": [
    {
     "data": {
      "image/png": "[encoded data removed]",
      "text/plain": [
       "<Figure size 1296x1080 with 1 Axes>"
      ]
     },
     "metadata": {},
     "output_type": "display_data"
    }
   ],
   "source": [
    "rcParams[\n",
    "    'figure.figsize'\n",
    "] = 18,15\n",
    "ax = sns.barplot(\n",
    "    data=dff5[:5], \n",
    "    x=dff5.index[:5], \n",
    "    y='Frequency', \n",
    "    palette='rocket', \n",
    "    edgecolor='k'\n",
    ")\n",
    "ax.set_title(\n",
    "    'TOP MOST COMMOM KEYWORDS INSIDE END BY FREQUENCY', \n",
    "    fontsize=14, \n",
    "    weight='bold'\n",
    ")\n",
    "ax.set_xlabel(\n",
    "    'TERM'\n",
    ")\n",
    "plt.savefig(\n",
    "    'fifth_most_commom_keyword.png'\n",
    ")"
   ]
  },
  {
   "cell_type": "code",
   "execution_count": 41,
   "metadata": {},
   "outputs": [],
   "source": [
    "orig_stdout = sys.stdout\n",
    "f = open(\n",
    "    'journey.txt', 'w'\n",
    ")\n",
    "sys.stdout = f\n",
    "\n",
    "\n",
    "for token in doc:\n",
    "    if 'journey' in str(token):\n",
    "        print(token)\n",
    "\n",
    "sys.stdout = orig_stdout\n",
    "f.close()"
   ]
  },
  {
   "cell_type": "code",
   "execution_count": 42,
   "metadata": {},
   "outputs": [
    {
     "data": {
      "text/html": [
       "<div>\n",
       "<style scoped>\n",
       "    .dataframe tbody tr th:only-of-type {\n",
       "        vertical-align: middle;\n",
       "    }\n",
       "\n",
       "    .dataframe tbody tr th {\n",
       "        vertical-align: top;\n",
       "    }\n",
       "\n",
       "    .dataframe thead th {\n",
       "        text-align: right;\n",
       "    }\n",
       "</style>\n",
       "<table border=\"1\" class=\"dataframe\">\n",
       "  <thead>\n",
       "    <tr style=\"text-align: right;\">\n",
       "      <th></th>\n",
       "      <th>Frequency</th>\n",
       "    </tr>\n",
       "    <tr>\n",
       "      <th>Term</th>\n",
       "      <th></th>\n",
       "    </tr>\n",
       "  </thead>\n",
       "  <tbody>\n",
       "    <tr>\n",
       "      <th>journey</th>\n",
       "      <td>1</td>\n",
       "    </tr>\n",
       "  </tbody>\n",
       "</table>\n",
       "</div>"
      ],
      "text/plain": [
       "         Frequency\n",
       "Term              \n",
       "journey          1"
      ]
     },
     "execution_count": 42,
     "metadata": {},
     "output_type": "execute_result"
    }
   ],
   "source": [
    "df6 = pd.read_table(\n",
    "    'journey.txt', \n",
    "    header=None\n",
    ")\n",
    "df6.rename(\n",
    "    columns={\n",
    "        0: 'Journey'\n",
    "    },\n",
    "    inplace=True, \n",
    "    errors='raise'\n",
    ")\n",
    "dff6 = pd.DataFrame(\n",
    "    data=df6.Journey.value_counts()\n",
    ").rename(\n",
    "    columns={'Journey': 'Frequency'}\n",
    ").rename_axis(\n",
    "    'Term'\n",
    ")\n",
    "dff6.head()"
   ]
  },
  {
   "cell_type": "code",
   "execution_count": 43,
   "metadata": {},
   "outputs": [
    {
     "data": {
      "image/png": "[encoded data removed]",
      "text/plain": [
       "<Figure size 1296x1080 with 1 Axes>"
      ]
     },
     "metadata": {},
     "output_type": "display_data"
    }
   ],
   "source": [
    "rcParams[\n",
    "    'figure.figsize'\n",
    "] = 18,15\n",
    "ax = sns.barplot(\n",
    "    data=dff6[:5], \n",
    "    x=dff6.index[:5], \n",
    "    y='Frequency', \n",
    "    palette='rocket', \n",
    "    edgecolor='k'\n",
    ")\n",
    "ax.set_title(\n",
    "    'TOP MOST COMMOM KEYWORDS INSIDE AI BY FREQUENCY', \n",
    "    fontsize=14, \n",
    "    weight='bold'\n",
    ")\n",
    "ax.set_xlabel(\n",
    "    'TERM'\n",
    ")\n",
    "plt.savefig(\n",
    "    'sixth_most_commom_keyword.png'\n",
    ")"
   ]
  },
  {
   "cell_type": "code",
   "execution_count": 46,
   "metadata": {},
   "outputs": [],
   "source": [
    "orig_stdout = sys.stdout\n",
    "f = open(\n",
    "    'business.txt', 'w'\n",
    ")\n",
    "sys.stdout = f\n",
    "\n",
    "\n",
    "for token in doc:\n",
    "    if 'business' in str(token):\n",
    "        print(token)\n",
    "\n",
    "sys.stdout = orig_stdout\n",
    "f.close()"
   ]
  },
  {
   "cell_type": "code",
   "execution_count": 48,
   "metadata": {},
   "outputs": [
    {
     "data": {
      "text/html": [
       "<div>\n",
       "<style scoped>\n",
       "    .dataframe tbody tr th:only-of-type {\n",
       "        vertical-align: middle;\n",
       "    }\n",
       "\n",
       "    .dataframe tbody tr th {\n",
       "        vertical-align: top;\n",
       "    }\n",
       "\n",
       "    .dataframe thead th {\n",
       "        text-align: right;\n",
       "    }\n",
       "</style>\n",
       "<table border=\"1\" class=\"dataframe\">\n",
       "  <thead>\n",
       "    <tr style=\"text-align: right;\">\n",
       "      <th></th>\n",
       "      <th>Frequency</th>\n",
       "    </tr>\n",
       "    <tr>\n",
       "      <th>Term</th>\n",
       "      <th></th>\n",
       "    </tr>\n",
       "  </thead>\n",
       "  <tbody>\n",
       "    <tr>\n",
       "      <th>your business</th>\n",
       "      <td>1</td>\n",
       "    </tr>\n",
       "  </tbody>\n",
       "</table>\n",
       "</div>"
      ],
      "text/plain": [
       "               Frequency\n",
       "Term                    \n",
       "your business          1"
      ]
     },
     "execution_count": 48,
     "metadata": {},
     "output_type": "execute_result"
    }
   ],
   "source": [
    "df7 = pd.read_table(\n",
    "    'business.txt', \n",
    "    header=None\n",
    ")\n",
    "df7.rename(\n",
    "    columns={\n",
    "        0: 'Business'\n",
    "    },\n",
    "    inplace=True, \n",
    "    errors='raise'\n",
    ")\n",
    "dff7 = pd.DataFrame(\n",
    "    data=df7.Business.value_counts()\n",
    ").rename(\n",
    "    columns={'Business': 'Frequency'}\n",
    ").rename_axis(\n",
    "    'Term'\n",
    ")\n",
    "dff7.head()"
   ]
  },
  {
   "cell_type": "code",
   "execution_count": 50,
   "metadata": {},
   "outputs": [
    {
     "data": {
      "image/png": "[encoded data removed]",
      "text/plain": [
       "<Figure size 1296x1080 with 1 Axes>"
      ]
     },
     "metadata": {},
     "output_type": "display_data"
    }
   ],
   "source": [
    "rcParams[\n",
    "    'figure.figsize'\n",
    "] = 18,15\n",
    "ax = sns.barplot(\n",
    "    data=dff7[:5], \n",
    "    x=dff7.index[:5], \n",
    "    y='Frequency', \n",
    "    palette='rocket', \n",
    "    edgecolor='k'\n",
    ")\n",
    "ax.set_title(\n",
    "    'TOP MOST COMMOM KEYWORDS INSIDE BUSINESS BY FREQUENCY', \n",
    "    fontsize=14, \n",
    "    weight='bold'\n",
    ")\n",
    "ax.set_xlabel(\n",
    "    'TERM'\n",
    ")\n",
    "plt.savefig(\n",
    "    'seventh_most_commom_keyword.png'\n",
    ")"
   ]
  }
 ],
 "metadata": {
  "colab": {
   "name": "accenture_keywords.ipynb",
   "provenance": []
  },
  "kernelspec": {
   "display_name": "Python 3 (ipykernel)",
   "language": "python",
   "name": "python3"
  },
  "language_info": {
   "codemirror_mode": {
    "name": "ipython",
    "version": 3
   },
   "file_extension": ".py",
   "mimetype": "text/x-python",
   "name": "python",
   "nbconvert_exporter": "python",
   "pygments_lexer": "ipython3",
   "version": "3.8.11"
  }
 },
 "nbformat": 4,
 "nbformat_minor": 1
}
