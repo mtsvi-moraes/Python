{
 "cells": [
  {
   "cell_type": "code",
   "execution_count": 1,
   "metadata": {
    "id": "ojv6zagSrRA_"
   },
   "outputs": [],
   "source": [
    "import pandas as pd\n",
    "import matplotlib.pyplot as plt\n",
    "import numpy as np\n",
    "import seaborn as sns\n",
    "import spacy\n",
    "from collections import Counter\n",
    "from string import punctuation\n",
    "from matplotlib import rcParams\n",
    "%matplotlib inline\n",
    "import os\n",
    "os.environ[\"KMP_DUPLICATE_LIB_OK\"]=\"TRUE\""
   ]
  },
  {
   "cell_type": "code",
   "execution_count": 2,
   "metadata": {
    "colab": {
     "base_uri": "https://localhost:8080/",
     "height": 173
    },
    "id": "u2QJJXqnrga7",
    "outputId": "4f373ebf-ae9b-47a2-a4fc-8ccb9251c862"
   },
   "outputs": [
    {
     "data": {
      "text/html": [
       "<div>\n",
       "<style scoped>\n",
       "    .dataframe tbody tr th:only-of-type {\n",
       "        vertical-align: middle;\n",
       "    }\n",
       "\n",
       "    .dataframe tbody tr th {\n",
       "        vertical-align: top;\n",
       "    }\n",
       "\n",
       "    .dataframe thead th {\n",
       "        text-align: right;\n",
       "    }\n",
       "</style>\n",
       "<table border=\"1\" class=\"dataframe\">\n",
       "  <thead>\n",
       "    <tr style=\"text-align: right;\">\n",
       "      <th></th>\n",
       "      <th>Title</th>\n",
       "      <th>Date</th>\n",
       "      <th>Contributor</th>\n",
       "      <th>Content</th>\n",
       "      <th>link</th>\n",
       "      <th>Role</th>\n",
       "    </tr>\n",
       "  </thead>\n",
       "  <tbody>\n",
       "    <tr>\n",
       "      <th>0</th>\n",
       "      <td>Apple charges forward to 2030 carbon neutral g...</td>\n",
       "      <td>2021-10-27</td>\n",
       "      <td>[Keri Fulton, Apple Media Helpline]</td>\n",
       "      <td>PRESS RELEASEOctober 27, 2021                 ...</td>\n",
       "      <td>https://www.apple.com/newsroom/2021/10/apple-c...</td>\n",
       "      <td>Press Contact</td>\n",
       "    </tr>\n",
       "    <tr>\n",
       "      <th>1</th>\n",
       "      <td>Apple introduces Apple Business Essentials</td>\n",
       "      <td>2021-11-10</td>\n",
       "      <td>[Jessica Reeves, Todd Wilder, Apple Media Help...</td>\n",
       "      <td>PRESS RELEASENovember 10, 2021                ...</td>\n",
       "      <td>https://www.apple.com/newsroom/2021/11/apple-i...</td>\n",
       "      <td>Press Contact</td>\n",
       "    </tr>\n",
       "    <tr>\n",
       "      <th>2</th>\n",
       "      <td>Holiday season kicks off at Apple</td>\n",
       "      <td>2021-11-09</td>\n",
       "      <td>[Gabi Condarco-Quesada, Nick Leahy, Apple Medi...</td>\n",
       "      <td>UPDATENovember 9, 2021                        ...</td>\n",
       "      <td>https://www.apple.com/newsroom/2021/11/holiday...</td>\n",
       "      <td>Press Contact</td>\n",
       "    </tr>\n",
       "    <tr>\n",
       "      <th>3</th>\n",
       "      <td>Apple Reports Fourth Quarter Results</td>\n",
       "      <td>2021-10-28</td>\n",
       "      <td>[Josh Rosenstock, Tejas Gala]</td>\n",
       "      <td>PRESS RELEASEOctober 28, 2021                 ...</td>\n",
       "      <td>https://www.apple.com/newsroom/2021/10/apple-r...</td>\n",
       "      <td>Press Contact</td>\n",
       "    </tr>\n",
       "    <tr>\n",
       "      <th>4</th>\n",
       "      <td>Apple honors and celebrates American veterans</td>\n",
       "      <td>2021-11-11</td>\n",
       "      <td>[Clare Varellas, Rachel Wolf Tulley, Apple Med...</td>\n",
       "      <td>UPDATENovember 11, 2021                       ...</td>\n",
       "      <td>https://www.apple.com/newsroom/2021/11/apple-h...</td>\n",
       "      <td>Press Contact</td>\n",
       "    </tr>\n",
       "    <tr>\n",
       "      <th>...</th>\n",
       "      <td>...</td>\n",
       "      <td>...</td>\n",
       "      <td>...</td>\n",
       "      <td>...</td>\n",
       "      <td>...</td>\n",
       "      <td>...</td>\n",
       "    </tr>\n",
       "    <tr>\n",
       "      <th>1815</th>\n",
       "      <td>Apple Teams with Kanisa for e-Service</td>\n",
       "      <td>2000-04-05</td>\n",
       "      <td>[Alec Rosen, Keith Goldberg, Kanisa Inc.]</td>\n",
       "      <td>PRESS RELEASEApril 5, 2000                    ...</td>\n",
       "      <td>https://www.apple.com/newsroom/2000/04/05Apple...</td>\n",
       "      <td>Press Contact</td>\n",
       "    </tr>\n",
       "    <tr>\n",
       "      <th>1816</th>\n",
       "      <td>Apple’s QuickTime 4 Downloads Top 32 Million a...</td>\n",
       "      <td>2000-04-05</td>\n",
       "      <td>[Vanessa Rios, Bob Berger, Edelman Worldwide]</td>\n",
       "      <td>PRESS RELEASEApril 5, 2000                    ...</td>\n",
       "      <td>https://www.apple.com/newsroom/2000/04/05Apple...</td>\n",
       "      <td>Press Contact</td>\n",
       "    </tr>\n",
       "    <tr>\n",
       "      <th>1817</th>\n",
       "      <td>Apple Acquires DVD Authoring Technology, Produ...</td>\n",
       "      <td>2000-04-10</td>\n",
       "      <td>[Matt Hutchison]</td>\n",
       "      <td>PRESS RELEASEApril 10, 2000                   ...</td>\n",
       "      <td>https://www.apple.com/newsroom/2000/04/10Apple...</td>\n",
       "      <td>Press Contact</td>\n",
       "    </tr>\n",
       "    <tr>\n",
       "      <th>1818</th>\n",
       "      <td>Apple Unveils Mac OS X and Internet Strategy a...</td>\n",
       "      <td>2000-01-05</td>\n",
       "      <td>[Matt Hutchison, Rhona Hamilton]</td>\n",
       "      <td>PRESS RELEASEJanuary 5, 2000                  ...</td>\n",
       "      <td>https://www.apple.com/newsroom/2000/01/05Apple...</td>\n",
       "      <td>Press Contact</td>\n",
       "    </tr>\n",
       "    <tr>\n",
       "      <th>1819</th>\n",
       "      <td>Apple's QuickTime TV Network Scores Super Bowl...</td>\n",
       "      <td>2000-01-24</td>\n",
       "      <td>[Matt Hutchison, Bob Berger, Edelman Worldwide]</td>\n",
       "      <td>PRESS RELEASEJanuary 24, 2000                 ...</td>\n",
       "      <td>https://www.apple.com/newsroom/2000/01/24Apple...</td>\n",
       "      <td>Press Contact</td>\n",
       "    </tr>\n",
       "  </tbody>\n",
       "</table>\n",
       "<p>1820 rows × 6 columns</p>\n",
       "</div>"
      ],
      "text/plain": [
       "                                                  Title       Date  \\\n",
       "0     Apple charges forward to 2030 carbon neutral g... 2021-10-27   \n",
       "1            Apple introduces Apple Business Essentials 2021-11-10   \n",
       "2                     Holiday season kicks off at Apple 2021-11-09   \n",
       "3                  Apple Reports Fourth Quarter Results 2021-10-28   \n",
       "4         Apple honors and celebrates American veterans 2021-11-11   \n",
       "...                                                 ...        ...   \n",
       "1815              Apple Teams with Kanisa for e-Service 2000-04-05   \n",
       "1816  Apple’s QuickTime 4 Downloads Top 32 Million a... 2000-04-05   \n",
       "1817  Apple Acquires DVD Authoring Technology, Produ... 2000-04-10   \n",
       "1818  Apple Unveils Mac OS X and Internet Strategy a... 2000-01-05   \n",
       "1819  Apple's QuickTime TV Network Scores Super Bowl... 2000-01-24   \n",
       "\n",
       "                                            Contributor  \\\n",
       "0                   [Keri Fulton, Apple Media Helpline]   \n",
       "1     [Jessica Reeves, Todd Wilder, Apple Media Help...   \n",
       "2     [Gabi Condarco-Quesada, Nick Leahy, Apple Medi...   \n",
       "3                         [Josh Rosenstock, Tejas Gala]   \n",
       "4     [Clare Varellas, Rachel Wolf Tulley, Apple Med...   \n",
       "...                                                 ...   \n",
       "1815          [Alec Rosen, Keith Goldberg, Kanisa Inc.]   \n",
       "1816      [Vanessa Rios, Bob Berger, Edelman Worldwide]   \n",
       "1817                                   [Matt Hutchison]   \n",
       "1818                   [Matt Hutchison, Rhona Hamilton]   \n",
       "1819    [Matt Hutchison, Bob Berger, Edelman Worldwide]   \n",
       "\n",
       "                                                Content  \\\n",
       "0     PRESS RELEASEOctober 27, 2021                 ...   \n",
       "1     PRESS RELEASENovember 10, 2021                ...   \n",
       "2     UPDATENovember 9, 2021                        ...   \n",
       "3     PRESS RELEASEOctober 28, 2021                 ...   \n",
       "4     UPDATENovember 11, 2021                       ...   \n",
       "...                                                 ...   \n",
       "1815  PRESS RELEASEApril 5, 2000                    ...   \n",
       "1816  PRESS RELEASEApril 5, 2000                    ...   \n",
       "1817  PRESS RELEASEApril 10, 2000                   ...   \n",
       "1818  PRESS RELEASEJanuary 5, 2000                  ...   \n",
       "1819  PRESS RELEASEJanuary 24, 2000                 ...   \n",
       "\n",
       "                                                   link           Role  \n",
       "0     https://www.apple.com/newsroom/2021/10/apple-c...  Press Contact  \n",
       "1     https://www.apple.com/newsroom/2021/11/apple-i...  Press Contact  \n",
       "2     https://www.apple.com/newsroom/2021/11/holiday...  Press Contact  \n",
       "3     https://www.apple.com/newsroom/2021/10/apple-r...  Press Contact  \n",
       "4     https://www.apple.com/newsroom/2021/11/apple-h...  Press Contact  \n",
       "...                                                 ...            ...  \n",
       "1815  https://www.apple.com/newsroom/2000/04/05Apple...  Press Contact  \n",
       "1816  https://www.apple.com/newsroom/2000/04/05Apple...  Press Contact  \n",
       "1817  https://www.apple.com/newsroom/2000/04/10Apple...  Press Contact  \n",
       "1818  https://www.apple.com/newsroom/2000/01/05Apple...  Press Contact  \n",
       "1819  https://www.apple.com/newsroom/2000/01/24Apple...  Press Contact  \n",
       "\n",
       "[1820 rows x 6 columns]"
      ]
     },
     "execution_count": 2,
     "metadata": {},
     "output_type": "execute_result"
    }
   ],
   "source": [
    "messages = pd.read_json('apple2.json')\n",
    "messages.replace(r'\\n', '', regex=True, inplace=True)\n",
    "messages"
   ]
  },
  {
   "cell_type": "code",
   "execution_count": 3,
   "metadata": {
    "id": "iiKZx7RPrjLQ"
   },
   "outputs": [],
   "source": [
    "nlp = spacy.load(\"en_core_web_sm\")"
   ]
  },
  {
   "cell_type": "code",
   "execution_count": 4,
   "metadata": {
    "id": "caZstaYernOa"
   },
   "outputs": [],
   "source": [
    "def get_hotwords(text):\n",
    "    result = []\n",
    "    pos_tag = ['PROPN', 'ADJ', 'NOUN']\n",
    "    doc = nlp(text.lower())\n",
    "    for token in doc:\n",
    "        \n",
    "        if(token.text in nlp.Defaults.stop_words or token.text in punctuation):\n",
    "            continue\n",
    "        \n",
    "        elif(token.pos_ in pos_tag):\n",
    "            result.append(token.text)\n",
    "                \n",
    "    return result"
   ]
  },
  {
   "cell_type": "code",
   "execution_count": 5,
   "metadata": {
    "id": "bKbyOvXrrq0J"
   },
   "outputs": [],
   "source": [
    "message_text = str(messages.Title.values)\n",
    "output = get_hotwords(message_text)\n",
    "words = [x for x in Counter(output).most_common(30)]"
   ]
  },
  {
   "cell_type": "code",
   "execution_count": 6,
   "metadata": {
    "colab": {
     "base_uri": "https://localhost:8080/",
     "height": 514
    },
    "id": "gaxBfKv5rxss",
    "outputId": "675f2a91-bdb7-4210-9ebb-c3b19b753303"
   },
   "outputs": [
    {
     "data": {
      "image/png": "[encoded data removed]",
      "text/plain": [
       "<Figure size 1440x1152 with 1 Axes>"
      ]
     },
     "metadata": {},
     "output_type": "display_data"
    }
   ],
   "source": [
    "df = pd.DataFrame(words, columns =['Most commom keywords', 'Amount'])\n",
    "rcParams['figure.figsize'] = 20,16\n",
    "sns.set_style('darkgrid')\n",
    "ax = sns.barplot(x='Amount', y='Most commom keywords', data= df[:10], palette='rocket', edgecolor='k')\n",
    "ax.set_title('APPLE TOP 10 MOST COMMOM KEYWORDS BY FREQUENCY', fontsize=14, weight='bold')\n",
    "ax.set_xlabel('Amount')\n",
    "sns.despine();\n",
    "plt.savefig('apple_keywords.png')"
   ]
  },
  {
   "cell_type": "code",
   "execution_count": 7,
   "metadata": {},
   "outputs": [],
   "source": [
    "doc = list(nlp(message_text).noun_chunks)"
   ]
  },
  {
   "cell_type": "code",
   "execution_count": 13,
   "metadata": {},
   "outputs": [],
   "source": [
    "import sys\n",
    "\n",
    "orig_stdout = sys.stdout\n",
    "f = open(\n",
    "    'apple.txt', 'w'\n",
    ")\n",
    "sys.stdout = f\n",
    "\n",
    "\n",
    "for token in doc:\n",
    "    if 'Apple' in str(token):\n",
    "        print(token)\n",
    "\n",
    "sys.stdout = orig_stdout\n",
    "f.close()"
   ]
  },
  {
   "cell_type": "code",
   "execution_count": 14,
   "metadata": {},
   "outputs": [
    {
     "data": {
      "text/html": [
       "<div>\n",
       "<style scoped>\n",
       "    .dataframe tbody tr th:only-of-type {\n",
       "        vertical-align: middle;\n",
       "    }\n",
       "\n",
       "    .dataframe tbody tr th {\n",
       "        vertical-align: top;\n",
       "    }\n",
       "\n",
       "    .dataframe thead th {\n",
       "        text-align: right;\n",
       "    }\n",
       "</style>\n",
       "<table border=\"1\" class=\"dataframe\">\n",
       "  <thead>\n",
       "    <tr style=\"text-align: right;\">\n",
       "      <th></th>\n",
       "      <th>Frequency</th>\n",
       "    </tr>\n",
       "    <tr>\n",
       "      <th>Term</th>\n",
       "      <th></th>\n",
       "    </tr>\n",
       "  </thead>\n",
       "  <tbody>\n",
       "    <tr>\n",
       "      <th>Apple</th>\n",
       "      <td>1</td>\n",
       "    </tr>\n",
       "    <tr>\n",
       "      <th>doubling supplier commitments'</th>\n",
       "      <td>1</td>\n",
       "    </tr>\n",
       "    <tr>\n",
       "      <th>'Apple introduces</th>\n",
       "      <td>1</td>\n",
       "    </tr>\n",
       "    <tr>\n",
       "      <th>at\\xa0Apple</th>\n",
       "      <td>1</td>\n",
       "    </tr>\n",
       "    <tr>\n",
       "      <th>'Apple Acquires DVD Authoring Technology</th>\n",
       "      <td>1</td>\n",
       "    </tr>\n",
       "  </tbody>\n",
       "</table>\n",
       "</div>"
      ],
      "text/plain": [
       "                                           Frequency\n",
       "Term                                                \n",
       "Apple                                              1\n",
       "doubling supplier commitments'                     1\n",
       " 'Apple introduces                                 1\n",
       "at\\xa0Apple                                        1\n",
       " 'Apple Acquires DVD Authoring Technology          1"
      ]
     },
     "execution_count": 14,
     "metadata": {},
     "output_type": "execute_result"
    }
   ],
   "source": [
    "df = pd.read_table(\n",
    "    'apple.txt', \n",
    "    header=None,\n",
    "    encoding= 'cp1252'\n",
    ")\n",
    "df.rename(\n",
    "    columns={\n",
    "        0: 'Apple'\n",
    "    },\n",
    "    inplace=True, \n",
    "    errors='raise'\n",
    ")\n",
    "dff = pd.DataFrame(\n",
    "    data=df.Apple.value_counts()\n",
    ").rename(\n",
    "    columns={'Apple': 'Frequency'}\n",
    ").rename_axis(\n",
    "    'Term'\n",
    ")\n",
    "dff.head()"
   ]
  },
  {
   "cell_type": "code",
   "execution_count": 16,
   "metadata": {},
   "outputs": [
    {
     "data": {
      "image/png": "[encoded data removed]",
      "text/plain": [
       "<Figure size 1296x1080 with 1 Axes>"
      ]
     },
     "metadata": {},
     "output_type": "display_data"
    }
   ],
   "source": [
    "rcParams[\n",
    "    'figure.figsize'\n",
    "] = 18,15\n",
    "ax = sns.barplot(\n",
    "    data=dff[:5], \n",
    "    x=dff.index[:5], \n",
    "    y='Frequency', \n",
    "    palette='rocket', \n",
    "    edgecolor='k'\n",
    ")\n",
    "ax.set_title(\n",
    "    'TOP 5 MOST COMMOM KEYWORDS INSIDE APPLE BY FREQUENCY', \n",
    "    fontsize=14, \n",
    "    weight='bold'\n",
    ")\n",
    "ax.set_xlabel(\n",
    "    'TERM'\n",
    ")\n",
    "plt.savefig(\n",
    "    'most_commom_keyword.png'\n",
    ")"
   ]
  },
  {
   "cell_type": "code",
   "execution_count": 18,
   "metadata": {},
   "outputs": [],
   "source": [
    "orig_stdout = sys.stdout\n",
    "f = open(\n",
    "    'carbon.txt', 'w'\n",
    ")\n",
    "sys.stdout = f\n",
    "\n",
    "\n",
    "for token in doc:\n",
    "    if 'carbon' in str(token):\n",
    "        print(token)\n",
    "\n",
    "sys.stdout = orig_stdout\n",
    "f.close()"
   ]
  },
  {
   "cell_type": "code",
   "execution_count": 19,
   "metadata": {},
   "outputs": [
    {
     "data": {
      "text/html": [
       "<div>\n",
       "<style scoped>\n",
       "    .dataframe tbody tr th:only-of-type {\n",
       "        vertical-align: middle;\n",
       "    }\n",
       "\n",
       "    .dataframe tbody tr th {\n",
       "        vertical-align: top;\n",
       "    }\n",
       "\n",
       "    .dataframe thead th {\n",
       "        text-align: right;\n",
       "    }\n",
       "</style>\n",
       "<table border=\"1\" class=\"dataframe\">\n",
       "  <thead>\n",
       "    <tr style=\"text-align: right;\">\n",
       "      <th></th>\n",
       "      <th>Frequency</th>\n",
       "    </tr>\n",
       "    <tr>\n",
       "      <th>Term</th>\n",
       "      <th></th>\n",
       "    </tr>\n",
       "  </thead>\n",
       "  <tbody>\n",
       "    <tr>\n",
       "      <th>2030 carbon neutral goal</th>\n",
       "      <td>1</td>\n",
       "    </tr>\n",
       "  </tbody>\n",
       "</table>\n",
       "</div>"
      ],
      "text/plain": [
       "                          Frequency\n",
       "Term                               \n",
       "2030 carbon neutral goal          1"
      ]
     },
     "execution_count": 19,
     "metadata": {},
     "output_type": "execute_result"
    }
   ],
   "source": [
    "df2 = pd.read_table(\n",
    "    'carbon.txt', \n",
    "    header=None\n",
    ")\n",
    "df2.rename(\n",
    "    columns={\n",
    "        0: 'Carbon'\n",
    "    },\n",
    "    inplace=True, \n",
    "    errors='raise'\n",
    ")\n",
    "dff2 = pd.DataFrame(\n",
    "    data=df2.Carbon.value_counts()\n",
    ").rename(\n",
    "    columns={'Carbon': 'Frequency'}\n",
    ").rename_axis(\n",
    "    'Term'\n",
    ")\n",
    "dff2.head()"
   ]
  },
  {
   "cell_type": "code",
   "execution_count": 20,
   "metadata": {},
   "outputs": [
    {
     "data": {
      "image/png": "[encoded data removed]",
      "text/plain": [
       "<Figure size 1296x1080 with 1 Axes>"
      ]
     },
     "metadata": {},
     "output_type": "display_data"
    }
   ],
   "source": [
    "rcParams[\n",
    "    'figure.figsize'\n",
    "] = 18,15\n",
    "ax = sns.barplot(\n",
    "    data=dff2[:7], \n",
    "    x=dff2.index[:7], \n",
    "    y='Frequency', \n",
    "    palette='rocket', \n",
    "    edgecolor='k'\n",
    ")\n",
    "ax.set_title(\n",
    "    'TOP MOST COMMOM KEYWORDS INSIDE CARBON BY FREQUENCY', \n",
    "    fontsize=14, \n",
    "    weight='bold'\n",
    ")\n",
    "ax.set_xlabel(\n",
    "    'TERM'\n",
    ")\n",
    "plt.savefig(\n",
    "    'second_most_commom_keyword.png'\n",
    ")"
   ]
  },
  {
   "cell_type": "code",
   "execution_count": 24,
   "metadata": {},
   "outputs": [],
   "source": [
    "orig_stdout = sys.stdout\n",
    "f = open(\n",
    "    'clean.txt', 'w'\n",
    ")\n",
    "sys.stdout = f\n",
    "\n",
    "\n",
    "for token in doc:\n",
    "    if 'clean' in str(token):\n",
    "        print(token)\n",
    "\n",
    "sys.stdout = orig_stdout\n",
    "f.close()"
   ]
  },
  {
   "cell_type": "code",
   "execution_count": 26,
   "metadata": {},
   "outputs": [
    {
     "data": {
      "text/html": [
       "<div>\n",
       "<style scoped>\n",
       "    .dataframe tbody tr th:only-of-type {\n",
       "        vertical-align: middle;\n",
       "    }\n",
       "\n",
       "    .dataframe tbody tr th {\n",
       "        vertical-align: top;\n",
       "    }\n",
       "\n",
       "    .dataframe thead th {\n",
       "        text-align: right;\n",
       "    }\n",
       "</style>\n",
       "<table border=\"1\" class=\"dataframe\">\n",
       "  <thead>\n",
       "    <tr style=\"text-align: right;\">\n",
       "      <th></th>\n",
       "      <th>Frequency</th>\n",
       "    </tr>\n",
       "    <tr>\n",
       "      <th>Term</th>\n",
       "      <th></th>\n",
       "    </tr>\n",
       "  </thead>\n",
       "  <tbody>\n",
       "    <tr>\n",
       "      <th>clean power</th>\n",
       "      <td>1</td>\n",
       "    </tr>\n",
       "  </tbody>\n",
       "</table>\n",
       "</div>"
      ],
      "text/plain": [
       "             Frequency\n",
       "Term                  \n",
       "clean power          1"
      ]
     },
     "execution_count": 26,
     "metadata": {},
     "output_type": "execute_result"
    }
   ],
   "source": [
    "df4 = pd.read_table(\n",
    "    'clean.txt', \n",
    "    header=None,\n",
    "    encoding= 'cp1252'\n",
    ")\n",
    "df4.rename(\n",
    "    columns={\n",
    "        0: 'Clean'\n",
    "    },\n",
    "    inplace=True, \n",
    "    errors='raise'\n",
    ")\n",
    "dff4 = pd.DataFrame(\n",
    "    data=df4.Clean.value_counts()\n",
    ").rename(\n",
    "    columns={'Clean': 'Frequency'}\n",
    ").rename_axis(\n",
    "    'Term'\n",
    ")\n",
    "dff4.head()"
   ]
  },
  {
   "cell_type": "code",
   "execution_count": 27,
   "metadata": {},
   "outputs": [
    {
     "data": {
      "image/png": "[encoded data removed]",
      "text/plain": [
       "<Figure size 1296x1080 with 1 Axes>"
      ]
     },
     "metadata": {},
     "output_type": "display_data"
    }
   ],
   "source": [
    "rcParams[\n",
    "    'figure.figsize'\n",
    "] = 18,15\n",
    "ax = sns.barplot(\n",
    "    data=dff4[:8], \n",
    "    x=dff4.index[:8], \n",
    "    y='Frequency', \n",
    "    palette='rocket', \n",
    "    edgecolor='k'\n",
    ")\n",
    "ax.set_title(\n",
    "    'TOP MOST COMMOM KEYWORD INSIDE CLEAN BY FREQUENCY', \n",
    "    fontsize=14, \n",
    "    weight='bold'\n",
    ")\n",
    "ax.set_xlabel(\n",
    "    'TERM'\n",
    ")\n",
    "plt.savefig(\n",
    "    'third_most_commom_keyword.png'\n",
    ")"
   ]
  },
  {
   "cell_type": "code",
   "execution_count": 29,
   "metadata": {},
   "outputs": [],
   "source": [
    "orig_stdout = sys.stdout\n",
    "f = open(\n",
    "    'supplier.txt', 'w'\n",
    ")\n",
    "sys.stdout = f\n",
    "\n",
    "\n",
    "for token in doc:\n",
    "    if 'supplier' in str(token):\n",
    "        print(token)\n",
    "\n",
    "sys.stdout = orig_stdout\n",
    "f.close()"
   ]
  },
  {
   "cell_type": "code",
   "execution_count": 30,
   "metadata": {},
   "outputs": [
    {
     "data": {
      "text/html": [
       "<div>\n",
       "<style scoped>\n",
       "    .dataframe tbody tr th:only-of-type {\n",
       "        vertical-align: middle;\n",
       "    }\n",
       "\n",
       "    .dataframe tbody tr th {\n",
       "        vertical-align: top;\n",
       "    }\n",
       "\n",
       "    .dataframe thead th {\n",
       "        text-align: right;\n",
       "    }\n",
       "</style>\n",
       "<table border=\"1\" class=\"dataframe\">\n",
       "  <thead>\n",
       "    <tr style=\"text-align: right;\">\n",
       "      <th></th>\n",
       "      <th>Frequency</th>\n",
       "    </tr>\n",
       "    <tr>\n",
       "      <th>Term</th>\n",
       "      <th></th>\n",
       "    </tr>\n",
       "  </thead>\n",
       "  <tbody>\n",
       "    <tr>\n",
       "      <th>doubling supplier commitments'</th>\n",
       "      <td>1</td>\n",
       "    </tr>\n",
       "    <tr>\n",
       "      <th>'Apple introduces</th>\n",
       "      <td>1</td>\n",
       "    </tr>\n",
       "  </tbody>\n",
       "</table>\n",
       "</div>"
      ],
      "text/plain": [
       "                                Frequency\n",
       "Term                                     \n",
       "doubling supplier commitments'          1\n",
       " 'Apple introduces                      1"
      ]
     },
     "execution_count": 30,
     "metadata": {},
     "output_type": "execute_result"
    }
   ],
   "source": [
    "df5 = pd.read_table(\n",
    "    'supplier.txt', \n",
    "    header=None,\n",
    "    encoding= 'cp1252'\n",
    ")\n",
    "df5.rename(\n",
    "    columns={\n",
    "        0: 'Supplier'\n",
    "    },\n",
    "    inplace=True, \n",
    "    errors='raise'\n",
    ")\n",
    "dff5 = pd.DataFrame(\n",
    "    data=df5.Supplier.value_counts()\n",
    ").rename(\n",
    "    columns={'Supplier': 'Frequency'}\n",
    ").rename_axis(\n",
    "    'Term'\n",
    ")\n",
    "dff5.head()"
   ]
  },
  {
   "cell_type": "code",
   "execution_count": 31,
   "metadata": {},
   "outputs": [
    {
     "data": {
      "image/png": "[encoded data removed]",
      "text/plain": [
       "<Figure size 1296x1080 with 1 Axes>"
      ]
     },
     "metadata": {},
     "output_type": "display_data"
    }
   ],
   "source": [
    "rcParams[\n",
    "    'figure.figsize'\n",
    "] = 18,15\n",
    "ax = sns.barplot(\n",
    "    data=dff5[:8], \n",
    "    x=dff5.index[:8], \n",
    "    y='Frequency', \n",
    "    palette='rocket', \n",
    "    edgecolor='k'\n",
    ")\n",
    "ax.set_title(\n",
    "    'TOP MOST COMMOM KEYWORDS INSIDE SUPPLIER END BY FREQUENCY', \n",
    "    fontsize=14, \n",
    "    weight='bold'\n",
    ")\n",
    "ax.set_xlabel(\n",
    "    'TERM'\n",
    ")\n",
    "plt.savefig(\n",
    "    'fourth_most_commom_keyword.png'\n",
    ")"
   ]
  }
 ],
 "metadata": {
  "colab": {
   "name": "accenture_keywords.ipynb",
   "provenance": []
  },
  "kernelspec": {
   "display_name": "Python 3 (ipykernel)",
   "language": "python",
   "name": "python3"
  },
  "language_info": {
   "codemirror_mode": {
    "name": "ipython",
    "version": 3
   },
   "file_extension": ".py",
   "mimetype": "text/x-python",
   "name": "python",
   "nbconvert_exporter": "python",
   "pygments_lexer": "ipython3",
   "version": "3.8.12"
  }
 },
 "nbformat": 4,
 "nbformat_minor": 1
}
