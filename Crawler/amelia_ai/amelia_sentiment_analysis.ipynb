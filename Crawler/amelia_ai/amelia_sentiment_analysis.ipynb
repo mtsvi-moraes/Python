{
 "cells": [
  {
   "cell_type": "code",
   "execution_count": 1,
   "metadata": {},
   "outputs": [],
   "source": [
    "import nltk\n",
    "import pandas as pd\n",
    "from nltk.sentiment.vader import SentimentIntensityAnalyzer"
   ]
  },
  {
   "cell_type": "code",
   "execution_count": 2,
   "metadata": {},
   "outputs": [],
   "source": [
    "sid = SentimentIntensityAnalyzer()"
   ]
  },
  {
   "cell_type": "code",
   "execution_count": 3,
   "metadata": {},
   "outputs": [
    {
     "data": {
      "text/html": [
       "<div>\n",
       "<style scoped>\n",
       "    .dataframe tbody tr th:only-of-type {\n",
       "        vertical-align: middle;\n",
       "    }\n",
       "\n",
       "    .dataframe tbody tr th {\n",
       "        vertical-align: top;\n",
       "    }\n",
       "\n",
       "    .dataframe thead th {\n",
       "        text-align: right;\n",
       "    }\n",
       "</style>\n",
       "<table border=\"1\" class=\"dataframe\">\n",
       "  <thead>\n",
       "    <tr style=\"text-align: right;\">\n",
       "      <th></th>\n",
       "      <th>Title</th>\n",
       "      <th>Date</th>\n",
       "      <th>Contributor</th>\n",
       "      <th>Content</th>\n",
       "      <th>Link</th>\n",
       "      <th>Role</th>\n",
       "    </tr>\n",
       "  </thead>\n",
       "  <tbody>\n",
       "    <tr>\n",
       "      <th>0</th>\n",
       "      <td>FPT Software Partners With Amelia to Enhance C...</td>\n",
       "      <td>October 20, 2021 • 2 minute read</td>\n",
       "      <td></td>\n",
       "      <td>Partnership will expand FPT Software’s client ...</td>\n",
       "      <td>https://amelia.ai/press-release/fpt-software-p...</td>\n",
       "      <td></td>\n",
       "    </tr>\n",
       "    <tr>\n",
       "      <th>1</th>\n",
       "      <td>Amelia Hired By Staffmark Group to Bring Conve...</td>\n",
       "      <td>July 29, 2021 • 2 minute read</td>\n",
       "      <td></td>\n",
       "      <td>Staffmark Group engages Amelia to deliver inte...</td>\n",
       "      <td>https://amelia.ai/press-release/amelia-hired-b...</td>\n",
       "      <td></td>\n",
       "    </tr>\n",
       "    <tr>\n",
       "      <th>2</th>\n",
       "      <td>OrangeShine Hires Amelia to Automate IT Operat...</td>\n",
       "      <td>May 28, 2021 • 2 minute read</td>\n",
       "      <td></td>\n",
       "      <td>The leading B2B online fashion wholesale marke...</td>\n",
       "      <td>https://amelia.ai/press-release/orangeshine-hi...</td>\n",
       "      <td></td>\n",
       "    </tr>\n",
       "    <tr>\n",
       "      <th>3</th>\n",
       "      <td>Amelia Recognized as a Leader in Intelligent V...</td>\n",
       "      <td>May 10, 2021 • 2 minute read</td>\n",
       "      <td></td>\n",
       "      <td>New report on Hyper-Intelligent Automation hig...</td>\n",
       "      <td>https://amelia.ai/press-release/amelia-recogni...</td>\n",
       "      <td></td>\n",
       "    </tr>\n",
       "    <tr>\n",
       "      <th>4</th>\n",
       "      <td>Kenneth S. Nugent Law Firm Forms Subcompany 1L...</td>\n",
       "      <td>April 26, 2021 • 2 minute read</td>\n",
       "      <td></td>\n",
       "      <td>1LAW provides Amelia as a platform that law fi...</td>\n",
       "      <td>https://amelia.ai/press-release/kenneth-s-nuge...</td>\n",
       "      <td></td>\n",
       "    </tr>\n",
       "  </tbody>\n",
       "</table>\n",
       "</div>"
      ],
      "text/plain": [
       "                                               Title  \\\n",
       "0  FPT Software Partners With Amelia to Enhance C...   \n",
       "1  Amelia Hired By Staffmark Group to Bring Conve...   \n",
       "2  OrangeShine Hires Amelia to Automate IT Operat...   \n",
       "3  Amelia Recognized as a Leader in Intelligent V...   \n",
       "4  Kenneth S. Nugent Law Firm Forms Subcompany 1L...   \n",
       "\n",
       "                               Date Contributor  \\\n",
       "0  October 20, 2021 • 2 minute read               \n",
       "1     July 29, 2021 • 2 minute read               \n",
       "2      May 28, 2021 • 2 minute read               \n",
       "3      May 10, 2021 • 2 minute read               \n",
       "4    April 26, 2021 • 2 minute read               \n",
       "\n",
       "                                             Content  \\\n",
       "0  Partnership will expand FPT Software’s client ...   \n",
       "1  Staffmark Group engages Amelia to deliver inte...   \n",
       "2  The leading B2B online fashion wholesale marke...   \n",
       "3  New report on Hyper-Intelligent Automation hig...   \n",
       "4  1LAW provides Amelia as a platform that law fi...   \n",
       "\n",
       "                                                Link Role  \n",
       "0  https://amelia.ai/press-release/fpt-software-p...       \n",
       "1  https://amelia.ai/press-release/amelia-hired-b...       \n",
       "2  https://amelia.ai/press-release/orangeshine-hi...       \n",
       "3  https://amelia.ai/press-release/amelia-recogni...       \n",
       "4  https://amelia.ai/press-release/kenneth-s-nuge...       "
      ]
     },
     "execution_count": 3,
     "metadata": {},
     "output_type": "execute_result"
    }
   ],
   "source": [
    "df = pd.read_json('amelia_evandro.json')\n",
    "df.replace(r'\\n', '', regex=True, inplace=True)\n",
    "df.replace(r'\\xa0', '', regex=True, inplace=True)\n",
    "df.replace(r'\\r', '', regex=True, inplace=True)\n",
    "df.head()"
   ]
  },
  {
   "cell_type": "code",
   "execution_count": 4,
   "metadata": {},
   "outputs": [
    {
     "data": {
      "text/plain": [
       "Title          0\n",
       "Date           0\n",
       "Contributor    0\n",
       "Content        0\n",
       "Link           0\n",
       "Role           0\n",
       "dtype: int64"
      ]
     },
     "execution_count": 4,
     "metadata": {},
     "output_type": "execute_result"
    }
   ],
   "source": [
    "df.isnull().sum()"
   ]
  },
  {
   "cell_type": "code",
   "execution_count": 5,
   "metadata": {},
   "outputs": [],
   "source": [
    "df.dropna(inplace=True)\n",
    "df.drop(['Role', 'Contributor'], axis=1, inplace=True)"
   ]
  },
  {
   "cell_type": "code",
   "execution_count": 6,
   "metadata": {},
   "outputs": [
    {
     "data": {
      "text/plain": [
       "{'neg': 0.0, 'neu': 0.869, 'pos': 0.131, 'compound': 0.9955}"
      ]
     },
     "execution_count": 6,
     "metadata": {},
     "output_type": "execute_result"
    }
   ],
   "source": [
    "sid.polarity_scores(df.iloc[0]['Content'])"
   ]
  },
  {
   "cell_type": "code",
   "execution_count": 7,
   "metadata": {},
   "outputs": [
    {
     "data": {
      "text/plain": [
       "'Partnership will expand FPT Software’s client offerings with Amelia’s market-leading AI solutions.NEW YORK, NY, October 20, 2021 — Amelia, a leading Enterprise AI software company, today announced its new partnership with FPT Software, Vietnam’s largest technology services provider. FPT Software provides technical consulting, streamlining and cost-savings services to thousands of global customers, including Fortune Global 500 companies.FPT Software will include Amelia’s industry-leading AI solutions within its client offerings. Through this partnership, the provider will enhance its services by providing clients with the most modern, capable and transformative solutions. By leveraging its “people, process and technology” approach and Amelia’s solutions, FPT Software will help its customers streamline operations and reduce costs.“We are excited to partner withAmeliaand incorporate their Conversational AI capabilities into our intelligent automation solutions along with our akaBotTM platform,” said Alwyn Joseph, Chief Revenue Officer for FPT Americas. “We believe the joint capabilities can enable our clients to transform the way they interact with their customers. These capabilities also fit well into our Digital KaizenTMmethodology, which aims at achieving large scale transformation through continuous improvement.”Scott Kohn, Chief Channel Officer at Amelia, said: “We are excited to partner with FPT Software, a technology services provider committed to leveraging innovative technologies to create high levels of customer satisfaction. As FPT Software continues to grow its global footprint, we look forward to collaborating and co-innovating for global clients looking to leverage Amelia and AI for the Future of Work.”Initially, FPT Software plans to engage a small tactical team to work and gain expertise with Amelia solutions, with the goal of eventually expanding the use of Amelia in client offerings for its 60-person US sales team, as well as its global sales team.About FPT Software FPT Software is a global technology and IT services provider headquartered in Vietnam, with more than USD 513 million in revenue and 20,000 employees in 26 countries. As a pioneer in digital transformation, the company delivers world-class services in Smart factory, Digital platforms, RPA, AI, IoT, Cloud, AR/VR, BPO, and more. It has served 700+ customers worldwide, a hundred of which are Fortune Global 500 companies in the industries of Automotive, Banking and Finance, Logistics & Transportation, Utilities, and more. For more information, please visit https://fpt-software.com.About AmeliaAmelia is a leading Enterprise AI software company with a long history of innovation in automation and Conversational AI. We create fulfilling human experiences through groundbreaking AI solutions, as we enable conversational experiences, streamline IT operations, and automate processes. In 2014, we launched Amelia, the Most Human AI™; then in 2018, we introduced true end-to-end, enterprise-wide automation allowing enterprises to quickly optimize back-end operations. Amelia is consistently recognized by third-party analyst firms as a market leader. Headquartered in New York City with offices in 15 countries, Amelia’s roster of client success stories speaks for itself: Our technology impacts more than 200 of the world’s leading brands, including global leaders in banking, insurance, telecommunications, and other industries. See how Amelia is powering the Future of Work at amelia.ai.Media Contact:[emailprotected]FacebookTwitterLinkedInEmail                            Subscribe to Our Newsletter                        Next'"
      ]
     },
     "execution_count": 7,
     "metadata": {},
     "output_type": "execute_result"
    }
   ],
   "source": [
    "df.Content[0]"
   ]
  },
  {
   "cell_type": "code",
   "execution_count": 8,
   "metadata": {},
   "outputs": [],
   "source": [
    "df['Scores'] = df['Content'].apply(lambda content: sid.polarity_scores(content))\n",
    "df['Date']= df['Date'].str.strip('• 1|2|3|4|5 minute read')\n",
    "df['Date']= pd.to_datetime(df['Date'])"
   ]
  },
  {
   "cell_type": "code",
   "execution_count": 9,
   "metadata": {},
   "outputs": [
    {
     "data": {
      "text/html": [
       "<div>\n",
       "<style scoped>\n",
       "    .dataframe tbody tr th:only-of-type {\n",
       "        vertical-align: middle;\n",
       "    }\n",
       "\n",
       "    .dataframe tbody tr th {\n",
       "        vertical-align: top;\n",
       "    }\n",
       "\n",
       "    .dataframe thead th {\n",
       "        text-align: right;\n",
       "    }\n",
       "</style>\n",
       "<table border=\"1\" class=\"dataframe\">\n",
       "  <thead>\n",
       "    <tr style=\"text-align: right;\">\n",
       "      <th></th>\n",
       "      <th>Title</th>\n",
       "      <th>Date</th>\n",
       "      <th>Content</th>\n",
       "      <th>Link</th>\n",
       "      <th>Scores</th>\n",
       "    </tr>\n",
       "  </thead>\n",
       "  <tbody>\n",
       "    <tr>\n",
       "      <th>0</th>\n",
       "      <td>FPT Software Partners With Amelia to Enhance C...</td>\n",
       "      <td>2020-10-20</td>\n",
       "      <td>Partnership will expand FPT Software’s client ...</td>\n",
       "      <td>https://amelia.ai/press-release/fpt-software-p...</td>\n",
       "      <td>{'neg': 0.0, 'neu': 0.869, 'pos': 0.131, 'comp...</td>\n",
       "    </tr>\n",
       "    <tr>\n",
       "      <th>1</th>\n",
       "      <td>Amelia Hired By Staffmark Group to Bring Conve...</td>\n",
       "      <td>2020-07-29</td>\n",
       "      <td>Staffmark Group engages Amelia to deliver inte...</td>\n",
       "      <td>https://amelia.ai/press-release/amelia-hired-b...</td>\n",
       "      <td>{'neg': 0.004, 'neu': 0.87, 'pos': 0.126, 'com...</td>\n",
       "    </tr>\n",
       "    <tr>\n",
       "      <th>2</th>\n",
       "      <td>OrangeShine Hires Amelia to Automate IT Operat...</td>\n",
       "      <td>2020-05-28</td>\n",
       "      <td>The leading B2B online fashion wholesale marke...</td>\n",
       "      <td>https://amelia.ai/press-release/orangeshine-hi...</td>\n",
       "      <td>{'neg': 0.0, 'neu': 0.854, 'pos': 0.146, 'comp...</td>\n",
       "    </tr>\n",
       "    <tr>\n",
       "      <th>3</th>\n",
       "      <td>Amelia Recognized as a Leader in Intelligent V...</td>\n",
       "      <td>2020-05-10</td>\n",
       "      <td>New report on Hyper-Intelligent Automation hig...</td>\n",
       "      <td>https://amelia.ai/press-release/amelia-recogni...</td>\n",
       "      <td>{'neg': 0.003, 'neu': 0.898, 'pos': 0.099, 'co...</td>\n",
       "    </tr>\n",
       "    <tr>\n",
       "      <th>4</th>\n",
       "      <td>Kenneth S. Nugent Law Firm Forms Subcompany 1L...</td>\n",
       "      <td>2020-04-26</td>\n",
       "      <td>1LAW provides Amelia as a platform that law fi...</td>\n",
       "      <td>https://amelia.ai/press-release/kenneth-s-nuge...</td>\n",
       "      <td>{'neg': 0.015, 'neu': 0.857, 'pos': 0.128, 'co...</td>\n",
       "    </tr>\n",
       "  </tbody>\n",
       "</table>\n",
       "</div>"
      ],
      "text/plain": [
       "                                               Title       Date  \\\n",
       "0  FPT Software Partners With Amelia to Enhance C... 2020-10-20   \n",
       "1  Amelia Hired By Staffmark Group to Bring Conve... 2020-07-29   \n",
       "2  OrangeShine Hires Amelia to Automate IT Operat... 2020-05-28   \n",
       "3  Amelia Recognized as a Leader in Intelligent V... 2020-05-10   \n",
       "4  Kenneth S. Nugent Law Firm Forms Subcompany 1L... 2020-04-26   \n",
       "\n",
       "                                             Content  \\\n",
       "0  Partnership will expand FPT Software’s client ...   \n",
       "1  Staffmark Group engages Amelia to deliver inte...   \n",
       "2  The leading B2B online fashion wholesale marke...   \n",
       "3  New report on Hyper-Intelligent Automation hig...   \n",
       "4  1LAW provides Amelia as a platform that law fi...   \n",
       "\n",
       "                                                Link  \\\n",
       "0  https://amelia.ai/press-release/fpt-software-p...   \n",
       "1  https://amelia.ai/press-release/amelia-hired-b...   \n",
       "2  https://amelia.ai/press-release/orangeshine-hi...   \n",
       "3  https://amelia.ai/press-release/amelia-recogni...   \n",
       "4  https://amelia.ai/press-release/kenneth-s-nuge...   \n",
       "\n",
       "                                              Scores  \n",
       "0  {'neg': 0.0, 'neu': 0.869, 'pos': 0.131, 'comp...  \n",
       "1  {'neg': 0.004, 'neu': 0.87, 'pos': 0.126, 'com...  \n",
       "2  {'neg': 0.0, 'neu': 0.854, 'pos': 0.146, 'comp...  \n",
       "3  {'neg': 0.003, 'neu': 0.898, 'pos': 0.099, 'co...  \n",
       "4  {'neg': 0.015, 'neu': 0.857, 'pos': 0.128, 'co...  "
      ]
     },
     "execution_count": 9,
     "metadata": {},
     "output_type": "execute_result"
    }
   ],
   "source": [
    "df.head()"
   ]
  },
  {
   "cell_type": "code",
   "execution_count": 10,
   "metadata": {},
   "outputs": [],
   "source": [
    "df['Compound'] = df['Scores'].apply(lambda d: d['compound'])\n",
    "df['Overall Score'] = df['Compound'].apply(lambda score: 'POS' if score >=0 else 'NEG')"
   ]
  },
  {
   "cell_type": "code",
   "execution_count": 11,
   "metadata": {},
   "outputs": [
    {
     "data": {
      "text/html": [
       "<div>\n",
       "<style scoped>\n",
       "    .dataframe tbody tr th:only-of-type {\n",
       "        vertical-align: middle;\n",
       "    }\n",
       "\n",
       "    .dataframe tbody tr th {\n",
       "        vertical-align: top;\n",
       "    }\n",
       "\n",
       "    .dataframe thead th {\n",
       "        text-align: right;\n",
       "    }\n",
       "</style>\n",
       "<table border=\"1\" class=\"dataframe\">\n",
       "  <thead>\n",
       "    <tr style=\"text-align: right;\">\n",
       "      <th></th>\n",
       "      <th>Title</th>\n",
       "      <th>Date</th>\n",
       "      <th>Content</th>\n",
       "      <th>Link</th>\n",
       "      <th>Scores</th>\n",
       "      <th>Compound</th>\n",
       "      <th>Overall Score</th>\n",
       "    </tr>\n",
       "  </thead>\n",
       "  <tbody>\n",
       "  </tbody>\n",
       "</table>\n",
       "</div>"
      ],
      "text/plain": [
       "Empty DataFrame\n",
       "Columns: [Title, Date, Content, Link, Scores, Compound, Overall Score]\n",
       "Index: []"
      ]
     },
     "execution_count": 11,
     "metadata": {},
     "output_type": "execute_result"
    }
   ],
   "source": [
    "df[df['Overall Score'] == 'NEG']"
   ]
  },
  {
   "cell_type": "code",
   "execution_count": 12,
   "metadata": {},
   "outputs": [],
   "source": [
    "from sklearn.feature_extraction.text import CountVectorizer\n",
    "cv = CountVectorizer(max_df=.9, min_df=.1, stop_words= 'english')\n",
    "dtm = cv.fit_transform(df['Content'])"
   ]
  },
  {
   "cell_type": "code",
   "execution_count": 13,
   "metadata": {},
   "outputs": [
    {
     "data": {
      "text/plain": [
       "<197x379 sparse matrix of type '<class 'numpy.int64'>'\n",
       "\twith 20017 stored elements in Compressed Sparse Row format>"
      ]
     },
     "execution_count": 13,
     "metadata": {},
     "output_type": "execute_result"
    }
   ],
   "source": [
    "dtm"
   ]
  },
  {
   "cell_type": "code",
   "execution_count": 14,
   "metadata": {},
   "outputs": [
    {
     "data": {
      "text/plain": [
       "LatentDirichletAllocation()"
      ]
     },
     "execution_count": 14,
     "metadata": {},
     "output_type": "execute_result"
    }
   ],
   "source": [
    "from sklearn.decomposition import LatentDirichletAllocation\n",
    "LDA = LatentDirichletAllocation(n_components=10)\n",
    "LDA.fit(dtm)"
   ]
  },
  {
   "cell_type": "code",
   "execution_count": 15,
   "metadata": {},
   "outputs": [
    {
     "data": {
      "text/plain": [
       "array([266, 374,  36, 252, 120, 334, 271, 352, 314, 161, 207,  88,  58,\n",
       "        25,  78, 289, 238, 233,  46,  90, 303,  74, 183, 299, 179, 173,\n",
       "       199,  92, 251, 343, 197, 363,  28,  93,  32, 288,   0, 107, 240,\n",
       "       132, 141, 241, 309, 279, 245,  67, 336, 105, 232,  17, 124, 348,\n",
       "       302,  66, 239,  54, 300, 200, 344, 208, 350,  39, 357, 312,  10,\n",
       "       319,  16, 375,  35, 270, 133, 169, 364, 280, 325, 112, 257, 246,\n",
       "        12, 187, 201,  14, 291, 153, 304,  42, 152, 356, 370, 365,  23,\n",
       "       108, 269, 247, 293,  30,  22, 212, 317, 341,  45,  98, 273, 367,\n",
       "       354,  34,  76, 134,  84,  68, 286, 106,  20, 229,  60, 170, 175,\n",
       "       215, 102, 225, 135,  85, 202, 186, 163, 131, 355, 321,   9,  61,\n",
       "       176, 359,  62, 158, 109, 181, 206, 114,  99, 167,  40,  83,  65,\n",
       "       281, 310, 100, 125, 323, 243,   3, 110, 191, 276, 168, 209,  77,\n",
       "       166, 295, 111, 140, 349, 263,   8, 335,  38,  96,  21, 121, 171,\n",
       "       351,  15, 262,  19, 210, 268, 164, 372, 261, 144, 104, 221, 196,\n",
       "       180,  89, 360, 292, 193,  52, 214,  11, 283, 287, 315, 285, 159,\n",
       "       198, 248,  73, 223, 224, 296, 188,  50, 182, 277,  97, 242, 143,\n",
       "       150,  33,  55,  48,  18,  63, 326, 254, 235, 333, 366, 156, 128,\n",
       "       231,  13, 294,  79,  49, 213, 345, 234, 260, 137, 313, 305, 353,\n",
       "       116,  57, 306, 230, 358, 149, 148, 123, 227, 220, 267, 142, 204,\n",
       "       101,  59, 255, 362, 275, 361, 146, 113, 117, 222, 184, 258,  82,\n",
       "       103, 118, 346, 147, 165, 228, 284, 249, 338, 377, 177, 136, 328,\n",
       "       311, 376, 318, 272,  51, 316,   2, 332,  31, 282, 265,  70, 259,\n",
       "        80, 329,  64, 138, 371, 298, 211,  44,  69, 337, 342, 160,   6,\n",
       "        87, 119, 190,  37, 195, 126, 216, 290,  47, 172,  86,  24, 327,\n",
       "         4, 178,  27, 307, 324, 151, 226, 162, 256, 330, 264, 122, 274,\n",
       "         5, 331,  41, 347,  72, 157, 203, 340, 194,   1, 237,  53,  71,\n",
       "       145, 368, 297,  29, 185, 278,  94, 250,  95, 130,   7, 320, 369,\n",
       "       301, 308, 189, 154, 217, 139, 236,  91, 218,  56,  81, 174, 378,\n",
       "       192, 155, 373, 322,  75, 115, 129,  43, 127, 219, 253, 339, 244,\n",
       "       205,  26], dtype=int64)"
      ]
     },
     "execution_count": 15,
     "metadata": {},
     "output_type": "execute_result"
    }
   ],
   "source": [
    "first_topic = LDA.components_[0]\n",
    "first_topic.argsort()"
   ]
  },
  {
   "cell_type": "code",
   "execution_count": 16,
   "metadata": {},
   "outputs": [
    {
     "name": "stdout",
     "output_type": "stream",
     "text": [
      "digital\n",
      "enterprise\n",
      "automation\n",
      "end\n",
      "leading\n",
      "operations\n",
      "technology\n",
      "new\n",
      "ipsoft\n",
      "amelia\n"
     ]
    }
   ],
   "source": [
    "top_ten = first_topic.argsort()[-10:]\n",
    "for index in top_ten:\n",
    "    print(cv.get_feature_names_out()[index])"
   ]
  },
  {
   "cell_type": "code",
   "execution_count": 17,
   "metadata": {},
   "outputs": [],
   "source": [
    "import sys\n",
    "\n",
    "orig_stdout = sys.stdout\n",
    "f = open(\n",
    "    'df.txt', 'w'\n",
    ")\n",
    "sys.stdout = f\n",
    "\n",
    "\n",
    "for index, topic in enumerate(LDA.components_):\n",
    "    dataframe = pd.DataFrame(columns=[f'THE TOP 15 WORDS FOR TOPIC #{index}'], data=[cv.get_feature_names_out()[index] for index in topic.argsort()[-15:]])\n",
    "    print(dataframe)\n",
    "\n",
    "sys.stdout = orig_stdout\n",
    "f.close()"
   ]
  },
  {
   "cell_type": "code",
   "execution_count": 18,
   "metadata": {},
   "outputs": [
    {
     "data": {
      "text/html": [
       "<div>\n",
       "<style scoped>\n",
       "    .dataframe tbody tr th:only-of-type {\n",
       "        vertical-align: middle;\n",
       "    }\n",
       "\n",
       "    .dataframe tbody tr th {\n",
       "        vertical-align: top;\n",
       "    }\n",
       "\n",
       "    .dataframe thead th {\n",
       "        text-align: right;\n",
       "    }\n",
       "</style>\n",
       "<table border=\"1\" class=\"dataframe\">\n",
       "  <thead>\n",
       "    <tr style=\"text-align: right;\">\n",
       "      <th></th>\n",
       "      <th>THE TOP 15 WORDS FOR TOPIC #0</th>\n",
       "      <th>THE TOP 15 WORDS FOR TOPIC #1</th>\n",
       "      <th>THE TOP 15 WORDS FOR TOPIC #2</th>\n",
       "      <th>THE TOP 15 WORDS FOR TOPIC #3</th>\n",
       "      <th>THE TOP 15 WORDS FOR TOPIC #4</th>\n",
       "      <th>THE TOP 15 WORDS FOR TOPIC #5</th>\n",
       "      <th>THE TOP 15 WORDS FOR TOPIC #6</th>\n",
       "      <th>THE TOP 15 WORDS FOR TOPIC #7</th>\n",
       "      <th>THE TOP 15 WORDS FOR TOPIC #8</th>\n",
       "      <th>THE TOP 15 WORDS FOR TOPIC #9</th>\n",
       "    </tr>\n",
       "  </thead>\n",
       "  <tbody>\n",
       "    <tr>\n",
       "      <th>0</th>\n",
       "      <td>0                     innovation</td>\n",
       "      <td>0                   productivity</td>\n",
       "      <td>0                        leading</td>\n",
       "      <td>0                         recent</td>\n",
       "      <td>0                           time</td>\n",
       "      <td>0                      available</td>\n",
       "      <td>0                      customers</td>\n",
       "      <td>0                       language</td>\n",
       "      <td>0                             ed</td>\n",
       "      <td>0                      computing</td>\n",
       "    </tr>\n",
       "    <tr>\n",
       "      <th>1</th>\n",
       "      <td>1                         global</td>\n",
       "      <td>1                         issues</td>\n",
       "      <td>1                    intelligent</td>\n",
       "      <td>1                           like</td>\n",
       "      <td>1                    information</td>\n",
       "      <td>1                           user</td>\n",
       "      <td>1                        company</td>\n",
       "      <td>1                        virtual</td>\n",
       "      <td>1                             op</td>\n",
       "      <td>1                           sure</td>\n",
       "    </tr>\n",
       "    <tr>\n",
       "      <th>2</th>\n",
       "      <td>2                          world</td>\n",
       "      <td>2                   technologies</td>\n",
       "      <td>2                         ipsoft</td>\n",
       "      <td>2                          value</td>\n",
       "      <td>2                            new</td>\n",
       "      <td>2                      processes</td>\n",
       "      <td>2                    experiences</td>\n",
       "      <td>2                        support</td>\n",
       "      <td>2                        virtual</td>\n",
       "      <td>2                           read</td>\n",
       "    </tr>\n",
       "    <tr>\n",
       "      <th>3</th>\n",
       "      <td>3                      solutions</td>\n",
       "      <td>3                            new</td>\n",
       "      <td>3                          human</td>\n",
       "      <td>3                      employees</td>\n",
       "      <td>3                         recent</td>\n",
       "      <td>3                            new</td>\n",
       "      <td>3                     operations</td>\n",
       "      <td>3                        natural</td>\n",
       "      <td>3                    intelligent</td>\n",
       "      <td>3                         recent</td>\n",
       "    </tr>\n",
       "    <tr>\n",
       "      <th>4</th>\n",
       "      <td>4                      cognitive</td>\n",
       "      <td>4                         future</td>\n",
       "      <td>4                            end</td>\n",
       "      <td>4                           work</td>\n",
       "      <td>4                             op</td>\n",
       "      <td>4                           able</td>\n",
       "      <td>4                     enterprise</td>\n",
       "      <td>4                        service</td>\n",
       "      <td>4                        service</td>\n",
       "      <td>4                        machine</td>\n",
       "    </tr>\n",
       "    <tr>\n",
       "      <th>5</th>\n",
       "      <td>5                        digital</td>\n",
       "      <td>5                          roles</td>\n",
       "      <td>5                         leader</td>\n",
       "      <td>5                   intelligence</td>\n",
       "      <td>5                             ed</td>\n",
       "      <td>5                       chatbots</td>\n",
       "      <td>5                       services</td>\n",
       "      <td>5                         ipsoft</td>\n",
       "      <td>5                     businesses</td>\n",
       "      <td>5                      cognitive</td>\n",
       "    </tr>\n",
       "    <tr>\n",
       "      <th>6</th>\n",
       "      <td>6                     enterprise</td>\n",
       "      <td>6                          tasks</td>\n",
       "      <td>6                        everest</td>\n",
       "      <td>6                    information</td>\n",
       "      <td>6                       services</td>\n",
       "      <td>6                         ipsoft</td>\n",
       "      <td>6                            new</td>\n",
       "      <td>6                      insurance</td>\n",
       "      <td>6                           read</td>\n",
       "      <td>6                       director</td>\n",
       "    </tr>\n",
       "    <tr>\n",
       "      <th>7</th>\n",
       "      <td>7                     automation</td>\n",
       "      <td>7                         ipsoft</td>\n",
       "      <td>7                     enterprise</td>\n",
       "      <td>7                     technology</td>\n",
       "      <td>7                       managing</td>\n",
       "      <td>7                      questions</td>\n",
       "      <td>7                          human</td>\n",
       "      <td>7                      companies</td>\n",
       "      <td>7                      companies</td>\n",
       "      <td>7                   intelligence</td>\n",
       "    </tr>\n",
       "    <tr>\n",
       "      <th>8</th>\n",
       "      <td>8                            end</td>\n",
       "      <td>8                        workers</td>\n",
       "      <td>8                          group</td>\n",
       "      <td>8                       business</td>\n",
       "      <td>8                         ipsoft</td>\n",
       "      <td>8                        context</td>\n",
       "      <td>8                        digital</td>\n",
       "      <td>8                         agents</td>\n",
       "      <td>8                          voice</td>\n",
       "      <td>8                 conversational</td>\n",
       "    </tr>\n",
       "    <tr>\n",
       "      <th>9</th>\n",
       "      <td>9                        leading</td>\n",
       "      <td>9                      employees</td>\n",
       "      <td>9                         market</td>\n",
       "      <td>9                          human</td>\n",
       "      <td>9                         impact</td>\n",
       "      <td>9                         author</td>\n",
       "      <td>9                 conversational</td>\n",
       "      <td>9                      cognitive</td>\n",
       "      <td>9                       business</td>\n",
       "      <td>9                           says</td>\n",
       "    </tr>\n",
       "    <tr>\n",
       "      <th>10</th>\n",
       "      <td>10                    operations</td>\n",
       "      <td>10                      business</td>\n",
       "      <td>10                           new</td>\n",
       "      <td>10                          read</td>\n",
       "      <td>10                     cognitive</td>\n",
       "      <td>10                     colleague</td>\n",
       "      <td>10                       leading</td>\n",
       "      <td>10                         human</td>\n",
       "      <td>10                      customer</td>\n",
       "      <td>10                          best</td>\n",
       "    </tr>\n",
       "    <tr>\n",
       "      <th>11</th>\n",
       "      <td>11                    technology</td>\n",
       "      <td>11                       digital</td>\n",
       "      <td>11                        report</td>\n",
       "      <td>11                       article</td>\n",
       "      <td>11                      director</td>\n",
       "      <td>11                    understand</td>\n",
       "      <td>11                      customer</td>\n",
       "      <td>11                    experience</td>\n",
       "      <td>11                        ipsoft</td>\n",
       "      <td>11                          post</td>\n",
       "    </tr>\n",
       "    <tr>\n",
       "      <th>12</th>\n",
       "      <td>12                           new</td>\n",
       "      <td>12                          work</td>\n",
       "      <td>12                conversational</td>\n",
       "      <td>12                        amelia</td>\n",
       "      <td>12                            uk</td>\n",
       "      <td>12                         learn</td>\n",
       "      <td>12                           end</td>\n",
       "      <td>12                     customers</td>\n",
       "      <td>12                           ceo</td>\n",
       "      <td>12                      learning</td>\n",
       "    </tr>\n",
       "    <tr>\n",
       "      <th>13</th>\n",
       "      <td>13                        ipsoft</td>\n",
       "      <td>13                        amelia</td>\n",
       "      <td>13                    automation</td>\n",
       "      <td>13                        ipsoft</td>\n",
       "      <td>13                    healthcare</td>\n",
       "      <td>13                         users</td>\n",
       "      <td>13                       service</td>\n",
       "      <td>13                        amelia</td>\n",
       "      <td>13                          dube</td>\n",
       "      <td>13                     companies</td>\n",
       "    </tr>\n",
       "    <tr>\n",
       "      <th>14</th>\n",
       "      <td>14                        amelia</td>\n",
       "      <td>14                         human</td>\n",
       "      <td>14                        amelia</td>\n",
       "      <td>14                       digital</td>\n",
       "      <td>14                        health</td>\n",
       "      <td>14                          post</td>\n",
       "      <td>14                        amelia</td>\n",
       "      <td>14                      customer</td>\n",
       "      <td>14                        chetan</td>\n",
       "      <td>14                        ipsoft</td>\n",
       "    </tr>\n",
       "  </tbody>\n",
       "</table>\n",
       "</div>"
      ],
      "text/plain": [
       "0      THE TOP 15 WORDS FOR TOPIC #0     THE TOP 15 WORDS FOR TOPIC #1  \\\n",
       "0   0                     innovation  0                   productivity   \n",
       "1   1                         global  1                         issues   \n",
       "2   2                          world  2                   technologies   \n",
       "3   3                      solutions  3                            new   \n",
       "4   4                      cognitive  4                         future   \n",
       "5   5                        digital  5                          roles   \n",
       "6   6                     enterprise  6                          tasks   \n",
       "7   7                     automation  7                         ipsoft   \n",
       "8   8                            end  8                        workers   \n",
       "9   9                        leading  9                      employees   \n",
       "10  10                    operations  10                      business   \n",
       "11  11                    technology  11                       digital   \n",
       "12  12                           new  12                          work   \n",
       "13  13                        ipsoft  13                        amelia   \n",
       "14  14                        amelia  14                         human   \n",
       "\n",
       "0      THE TOP 15 WORDS FOR TOPIC #2     THE TOP 15 WORDS FOR TOPIC #3  \\\n",
       "0   0                        leading  0                         recent   \n",
       "1   1                    intelligent  1                           like   \n",
       "2   2                         ipsoft  2                          value   \n",
       "3   3                          human  3                      employees   \n",
       "4   4                            end  4                           work   \n",
       "5   5                         leader  5                   intelligence   \n",
       "6   6                        everest  6                    information   \n",
       "7   7                     enterprise  7                     technology   \n",
       "8   8                          group  8                       business   \n",
       "9   9                         market  9                          human   \n",
       "10  10                           new  10                          read   \n",
       "11  11                        report  11                       article   \n",
       "12  12                conversational  12                        amelia   \n",
       "13  13                    automation  13                        ipsoft   \n",
       "14  14                        amelia  14                       digital   \n",
       "\n",
       "0      THE TOP 15 WORDS FOR TOPIC #4     THE TOP 15 WORDS FOR TOPIC #5  \\\n",
       "0   0                           time  0                      available   \n",
       "1   1                    information  1                           user   \n",
       "2   2                            new  2                      processes   \n",
       "3   3                         recent  3                            new   \n",
       "4   4                             op  4                           able   \n",
       "5   5                             ed  5                       chatbots   \n",
       "6   6                       services  6                         ipsoft   \n",
       "7   7                       managing  7                      questions   \n",
       "8   8                         ipsoft  8                        context   \n",
       "9   9                         impact  9                         author   \n",
       "10  10                     cognitive  10                     colleague   \n",
       "11  11                      director  11                    understand   \n",
       "12  12                            uk  12                         learn   \n",
       "13  13                    healthcare  13                         users   \n",
       "14  14                        health  14                          post   \n",
       "\n",
       "0      THE TOP 15 WORDS FOR TOPIC #6     THE TOP 15 WORDS FOR TOPIC #7  \\\n",
       "0   0                      customers  0                       language   \n",
       "1   1                        company  1                        virtual   \n",
       "2   2                    experiences  2                        support   \n",
       "3   3                     operations  3                        natural   \n",
       "4   4                     enterprise  4                        service   \n",
       "5   5                       services  5                         ipsoft   \n",
       "6   6                            new  6                      insurance   \n",
       "7   7                          human  7                      companies   \n",
       "8   8                        digital  8                         agents   \n",
       "9   9                 conversational  9                      cognitive   \n",
       "10  10                       leading  10                         human   \n",
       "11  11                      customer  11                    experience   \n",
       "12  12                           end  12                     customers   \n",
       "13  13                       service  13                        amelia   \n",
       "14  14                        amelia  14                      customer   \n",
       "\n",
       "0      THE TOP 15 WORDS FOR TOPIC #8     THE TOP 15 WORDS FOR TOPIC #9  \n",
       "0   0                             ed  0                      computing  \n",
       "1   1                             op  1                           sure  \n",
       "2   2                        virtual  2                           read  \n",
       "3   3                    intelligent  3                         recent  \n",
       "4   4                        service  4                        machine  \n",
       "5   5                     businesses  5                      cognitive  \n",
       "6   6                           read  6                       director  \n",
       "7   7                      companies  7                   intelligence  \n",
       "8   8                          voice  8                 conversational  \n",
       "9   9                       business  9                           says  \n",
       "10  10                      customer  10                          best  \n",
       "11  11                        ipsoft  11                          post  \n",
       "12  12                           ceo  12                      learning  \n",
       "13  13                          dube  13                     companies  \n",
       "14  14                        chetan  14                        ipsoft  "
      ]
     },
     "execution_count": 18,
     "metadata": {},
     "output_type": "execute_result"
    }
   ],
   "source": [
    "df2 = pd.read_table('df.txt', header=None)\n",
    "import numpy as np\n",
    "arr = np.array(df2)\n",
    "dataframe = pd.DataFrame(arr.reshape((10, 16))).T\n",
    "headers = dataframe.iloc[0]\n",
    "new_df = pd.DataFrame(data=dataframe.values[1:], columns=headers)\n",
    "new_df"
   ]
  },
  {
   "cell_type": "code",
   "execution_count": 19,
   "metadata": {},
   "outputs": [
    {
     "data": {
      "text/plain": [
       "6"
      ]
     },
     "execution_count": 19,
     "metadata": {},
     "output_type": "execute_result"
    }
   ],
   "source": [
    "topic_results = LDA.transform(dtm)\n",
    "topic_results[0].argmax()"
   ]
  },
  {
   "cell_type": "code",
   "execution_count": 20,
   "metadata": {},
   "outputs": [],
   "source": [
    "df['Topic'] = topic_results.argmax(axis=1)"
   ]
  },
  {
   "cell_type": "code",
   "execution_count": 23,
   "metadata": {},
   "outputs": [],
   "source": [
    "positive = df[df['Overall Score'] == 'POS']\n",
    "positive.reset_index(drop=True, inplace=True)\n",
    "negative = df[df['Overall Score'] == 'NEG']\n",
    "negative.reset_index(drop=True, inplace=True)\n",
    "analytics = df.groupby('Date').count().sort_values(by='Title', ascending=False)\n",
    "analytics.to_excel('amelia_alytics.xlsx')\n",
    "df.to_excel('amelia_final.xlsx', index=False)\n",
    "positive.to_excel('amelia_positive_articles.xlsx', index=False)\n",
    "negative.to_excel('amelia_negative_articles.xlsx', index=False)\n",
    "new_df.to_excel('amelia_topic.xlsx', index=False)"
   ]
  }
 ],
 "metadata": {
  "interpreter": {
   "hash": "85ea59b576b4d42e5b007ccfc29f7533bd412890d47039184691991a9b14feb4"
  },
  "kernelspec": {
   "display_name": "Python 3.8.12 64-bit ('base': conda)",
   "language": "python",
   "name": "python3"
  },
  "language_info": {
   "codemirror_mode": {
    "name": "ipython",
    "version": 3
   },
   "file_extension": ".py",
   "mimetype": "text/x-python",
   "name": "python",
   "nbconvert_exporter": "python",
   "pygments_lexer": "ipython3",
   "version": "3.8.12"
  },
  "orig_nbformat": 4
 },
 "nbformat": 4,
 "nbformat_minor": 2
}
