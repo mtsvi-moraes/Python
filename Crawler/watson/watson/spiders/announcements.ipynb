{
 "cells": [
  {
   "cell_type": "code",
   "execution_count": 2,
   "metadata": {},
   "outputs": [],
   "source": [
    "import pandas as pd\n",
    "import seaborn as sns\n",
    "import numpy as np"
   ]
  },
  {
   "cell_type": "code",
   "execution_count": 3,
   "metadata": {},
   "outputs": [],
   "source": [
    "df = pd.read_json('ibm_announcements.json')\n",
    "df['Date'] = pd.to_datetime(df['Date'])\n",
    "# df.set_index('Date', drop=True, inplace=True)\n",
    "dff = df.groupby(['Date', 'Title', 'Link']).count().sort_index(ascending=False)"
   ]
  },
  {
   "cell_type": "code",
   "execution_count": 4,
   "metadata": {},
   "outputs": [
    {
     "data": {
      "text/html": [
       "<div>\n",
       "<style scoped>\n",
       "    .dataframe tbody tr th:only-of-type {\n",
       "        vertical-align: middle;\n",
       "    }\n",
       "\n",
       "    .dataframe tbody tr th {\n",
       "        vertical-align: top;\n",
       "    }\n",
       "\n",
       "    .dataframe thead th {\n",
       "        text-align: right;\n",
       "    }\n",
       "</style>\n",
       "<table border=\"1\" class=\"dataframe\">\n",
       "  <thead>\n",
       "    <tr style=\"text-align: right;\">\n",
       "      <th></th>\n",
       "      <th></th>\n",
       "      <th></th>\n",
       "    </tr>\n",
       "    <tr>\n",
       "      <th>Date</th>\n",
       "      <th>Title</th>\n",
       "      <th>Link</th>\n",
       "    </tr>\n",
       "  </thead>\n",
       "  <tbody>\n",
       "    <tr>\n",
       "      <th>2021-10-28</th>\n",
       "      <th>IBM Study: C-Suite Executives Declare One-Vendor Approach to Cloud is Dead</th>\n",
       "      <th>https://newsroom.ibm.com/2021-10-28-IBM-Study-C-Suite-Executives-Declare-One-Vendor-Approach-to-Cloud-is-Dead</th>\n",
       "    </tr>\n",
       "    <tr>\n",
       "      <th rowspan=\"3\" valign=\"top\">2021-10-26</th>\n",
       "      <th>Samsung and IBM Announce Call for Code Challenge to Honor Everyday Heroes</th>\n",
       "      <th>https://newsroom.ibm.com/2021-10-26-Samsung-and-IBM-Announce-Call-for-Code-Challenge-to-Honor-Everyday-Heroes</th>\n",
       "    </tr>\n",
       "    <tr>\n",
       "      <th>IBM Board Approves Regular Quarterly Cash Dividend\\r\\n</th>\n",
       "      <th>https://newsroom.ibm.com/2021-10-26-IBM-Board-Approves-Regular-Quarterly-Cash-Dividend</th>\n",
       "    </tr>\n",
       "    <tr>\n",
       "      <th>IBM Announces Advances and New Collaborations in AI-Powered Automation, 5G Connectivity and Security at Mobile World Congress Los Angeles</th>\n",
       "      <th>https://newsroom.ibm.com/2021-10-26-IBM-Announces-Advances-and-New-Collaborations-in-AI-Powered-Automation,-5G-Connectivity-and-Security-at-Mobile-World-Congress-Los-Angeles</th>\n",
       "    </tr>\n",
       "    <tr>\n",
       "      <th>2021-10-21</th>\n",
       "      <th>IBM and Crédit Mutuel Accelerate Partnership with AmbitionS, a New Center of Technological Excellence in Strasbourg</th>\n",
       "      <th>https://newsroom.ibm.com/2021-10-21-IBM-and-Credit-Mutuel-accelerate-partnership-with-AmbitionS,-a-new-center-of-technological-excellence-in-Strasbourg</th>\n",
       "    </tr>\n",
       "    <tr>\n",
       "      <th>...</th>\n",
       "      <th>...</th>\n",
       "      <th>...</th>\n",
       "    </tr>\n",
       "    <tr>\n",
       "      <th rowspan=\"5\" valign=\"top\">2009-04-16</th>\n",
       "      <th>New IBM Study Highlights Exploding Demand for Smarter, Faster Rail Systems</th>\n",
       "      <th>https://newsroom.ibm.com/2009-04-16-New-IBM-Study-Highlights-Exploding-Demand-for-Smarter-Faster-Rail-Systems</th>\n",
       "    </tr>\n",
       "    <tr>\n",
       "      <th>National Bank Financial Group Signs CDN$450-Million Services Agreement with IBM</th>\n",
       "      <th>https://newsroom.ibm.com/2009-04-16-National-Bank-Financial-Group-Signs-CDN-450-Million-Services-Agreement-with-IBM</th>\n",
       "    </tr>\n",
       "    <tr>\n",
       "      <th>IBM Technology Alliance Announces Availability of Advanced 28-Nanometer, Low-Power Semiconductor Technology</th>\n",
       "      <th>https://newsroom.ibm.com/2009-04-16-IBM-Technology-Alliance-Announces-Availability-of-Advanced-28-Nanometer-Low-Power-Semiconductor-Technology</th>\n",
       "    </tr>\n",
       "    <tr>\n",
       "      <th>IBM Establishes First Cloud Computing Laboratory in Hong Kong</th>\n",
       "      <th>https://newsroom.ibm.com/2009-04-16-IBM-Establishes-First-Cloud-Computing-Laboratory-in-Hong-Kong</th>\n",
       "    </tr>\n",
       "    <tr>\n",
       "      <th>Daishi Bank Extends Outsourcing Contract With IBM</th>\n",
       "      <th>https://newsroom.ibm.com/2009-04-16-Daishi-Bank-Extends-Outsourcing-Contract-With-IBM</th>\n",
       "    </tr>\n",
       "  </tbody>\n",
       "</table>\n",
       "<p>3979 rows × 0 columns</p>\n",
       "</div>"
      ],
      "text/plain": [
       "Empty DataFrame\n",
       "Columns: []\n",
       "Index: [(2021-10-28 00:00:00, IBM Study: C-Suite Executives Declare One-Vendor Approach to Cloud is Dead, https://newsroom.ibm.com/2021-10-28-IBM-Study-C-Suite-Executives-Declare-One-Vendor-Approach-to-Cloud-is-Dead), (2021-10-26 00:00:00, Samsung and IBM Announce Call for Code Challenge to Honor Everyday Heroes, https://newsroom.ibm.com/2021-10-26-Samsung-and-IBM-Announce-Call-for-Code-Challenge-to-Honor-Everyday-Heroes), (2021-10-26 00:00:00, IBM Board Approves Regular Quarterly Cash Dividend\n",
       ", https://newsroom.ibm.com/2021-10-26-IBM-Board-Approves-Regular-Quarterly-Cash-Dividend), (2021-10-26 00:00:00, IBM Announces Advances and New Collaborations in AI-Powered Automation, 5G Connectivity and Security at Mobile World Congress Los Angeles, https://newsroom.ibm.com/2021-10-26-IBM-Announces-Advances-and-New-Collaborations-in-AI-Powered-Automation,-5G-Connectivity-and-Security-at-Mobile-World-Congress-Los-Angeles), (2021-10-21 00:00:00, IBM and Crédit Mutuel Accelerate Partnership with AmbitionS, a New Center of Technological Excellence in Strasbourg, https://newsroom.ibm.com/2021-10-21-IBM-and-Credit-Mutuel-accelerate-partnership-with-AmbitionS,-a-new-center-of-technological-excellence-in-Strasbourg), (2021-10-21 00:00:00, IBM Report Reveals Potential Rebound for Travel and Event Spending, End of Traditional Shopping Season, https://newsroom.ibm.com/2021-10-21-IBM-Report-Reveals-Potential-Rebound-for-Travel-and-Event-Spending,-End-of-Traditional-Shopping-Season), (2021-10-20 00:00:00, IBM Reports 2021 Third-Quarter Results, https://newsroom.ibm.com/2021-10-20-IBM-Reports-2021-Third-Quarter-Results), (2021-10-19 00:00:00, Leading Financial Institutions Publish Detailed Report on First Central Bank Digital Currency Experiment to Settle French Government Bonds , https://newsroom.ibm.com/2021-10-19-Leading-Financial-Institutions-Publish-Detailed-Report-on-First-Central-Bank-Digital-Currency-Experiment-to-Settle-French-Government-Bonds), (2021-10-19 00:00:00, IBM Acquires Leading Adobe Workfront Consultancy, https://newsroom.ibm.com/2021-10-19-IBM-Acquires-Leading-Adobe-Workfront-Consultancy), (2021-10-13 00:00:00, Virgin Megastore in Saudi Arabia to Accelerate Digital Transformation with IBM and SAP, https://newsroom.ibm.com/2021-10-13-Virgin-Megastore-in-Saudi-Arabia-to-Accelerate-Digital-Transformation-with-IBM-and-SAP), (2021-10-13 00:00:00, IBM Commits to Skill 30 Million People Globally by 2030, https://newsroom.ibm.com/2021-10-13-IBM-Commits-to-Skill-30-Million-People-Globally-by-2030), (2021-10-12 00:00:00, IBM Unveils AI-Driven Software for Environmental Intelligence, Helping Businesses Address Sustainability Objectives and Climate Risk, https://newsroom.ibm.com/2021-10-12-IBM-Unveils-AI-Driven-Software-for-Environmental-Intelligence,-Helping-Businesses-Address-Sustainability-Objectives-and-Climate-Risk), (2021-10-12 00:00:00, IBM Board of Directors Approves Separation of Kyndryl, https://newsroom.ibm.com/2021-10-12-IBM-Board-of-Directors-Approves-Separation-of-Kyndryl), (2021-10-12 00:00:00, Apptio and IBM Announce Collaboration to Help Accelerate Enterprise Transformation with IBM’s Open Hybrid Cloud Approach, https://newsroom.ibm.com/2021-10-12-Apptio-and-IBM-Announce-Collaboration-to-Help-Accelerate-Enterprise-Transformation-with-IBMs-Open-Hybrid-Cloud-Approach), (2021-10-11 00:00:00, IBM and Raytheon Technologies to Collaborate on Artificial Intelligence, Cryptography and Quantum Technologies, https://newsroom.ibm.com/2021-10-11-IBM-and-Raytheon-Technologies-to-Collaborate-on-Artificial-Intelligence,-Cryptography-and-Quantum-Technologies), (2021-10-11 00:00:00, IBM and Deloitte Launch New AI Offering to Unlock Business Insights in Hybrid Cloud Environments, https://newsroom.ibm.com/2021-10-11-IBM-and-Deloitte-Launch-New-AI-Offering-to-Unlock-Business-Insights-in-Hybrid-Cloud-Environments), (2021-10-06 00:00:00, IBM Signs Five-Year Agreement with Honda Motor Europe Ltd to Integrate and Manage Its Finance and Procurement Operations, https://newsroom.ibm.com/2021-10-6-IBM-Signs-Five-Year-Agreement-with-Honda-Motor-Europe-Ltd-to-Integrate-and-Manage-Its-Finance-and-Procurement-Operations), (2021-10-05 00:00:00, IBM and YMCA of Metropolitan Los Angeles Collaborate to Empower and Inform Voters with New Tech Solution for Underrepresented Communities, https://newsroom.ibm.com/2021-10-5-IBM-and-YMCA-of-Metropolitan-Los-Angeles-Collaborate-to-Empower-and-Inform-Voters-with-New-Tech-Solution-for-Underrepresented-Communities), (2021-09-30 00:00:00, IBM Elects Al Zollar to its Board of Directors\n",
       ", https://newsroom.ibm.com/2021-09-30-IBM-Elects-Al-Zollar-to-its-Board-of-Directors), (2021-09-28 00:00:00, Ten Leaders Named to Kyndryl Board of Directors, https://newsroom.ibm.com/2021-09-28-Ten-Leaders-Named-to-Kyndryl-Board-of-Directors), (2021-09-27 00:00:00, Egypt's Ministry of Supply and Internal Trade Automates Wheat Silos Processes in Collaboration with IBM and ACME SAICO, https://newsroom.ibm.com/2021-09-27-Egypts-Ministry-of-Supply-and-Internal-Trade-Automates-Wheat-Silos-Processes-in-Collaboration-with-IBM-and-ACME-SAICO), (2021-09-23 00:00:00, Telefónica Chooses IBM To Implement Its First-Ever Cloud-Native 5G Core Network Platform, https://newsroom.ibm.com/2021-09-23-Telefonica-Chooses-IBM-To-Implement-Its-First-Ever-Cloud-Native-5G-Core-Network-Platform), (2021-09-22 00:00:00, Banks Across Africa Turn to IBM Hybrid Cloud and AI Solutions to Accelerate Digital Innovation, https://newsroom.ibm.com/2021-09-22-Banks-Across-Africa-Turn-to-IBM-Hybrid-Cloud-and-AI-Solutions-to-Accelerate-Digital-Innovation), (2021-09-21 00:00:00, IBM and Airspan Networks Plan to Work to Accelerate 5G-enabled Open RAN Adoption in Europe, https://newsroom.ibm.com/2021-09-21-IBM-and-Airspan-Networks-Plan-to-Work-to-Accelerate-5G-enabled-Open-RAN-Adoption-in-Europe), (2021-09-15 00:00:00, CaixaBank boosts digital capabilities with IBM Cloud for Financial Services; Onboards to New IBM Cloud Multizone Region in Spain, https://newsroom.ibm.com/2021-09-15-CaixaBank-boosts-digital-capabilities-with-IBM-Cloud-for-Financial-Services-Onboards-New-IBM-Cloud-Multizone-Region-in-Spain), (2021-09-14 00:00:00, DISH Selects IBM's AI-Powered Automation and Network Orchestration Software and Services for New Cloud-Native 5G Network, https://newsroom.ibm.com/2021-09-14-DISH-Selects-IBMs-AI-Powered-Automation-and-Network-Orchestration-Software-and-Services-for-New-Cloud-Native-5G-Network), (2021-09-14 00:00:00, Atos to create center of excellence to accelerate digital transformation in the financial services industry, https://newsroom.ibm.com/2021-09-14-Atos-to-create-center-of-excellence-to-accelerate-digital-transformation-in-the-financial-services-industry), (2021-09-09 00:00:00, IBM Watson Launches New AI and Automation Features to Help Businesses Transform Customer Service, https://newsroom.ibm.com/2021-09-09-IBM-Watson-Launches-New-AI-and-Automation-Features-to-Help-Businesses-Transform-Customer-Service), (2021-09-08 00:00:00, Sumo Logic and IBM Expand Collaboration to Accelerate Hybrid Cloud Adoption with Marketplace Availability and Red Hat OpenShift Operator Integration, https://newsroom.ibm.com/2021-09-08-Sumo-Logic-and-IBM-Expand-Collaboration-to-Accelerate-Hybrid-Cloud-Adoption-with-Marketplace-Availability-and-Red-Hat-OpenShift-Operator-Integration), (2021-09-08 00:00:00, Kyndryl Names Harsh Chugh as Chief Operating Officer, https://newsroom.ibm.com/2021-09-08-Kyndryl-Names-Harsh-Chugh-as-Chief-Operating-Officer), (2021-09-08 00:00:00, IBM unveils new generation of IBM Power servers for frictionless, scalable hybrid cloud, https://newsroom.ibm.com/2021-09-08-IBM-unveils-new-generation-of-IBM-Power-servers-for-frictionless,-scalable-hybrid-cloud), (2021-09-02 00:00:00, IBM and Mercedes develop \"Stolen Vehicle Help\" for Mercedes me service, https://newsroom.ibm.com/2021-09-02-IBM-and-Mercedes-develop-Stolen-Vehicle-Help-for-Mercedes-me-service), (2021-09-02 00:00:00, IBM Creates Personalized Fantasy Football Experience with Updated Trade Assistant with Watson and Player Insights in ESPN Fantasy App, https://newsroom.ibm.com/2021-09-02-IBM-Creates-Personalized-Fantasy-Football-Experience-with-Updated-Trade-Assistant-with-Watson-and-Player-Insights-in-ESPN-Fantasy-App), (2021-09-01 00:00:00, IBM Collaborates With Adobe to Introduce Teens to Basic Design Principles, https://newsroom.ibm.com/2021-09-01-IBM-Collaborates-With-Adobe-to-Introduce-Teens-to-Basic-Design-Principles), (2021-08-27 00:00:00, IBM Announces New Innovations and Insights using AI and Cloud technology for 2021 US Open, Enabling Fans to Be More Informed, Engaged During Tennis Grand Slam®, https://newsroom.ibm.com/2021-08-27-IBM-Announces-New-Innovations-and-Insights-using-AI-and-Cloud-technology-for-2021-US-Open,-Enabling-Fans-to-Be-More-Informed,-Engaged-During-Tennis-Grand-Slam-R), (2021-08-25 00:00:00, IBM Expands Zero Trust Strategy Capabilities with New SASE Services to Modernize Network Security, https://newsroom.ibm.com/2021-08-25-IBM-Expands-Zero-Trust-Strategy-Capabilities-with-New-SASE-Services-to-Modernize-Network-Security), (2021-08-23 00:00:00, IBM Unveils On-Chip Accelerated Artificial Intelligence Processor, https://newsroom.ibm.com/2021-08-23-IBM-Unveils-On-Chip-Accelerated-Artificial-Intelligence-Processor), (2021-08-19 00:00:00, American Council on Education Validates IBM Apprenticeship Program, Recommends College Credit to Participants, https://newsroom.ibm.com/2021-08-19-American-Council-on-Education-Validates-IBM-Apprenticeship-Program,-Recommends-College-Credit-to-Participants), (2021-08-05 00:00:00, CAST and IBM Help Enterprises Accelerate Hybrid Cloud Adoption, https://newsroom.ibm.com/2021-08-05-CAST-and-IBM-Help-Enterprises-Accelerate-Hybrid-Cloud-Adoption), (2021-08-03 00:00:00, IBM and Black & Veatch Collaborate on AI-Driven Monitoring Solutions, https://newsroom.ibm.com/2021-08-03-IBM-and-Black-Veatch-Collaborate-on-AI-Driven-Monitoring-Solutions), (2021-07-29 00:00:00, IBM's The Weather Company Continues to Be the World's Most Accurate Forecaster Overall, https://newsroom.ibm.com/2021-07-29-IBMs-The-Weather-Company-Continues-to-Be-the-Worlds-Most-Accurate-Forecaster-Overall), (2021-07-28 00:00:00, Kyndryl Names David Wyshner As Chief Financial Officer, https://newsroom.ibm.com/2021-07-28-Kyndryl-Names-David-Wyshner-As-Chief-Financial-Officer), (2021-07-28 00:00:00, IBM and SAP to Help Financial Institutions Accelerate Cloud Adoption to Modernize Operations in a Secured Environment, https://newsroom.ibm.com/2021-07-28-IBM-and-SAP-to-Help-Financial-Institutions-Accelerate-Cloud-Adoption-to-Modernize-Operations-in-a-Secured-Environment), (2021-07-28 00:00:00, IBM Report: Cost of a Data Breach Hits Record High During Pandemic, https://newsroom.ibm.com/2021-07-28-IBM-Report-Cost-of-a-Data-Breach-Hits-Record-High-During-Pandemic), (2021-07-27 00:00:00, IBM Board Approves Regular Quarterly Cash Dividend, https://newsroom.ibm.com/2021-07-27-IBM-Board-Approves-Regular-Quarterly-Cash-Dividend), (2021-07-27 00:00:00, Announcing IBM z/OS V2.5, Next-Gen Operating System Designed for Hybrid Cloud and AI, https://newsroom.ibm.com/2021-07-27-Announcing-IBM-z-OS-V2-5,-Next-Gen-Operating-System-Designed-for-Hybrid-Cloud-and-AI), (2021-07-26 00:00:00, IBM and the University of Tokyo Unveil Japan's Most Powerful Quantum Computer, https://newsroom.ibm.com/2021-07-26-IBM-and-the-University-of-Tokyo-Unveil-Japans-Most-Powerful-Quantum-Computer), (2021-07-26 00:00:00, IBM Strengthens Its Bench of Federal IT and Industry Expertise with Key Hires in Washington, DC, https://newsroom.ibm.com/2021-07-26-IBM-Strengthens-Its-Bench-of-Federal-IT-and-Industry-Expertise-with-Key-Hires-in-Washington,-DC), (2021-07-22 00:00:00, Amadeus Integrates IBM Digital Health Pass Into Its Digital Health Verification Technology, https://newsroom.ibm.com/2021-07-22-Amadeus-Integrates-IBM-Digital-Health-Pass-Into-Its-Digital-Health-Verification-Technology), (2021-07-21 00:00:00, Bangalore International Airport Limited Partners with IBM for Digital and IT Transformation, https://newsroom.ibm.com/2021-07-21-Bangalore-International-Airport-Limited-Partners-with-IBM-for-Digital-and-IT-Transformation), (2021-07-20 00:00:00, IBM Adds Enhanced Data Protection to FlashSystem to Help Thwart Cyberattacks\n",
       ", https://newsroom.ibm.com/2021-07-20-IBM-Adds-Enhanced-Data-Protection-to-FlashSystem-to-Help-Thwart-Cyber-Attacks), (2021-07-19 00:00:00, IBM Reports 2021 Second-Quarter Results, https://newsroom.ibm.com/2021-07-19-IBM-Reports-2021-Second-Quarter-Results), (2021-07-15 00:00:00, IBM to Acquire Bluetab to Expand Data and Hybrid Cloud Consulting Services in Europe and Latin America, https://newsroom.ibm.com/2021-07-15-IBM-to-Acquire-Bluetab-to-Expand-Data-and-Hybrid-Cloud-Consulting-Services-in-Europe-and-Latin-America), (2021-07-15 00:00:00, IBM Survey: Government IT Modernization Driven by Security Concerns, https://newsroom.ibm.com/2021-07-15-IBM-Survey-Government-IT-Modernization-Driven-by-Security-Concerns), (2021-07-15 00:00:00, Canon, Inc. and IBM Launch Collaboration in Entertainment and the Arts in Japan, https://newsroom.ibm.com/2021-07-15-Canon,-Inc-and-IBM-Launch-Collaboration-in-Entertainment-and-the-Arts-in-Japan), (2021-07-08 00:00:00, IBM to Acquire Premier Hybrid Cloud Consulting Firm, https://newsroom.ibm.com/2021-07-08-IBM-to-Acquire-Premier-Hybrid-Cloud-Consulting-Firm), (2021-07-08 00:00:00, Atos and IBM to Collaborate to Build a Secured Infrastructure for the Dutch Ministry of Defense, https://newsroom.ibm.com/2021-07-08-Atos-and-IBM-to-Collaborate-to-Build-a-Secured-Infrastructure-for-the-Dutch-Ministry-of-Defense), (2021-07-07 00:00:00, Heifer International and IBM Work with Coffee and Cocoa Farmers in Honduras to Increase Access to Data and Global Markets, https://newsroom.ibm.com/2021-07-07-Heifer-International-and-IBM-Work-with-Coffee-and-Cocoa-Farmers-in-Honduras-to-Increase-Access-to-Data-and-Global-Markets), (2021-07-01 00:00:00, Kyndryl Unveils New Operating Model And Global Structure, https://newsroom.ibm.com/2021-07-01-Kyndryl-Unveils-New-Operating-Model-And-Global-Structure), (2021-06-29 00:00:00, Schlumberger and IBM Announce Hybrid Cloud Enterprise Data Management Solution for Energy Sector\n",
       ", https://newsroom.ibm.com/2021-06-29-Schlumberger-and-IBM-Announce-Hybrid-Cloud-Enterprise-Data-Management-Solution-for-Energy-Sector), (2021-06-28 00:00:00, Kyndryl Names Antoine Shagoury As Chief Technology Officer, Announces Kyndryl Customer Advisory Practice, https://newsroom.ibm.com/2021-06-28-Kyndryl-Names-Antoine-Shagoury-As-Chief-Technology-Officer,-Announces-Kyndryl-Customer-Advisory-Practice), (2021-06-28 00:00:00, IBM Brings AI-Powered Automation Software to Networking to Help Simplify Broad Adoption of 5G, https://newsroom.ibm.com/2021-06-28-IBM-Brings-AI-Powered-Automation-Software-to-Networking-Helps-Simplify-Broad-Adoption-of-5G), (2021-06-24 00:00:00, IBM Watson Advertising Announces New Research to Explore the Role of AI in Detecting and Mitigating Bias in Advertising, https://newsroom.ibm.com/2021-06-24-IBM-Watson-Advertising-Announces-New-Research-to-Explore-the-Role-of-AI-in-Detecting-and-Mitigating-Bias-in-Advertising), (2021-06-24 00:00:00, Hapag-Lloyd and Ocean Network Express Complete TradeLens Integration, Join Rapidly Expanding Shipping Ecosystem to Further Enhance Trade Digitization, https://newsroom.ibm.com/2021-06-24-Hapag-Lloyd-and-Ocean-Network-Express-Complete-TradeLens-Integration,-Join-Rapidly-Expanding-Shipping-Ecosystem-to-Further-Enhance-Trade-Digitization), (2021-06-23 00:00:00, IBM and Indian Institute of Science Launch Innovation Lab to Advance Hybrid Cloud Research in India, https://newsroom.ibm.com/2021-06-23-IBM-and-Indian-Institute-of-Science-Launch-Innovation-Lab-to-Advance-Hybrid-Cloud-Research-in-India), (2021-06-23 00:00:00, IBM Creates New AI and Cloud Powered Fan Experiences Ahead of Return to Live Tennis with The Championships, Wimbledon 2021, https://newsroom.ibm.com/2021-06-23-IBM-Creates-New-AI-and-Cloud-Powered-Fan-Experiences-Ahead-of-Return-to-Live-Tennis-with-The-Championships,-Wimbledon-2021), (2021-06-22 00:00:00, University Medical Center Mainz Adopts IBM Cloud Satellite to Digitize Its Clinical Processes , https://newsroom.ibm.com/2021-06-22-University-Medical-Center-Mainz-Adopts-IBM-Cloud-Satellite-to-Digitize-Its-Clinical-Processes), (2021-06-22 00:00:00, IBM Makes Resources Available to Small Business Owners At No Cost to Them, https://newsroom.ibm.com/2021-06-22-IBM-Makes-Resources-Available-to-Small-Business-Owners-At-No-Cost-to-Them), (2021-06-21 00:00:00, Pandora Boosts Online Sales by Transforming Its Global Omnichannel e-Commerce with IBM Sterling Supply Chain Software, https://newsroom.ibm.com/2021-06-21-Pandora-Boosts-Online-Sales-by-Transforming-Its-Global-Omnichannel-e-Commerce-with-IBM-Sterling-Supply-Chain-Software), (2021-06-21 00:00:00, Coricelli Joins IBM Food Trust to Trace Extra-Virgin Olive Oil , https://newsroom.ibm.com/2021-06-21-I-Coricelli-Joins-IBM-Food-Trust-to-Trace-Extra-Virgin-Olive-Oil), (2021-06-17 00:00:00, IBM Digital Health Pass To Integrate With CLX Health's TrustAssure™ Platform, https://newsroom.ibm.com/2021-06-17-IBM-Digital-Health-Pass-To-Integrate-With-CLX-Healths-TrustAssure-TM-Platform), (2021-06-17 00:00:00, IBM Collaborates with 30 Organizations to Re-Skill & Connect the Workforce with Real Career Opportunities, https://newsroom.ibm.com/2021-06-17-IBM-Collaborates-with-30-Organizations-to-Re-Skill-Connect-the-Workforce-with-Real-Career-Opportunities), (2021-06-17 00:00:00, IBM Closes Acquisition of Turbonomic to Deliver Comprehensive AIOps Capabilities for Hybrid Cloud, https://newsroom.ibm.com/2021-06-17-IBM-Closes-Acquisition-of-Turbonomic-to-Deliver-Comprehensive-AIOps-Capabilities-for-Hybrid-Cloud), (2021-06-15 00:00:00, Mayflower Autonomous Ship Begins Transatlantic Crossing Attempt, https://newsroom.ibm.com/2021-06-15-Mayflower-Autonomous-Ship-Begins-Transatlantic-Crossing), (2021-06-15 00:00:00, Kyndryl Names Maryjo Charbonnier As Chief Human Resources Officer, https://newsroom.ibm.com/2021-06-15-Kyndryl-Names-Maryjo-Charbonnier-As-Chief-Human-Resources-Officer), (2021-06-15 00:00:00, IBM Survey: Pandemic-Induced Digital Reliance Creates Lingering Security Side Effects, https://newsroom.ibm.com/2021-06-15-IBM-Survey-Pandemic-Induced-Digital-Reliance-Creates-Lingering-Security-Side-Effects), (2021-06-09 00:00:00, IBM Study: LGBT+ Discrimination in U.S. Workplaces Remains High, Despite Global Focus on Social Justice, https://newsroom.ibm.com/2021-06-09-IBM-Study-LGBT-Discrimination-in-U-S-Workplaces-Remains-High,-Despite-Global-Focus-on-Social-Justice), (2021-06-08 00:00:00, Nueva Pescanova to Help Ensure the Traceability of Products with IBM Food Trust, Supporting More Sustainable Oceans, https://newsroom.ibm.com/2021-06-08-Nueva-Pescanova-to-Help-Ensure-the-Traceability-of-Products-with-IBM-Food-Trust,-Supporting-More-Sustainable-Oceans), (2021-06-03 00:00:00, UK STFC Hartree Centre and IBM Begin Five-Year, £210 Million Partnership to Accelerate Discovery and Innovation with AI and Quantum Computing, https://newsroom.ibm.com/2021-06-03-UK-STFC-Hartree-Centre-and-IBM-Begin-Five-Year,-210-Million-Partnership-to-Accelerate-Discovery-and-Innovation-with-AI-and-Quantum-Computing), (2021-06-03 00:00:00, Harmont & Blaine Chooses IBM Cloud to Support the Company's Growth in the Global Markets\n",
       ", https://newsroom.ibm.com/2021-06-03-Harmont-Blaine-Chooses-IBM-Cloud-to-Support-the-Companys-Growth-in-the-Global-Markets), (2021-06-03 00:00:00, GK Software Collaborates with IBM to Accelerate Retail Innovation and Enhance Customer Omni-Channel Experience with Hybrid Cloud Technology, https://newsroom.ibm.com/2021-06-03-GK-Software-Collaborates-with-IBM-to-Accelerate-Retail-Innovation-and-Enhance-CustomerOmni-Channel-Experience-with-Hybrid-Cloud-Technology), (2021-06-02 00:00:00, IBM To Establish New Cybersecurity Center For US Federal Clients, https://newsroom.ibm.com/2021-06-02-IBM-To-Establish-New-Cybersecurity-Center-For-US-Federal-Clients), (2021-06-02 00:00:00, IBM Selects Six School Districts to Receive a Total of $3 Million in Education Security Preparedness Grants, https://newsroom.ibm.com/2021-06-02-IBM-Selects-Six-School-Districts-to-Receive-a-Total-of-3-Million-in-Education-Security-Preparedness-Grants), (2021-06-01 00:00:00, Nova Sea Joins Norwegian Seafood Trust to Track Salmon from Feed to Food Using IBM Food Trust Technology, https://newsroom.ibm.com/2021-06-01-Nova-Sea-Joins-Norwegian-Seafood-Trust-to-Track-Salmon-from-Feed-to-Food-Using-IBM-Food-Trust-Technology), (2021-05-27 00:00:00, Copersucar Selects IBM Cloud for Sustainable Digital Growth in Hybrid Cloud Environment, https://newsroom.ibm.com/2021-05-27-Copersucar-Selects-IBM-Cloud-for-Sustainable-Digital-Growth-in-Hybrid-Cloud-Environment), (2021-05-26 00:00:00, IBM and the University of Illinois Urbana-Champaign Plan to Launch New Discovery Accelerator Institute, https://newsroom.ibm.com/2021-05-26-IBM-and-the-University-of-Illinois-Urbana-Champaign-Plan-to-Launch-New-Discovery-Accelerator-Institute), (2021-05-24 00:00:00, Latest Release of IBM iConnect Access® Provides Foundation for Planned Future 3D Printing Solution, https://newsroom.ibm.com/2021-05-24-Latest-Release-of-IBM-iConnect-Access-R-Provides-Foundation-for-Planned-Future-3D-Printing-Solution), (2021-05-20 00:00:00, Pitney Bowes Taps IBM for Global Hybrid Cloud Transformation, https://newsroom.ibm.com/2021-05-20-Pitney-Bowes-Taps-IBM-for-Global-Hybrid-Cloud-Transformation), (2021-05-18 00:00:00, Kyndryl Names Michael Bradshaw As Chief Information Officer, https://newsroom.ibm.com/2021-05-18-Kyndryl-Names-Michael-Bradshaw-As-Chief-Information-Officer), (2021-05-18 00:00:00, IBM Acquires Waeg to Deepen Expertise Across the Salesforce Platform in Europe, https://newsroom.ibm.com/2021-05-18-IBM-Acquires-Waeg-to-Deepen-Expertise-Across-the-Salesforce-Platform-in-Europe), (2021-05-12 00:00:00, Global Data from IBM Points to AI Growth as Businesses Strive for Resilience, https://newsroom.ibm.com/2021-05-12-Global-Data-from-IBM-Points-to-AI-Growth-as-Businesses-Strive-for-Resilience), (2021-05-11 00:00:00, IBM Announces Breakthrough Hybrid Cloud and AI Capabilities to Accelerate Digital Transformation at 2021 Think Conference, https://newsroom.ibm.com/2021-05-11-IBM-Announces-Breakthrough-Hybrid-Cloud-and-AI-Capabilities-to-Accelerate-Digital-Transformation-at-2021-Think-Conference), (2021-05-07 00:00:00, IBM Extends HBCU Initiatives Through New Industry Collaborations, https://newsroom.ibm.com/2021-05-07-IBM-Extends-HBCU-Initiatives-Through-New-Industry-Collaborations), (2021-05-06 00:00:00, IBM Unveils World's First 2 Nanometer Chip Technology, Opening a New Frontier for Semiconductors, https://newsroom.ibm.com/2021-05-06-IBM-Unveils-Worlds-First-2-Nanometer-Chip-Technology,-Opening-a-New-Frontier-for-Semiconductors), (2021-05-05 00:00:00, IBM Helps Customers Adopt a Zero Trust Approach to Security, https://newsroom.ibm.com/2021-05-05-IBM-Helps-Customers-Adopt-a-Zero-Trust-Approach-to-Security), (2021-04-29 00:00:00, IBM to Acquire Turbonomic Building Industry's Most Comprehensive AIOps Capabilities for Hybrid Cloud, https://newsroom.ibm.com/2021-04-29-IBM-to-Acquire-Turbonomic-Building-Industrys-Most-Comprehensive-AIOps-Capabilities-for-Hybrid-Cloud), (2021-04-29 00:00:00, IBM Watson Advertising Accelerator Expands to Bring AI to Fast-Growing OTT Media and Streaming Landscape, https://newsroom.ibm.com/2021-04-29-IBM-Watson-Advertising-Accelerator-Expands-to-Bring-AI-to-Fast-Growing-OTT-Media-and-Streaming-Landscape), (2021-04-27 00:00:00, IBM Launches Advanced Storage Solutions Designed to Simplify Data Accessibility & Availability Across Hybrid Clouds, https://newsroom.ibm.com/2021-04-27-IBM-Launches-Advanced-Storage-Solutions-Designed-to-Simplify-Data-Accessibility-Availability-Across-Hybrid-Clouds), (2021-04-27 00:00:00, IBM Board Approves Increase in Quarterly Cash Dividend for the 26th Consecutive Year\n",
       "\n",
       ", https://newsroom.ibm.com/2021-04-27-IBM-Board-Approves-Increase-in-Quarterly-Cash-Dividend-for-the-26th-Consecutive-Year), (2021-04-27 00:00:00, HCL Technologies and IBM Collaborate to Modernize Security Operations, https://newsroom.ibm.com/2021-04-27-HCL-Technologies-and-IBM-Collaborate-to-Modernize-Security-Operations), ...]\n",
       "\n",
       "[3979 rows x 0 columns]"
      ]
     },
     "execution_count": 4,
     "metadata": {},
     "output_type": "execute_result"
    }
   ],
   "source": [
    "dff"
   ]
  }
 ],
 "metadata": {
  "interpreter": {
   "hash": "ef4d4f7acf77a368d39e034fb1c548286032c662fc6c5cfd46b4604189fac6da"
  },
  "kernelspec": {
   "display_name": "Python 3.8.11 64-bit ('base': conda)",
   "name": "python3"
  },
  "language_info": {
   "codemirror_mode": {
    "name": "ipython",
    "version": 3
   },
   "file_extension": ".py",
   "mimetype": "text/x-python",
   "name": "python",
   "nbconvert_exporter": "python",
   "pygments_lexer": "ipython3",
   "version": "3.8.11"
  },
  "orig_nbformat": 4
 },
 "nbformat": 4,
 "nbformat_minor": 2
}
