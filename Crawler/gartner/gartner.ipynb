{
 "cells": [
  {
   "cell_type": "code",
   "execution_count": 2,
   "metadata": {},
   "outputs": [],
   "source": [
    "import json\n",
    "import pandas as pd"
   ]
  },
  {
   "cell_type": "code",
   "execution_count": 3,
   "metadata": {},
   "outputs": [
    {
     "data": {
      "text/html": [
       "<div>\n",
       "<style scoped>\n",
       "    .dataframe tbody tr th:only-of-type {\n",
       "        vertical-align: middle;\n",
       "    }\n",
       "\n",
       "    .dataframe tbody tr th {\n",
       "        vertical-align: top;\n",
       "    }\n",
       "\n",
       "    .dataframe thead th {\n",
       "        text-align: right;\n",
       "    }\n",
       "</style>\n",
       "<table border=\"1\" class=\"dataframe\">\n",
       "  <thead>\n",
       "    <tr style=\"text-align: right;\">\n",
       "      <th></th>\n",
       "      <th>Title</th>\n",
       "      <th>Link</th>\n",
       "    </tr>\n",
       "    <tr>\n",
       "      <th>Date</th>\n",
       "      <th></th>\n",
       "      <th></th>\n",
       "    </tr>\n",
       "  </thead>\n",
       "  <tbody>\n",
       "    <tr>\n",
       "      <th>2021-10-25</th>\n",
       "      <td>3 Supply Chain Strategies to Drive Purpose-Driven Outcomes for a Fractured World</td>\n",
       "      <td>www.gartner.com/en/articles/3-supply-chain-strategies-to-drive-purpose-driven-outcomes-for-a-fractured-world</td>\n",
       "    </tr>\n",
       "    <tr>\n",
       "      <th>2021-10-22</th>\n",
       "      <td>How to Deliver Relevant Content Across the Technology Buyer Journey</td>\n",
       "      <td>www.gartner.com/en/articles/how-to-deliver-relevant-content-across-the-technology-buyer-journey</td>\n",
       "    </tr>\n",
       "    <tr>\n",
       "      <th>2021-10-21</th>\n",
       "      <td>6 Key Takeaways from the Gartner Board of Directors Survey</td>\n",
       "      <td>www.gartner.com/en/articles/6-key-takeaways-from-the-gartner-board-of-directors-survey</td>\n",
       "    </tr>\n",
       "    <tr>\n",
       "      <th>2021-10-21</th>\n",
       "      <td>IT Budgets Are Growing. Here's Where the Money's Going</td>\n",
       "      <td>www.gartner.com/en/articles/it-budgets-are-growing-here-s-where-the-money-s-going</td>\n",
       "    </tr>\n",
       "    <tr>\n",
       "      <th>2021-10-20</th>\n",
       "      <td>The Top 8 Cybersecurity Predictions for 2021-2022</td>\n",
       "      <td>www.gartner.com/en/articles/the-top-8-cybersecurity-predictions-for-2021-2022</td>\n",
       "    </tr>\n",
       "  </tbody>\n",
       "</table>\n",
       "</div>"
      ],
      "text/plain": [
       "                                                                                       Title  \\\n",
       "Date                                                                                           \n",
       "2021-10-25  3 Supply Chain Strategies to Drive Purpose-Driven Outcomes for a Fractured World   \n",
       "2021-10-22               How to Deliver Relevant Content Across the Technology Buyer Journey   \n",
       "2021-10-21                        6 Key Takeaways from the Gartner Board of Directors Survey   \n",
       "2021-10-21                            IT Budgets Are Growing. Here's Where the Money's Going   \n",
       "2021-10-20                                 The Top 8 Cybersecurity Predictions for 2021-2022   \n",
       "\n",
       "                                                                                                                    Link  \n",
       "Date                                                                                                                      \n",
       "2021-10-25  www.gartner.com/en/articles/3-supply-chain-strategies-to-drive-purpose-driven-outcomes-for-a-fractured-world  \n",
       "2021-10-22               www.gartner.com/en/articles/how-to-deliver-relevant-content-across-the-technology-buyer-journey  \n",
       "2021-10-21                        www.gartner.com/en/articles/6-key-takeaways-from-the-gartner-board-of-directors-survey  \n",
       "2021-10-21                             www.gartner.com/en/articles/it-budgets-are-growing-here-s-where-the-money-s-going  \n",
       "2021-10-20                                 www.gartner.com/en/articles/the-top-8-cybersecurity-predictions-for-2021-2022  "
      ]
     },
     "execution_count": 3,
     "metadata": {},
     "output_type": "execute_result"
    }
   ],
   "source": [
    "json_file = pd.read_json('response.json')\n",
    "pd.options.display.max_colwidth = 200\n",
    "json_file.Date = pd.to_datetime(json_file.Date)\n",
    "json_file.sort_values(by='Date', ascending=False)\n",
    "json_file.drop_duplicates(inplace=True)\n",
    "json_file.set_index('Date', inplace=True)\n",
    "json_file.head()"
   ]
  },
  {
   "cell_type": "code",
   "execution_count": 4,
   "metadata": {},
   "outputs": [],
   "source": [
    "json_file.to_csv('gartner.csv')"
   ]
  },
  {
   "cell_type": "code",
   "execution_count": 5,
   "metadata": {},
   "outputs": [],
   "source": [
    "json_file.drop('Link', axis=1, inplace=True)"
   ]
  },
  {
   "cell_type": "code",
   "execution_count": 6,
   "metadata": {},
   "outputs": [],
   "source": [
    "json_file.to_csv('gartner_final.csv', index=False)"
   ]
  }
 ],
 "metadata": {
  "interpreter": {
   "hash": "85ea59b576b4d42e5b007ccfc29f7533bd412890d47039184691991a9b14feb4"
  },
  "kernelspec": {
   "display_name": "Python 3.8.11 64-bit ('base': conda)",
   "name": "python3"
  },
  "language_info": {
   "codemirror_mode": {
    "name": "ipython",
    "version": 3
   },
   "file_extension": ".py",
   "mimetype": "text/x-python",
   "name": "python",
   "nbconvert_exporter": "python",
   "pygments_lexer": "ipython3",
   "version": "3.8.11"
  },
  "orig_nbformat": 4
 },
 "nbformat": 4,
 "nbformat_minor": 2
}
