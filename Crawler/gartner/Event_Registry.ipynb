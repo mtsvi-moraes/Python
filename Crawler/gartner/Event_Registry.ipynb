{
 "cells": [
  {
   "cell_type": "code",
   "execution_count": 1,
   "metadata": {},
   "outputs": [],
   "source": [
    "import requests\n",
    "import json"
   ]
  },
  {
   "cell_type": "code",
   "execution_count": 4,
   "metadata": {},
   "outputs": [],
   "source": [
    "url = \"http://eventregistry.org/api/v1/article/getArticles\"\n",
    "\n",
    "payload = json.dumps({\n",
    "  \"action\": \"getArticles\",\n",
    "  \"keyword\": \"Artificial Intelligence\",\n",
    "  \"articlesPage\": 1,\n",
    "  \"articlesCount\": 10,\n",
    "  \"articlesSortBy\": \"date\",\n",
    "  \"articlesSortByAsc\": False,\n",
    "  \"articlesArticleBodyLen\": -1,\n",
    "  \"resultType\": \"articles\",\n",
    "  \"lang\": \"eng\",\n",
    "  \"dateStart\": \"2021-10-08\",\n",
    "  \"dateEnd\": \"2021-10-15\",\n",
    "  \"dataType\": [\n",
    "    \"news\",\n",
    "    \"pr\"\n",
    "  ],\n",
    "  \"apiKey\": \"2c2850f9-a1eb-4871-930e-f2168a4443de\",\n",
    "  \"forceMaxDataTimeWindow\": 31\n",
    "})\n",
    "headers = {\n",
    "  'Authorization': 'Bearer \"2c2850f9-a1eb-4871-930e-f2168a4443de\"',\n",
    "  'Content-Type': 'application/json'\n",
    "}\n",
    "\n",
    "response = requests.request(\"GET\", url, headers=headers, data=payload)"
   ]
  },
  {
   "cell_type": "code",
   "execution_count": 5,
   "metadata": {},
   "outputs": [],
   "source": [
    "with open('event_registry.json', 'w', encoding='utf-8') as er:\n",
    "    er.write(response.text)"
   ]
  }
 ],
 "metadata": {
  "interpreter": {
   "hash": "85ea59b576b4d42e5b007ccfc29f7533bd412890d47039184691991a9b14feb4"
  },
  "kernelspec": {
   "display_name": "Python 3.8.11 64-bit ('base': conda)",
   "name": "python3"
  },
  "language_info": {
   "codemirror_mode": {
    "name": "ipython",
    "version": 3
   },
   "file_extension": ".py",
   "mimetype": "text/x-python",
   "name": "python",
   "nbconvert_exporter": "python",
   "pygments_lexer": "ipython3",
   "version": "3.8.11"
  },
  "orig_nbformat": 4
 },
 "nbformat": 4,
 "nbformat_minor": 2
}
