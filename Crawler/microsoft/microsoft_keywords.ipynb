{
 "cells": [
  {
   "cell_type": "code",
   "execution_count": 1,
   "metadata": {
    "id": "ojv6zagSrRA_"
   },
   "outputs": [],
   "source": [
    "import pandas as pd\n",
    "import matplotlib.pyplot as plt\n",
    "import numpy as np\n",
    "import seaborn as sns\n",
    "import spacy\n",
    "from collections import Counter\n",
    "from string import punctuation\n",
    "from matplotlib import rcParams\n",
    "%matplotlib inline\n",
    "import os\n",
    "os.environ[\"KMP_DUPLICATE_LIB_OK\"]=\"TRUE\""
   ]
  },
  {
   "cell_type": "code",
   "execution_count": 2,
   "metadata": {
    "colab": {
     "base_uri": "https://localhost:8080/",
     "height": 173
    },
    "id": "u2QJJXqnrga7",
    "outputId": "4f373ebf-ae9b-47a2-a4fc-8ccb9251c862"
   },
   "outputs": [
    {
     "data": {
      "text/html": [
       "<div>\n",
       "<style scoped>\n",
       "    .dataframe tbody tr th:only-of-type {\n",
       "        vertical-align: middle;\n",
       "    }\n",
       "\n",
       "    .dataframe tbody tr th {\n",
       "        vertical-align: top;\n",
       "    }\n",
       "\n",
       "    .dataframe thead th {\n",
       "        text-align: right;\n",
       "    }\n",
       "</style>\n",
       "<table border=\"1\" class=\"dataframe\">\n",
       "  <thead>\n",
       "    <tr style=\"text-align: right;\">\n",
       "      <th></th>\n",
       "      <th>Article</th>\n",
       "      <th>Date</th>\n",
       "      <th>Contributor</th>\n",
       "      <th>Role</th>\n",
       "    </tr>\n",
       "  </thead>\n",
       "  <tbody>\n",
       "    <tr>\n",
       "      <th>0</th>\n",
       "      <td>3 ways to enhance your cloud journey: break, p...</td>\n",
       "      <td>Posted on November 3, 2021</td>\n",
       "      <td>Omar Khan</td>\n",
       "      <td>General Manager, Microsoft Azure</td>\n",
       "    </tr>\n",
       "    <tr>\n",
       "      <th>1</th>\n",
       "      <td>Transform your business with Microsoft's unriv...</td>\n",
       "      <td>Posted on November 2, 2021</td>\n",
       "      <td>Rohan Kumar</td>\n",
       "      <td>Corporate Vice President, Azure Data</td>\n",
       "    </tr>\n",
       "    <tr>\n",
       "      <th>2</th>\n",
       "      <td>Innovate with cloud-native apps and open sourc...</td>\n",
       "      <td>Posted on November 2, 2021</td>\n",
       "      <td>Brendan Burns</td>\n",
       "      <td>Corporate Vice President, Azure Compute</td>\n",
       "    </tr>\n",
       "    <tr>\n",
       "      <th>3</th>\n",
       "      <td>Your hybrid, multicloud, and edge strategy jus...</td>\n",
       "      <td>Posted on November 2, 2021</td>\n",
       "      <td>Kathleen Mitford</td>\n",
       "      <td>Corporate Vice President, Azure Marketing</td>\n",
       "    </tr>\n",
       "    <tr>\n",
       "      <th>4</th>\n",
       "      <td>Key foundations for protecting your data with ...</td>\n",
       "      <td>Posted on November 2, 2021</td>\n",
       "      <td>Mark Russinovich</td>\n",
       "      <td>Chief Technology Officer and Technical Fellow,...</td>\n",
       "    </tr>\n",
       "    <tr>\n",
       "      <th>...</th>\n",
       "      <td>...</td>\n",
       "      <td>...</td>\n",
       "      <td>...</td>\n",
       "      <td>...</td>\n",
       "    </tr>\n",
       "    <tr>\n",
       "      <th>6031</th>\n",
       "      <td>Why customers, including SAP, choose Azure for...</td>\n",
       "      <td>Posted on June 9, 2021</td>\n",
       "      <td>Talal Alqinawi</td>\n",
       "      <td>Senior Director, Azure Marketing</td>\n",
       "    </tr>\n",
       "    <tr>\n",
       "      <th>6032</th>\n",
       "      <td>5 reasons to attend the Azure Hybrid and Multi...</td>\n",
       "      <td>Posted on June 9, 2021</td>\n",
       "      <td>Guillermo Gomez</td>\n",
       "      <td>Senior Product Marketing Manager</td>\n",
       "    </tr>\n",
       "    <tr>\n",
       "      <th>6033</th>\n",
       "      <td>Expanding cloud services: Microsoft launches i...</td>\n",
       "      <td>Posted on June 15, 2021</td>\n",
       "      <td>Noelle Walsh</td>\n",
       "      <td>Corporate Vice President, Cloud Operations + I...</td>\n",
       "    </tr>\n",
       "    <tr>\n",
       "      <th>6034</th>\n",
       "      <td>Unlocking the enterprise opportunity with 5G, ...</td>\n",
       "      <td>Posted on June 16, 2021</td>\n",
       "      <td>Tad Brockway</td>\n",
       "      <td>Corporate Vice President, Microsoft Azure for ...</td>\n",
       "    </tr>\n",
       "    <tr>\n",
       "      <th>6035</th>\n",
       "      <td>Optimize extreme computing performance with Az...</td>\n",
       "      <td>Posted on June 22, 2021</td>\n",
       "      <td>Andy Jia</td>\n",
       "      <td>Senior Program Manager</td>\n",
       "    </tr>\n",
       "  </tbody>\n",
       "</table>\n",
       "<p>6036 rows × 4 columns</p>\n",
       "</div>"
      ],
      "text/plain": [
       "                                                Article  \\\n",
       "0     3 ways to enhance your cloud journey: break, p...   \n",
       "1     Transform your business with Microsoft's unriv...   \n",
       "2     Innovate with cloud-native apps and open sourc...   \n",
       "3     Your hybrid, multicloud, and edge strategy jus...   \n",
       "4     Key foundations for protecting your data with ...   \n",
       "...                                                 ...   \n",
       "6031  Why customers, including SAP, choose Azure for...   \n",
       "6032  5 reasons to attend the Azure Hybrid and Multi...   \n",
       "6033  Expanding cloud services: Microsoft launches i...   \n",
       "6034  Unlocking the enterprise opportunity with 5G, ...   \n",
       "6035  Optimize extreme computing performance with Az...   \n",
       "\n",
       "                            Date       Contributor  \\\n",
       "0     Posted on November 3, 2021         Omar Khan   \n",
       "1     Posted on November 2, 2021       Rohan Kumar   \n",
       "2     Posted on November 2, 2021     Brendan Burns   \n",
       "3     Posted on November 2, 2021  Kathleen Mitford   \n",
       "4     Posted on November 2, 2021  Mark Russinovich   \n",
       "...                          ...               ...   \n",
       "6031      Posted on June 9, 2021    Talal Alqinawi   \n",
       "6032      Posted on June 9, 2021   Guillermo Gomez   \n",
       "6033     Posted on June 15, 2021      Noelle Walsh   \n",
       "6034     Posted on June 16, 2021      Tad Brockway   \n",
       "6035     Posted on June 22, 2021          Andy Jia   \n",
       "\n",
       "                                                   Role  \n",
       "0                      General Manager, Microsoft Azure  \n",
       "1                  Corporate Vice President, Azure Data  \n",
       "2               Corporate Vice President, Azure Compute  \n",
       "3             Corporate Vice President, Azure Marketing  \n",
       "4     Chief Technology Officer and Technical Fellow,...  \n",
       "...                                                 ...  \n",
       "6031                   Senior Director, Azure Marketing  \n",
       "6032                   Senior Product Marketing Manager  \n",
       "6033  Corporate Vice President, Cloud Operations + I...  \n",
       "6034  Corporate Vice President, Microsoft Azure for ...  \n",
       "6035                             Senior Program Manager  \n",
       "\n",
       "[6036 rows x 4 columns]"
      ]
     },
     "execution_count": 2,
     "metadata": {},
     "output_type": "execute_result"
    }
   ],
   "source": [
    "messages = pd.read_json('microsoft.json')\n",
    "messages"
   ]
  },
  {
   "cell_type": "code",
   "execution_count": 3,
   "metadata": {
    "id": "iiKZx7RPrjLQ"
   },
   "outputs": [],
   "source": [
    "nlp = spacy.load(\"en_core_web_sm\")"
   ]
  },
  {
   "cell_type": "code",
   "execution_count": 4,
   "metadata": {
    "id": "caZstaYernOa"
   },
   "outputs": [],
   "source": [
    "def get_hotwords(text):\n",
    "    result = []\n",
    "    pos_tag = ['PROPN', 'ADJ', 'NOUN']\n",
    "    doc = nlp(text.lower())\n",
    "    for token in doc:\n",
    "        \n",
    "        if(token.text in nlp.Defaults.stop_words or token.text in punctuation):\n",
    "            continue\n",
    "        \n",
    "        elif(token.pos_ in pos_tag):\n",
    "            result.append(token.text)\n",
    "                \n",
    "    return result"
   ]
  },
  {
   "cell_type": "code",
   "execution_count": 5,
   "metadata": {
    "id": "bKbyOvXrrq0J"
   },
   "outputs": [],
   "source": [
    "message_text = str(messages.Article.values)\n",
    "output = get_hotwords(message_text)\n",
    "words = [x for x in Counter(output).most_common(30)]"
   ]
  },
  {
   "cell_type": "code",
   "execution_count": 6,
   "metadata": {
    "colab": {
     "base_uri": "https://localhost:8080/",
     "height": 514
    },
    "id": "gaxBfKv5rxss",
    "outputId": "675f2a91-bdb7-4210-9ebb-c3b19b753303"
   },
   "outputs": [
    {
     "data": {
      "image/png": "[encoded data removed]",
      "text/plain": [
       "<Figure size 1440x1152 with 1 Axes>"
      ]
     },
     "metadata": {},
     "output_type": "display_data"
    }
   ],
   "source": [
    "df = pd.DataFrame(words, columns =['Most commom keywords', 'Amount'])\n",
    "rcParams['figure.figsize'] = 20,16\n",
    "sns.set_style('darkgrid')\n",
    "ax = sns.barplot(x='Amount', y='Most commom keywords', data= df[:10], palette='rocket', edgecolor='k')\n",
    "ax.set_title('IBM TOP 10 MOST COMMOM KEYWORDS BY FREQUENCY', fontsize=14, weight='bold')\n",
    "ax.set_xlabel('Amount')\n",
    "sns.despine();\n",
    "plt.savefig('ibm_keywords.png')"
   ]
  }
 ],
 "metadata": {
  "colab": {
   "name": "accenture_keywords.ipynb",
   "provenance": []
  },
  "kernelspec": {
   "display_name": "Python 3 (ipykernel)",
   "language": "python",
   "name": "python3"
  },
  "language_info": {
   "codemirror_mode": {
    "name": "ipython",
    "version": 3
   },
   "file_extension": ".py",
   "mimetype": "text/x-python",
   "name": "python",
   "nbconvert_exporter": "python",
   "pygments_lexer": "ipython3",
   "version": "3.8.12"
  }
 },
 "nbformat": 4,
 "nbformat_minor": 1
}
