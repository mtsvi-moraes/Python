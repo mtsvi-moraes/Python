{
 "cells": [
  {
   "cell_type": "code",
   "execution_count": 1,
   "id": "c3ab69e7",
   "metadata": {},
   "outputs": [],
   "source": [
    "import pandas as pd\n",
    "import numpy as np\n",
    "import scipy\n",
    "from scipy import stats\n",
    "from scipy.stats import norm"
   ]
  },
  {
   "cell_type": "code",
   "execution_count": 2,
   "id": "8333f04c",
   "metadata": {},
   "outputs": [],
   "source": [
    "arr = norm.rvs(loc=50, scale=10, size=100)\n",
    "arr2 = norm.rvs(loc=90, scale=20, size=100)\n",
    "arr3 = norm.rvs(loc=10, scale=3, size=100)\n",
    "array = np.concatenate([arr, arr2, arr3]).reshape((50, 6))"
   ]
  },
  {
   "cell_type": "code",
   "execution_count": 3,
   "id": "75d4ac62",
   "metadata": {},
   "outputs": [
    {
     "data": {
      "text/html": [
       "<div>\n",
       "<style scoped>\n",
       "    .dataframe tbody tr th:only-of-type {\n",
       "        vertical-align: middle;\n",
       "    }\n",
       "\n",
       "    .dataframe tbody tr th {\n",
       "        vertical-align: top;\n",
       "    }\n",
       "\n",
       "    .dataframe thead th {\n",
       "        text-align: right;\n",
       "    }\n",
       "</style>\n",
       "<table border=\"1\" class=\"dataframe\">\n",
       "  <thead>\n",
       "    <tr style=\"text-align: right;\">\n",
       "      <th></th>\n",
       "      <th>Primeira</th>\n",
       "      <th>Segunda</th>\n",
       "      <th>Terceira</th>\n",
       "      <th>Quarta</th>\n",
       "      <th>Quinta</th>\n",
       "      <th>Sexta</th>\n",
       "    </tr>\n",
       "  </thead>\n",
       "  <tbody>\n",
       "    <tr>\n",
       "      <th>count</th>\n",
       "      <td>50.000000</td>\n",
       "      <td>50.000000</td>\n",
       "      <td>50.000000</td>\n",
       "      <td>50.000000</td>\n",
       "      <td>50.000000</td>\n",
       "      <td>50.000000</td>\n",
       "    </tr>\n",
       "    <tr>\n",
       "      <th>mean</th>\n",
       "      <td>50.732021</td>\n",
       "      <td>51.425738</td>\n",
       "      <td>49.619839</td>\n",
       "      <td>50.580360</td>\n",
       "      <td>51.610743</td>\n",
       "      <td>51.146487</td>\n",
       "    </tr>\n",
       "    <tr>\n",
       "      <th>std</th>\n",
       "      <td>34.539120</td>\n",
       "      <td>38.512744</td>\n",
       "      <td>36.772531</td>\n",
       "      <td>36.072585</td>\n",
       "      <td>37.930041</td>\n",
       "      <td>35.332216</td>\n",
       "    </tr>\n",
       "    <tr>\n",
       "      <th>min</th>\n",
       "      <td>7.812511</td>\n",
       "      <td>5.317111</td>\n",
       "      <td>5.932290</td>\n",
       "      <td>6.942038</td>\n",
       "      <td>3.893310</td>\n",
       "      <td>8.034083</td>\n",
       "    </tr>\n",
       "    <tr>\n",
       "      <th>25%</th>\n",
       "      <td>12.998405</td>\n",
       "      <td>12.954873</td>\n",
       "      <td>13.030354</td>\n",
       "      <td>12.119921</td>\n",
       "      <td>12.658025</td>\n",
       "      <td>12.255915</td>\n",
       "    </tr>\n",
       "    <tr>\n",
       "      <th>50%</th>\n",
       "      <td>51.331646</td>\n",
       "      <td>47.811009</td>\n",
       "      <td>47.731362</td>\n",
       "      <td>46.073288</td>\n",
       "      <td>47.398198</td>\n",
       "      <td>48.595183</td>\n",
       "    </tr>\n",
       "    <tr>\n",
       "      <th>75%</th>\n",
       "      <td>80.219511</td>\n",
       "      <td>72.870094</td>\n",
       "      <td>68.986860</td>\n",
       "      <td>77.142810</td>\n",
       "      <td>80.542927</td>\n",
       "      <td>79.100805</td>\n",
       "    </tr>\n",
       "    <tr>\n",
       "      <th>max</th>\n",
       "      <td>126.321767</td>\n",
       "      <td>141.537814</td>\n",
       "      <td>142.177250</td>\n",
       "      <td>131.724775</td>\n",
       "      <td>142.923181</td>\n",
       "      <td>122.830651</td>\n",
       "    </tr>\n",
       "  </tbody>\n",
       "</table>\n",
       "</div>"
      ],
      "text/plain": [
       "         Primeira     Segunda    Terceira      Quarta      Quinta       Sexta\n",
       "count   50.000000   50.000000   50.000000   50.000000   50.000000   50.000000\n",
       "mean    50.732021   51.425738   49.619839   50.580360   51.610743   51.146487\n",
       "std     34.539120   38.512744   36.772531   36.072585   37.930041   35.332216\n",
       "min      7.812511    5.317111    5.932290    6.942038    3.893310    8.034083\n",
       "25%     12.998405   12.954873   13.030354   12.119921   12.658025   12.255915\n",
       "50%     51.331646   47.811009   47.731362   46.073288   47.398198   48.595183\n",
       "75%     80.219511   72.870094   68.986860   77.142810   80.542927   79.100805\n",
       "max    126.321767  141.537814  142.177250  131.724775  142.923181  122.830651"
      ]
     },
     "execution_count": 3,
     "metadata": {},
     "output_type": "execute_result"
    }
   ],
   "source": [
    "df = pd.DataFrame(array, columns=['Primeira', 'Segunda', 'Terceira', 'Quarta', 'Quinta', 'Sexta'])\n",
    "df.describe()"
   ]
  },
  {
   "cell_type": "code",
   "execution_count": 4,
   "id": "539116a9",
   "metadata": {},
   "outputs": [],
   "source": [
    "df['Setima'] = 'A'"
   ]
  },
  {
   "cell_type": "code",
   "execution_count": 5,
   "id": "aeba9e60",
   "metadata": {},
   "outputs": [
    {
     "data": {
      "text/html": [
       "<div>\n",
       "<style scoped>\n",
       "    .dataframe tbody tr th:only-of-type {\n",
       "        vertical-align: middle;\n",
       "    }\n",
       "\n",
       "    .dataframe tbody tr th {\n",
       "        vertical-align: top;\n",
       "    }\n",
       "\n",
       "    .dataframe thead th {\n",
       "        text-align: right;\n",
       "    }\n",
       "</style>\n",
       "<table border=\"1\" class=\"dataframe\">\n",
       "  <thead>\n",
       "    <tr style=\"text-align: right;\">\n",
       "      <th></th>\n",
       "      <th>Primeira</th>\n",
       "      <th>Segunda</th>\n",
       "      <th>Terceira</th>\n",
       "      <th>Quarta</th>\n",
       "      <th>Quinta</th>\n",
       "      <th>Sexta</th>\n",
       "      <th>Setima</th>\n",
       "      <th>Oitava</th>\n",
       "    </tr>\n",
       "  </thead>\n",
       "  <tbody>\n",
       "    <tr>\n",
       "      <th>0</th>\n",
       "      <td>54.044480</td>\n",
       "      <td>56.422363</td>\n",
       "      <td>61.007992</td>\n",
       "      <td>52.088176</td>\n",
       "      <td>46.509428</td>\n",
       "      <td>63.403452</td>\n",
       "      <td>A</td>\n",
       "      <td>110.466844</td>\n",
       "    </tr>\n",
       "    <tr>\n",
       "      <th>1</th>\n",
       "      <td>42.870230</td>\n",
       "      <td>45.504984</td>\n",
       "      <td>33.064745</td>\n",
       "      <td>44.679954</td>\n",
       "      <td>41.494933</td>\n",
       "      <td>41.385969</td>\n",
       "      <td>A</td>\n",
       "      <td>88.375213</td>\n",
       "    </tr>\n",
       "    <tr>\n",
       "      <th>2</th>\n",
       "      <td>51.475984</td>\n",
       "      <td>47.553716</td>\n",
       "      <td>54.581132</td>\n",
       "      <td>34.035183</td>\n",
       "      <td>51.578260</td>\n",
       "      <td>61.723986</td>\n",
       "      <td>A</td>\n",
       "      <td>99.029700</td>\n",
       "    </tr>\n",
       "    <tr>\n",
       "      <th>3</th>\n",
       "      <td>33.116838</td>\n",
       "      <td>56.953061</td>\n",
       "      <td>58.404022</td>\n",
       "      <td>58.720882</td>\n",
       "      <td>35.942921</td>\n",
       "      <td>40.278362</td>\n",
       "      <td>A</td>\n",
       "      <td>90.069899</td>\n",
       "    </tr>\n",
       "    <tr>\n",
       "      <th>4</th>\n",
       "      <td>51.014303</td>\n",
       "      <td>49.729083</td>\n",
       "      <td>52.345012</td>\n",
       "      <td>50.023320</td>\n",
       "      <td>42.590834</td>\n",
       "      <td>47.471854</td>\n",
       "      <td>A</td>\n",
       "      <td>100.743386</td>\n",
       "    </tr>\n",
       "  </tbody>\n",
       "</table>\n",
       "</div>"
      ],
      "text/plain": [
       "    Primeira    Segunda   Terceira     Quarta     Quinta      Sexta Setima  \\\n",
       "0  54.044480  56.422363  61.007992  52.088176  46.509428  63.403452      A   \n",
       "1  42.870230  45.504984  33.064745  44.679954  41.494933  41.385969      A   \n",
       "2  51.475984  47.553716  54.581132  34.035183  51.578260  61.723986      A   \n",
       "3  33.116838  56.953061  58.404022  58.720882  35.942921  40.278362      A   \n",
       "4  51.014303  49.729083  52.345012  50.023320  42.590834  47.471854      A   \n",
       "\n",
       "       Oitava  \n",
       "0  110.466844  \n",
       "1   88.375213  \n",
       "2   99.029700  \n",
       "3   90.069899  \n",
       "4  100.743386  "
      ]
     },
     "execution_count": 5,
     "metadata": {},
     "output_type": "execute_result"
    }
   ],
   "source": [
    "df['Oitava'] = df['Primeira'] + df['Segunda']\n",
    "df.head()"
   ]
  },
  {
   "cell_type": "code",
   "execution_count": 6,
   "id": "0851b25c",
   "metadata": {},
   "outputs": [
    {
     "data": {
      "text/plain": [
       "<AxesSubplot:>"
      ]
     },
     "execution_count": 6,
     "metadata": {},
     "output_type": "execute_result"
    },
    {
     "data": {
      "image/png": "[encoded data removed]",
      "text/plain": [
       "<Figure size 432x288 with 1 Axes>"
      ]
     },
     "metadata": {
      "needs_background": "light"
     },
     "output_type": "display_data"
    }
   ],
   "source": [
    "df.boxplot()"
   ]
  },
  {
   "cell_type": "code",
   "execution_count": 7,
   "id": "d9b96b4e",
   "metadata": {},
   "outputs": [],
   "source": [
    "import statsmodels.api as sm\n",
    "from statsmodels.formula.api import ols\n",
    "from statsmodels.stats.multicomp import MultiComparison"
   ]
  },
  {
   "cell_type": "code",
   "execution_count": 21,
   "id": "3f51c893",
   "metadata": {},
   "outputs": [
    {
     "data": {
      "text/html": [
       "<div>\n",
       "<style scoped>\n",
       "    .dataframe tbody tr th:only-of-type {\n",
       "        vertical-align: middle;\n",
       "    }\n",
       "\n",
       "    .dataframe tbody tr th {\n",
       "        vertical-align: top;\n",
       "    }\n",
       "\n",
       "    .dataframe thead th {\n",
       "        text-align: right;\n",
       "    }\n",
       "</style>\n",
       "<table border=\"1\" class=\"dataframe\">\n",
       "  <thead>\n",
       "    <tr style=\"text-align: right;\">\n",
       "      <th></th>\n",
       "      <th>df</th>\n",
       "      <th>sum_sq</th>\n",
       "      <th>mean_sq</th>\n",
       "      <th>F</th>\n",
       "      <th>PR(&gt;F)</th>\n",
       "    </tr>\n",
       "  </thead>\n",
       "  <tbody>\n",
       "    <tr>\n",
       "      <th>Oitava</th>\n",
       "      <td>1.0</td>\n",
       "      <td>52175.555450</td>\n",
       "      <td>52175.555450</td>\n",
       "      <td>398.855332</td>\n",
       "      <td>6.737164e-25</td>\n",
       "    </tr>\n",
       "    <tr>\n",
       "      <th>Residual</th>\n",
       "      <td>48.0</td>\n",
       "      <td>6279.035187</td>\n",
       "      <td>130.813233</td>\n",
       "      <td>NaN</td>\n",
       "      <td>NaN</td>\n",
       "    </tr>\n",
       "  </tbody>\n",
       "</table>\n",
       "</div>"
      ],
      "text/plain": [
       "            df        sum_sq       mean_sq           F        PR(>F)\n",
       "Oitava     1.0  52175.555450  52175.555450  398.855332  6.737164e-25\n",
       "Residual  48.0   6279.035187    130.813233         NaN           NaN"
      ]
     },
     "execution_count": 21,
     "metadata": {},
     "output_type": "execute_result"
    }
   ],
   "source": [
    "model = ols('Primeira ~ Oitava', data = df).fit()\n",
    "resultados2 = sm.stats.anova_lm(model)\n",
    "resultados2"
   ]
  },
  {
   "cell_type": "code",
   "execution_count": 9,
   "id": "99e74e66",
   "metadata": {},
   "outputs": [],
   "source": [
    "from scipy.stats import f_oneway"
   ]
  },
  {
   "cell_type": "code",
   "execution_count": 24,
   "id": "f09a30bf",
   "metadata": {},
   "outputs": [],
   "source": [
    "F, p = f_oneway(df.Primeira, df['Oitava'])"
   ]
  },
  {
   "cell_type": "code",
   "execution_count": 25,
   "id": "849c0c05",
   "metadata": {},
   "outputs": [
    {
     "data": {
      "text/plain": [
       "8.901203849633213e-06"
      ]
     },
     "execution_count": 25,
     "metadata": {},
     "output_type": "execute_result"
    }
   ],
   "source": [
    "p"
   ]
  },
  {
   "cell_type": "code",
   "execution_count": 27,
   "id": "454464c7",
   "metadata": {},
   "outputs": [
    {
     "data": {
      "text/plain": [
       "'C:\\\\Users\\\\Desenvolvedor\\\\Notebooks'"
      ]
     },
     "execution_count": 27,
     "metadata": {},
     "output_type": "execute_result"
    }
   ],
   "source": [
    "pwd"
   ]
  }
 ],
 "metadata": {
  "kernelspec": {
   "display_name": "Python 3 (ipykernel)",
   "language": "python",
   "name": "python3"
  },
  "language_info": {
   "codemirror_mode": {
    "name": "ipython",
    "version": 3
   },
   "file_extension": ".py",
   "mimetype": "text/x-python",
   "name": "python",
   "nbconvert_exporter": "python",
   "pygments_lexer": "ipython3",
   "version": "3.8.11"
  }
 },
 "nbformat": 4,
 "nbformat_minor": 5
}
