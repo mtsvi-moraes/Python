{
  "nbformat": 4,
  "nbformat_minor": 0,
  "metadata": {
    "colab": {
      "name": "python_analise_dados_pandas",
      "provenance": [],
      "collapsed_sections": [
        "PbJp2_yTh-ZE",
        "_dEAISemzvbG",
        "oCaVx09McU74",
        "84V4_5a0cuaK"
      ]
    },
    "kernelspec": {
      "name": "python3",
      "display_name": "Python 3"
    },
    "language_info": {
      "name": "python"
    }
  },
  "cells": [
    {
      "cell_type": "markdown",
      "metadata": {
        "id": "LakvwgTKPc2r"
      },
      "source": [
        "# **Criando Series e DataFrames com Pandas:**"
      ]
    },
    {
      "cell_type": "markdown",
      "metadata": {
        "id": "C9p8ZdiXPmHK"
      },
      "source": [
        "### **Importando bibliotecas:**"
      ]
    },
    {
      "cell_type": "code",
      "metadata": {
        "id": "suzv-TL7NoK5"
      },
      "source": [
        "import pandas as pd\n",
        "from pandas import Series, DataFrame\n",
        "import numpy as np"
      ],
      "execution_count": 2,
      "outputs": []
    },
    {
      "cell_type": "markdown",
      "metadata": {
        "id": "EDGEbzHhPt-P"
      },
      "source": [
        "### **Criando e fazendo seleções em Series:**"
      ]
    },
    {
      "cell_type": "code",
      "metadata": {
        "colab": {
          "base_uri": "https://localhost:8080/"
        },
        "id": "gvZe0F8hP1qm",
        "outputId": "3b41ad9c-dbc5-4f96-e620-94c603e687d0"
      },
      "source": [
        "objeto = pd.Series([1, 2, 3], index=['um', 'dois', 'tres'])\n",
        "\n",
        "objeto[['um', 'dois']]"
      ],
      "execution_count": 3,
      "outputs": [
        {
          "output_type": "execute_result",
          "data": {
            "text/plain": [
              "um      1\n",
              "dois    2\n",
              "dtype: int64"
            ]
          },
          "metadata": {
            "tags": []
          },
          "execution_count": 3
        }
      ]
    },
    {
      "cell_type": "code",
      "metadata": {
        "colab": {
          "base_uri": "https://localhost:8080/"
        },
        "id": "SEjg-ol6RYKp",
        "outputId": "192cef74-190a-47aa-b2b0-62095571697f"
      },
      "source": [
        "'tres' in objeto   #obs: Procura pelo índice"
      ],
      "execution_count": 4,
      "outputs": [
        {
          "output_type": "execute_result",
          "data": {
            "text/plain": [
              "True"
            ]
          },
          "metadata": {
            "tags": []
          },
          "execution_count": 4
        }
      ]
    },
    {
      "cell_type": "code",
      "metadata": {
        "colab": {
          "base_uri": "https://localhost:8080/"
        },
        "id": "KzkJzqOOQk3p",
        "outputId": "c72d5394-0471-4b3e-f33d-e77b336d02b3"
      },
      "source": [
        "objeto.values"
      ],
      "execution_count": 5,
      "outputs": [
        {
          "output_type": "execute_result",
          "data": {
            "text/plain": [
              "array([1, 2, 3])"
            ]
          },
          "metadata": {
            "tags": []
          },
          "execution_count": 5
        }
      ]
    },
    {
      "cell_type": "code",
      "metadata": {
        "colab": {
          "base_uri": "https://localhost:8080/"
        },
        "id": "3vgVL7q3QwK5",
        "outputId": "dca26d58-76a9-4267-b7fb-f8696c10d400"
      },
      "source": [
        "objeto.index"
      ],
      "execution_count": 6,
      "outputs": [
        {
          "output_type": "execute_result",
          "data": {
            "text/plain": [
              "Index(['um', 'dois', 'tres'], dtype='object')"
            ]
          },
          "metadata": {
            "tags": []
          },
          "execution_count": 6
        }
      ]
    },
    {
      "cell_type": "markdown",
      "metadata": {
        "id": "pFLsNZ7uTOwv"
      },
      "source": [
        "### **Convertendo dicionários em Series**"
      ]
    },
    {
      "cell_type": "markdown",
      "metadata": {
        "id": "p7YeJRNhTX6C"
      },
      "source": [
        "Obs: As chaves se tornam índices e os valores as linhas"
      ]
    },
    {
      "cell_type": "code",
      "metadata": {
        "colab": {
          "base_uri": "https://localhost:8080/"
        },
        "id": "2WmFTvj0Q31Q",
        "outputId": "51149fce-a578-4364-866c-1da307efd505"
      },
      "source": [
        "estados = {'SP': 44000000, 'MG': 20000000, 'RG': 6748000, 'AM': 3874000, 'PR': 11000000}\n",
        "estados_br = pd.Series(estados)\n",
        "estados_br"
      ],
      "execution_count": 7,
      "outputs": [
        {
          "output_type": "execute_result",
          "data": {
            "text/plain": [
              "SP    44000000\n",
              "MG    20000000\n",
              "RG     6748000\n",
              "AM     3874000\n",
              "PR    11000000\n",
              "dtype: int64"
            ]
          },
          "metadata": {
            "tags": []
          },
          "execution_count": 7
        }
      ]
    },
    {
      "cell_type": "markdown",
      "metadata": {
        "id": "PbMBCZyAVI1-"
      },
      "source": [
        "**Atribuindo o índice de outra lista:**"
      ]
    },
    {
      "cell_type": "code",
      "metadata": {
        "colab": {
          "base_uri": "https://localhost:8080/"
        },
        "id": "0gknqfSoUbG5",
        "outputId": "9cddae12-7abc-4bbc-d5ac-0685de3df7f8"
      },
      "source": [
        "nome_estados = ['Utah', 'SP', 'MG', 'RG', 'AM']\n",
        "estados_gerais = pd.Series(estados, index=nome_estados)\n",
        "estados_gerais"
      ],
      "execution_count": 8,
      "outputs": [
        {
          "output_type": "execute_result",
          "data": {
            "text/plain": [
              "Utah           NaN\n",
              "SP      44000000.0\n",
              "MG      20000000.0\n",
              "RG       6748000.0\n",
              "AM       3874000.0\n",
              "dtype: float64"
            ]
          },
          "metadata": {
            "tags": []
          },
          "execution_count": 8
        }
      ]
    },
    {
      "cell_type": "code",
      "metadata": {
        "colab": {
          "base_uri": "https://localhost:8080/"
        },
        "id": "MhsncC8hWNua",
        "outputId": "e4822a3c-16e4-4651-eabe-2bc86e320cc6"
      },
      "source": [
        "estados_br + estados_gerais                 #Somando duas Series, é feito um join"
      ],
      "execution_count": 9,
      "outputs": [
        {
          "output_type": "execute_result",
          "data": {
            "text/plain": [
              "AM       7748000.0\n",
              "MG      40000000.0\n",
              "PR             NaN\n",
              "RG      13496000.0\n",
              "SP      88000000.0\n",
              "Utah           NaN\n",
              "dtype: float64"
            ]
          },
          "metadata": {
            "tags": []
          },
          "execution_count": 9
        }
      ]
    },
    {
      "cell_type": "markdown",
      "metadata": {
        "id": "iNd6m8goV1cv"
      },
      "source": [
        "**Identificando números nulos:**"
      ]
    },
    {
      "cell_type": "code",
      "metadata": {
        "colab": {
          "base_uri": "https://localhost:8080/"
        },
        "id": "FSrUEiyAVh6W",
        "outputId": "8f454020-192d-4989-9b37-55f68ce7a48e"
      },
      "source": [
        "estados_gerais.isnull()"
      ],
      "execution_count": 10,
      "outputs": [
        {
          "output_type": "execute_result",
          "data": {
            "text/plain": [
              "Utah     True\n",
              "SP      False\n",
              "MG      False\n",
              "RG      False\n",
              "AM      False\n",
              "dtype: bool"
            ]
          },
          "metadata": {
            "tags": []
          },
          "execution_count": 10
        }
      ]
    },
    {
      "cell_type": "code",
      "metadata": {
        "colab": {
          "base_uri": "https://localhost:8080/"
        },
        "id": "pKSlcNReVo8k",
        "outputId": "7429e254-59ca-47b9-fe03-c85b777cc687"
      },
      "source": [
        "estados_gerais.notnull()"
      ],
      "execution_count": 11,
      "outputs": [
        {
          "output_type": "execute_result",
          "data": {
            "text/plain": [
              "Utah    False\n",
              "SP       True\n",
              "MG       True\n",
              "RG       True\n",
              "AM       True\n",
              "dtype: bool"
            ]
          },
          "metadata": {
            "tags": []
          },
          "execution_count": 11
        }
      ]
    },
    {
      "cell_type": "markdown",
      "metadata": {
        "id": "12258FdPXSs6"
      },
      "source": [
        "**Nomeando Índices e Nomes:**"
      ]
    },
    {
      "cell_type": "code",
      "metadata": {
        "colab": {
          "base_uri": "https://localhost:8080/"
        },
        "id": "jwZ0D8ZXXf9p",
        "outputId": "1613259c-3a31-437d-b92a-20101f023acd"
      },
      "source": [
        "estados_gerais.index.name = 'Estados:'\n",
        "estados_gerais"
      ],
      "execution_count": 12,
      "outputs": [
        {
          "output_type": "execute_result",
          "data": {
            "text/plain": [
              "Estados:\n",
              "Utah           NaN\n",
              "SP      44000000.0\n",
              "MG      20000000.0\n",
              "RG       6748000.0\n",
              "AM       3874000.0\n",
              "dtype: float64"
            ]
          },
          "metadata": {
            "tags": []
          },
          "execution_count": 12
        }
      ]
    },
    {
      "cell_type": "code",
      "metadata": {
        "colab": {
          "base_uri": "https://localhost:8080/"
        },
        "id": "ryu5bXvEX2TY",
        "outputId": "b9e00c92-a5e2-4030-d2b8-dc9df5469040"
      },
      "source": [
        "estados_gerais.name = 'Populacao'\n",
        "estados_gerais"
      ],
      "execution_count": 13,
      "outputs": [
        {
          "output_type": "execute_result",
          "data": {
            "text/plain": [
              "Estados:\n",
              "Utah           NaN\n",
              "SP      44000000.0\n",
              "MG      20000000.0\n",
              "RG       6748000.0\n",
              "AM       3874000.0\n",
              "Name: Populacao, dtype: float64"
            ]
          },
          "metadata": {
            "tags": []
          },
          "execution_count": 13
        }
      ]
    },
    {
      "cell_type": "markdown",
      "metadata": {
        "id": "PbJp2_yTh-ZE"
      },
      "source": [
        "### **DataFrame:**"
      ]
    },
    {
      "cell_type": "code",
      "metadata": {
        "colab": {
          "base_uri": "https://localhost:8080/",
          "height": 0
        },
        "id": "a4jwlzNhiCWc",
        "outputId": "c301e55d-742a-4c66-8a97-80f8d1a6a2d9"
      },
      "source": [
        "data = {'Estado': ['São Paulo', 'São Paulo', 'São Paulo', 'Minas Gerais', 'Minas Gerais', 'Minas Gerais'],\n",
        "'Ano': [2000, 2005, 2010, 2000, 2010, 2020],\n",
        "'População': [36974378, 39201179, 41223683, 17891494, 19597330, 21292666]}\n",
        "dados = pd.DataFrame(data)\n",
        "dados.head()"
      ],
      "execution_count": 14,
      "outputs": [
        {
          "output_type": "execute_result",
          "data": {
            "text/html": [
              "<div>\n",
              "<style scoped>\n",
              "    .dataframe tbody tr th:only-of-type {\n",
              "        vertical-align: middle;\n",
              "    }\n",
              "\n",
              "    .dataframe tbody tr th {\n",
              "        vertical-align: top;\n",
              "    }\n",
              "\n",
              "    .dataframe thead th {\n",
              "        text-align: right;\n",
              "    }\n",
              "</style>\n",
              "<table border=\"1\" class=\"dataframe\">\n",
              "  <thead>\n",
              "    <tr style=\"text-align: right;\">\n",
              "      <th></th>\n",
              "      <th>Estado</th>\n",
              "      <th>Ano</th>\n",
              "      <th>População</th>\n",
              "    </tr>\n",
              "  </thead>\n",
              "  <tbody>\n",
              "    <tr>\n",
              "      <th>0</th>\n",
              "      <td>São Paulo</td>\n",
              "      <td>2000</td>\n",
              "      <td>36974378</td>\n",
              "    </tr>\n",
              "    <tr>\n",
              "      <th>1</th>\n",
              "      <td>São Paulo</td>\n",
              "      <td>2005</td>\n",
              "      <td>39201179</td>\n",
              "    </tr>\n",
              "    <tr>\n",
              "      <th>2</th>\n",
              "      <td>São Paulo</td>\n",
              "      <td>2010</td>\n",
              "      <td>41223683</td>\n",
              "    </tr>\n",
              "    <tr>\n",
              "      <th>3</th>\n",
              "      <td>Minas Gerais</td>\n",
              "      <td>2000</td>\n",
              "      <td>17891494</td>\n",
              "    </tr>\n",
              "    <tr>\n",
              "      <th>4</th>\n",
              "      <td>Minas Gerais</td>\n",
              "      <td>2010</td>\n",
              "      <td>19597330</td>\n",
              "    </tr>\n",
              "  </tbody>\n",
              "</table>\n",
              "</div>"
            ],
            "text/plain": [
              "         Estado   Ano  População\n",
              "0     São Paulo  2000   36974378\n",
              "1     São Paulo  2005   39201179\n",
              "2     São Paulo  2010   41223683\n",
              "3  Minas Gerais  2000   17891494\n",
              "4  Minas Gerais  2010   19597330"
            ]
          },
          "metadata": {
            "tags": []
          },
          "execution_count": 14
        }
      ]
    },
    {
      "cell_type": "markdown",
      "metadata": {
        "id": "hEQ6jfZPu50t"
      },
      "source": [
        "**Escolhendo colunas do jeito que eu quero:**"
      ]
    },
    {
      "cell_type": "code",
      "metadata": {
        "colab": {
          "base_uri": "https://localhost:8080/",
          "height": 0
        },
        "id": "DI2sKZSCusGJ",
        "outputId": "238e595b-1569-40bd-a28a-ae0369f69e51"
      },
      "source": [
        "pd.DataFrame(data, columns=['Ano', 'Estado', 'População'])"
      ],
      "execution_count": 15,
      "outputs": [
        {
          "output_type": "execute_result",
          "data": {
            "text/html": [
              "<div>\n",
              "<style scoped>\n",
              "    .dataframe tbody tr th:only-of-type {\n",
              "        vertical-align: middle;\n",
              "    }\n",
              "\n",
              "    .dataframe tbody tr th {\n",
              "        vertical-align: top;\n",
              "    }\n",
              "\n",
              "    .dataframe thead th {\n",
              "        text-align: right;\n",
              "    }\n",
              "</style>\n",
              "<table border=\"1\" class=\"dataframe\">\n",
              "  <thead>\n",
              "    <tr style=\"text-align: right;\">\n",
              "      <th></th>\n",
              "      <th>Ano</th>\n",
              "      <th>Estado</th>\n",
              "      <th>População</th>\n",
              "    </tr>\n",
              "  </thead>\n",
              "  <tbody>\n",
              "    <tr>\n",
              "      <th>0</th>\n",
              "      <td>2000</td>\n",
              "      <td>São Paulo</td>\n",
              "      <td>36974378</td>\n",
              "    </tr>\n",
              "    <tr>\n",
              "      <th>1</th>\n",
              "      <td>2005</td>\n",
              "      <td>São Paulo</td>\n",
              "      <td>39201179</td>\n",
              "    </tr>\n",
              "    <tr>\n",
              "      <th>2</th>\n",
              "      <td>2010</td>\n",
              "      <td>São Paulo</td>\n",
              "      <td>41223683</td>\n",
              "    </tr>\n",
              "    <tr>\n",
              "      <th>3</th>\n",
              "      <td>2000</td>\n",
              "      <td>Minas Gerais</td>\n",
              "      <td>17891494</td>\n",
              "    </tr>\n",
              "    <tr>\n",
              "      <th>4</th>\n",
              "      <td>2010</td>\n",
              "      <td>Minas Gerais</td>\n",
              "      <td>19597330</td>\n",
              "    </tr>\n",
              "    <tr>\n",
              "      <th>5</th>\n",
              "      <td>2020</td>\n",
              "      <td>Minas Gerais</td>\n",
              "      <td>21292666</td>\n",
              "    </tr>\n",
              "  </tbody>\n",
              "</table>\n",
              "</div>"
            ],
            "text/plain": [
              "    Ano        Estado  População\n",
              "0  2000     São Paulo   36974378\n",
              "1  2005     São Paulo   39201179\n",
              "2  2010     São Paulo   41223683\n",
              "3  2000  Minas Gerais   17891494\n",
              "4  2010  Minas Gerais   19597330\n",
              "5  2020  Minas Gerais   21292666"
            ]
          },
          "metadata": {
            "tags": []
          },
          "execution_count": 15
        }
      ]
    },
    {
      "cell_type": "markdown",
      "metadata": {
        "id": "ldsUH6Ytvce7"
      },
      "source": [
        "Obs: Caso não tenha a coluna que eu criei, ele preenche a coluna com NaN"
      ]
    },
    {
      "cell_type": "code",
      "metadata": {
        "colab": {
          "base_uri": "https://localhost:8080/",
          "height": 0
        },
        "id": "2bVZTHl6vB6K",
        "outputId": "1f9e363b-8fcf-4592-8fd0-80d7543e5bff"
      },
      "source": [
        "pd.DataFrame(data, columns=['Ano', 'Estado', 'População', 'Renda'])"
      ],
      "execution_count": 16,
      "outputs": [
        {
          "output_type": "execute_result",
          "data": {
            "text/html": [
              "<div>\n",
              "<style scoped>\n",
              "    .dataframe tbody tr th:only-of-type {\n",
              "        vertical-align: middle;\n",
              "    }\n",
              "\n",
              "    .dataframe tbody tr th {\n",
              "        vertical-align: top;\n",
              "    }\n",
              "\n",
              "    .dataframe thead th {\n",
              "        text-align: right;\n",
              "    }\n",
              "</style>\n",
              "<table border=\"1\" class=\"dataframe\">\n",
              "  <thead>\n",
              "    <tr style=\"text-align: right;\">\n",
              "      <th></th>\n",
              "      <th>Ano</th>\n",
              "      <th>Estado</th>\n",
              "      <th>População</th>\n",
              "      <th>Renda</th>\n",
              "    </tr>\n",
              "  </thead>\n",
              "  <tbody>\n",
              "    <tr>\n",
              "      <th>0</th>\n",
              "      <td>2000</td>\n",
              "      <td>São Paulo</td>\n",
              "      <td>36974378</td>\n",
              "      <td>NaN</td>\n",
              "    </tr>\n",
              "    <tr>\n",
              "      <th>1</th>\n",
              "      <td>2005</td>\n",
              "      <td>São Paulo</td>\n",
              "      <td>39201179</td>\n",
              "      <td>NaN</td>\n",
              "    </tr>\n",
              "    <tr>\n",
              "      <th>2</th>\n",
              "      <td>2010</td>\n",
              "      <td>São Paulo</td>\n",
              "      <td>41223683</td>\n",
              "      <td>NaN</td>\n",
              "    </tr>\n",
              "    <tr>\n",
              "      <th>3</th>\n",
              "      <td>2000</td>\n",
              "      <td>Minas Gerais</td>\n",
              "      <td>17891494</td>\n",
              "      <td>NaN</td>\n",
              "    </tr>\n",
              "    <tr>\n",
              "      <th>4</th>\n",
              "      <td>2010</td>\n",
              "      <td>Minas Gerais</td>\n",
              "      <td>19597330</td>\n",
              "      <td>NaN</td>\n",
              "    </tr>\n",
              "    <tr>\n",
              "      <th>5</th>\n",
              "      <td>2020</td>\n",
              "      <td>Minas Gerais</td>\n",
              "      <td>21292666</td>\n",
              "      <td>NaN</td>\n",
              "    </tr>\n",
              "  </tbody>\n",
              "</table>\n",
              "</div>"
            ],
            "text/plain": [
              "    Ano        Estado  População Renda\n",
              "0  2000     São Paulo   36974378   NaN\n",
              "1  2005     São Paulo   39201179   NaN\n",
              "2  2010     São Paulo   41223683   NaN\n",
              "3  2000  Minas Gerais   17891494   NaN\n",
              "4  2010  Minas Gerais   19597330   NaN\n",
              "5  2020  Minas Gerais   21292666   NaN"
            ]
          },
          "metadata": {
            "tags": []
          },
          "execution_count": 16
        }
      ]
    },
    {
      "cell_type": "code",
      "metadata": {
        "colab": {
          "base_uri": "https://localhost:8080/",
          "height": 0
        },
        "id": "XMax_rc0v9xM",
        "outputId": "e4bbc42b-5913-4e13-d998-2ab210161a21"
      },
      "source": [
        "dados[['Ano']]"
      ],
      "execution_count": 17,
      "outputs": [
        {
          "output_type": "execute_result",
          "data": {
            "text/html": [
              "<div>\n",
              "<style scoped>\n",
              "    .dataframe tbody tr th:only-of-type {\n",
              "        vertical-align: middle;\n",
              "    }\n",
              "\n",
              "    .dataframe tbody tr th {\n",
              "        vertical-align: top;\n",
              "    }\n",
              "\n",
              "    .dataframe thead th {\n",
              "        text-align: right;\n",
              "    }\n",
              "</style>\n",
              "<table border=\"1\" class=\"dataframe\">\n",
              "  <thead>\n",
              "    <tr style=\"text-align: right;\">\n",
              "      <th></th>\n",
              "      <th>Ano</th>\n",
              "    </tr>\n",
              "  </thead>\n",
              "  <tbody>\n",
              "    <tr>\n",
              "      <th>0</th>\n",
              "      <td>2000</td>\n",
              "    </tr>\n",
              "    <tr>\n",
              "      <th>1</th>\n",
              "      <td>2005</td>\n",
              "    </tr>\n",
              "    <tr>\n",
              "      <th>2</th>\n",
              "      <td>2010</td>\n",
              "    </tr>\n",
              "    <tr>\n",
              "      <th>3</th>\n",
              "      <td>2000</td>\n",
              "    </tr>\n",
              "    <tr>\n",
              "      <th>4</th>\n",
              "      <td>2010</td>\n",
              "    </tr>\n",
              "    <tr>\n",
              "      <th>5</th>\n",
              "      <td>2020</td>\n",
              "    </tr>\n",
              "  </tbody>\n",
              "</table>\n",
              "</div>"
            ],
            "text/plain": [
              "    Ano\n",
              "0  2000\n",
              "1  2005\n",
              "2  2010\n",
              "3  2000\n",
              "4  2010\n",
              "5  2020"
            ]
          },
          "metadata": {
            "tags": []
          },
          "execution_count": 17
        }
      ]
    },
    {
      "cell_type": "markdown",
      "metadata": {
        "id": "EyLKDC-lDcCK"
      },
      "source": [
        "**Criando uma nova coluna com os valores desejados:**"
      ]
    },
    {
      "cell_type": "code",
      "metadata": {
        "colab": {
          "base_uri": "https://localhost:8080/",
          "height": 0
        },
        "id": "F0vval_oAJSG",
        "outputId": "4d4efb21-bcda-4bee-9536-9716b8212cb9"
      },
      "source": [
        "dados['Renda'] = 2000\n",
        "dados"
      ],
      "execution_count": 18,
      "outputs": [
        {
          "output_type": "execute_result",
          "data": {
            "text/html": [
              "<div>\n",
              "<style scoped>\n",
              "    .dataframe tbody tr th:only-of-type {\n",
              "        vertical-align: middle;\n",
              "    }\n",
              "\n",
              "    .dataframe tbody tr th {\n",
              "        vertical-align: top;\n",
              "    }\n",
              "\n",
              "    .dataframe thead th {\n",
              "        text-align: right;\n",
              "    }\n",
              "</style>\n",
              "<table border=\"1\" class=\"dataframe\">\n",
              "  <thead>\n",
              "    <tr style=\"text-align: right;\">\n",
              "      <th></th>\n",
              "      <th>Estado</th>\n",
              "      <th>Ano</th>\n",
              "      <th>População</th>\n",
              "      <th>Renda</th>\n",
              "    </tr>\n",
              "  </thead>\n",
              "  <tbody>\n",
              "    <tr>\n",
              "      <th>0</th>\n",
              "      <td>São Paulo</td>\n",
              "      <td>2000</td>\n",
              "      <td>36974378</td>\n",
              "      <td>2000</td>\n",
              "    </tr>\n",
              "    <tr>\n",
              "      <th>1</th>\n",
              "      <td>São Paulo</td>\n",
              "      <td>2005</td>\n",
              "      <td>39201179</td>\n",
              "      <td>2000</td>\n",
              "    </tr>\n",
              "    <tr>\n",
              "      <th>2</th>\n",
              "      <td>São Paulo</td>\n",
              "      <td>2010</td>\n",
              "      <td>41223683</td>\n",
              "      <td>2000</td>\n",
              "    </tr>\n",
              "    <tr>\n",
              "      <th>3</th>\n",
              "      <td>Minas Gerais</td>\n",
              "      <td>2000</td>\n",
              "      <td>17891494</td>\n",
              "      <td>2000</td>\n",
              "    </tr>\n",
              "    <tr>\n",
              "      <th>4</th>\n",
              "      <td>Minas Gerais</td>\n",
              "      <td>2010</td>\n",
              "      <td>19597330</td>\n",
              "      <td>2000</td>\n",
              "    </tr>\n",
              "    <tr>\n",
              "      <th>5</th>\n",
              "      <td>Minas Gerais</td>\n",
              "      <td>2020</td>\n",
              "      <td>21292666</td>\n",
              "      <td>2000</td>\n",
              "    </tr>\n",
              "  </tbody>\n",
              "</table>\n",
              "</div>"
            ],
            "text/plain": [
              "         Estado   Ano  População  Renda\n",
              "0     São Paulo  2000   36974378   2000\n",
              "1     São Paulo  2005   39201179   2000\n",
              "2     São Paulo  2010   41223683   2000\n",
              "3  Minas Gerais  2000   17891494   2000\n",
              "4  Minas Gerais  2010   19597330   2000\n",
              "5  Minas Gerais  2020   21292666   2000"
            ]
          },
          "metadata": {
            "tags": []
          },
          "execution_count": 18
        }
      ]
    },
    {
      "cell_type": "code",
      "metadata": {
        "colab": {
          "base_uri": "https://localhost:8080/",
          "height": 0
        },
        "id": "gjKMA9Y5njuI",
        "outputId": "7a27dcfa-6430-4fad-a2c5-e1d4916b290b"
      },
      "source": [
        "valor = pd.Series([-1, 1, 2, -2], index=['Teste', 'Exemplo', 'Amostra', '14'])\n",
        "dados['Renda'] = valor\n",
        "dados"
      ],
      "execution_count": 19,
      "outputs": [
        {
          "output_type": "execute_result",
          "data": {
            "text/html": [
              "<div>\n",
              "<style scoped>\n",
              "    .dataframe tbody tr th:only-of-type {\n",
              "        vertical-align: middle;\n",
              "    }\n",
              "\n",
              "    .dataframe tbody tr th {\n",
              "        vertical-align: top;\n",
              "    }\n",
              "\n",
              "    .dataframe thead th {\n",
              "        text-align: right;\n",
              "    }\n",
              "</style>\n",
              "<table border=\"1\" class=\"dataframe\">\n",
              "  <thead>\n",
              "    <tr style=\"text-align: right;\">\n",
              "      <th></th>\n",
              "      <th>Estado</th>\n",
              "      <th>Ano</th>\n",
              "      <th>População</th>\n",
              "      <th>Renda</th>\n",
              "    </tr>\n",
              "  </thead>\n",
              "  <tbody>\n",
              "    <tr>\n",
              "      <th>0</th>\n",
              "      <td>São Paulo</td>\n",
              "      <td>2000</td>\n",
              "      <td>36974378</td>\n",
              "      <td>NaN</td>\n",
              "    </tr>\n",
              "    <tr>\n",
              "      <th>1</th>\n",
              "      <td>São Paulo</td>\n",
              "      <td>2005</td>\n",
              "      <td>39201179</td>\n",
              "      <td>NaN</td>\n",
              "    </tr>\n",
              "    <tr>\n",
              "      <th>2</th>\n",
              "      <td>São Paulo</td>\n",
              "      <td>2010</td>\n",
              "      <td>41223683</td>\n",
              "      <td>NaN</td>\n",
              "    </tr>\n",
              "    <tr>\n",
              "      <th>3</th>\n",
              "      <td>Minas Gerais</td>\n",
              "      <td>2000</td>\n",
              "      <td>17891494</td>\n",
              "      <td>NaN</td>\n",
              "    </tr>\n",
              "    <tr>\n",
              "      <th>4</th>\n",
              "      <td>Minas Gerais</td>\n",
              "      <td>2010</td>\n",
              "      <td>19597330</td>\n",
              "      <td>NaN</td>\n",
              "    </tr>\n",
              "    <tr>\n",
              "      <th>5</th>\n",
              "      <td>Minas Gerais</td>\n",
              "      <td>2020</td>\n",
              "      <td>21292666</td>\n",
              "      <td>NaN</td>\n",
              "    </tr>\n",
              "  </tbody>\n",
              "</table>\n",
              "</div>"
            ],
            "text/plain": [
              "         Estado   Ano  População  Renda\n",
              "0     São Paulo  2000   36974378    NaN\n",
              "1     São Paulo  2005   39201179    NaN\n",
              "2     São Paulo  2010   41223683    NaN\n",
              "3  Minas Gerais  2000   17891494    NaN\n",
              "4  Minas Gerais  2010   19597330    NaN\n",
              "5  Minas Gerais  2020   21292666    NaN"
            ]
          },
          "metadata": {
            "tags": []
          },
          "execution_count": 19
        }
      ]
    },
    {
      "cell_type": "markdown",
      "metadata": {
        "id": "zts2Oso2qp3u"
      },
      "source": [
        "**Criando uma coluna com uma variável booleana**"
      ]
    },
    {
      "cell_type": "code",
      "metadata": {
        "colab": {
          "base_uri": "https://localhost:8080/",
          "height": 0
        },
        "id": "1QzqVjanqUfW",
        "outputId": "a82f4486-18a2-4466-83cf-65b7932bf5fb"
      },
      "source": [
        "dados['Confere'] = dados['Ano'] == 2010\n",
        "dados"
      ],
      "execution_count": 20,
      "outputs": [
        {
          "output_type": "execute_result",
          "data": {
            "text/html": [
              "<div>\n",
              "<style scoped>\n",
              "    .dataframe tbody tr th:only-of-type {\n",
              "        vertical-align: middle;\n",
              "    }\n",
              "\n",
              "    .dataframe tbody tr th {\n",
              "        vertical-align: top;\n",
              "    }\n",
              "\n",
              "    .dataframe thead th {\n",
              "        text-align: right;\n",
              "    }\n",
              "</style>\n",
              "<table border=\"1\" class=\"dataframe\">\n",
              "  <thead>\n",
              "    <tr style=\"text-align: right;\">\n",
              "      <th></th>\n",
              "      <th>Estado</th>\n",
              "      <th>Ano</th>\n",
              "      <th>População</th>\n",
              "      <th>Renda</th>\n",
              "      <th>Confere</th>\n",
              "    </tr>\n",
              "  </thead>\n",
              "  <tbody>\n",
              "    <tr>\n",
              "      <th>0</th>\n",
              "      <td>São Paulo</td>\n",
              "      <td>2000</td>\n",
              "      <td>36974378</td>\n",
              "      <td>NaN</td>\n",
              "      <td>False</td>\n",
              "    </tr>\n",
              "    <tr>\n",
              "      <th>1</th>\n",
              "      <td>São Paulo</td>\n",
              "      <td>2005</td>\n",
              "      <td>39201179</td>\n",
              "      <td>NaN</td>\n",
              "      <td>False</td>\n",
              "    </tr>\n",
              "    <tr>\n",
              "      <th>2</th>\n",
              "      <td>São Paulo</td>\n",
              "      <td>2010</td>\n",
              "      <td>41223683</td>\n",
              "      <td>NaN</td>\n",
              "      <td>True</td>\n",
              "    </tr>\n",
              "    <tr>\n",
              "      <th>3</th>\n",
              "      <td>Minas Gerais</td>\n",
              "      <td>2000</td>\n",
              "      <td>17891494</td>\n",
              "      <td>NaN</td>\n",
              "      <td>False</td>\n",
              "    </tr>\n",
              "    <tr>\n",
              "      <th>4</th>\n",
              "      <td>Minas Gerais</td>\n",
              "      <td>2010</td>\n",
              "      <td>19597330</td>\n",
              "      <td>NaN</td>\n",
              "      <td>True</td>\n",
              "    </tr>\n",
              "    <tr>\n",
              "      <th>5</th>\n",
              "      <td>Minas Gerais</td>\n",
              "      <td>2020</td>\n",
              "      <td>21292666</td>\n",
              "      <td>NaN</td>\n",
              "      <td>False</td>\n",
              "    </tr>\n",
              "  </tbody>\n",
              "</table>\n",
              "</div>"
            ],
            "text/plain": [
              "         Estado   Ano  População  Renda  Confere\n",
              "0     São Paulo  2000   36974378    NaN    False\n",
              "1     São Paulo  2005   39201179    NaN    False\n",
              "2     São Paulo  2010   41223683    NaN     True\n",
              "3  Minas Gerais  2000   17891494    NaN    False\n",
              "4  Minas Gerais  2010   19597330    NaN     True\n",
              "5  Minas Gerais  2020   21292666    NaN    False"
            ]
          },
          "metadata": {
            "tags": []
          },
          "execution_count": 20
        }
      ]
    },
    {
      "cell_type": "markdown",
      "metadata": {
        "id": "9VvM0_N3rHkD"
      },
      "source": [
        "**Deletando colunas:**"
      ]
    },
    {
      "cell_type": "code",
      "metadata": {
        "colab": {
          "base_uri": "https://localhost:8080/",
          "height": 0
        },
        "id": "559iwcGSq_Ub",
        "outputId": "008cf0c2-1674-4573-dc08-bb24d9a5ce17"
      },
      "source": [
        "del dados['Confere']\n",
        "dados"
      ],
      "execution_count": 21,
      "outputs": [
        {
          "output_type": "execute_result",
          "data": {
            "text/html": [
              "<div>\n",
              "<style scoped>\n",
              "    .dataframe tbody tr th:only-of-type {\n",
              "        vertical-align: middle;\n",
              "    }\n",
              "\n",
              "    .dataframe tbody tr th {\n",
              "        vertical-align: top;\n",
              "    }\n",
              "\n",
              "    .dataframe thead th {\n",
              "        text-align: right;\n",
              "    }\n",
              "</style>\n",
              "<table border=\"1\" class=\"dataframe\">\n",
              "  <thead>\n",
              "    <tr style=\"text-align: right;\">\n",
              "      <th></th>\n",
              "      <th>Estado</th>\n",
              "      <th>Ano</th>\n",
              "      <th>População</th>\n",
              "      <th>Renda</th>\n",
              "    </tr>\n",
              "  </thead>\n",
              "  <tbody>\n",
              "    <tr>\n",
              "      <th>0</th>\n",
              "      <td>São Paulo</td>\n",
              "      <td>2000</td>\n",
              "      <td>36974378</td>\n",
              "      <td>NaN</td>\n",
              "    </tr>\n",
              "    <tr>\n",
              "      <th>1</th>\n",
              "      <td>São Paulo</td>\n",
              "      <td>2005</td>\n",
              "      <td>39201179</td>\n",
              "      <td>NaN</td>\n",
              "    </tr>\n",
              "    <tr>\n",
              "      <th>2</th>\n",
              "      <td>São Paulo</td>\n",
              "      <td>2010</td>\n",
              "      <td>41223683</td>\n",
              "      <td>NaN</td>\n",
              "    </tr>\n",
              "    <tr>\n",
              "      <th>3</th>\n",
              "      <td>Minas Gerais</td>\n",
              "      <td>2000</td>\n",
              "      <td>17891494</td>\n",
              "      <td>NaN</td>\n",
              "    </tr>\n",
              "    <tr>\n",
              "      <th>4</th>\n",
              "      <td>Minas Gerais</td>\n",
              "      <td>2010</td>\n",
              "      <td>19597330</td>\n",
              "      <td>NaN</td>\n",
              "    </tr>\n",
              "    <tr>\n",
              "      <th>5</th>\n",
              "      <td>Minas Gerais</td>\n",
              "      <td>2020</td>\n",
              "      <td>21292666</td>\n",
              "      <td>NaN</td>\n",
              "    </tr>\n",
              "  </tbody>\n",
              "</table>\n",
              "</div>"
            ],
            "text/plain": [
              "         Estado   Ano  População  Renda\n",
              "0     São Paulo  2000   36974378    NaN\n",
              "1     São Paulo  2005   39201179    NaN\n",
              "2     São Paulo  2010   41223683    NaN\n",
              "3  Minas Gerais  2000   17891494    NaN\n",
              "4  Minas Gerais  2010   19597330    NaN\n",
              "5  Minas Gerais  2020   21292666    NaN"
            ]
          },
          "metadata": {
            "tags": []
          },
          "execution_count": 21
        }
      ]
    },
    {
      "cell_type": "markdown",
      "metadata": {
        "id": "-A6R7elRrlv5"
      },
      "source": [
        "**Criando DataFrames a partir de dicionários:**"
      ]
    },
    {
      "cell_type": "code",
      "metadata": {
        "id": "kHoJ3iparhoZ"
      },
      "source": [
        "pop = {'Nevada': {2001: 2.4, 2002: 2.9},\n",
        "      'Ohio': {2000: 1.5, 2001: 1.7, 2002: 3.6}}"
      ],
      "execution_count": 22,
      "outputs": []
    },
    {
      "cell_type": "code",
      "metadata": {
        "colab": {
          "base_uri": "https://localhost:8080/",
          "height": 0
        },
        "id": "x_MAMs2rrsqz",
        "outputId": "6f26cfa3-664d-4df4-c621-111ed0ee3181"
      },
      "source": [
        "dados_new = pd.DataFrame(pop)\n",
        "dados_new"
      ],
      "execution_count": 23,
      "outputs": [
        {
          "output_type": "execute_result",
          "data": {
            "text/html": [
              "<div>\n",
              "<style scoped>\n",
              "    .dataframe tbody tr th:only-of-type {\n",
              "        vertical-align: middle;\n",
              "    }\n",
              "\n",
              "    .dataframe tbody tr th {\n",
              "        vertical-align: top;\n",
              "    }\n",
              "\n",
              "    .dataframe thead th {\n",
              "        text-align: right;\n",
              "    }\n",
              "</style>\n",
              "<table border=\"1\" class=\"dataframe\">\n",
              "  <thead>\n",
              "    <tr style=\"text-align: right;\">\n",
              "      <th></th>\n",
              "      <th>Nevada</th>\n",
              "      <th>Ohio</th>\n",
              "    </tr>\n",
              "  </thead>\n",
              "  <tbody>\n",
              "    <tr>\n",
              "      <th>2001</th>\n",
              "      <td>2.4</td>\n",
              "      <td>1.7</td>\n",
              "    </tr>\n",
              "    <tr>\n",
              "      <th>2002</th>\n",
              "      <td>2.9</td>\n",
              "      <td>3.6</td>\n",
              "    </tr>\n",
              "    <tr>\n",
              "      <th>2000</th>\n",
              "      <td>NaN</td>\n",
              "      <td>1.5</td>\n",
              "    </tr>\n",
              "  </tbody>\n",
              "</table>\n",
              "</div>"
            ],
            "text/plain": [
              "      Nevada  Ohio\n",
              "2001     2.4   1.7\n",
              "2002     2.9   3.6\n",
              "2000     NaN   1.5"
            ]
          },
          "metadata": {
            "tags": []
          },
          "execution_count": 23
        }
      ]
    },
    {
      "cell_type": "code",
      "metadata": {
        "colab": {
          "base_uri": "https://localhost:8080/",
          "height": 0
        },
        "id": "wKx_gW2Vsrnq",
        "outputId": "a1f2488a-3134-4527-ccb5-e65252694259"
      },
      "source": [
        "dados_new.T #faz a transposição do DataFrame assim como no array NumPy"
      ],
      "execution_count": 24,
      "outputs": [
        {
          "output_type": "execute_result",
          "data": {
            "text/html": [
              "<div>\n",
              "<style scoped>\n",
              "    .dataframe tbody tr th:only-of-type {\n",
              "        vertical-align: middle;\n",
              "    }\n",
              "\n",
              "    .dataframe tbody tr th {\n",
              "        vertical-align: top;\n",
              "    }\n",
              "\n",
              "    .dataframe thead th {\n",
              "        text-align: right;\n",
              "    }\n",
              "</style>\n",
              "<table border=\"1\" class=\"dataframe\">\n",
              "  <thead>\n",
              "    <tr style=\"text-align: right;\">\n",
              "      <th></th>\n",
              "      <th>2001</th>\n",
              "      <th>2002</th>\n",
              "      <th>2000</th>\n",
              "    </tr>\n",
              "  </thead>\n",
              "  <tbody>\n",
              "    <tr>\n",
              "      <th>Nevada</th>\n",
              "      <td>2.4</td>\n",
              "      <td>2.9</td>\n",
              "      <td>NaN</td>\n",
              "    </tr>\n",
              "    <tr>\n",
              "      <th>Ohio</th>\n",
              "      <td>1.7</td>\n",
              "      <td>3.6</td>\n",
              "      <td>1.5</td>\n",
              "    </tr>\n",
              "  </tbody>\n",
              "</table>\n",
              "</div>"
            ],
            "text/plain": [
              "        2001  2002  2000\n",
              "Nevada   2.4   2.9   NaN\n",
              "Ohio     1.7   3.6   1.5"
            ]
          },
          "metadata": {
            "tags": []
          },
          "execution_count": 24
        }
      ]
    },
    {
      "cell_type": "markdown",
      "metadata": {
        "id": "xmFUdoqnuHWE"
      },
      "source": [
        "**Renomeando colunas e indices:**"
      ]
    },
    {
      "cell_type": "code",
      "metadata": {
        "colab": {
          "base_uri": "https://localhost:8080/",
          "height": 0
        },
        "id": "aLOuAbiity38",
        "outputId": "302123d9-7a65-44be-e54b-0a79b1504d1f"
      },
      "source": [
        "dados_new.columns.name = 'Anos:'; dados_new.index.name = 'Estados'\n",
        "dados_new"
      ],
      "execution_count": 25,
      "outputs": [
        {
          "output_type": "execute_result",
          "data": {
            "text/html": [
              "<div>\n",
              "<style scoped>\n",
              "    .dataframe tbody tr th:only-of-type {\n",
              "        vertical-align: middle;\n",
              "    }\n",
              "\n",
              "    .dataframe tbody tr th {\n",
              "        vertical-align: top;\n",
              "    }\n",
              "\n",
              "    .dataframe thead th {\n",
              "        text-align: right;\n",
              "    }\n",
              "</style>\n",
              "<table border=\"1\" class=\"dataframe\">\n",
              "  <thead>\n",
              "    <tr style=\"text-align: right;\">\n",
              "      <th>Anos:</th>\n",
              "      <th>Nevada</th>\n",
              "      <th>Ohio</th>\n",
              "    </tr>\n",
              "    <tr>\n",
              "      <th>Estados</th>\n",
              "      <th></th>\n",
              "      <th></th>\n",
              "    </tr>\n",
              "  </thead>\n",
              "  <tbody>\n",
              "    <tr>\n",
              "      <th>2001</th>\n",
              "      <td>2.4</td>\n",
              "      <td>1.7</td>\n",
              "    </tr>\n",
              "    <tr>\n",
              "      <th>2002</th>\n",
              "      <td>2.9</td>\n",
              "      <td>3.6</td>\n",
              "    </tr>\n",
              "    <tr>\n",
              "      <th>2000</th>\n",
              "      <td>NaN</td>\n",
              "      <td>1.5</td>\n",
              "    </tr>\n",
              "  </tbody>\n",
              "</table>\n",
              "</div>"
            ],
            "text/plain": [
              "Anos:    Nevada  Ohio\n",
              "Estados              \n",
              "2001        2.4   1.7\n",
              "2002        2.9   3.6\n",
              "2000        NaN   1.5"
            ]
          },
          "metadata": {
            "tags": []
          },
          "execution_count": 25
        }
      ]
    },
    {
      "cell_type": "code",
      "metadata": {
        "colab": {
          "base_uri": "https://localhost:8080/"
        },
        "id": "mnKD1SJ7ucR2",
        "outputId": "d5bc5193-c958-4a49-e117-6b3eef45164f"
      },
      "source": [
        "dados_new.index.is_unique    #Retorna true se o índice não tiver itens repetidos"
      ],
      "execution_count": 26,
      "outputs": [
        {
          "output_type": "execute_result",
          "data": {
            "text/plain": [
              "True"
            ]
          },
          "metadata": {
            "tags": []
          },
          "execution_count": 26
        }
      ]
    },
    {
      "cell_type": "markdown",
      "metadata": {
        "id": "_dEAISemzvbG"
      },
      "source": [
        "### **Reorganizando novos índices e colunas do jeito que eu quero:**"
      ]
    },
    {
      "cell_type": "code",
      "metadata": {
        "colab": {
          "base_uri": "https://localhost:8080/"
        },
        "id": "_E9CdeTexWOC",
        "outputId": "a0f35faa-41ff-444a-e09f-1ccfae559224"
      },
      "source": [
        "obj = pd.Series(np.arange(1, 6), index=['Terceiro', 'Primeiro', 'Segundo', 'Quinto', 'Quarto'])\n",
        "obj"
      ],
      "execution_count": 27,
      "outputs": [
        {
          "output_type": "execute_result",
          "data": {
            "text/plain": [
              "Terceiro    1\n",
              "Primeiro    2\n",
              "Segundo     3\n",
              "Quinto      4\n",
              "Quarto      5\n",
              "dtype: int64"
            ]
          },
          "metadata": {
            "tags": []
          },
          "execution_count": 27
        }
      ]
    },
    {
      "cell_type": "markdown",
      "metadata": {
        "id": "Ir-iTW2RqlYn"
      },
      "source": [
        "Obs: Caso um novo índice não exista nos elementos que escolhi, ele cria uma nova coluna com NaN"
      ]
    },
    {
      "cell_type": "code",
      "metadata": {
        "colab": {
          "base_uri": "https://localhost:8080/",
          "height": 0
        },
        "id": "gY6Gj8rR0V8q",
        "outputId": "bd5afdc8-a66b-4c80-ddc8-9201a27d8161"
      },
      "source": [
        "obj2 = obj.reindex(['Primeiro', 'Segundo', 'Terceiro', 'Quarto', 'Quinto', '6º'])\n",
        "pd.DataFrame(obj2)"
      ],
      "execution_count": 28,
      "outputs": [
        {
          "output_type": "execute_result",
          "data": {
            "text/html": [
              "<div>\n",
              "<style scoped>\n",
              "    .dataframe tbody tr th:only-of-type {\n",
              "        vertical-align: middle;\n",
              "    }\n",
              "\n",
              "    .dataframe tbody tr th {\n",
              "        vertical-align: top;\n",
              "    }\n",
              "\n",
              "    .dataframe thead th {\n",
              "        text-align: right;\n",
              "    }\n",
              "</style>\n",
              "<table border=\"1\" class=\"dataframe\">\n",
              "  <thead>\n",
              "    <tr style=\"text-align: right;\">\n",
              "      <th></th>\n",
              "      <th>0</th>\n",
              "    </tr>\n",
              "  </thead>\n",
              "  <tbody>\n",
              "    <tr>\n",
              "      <th>Primeiro</th>\n",
              "      <td>2.0</td>\n",
              "    </tr>\n",
              "    <tr>\n",
              "      <th>Segundo</th>\n",
              "      <td>3.0</td>\n",
              "    </tr>\n",
              "    <tr>\n",
              "      <th>Terceiro</th>\n",
              "      <td>1.0</td>\n",
              "    </tr>\n",
              "    <tr>\n",
              "      <th>Quarto</th>\n",
              "      <td>5.0</td>\n",
              "    </tr>\n",
              "    <tr>\n",
              "      <th>Quinto</th>\n",
              "      <td>4.0</td>\n",
              "    </tr>\n",
              "    <tr>\n",
              "      <th>6º</th>\n",
              "      <td>NaN</td>\n",
              "    </tr>\n",
              "  </tbody>\n",
              "</table>\n",
              "</div>"
            ],
            "text/plain": [
              "            0\n",
              "Primeiro  2.0\n",
              "Segundo   3.0\n",
              "Terceiro  1.0\n",
              "Quarto    5.0\n",
              "Quinto    4.0\n",
              "6º        NaN"
            ]
          },
          "metadata": {
            "tags": []
          },
          "execution_count": 28
        }
      ]
    },
    {
      "cell_type": "code",
      "metadata": {
        "colab": {
          "base_uri": "https://localhost:8080/"
        },
        "id": "b4e5LExhsXgh",
        "outputId": "e86fd004-d972-426d-a406-7bf93aaf46fc"
      },
      "source": [
        "obj3 = pd.Series(['blue', 'purple', 'yellow'], index=[0, 2, 4])\n",
        "obj3"
      ],
      "execution_count": 29,
      "outputs": [
        {
          "output_type": "execute_result",
          "data": {
            "text/plain": [
              "0      blue\n",
              "2    purple\n",
              "4    yellow\n",
              "dtype: object"
            ]
          },
          "metadata": {
            "tags": []
          },
          "execution_count": 29
        }
      ]
    },
    {
      "cell_type": "code",
      "metadata": {
        "colab": {
          "base_uri": "https://localhost:8080/"
        },
        "id": "BCkOI4WescyA",
        "outputId": "9b3710f3-9dcc-434f-88ca-edb30a4f1515"
      },
      "source": [
        "obj3.reindex(range(6))"
      ],
      "execution_count": 30,
      "outputs": [
        {
          "output_type": "execute_result",
          "data": {
            "text/plain": [
              "0      blue\n",
              "1       NaN\n",
              "2    purple\n",
              "3       NaN\n",
              "4    yellow\n",
              "5       NaN\n",
              "dtype: object"
            ]
          },
          "metadata": {
            "tags": []
          },
          "execution_count": 30
        }
      ]
    },
    {
      "cell_type": "code",
      "metadata": {
        "colab": {
          "base_uri": "https://localhost:8080/"
        },
        "id": "BSxSg-setAyE",
        "outputId": "d238145b-4c47-417e-e29e-a031600c2879"
      },
      "source": [
        "obj3.reindex(range(6), method='ffill')      #ffill Preenche o NaN com o valor encontrado no índice anterior (o índice anterior preenche pra frente o próximo NaN, por isso ffill(forward fill), bfill é o contrário)"
      ],
      "execution_count": 31,
      "outputs": [
        {
          "output_type": "execute_result",
          "data": {
            "text/plain": [
              "0      blue\n",
              "1      blue\n",
              "2    purple\n",
              "3    purple\n",
              "4    yellow\n",
              "5    yellow\n",
              "dtype: object"
            ]
          },
          "metadata": {
            "tags": []
          },
          "execution_count": 31
        }
      ]
    },
    {
      "cell_type": "code",
      "metadata": {
        "colab": {
          "base_uri": "https://localhost:8080/"
        },
        "id": "NxHDuOKGuGmH",
        "outputId": "a7fc5246-d84a-427b-bd2b-9dd931c58d54"
      },
      "source": [
        "obj3.reindex(range(6), method='bfill') #bfill Preenche o NaN com o valor encontrado no índice posterior (o indice após o NaN passa a preencher o valor de de NaN)"
      ],
      "execution_count": 32,
      "outputs": [
        {
          "output_type": "execute_result",
          "data": {
            "text/plain": [
              "0      blue\n",
              "1    purple\n",
              "2    purple\n",
              "3    yellow\n",
              "4    yellow\n",
              "5       NaN\n",
              "dtype: object"
            ]
          },
          "metadata": {
            "tags": []
          },
          "execution_count": 32
        }
      ]
    },
    {
      "cell_type": "code",
      "metadata": {
        "colab": {
          "base_uri": "https://localhost:8080/",
          "height": 0
        },
        "id": "BEaSILrkvD9A",
        "outputId": "71d6a4ae-b46e-49e8-de4b-f7f2a704f202"
      },
      "source": [
        "obj4 = pd.DataFrame(np.arange(1, 10).reshape(3, 3), index=['A', 'C', 'D'], columns=['Utah', 'Las Vegas', 'California'])\n",
        "obj4"
      ],
      "execution_count": 33,
      "outputs": [
        {
          "output_type": "execute_result",
          "data": {
            "text/html": [
              "<div>\n",
              "<style scoped>\n",
              "    .dataframe tbody tr th:only-of-type {\n",
              "        vertical-align: middle;\n",
              "    }\n",
              "\n",
              "    .dataframe tbody tr th {\n",
              "        vertical-align: top;\n",
              "    }\n",
              "\n",
              "    .dataframe thead th {\n",
              "        text-align: right;\n",
              "    }\n",
              "</style>\n",
              "<table border=\"1\" class=\"dataframe\">\n",
              "  <thead>\n",
              "    <tr style=\"text-align: right;\">\n",
              "      <th></th>\n",
              "      <th>Utah</th>\n",
              "      <th>Las Vegas</th>\n",
              "      <th>California</th>\n",
              "    </tr>\n",
              "  </thead>\n",
              "  <tbody>\n",
              "    <tr>\n",
              "      <th>A</th>\n",
              "      <td>1</td>\n",
              "      <td>2</td>\n",
              "      <td>3</td>\n",
              "    </tr>\n",
              "    <tr>\n",
              "      <th>C</th>\n",
              "      <td>4</td>\n",
              "      <td>5</td>\n",
              "      <td>6</td>\n",
              "    </tr>\n",
              "    <tr>\n",
              "      <th>D</th>\n",
              "      <td>7</td>\n",
              "      <td>8</td>\n",
              "      <td>9</td>\n",
              "    </tr>\n",
              "  </tbody>\n",
              "</table>\n",
              "</div>"
            ],
            "text/plain": [
              "   Utah  Las Vegas  California\n",
              "A     1          2           3\n",
              "C     4          5           6\n",
              "D     7          8           9"
            ]
          },
          "metadata": {
            "tags": []
          },
          "execution_count": 33
        }
      ]
    },
    {
      "cell_type": "code",
      "metadata": {
        "colab": {
          "base_uri": "https://localhost:8080/",
          "height": 0
        },
        "id": "WvWfs-Sfwdx_",
        "outputId": "aa14d428-0a6a-45da-fd39-12238dc25091"
      },
      "source": [
        "obj4.reindex(['A', 'B', 'C', 'D'], columns=['California', 'Las Vegas', 'Texas'])"
      ],
      "execution_count": 34,
      "outputs": [
        {
          "output_type": "execute_result",
          "data": {
            "text/html": [
              "<div>\n",
              "<style scoped>\n",
              "    .dataframe tbody tr th:only-of-type {\n",
              "        vertical-align: middle;\n",
              "    }\n",
              "\n",
              "    .dataframe tbody tr th {\n",
              "        vertical-align: top;\n",
              "    }\n",
              "\n",
              "    .dataframe thead th {\n",
              "        text-align: right;\n",
              "    }\n",
              "</style>\n",
              "<table border=\"1\" class=\"dataframe\">\n",
              "  <thead>\n",
              "    <tr style=\"text-align: right;\">\n",
              "      <th></th>\n",
              "      <th>California</th>\n",
              "      <th>Las Vegas</th>\n",
              "      <th>Texas</th>\n",
              "    </tr>\n",
              "  </thead>\n",
              "  <tbody>\n",
              "    <tr>\n",
              "      <th>A</th>\n",
              "      <td>3.0</td>\n",
              "      <td>2.0</td>\n",
              "      <td>NaN</td>\n",
              "    </tr>\n",
              "    <tr>\n",
              "      <th>B</th>\n",
              "      <td>NaN</td>\n",
              "      <td>NaN</td>\n",
              "      <td>NaN</td>\n",
              "    </tr>\n",
              "    <tr>\n",
              "      <th>C</th>\n",
              "      <td>6.0</td>\n",
              "      <td>5.0</td>\n",
              "      <td>NaN</td>\n",
              "    </tr>\n",
              "    <tr>\n",
              "      <th>D</th>\n",
              "      <td>9.0</td>\n",
              "      <td>8.0</td>\n",
              "      <td>NaN</td>\n",
              "    </tr>\n",
              "  </tbody>\n",
              "</table>\n",
              "</div>"
            ],
            "text/plain": [
              "   California  Las Vegas  Texas\n",
              "A         3.0        2.0    NaN\n",
              "B         NaN        NaN    NaN\n",
              "C         6.0        5.0    NaN\n",
              "D         9.0        8.0    NaN"
            ]
          },
          "metadata": {
            "tags": []
          },
          "execution_count": 34
        }
      ]
    },
    {
      "cell_type": "code",
      "metadata": {
        "id": "CRsYcXLMWb_z"
      },
      "source": [
        "obj5 = pd.Series(np.arange(5), index=['Primeiro', 'Segundo', 'Terceiro', 'Quarto', 'Quinto'])\n",
        "\n",
        "new_obj = obj5.drop('Terceiro')  #drop deleta conforme o índice, e devolve a Series, embora modificação não seja inplace"
      ],
      "execution_count": 35,
      "outputs": []
    },
    {
      "cell_type": "markdown",
      "metadata": {
        "id": "oCaVx09McU74"
      },
      "source": [
        "### **Descartando entradas de um eixo:**"
      ]
    },
    {
      "cell_type": "code",
      "metadata": {
        "colab": {
          "base_uri": "https://localhost:8080/"
        },
        "id": "u1UJvUxUX0hw",
        "outputId": "f3cb3f0c-67d9-480e-90ac-70a05fa7e8ba"
      },
      "source": [
        "obj5.drop(['Terceiro', 'Quarto']) "
      ],
      "execution_count": 36,
      "outputs": [
        {
          "output_type": "execute_result",
          "data": {
            "text/plain": [
              "Primeiro    0\n",
              "Segundo     1\n",
              "Quinto      4\n",
              "dtype: int64"
            ]
          },
          "metadata": {
            "tags": []
          },
          "execution_count": 36
        }
      ]
    },
    {
      "cell_type": "code",
      "metadata": {
        "id": "wX8l-mz4ZnJn"
      },
      "source": [
        "dadinhos = pd.DataFrame(np.arange(16).reshape((4, 4)),\n",
        "                    index=['AM', 'PR', 'SP', 'RS'],\n",
        "                    columns=['UM', 'DOIS', 'TRES', 'QUATRO'])"
      ],
      "execution_count": 37,
      "outputs": []
    },
    {
      "cell_type": "code",
      "metadata": {
        "colab": {
          "base_uri": "https://localhost:8080/",
          "height": 0
        },
        "id": "sv8rR4sFYSHh",
        "outputId": "3b5faa04-6ae8-46b2-abd8-63568b721d6f"
      },
      "source": [
        "dadinhos.drop(['AM', 'RS'])"
      ],
      "execution_count": 38,
      "outputs": [
        {
          "output_type": "execute_result",
          "data": {
            "text/html": [
              "<div>\n",
              "<style scoped>\n",
              "    .dataframe tbody tr th:only-of-type {\n",
              "        vertical-align: middle;\n",
              "    }\n",
              "\n",
              "    .dataframe tbody tr th {\n",
              "        vertical-align: top;\n",
              "    }\n",
              "\n",
              "    .dataframe thead th {\n",
              "        text-align: right;\n",
              "    }\n",
              "</style>\n",
              "<table border=\"1\" class=\"dataframe\">\n",
              "  <thead>\n",
              "    <tr style=\"text-align: right;\">\n",
              "      <th></th>\n",
              "      <th>UM</th>\n",
              "      <th>DOIS</th>\n",
              "      <th>TRES</th>\n",
              "      <th>QUATRO</th>\n",
              "    </tr>\n",
              "  </thead>\n",
              "  <tbody>\n",
              "    <tr>\n",
              "      <th>PR</th>\n",
              "      <td>4</td>\n",
              "      <td>5</td>\n",
              "      <td>6</td>\n",
              "      <td>7</td>\n",
              "    </tr>\n",
              "    <tr>\n",
              "      <th>SP</th>\n",
              "      <td>8</td>\n",
              "      <td>9</td>\n",
              "      <td>10</td>\n",
              "      <td>11</td>\n",
              "    </tr>\n",
              "  </tbody>\n",
              "</table>\n",
              "</div>"
            ],
            "text/plain": [
              "    UM  DOIS  TRES  QUATRO\n",
              "PR   4     5     6       7\n",
              "SP   8     9    10      11"
            ]
          },
          "metadata": {
            "tags": []
          },
          "execution_count": 38
        }
      ]
    },
    {
      "cell_type": "markdown",
      "metadata": {
        "id": "vtW5rcvMaqDn"
      },
      "source": [
        "**Apagando pelas colunas:**"
      ]
    },
    {
      "cell_type": "code",
      "metadata": {
        "colab": {
          "base_uri": "https://localhost:8080/",
          "height": 0
        },
        "id": "ZFzgEz7vaoPx",
        "outputId": "66692163-f057-4818-d32f-a21300f38d47"
      },
      "source": [
        "dadinhos.drop(['UM', 'QUATRO'], axis=1)"
      ],
      "execution_count": 39,
      "outputs": [
        {
          "output_type": "execute_result",
          "data": {
            "text/html": [
              "<div>\n",
              "<style scoped>\n",
              "    .dataframe tbody tr th:only-of-type {\n",
              "        vertical-align: middle;\n",
              "    }\n",
              "\n",
              "    .dataframe tbody tr th {\n",
              "        vertical-align: top;\n",
              "    }\n",
              "\n",
              "    .dataframe thead th {\n",
              "        text-align: right;\n",
              "    }\n",
              "</style>\n",
              "<table border=\"1\" class=\"dataframe\">\n",
              "  <thead>\n",
              "    <tr style=\"text-align: right;\">\n",
              "      <th></th>\n",
              "      <th>DOIS</th>\n",
              "      <th>TRES</th>\n",
              "    </tr>\n",
              "  </thead>\n",
              "  <tbody>\n",
              "    <tr>\n",
              "      <th>AM</th>\n",
              "      <td>1</td>\n",
              "      <td>2</td>\n",
              "    </tr>\n",
              "    <tr>\n",
              "      <th>PR</th>\n",
              "      <td>5</td>\n",
              "      <td>6</td>\n",
              "    </tr>\n",
              "    <tr>\n",
              "      <th>SP</th>\n",
              "      <td>9</td>\n",
              "      <td>10</td>\n",
              "    </tr>\n",
              "    <tr>\n",
              "      <th>RS</th>\n",
              "      <td>13</td>\n",
              "      <td>14</td>\n",
              "    </tr>\n",
              "  </tbody>\n",
              "</table>\n",
              "</div>"
            ],
            "text/plain": [
              "    DOIS  TRES\n",
              "AM     1     2\n",
              "PR     5     6\n",
              "SP     9    10\n",
              "RS    13    14"
            ]
          },
          "metadata": {
            "tags": []
          },
          "execution_count": 39
        }
      ]
    },
    {
      "cell_type": "markdown",
      "metadata": {
        "id": "boWIlk9Ob3oE"
      },
      "source": [
        "Obs: Se quisesse fazer mudança inplace, teria que colocar inplace= True nos parâmetros"
      ]
    },
    {
      "cell_type": "markdown",
      "metadata": {
        "id": "84V4_5a0cuaK"
      },
      "source": [
        "### **Slices em series:**"
      ]
    },
    {
      "cell_type": "markdown",
      "metadata": {
        "id": "Ns6Ruesrd5DT"
      },
      "source": [
        "Funciona parecido com os arrays NumPy, com diferença que você pode fazer o slice pelo nome do índice da Series, não somente o modo convencional de numeros"
      ]
    },
    {
      "cell_type": "code",
      "metadata": {
        "colab": {
          "base_uri": "https://localhost:8080/"
        },
        "id": "C_DjXhckd3-G",
        "outputId": "770511fe-6c5b-445b-be75-a883714f47ad"
      },
      "source": [
        "letras = pd.Series(np.arange(10), index=['a', 'b', 'c', 'd', 'e', 'f', 'g', 'h', 'i', 'j'])\n",
        "letras[1:4]"
      ],
      "execution_count": 40,
      "outputs": [
        {
          "output_type": "execute_result",
          "data": {
            "text/plain": [
              "b    1\n",
              "c    2\n",
              "d    3\n",
              "dtype: int64"
            ]
          },
          "metadata": {
            "tags": []
          },
          "execution_count": 40
        }
      ]
    },
    {
      "cell_type": "code",
      "metadata": {
        "colab": {
          "base_uri": "https://localhost:8080/"
        },
        "id": "K6lI8yYFggMq",
        "outputId": "b2eb1c83-8b98-40e8-da84-d415b49a8246"
      },
      "source": [
        "letras['b':'d']"
      ],
      "execution_count": 41,
      "outputs": [
        {
          "output_type": "execute_result",
          "data": {
            "text/plain": [
              "b    1\n",
              "c    2\n",
              "d    3\n",
              "dtype: int64"
            ]
          },
          "metadata": {
            "tags": []
          },
          "execution_count": 41
        }
      ]
    },
    {
      "cell_type": "code",
      "metadata": {
        "colab": {
          "base_uri": "https://localhost:8080/"
        },
        "id": "SOjIi2p0gCoB",
        "outputId": "34f3c709-de99-49f4-fe78-68da8b6f2ae4"
      },
      "source": [
        "letras[['b', 'c','d']]"
      ],
      "execution_count": 42,
      "outputs": [
        {
          "output_type": "execute_result",
          "data": {
            "text/plain": [
              "b    1\n",
              "c    2\n",
              "d    3\n",
              "dtype: int64"
            ]
          },
          "metadata": {
            "tags": []
          },
          "execution_count": 42
        }
      ]
    },
    {
      "cell_type": "code",
      "metadata": {
        "colab": {
          "base_uri": "https://localhost:8080/"
        },
        "id": "v5hwrAFsgaQg",
        "outputId": "c24a1d88-c929-4e47-99d1-80f846df5059"
      },
      "source": [
        "letras[letras>5]"
      ],
      "execution_count": 43,
      "outputs": [
        {
          "output_type": "execute_result",
          "data": {
            "text/plain": [
              "g    6\n",
              "h    7\n",
              "i    8\n",
              "j    9\n",
              "dtype: int64"
            ]
          },
          "metadata": {
            "tags": []
          },
          "execution_count": 43
        }
      ]
    },
    {
      "cell_type": "code",
      "metadata": {
        "colab": {
          "base_uri": "https://localhost:8080/"
        },
        "id": "w-BxscMoi3z4",
        "outputId": "22545e12-e9d7-4eca-9493-2ad0d63e530a"
      },
      "source": [
        "letras[['j', 'a']] = 20\n",
        "letras"
      ],
      "execution_count": 44,
      "outputs": [
        {
          "output_type": "execute_result",
          "data": {
            "text/plain": [
              "a    20\n",
              "b     1\n",
              "c     2\n",
              "d     3\n",
              "e     4\n",
              "f     5\n",
              "g     6\n",
              "h     7\n",
              "i     8\n",
              "j    20\n",
              "dtype: int64"
            ]
          },
          "metadata": {
            "tags": []
          },
          "execution_count": 44
        }
      ]
    },
    {
      "cell_type": "code",
      "metadata": {
        "colab": {
          "base_uri": "https://localhost:8080/",
          "height": 0
        },
        "id": "Q0ddJCKPjmFv",
        "outputId": "cd69869b-b223-469f-998c-681123705076"
      },
      "source": [
        "nomes = pd.DataFrame(np.arange(16).reshape((4, 4)), \n",
        "                     index= ['Maria', 'Carla', 'Joao', 'Matheus'],\n",
        "                     columns= ['UM', 'DOIS', 'TRES', 'QUATRO'])\n",
        "nomes"
      ],
      "execution_count": 45,
      "outputs": [
        {
          "output_type": "execute_result",
          "data": {
            "text/html": [
              "<div>\n",
              "<style scoped>\n",
              "    .dataframe tbody tr th:only-of-type {\n",
              "        vertical-align: middle;\n",
              "    }\n",
              "\n",
              "    .dataframe tbody tr th {\n",
              "        vertical-align: top;\n",
              "    }\n",
              "\n",
              "    .dataframe thead th {\n",
              "        text-align: right;\n",
              "    }\n",
              "</style>\n",
              "<table border=\"1\" class=\"dataframe\">\n",
              "  <thead>\n",
              "    <tr style=\"text-align: right;\">\n",
              "      <th></th>\n",
              "      <th>UM</th>\n",
              "      <th>DOIS</th>\n",
              "      <th>TRES</th>\n",
              "      <th>QUATRO</th>\n",
              "    </tr>\n",
              "  </thead>\n",
              "  <tbody>\n",
              "    <tr>\n",
              "      <th>Maria</th>\n",
              "      <td>0</td>\n",
              "      <td>1</td>\n",
              "      <td>2</td>\n",
              "      <td>3</td>\n",
              "    </tr>\n",
              "    <tr>\n",
              "      <th>Carla</th>\n",
              "      <td>4</td>\n",
              "      <td>5</td>\n",
              "      <td>6</td>\n",
              "      <td>7</td>\n",
              "    </tr>\n",
              "    <tr>\n",
              "      <th>Joao</th>\n",
              "      <td>8</td>\n",
              "      <td>9</td>\n",
              "      <td>10</td>\n",
              "      <td>11</td>\n",
              "    </tr>\n",
              "    <tr>\n",
              "      <th>Matheus</th>\n",
              "      <td>12</td>\n",
              "      <td>13</td>\n",
              "      <td>14</td>\n",
              "      <td>15</td>\n",
              "    </tr>\n",
              "  </tbody>\n",
              "</table>\n",
              "</div>"
            ],
            "text/plain": [
              "         UM  DOIS  TRES  QUATRO\n",
              "Maria     0     1     2       3\n",
              "Carla     4     5     6       7\n",
              "Joao      8     9    10      11\n",
              "Matheus  12    13    14      15"
            ]
          },
          "metadata": {
            "tags": []
          },
          "execution_count": 45
        }
      ]
    },
    {
      "cell_type": "code",
      "metadata": {
        "colab": {
          "base_uri": "https://localhost:8080/",
          "height": 0
        },
        "id": "5yh1LKqRlDRn",
        "outputId": "4f102298-6652-4e4a-af09-0c29752a3ced"
      },
      "source": [
        "nomes[['DOIS']]"
      ],
      "execution_count": 46,
      "outputs": [
        {
          "output_type": "execute_result",
          "data": {
            "text/html": [
              "<div>\n",
              "<style scoped>\n",
              "    .dataframe tbody tr th:only-of-type {\n",
              "        vertical-align: middle;\n",
              "    }\n",
              "\n",
              "    .dataframe tbody tr th {\n",
              "        vertical-align: top;\n",
              "    }\n",
              "\n",
              "    .dataframe thead th {\n",
              "        text-align: right;\n",
              "    }\n",
              "</style>\n",
              "<table border=\"1\" class=\"dataframe\">\n",
              "  <thead>\n",
              "    <tr style=\"text-align: right;\">\n",
              "      <th></th>\n",
              "      <th>DOIS</th>\n",
              "    </tr>\n",
              "  </thead>\n",
              "  <tbody>\n",
              "    <tr>\n",
              "      <th>Maria</th>\n",
              "      <td>1</td>\n",
              "    </tr>\n",
              "    <tr>\n",
              "      <th>Carla</th>\n",
              "      <td>5</td>\n",
              "    </tr>\n",
              "    <tr>\n",
              "      <th>Joao</th>\n",
              "      <td>9</td>\n",
              "    </tr>\n",
              "    <tr>\n",
              "      <th>Matheus</th>\n",
              "      <td>13</td>\n",
              "    </tr>\n",
              "  </tbody>\n",
              "</table>\n",
              "</div>"
            ],
            "text/plain": [
              "         DOIS\n",
              "Maria       1\n",
              "Carla       5\n",
              "Joao        9\n",
              "Matheus    13"
            ]
          },
          "metadata": {
            "tags": []
          },
          "execution_count": 46
        }
      ]
    },
    {
      "cell_type": "code",
      "metadata": {
        "colab": {
          "base_uri": "https://localhost:8080/",
          "height": 0
        },
        "id": "mam0wfEClSzi",
        "outputId": "cececf50-6de0-4414-9bc4-55e850e505ef"
      },
      "source": [
        "nomes[['DOIS', 'QUATRO']]"
      ],
      "execution_count": 47,
      "outputs": [
        {
          "output_type": "execute_result",
          "data": {
            "text/html": [
              "<div>\n",
              "<style scoped>\n",
              "    .dataframe tbody tr th:only-of-type {\n",
              "        vertical-align: middle;\n",
              "    }\n",
              "\n",
              "    .dataframe tbody tr th {\n",
              "        vertical-align: top;\n",
              "    }\n",
              "\n",
              "    .dataframe thead th {\n",
              "        text-align: right;\n",
              "    }\n",
              "</style>\n",
              "<table border=\"1\" class=\"dataframe\">\n",
              "  <thead>\n",
              "    <tr style=\"text-align: right;\">\n",
              "      <th></th>\n",
              "      <th>DOIS</th>\n",
              "      <th>QUATRO</th>\n",
              "    </tr>\n",
              "  </thead>\n",
              "  <tbody>\n",
              "    <tr>\n",
              "      <th>Maria</th>\n",
              "      <td>1</td>\n",
              "      <td>3</td>\n",
              "    </tr>\n",
              "    <tr>\n",
              "      <th>Carla</th>\n",
              "      <td>5</td>\n",
              "      <td>7</td>\n",
              "    </tr>\n",
              "    <tr>\n",
              "      <th>Joao</th>\n",
              "      <td>9</td>\n",
              "      <td>11</td>\n",
              "    </tr>\n",
              "    <tr>\n",
              "      <th>Matheus</th>\n",
              "      <td>13</td>\n",
              "      <td>15</td>\n",
              "    </tr>\n",
              "  </tbody>\n",
              "</table>\n",
              "</div>"
            ],
            "text/plain": [
              "         DOIS  QUATRO\n",
              "Maria       1       3\n",
              "Carla       5       7\n",
              "Joao        9      11\n",
              "Matheus    13      15"
            ]
          },
          "metadata": {
            "tags": []
          },
          "execution_count": 47
        }
      ]
    },
    {
      "cell_type": "code",
      "metadata": {
        "colab": {
          "base_uri": "https://localhost:8080/",
          "height": 0
        },
        "id": "ihtKUDCQlx4J",
        "outputId": "923dfbd6-7b27-43cc-b2b1-b93cc31da1d4"
      },
      "source": [
        "nomes[:2]"
      ],
      "execution_count": 48,
      "outputs": [
        {
          "output_type": "execute_result",
          "data": {
            "text/html": [
              "<div>\n",
              "<style scoped>\n",
              "    .dataframe tbody tr th:only-of-type {\n",
              "        vertical-align: middle;\n",
              "    }\n",
              "\n",
              "    .dataframe tbody tr th {\n",
              "        vertical-align: top;\n",
              "    }\n",
              "\n",
              "    .dataframe thead th {\n",
              "        text-align: right;\n",
              "    }\n",
              "</style>\n",
              "<table border=\"1\" class=\"dataframe\">\n",
              "  <thead>\n",
              "    <tr style=\"text-align: right;\">\n",
              "      <th></th>\n",
              "      <th>UM</th>\n",
              "      <th>DOIS</th>\n",
              "      <th>TRES</th>\n",
              "      <th>QUATRO</th>\n",
              "    </tr>\n",
              "  </thead>\n",
              "  <tbody>\n",
              "    <tr>\n",
              "      <th>Maria</th>\n",
              "      <td>0</td>\n",
              "      <td>1</td>\n",
              "      <td>2</td>\n",
              "      <td>3</td>\n",
              "    </tr>\n",
              "    <tr>\n",
              "      <th>Carla</th>\n",
              "      <td>4</td>\n",
              "      <td>5</td>\n",
              "      <td>6</td>\n",
              "      <td>7</td>\n",
              "    </tr>\n",
              "  </tbody>\n",
              "</table>\n",
              "</div>"
            ],
            "text/plain": [
              "       UM  DOIS  TRES  QUATRO\n",
              "Maria   0     1     2       3\n",
              "Carla   4     5     6       7"
            ]
          },
          "metadata": {
            "tags": []
          },
          "execution_count": 48
        }
      ]
    },
    {
      "cell_type": "code",
      "metadata": {
        "colab": {
          "base_uri": "https://localhost:8080/",
          "height": 0
        },
        "id": "tCvquWxjl261",
        "outputId": "5b8f625a-1c65-48c4-a564-633652ee04f3"
      },
      "source": [
        "nomes[nomes['QUATRO']>10]"
      ],
      "execution_count": 49,
      "outputs": [
        {
          "output_type": "execute_result",
          "data": {
            "text/html": [
              "<div>\n",
              "<style scoped>\n",
              "    .dataframe tbody tr th:only-of-type {\n",
              "        vertical-align: middle;\n",
              "    }\n",
              "\n",
              "    .dataframe tbody tr th {\n",
              "        vertical-align: top;\n",
              "    }\n",
              "\n",
              "    .dataframe thead th {\n",
              "        text-align: right;\n",
              "    }\n",
              "</style>\n",
              "<table border=\"1\" class=\"dataframe\">\n",
              "  <thead>\n",
              "    <tr style=\"text-align: right;\">\n",
              "      <th></th>\n",
              "      <th>UM</th>\n",
              "      <th>DOIS</th>\n",
              "      <th>TRES</th>\n",
              "      <th>QUATRO</th>\n",
              "    </tr>\n",
              "  </thead>\n",
              "  <tbody>\n",
              "    <tr>\n",
              "      <th>Joao</th>\n",
              "      <td>8</td>\n",
              "      <td>9</td>\n",
              "      <td>10</td>\n",
              "      <td>11</td>\n",
              "    </tr>\n",
              "    <tr>\n",
              "      <th>Matheus</th>\n",
              "      <td>12</td>\n",
              "      <td>13</td>\n",
              "      <td>14</td>\n",
              "      <td>15</td>\n",
              "    </tr>\n",
              "  </tbody>\n",
              "</table>\n",
              "</div>"
            ],
            "text/plain": [
              "         UM  DOIS  TRES  QUATRO\n",
              "Joao      8     9    10      11\n",
              "Matheus  12    13    14      15"
            ]
          },
          "metadata": {
            "tags": []
          },
          "execution_count": 49
        }
      ]
    },
    {
      "cell_type": "markdown",
      "metadata": {
        "id": "EbnjBZZtmbqd"
      },
      "source": [
        "Obs: Uma simples operação com um operador normal volta um DataFrame booleano"
      ]
    },
    {
      "cell_type": "code",
      "metadata": {
        "colab": {
          "base_uri": "https://localhost:8080/",
          "height": 0
        },
        "id": "Kw0mKJHJmWnj",
        "outputId": "914c3d04-3d7b-4fc9-e1c9-ad60be8c957b"
      },
      "source": [
        "nomes >10 "
      ],
      "execution_count": 50,
      "outputs": [
        {
          "output_type": "execute_result",
          "data": {
            "text/html": [
              "<div>\n",
              "<style scoped>\n",
              "    .dataframe tbody tr th:only-of-type {\n",
              "        vertical-align: middle;\n",
              "    }\n",
              "\n",
              "    .dataframe tbody tr th {\n",
              "        vertical-align: top;\n",
              "    }\n",
              "\n",
              "    .dataframe thead th {\n",
              "        text-align: right;\n",
              "    }\n",
              "</style>\n",
              "<table border=\"1\" class=\"dataframe\">\n",
              "  <thead>\n",
              "    <tr style=\"text-align: right;\">\n",
              "      <th></th>\n",
              "      <th>UM</th>\n",
              "      <th>DOIS</th>\n",
              "      <th>TRES</th>\n",
              "      <th>QUATRO</th>\n",
              "    </tr>\n",
              "  </thead>\n",
              "  <tbody>\n",
              "    <tr>\n",
              "      <th>Maria</th>\n",
              "      <td>False</td>\n",
              "      <td>False</td>\n",
              "      <td>False</td>\n",
              "      <td>False</td>\n",
              "    </tr>\n",
              "    <tr>\n",
              "      <th>Carla</th>\n",
              "      <td>False</td>\n",
              "      <td>False</td>\n",
              "      <td>False</td>\n",
              "      <td>False</td>\n",
              "    </tr>\n",
              "    <tr>\n",
              "      <th>Joao</th>\n",
              "      <td>False</td>\n",
              "      <td>False</td>\n",
              "      <td>False</td>\n",
              "      <td>True</td>\n",
              "    </tr>\n",
              "    <tr>\n",
              "      <th>Matheus</th>\n",
              "      <td>True</td>\n",
              "      <td>True</td>\n",
              "      <td>True</td>\n",
              "      <td>True</td>\n",
              "    </tr>\n",
              "  </tbody>\n",
              "</table>\n",
              "</div>"
            ],
            "text/plain": [
              "            UM   DOIS   TRES  QUATRO\n",
              "Maria    False  False  False   False\n",
              "Carla    False  False  False   False\n",
              "Joao     False  False  False    True\n",
              "Matheus   True   True   True    True"
            ]
          },
          "metadata": {
            "tags": []
          },
          "execution_count": 50
        }
      ]
    },
    {
      "cell_type": "code",
      "metadata": {
        "colab": {
          "base_uri": "https://localhost:8080/",
          "height": 0
        },
        "id": "inSdYFxXmk0j",
        "outputId": "331de88e-6b7d-4dc4-ca20-67a311117aef"
      },
      "source": [
        "# nomes[nomes == 0] = 'R/N'\n",
        "nomes"
      ],
      "execution_count": 51,
      "outputs": [
        {
          "output_type": "execute_result",
          "data": {
            "text/html": [
              "<div>\n",
              "<style scoped>\n",
              "    .dataframe tbody tr th:only-of-type {\n",
              "        vertical-align: middle;\n",
              "    }\n",
              "\n",
              "    .dataframe tbody tr th {\n",
              "        vertical-align: top;\n",
              "    }\n",
              "\n",
              "    .dataframe thead th {\n",
              "        text-align: right;\n",
              "    }\n",
              "</style>\n",
              "<table border=\"1\" class=\"dataframe\">\n",
              "  <thead>\n",
              "    <tr style=\"text-align: right;\">\n",
              "      <th></th>\n",
              "      <th>UM</th>\n",
              "      <th>DOIS</th>\n",
              "      <th>TRES</th>\n",
              "      <th>QUATRO</th>\n",
              "    </tr>\n",
              "  </thead>\n",
              "  <tbody>\n",
              "    <tr>\n",
              "      <th>Maria</th>\n",
              "      <td>0</td>\n",
              "      <td>1</td>\n",
              "      <td>2</td>\n",
              "      <td>3</td>\n",
              "    </tr>\n",
              "    <tr>\n",
              "      <th>Carla</th>\n",
              "      <td>4</td>\n",
              "      <td>5</td>\n",
              "      <td>6</td>\n",
              "      <td>7</td>\n",
              "    </tr>\n",
              "    <tr>\n",
              "      <th>Joao</th>\n",
              "      <td>8</td>\n",
              "      <td>9</td>\n",
              "      <td>10</td>\n",
              "      <td>11</td>\n",
              "    </tr>\n",
              "    <tr>\n",
              "      <th>Matheus</th>\n",
              "      <td>12</td>\n",
              "      <td>13</td>\n",
              "      <td>14</td>\n",
              "      <td>15</td>\n",
              "    </tr>\n",
              "  </tbody>\n",
              "</table>\n",
              "</div>"
            ],
            "text/plain": [
              "         UM  DOIS  TRES  QUATRO\n",
              "Maria     0     1     2       3\n",
              "Carla     4     5     6       7\n",
              "Joao      8     9    10      11\n",
              "Matheus  12    13    14      15"
            ]
          },
          "metadata": {
            "tags": []
          },
          "execution_count": 51
        }
      ]
    },
    {
      "cell_type": "code",
      "metadata": {
        "colab": {
          "base_uri": "https://localhost:8080/",
          "height": 0
        },
        "id": "_uRTJGvsoGD4",
        "outputId": "a94dcd78-81a2-4d70-af86-863bd94039f7"
      },
      "source": [
        "nomes.loc[['Maria'], ['UM',  'QUATRO']]"
      ],
      "execution_count": 52,
      "outputs": [
        {
          "output_type": "execute_result",
          "data": {
            "text/html": [
              "<div>\n",
              "<style scoped>\n",
              "    .dataframe tbody tr th:only-of-type {\n",
              "        vertical-align: middle;\n",
              "    }\n",
              "\n",
              "    .dataframe tbody tr th {\n",
              "        vertical-align: top;\n",
              "    }\n",
              "\n",
              "    .dataframe thead th {\n",
              "        text-align: right;\n",
              "    }\n",
              "</style>\n",
              "<table border=\"1\" class=\"dataframe\">\n",
              "  <thead>\n",
              "    <tr style=\"text-align: right;\">\n",
              "      <th></th>\n",
              "      <th>UM</th>\n",
              "      <th>QUATRO</th>\n",
              "    </tr>\n",
              "  </thead>\n",
              "  <tbody>\n",
              "    <tr>\n",
              "      <th>Maria</th>\n",
              "      <td>0</td>\n",
              "      <td>3</td>\n",
              "    </tr>\n",
              "  </tbody>\n",
              "</table>\n",
              "</div>"
            ],
            "text/plain": [
              "       UM  QUATRO\n",
              "Maria   0       3"
            ]
          },
          "metadata": {
            "tags": []
          },
          "execution_count": 52
        }
      ]
    },
    {
      "cell_type": "markdown",
      "metadata": {
        "id": "tffmUGM72R1F"
      },
      "source": [
        "### **Fazendo slices com iloc e loc**"
      ]
    },
    {
      "cell_type": "code",
      "metadata": {
        "colab": {
          "base_uri": "https://localhost:8080/",
          "height": 80
        },
        "id": "oHXGZMX4pkMD",
        "outputId": "6ce91660-0d8a-459e-9dd1-aa823b470de3"
      },
      "source": [
        "nomes.iloc[[0], [0, 3]]"
      ],
      "execution_count": 53,
      "outputs": [
        {
          "output_type": "execute_result",
          "data": {
            "text/html": [
              "<div>\n",
              "<style scoped>\n",
              "    .dataframe tbody tr th:only-of-type {\n",
              "        vertical-align: middle;\n",
              "    }\n",
              "\n",
              "    .dataframe tbody tr th {\n",
              "        vertical-align: top;\n",
              "    }\n",
              "\n",
              "    .dataframe thead th {\n",
              "        text-align: right;\n",
              "    }\n",
              "</style>\n",
              "<table border=\"1\" class=\"dataframe\">\n",
              "  <thead>\n",
              "    <tr style=\"text-align: right;\">\n",
              "      <th></th>\n",
              "      <th>UM</th>\n",
              "      <th>QUATRO</th>\n",
              "    </tr>\n",
              "  </thead>\n",
              "  <tbody>\n",
              "    <tr>\n",
              "      <th>Maria</th>\n",
              "      <td>0</td>\n",
              "      <td>3</td>\n",
              "    </tr>\n",
              "  </tbody>\n",
              "</table>\n",
              "</div>"
            ],
            "text/plain": [
              "       UM  QUATRO\n",
              "Maria   0       3"
            ]
          },
          "metadata": {
            "tags": []
          },
          "execution_count": 53
        }
      ]
    },
    {
      "cell_type": "code",
      "metadata": {
        "colab": {
          "base_uri": "https://localhost:8080/",
          "height": 111
        },
        "id": "yboP0zE7qzCX",
        "outputId": "4aa3055a-2d10-4844-b46f-cb18989b99e2"
      },
      "source": [
        "nomes.iloc[:, :3][nomes.TRES>=10]"
      ],
      "execution_count": 54,
      "outputs": [
        {
          "output_type": "execute_result",
          "data": {
            "text/html": [
              "<div>\n",
              "<style scoped>\n",
              "    .dataframe tbody tr th:only-of-type {\n",
              "        vertical-align: middle;\n",
              "    }\n",
              "\n",
              "    .dataframe tbody tr th {\n",
              "        vertical-align: top;\n",
              "    }\n",
              "\n",
              "    .dataframe thead th {\n",
              "        text-align: right;\n",
              "    }\n",
              "</style>\n",
              "<table border=\"1\" class=\"dataframe\">\n",
              "  <thead>\n",
              "    <tr style=\"text-align: right;\">\n",
              "      <th></th>\n",
              "      <th>UM</th>\n",
              "      <th>DOIS</th>\n",
              "      <th>TRES</th>\n",
              "    </tr>\n",
              "  </thead>\n",
              "  <tbody>\n",
              "    <tr>\n",
              "      <th>Joao</th>\n",
              "      <td>8</td>\n",
              "      <td>9</td>\n",
              "      <td>10</td>\n",
              "    </tr>\n",
              "    <tr>\n",
              "      <th>Matheus</th>\n",
              "      <td>12</td>\n",
              "      <td>13</td>\n",
              "      <td>14</td>\n",
              "    </tr>\n",
              "  </tbody>\n",
              "</table>\n",
              "</div>"
            ],
            "text/plain": [
              "         UM  DOIS  TRES\n",
              "Joao      8     9    10\n",
              "Matheus  12    13    14"
            ]
          },
          "metadata": {
            "tags": []
          },
          "execution_count": 54
        }
      ]
    },
    {
      "cell_type": "code",
      "metadata": {
        "colab": {
          "base_uri": "https://localhost:8080/"
        },
        "id": "AQo0UiNA36-P",
        "outputId": "a7954d69-27e3-4dc8-d984-d6dd3eca4668"
      },
      "source": [
        "ser = pd.Series(np.arange(5.))\n",
        "\n",
        "#Se indexasse um valor de -1 com inteiro ou loc na series\n",
        "#geraria um bug por não conseguir identificar se era uma label ou um inteiro. Pra corrigir, seria necessário colocar um index com valor\n",
        "\n",
        "ser"
      ],
      "execution_count": 55,
      "outputs": [
        {
          "output_type": "execute_result",
          "data": {
            "text/plain": [
              "0    0.0\n",
              "1    1.0\n",
              "2    2.0\n",
              "3    3.0\n",
              "4    4.0\n",
              "dtype: float64"
            ]
          },
          "metadata": {
            "tags": []
          },
          "execution_count": 55
        }
      ]
    },
    {
      "cell_type": "code",
      "metadata": {
        "id": "QxVwQdDBC2z2",
        "colab": {
          "base_uri": "https://localhost:8080/"
        },
        "outputId": "ae7a27fe-c2dc-4e9e-fd10-24fd1969146c"
      },
      "source": [
        "ser2 = pd.Series([1, 2, 3, 4, 5], index=['A', 'B', 'C', 'D', 'E'])\n",
        "ser2"
      ],
      "execution_count": 56,
      "outputs": [
        {
          "output_type": "execute_result",
          "data": {
            "text/plain": [
              "A    1\n",
              "B    2\n",
              "C    3\n",
              "D    4\n",
              "E    5\n",
              "dtype: int64"
            ]
          },
          "metadata": {
            "tags": []
          },
          "execution_count": 56
        }
      ]
    },
    {
      "cell_type": "code",
      "metadata": {
        "id": "v07dNRSQ62Da",
        "colab": {
          "base_uri": "https://localhost:8080/"
        },
        "outputId": "341d453e-1f77-42e5-d63f-414a3130c313"
      },
      "source": [
        "ser2[-1]"
      ],
      "execution_count": 57,
      "outputs": [
        {
          "output_type": "execute_result",
          "data": {
            "text/plain": [
              "5"
            ]
          },
          "metadata": {
            "tags": []
          },
          "execution_count": 57
        }
      ]
    },
    {
      "cell_type": "markdown",
      "metadata": {
        "id": "SKZ2KCioB8R3"
      },
      "source": [
        "### **Aritmética e alinhamento de dados:**"
      ]
    },
    {
      "cell_type": "code",
      "metadata": {
        "colab": {
          "base_uri": "https://localhost:8080/"
        },
        "id": "ouj8XIzGKnTx",
        "outputId": "e873daa2-7f88-495e-f2d0-5271d85adf2a"
      },
      "source": [
        "s1 = pd.Series([7.3, -2.5, 3.4, 1.5], index=['a', 'c', 'd', 'e'])\n",
        "s1"
      ],
      "execution_count": 58,
      "outputs": [
        {
          "output_type": "execute_result",
          "data": {
            "text/plain": [
              "a    7.3\n",
              "c   -2.5\n",
              "d    3.4\n",
              "e    1.5\n",
              "dtype: float64"
            ]
          },
          "metadata": {
            "tags": []
          },
          "execution_count": 58
        }
      ]
    },
    {
      "cell_type": "code",
      "metadata": {
        "colab": {
          "base_uri": "https://localhost:8080/"
        },
        "id": "zmh_ipoyLLwe",
        "outputId": "abb3a086-453e-4607-965d-e785f37c083e"
      },
      "source": [
        "s2 = pd.Series([-2.1, 3.6, -1.5, 4, 3.1], index=['a', 'c', 'e', 'f', 'g'])\n",
        "s2"
      ],
      "execution_count": 59,
      "outputs": [
        {
          "output_type": "execute_result",
          "data": {
            "text/plain": [
              "a   -2.1\n",
              "c    3.6\n",
              "e   -1.5\n",
              "f    4.0\n",
              "g    3.1\n",
              "dtype: float64"
            ]
          },
          "metadata": {
            "tags": []
          },
          "execution_count": 59
        }
      ]
    },
    {
      "cell_type": "markdown",
      "metadata": {
        "id": "Ciy6hPUuCJ-I"
      },
      "source": [
        "Obs: Quando objetos estiverem sendo somados, se algum par de índices\n",
        "não for igual, o respectivo índice no resultado será a união dos\n",
        "pares de índices."
      ]
    },
    {
      "cell_type": "code",
      "metadata": {
        "colab": {
          "base_uri": "https://localhost:8080/"
        },
        "id": "PKiPxzKaLbe1",
        "outputId": "e6035ff0-5658-4458-ed60-a7922e16c8f9"
      },
      "source": [
        "s1+s2"
      ],
      "execution_count": 60,
      "outputs": [
        {
          "output_type": "execute_result",
          "data": {
            "text/plain": [
              "a    5.2\n",
              "c    1.1\n",
              "d    NaN\n",
              "e    0.0\n",
              "f    NaN\n",
              "g    NaN\n",
              "dtype: float64"
            ]
          },
          "metadata": {
            "tags": []
          },
          "execution_count": 60
        }
      ]
    },
    {
      "cell_type": "code",
      "metadata": {
        "colab": {
          "base_uri": "https://localhost:8080/",
          "height": 142
        },
        "id": "St38t4uJFlFw",
        "outputId": "7133b5f3-019b-430d-c1a5-f8441db74201"
      },
      "source": [
        "df1 = pd.DataFrame(np.arange(9.).reshape((3, 3)), columns=list('bcd'), index=['Ohio', 'Texas', 'Colorado'])\n",
        "df1"
      ],
      "execution_count": 63,
      "outputs": [
        {
          "output_type": "execute_result",
          "data": {
            "text/html": [
              "<div>\n",
              "<style scoped>\n",
              "    .dataframe tbody tr th:only-of-type {\n",
              "        vertical-align: middle;\n",
              "    }\n",
              "\n",
              "    .dataframe tbody tr th {\n",
              "        vertical-align: top;\n",
              "    }\n",
              "\n",
              "    .dataframe thead th {\n",
              "        text-align: right;\n",
              "    }\n",
              "</style>\n",
              "<table border=\"1\" class=\"dataframe\">\n",
              "  <thead>\n",
              "    <tr style=\"text-align: right;\">\n",
              "      <th></th>\n",
              "      <th>b</th>\n",
              "      <th>c</th>\n",
              "      <th>d</th>\n",
              "    </tr>\n",
              "  </thead>\n",
              "  <tbody>\n",
              "    <tr>\n",
              "      <th>Ohio</th>\n",
              "      <td>0.0</td>\n",
              "      <td>1.0</td>\n",
              "      <td>2.0</td>\n",
              "    </tr>\n",
              "    <tr>\n",
              "      <th>Texas</th>\n",
              "      <td>3.0</td>\n",
              "      <td>4.0</td>\n",
              "      <td>5.0</td>\n",
              "    </tr>\n",
              "    <tr>\n",
              "      <th>Colorado</th>\n",
              "      <td>6.0</td>\n",
              "      <td>7.0</td>\n",
              "      <td>8.0</td>\n",
              "    </tr>\n",
              "  </tbody>\n",
              "</table>\n",
              "</div>"
            ],
            "text/plain": [
              "            b    c    d\n",
              "Ohio      0.0  1.0  2.0\n",
              "Texas     3.0  4.0  5.0\n",
              "Colorado  6.0  7.0  8.0"
            ]
          },
          "metadata": {
            "tags": []
          },
          "execution_count": 63
        }
      ]
    },
    {
      "cell_type": "code",
      "metadata": {
        "colab": {
          "base_uri": "https://localhost:8080/",
          "height": 173
        },
        "id": "4Z3-h9eOF65k",
        "outputId": "c67ef8c6-9af2-4467-aa3a-36fc6a461358"
      },
      "source": [
        "df2 = pd.DataFrame(np.arange(12.).reshape((4, 3)), columns=list('bde'), index=['Utah', 'Ohio', 'Texas', 'Oregon'])\n",
        "df2"
      ],
      "execution_count": 66,
      "outputs": [
        {
          "output_type": "execute_result",
          "data": {
            "text/html": [
              "<div>\n",
              "<style scoped>\n",
              "    .dataframe tbody tr th:only-of-type {\n",
              "        vertical-align: middle;\n",
              "    }\n",
              "\n",
              "    .dataframe tbody tr th {\n",
              "        vertical-align: top;\n",
              "    }\n",
              "\n",
              "    .dataframe thead th {\n",
              "        text-align: right;\n",
              "    }\n",
              "</style>\n",
              "<table border=\"1\" class=\"dataframe\">\n",
              "  <thead>\n",
              "    <tr style=\"text-align: right;\">\n",
              "      <th></th>\n",
              "      <th>b</th>\n",
              "      <th>d</th>\n",
              "      <th>e</th>\n",
              "    </tr>\n",
              "  </thead>\n",
              "  <tbody>\n",
              "    <tr>\n",
              "      <th>Utah</th>\n",
              "      <td>0.0</td>\n",
              "      <td>1.0</td>\n",
              "      <td>2.0</td>\n",
              "    </tr>\n",
              "    <tr>\n",
              "      <th>Ohio</th>\n",
              "      <td>3.0</td>\n",
              "      <td>4.0</td>\n",
              "      <td>5.0</td>\n",
              "    </tr>\n",
              "    <tr>\n",
              "      <th>Texas</th>\n",
              "      <td>6.0</td>\n",
              "      <td>7.0</td>\n",
              "      <td>8.0</td>\n",
              "    </tr>\n",
              "    <tr>\n",
              "      <th>Oregon</th>\n",
              "      <td>9.0</td>\n",
              "      <td>10.0</td>\n",
              "      <td>11.0</td>\n",
              "    </tr>\n",
              "  </tbody>\n",
              "</table>\n",
              "</div>"
            ],
            "text/plain": [
              "          b     d     e\n",
              "Utah    0.0   1.0   2.0\n",
              "Ohio    3.0   4.0   5.0\n",
              "Texas   6.0   7.0   8.0\n",
              "Oregon  9.0  10.0  11.0"
            ]
          },
          "metadata": {
            "tags": []
          },
          "execution_count": 66
        }
      ]
    },
    {
      "cell_type": "markdown",
      "metadata": {
        "id": "iu5CQVwuJN9v"
      },
      "source": [
        "**No caso do DataFrame com Index, o alinhamento é feito tanto nas linhas\n",
        "quanto nas colunas:**"
      ]
    },
    {
      "cell_type": "code",
      "metadata": {
        "colab": {
          "base_uri": "https://localhost:8080/",
          "height": 204
        },
        "id": "JgauFL8LGFNI",
        "outputId": "0755224d-66f3-45a1-90c9-9daeb163721b"
      },
      "source": [
        "df1 + df2"
      ],
      "execution_count": 65,
      "outputs": [
        {
          "output_type": "execute_result",
          "data": {
            "text/html": [
              "<div>\n",
              "<style scoped>\n",
              "    .dataframe tbody tr th:only-of-type {\n",
              "        vertical-align: middle;\n",
              "    }\n",
              "\n",
              "    .dataframe tbody tr th {\n",
              "        vertical-align: top;\n",
              "    }\n",
              "\n",
              "    .dataframe thead th {\n",
              "        text-align: right;\n",
              "    }\n",
              "</style>\n",
              "<table border=\"1\" class=\"dataframe\">\n",
              "  <thead>\n",
              "    <tr style=\"text-align: right;\">\n",
              "      <th></th>\n",
              "      <th>b</th>\n",
              "      <th>c</th>\n",
              "      <th>d</th>\n",
              "      <th>e</th>\n",
              "    </tr>\n",
              "  </thead>\n",
              "  <tbody>\n",
              "    <tr>\n",
              "      <th>Colorado</th>\n",
              "      <td>NaN</td>\n",
              "      <td>NaN</td>\n",
              "      <td>NaN</td>\n",
              "      <td>NaN</td>\n",
              "    </tr>\n",
              "    <tr>\n",
              "      <th>Ohio</th>\n",
              "      <td>3.0</td>\n",
              "      <td>NaN</td>\n",
              "      <td>6.0</td>\n",
              "      <td>NaN</td>\n",
              "    </tr>\n",
              "    <tr>\n",
              "      <th>Oregon</th>\n",
              "      <td>NaN</td>\n",
              "      <td>NaN</td>\n",
              "      <td>NaN</td>\n",
              "      <td>NaN</td>\n",
              "    </tr>\n",
              "    <tr>\n",
              "      <th>Texas</th>\n",
              "      <td>9.0</td>\n",
              "      <td>NaN</td>\n",
              "      <td>12.0</td>\n",
              "      <td>NaN</td>\n",
              "    </tr>\n",
              "    <tr>\n",
              "      <th>Utah</th>\n",
              "      <td>NaN</td>\n",
              "      <td>NaN</td>\n",
              "      <td>NaN</td>\n",
              "      <td>NaN</td>\n",
              "    </tr>\n",
              "  </tbody>\n",
              "</table>\n",
              "</div>"
            ],
            "text/plain": [
              "            b   c     d   e\n",
              "Colorado  NaN NaN   NaN NaN\n",
              "Ohio      3.0 NaN   6.0 NaN\n",
              "Oregon    NaN NaN   NaN NaN\n",
              "Texas     9.0 NaN  12.0 NaN\n",
              "Utah      NaN NaN   NaN NaN"
            ]
          },
          "metadata": {
            "tags": []
          },
          "execution_count": 65
        }
      ]
    },
    {
      "cell_type": "code",
      "metadata": {
        "colab": {
          "base_uri": "https://localhost:8080/",
          "height": 111
        },
        "id": "UGpoiwwpLBvb",
        "outputId": "be5d0ea5-4504-4480-b8b1-53ae45e38b74"
      },
      "source": [
        "df3 = pd.DataFrame({'A': [1, 2]})\n",
        "df3"
      ],
      "execution_count": 68,
      "outputs": [
        {
          "output_type": "execute_result",
          "data": {
            "text/html": [
              "<div>\n",
              "<style scoped>\n",
              "    .dataframe tbody tr th:only-of-type {\n",
              "        vertical-align: middle;\n",
              "    }\n",
              "\n",
              "    .dataframe tbody tr th {\n",
              "        vertical-align: top;\n",
              "    }\n",
              "\n",
              "    .dataframe thead th {\n",
              "        text-align: right;\n",
              "    }\n",
              "</style>\n",
              "<table border=\"1\" class=\"dataframe\">\n",
              "  <thead>\n",
              "    <tr style=\"text-align: right;\">\n",
              "      <th></th>\n",
              "      <th>A</th>\n",
              "    </tr>\n",
              "  </thead>\n",
              "  <tbody>\n",
              "    <tr>\n",
              "      <th>0</th>\n",
              "      <td>1</td>\n",
              "    </tr>\n",
              "    <tr>\n",
              "      <th>1</th>\n",
              "      <td>2</td>\n",
              "    </tr>\n",
              "  </tbody>\n",
              "</table>\n",
              "</div>"
            ],
            "text/plain": [
              "   A\n",
              "0  1\n",
              "1  2"
            ]
          },
          "metadata": {
            "tags": []
          },
          "execution_count": 68
        }
      ]
    },
    {
      "cell_type": "code",
      "metadata": {
        "colab": {
          "base_uri": "https://localhost:8080/",
          "height": 111
        },
        "id": "6X9cjw4dLINN",
        "outputId": "8305bc3c-c540-4b18-a2a4-fd985903fbe9"
      },
      "source": [
        "df4 = pd.DataFrame({'B': [3, 4]})\n",
        "df4"
      ],
      "execution_count": 70,
      "outputs": [
        {
          "output_type": "execute_result",
          "data": {
            "text/html": [
              "<div>\n",
              "<style scoped>\n",
              "    .dataframe tbody tr th:only-of-type {\n",
              "        vertical-align: middle;\n",
              "    }\n",
              "\n",
              "    .dataframe tbody tr th {\n",
              "        vertical-align: top;\n",
              "    }\n",
              "\n",
              "    .dataframe thead th {\n",
              "        text-align: right;\n",
              "    }\n",
              "</style>\n",
              "<table border=\"1\" class=\"dataframe\">\n",
              "  <thead>\n",
              "    <tr style=\"text-align: right;\">\n",
              "      <th></th>\n",
              "      <th>B</th>\n",
              "    </tr>\n",
              "  </thead>\n",
              "  <tbody>\n",
              "    <tr>\n",
              "      <th>0</th>\n",
              "      <td>3</td>\n",
              "    </tr>\n",
              "    <tr>\n",
              "      <th>1</th>\n",
              "      <td>4</td>\n",
              "    </tr>\n",
              "  </tbody>\n",
              "</table>\n",
              "</div>"
            ],
            "text/plain": [
              "   B\n",
              "0  3\n",
              "1  4"
            ]
          },
          "metadata": {
            "tags": []
          },
          "execution_count": 70
        }
      ]
    },
    {
      "cell_type": "markdown",
      "metadata": {
        "id": "mY6pOwLoLpwe"
      },
      "source": [
        "**Se você somar objetos DataFrame sem rótulos para colunas ou\n",
        "linhas em comum, o resultado conterá somente nulos:**"
      ]
    },
    {
      "cell_type": "code",
      "metadata": {
        "colab": {
          "base_uri": "https://localhost:8080/",
          "height": 111
        },
        "id": "qWq79ZCTLS2W",
        "outputId": "1e6b58e0-de75-490b-cb45-cd69329687d8"
      },
      "source": [
        "df3+df4"
      ],
      "execution_count": 73,
      "outputs": [
        {
          "output_type": "execute_result",
          "data": {
            "text/html": [
              "<div>\n",
              "<style scoped>\n",
              "    .dataframe tbody tr th:only-of-type {\n",
              "        vertical-align: middle;\n",
              "    }\n",
              "\n",
              "    .dataframe tbody tr th {\n",
              "        vertical-align: top;\n",
              "    }\n",
              "\n",
              "    .dataframe thead th {\n",
              "        text-align: right;\n",
              "    }\n",
              "</style>\n",
              "<table border=\"1\" class=\"dataframe\">\n",
              "  <thead>\n",
              "    <tr style=\"text-align: right;\">\n",
              "      <th></th>\n",
              "      <th>A</th>\n",
              "      <th>B</th>\n",
              "    </tr>\n",
              "  </thead>\n",
              "  <tbody>\n",
              "    <tr>\n",
              "      <th>0</th>\n",
              "      <td>NaN</td>\n",
              "      <td>NaN</td>\n",
              "    </tr>\n",
              "    <tr>\n",
              "      <th>1</th>\n",
              "      <td>NaN</td>\n",
              "      <td>NaN</td>\n",
              "    </tr>\n",
              "  </tbody>\n",
              "</table>\n",
              "</div>"
            ],
            "text/plain": [
              "    A   B\n",
              "0 NaN NaN\n",
              "1 NaN NaN"
            ]
          },
          "metadata": {
            "tags": []
          },
          "execution_count": 73
        }
      ]
    }
  ]
}