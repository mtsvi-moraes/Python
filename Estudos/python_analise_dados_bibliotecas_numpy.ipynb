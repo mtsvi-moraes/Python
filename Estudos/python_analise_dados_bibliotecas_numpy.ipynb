{
  "nbformat": 4,
  "nbformat_minor": 0,
  "metadata": {
    "colab": {
      "name": "python_analise_dados",
      "provenance": [],
      "mount_file_id": "1lY0NTl9B2aXxAbD7MILFIYSLS41IIkBo",
      "authorship_tag": "ABX9TyOTAsErMleEwsmCi+cAImSs",
      "include_colab_link": true
    },
    "kernelspec": {
      "name": "python3",
      "display_name": "Python 3"
    },
    "language_info": {
      "name": "python"
    }
  },
  "cells": [
    {
      "cell_type": "markdown",
      "metadata": {
        "id": "view-in-github",
        "colab_type": "text"
      },
      "source": [
        "<a href=\"https://colab.research.google.com/github/mtsvi-moraes/mtsvi-moraes/blob/main/python_analise_dados.ipynb\" target=\"_parent\"><img src=\"https://colab.research.google.com/assets/colab-badge.svg\" alt=\"Open In Colab\"/></a>"
      ]
    },
    {
      "cell_type": "markdown",
      "metadata": {
        "id": "I3Z7kiC2w8FF"
      },
      "source": [
        "# **Python para análise de dados - Importando Bibliotecas, praticando condicionais, loopings, trabalhando com tipos de dados diferentes e manipulando arrays NumPy**"
      ]
    },
    {
      "cell_type": "markdown",
      "metadata": {
        "id": "bdSFXWeiMnon"
      },
      "source": [
        "### **Fazendo imports de bibliotecas:**"
      ]
    },
    {
      "cell_type": "code",
      "metadata": {
        "id": "EM2CheUrMwMj"
      },
      "source": [
        "import numpy as np\n",
        "import pandas as pd\n",
        "from random import randrange, seed\n",
        "from datetime import datetime, date, time\n",
        "from PIL import Image\n",
        "from numpy.linalg import inv, qr\n",
        "import matplotlib.pyplot as plt"
      ],
      "execution_count": 1,
      "outputs": []
    },
    {
      "cell_type": "markdown",
      "metadata": {
        "id": "utXqGnR6xJNK"
      },
      "source": [
        "*Importando data e horário:*"
      ]
    },
    {
      "cell_type": "code",
      "metadata": {
        "id": "78cTdakp4RSG",
        "colab": {
          "base_uri": "https://localhost:8080/",
          "height": 35
        },
        "outputId": "dd3dbe08-060c-4d99-f65d-c23c1a3bbd4a"
      },
      "source": [
        "from datetime import datetime, date, time\n",
        "\n",
        "dt = datetime(2021, 5, 1,14,22)\n",
        "dt.year\n",
        "dt.month\n",
        "dt.day\n",
        "dt.strftime('%d/%m/%Y %H:%M') #transforma a data em string"
      ],
      "execution_count": 2,
      "outputs": [
        {
          "output_type": "execute_result",
          "data": {
            "application/vnd.google.colaboratory.intrinsic+json": {
              "type": "string"
            },
            "text/plain": [
              "'01/05/2021 14:22'"
            ]
          },
          "metadata": {
            "tags": []
          },
          "execution_count": 2
        }
      ]
    },
    {
      "cell_type": "markdown",
      "metadata": {
        "id": "5-IBPo_lxeJk"
      },
      "source": [
        "*Condicionais (if, else, while):*"
      ]
    },
    {
      "cell_type": "code",
      "metadata": {
        "colab": {
          "base_uri": "https://localhost:8080/"
        },
        "id": "3FQt6JZW--gK",
        "outputId": "fd5a1091-e9ee-4cda-bb96-b52543831cda"
      },
      "source": [
        "numero = 125\n",
        "tabela = [1, 2, 3, None, 100]\n",
        "\n",
        "for algo in tabela:\n",
        "  if algo is None:\n",
        "    continue   #ignora o item do if\n",
        "    numero+=algo\n",
        "\n",
        "numero"
      ],
      "execution_count": 3,
      "outputs": [
        {
          "output_type": "execute_result",
          "data": {
            "text/plain": [
              "125"
            ]
          },
          "metadata": {
            "tags": []
          },
          "execution_count": 3
        }
      ]
    },
    {
      "cell_type": "code",
      "metadata": {
        "id": "TlTVUF8_BI4d"
      },
      "source": [
        "sequencia = [1, 2, 3, 4, 5]\n",
        "\n",
        "for itens in sequencia:\n",
        "  if itens == 13:\n",
        "    break\n",
        "  total = 20+ itens"
      ],
      "execution_count": 4,
      "outputs": []
    },
    {
      "cell_type": "code",
      "metadata": {
        "colab": {
          "base_uri": "https://localhost:8080/",
          "height": 35
        },
        "id": "rbl-Ai9ZCWlY",
        "outputId": "d947f78d-c677-4d38-eb7f-a8eda193c050"
      },
      "source": [
        "x = 35\n",
        "nome = ['Astroclinton']\n",
        "\n",
        "'Menor que 35' if x<35 else 'Maior ou igual que 35'\n",
        "\n",
        "# Isso é chamado de expressão ternária\n",
        "\n",
        "'Seu nome é diferente' if 'Astroclinton' in nome else 'Teu nome é comum'"
      ],
      "execution_count": 152,
      "outputs": [
        {
          "output_type": "execute_result",
          "data": {
            "application/vnd.google.colaboratory.intrinsic+json": {
              "type": "string"
            },
            "text/plain": [
              "'Seu nome é diferente'"
            ]
          },
          "metadata": {
            "tags": []
          },
          "execution_count": 152
        }
      ]
    },
    {
      "cell_type": "code",
      "metadata": {
        "id": "JrfmPz8XbDmX",
        "colab": {
          "base_uri": "https://localhost:8080/"
        },
        "outputId": "41beb866-f2b6-43b3-9d6a-a2a4da9892f5"
      },
      "source": [
        "x_1 = 1\n",
        "x_2 = 100\n",
        "\n",
        "while x_1 >10:\n",
        "  print('Menor que 10')\n",
        "else:\n",
        "  print(x_1 + x_2)"
      ],
      "execution_count": 6,
      "outputs": [
        {
          "output_type": "stream",
          "text": [
            "101\n"
          ],
          "name": "stdout"
        }
      ]
    },
    {
      "cell_type": "markdown",
      "metadata": {
        "id": "SGYf3jdexqNv"
      },
      "source": [
        "*Tuplas e listas:*"
      ]
    },
    {
      "cell_type": "code",
      "metadata": {
        "id": "rf5b4pJVDisJ",
        "colab": {
          "base_uri": "https://localhost:8080/"
        },
        "outputId": "34ddf9be-4ae6-4cfb-842c-9d8f168f9764"
      },
      "source": [
        "tupla = 10, 20, 30\n",
        "tupla\n",
        "\n",
        "tuple_2 = tuple('Matheus')\n",
        "tuple_2\n",
        "\n",
        "tupla_3 = (1, 3, 5)\n",
        "x, y, z = tupla_3\n",
        "\n",
        "tupla_4 = 1, 2, (3, 4)\n",
        "a, b, (c, d) = tupla_4\n",
        "\n",
        "tuple_5 = [(1, 2, 3), (4, 5, 6), (7,8, 9)]\n",
        "for x, y, z in tuple_5:\n",
        "  print(f'a ={x}, b={y}, c={z}')\n",
        "\n",
        "tupla_6 = 1, 2, 3, 4, 5\n",
        "x, y, z, *_ = tupla_6 #pode ser *rest ou *_ pra ignorar\n",
        "\n",
        "tupla_7 = (1, 1, 1, 1, 1, 1, 2, 3, 4, 5, 6)\n",
        "tupla_7.count(1) #conta o numero de itens passado no (), neste caso, 6"
      ],
      "execution_count": 7,
      "outputs": [
        {
          "output_type": "stream",
          "text": [
            "a =1, b=2, c=3\n",
            "a =4, b=5, c=6\n",
            "a =7, b=8, c=9\n"
          ],
          "name": "stdout"
        },
        {
          "output_type": "execute_result",
          "data": {
            "text/plain": [
              "6"
            ]
          },
          "metadata": {
            "tags": []
          },
          "execution_count": 7
        }
      ]
    },
    {
      "cell_type": "code",
      "metadata": {
        "colab": {
          "base_uri": "https://localhost:8080/"
        },
        "id": "ulal55fSorC9",
        "outputId": "6beeee23-c288-4632-c62c-db8d79c89544"
      },
      "source": [
        "nome_matheus = ['Matheus', 'Inagaki']\n",
        "nome_matheus.insert(1, 'Vinicius')\n",
        "nome_matheus.append('Moraes')\n",
        "nome_matheus.insert(0, 'Gostoso')\n",
        "nome_matheus.remove('Gostoso')\n",
        "\n",
        "nome_matheus.extend('O moleque mais gostoso de mogi city')\n",
        "\n",
        "nome_ercy = ['Ercy','Rego']\n",
        "nome_ercy.extend('123')\n",
        "nome_ercy"
      ],
      "execution_count": 8,
      "outputs": [
        {
          "output_type": "execute_result",
          "data": {
            "text/plain": [
              "['Ercy', 'Rego', '1', '2', '3']"
            ]
          },
          "metadata": {
            "tags": []
          },
          "execution_count": 8
        }
      ]
    },
    {
      "cell_type": "code",
      "metadata": {
        "id": "_Vc0qLkNr8WR"
      },
      "source": [
        "ordenar = [10, 23, 56, 1, 4, 19, 40]\n",
        "ordenar.sort()\n",
        "ordenar_2 = ['Maria', 'Joao', 'Kaue', 'Amanda', 'Matheus', 'Abe']\n",
        "ordenar_2.sort(key=len)\n",
        "ordenar_2\n",
        "ordenar_2.sort()"
      ],
      "execution_count": 9,
      "outputs": []
    },
    {
      "cell_type": "code",
      "metadata": {
        "colab": {
          "base_uri": "https://localhost:8080/"
        },
        "id": "QAI4DAx8qHvb",
        "outputId": "be3d8548-d0c8-4f3d-d4a3-cce21166f9b1"
      },
      "source": [
        "# sobre fatiamento:\n",
        "nome_completo = ['Moraes', 'Inagaki', 'Vinicius', 'Matheus']\n",
        "nome_completo[::-1] #tras a mesma lista, ao contrário"
      ],
      "execution_count": 10,
      "outputs": [
        {
          "output_type": "execute_result",
          "data": {
            "text/plain": [
              "['Matheus', 'Vinicius', 'Inagaki', 'Moraes']"
            ]
          },
          "metadata": {
            "tags": []
          },
          "execution_count": 10
        }
      ]
    },
    {
      "cell_type": "markdown",
      "metadata": {
        "id": "JADM9vFATUPi"
      },
      "source": [
        "*Funções built-in:*"
      ]
    },
    {
      "cell_type": "markdown",
      "metadata": {
        "id": "64BNHOOVTqgk"
      },
      "source": [
        "**enumerate = enumera itens de uma lista, tupla, dicionario**"
      ]
    },
    {
      "cell_type": "code",
      "metadata": {
        "colab": {
          "base_uri": "https://localhost:8080/"
        },
        "id": "cqVdcoJ4KbCv",
        "outputId": "0530d881-7097-4041-f5c2-4e87c848808c"
      },
      "source": [
        "id_familia = ['Matheus', 'Ercy', 'Sergio']\n",
        "\n",
        "id_moraes = list(enumerate(id_familia))\n",
        "\n",
        "id_roberto = tuple(['Roberto', 'Monique', 'Elisa'])\n",
        "id_toscano = list(enumerate(id_roberto, 1))\n",
        "\n",
        "id_aline = ('Aline', 'Valquiria', 'Jose')\n",
        "id_claudino = list(enumerate(id_aline, 1))\n",
        "for id, nome in id_claudino:\n",
        "  print(id, nome)"
      ],
      "execution_count": 11,
      "outputs": [
        {
          "output_type": "stream",
          "text": [
            "1 Aline\n",
            "2 Valquiria\n",
            "3 Jose\n"
          ],
          "name": "stdout"
        }
      ]
    },
    {
      "cell_type": "markdown",
      "metadata": {
        "id": "RZdIgOq-LUKJ"
      },
      "source": [
        "**Sorted: Coloca os itens de uma lista em ordem**"
      ]
    },
    {
      "cell_type": "code",
      "metadata": {
        "colab": {
          "base_uri": "https://localhost:8080/"
        },
        "id": "45lr3Ecukp7b",
        "outputId": "85cfd138-aa75-466c-8bdb-bc86575c70f1"
      },
      "source": [
        "import pandas as pd\n",
        "\n",
        "numerinhos = pd.Series([1, 2, 3, 4, 5])\n",
        "\n",
        "nominhos = pd.DataFrame(['Matheus', 'Carmen', 'Anita', 'Christian', 'Gertrude'])\n",
        "\n",
        "numerinhos_inhos = [30, 29, 39, 17, 15, 10, 3, 109, 274, 1, 4, 16, 6, 94]\n",
        "\n",
        "sorted(numerinhos_inhos)\n",
        "sorted('horse')"
      ],
      "execution_count": 12,
      "outputs": [
        {
          "output_type": "execute_result",
          "data": {
            "text/plain": [
              "['e', 'h', 'o', 'r', 's']"
            ]
          },
          "metadata": {
            "tags": []
          },
          "execution_count": 12
        }
      ]
    },
    {
      "cell_type": "code",
      "metadata": {
        "id": "0Mn24WJ9KiET",
        "colab": {
          "base_uri": "https://localhost:8080/"
        },
        "outputId": "0e4d9b51-4c0e-400e-8030-eee7cf577c42"
      },
      "source": [
        "dic01 = {'papito': 'mamacita', 'filhozito': 'filhazita', 'b': [1233456]}\n",
        "dic01['macarronada'] = 'bolonhesa' #atribui e adiciona ao dicionário\n",
        "dic01\n",
        "'filhozito' in dic01 #procura pelas keys"
      ],
      "execution_count": 13,
      "outputs": [
        {
          "output_type": "execute_result",
          "data": {
            "text/plain": [
              "True"
            ]
          },
          "metadata": {
            "tags": []
          },
          "execution_count": 13
        }
      ]
    },
    {
      "cell_type": "code",
      "metadata": {
        "colab": {
          "base_uri": "https://localhost:8080/"
        },
        "id": "jtKSA-trz2Da",
        "outputId": "0f2af59d-8da4-4bb5-bea6-0a0cec976559"
      },
      "source": [
        "from random import randrange, seed\n",
        "seed(42)\n",
        "\n",
        "notas_1 = []\n",
        "\n",
        "for notas in range(11):\n",
        "  notas_1.append(randrange(11))\n",
        "\n",
        "mapping = dict(zip(range(10), reversed(notas_1)))\n",
        "mapping"
      ],
      "execution_count": 14,
      "outputs": [
        {
          "output_type": "execute_result",
          "data": {
            "text/plain": [
              "{0: 1, 1: 8, 2: 10, 3: 1, 4: 2, 5: 3, 6: 3, 7: 4, 8: 0, 9: 1}"
            ]
          },
          "metadata": {
            "tags": []
          },
          "execution_count": 14
        }
      ]
    },
    {
      "cell_type": "code",
      "metadata": {
        "colab": {
          "base_uri": "https://localhost:8080/"
        },
        "id": "MXWYEVUL63OK",
        "outputId": "10593c3c-7938-4b38-88d8-9b4c0d354b87"
      },
      "source": [
        "palavras = ['baralho', 'chico', 'macaco', 'bolsonaro', 'dilma']\n",
        "dic = {}\n",
        "\n",
        "from collections import defaultdict\n",
        "dic = defaultdict(list)\n",
        "for pqp in palavras:\n",
        "  dic[pqp[0]].append(pqp)\n",
        "\n",
        "dic  #criando dicionario com a primeira letra\n"
      ],
      "execution_count": 154,
      "outputs": [
        {
          "output_type": "execute_result",
          "data": {
            "text/plain": [
              "defaultdict(list,\n",
              "            {'b': ['baralho', 'bolsonaro'],\n",
              "             'c': ['chico'],\n",
              "             'd': ['dilma'],\n",
              "             'm': ['macaco']})"
            ]
          },
          "metadata": {
            "tags": []
          },
          "execution_count": 154
        }
      ]
    },
    {
      "cell_type": "markdown",
      "metadata": {
        "id": "uKplduwSHAKW"
      },
      "source": [
        "### **SETS: Lista de elementos únicos não ordenada como a grosso modo: As chaves  do dicionario, sem valores**"
      ]
    },
    {
      "cell_type": "code",
      "metadata": {
        "colab": {
          "base_uri": "https://localhost:8080/"
        },
        "id": "5Hx2P5wxD-W2",
        "outputId": "abdb71c1-2313-4319-9ef7-d95db061e4a3"
      },
      "source": [
        "numeros_aleatorios = set([50, 49, 11, 2, 4, 5, 10, 3, 60, 50, 49, 4])\n",
        "numeros_ok = {1, 2, 3, 3, 2, 1, 5, 9, 3}\n",
        "sequencia = numeros_ok.union(numeros_aleatorios) ##junta os sets\n",
        "sequencia"
      ],
      "execution_count": 16,
      "outputs": [
        {
          "output_type": "execute_result",
          "data": {
            "text/plain": [
              "{1, 2, 3, 4, 5, 9, 10, 11, 49, 50, 60}"
            ]
          },
          "metadata": {
            "tags": []
          },
          "execution_count": 16
        }
      ]
    },
    {
      "cell_type": "markdown",
      "metadata": {
        "id": "fwIVHz8WIoYJ"
      },
      "source": [
        "### **List, set, dict comprehension**"
      ]
    },
    {
      "cell_type": "code",
      "metadata": {
        "id": "L5E0OPL8H7Et",
        "colab": {
          "base_uri": "https://localhost:8080/"
        },
        "outputId": "c908db3c-a3ae-486e-873b-fbf804db2928"
      },
      "source": [
        "[numero >20 for numero in numeros_aleatorios]"
      ],
      "execution_count": 17,
      "outputs": [
        {
          "output_type": "execute_result",
          "data": {
            "text/plain": [
              "[False, False, False, False, False, False, True, True, True]"
            ]
          },
          "metadata": {
            "tags": []
          },
          "execution_count": 17
        }
      ]
    },
    {
      "cell_type": "code",
      "metadata": {
        "colab": {
          "base_uri": "https://localhost:8080/"
        },
        "id": "v0Vvwn7eIu7Y",
        "outputId": "b67bd016-2fff-49d0-9fd8-4424689b1129"
      },
      "source": [
        "[numero for numero in numeros_aleatorios if numero >20]"
      ],
      "execution_count": 18,
      "outputs": [
        {
          "output_type": "execute_result",
          "data": {
            "text/plain": [
              "[49, 50, 60]"
            ]
          },
          "metadata": {
            "tags": []
          },
          "execution_count": 18
        }
      ]
    },
    {
      "cell_type": "code",
      "metadata": {
        "id": "AeONO40IDnw8",
        "colab": {
          "base_uri": "https://localhost:8080/"
        },
        "outputId": "f387e637-3db8-4828-f0f4-c99396c23a88"
      },
      "source": [
        "{numero_baixo for numero_baixo in numeros_ok if numero_baixo <3}"
      ],
      "execution_count": 19,
      "outputs": [
        {
          "output_type": "execute_result",
          "data": {
            "text/plain": [
              "{1, 2}"
            ]
          },
          "metadata": {
            "tags": []
          },
          "execution_count": 19
        }
      ]
    },
    {
      "cell_type": "code",
      "metadata": {
        "colab": {
          "base_uri": "https://localhost:8080/"
        },
        "id": "ldmIEJF3KaVw",
        "outputId": "a2de3095-81dc-404c-c6a7-4a4eefbb5742"
      },
      "source": [
        "some_tuples = [(1, 2, 3), (4, 5, 6), (7, 8, 9)]\n",
        "[sequenciazinha for sequenciazona in some_tuples for sequenciazinha in sequenciazona]"
      ],
      "execution_count": 20,
      "outputs": [
        {
          "output_type": "execute_result",
          "data": {
            "text/plain": [
              "[1, 2, 3, 4, 5, 6, 7, 8, 9]"
            ]
          },
          "metadata": {
            "tags": []
          },
          "execution_count": 20
        }
      ]
    },
    {
      "cell_type": "markdown",
      "metadata": {
        "id": "1DhdEz7lj3yL"
      },
      "source": [
        "### **Funções:**"
      ]
    },
    {
      "cell_type": "code",
      "metadata": {
        "id": "1okUsd2Q7Vgx"
      },
      "source": [
        "def minha_funçao (x, y, z=1.5):\n",
        "  if z>1:\n",
        "    return z*(x+y)\n",
        "  else:\n",
        "    return z/(x+y)"
      ],
      "execution_count": 21,
      "outputs": []
    },
    {
      "cell_type": "code",
      "metadata": {
        "colab": {
          "base_uri": "https://localhost:8080/"
        },
        "id": "ywhswbqLScZC",
        "outputId": "009a69c7-b50e-4c6d-e185-ae0da3395649"
      },
      "source": [
        "v = [i for i in range(10)]\n",
        "def f():\n",
        "  global v\n",
        "print(v)\n",
        "\n",
        "# Uma variável global permite acessar um valor de uma variável que esteja fora de uma função"
      ],
      "execution_count": 22,
      "outputs": [
        {
          "output_type": "stream",
          "text": [
            "[0, 1, 2, 3, 4, 5, 6, 7, 8, 9]\n"
          ],
          "name": "stdout"
        }
      ]
    },
    {
      "cell_type": "code",
      "metadata": {
        "colab": {
          "base_uri": "https://localhost:8080/"
        },
        "id": "hpxzsHk1W1oG",
        "outputId": "10f15338-c1c2-44bb-fa99-cb97bde77495"
      },
      "source": [
        "def n():\n",
        "  a = 1\n",
        "  b = 5\n",
        "  c = 7\n",
        "  return {'a': a, 'b': b, 'c':c}\n",
        "n()"
      ],
      "execution_count": 23,
      "outputs": [
        {
          "output_type": "execute_result",
          "data": {
            "text/plain": [
              "{'a': 1, 'b': 5, 'c': 7}"
            ]
          },
          "metadata": {
            "tags": []
          },
          "execution_count": 23
        }
      ]
    },
    {
      "cell_type": "code",
      "metadata": {
        "colab": {
          "base_uri": "https://localhost:8080/"
        },
        "id": "PLCs-CtfkKXq",
        "outputId": "96d79ab7-3080-4a73-d429-b05ff10bd5b4"
      },
      "source": [
        "import re\n",
        "estados = ['Brasilia@#$', '               SaO PAulO', 'RIO de JanEiro', 'florianópolis?', 'Minas!']\n",
        "def limpando_strings(strings):\n",
        "  resultado = []\n",
        "  for texto in strings:\n",
        "    texto = texto.strip()  #retira os espaços antes e depois das strings\n",
        "    texto = re.sub('[@%$!#?]', '', texto)\n",
        "    texto = texto.title() #formata as que estão em maiusculas, e coloca a primeira letra da string como se fosse titulo\n",
        "    resultado.append(texto)\n",
        "  return resultado\n",
        "\n",
        "limpando_strings(estados)"
      ],
      "execution_count": 24,
      "outputs": [
        {
          "output_type": "execute_result",
          "data": {
            "text/plain": [
              "['Brasilia', 'Sao Paulo', 'Rio De Janeiro', 'Florianópolis', 'Minas']"
            ]
          },
          "metadata": {
            "tags": []
          },
          "execution_count": 24
        }
      ]
    },
    {
      "cell_type": "code",
      "metadata": {
        "colab": {
          "base_uri": "https://localhost:8080/"
        },
        "id": "LZaNzPG7rhoR",
        "outputId": "259b27b5-c01b-446f-b94d-719a785212d3"
      },
      "source": [
        "for x in map(limpando_strings, estados):\n",
        "  print(x)\n",
        "\n",
        "#map deixa você utilizar um argumento de uma função ser outra função"
      ],
      "execution_count": 25,
      "outputs": [
        {
          "output_type": "stream",
          "text": [
            "['B', 'R', 'A', 'S', 'I', 'L', 'I', 'A', '', '', '']\n",
            "['', '', '', '', '', '', '', '', '', '', '', '', '', '', '', 'S', 'A', 'O', '', 'P', 'A', 'U', 'L', 'O']\n",
            "['R', 'I', 'O', '', 'D', 'E', '', 'J', 'A', 'N', 'E', 'I', 'R', 'O']\n",
            "['F', 'L', 'O', 'R', 'I', 'A', 'N', 'Ó', 'P', 'O', 'L', 'I', 'S', '']\n",
            "['M', 'I', 'N', 'A', 'S', '']\n"
          ],
          "name": "stdout"
        }
      ]
    },
    {
      "cell_type": "code",
      "metadata": {
        "id": "mZL0W-witMkn"
      },
      "source": [
        "gen = (x ** 2 for x in range(100))          #geradores criam uma função não alocada na memória\n",
        "\n",
        "gerador02 = ((x**10) for x in range(20000))\n",
        "\n",
        "def funcao_idiota():\n",
        "  for x in range(10):\n",
        "    yield x**2\n",
        "\n",
        "gerador03 = (funcao_idiota()) #retorna mesmo valor do gerador 02  "
      ],
      "execution_count": 26,
      "outputs": []
    },
    {
      "cell_type": "code",
      "metadata": {
        "colab": {
          "base_uri": "https://localhost:8080/"
        },
        "id": "53AtKLCMsgVr",
        "outputId": "87940ca8-4522-44d1-d49a-feaa4f43f5a1"
      },
      "source": [
        "import itertools        #biblioteca padrão que cria geradores para algoritmos\n",
        "\n",
        "list(itertools.combinations('ABCD', 2)) #cria uma sequencia em tuplas com as combinações possíveis sem repetições"
      ],
      "execution_count": 27,
      "outputs": [
        {
          "output_type": "execute_result",
          "data": {
            "text/plain": [
              "[('A', 'B'), ('A', 'C'), ('A', 'D'), ('B', 'C'), ('B', 'D'), ('C', 'D')]"
            ]
          },
          "metadata": {
            "tags": []
          },
          "execution_count": 27
        }
      ]
    },
    {
      "cell_type": "code",
      "metadata": {
        "colab": {
          "base_uri": "https://localhost:8080/"
        },
        "id": "7L0REMNgusgP",
        "outputId": "c28591aa-5a6a-454c-957b-6635bb861b03"
      },
      "source": [
        "list(itertools.permutations('ABCD', 2))  #parecido com o combinations, com a diferença que não retorna valores iguais e retorna valores ao contrário"
      ],
      "execution_count": 28,
      "outputs": [
        {
          "output_type": "execute_result",
          "data": {
            "text/plain": [
              "[('A', 'B'),\n",
              " ('A', 'C'),\n",
              " ('A', 'D'),\n",
              " ('B', 'A'),\n",
              " ('B', 'C'),\n",
              " ('B', 'D'),\n",
              " ('C', 'A'),\n",
              " ('C', 'B'),\n",
              " ('C', 'D'),\n",
              " ('D', 'A'),\n",
              " ('D', 'B'),\n",
              " ('D', 'C')]"
            ]
          },
          "metadata": {
            "tags": []
          },
          "execution_count": 28
        }
      ]
    },
    {
      "cell_type": "code",
      "metadata": {
        "colab": {
          "base_uri": "https://localhost:8080/"
        },
        "id": "PPr6Dyc3vqXB",
        "outputId": "18284271-6bd3-470d-cb27-ab3be84b9934"
      },
      "source": [
        "list(itertools.product('ABCD', repeat=4))   #cria um nested for loop pra todas as combinações"
      ],
      "execution_count": 29,
      "outputs": [
        {
          "output_type": "execute_result",
          "data": {
            "text/plain": [
              "[('A', 'A', 'A', 'A'),\n",
              " ('A', 'A', 'A', 'B'),\n",
              " ('A', 'A', 'A', 'C'),\n",
              " ('A', 'A', 'A', 'D'),\n",
              " ('A', 'A', 'B', 'A'),\n",
              " ('A', 'A', 'B', 'B'),\n",
              " ('A', 'A', 'B', 'C'),\n",
              " ('A', 'A', 'B', 'D'),\n",
              " ('A', 'A', 'C', 'A'),\n",
              " ('A', 'A', 'C', 'B'),\n",
              " ('A', 'A', 'C', 'C'),\n",
              " ('A', 'A', 'C', 'D'),\n",
              " ('A', 'A', 'D', 'A'),\n",
              " ('A', 'A', 'D', 'B'),\n",
              " ('A', 'A', 'D', 'C'),\n",
              " ('A', 'A', 'D', 'D'),\n",
              " ('A', 'B', 'A', 'A'),\n",
              " ('A', 'B', 'A', 'B'),\n",
              " ('A', 'B', 'A', 'C'),\n",
              " ('A', 'B', 'A', 'D'),\n",
              " ('A', 'B', 'B', 'A'),\n",
              " ('A', 'B', 'B', 'B'),\n",
              " ('A', 'B', 'B', 'C'),\n",
              " ('A', 'B', 'B', 'D'),\n",
              " ('A', 'B', 'C', 'A'),\n",
              " ('A', 'B', 'C', 'B'),\n",
              " ('A', 'B', 'C', 'C'),\n",
              " ('A', 'B', 'C', 'D'),\n",
              " ('A', 'B', 'D', 'A'),\n",
              " ('A', 'B', 'D', 'B'),\n",
              " ('A', 'B', 'D', 'C'),\n",
              " ('A', 'B', 'D', 'D'),\n",
              " ('A', 'C', 'A', 'A'),\n",
              " ('A', 'C', 'A', 'B'),\n",
              " ('A', 'C', 'A', 'C'),\n",
              " ('A', 'C', 'A', 'D'),\n",
              " ('A', 'C', 'B', 'A'),\n",
              " ('A', 'C', 'B', 'B'),\n",
              " ('A', 'C', 'B', 'C'),\n",
              " ('A', 'C', 'B', 'D'),\n",
              " ('A', 'C', 'C', 'A'),\n",
              " ('A', 'C', 'C', 'B'),\n",
              " ('A', 'C', 'C', 'C'),\n",
              " ('A', 'C', 'C', 'D'),\n",
              " ('A', 'C', 'D', 'A'),\n",
              " ('A', 'C', 'D', 'B'),\n",
              " ('A', 'C', 'D', 'C'),\n",
              " ('A', 'C', 'D', 'D'),\n",
              " ('A', 'D', 'A', 'A'),\n",
              " ('A', 'D', 'A', 'B'),\n",
              " ('A', 'D', 'A', 'C'),\n",
              " ('A', 'D', 'A', 'D'),\n",
              " ('A', 'D', 'B', 'A'),\n",
              " ('A', 'D', 'B', 'B'),\n",
              " ('A', 'D', 'B', 'C'),\n",
              " ('A', 'D', 'B', 'D'),\n",
              " ('A', 'D', 'C', 'A'),\n",
              " ('A', 'D', 'C', 'B'),\n",
              " ('A', 'D', 'C', 'C'),\n",
              " ('A', 'D', 'C', 'D'),\n",
              " ('A', 'D', 'D', 'A'),\n",
              " ('A', 'D', 'D', 'B'),\n",
              " ('A', 'D', 'D', 'C'),\n",
              " ('A', 'D', 'D', 'D'),\n",
              " ('B', 'A', 'A', 'A'),\n",
              " ('B', 'A', 'A', 'B'),\n",
              " ('B', 'A', 'A', 'C'),\n",
              " ('B', 'A', 'A', 'D'),\n",
              " ('B', 'A', 'B', 'A'),\n",
              " ('B', 'A', 'B', 'B'),\n",
              " ('B', 'A', 'B', 'C'),\n",
              " ('B', 'A', 'B', 'D'),\n",
              " ('B', 'A', 'C', 'A'),\n",
              " ('B', 'A', 'C', 'B'),\n",
              " ('B', 'A', 'C', 'C'),\n",
              " ('B', 'A', 'C', 'D'),\n",
              " ('B', 'A', 'D', 'A'),\n",
              " ('B', 'A', 'D', 'B'),\n",
              " ('B', 'A', 'D', 'C'),\n",
              " ('B', 'A', 'D', 'D'),\n",
              " ('B', 'B', 'A', 'A'),\n",
              " ('B', 'B', 'A', 'B'),\n",
              " ('B', 'B', 'A', 'C'),\n",
              " ('B', 'B', 'A', 'D'),\n",
              " ('B', 'B', 'B', 'A'),\n",
              " ('B', 'B', 'B', 'B'),\n",
              " ('B', 'B', 'B', 'C'),\n",
              " ('B', 'B', 'B', 'D'),\n",
              " ('B', 'B', 'C', 'A'),\n",
              " ('B', 'B', 'C', 'B'),\n",
              " ('B', 'B', 'C', 'C'),\n",
              " ('B', 'B', 'C', 'D'),\n",
              " ('B', 'B', 'D', 'A'),\n",
              " ('B', 'B', 'D', 'B'),\n",
              " ('B', 'B', 'D', 'C'),\n",
              " ('B', 'B', 'D', 'D'),\n",
              " ('B', 'C', 'A', 'A'),\n",
              " ('B', 'C', 'A', 'B'),\n",
              " ('B', 'C', 'A', 'C'),\n",
              " ('B', 'C', 'A', 'D'),\n",
              " ('B', 'C', 'B', 'A'),\n",
              " ('B', 'C', 'B', 'B'),\n",
              " ('B', 'C', 'B', 'C'),\n",
              " ('B', 'C', 'B', 'D'),\n",
              " ('B', 'C', 'C', 'A'),\n",
              " ('B', 'C', 'C', 'B'),\n",
              " ('B', 'C', 'C', 'C'),\n",
              " ('B', 'C', 'C', 'D'),\n",
              " ('B', 'C', 'D', 'A'),\n",
              " ('B', 'C', 'D', 'B'),\n",
              " ('B', 'C', 'D', 'C'),\n",
              " ('B', 'C', 'D', 'D'),\n",
              " ('B', 'D', 'A', 'A'),\n",
              " ('B', 'D', 'A', 'B'),\n",
              " ('B', 'D', 'A', 'C'),\n",
              " ('B', 'D', 'A', 'D'),\n",
              " ('B', 'D', 'B', 'A'),\n",
              " ('B', 'D', 'B', 'B'),\n",
              " ('B', 'D', 'B', 'C'),\n",
              " ('B', 'D', 'B', 'D'),\n",
              " ('B', 'D', 'C', 'A'),\n",
              " ('B', 'D', 'C', 'B'),\n",
              " ('B', 'D', 'C', 'C'),\n",
              " ('B', 'D', 'C', 'D'),\n",
              " ('B', 'D', 'D', 'A'),\n",
              " ('B', 'D', 'D', 'B'),\n",
              " ('B', 'D', 'D', 'C'),\n",
              " ('B', 'D', 'D', 'D'),\n",
              " ('C', 'A', 'A', 'A'),\n",
              " ('C', 'A', 'A', 'B'),\n",
              " ('C', 'A', 'A', 'C'),\n",
              " ('C', 'A', 'A', 'D'),\n",
              " ('C', 'A', 'B', 'A'),\n",
              " ('C', 'A', 'B', 'B'),\n",
              " ('C', 'A', 'B', 'C'),\n",
              " ('C', 'A', 'B', 'D'),\n",
              " ('C', 'A', 'C', 'A'),\n",
              " ('C', 'A', 'C', 'B'),\n",
              " ('C', 'A', 'C', 'C'),\n",
              " ('C', 'A', 'C', 'D'),\n",
              " ('C', 'A', 'D', 'A'),\n",
              " ('C', 'A', 'D', 'B'),\n",
              " ('C', 'A', 'D', 'C'),\n",
              " ('C', 'A', 'D', 'D'),\n",
              " ('C', 'B', 'A', 'A'),\n",
              " ('C', 'B', 'A', 'B'),\n",
              " ('C', 'B', 'A', 'C'),\n",
              " ('C', 'B', 'A', 'D'),\n",
              " ('C', 'B', 'B', 'A'),\n",
              " ('C', 'B', 'B', 'B'),\n",
              " ('C', 'B', 'B', 'C'),\n",
              " ('C', 'B', 'B', 'D'),\n",
              " ('C', 'B', 'C', 'A'),\n",
              " ('C', 'B', 'C', 'B'),\n",
              " ('C', 'B', 'C', 'C'),\n",
              " ('C', 'B', 'C', 'D'),\n",
              " ('C', 'B', 'D', 'A'),\n",
              " ('C', 'B', 'D', 'B'),\n",
              " ('C', 'B', 'D', 'C'),\n",
              " ('C', 'B', 'D', 'D'),\n",
              " ('C', 'C', 'A', 'A'),\n",
              " ('C', 'C', 'A', 'B'),\n",
              " ('C', 'C', 'A', 'C'),\n",
              " ('C', 'C', 'A', 'D'),\n",
              " ('C', 'C', 'B', 'A'),\n",
              " ('C', 'C', 'B', 'B'),\n",
              " ('C', 'C', 'B', 'C'),\n",
              " ('C', 'C', 'B', 'D'),\n",
              " ('C', 'C', 'C', 'A'),\n",
              " ('C', 'C', 'C', 'B'),\n",
              " ('C', 'C', 'C', 'C'),\n",
              " ('C', 'C', 'C', 'D'),\n",
              " ('C', 'C', 'D', 'A'),\n",
              " ('C', 'C', 'D', 'B'),\n",
              " ('C', 'C', 'D', 'C'),\n",
              " ('C', 'C', 'D', 'D'),\n",
              " ('C', 'D', 'A', 'A'),\n",
              " ('C', 'D', 'A', 'B'),\n",
              " ('C', 'D', 'A', 'C'),\n",
              " ('C', 'D', 'A', 'D'),\n",
              " ('C', 'D', 'B', 'A'),\n",
              " ('C', 'D', 'B', 'B'),\n",
              " ('C', 'D', 'B', 'C'),\n",
              " ('C', 'D', 'B', 'D'),\n",
              " ('C', 'D', 'C', 'A'),\n",
              " ('C', 'D', 'C', 'B'),\n",
              " ('C', 'D', 'C', 'C'),\n",
              " ('C', 'D', 'C', 'D'),\n",
              " ('C', 'D', 'D', 'A'),\n",
              " ('C', 'D', 'D', 'B'),\n",
              " ('C', 'D', 'D', 'C'),\n",
              " ('C', 'D', 'D', 'D'),\n",
              " ('D', 'A', 'A', 'A'),\n",
              " ('D', 'A', 'A', 'B'),\n",
              " ('D', 'A', 'A', 'C'),\n",
              " ('D', 'A', 'A', 'D'),\n",
              " ('D', 'A', 'B', 'A'),\n",
              " ('D', 'A', 'B', 'B'),\n",
              " ('D', 'A', 'B', 'C'),\n",
              " ('D', 'A', 'B', 'D'),\n",
              " ('D', 'A', 'C', 'A'),\n",
              " ('D', 'A', 'C', 'B'),\n",
              " ('D', 'A', 'C', 'C'),\n",
              " ('D', 'A', 'C', 'D'),\n",
              " ('D', 'A', 'D', 'A'),\n",
              " ('D', 'A', 'D', 'B'),\n",
              " ('D', 'A', 'D', 'C'),\n",
              " ('D', 'A', 'D', 'D'),\n",
              " ('D', 'B', 'A', 'A'),\n",
              " ('D', 'B', 'A', 'B'),\n",
              " ('D', 'B', 'A', 'C'),\n",
              " ('D', 'B', 'A', 'D'),\n",
              " ('D', 'B', 'B', 'A'),\n",
              " ('D', 'B', 'B', 'B'),\n",
              " ('D', 'B', 'B', 'C'),\n",
              " ('D', 'B', 'B', 'D'),\n",
              " ('D', 'B', 'C', 'A'),\n",
              " ('D', 'B', 'C', 'B'),\n",
              " ('D', 'B', 'C', 'C'),\n",
              " ('D', 'B', 'C', 'D'),\n",
              " ('D', 'B', 'D', 'A'),\n",
              " ('D', 'B', 'D', 'B'),\n",
              " ('D', 'B', 'D', 'C'),\n",
              " ('D', 'B', 'D', 'D'),\n",
              " ('D', 'C', 'A', 'A'),\n",
              " ('D', 'C', 'A', 'B'),\n",
              " ('D', 'C', 'A', 'C'),\n",
              " ('D', 'C', 'A', 'D'),\n",
              " ('D', 'C', 'B', 'A'),\n",
              " ('D', 'C', 'B', 'B'),\n",
              " ('D', 'C', 'B', 'C'),\n",
              " ('D', 'C', 'B', 'D'),\n",
              " ('D', 'C', 'C', 'A'),\n",
              " ('D', 'C', 'C', 'B'),\n",
              " ('D', 'C', 'C', 'C'),\n",
              " ('D', 'C', 'C', 'D'),\n",
              " ('D', 'C', 'D', 'A'),\n",
              " ('D', 'C', 'D', 'B'),\n",
              " ('D', 'C', 'D', 'C'),\n",
              " ('D', 'C', 'D', 'D'),\n",
              " ('D', 'D', 'A', 'A'),\n",
              " ('D', 'D', 'A', 'B'),\n",
              " ('D', 'D', 'A', 'C'),\n",
              " ('D', 'D', 'A', 'D'),\n",
              " ('D', 'D', 'B', 'A'),\n",
              " ('D', 'D', 'B', 'B'),\n",
              " ('D', 'D', 'B', 'C'),\n",
              " ('D', 'D', 'B', 'D'),\n",
              " ('D', 'D', 'C', 'A'),\n",
              " ('D', 'D', 'C', 'B'),\n",
              " ('D', 'D', 'C', 'C'),\n",
              " ('D', 'D', 'C', 'D'),\n",
              " ('D', 'D', 'D', 'A'),\n",
              " ('D', 'D', 'D', 'B'),\n",
              " ('D', 'D', 'D', 'C'),\n",
              " ('D', 'D', 'D', 'D')]"
            ]
          },
          "metadata": {
            "tags": []
          },
          "execution_count": 29
        }
      ]
    },
    {
      "cell_type": "code",
      "metadata": {
        "id": "iDrG3PZNwii2",
        "colab": {
          "base_uri": "https://localhost:8080/"
        },
        "outputId": "b6865a26-5ae9-49fb-f752-dd53bcd093a3"
      },
      "source": [
        "def flutuante(x):\n",
        "  try:\n",
        "    return float(x)\n",
        "  except (TypeError, ValueError):\n",
        "    return tuple(x)\n",
        "    \n",
        "flutuante('Matheus')"
      ],
      "execution_count": 30,
      "outputs": [
        {
          "output_type": "execute_result",
          "data": {
            "text/plain": [
              "('M', 'a', 't', 'h', 'e', 'u', 's')"
            ]
          },
          "metadata": {
            "tags": []
          },
          "execution_count": 30
        }
      ]
    },
    {
      "cell_type": "code",
      "metadata": {
        "colab": {
          "base_uri": "https://localhost:8080/"
        },
        "id": "aukcQ8nkbEJJ",
        "outputId": "2003981b-bede-43a9-efeb-c72f2cff9bd3"
      },
      "source": [
        "def numero_inventado(x):\n",
        "  try:\n",
        "    return x**2\n",
        "  except (TypeError, ValueError):\n",
        "    return float(x)\n",
        "  finally: #executa independentemente do try ter dado certo ou não\n",
        "    return int(x) + 10\n",
        "\n",
        "numero_inventado('1020')"
      ],
      "execution_count": 31,
      "outputs": [
        {
          "output_type": "execute_result",
          "data": {
            "text/plain": [
              "1030"
            ]
          },
          "metadata": {
            "tags": []
          },
          "execution_count": 31
        }
      ]
    },
    {
      "cell_type": "code",
      "metadata": {
        "colab": {
          "base_uri": "https://localhost:8080/",
          "height": 35
        },
        "id": "8NTDPUrYh4x7",
        "outputId": "132121a8-5182-4723-af5d-01049d775ca5"
      },
      "source": [
        "path = '/content/drive/MyDrive/Data Science/Python para Analise de Dados/texto.txt'\n",
        "covid = open(path, mode='r+')\n",
        "\n",
        "lines = [x.rstrip() for x in open(path)]\n",
        "\n",
        "covid.read(200)"
      ],
      "execution_count": 32,
      "outputs": [
        {
          "output_type": "execute_result",
          "data": {
            "application/vnd.google.colaboratory.intrinsic+json": {
              "type": "string"
            },
            "text/plain": [
              "'tem algumas linhas \\nesse meu poema\\npra que nada nao aconteça\\n\\nao otario que o leia'"
            ]
          },
          "metadata": {
            "tags": []
          },
          "execution_count": 32
        }
      ]
    },
    {
      "cell_type": "markdown",
      "metadata": {
        "id": "BgSm-4ILpZ0L"
      },
      "source": [
        "### **Arrays Numpy:**"
      ]
    },
    {
      "cell_type": "code",
      "metadata": {
        "colab": {
          "base_uri": "https://localhost:8080/"
        },
        "id": "H4JcgN7SmvOR",
        "outputId": "fb75a1d9-9962-45b9-d2e5-3ba4d0d9a0e2"
      },
      "source": [
        "my_array = np.array(range(100000))\n",
        "my_list = list(range(10000))\n",
        "\n",
        "dados = np.array(list(range(40)))\n",
        "\n",
        "dados**3 / 10"
      ],
      "execution_count": 33,
      "outputs": [
        {
          "output_type": "execute_result",
          "data": {
            "text/plain": [
              "array([0.0000e+00, 1.0000e-01, 8.0000e-01, 2.7000e+00, 6.4000e+00,\n",
              "       1.2500e+01, 2.1600e+01, 3.4300e+01, 5.1200e+01, 7.2900e+01,\n",
              "       1.0000e+02, 1.3310e+02, 1.7280e+02, 2.1970e+02, 2.7440e+02,\n",
              "       3.3750e+02, 4.0960e+02, 4.9130e+02, 5.8320e+02, 6.8590e+02,\n",
              "       8.0000e+02, 9.2610e+02, 1.0648e+03, 1.2167e+03, 1.3824e+03,\n",
              "       1.5625e+03, 1.7576e+03, 1.9683e+03, 2.1952e+03, 2.4389e+03,\n",
              "       2.7000e+03, 2.9791e+03, 3.2768e+03, 3.5937e+03, 3.9304e+03,\n",
              "       4.2875e+03, 4.6656e+03, 5.0653e+03, 5.4872e+03, 5.9319e+03])"
            ]
          },
          "metadata": {
            "tags": []
          },
          "execution_count": 33
        }
      ]
    },
    {
      "cell_type": "code",
      "metadata": {
        "colab": {
          "base_uri": "https://localhost:8080/"
        },
        "id": "2K1n1eFkpfas",
        "outputId": "c96dc0b4-0433-408c-bbc5-5520cb406ce3"
      },
      "source": [
        "data1 = [1, 2, 3, 4, 5], [6, 7, 8, 9, 10]\n",
        "\n",
        "array1 = np.array(data1)\n",
        "array1.ndim #retorna o numero de linhas"
      ],
      "execution_count": 34,
      "outputs": [
        {
          "output_type": "execute_result",
          "data": {
            "text/plain": [
              "2"
            ]
          },
          "metadata": {
            "tags": []
          },
          "execution_count": 34
        }
      ]
    },
    {
      "cell_type": "code",
      "metadata": {
        "colab": {
          "base_uri": "https://localhost:8080/"
        },
        "id": "HiycVZKsm48g",
        "outputId": "8e13d5cb-d276-424e-d06c-3f927619e95c"
      },
      "source": [
        "np.zeros((2, 3, 2)) #cria um array np com as dimensões dadas. precisa ser uma tupla\n",
        "                    # numero de arrays, linhas, colunas"
      ],
      "execution_count": 35,
      "outputs": [
        {
          "output_type": "execute_result",
          "data": {
            "text/plain": [
              "array([[[0., 0.],\n",
              "        [0., 0.],\n",
              "        [0., 0.]],\n",
              "\n",
              "       [[0., 0.],\n",
              "        [0., 0.],\n",
              "        [0., 0.]]])"
            ]
          },
          "metadata": {
            "tags": []
          },
          "execution_count": 35
        }
      ]
    },
    {
      "cell_type": "code",
      "metadata": {
        "colab": {
          "base_uri": "https://localhost:8080/"
        },
        "id": "ASFq3saurcHv",
        "outputId": "1dcd6b36-2dce-45b4-b3c1-b79230f321c3"
      },
      "source": [
        "np.arange(50) #range versao numpy"
      ],
      "execution_count": 36,
      "outputs": [
        {
          "output_type": "execute_result",
          "data": {
            "text/plain": [
              "array([ 0,  1,  2,  3,  4,  5,  6,  7,  8,  9, 10, 11, 12, 13, 14, 15, 16,\n",
              "       17, 18, 19, 20, 21, 22, 23, 24, 25, 26, 27, 28, 29, 30, 31, 32, 33,\n",
              "       34, 35, 36, 37, 38, 39, 40, 41, 42, 43, 44, 45, 46, 47, 48, 49])"
            ]
          },
          "metadata": {
            "tags": []
          },
          "execution_count": 36
        }
      ]
    },
    {
      "cell_type": "code",
      "metadata": {
        "colab": {
          "base_uri": "https://localhost:8080/"
        },
        "id": "93FZSttvtjg5",
        "outputId": "12210d9c-5a1c-4784-eaf2-b536ca1e47df"
      },
      "source": [
        "np.ones((5, 2, 3)) #mesma coisa do zero, mas com 1"
      ],
      "execution_count": 37,
      "outputs": [
        {
          "output_type": "execute_result",
          "data": {
            "text/plain": [
              "array([[[1., 1., 1.],\n",
              "        [1., 1., 1.]],\n",
              "\n",
              "       [[1., 1., 1.],\n",
              "        [1., 1., 1.]],\n",
              "\n",
              "       [[1., 1., 1.],\n",
              "        [1., 1., 1.]],\n",
              "\n",
              "       [[1., 1., 1.],\n",
              "        [1., 1., 1.]],\n",
              "\n",
              "       [[1., 1., 1.],\n",
              "        [1., 1., 1.]]])"
            ]
          },
          "metadata": {
            "tags": []
          },
          "execution_count": 37
        }
      ]
    },
    {
      "cell_type": "code",
      "metadata": {
        "colab": {
          "base_uri": "https://localhost:8080/"
        },
        "id": "0GKv0b3Qt79j",
        "outputId": "5ca118b0-5546-470b-f81d-6264ada0ff03"
      },
      "source": [
        "np.eye(5, 3)"
      ],
      "execution_count": 38,
      "outputs": [
        {
          "output_type": "execute_result",
          "data": {
            "text/plain": [
              "array([[1., 0., 0.],\n",
              "       [0., 1., 0.],\n",
              "       [0., 0., 1.],\n",
              "       [0., 0., 0.],\n",
              "       [0., 0., 0.]])"
            ]
          },
          "metadata": {
            "tags": []
          },
          "execution_count": 38
        }
      ]
    },
    {
      "cell_type": "markdown",
      "metadata": {
        "id": "kr4rJGFx_Z7f"
      },
      "source": [
        "### **Fazendo cast de um array:**"
      ]
    },
    {
      "cell_type": "code",
      "metadata": {
        "id": "SmLrdBKI-Loa"
      },
      "source": [
        "arr = np.array([1, 2, 3, 4, 5])\n",
        "\n",
        "n_arr = arr.astype('float64')"
      ],
      "execution_count": 39,
      "outputs": []
    },
    {
      "cell_type": "markdown",
      "metadata": {
        "id": "Irh9l4t484bX"
      },
      "source": [
        "### **Fazendo slices no array**"
      ]
    },
    {
      "cell_type": "code",
      "metadata": {
        "id": "f8P2EUSl_iSU"
      },
      "source": [
        "arr[1:4:2] = 10"
      ],
      "execution_count": 40,
      "outputs": []
    },
    {
      "cell_type": "code",
      "metadata": {
        "colab": {
          "base_uri": "https://localhost:8080/"
        },
        "id": "hoRv4mJn512r",
        "outputId": "5a4985e8-662c-49ee-c2ee-02fcdc6f0c3c"
      },
      "source": [
        "arr[2]"
      ],
      "execution_count": 41,
      "outputs": [
        {
          "output_type": "execute_result",
          "data": {
            "text/plain": [
              "3"
            ]
          },
          "metadata": {
            "tags": []
          },
          "execution_count": 41
        }
      ]
    },
    {
      "cell_type": "code",
      "metadata": {
        "colab": {
          "base_uri": "https://localhost:8080/"
        },
        "id": "JuFPHouJ9GPg",
        "outputId": "4b4054e5-4c88-43f0-e8e4-d072dacc1cbf"
      },
      "source": [
        "arr3d = np.array([[[1, 2, 3], [4, 5, 6], [7, 8, 9], [10, 11, 12]]])\n",
        "\n",
        "arr2d = np.array([[12, 11, 10], [9, 8, 7], [6, 5, 4]])\n",
        "\n",
        "arr2d[:2]   #arrays 2d quando passado : lê as linhas, e o próximo numero e o indice como no exemplo abaixo"
      ],
      "execution_count": 42,
      "outputs": [
        {
          "output_type": "execute_result",
          "data": {
            "text/plain": [
              "array([[12, 11, 10],\n",
              "       [ 9,  8,  7]])"
            ]
          },
          "metadata": {
            "tags": []
          },
          "execution_count": 42
        }
      ]
    },
    {
      "cell_type": "code",
      "metadata": {
        "colab": {
          "base_uri": "https://localhost:8080/"
        },
        "id": "wa6lRNRMpBs3",
        "outputId": "f8d1f96d-ed5f-491b-fdee-8829ff45eb05"
      },
      "source": [
        "arr2d[:, 2:]"
      ],
      "execution_count": 43,
      "outputs": [
        {
          "output_type": "execute_result",
          "data": {
            "text/plain": [
              "array([[10],\n",
              "       [ 7],\n",
              "       [ 4]])"
            ]
          },
          "metadata": {
            "tags": []
          },
          "execution_count": 43
        }
      ]
    },
    {
      "cell_type": "markdown",
      "metadata": {
        "id": "voUO_yDyzJvo"
      },
      "source": [
        "### **Indexação booleana**"
      ]
    },
    {
      "cell_type": "code",
      "metadata": {
        "colab": {
          "base_uri": "https://localhost:8080/"
        },
        "id": "BLvGvmm1uaRd",
        "outputId": "30b23e19-0b49-4f83-b3a3-455c86fa6940"
      },
      "source": [
        "names = np.array(['Bob', 'Joe', 'Will', 'Bob', 'Will', 'Joe', 'Joe'])\n",
        "data2 = data = np.random.randn(7, 4)\n",
        "\n",
        "selecao_nomes = (names == 'Joe') | (names == 'Bob')\n",
        "\n",
        "selecao_nomes"
      ],
      "execution_count": 44,
      "outputs": [
        {
          "output_type": "execute_result",
          "data": {
            "text/plain": [
              "array([ True,  True, False,  True, False,  True,  True])"
            ]
          },
          "metadata": {
            "tags": []
          },
          "execution_count": 44
        }
      ]
    },
    {
      "cell_type": "code",
      "metadata": {
        "colab": {
          "base_uri": "https://localhost:8080/"
        },
        "id": "AVDHfQMizVNc",
        "outputId": "6fae4968-a093-4124-eb17-d032f1065e50"
      },
      "source": [
        "names[names == 'Will']"
      ],
      "execution_count": 45,
      "outputs": [
        {
          "output_type": "execute_result",
          "data": {
            "text/plain": [
              "array(['Will', 'Will'], dtype='<U4')"
            ]
          },
          "metadata": {
            "tags": []
          },
          "execution_count": 45
        }
      ]
    },
    {
      "cell_type": "code",
      "metadata": {
        "colab": {
          "base_uri": "https://localhost:8080/"
        },
        "id": "yx9xxor7yXET",
        "outputId": "4d1f6159-dbab-492f-967d-afdc077168d2"
      },
      "source": [
        "data2[data2 <0]"
      ],
      "execution_count": 46,
      "outputs": [
        {
          "output_type": "execute_result",
          "data": {
            "text/plain": [
              "array([-1.20206552, -0.93129048, -2.67309539, -0.07126024, -0.92875573,\n",
              "       -0.32382107, -0.69898074, -1.30277804, -0.21887394, -1.16006106,\n",
              "       -3.04285048, -0.35103643, -0.2611444 , -2.05376725, -1.1017824 ,\n",
              "       -0.09583618, -0.18881652, -0.05840286])"
            ]
          },
          "metadata": {
            "tags": []
          },
          "execution_count": 46
        }
      ]
    },
    {
      "cell_type": "markdown",
      "metadata": {
        "id": "gmGdqT1B0u1U"
      },
      "source": [
        "### ***Fancy Indexing:***"
      ]
    },
    {
      "cell_type": "markdown",
      "metadata": {
        "id": "t0sgus5iRnSh"
      },
      "source": [
        "A indexação sofisticada é como a indexação simples que já vimos, mas passamos matrizes de índices no lugar de escalares simples. Isso nos permite acessar e modificar rapidamente subconjuntos complicados de valores de uma matriz."
      ]
    },
    {
      "cell_type": "code",
      "metadata": {
        "colab": {
          "base_uri": "https://localhost:8080/"
        },
        "id": "pzYLX-Hw04Ov",
        "outputId": "f67c5dfb-292b-4ad6-becb-fb0bb6520b87"
      },
      "source": [
        "\n",
        "arr3 = np.zeros((8,4))\n",
        "arr4 = np.array([[1, 2, 3],\n",
        "                [4, 5, 6],\n",
        "                [7, 8, 9],\n",
        "                [10, 11, 12]])\n",
        "\n",
        "for i in range(8):\n",
        "  arr3[i] = i\n",
        "\n",
        "arr3"
      ],
      "execution_count": 47,
      "outputs": [
        {
          "output_type": "execute_result",
          "data": {
            "text/plain": [
              "array([[0., 0., 0., 0.],\n",
              "       [1., 1., 1., 1.],\n",
              "       [2., 2., 2., 2.],\n",
              "       [3., 3., 3., 3.],\n",
              "       [4., 4., 4., 4.],\n",
              "       [5., 5., 5., 5.],\n",
              "       [6., 6., 6., 6.],\n",
              "       [7., 7., 7., 7.]])"
            ]
          },
          "metadata": {
            "tags": []
          },
          "execution_count": 47
        }
      ]
    },
    {
      "cell_type": "code",
      "metadata": {
        "colab": {
          "base_uri": "https://localhost:8080/"
        },
        "id": "NmSrRtjC3MTW",
        "outputId": "4fcb4193-e4f9-4f30-a711-591bbfebc29d"
      },
      "source": [
        "arr3[[5, 1, 2, 7]]"
      ],
      "execution_count": 48,
      "outputs": [
        {
          "output_type": "execute_result",
          "data": {
            "text/plain": [
              "array([[5., 5., 5., 5.],\n",
              "       [1., 1., 1., 1.],\n",
              "       [2., 2., 2., 2.],\n",
              "       [7., 7., 7., 7.]])"
            ]
          },
          "metadata": {
            "tags": []
          },
          "execution_count": 48
        }
      ]
    },
    {
      "cell_type": "code",
      "metadata": {
        "colab": {
          "base_uri": "https://localhost:8080/"
        },
        "id": "MM1qMg0qOftX",
        "outputId": "119db79c-0937-4285-bc3a-71996dfcdc5f"
      },
      "source": [
        "arr4\n",
        "\n",
        "[arr4[0, 2], arr4[1, 2], arr4[2, 0]]\n"
      ],
      "execution_count": 49,
      "outputs": [
        {
          "output_type": "execute_result",
          "data": {
            "text/plain": [
              "[3, 6, 7]"
            ]
          },
          "metadata": {
            "tags": []
          },
          "execution_count": 49
        }
      ]
    },
    {
      "cell_type": "code",
      "metadata": {
        "colab": {
          "base_uri": "https://localhost:8080/"
        },
        "id": "usnhpz-lR3TV",
        "outputId": "44265953-8bb4-4c84-ca28-d4d5b70dd9fd"
      },
      "source": [
        "arr4[[1, 2, 3], [-1, 1, 0]] #concatena o array entre linhas(primeira, lista x) e as colunas (segunda, lista y)"
      ],
      "execution_count": 50,
      "outputs": [
        {
          "output_type": "execute_result",
          "data": {
            "text/plain": [
              "array([ 6,  8, 10])"
            ]
          },
          "metadata": {
            "tags": []
          },
          "execution_count": 50
        }
      ]
    },
    {
      "cell_type": "code",
      "metadata": {
        "colab": {
          "base_uri": "https://localhost:8080/"
        },
        "id": "r0_vBm27VY9_",
        "outputId": "4b7752f7-7967-40ba-fcab-890e06bbad31"
      },
      "source": [
        "arr4[[1, 2, 3]][:,[2, 1, 0]]\n",
        "\n",
        "arr4"
      ],
      "execution_count": 51,
      "outputs": [
        {
          "output_type": "execute_result",
          "data": {
            "text/plain": [
              "array([[ 1,  2,  3],\n",
              "       [ 4,  5,  6],\n",
              "       [ 7,  8,  9],\n",
              "       [10, 11, 12]])"
            ]
          },
          "metadata": {
            "tags": []
          },
          "execution_count": 51
        }
      ]
    },
    {
      "cell_type": "markdown",
      "metadata": {
        "id": "OquQ_e2U8vC-"
      },
      "source": [
        "### **Transposição de Arrays:**"
      ]
    },
    {
      "cell_type": "code",
      "metadata": {
        "colab": {
          "base_uri": "https://localhost:8080/"
        },
        "id": "XjriHNZ178Pb",
        "outputId": "420f8594-2700-4cb3-e0d7-3f78d8792c9e"
      },
      "source": [
        "arr5 = np.arange(28).reshape((4,7))\n",
        "\n",
        "arr5"
      ],
      "execution_count": 52,
      "outputs": [
        {
          "output_type": "execute_result",
          "data": {
            "text/plain": [
              "array([[ 0,  1,  2,  3,  4,  5,  6],\n",
              "       [ 7,  8,  9, 10, 11, 12, 13],\n",
              "       [14, 15, 16, 17, 18, 19, 20],\n",
              "       [21, 22, 23, 24, 25, 26, 27]])"
            ]
          },
          "metadata": {
            "tags": []
          },
          "execution_count": 52
        }
      ]
    },
    {
      "cell_type": "code",
      "metadata": {
        "colab": {
          "base_uri": "https://localhost:8080/"
        },
        "id": "3OEDu4_t9dBS",
        "outputId": "d1dcfcad-c13b-44b9-b751-8b7f05f8b5e7"
      },
      "source": [
        "arr5.T"
      ],
      "execution_count": 53,
      "outputs": [
        {
          "output_type": "execute_result",
          "data": {
            "text/plain": [
              "array([[ 0,  7, 14, 21],\n",
              "       [ 1,  8, 15, 22],\n",
              "       [ 2,  9, 16, 23],\n",
              "       [ 3, 10, 17, 24],\n",
              "       [ 4, 11, 18, 25],\n",
              "       [ 5, 12, 19, 26],\n",
              "       [ 6, 13, 20, 27]])"
            ]
          },
          "metadata": {
            "tags": []
          },
          "execution_count": 53
        }
      ]
    },
    {
      "cell_type": "code",
      "metadata": {
        "colab": {
          "base_uri": "https://localhost:8080/"
        },
        "id": "3PIyv9A6Aaqi",
        "outputId": "d7724eb5-2282-4aab-ee57-bd8261b752be"
      },
      "source": [
        "arr6 = np.arange(28).reshape((4,7))\n",
        "\n",
        "arr6"
      ],
      "execution_count": 54,
      "outputs": [
        {
          "output_type": "execute_result",
          "data": {
            "text/plain": [
              "array([[ 0,  1,  2,  3,  4,  5,  6],\n",
              "       [ 7,  8,  9, 10, 11, 12, 13],\n",
              "       [14, 15, 16, 17, 18, 19, 20],\n",
              "       [21, 22, 23, 24, 25, 26, 27]])"
            ]
          },
          "metadata": {
            "tags": []
          },
          "execution_count": 54
        }
      ]
    },
    {
      "cell_type": "code",
      "metadata": {
        "colab": {
          "base_uri": "https://localhost:8080/"
        },
        "id": "6L6AA43mBxJP",
        "outputId": "a0683f34-30fe-4edf-87f3-9acdf5403656"
      },
      "source": [
        "np.dot(arr5.T, arr6)"
      ],
      "execution_count": 55,
      "outputs": [
        {
          "output_type": "execute_result",
          "data": {
            "text/plain": [
              "array([[ 686,  728,  770,  812,  854,  896,  938],\n",
              "       [ 728,  774,  820,  866,  912,  958, 1004],\n",
              "       [ 770,  820,  870,  920,  970, 1020, 1070],\n",
              "       [ 812,  866,  920,  974, 1028, 1082, 1136],\n",
              "       [ 854,  912,  970, 1028, 1086, 1144, 1202],\n",
              "       [ 896,  958, 1020, 1082, 1144, 1206, 1268],\n",
              "       [ 938, 1004, 1070, 1136, 1202, 1268, 1334]])"
            ]
          },
          "metadata": {
            "tags": []
          },
          "execution_count": 55
        }
      ]
    },
    {
      "cell_type": "code",
      "metadata": {
        "colab": {
          "base_uri": "https://localhost:8080/"
        },
        "id": "uvZT7FlIEHYG",
        "outputId": "7de14f0f-9d7c-4afa-8df2-9a8740403e4a"
      },
      "source": [
        "x1 = np.ones((1, 2, 3))\n",
        "\n",
        "x1"
      ],
      "execution_count": 56,
      "outputs": [
        {
          "output_type": "execute_result",
          "data": {
            "text/plain": [
              "array([[[1., 1., 1.],\n",
              "        [1., 1., 1.]]])"
            ]
          },
          "metadata": {
            "tags": []
          },
          "execution_count": 56
        }
      ]
    },
    {
      "cell_type": "code",
      "metadata": {
        "colab": {
          "base_uri": "https://localhost:8080/"
        },
        "id": "fZCS9ZndYKnc",
        "outputId": "7e0256f6-5f9d-4d34-aebc-54debb1c8d8e"
      },
      "source": [
        "arr7 = np.arange(4).reshape((2,2))\n",
        "\n",
        "arr7 "
      ],
      "execution_count": 57,
      "outputs": [
        {
          "output_type": "execute_result",
          "data": {
            "text/plain": [
              "array([[0, 1],\n",
              "       [2, 3]])"
            ]
          },
          "metadata": {
            "tags": []
          },
          "execution_count": 57
        }
      ]
    },
    {
      "cell_type": "code",
      "metadata": {
        "colab": {
          "base_uri": "https://localhost:8080/"
        },
        "id": "KxwggRuIYiqT",
        "outputId": "533bf6a5-7f96-4d5c-91ae-332a3a87d3bd"
      },
      "source": [
        "np.dot(arr7, arr7) #multplica as matrizes"
      ],
      "execution_count": 58,
      "outputs": [
        {
          "output_type": "execute_result",
          "data": {
            "text/plain": [
              "array([[ 2,  3],\n",
              "       [ 6, 11]])"
            ]
          },
          "metadata": {
            "tags": []
          },
          "execution_count": 58
        }
      ]
    },
    {
      "cell_type": "code",
      "metadata": {
        "colab": {
          "base_uri": "https://localhost:8080/"
        },
        "id": "zjgXxALEisbR",
        "outputId": "2a864862-a39c-4ac2-e6f8-a0df68319bcb"
      },
      "source": [
        "x1 = np.ones((1, 2, 3, 4))\n",
        "np.transpose(x1, (2, 0, 3, 1)).shape"
      ],
      "execution_count": 59,
      "outputs": [
        {
          "output_type": "execute_result",
          "data": {
            "text/plain": [
              "(3, 1, 4, 2)"
            ]
          },
          "metadata": {
            "tags": []
          },
          "execution_count": 59
        }
      ]
    },
    {
      "cell_type": "code",
      "metadata": {
        "colab": {
          "base_uri": "https://localhost:8080/"
        },
        "id": "qWXhVr6t6cGA",
        "outputId": "49af6dee-62d3-4a9d-b9bc-1dc55ea62367"
      },
      "source": [
        "array2 = np.arange(24).reshape((2, 2, 6))\n",
        "\n",
        "array2.swapaxes(2, 2)"
      ],
      "execution_count": 60,
      "outputs": [
        {
          "output_type": "execute_result",
          "data": {
            "text/plain": [
              "array([[[ 0,  1,  2,  3,  4,  5],\n",
              "        [ 6,  7,  8,  9, 10, 11]],\n",
              "\n",
              "       [[12, 13, 14, 15, 16, 17],\n",
              "        [18, 19, 20, 21, 22, 23]]])"
            ]
          },
          "metadata": {
            "tags": []
          },
          "execution_count": 60
        }
      ]
    },
    {
      "cell_type": "markdown",
      "metadata": {
        "id": "_sdzEIaDLU91"
      },
      "source": [
        "### ***Ufunc:***"
      ]
    },
    {
      "cell_type": "markdown",
      "metadata": {
        "id": "n83MXy8vLkDk"
      },
      "source": [
        "Uma função universal (universal function), ou ufunc, é uma função\n",
        "que executa operações em todos os elementos nos dados de\n",
        "ndarrays."
      ]
    },
    {
      "cell_type": "code",
      "metadata": {
        "colab": {
          "base_uri": "https://localhost:8080/"
        },
        "id": "0h4M5hbVLwEh",
        "outputId": "ec134c29-e0d0-40b5-ced5-80668e730320"
      },
      "source": [
        "arr1 = np.array(range(1, 6))\n",
        "arr2 = np.array(range(11, 16))\n",
        "arr2"
      ],
      "execution_count": 61,
      "outputs": [
        {
          "output_type": "execute_result",
          "data": {
            "text/plain": [
              "array([11, 12, 13, 14, 15])"
            ]
          },
          "metadata": {
            "tags": []
          },
          "execution_count": 61
        }
      ]
    },
    {
      "cell_type": "code",
      "metadata": {
        "colab": {
          "base_uri": "https://localhost:8080/"
        },
        "id": "h4MrYt8cMhbg",
        "outputId": "4e501df2-847f-482c-cbd2-6aa71ba78e32"
      },
      "source": [
        "np.sqrt(arr1) #Retorna a raiz quadrada não negativa de todos os elementos do array"
      ],
      "execution_count": 62,
      "outputs": [
        {
          "output_type": "execute_result",
          "data": {
            "text/plain": [
              "array([1.        , 1.41421356, 1.73205081, 2.        , 2.23606798])"
            ]
          },
          "metadata": {
            "tags": []
          },
          "execution_count": 62
        }
      ]
    },
    {
      "cell_type": "code",
      "metadata": {
        "colab": {
          "base_uri": "https://localhost:8080/"
        },
        "id": "_D3yf_EDNC3H",
        "outputId": "f9e3f5f6-5115-4f5c-83ef-cbcc08cd9bd4"
      },
      "source": [
        "np.exp(arr1) #calcula numero exponencial"
      ],
      "execution_count": 63,
      "outputs": [
        {
          "output_type": "execute_result",
          "data": {
            "text/plain": [
              "array([  2.71828183,   7.3890561 ,  20.08553692,  54.59815003,\n",
              "       148.4131591 ])"
            ]
          },
          "metadata": {
            "tags": []
          },
          "execution_count": 63
        }
      ]
    },
    {
      "cell_type": "code",
      "metadata": {
        "colab": {
          "base_uri": "https://localhost:8080/"
        },
        "id": "kcGIarYcOqHN",
        "outputId": "8d81e727-c917-48fd-dbe1-6ec68741ebc1"
      },
      "source": [
        "np.maximum(arr1, arr2) #traz os valores maximos"
      ],
      "execution_count": 64,
      "outputs": [
        {
          "output_type": "execute_result",
          "data": {
            "text/plain": [
              "array([11, 12, 13, 14, 15])"
            ]
          },
          "metadata": {
            "tags": []
          },
          "execution_count": 64
        }
      ]
    },
    {
      "cell_type": "code",
      "metadata": {
        "colab": {
          "base_uri": "https://localhost:8080/"
        },
        "id": "pk6cne9wPeVA",
        "outputId": "af99837d-d1ae-4d0a-dd6f-a56568713f60"
      },
      "source": [
        "arr8 = np.random.randn(5) *20\n",
        "arr8"
      ],
      "execution_count": 65,
      "outputs": [
        {
          "output_type": "execute_result",
          "data": {
            "text/plain": [
              "array([  9.68203491,   9.2675057 ,  19.34551481, -10.41705203,\n",
              "       -35.94756223])"
            ]
          },
          "metadata": {
            "tags": []
          },
          "execution_count": 65
        }
      ]
    },
    {
      "cell_type": "code",
      "metadata": {
        "id": "xt2oaqqfN0ew"
      },
      "source": [
        "resto, inteiro = np.modf(arr8)"
      ],
      "execution_count": 66,
      "outputs": []
    },
    {
      "cell_type": "code",
      "metadata": {
        "colab": {
          "base_uri": "https://localhost:8080/"
        },
        "id": "-1WadP7HQMgh",
        "outputId": "a4d811b6-a87d-4a89-e351-16b59fbef3d6"
      },
      "source": [
        "inteiro"
      ],
      "execution_count": 67,
      "outputs": [
        {
          "output_type": "execute_result",
          "data": {
            "text/plain": [
              "array([  9.,   9.,  19., -10., -35.])"
            ]
          },
          "metadata": {
            "tags": []
          },
          "execution_count": 67
        }
      ]
    },
    {
      "cell_type": "code",
      "metadata": {
        "colab": {
          "base_uri": "https://localhost:8080/"
        },
        "id": "gk_19j4lQR_U",
        "outputId": "c397648c-b8ae-4720-fe49-61b8c14c004d"
      },
      "source": [
        "resto"
      ],
      "execution_count": 68,
      "outputs": [
        {
          "output_type": "execute_result",
          "data": {
            "text/plain": [
              "array([ 0.68203491,  0.2675057 ,  0.34551481, -0.41705203, -0.94756223])"
            ]
          },
          "metadata": {
            "tags": []
          },
          "execution_count": 68
        }
      ]
    },
    {
      "cell_type": "code",
      "metadata": {
        "colab": {
          "base_uri": "https://localhost:8080/"
        },
        "id": "iE-wq8nDQgNq",
        "outputId": "5a96c29e-e33f-49ca-c6a1-ad1a68f9e065"
      },
      "source": [
        "np.add(arr1, arr2)"
      ],
      "execution_count": 69,
      "outputs": [
        {
          "output_type": "execute_result",
          "data": {
            "text/plain": [
              "array([12, 14, 16, 18, 20])"
            ]
          },
          "metadata": {
            "tags": []
          },
          "execution_count": 69
        }
      ]
    },
    {
      "cell_type": "code",
      "metadata": {
        "colab": {
          "base_uri": "https://localhost:8080/"
        },
        "id": "xhQW3gepRFXU",
        "outputId": "25c0bebb-a0c0-41f8-baa6-821fb500fdd8"
      },
      "source": [
        "pontos = np.arange(-5, 5, 0.01)\n",
        "pontos"
      ],
      "execution_count": 70,
      "outputs": [
        {
          "output_type": "execute_result",
          "data": {
            "text/plain": [
              "array([-5.0000000e+00, -4.9900000e+00, -4.9800000e+00, -4.9700000e+00,\n",
              "       -4.9600000e+00, -4.9500000e+00, -4.9400000e+00, -4.9300000e+00,\n",
              "       -4.9200000e+00, -4.9100000e+00, -4.9000000e+00, -4.8900000e+00,\n",
              "       -4.8800000e+00, -4.8700000e+00, -4.8600000e+00, -4.8500000e+00,\n",
              "       -4.8400000e+00, -4.8300000e+00, -4.8200000e+00, -4.8100000e+00,\n",
              "       -4.8000000e+00, -4.7900000e+00, -4.7800000e+00, -4.7700000e+00,\n",
              "       -4.7600000e+00, -4.7500000e+00, -4.7400000e+00, -4.7300000e+00,\n",
              "       -4.7200000e+00, -4.7100000e+00, -4.7000000e+00, -4.6900000e+00,\n",
              "       -4.6800000e+00, -4.6700000e+00, -4.6600000e+00, -4.6500000e+00,\n",
              "       -4.6400000e+00, -4.6300000e+00, -4.6200000e+00, -4.6100000e+00,\n",
              "       -4.6000000e+00, -4.5900000e+00, -4.5800000e+00, -4.5700000e+00,\n",
              "       -4.5600000e+00, -4.5500000e+00, -4.5400000e+00, -4.5300000e+00,\n",
              "       -4.5200000e+00, -4.5100000e+00, -4.5000000e+00, -4.4900000e+00,\n",
              "       -4.4800000e+00, -4.4700000e+00, -4.4600000e+00, -4.4500000e+00,\n",
              "       -4.4400000e+00, -4.4300000e+00, -4.4200000e+00, -4.4100000e+00,\n",
              "       -4.4000000e+00, -4.3900000e+00, -4.3800000e+00, -4.3700000e+00,\n",
              "       -4.3600000e+00, -4.3500000e+00, -4.3400000e+00, -4.3300000e+00,\n",
              "       -4.3200000e+00, -4.3100000e+00, -4.3000000e+00, -4.2900000e+00,\n",
              "       -4.2800000e+00, -4.2700000e+00, -4.2600000e+00, -4.2500000e+00,\n",
              "       -4.2400000e+00, -4.2300000e+00, -4.2200000e+00, -4.2100000e+00,\n",
              "       -4.2000000e+00, -4.1900000e+00, -4.1800000e+00, -4.1700000e+00,\n",
              "       -4.1600000e+00, -4.1500000e+00, -4.1400000e+00, -4.1300000e+00,\n",
              "       -4.1200000e+00, -4.1100000e+00, -4.1000000e+00, -4.0900000e+00,\n",
              "       -4.0800000e+00, -4.0700000e+00, -4.0600000e+00, -4.0500000e+00,\n",
              "       -4.0400000e+00, -4.0300000e+00, -4.0200000e+00, -4.0100000e+00,\n",
              "       -4.0000000e+00, -3.9900000e+00, -3.9800000e+00, -3.9700000e+00,\n",
              "       -3.9600000e+00, -3.9500000e+00, -3.9400000e+00, -3.9300000e+00,\n",
              "       -3.9200000e+00, -3.9100000e+00, -3.9000000e+00, -3.8900000e+00,\n",
              "       -3.8800000e+00, -3.8700000e+00, -3.8600000e+00, -3.8500000e+00,\n",
              "       -3.8400000e+00, -3.8300000e+00, -3.8200000e+00, -3.8100000e+00,\n",
              "       -3.8000000e+00, -3.7900000e+00, -3.7800000e+00, -3.7700000e+00,\n",
              "       -3.7600000e+00, -3.7500000e+00, -3.7400000e+00, -3.7300000e+00,\n",
              "       -3.7200000e+00, -3.7100000e+00, -3.7000000e+00, -3.6900000e+00,\n",
              "       -3.6800000e+00, -3.6700000e+00, -3.6600000e+00, -3.6500000e+00,\n",
              "       -3.6400000e+00, -3.6300000e+00, -3.6200000e+00, -3.6100000e+00,\n",
              "       -3.6000000e+00, -3.5900000e+00, -3.5800000e+00, -3.5700000e+00,\n",
              "       -3.5600000e+00, -3.5500000e+00, -3.5400000e+00, -3.5300000e+00,\n",
              "       -3.5200000e+00, -3.5100000e+00, -3.5000000e+00, -3.4900000e+00,\n",
              "       -3.4800000e+00, -3.4700000e+00, -3.4600000e+00, -3.4500000e+00,\n",
              "       -3.4400000e+00, -3.4300000e+00, -3.4200000e+00, -3.4100000e+00,\n",
              "       -3.4000000e+00, -3.3900000e+00, -3.3800000e+00, -3.3700000e+00,\n",
              "       -3.3600000e+00, -3.3500000e+00, -3.3400000e+00, -3.3300000e+00,\n",
              "       -3.3200000e+00, -3.3100000e+00, -3.3000000e+00, -3.2900000e+00,\n",
              "       -3.2800000e+00, -3.2700000e+00, -3.2600000e+00, -3.2500000e+00,\n",
              "       -3.2400000e+00, -3.2300000e+00, -3.2200000e+00, -3.2100000e+00,\n",
              "       -3.2000000e+00, -3.1900000e+00, -3.1800000e+00, -3.1700000e+00,\n",
              "       -3.1600000e+00, -3.1500000e+00, -3.1400000e+00, -3.1300000e+00,\n",
              "       -3.1200000e+00, -3.1100000e+00, -3.1000000e+00, -3.0900000e+00,\n",
              "       -3.0800000e+00, -3.0700000e+00, -3.0600000e+00, -3.0500000e+00,\n",
              "       -3.0400000e+00, -3.0300000e+00, -3.0200000e+00, -3.0100000e+00,\n",
              "       -3.0000000e+00, -2.9900000e+00, -2.9800000e+00, -2.9700000e+00,\n",
              "       -2.9600000e+00, -2.9500000e+00, -2.9400000e+00, -2.9300000e+00,\n",
              "       -2.9200000e+00, -2.9100000e+00, -2.9000000e+00, -2.8900000e+00,\n",
              "       -2.8800000e+00, -2.8700000e+00, -2.8600000e+00, -2.8500000e+00,\n",
              "       -2.8400000e+00, -2.8300000e+00, -2.8200000e+00, -2.8100000e+00,\n",
              "       -2.8000000e+00, -2.7900000e+00, -2.7800000e+00, -2.7700000e+00,\n",
              "       -2.7600000e+00, -2.7500000e+00, -2.7400000e+00, -2.7300000e+00,\n",
              "       -2.7200000e+00, -2.7100000e+00, -2.7000000e+00, -2.6900000e+00,\n",
              "       -2.6800000e+00, -2.6700000e+00, -2.6600000e+00, -2.6500000e+00,\n",
              "       -2.6400000e+00, -2.6300000e+00, -2.6200000e+00, -2.6100000e+00,\n",
              "       -2.6000000e+00, -2.5900000e+00, -2.5800000e+00, -2.5700000e+00,\n",
              "       -2.5600000e+00, -2.5500000e+00, -2.5400000e+00, -2.5300000e+00,\n",
              "       -2.5200000e+00, -2.5100000e+00, -2.5000000e+00, -2.4900000e+00,\n",
              "       -2.4800000e+00, -2.4700000e+00, -2.4600000e+00, -2.4500000e+00,\n",
              "       -2.4400000e+00, -2.4300000e+00, -2.4200000e+00, -2.4100000e+00,\n",
              "       -2.4000000e+00, -2.3900000e+00, -2.3800000e+00, -2.3700000e+00,\n",
              "       -2.3600000e+00, -2.3500000e+00, -2.3400000e+00, -2.3300000e+00,\n",
              "       -2.3200000e+00, -2.3100000e+00, -2.3000000e+00, -2.2900000e+00,\n",
              "       -2.2800000e+00, -2.2700000e+00, -2.2600000e+00, -2.2500000e+00,\n",
              "       -2.2400000e+00, -2.2300000e+00, -2.2200000e+00, -2.2100000e+00,\n",
              "       -2.2000000e+00, -2.1900000e+00, -2.1800000e+00, -2.1700000e+00,\n",
              "       -2.1600000e+00, -2.1500000e+00, -2.1400000e+00, -2.1300000e+00,\n",
              "       -2.1200000e+00, -2.1100000e+00, -2.1000000e+00, -2.0900000e+00,\n",
              "       -2.0800000e+00, -2.0700000e+00, -2.0600000e+00, -2.0500000e+00,\n",
              "       -2.0400000e+00, -2.0300000e+00, -2.0200000e+00, -2.0100000e+00,\n",
              "       -2.0000000e+00, -1.9900000e+00, -1.9800000e+00, -1.9700000e+00,\n",
              "       -1.9600000e+00, -1.9500000e+00, -1.9400000e+00, -1.9300000e+00,\n",
              "       -1.9200000e+00, -1.9100000e+00, -1.9000000e+00, -1.8900000e+00,\n",
              "       -1.8800000e+00, -1.8700000e+00, -1.8600000e+00, -1.8500000e+00,\n",
              "       -1.8400000e+00, -1.8300000e+00, -1.8200000e+00, -1.8100000e+00,\n",
              "       -1.8000000e+00, -1.7900000e+00, -1.7800000e+00, -1.7700000e+00,\n",
              "       -1.7600000e+00, -1.7500000e+00, -1.7400000e+00, -1.7300000e+00,\n",
              "       -1.7200000e+00, -1.7100000e+00, -1.7000000e+00, -1.6900000e+00,\n",
              "       -1.6800000e+00, -1.6700000e+00, -1.6600000e+00, -1.6500000e+00,\n",
              "       -1.6400000e+00, -1.6300000e+00, -1.6200000e+00, -1.6100000e+00,\n",
              "       -1.6000000e+00, -1.5900000e+00, -1.5800000e+00, -1.5700000e+00,\n",
              "       -1.5600000e+00, -1.5500000e+00, -1.5400000e+00, -1.5300000e+00,\n",
              "       -1.5200000e+00, -1.5100000e+00, -1.5000000e+00, -1.4900000e+00,\n",
              "       -1.4800000e+00, -1.4700000e+00, -1.4600000e+00, -1.4500000e+00,\n",
              "       -1.4400000e+00, -1.4300000e+00, -1.4200000e+00, -1.4100000e+00,\n",
              "       -1.4000000e+00, -1.3900000e+00, -1.3800000e+00, -1.3700000e+00,\n",
              "       -1.3600000e+00, -1.3500000e+00, -1.3400000e+00, -1.3300000e+00,\n",
              "       -1.3200000e+00, -1.3100000e+00, -1.3000000e+00, -1.2900000e+00,\n",
              "       -1.2800000e+00, -1.2700000e+00, -1.2600000e+00, -1.2500000e+00,\n",
              "       -1.2400000e+00, -1.2300000e+00, -1.2200000e+00, -1.2100000e+00,\n",
              "       -1.2000000e+00, -1.1900000e+00, -1.1800000e+00, -1.1700000e+00,\n",
              "       -1.1600000e+00, -1.1500000e+00, -1.1400000e+00, -1.1300000e+00,\n",
              "       -1.1200000e+00, -1.1100000e+00, -1.1000000e+00, -1.0900000e+00,\n",
              "       -1.0800000e+00, -1.0700000e+00, -1.0600000e+00, -1.0500000e+00,\n",
              "       -1.0400000e+00, -1.0300000e+00, -1.0200000e+00, -1.0100000e+00,\n",
              "       -1.0000000e+00, -9.9000000e-01, -9.8000000e-01, -9.7000000e-01,\n",
              "       -9.6000000e-01, -9.5000000e-01, -9.4000000e-01, -9.3000000e-01,\n",
              "       -9.2000000e-01, -9.1000000e-01, -9.0000000e-01, -8.9000000e-01,\n",
              "       -8.8000000e-01, -8.7000000e-01, -8.6000000e-01, -8.5000000e-01,\n",
              "       -8.4000000e-01, -8.3000000e-01, -8.2000000e-01, -8.1000000e-01,\n",
              "       -8.0000000e-01, -7.9000000e-01, -7.8000000e-01, -7.7000000e-01,\n",
              "       -7.6000000e-01, -7.5000000e-01, -7.4000000e-01, -7.3000000e-01,\n",
              "       -7.2000000e-01, -7.1000000e-01, -7.0000000e-01, -6.9000000e-01,\n",
              "       -6.8000000e-01, -6.7000000e-01, -6.6000000e-01, -6.5000000e-01,\n",
              "       -6.4000000e-01, -6.3000000e-01, -6.2000000e-01, -6.1000000e-01,\n",
              "       -6.0000000e-01, -5.9000000e-01, -5.8000000e-01, -5.7000000e-01,\n",
              "       -5.6000000e-01, -5.5000000e-01, -5.4000000e-01, -5.3000000e-01,\n",
              "       -5.2000000e-01, -5.1000000e-01, -5.0000000e-01, -4.9000000e-01,\n",
              "       -4.8000000e-01, -4.7000000e-01, -4.6000000e-01, -4.5000000e-01,\n",
              "       -4.4000000e-01, -4.3000000e-01, -4.2000000e-01, -4.1000000e-01,\n",
              "       -4.0000000e-01, -3.9000000e-01, -3.8000000e-01, -3.7000000e-01,\n",
              "       -3.6000000e-01, -3.5000000e-01, -3.4000000e-01, -3.3000000e-01,\n",
              "       -3.2000000e-01, -3.1000000e-01, -3.0000000e-01, -2.9000000e-01,\n",
              "       -2.8000000e-01, -2.7000000e-01, -2.6000000e-01, -2.5000000e-01,\n",
              "       -2.4000000e-01, -2.3000000e-01, -2.2000000e-01, -2.1000000e-01,\n",
              "       -2.0000000e-01, -1.9000000e-01, -1.8000000e-01, -1.7000000e-01,\n",
              "       -1.6000000e-01, -1.5000000e-01, -1.4000000e-01, -1.3000000e-01,\n",
              "       -1.2000000e-01, -1.1000000e-01, -1.0000000e-01, -9.0000000e-02,\n",
              "       -8.0000000e-02, -7.0000000e-02, -6.0000000e-02, -5.0000000e-02,\n",
              "       -4.0000000e-02, -3.0000000e-02, -2.0000000e-02, -1.0000000e-02,\n",
              "       -1.0658141e-13,  1.0000000e-02,  2.0000000e-02,  3.0000000e-02,\n",
              "        4.0000000e-02,  5.0000000e-02,  6.0000000e-02,  7.0000000e-02,\n",
              "        8.0000000e-02,  9.0000000e-02,  1.0000000e-01,  1.1000000e-01,\n",
              "        1.2000000e-01,  1.3000000e-01,  1.4000000e-01,  1.5000000e-01,\n",
              "        1.6000000e-01,  1.7000000e-01,  1.8000000e-01,  1.9000000e-01,\n",
              "        2.0000000e-01,  2.1000000e-01,  2.2000000e-01,  2.3000000e-01,\n",
              "        2.4000000e-01,  2.5000000e-01,  2.6000000e-01,  2.7000000e-01,\n",
              "        2.8000000e-01,  2.9000000e-01,  3.0000000e-01,  3.1000000e-01,\n",
              "        3.2000000e-01,  3.3000000e-01,  3.4000000e-01,  3.5000000e-01,\n",
              "        3.6000000e-01,  3.7000000e-01,  3.8000000e-01,  3.9000000e-01,\n",
              "        4.0000000e-01,  4.1000000e-01,  4.2000000e-01,  4.3000000e-01,\n",
              "        4.4000000e-01,  4.5000000e-01,  4.6000000e-01,  4.7000000e-01,\n",
              "        4.8000000e-01,  4.9000000e-01,  5.0000000e-01,  5.1000000e-01,\n",
              "        5.2000000e-01,  5.3000000e-01,  5.4000000e-01,  5.5000000e-01,\n",
              "        5.6000000e-01,  5.7000000e-01,  5.8000000e-01,  5.9000000e-01,\n",
              "        6.0000000e-01,  6.1000000e-01,  6.2000000e-01,  6.3000000e-01,\n",
              "        6.4000000e-01,  6.5000000e-01,  6.6000000e-01,  6.7000000e-01,\n",
              "        6.8000000e-01,  6.9000000e-01,  7.0000000e-01,  7.1000000e-01,\n",
              "        7.2000000e-01,  7.3000000e-01,  7.4000000e-01,  7.5000000e-01,\n",
              "        7.6000000e-01,  7.7000000e-01,  7.8000000e-01,  7.9000000e-01,\n",
              "        8.0000000e-01,  8.1000000e-01,  8.2000000e-01,  8.3000000e-01,\n",
              "        8.4000000e-01,  8.5000000e-01,  8.6000000e-01,  8.7000000e-01,\n",
              "        8.8000000e-01,  8.9000000e-01,  9.0000000e-01,  9.1000000e-01,\n",
              "        9.2000000e-01,  9.3000000e-01,  9.4000000e-01,  9.5000000e-01,\n",
              "        9.6000000e-01,  9.7000000e-01,  9.8000000e-01,  9.9000000e-01,\n",
              "        1.0000000e+00,  1.0100000e+00,  1.0200000e+00,  1.0300000e+00,\n",
              "        1.0400000e+00,  1.0500000e+00,  1.0600000e+00,  1.0700000e+00,\n",
              "        1.0800000e+00,  1.0900000e+00,  1.1000000e+00,  1.1100000e+00,\n",
              "        1.1200000e+00,  1.1300000e+00,  1.1400000e+00,  1.1500000e+00,\n",
              "        1.1600000e+00,  1.1700000e+00,  1.1800000e+00,  1.1900000e+00,\n",
              "        1.2000000e+00,  1.2100000e+00,  1.2200000e+00,  1.2300000e+00,\n",
              "        1.2400000e+00,  1.2500000e+00,  1.2600000e+00,  1.2700000e+00,\n",
              "        1.2800000e+00,  1.2900000e+00,  1.3000000e+00,  1.3100000e+00,\n",
              "        1.3200000e+00,  1.3300000e+00,  1.3400000e+00,  1.3500000e+00,\n",
              "        1.3600000e+00,  1.3700000e+00,  1.3800000e+00,  1.3900000e+00,\n",
              "        1.4000000e+00,  1.4100000e+00,  1.4200000e+00,  1.4300000e+00,\n",
              "        1.4400000e+00,  1.4500000e+00,  1.4600000e+00,  1.4700000e+00,\n",
              "        1.4800000e+00,  1.4900000e+00,  1.5000000e+00,  1.5100000e+00,\n",
              "        1.5200000e+00,  1.5300000e+00,  1.5400000e+00,  1.5500000e+00,\n",
              "        1.5600000e+00,  1.5700000e+00,  1.5800000e+00,  1.5900000e+00,\n",
              "        1.6000000e+00,  1.6100000e+00,  1.6200000e+00,  1.6300000e+00,\n",
              "        1.6400000e+00,  1.6500000e+00,  1.6600000e+00,  1.6700000e+00,\n",
              "        1.6800000e+00,  1.6900000e+00,  1.7000000e+00,  1.7100000e+00,\n",
              "        1.7200000e+00,  1.7300000e+00,  1.7400000e+00,  1.7500000e+00,\n",
              "        1.7600000e+00,  1.7700000e+00,  1.7800000e+00,  1.7900000e+00,\n",
              "        1.8000000e+00,  1.8100000e+00,  1.8200000e+00,  1.8300000e+00,\n",
              "        1.8400000e+00,  1.8500000e+00,  1.8600000e+00,  1.8700000e+00,\n",
              "        1.8800000e+00,  1.8900000e+00,  1.9000000e+00,  1.9100000e+00,\n",
              "        1.9200000e+00,  1.9300000e+00,  1.9400000e+00,  1.9500000e+00,\n",
              "        1.9600000e+00,  1.9700000e+00,  1.9800000e+00,  1.9900000e+00,\n",
              "        2.0000000e+00,  2.0100000e+00,  2.0200000e+00,  2.0300000e+00,\n",
              "        2.0400000e+00,  2.0500000e+00,  2.0600000e+00,  2.0700000e+00,\n",
              "        2.0800000e+00,  2.0900000e+00,  2.1000000e+00,  2.1100000e+00,\n",
              "        2.1200000e+00,  2.1300000e+00,  2.1400000e+00,  2.1500000e+00,\n",
              "        2.1600000e+00,  2.1700000e+00,  2.1800000e+00,  2.1900000e+00,\n",
              "        2.2000000e+00,  2.2100000e+00,  2.2200000e+00,  2.2300000e+00,\n",
              "        2.2400000e+00,  2.2500000e+00,  2.2600000e+00,  2.2700000e+00,\n",
              "        2.2800000e+00,  2.2900000e+00,  2.3000000e+00,  2.3100000e+00,\n",
              "        2.3200000e+00,  2.3300000e+00,  2.3400000e+00,  2.3500000e+00,\n",
              "        2.3600000e+00,  2.3700000e+00,  2.3800000e+00,  2.3900000e+00,\n",
              "        2.4000000e+00,  2.4100000e+00,  2.4200000e+00,  2.4300000e+00,\n",
              "        2.4400000e+00,  2.4500000e+00,  2.4600000e+00,  2.4700000e+00,\n",
              "        2.4800000e+00,  2.4900000e+00,  2.5000000e+00,  2.5100000e+00,\n",
              "        2.5200000e+00,  2.5300000e+00,  2.5400000e+00,  2.5500000e+00,\n",
              "        2.5600000e+00,  2.5700000e+00,  2.5800000e+00,  2.5900000e+00,\n",
              "        2.6000000e+00,  2.6100000e+00,  2.6200000e+00,  2.6300000e+00,\n",
              "        2.6400000e+00,  2.6500000e+00,  2.6600000e+00,  2.6700000e+00,\n",
              "        2.6800000e+00,  2.6900000e+00,  2.7000000e+00,  2.7100000e+00,\n",
              "        2.7200000e+00,  2.7300000e+00,  2.7400000e+00,  2.7500000e+00,\n",
              "        2.7600000e+00,  2.7700000e+00,  2.7800000e+00,  2.7900000e+00,\n",
              "        2.8000000e+00,  2.8100000e+00,  2.8200000e+00,  2.8300000e+00,\n",
              "        2.8400000e+00,  2.8500000e+00,  2.8600000e+00,  2.8700000e+00,\n",
              "        2.8800000e+00,  2.8900000e+00,  2.9000000e+00,  2.9100000e+00,\n",
              "        2.9200000e+00,  2.9300000e+00,  2.9400000e+00,  2.9500000e+00,\n",
              "        2.9600000e+00,  2.9700000e+00,  2.9800000e+00,  2.9900000e+00,\n",
              "        3.0000000e+00,  3.0100000e+00,  3.0200000e+00,  3.0300000e+00,\n",
              "        3.0400000e+00,  3.0500000e+00,  3.0600000e+00,  3.0700000e+00,\n",
              "        3.0800000e+00,  3.0900000e+00,  3.1000000e+00,  3.1100000e+00,\n",
              "        3.1200000e+00,  3.1300000e+00,  3.1400000e+00,  3.1500000e+00,\n",
              "        3.1600000e+00,  3.1700000e+00,  3.1800000e+00,  3.1900000e+00,\n",
              "        3.2000000e+00,  3.2100000e+00,  3.2200000e+00,  3.2300000e+00,\n",
              "        3.2400000e+00,  3.2500000e+00,  3.2600000e+00,  3.2700000e+00,\n",
              "        3.2800000e+00,  3.2900000e+00,  3.3000000e+00,  3.3100000e+00,\n",
              "        3.3200000e+00,  3.3300000e+00,  3.3400000e+00,  3.3500000e+00,\n",
              "        3.3600000e+00,  3.3700000e+00,  3.3800000e+00,  3.3900000e+00,\n",
              "        3.4000000e+00,  3.4100000e+00,  3.4200000e+00,  3.4300000e+00,\n",
              "        3.4400000e+00,  3.4500000e+00,  3.4600000e+00,  3.4700000e+00,\n",
              "        3.4800000e+00,  3.4900000e+00,  3.5000000e+00,  3.5100000e+00,\n",
              "        3.5200000e+00,  3.5300000e+00,  3.5400000e+00,  3.5500000e+00,\n",
              "        3.5600000e+00,  3.5700000e+00,  3.5800000e+00,  3.5900000e+00,\n",
              "        3.6000000e+00,  3.6100000e+00,  3.6200000e+00,  3.6300000e+00,\n",
              "        3.6400000e+00,  3.6500000e+00,  3.6600000e+00,  3.6700000e+00,\n",
              "        3.6800000e+00,  3.6900000e+00,  3.7000000e+00,  3.7100000e+00,\n",
              "        3.7200000e+00,  3.7300000e+00,  3.7400000e+00,  3.7500000e+00,\n",
              "        3.7600000e+00,  3.7700000e+00,  3.7800000e+00,  3.7900000e+00,\n",
              "        3.8000000e+00,  3.8100000e+00,  3.8200000e+00,  3.8300000e+00,\n",
              "        3.8400000e+00,  3.8500000e+00,  3.8600000e+00,  3.8700000e+00,\n",
              "        3.8800000e+00,  3.8900000e+00,  3.9000000e+00,  3.9100000e+00,\n",
              "        3.9200000e+00,  3.9300000e+00,  3.9400000e+00,  3.9500000e+00,\n",
              "        3.9600000e+00,  3.9700000e+00,  3.9800000e+00,  3.9900000e+00,\n",
              "        4.0000000e+00,  4.0100000e+00,  4.0200000e+00,  4.0300000e+00,\n",
              "        4.0400000e+00,  4.0500000e+00,  4.0600000e+00,  4.0700000e+00,\n",
              "        4.0800000e+00,  4.0900000e+00,  4.1000000e+00,  4.1100000e+00,\n",
              "        4.1200000e+00,  4.1300000e+00,  4.1400000e+00,  4.1500000e+00,\n",
              "        4.1600000e+00,  4.1700000e+00,  4.1800000e+00,  4.1900000e+00,\n",
              "        4.2000000e+00,  4.2100000e+00,  4.2200000e+00,  4.2300000e+00,\n",
              "        4.2400000e+00,  4.2500000e+00,  4.2600000e+00,  4.2700000e+00,\n",
              "        4.2800000e+00,  4.2900000e+00,  4.3000000e+00,  4.3100000e+00,\n",
              "        4.3200000e+00,  4.3300000e+00,  4.3400000e+00,  4.3500000e+00,\n",
              "        4.3600000e+00,  4.3700000e+00,  4.3800000e+00,  4.3900000e+00,\n",
              "        4.4000000e+00,  4.4100000e+00,  4.4200000e+00,  4.4300000e+00,\n",
              "        4.4400000e+00,  4.4500000e+00,  4.4600000e+00,  4.4700000e+00,\n",
              "        4.4800000e+00,  4.4900000e+00,  4.5000000e+00,  4.5100000e+00,\n",
              "        4.5200000e+00,  4.5300000e+00,  4.5400000e+00,  4.5500000e+00,\n",
              "        4.5600000e+00,  4.5700000e+00,  4.5800000e+00,  4.5900000e+00,\n",
              "        4.6000000e+00,  4.6100000e+00,  4.6200000e+00,  4.6300000e+00,\n",
              "        4.6400000e+00,  4.6500000e+00,  4.6600000e+00,  4.6700000e+00,\n",
              "        4.6800000e+00,  4.6900000e+00,  4.7000000e+00,  4.7100000e+00,\n",
              "        4.7200000e+00,  4.7300000e+00,  4.7400000e+00,  4.7500000e+00,\n",
              "        4.7600000e+00,  4.7700000e+00,  4.7800000e+00,  4.7900000e+00,\n",
              "        4.8000000e+00,  4.8100000e+00,  4.8200000e+00,  4.8300000e+00,\n",
              "        4.8400000e+00,  4.8500000e+00,  4.8600000e+00,  4.8700000e+00,\n",
              "        4.8800000e+00,  4.8900000e+00,  4.9000000e+00,  4.9100000e+00,\n",
              "        4.9200000e+00,  4.9300000e+00,  4.9400000e+00,  4.9500000e+00,\n",
              "        4.9600000e+00,  4.9700000e+00,  4.9800000e+00,  4.9900000e+00])"
            ]
          },
          "metadata": {
            "tags": []
          },
          "execution_count": 70
        }
      ]
    },
    {
      "cell_type": "code",
      "metadata": {
        "id": "tuRBb05DY0RQ"
      },
      "source": [
        "xs, ys = np.meshgrid(pontos, pontos)"
      ],
      "execution_count": 71,
      "outputs": []
    },
    {
      "cell_type": "code",
      "metadata": {
        "colab": {
          "base_uri": "https://localhost:8080/"
        },
        "id": "k11XXNCJY9vZ",
        "outputId": "a5559d2e-edb4-49e5-b7ee-5118437987b6"
      },
      "source": [
        "xs"
      ],
      "execution_count": 72,
      "outputs": [
        {
          "output_type": "execute_result",
          "data": {
            "text/plain": [
              "array([[-5.  , -4.99, -4.98, ...,  4.97,  4.98,  4.99],\n",
              "       [-5.  , -4.99, -4.98, ...,  4.97,  4.98,  4.99],\n",
              "       [-5.  , -4.99, -4.98, ...,  4.97,  4.98,  4.99],\n",
              "       ...,\n",
              "       [-5.  , -4.99, -4.98, ...,  4.97,  4.98,  4.99],\n",
              "       [-5.  , -4.99, -4.98, ...,  4.97,  4.98,  4.99],\n",
              "       [-5.  , -4.99, -4.98, ...,  4.97,  4.98,  4.99]])"
            ]
          },
          "metadata": {
            "tags": []
          },
          "execution_count": 72
        }
      ]
    },
    {
      "cell_type": "code",
      "metadata": {
        "id": "J55j-6oXcKGg"
      },
      "source": [
        "xarr = np.array([1.1, 1.2, 1.3, 1.4, 1.5])\n",
        "yarr = np.array([2.1, 2.2, 2.3, 2.4, 2.5])\n",
        "cond = np.array([True, False, True, True, False])"
      ],
      "execution_count": 73,
      "outputs": []
    },
    {
      "cell_type": "code",
      "metadata": {
        "colab": {
          "base_uri": "https://localhost:8080/"
        },
        "id": "8q-PBUu0ccvM",
        "outputId": "54784092-ceb9-4a1c-aebf-edb2a7fb4e48"
      },
      "source": [
        "resultado = [(x if c else y) for x, y, c in zip(xarr, yarr, cond)]\n",
        "resultado"
      ],
      "execution_count": 74,
      "outputs": [
        {
          "output_type": "execute_result",
          "data": {
            "text/plain": [
              "[1.1, 2.2, 1.3, 1.4, 2.5]"
            ]
          },
          "metadata": {
            "tags": []
          },
          "execution_count": 74
        }
      ]
    },
    {
      "cell_type": "code",
      "metadata": {
        "colab": {
          "base_uri": "https://localhost:8080/"
        },
        "id": "tNFj8gGXdMgy",
        "outputId": "c4f9592e-b677-4577-f492-9ce2c72759db"
      },
      "source": [
        "resultado1 = np.where(cond, xarr, yarr) #mesmo que x if c else y tendo o primeiro array como condição, o x o segundo, e o terceiro y\n",
        "resultado1"
      ],
      "execution_count": 75,
      "outputs": [
        {
          "output_type": "execute_result",
          "data": {
            "text/plain": [
              "array([1.1, 2.2, 1.3, 1.4, 2.5])"
            ]
          },
          "metadata": {
            "tags": []
          },
          "execution_count": 75
        }
      ]
    },
    {
      "cell_type": "code",
      "metadata": {
        "colab": {
          "base_uri": "https://localhost:8080/"
        },
        "id": "3EFqXEC4erFw",
        "outputId": "5a11b500-b5dd-4392-eef5-7e5913c772fb"
      },
      "source": [
        "arr10 = np.random.randn(10)\n",
        "np.where(arr10>0, 15, -20)"
      ],
      "execution_count": 76,
      "outputs": [
        {
          "output_type": "execute_result",
          "data": {
            "text/plain": [
              "array([ 15, -20,  15,  15,  15,  15, -20, -20, -20, -20])"
            ]
          },
          "metadata": {
            "tags": []
          },
          "execution_count": 76
        }
      ]
    },
    {
      "cell_type": "code",
      "metadata": {
        "colab": {
          "base_uri": "https://localhost:8080/"
        },
        "id": "gIEPXGD3fkFG",
        "outputId": "ec921b3f-2dfc-4ace-fdf2-61982b1472a7"
      },
      "source": [
        "np.where(arr1>=4, 10, 20) #y é o valor antes da condição, e x é o valor depois da condição if condição>= alguma coisa"
      ],
      "execution_count": 77,
      "outputs": [
        {
          "output_type": "execute_result",
          "data": {
            "text/plain": [
              "array([20, 20, 20, 10, 10])"
            ]
          },
          "metadata": {
            "tags": []
          },
          "execution_count": 77
        }
      ]
    },
    {
      "cell_type": "code",
      "metadata": {
        "colab": {
          "base_uri": "https://localhost:8080/"
        },
        "id": "rz3bKCZkhJnM",
        "outputId": "f2081bc6-1f5c-4877-ed91-19088b17123b"
      },
      "source": [
        "np.where(arr1==4, 10, arr1)"
      ],
      "execution_count": 78,
      "outputs": [
        {
          "output_type": "execute_result",
          "data": {
            "text/plain": [
              "array([ 1,  2,  3, 10,  5])"
            ]
          },
          "metadata": {
            "tags": []
          },
          "execution_count": 78
        }
      ]
    },
    {
      "cell_type": "code",
      "metadata": {
        "colab": {
          "base_uri": "https://localhost:8080/"
        },
        "id": "vt7FmlZ4i6gE",
        "outputId": "031f58e7-b63a-484a-bc36-ec60c128922c"
      },
      "source": [
        "novo_array = np.array([[1, 2, 3, 4, 5],\n",
        "                      [6, 7, 8, 9, 10],\n",
        "                      [11, 12, 13, 14, 15],\n",
        "                      [16, 17, 18, 19, 20],\n",
        "                      [21, 22, 23, 24, 25]])\n",
        "novo_array.sum(axis=0) #soma pelas colunas"
      ],
      "execution_count": 79,
      "outputs": [
        {
          "output_type": "execute_result",
          "data": {
            "text/plain": [
              "array([55, 60, 65, 70, 75])"
            ]
          },
          "metadata": {
            "tags": []
          },
          "execution_count": 79
        }
      ]
    },
    {
      "cell_type": "code",
      "metadata": {
        "colab": {
          "base_uri": "https://localhost:8080/"
        },
        "id": "FNPdDKsVkc13",
        "outputId": "8ce2e10b-7183-4ecc-cf95-52735cc7aedf"
      },
      "source": [
        "novo_array.sum(axis=1) #soma pelas linhas"
      ],
      "execution_count": 80,
      "outputs": [
        {
          "output_type": "execute_result",
          "data": {
            "text/plain": [
              "array([ 15,  40,  65,  90, 115])"
            ]
          },
          "metadata": {
            "tags": []
          },
          "execution_count": 80
        }
      ]
    },
    {
      "cell_type": "code",
      "metadata": {
        "colab": {
          "base_uri": "https://localhost:8080/"
        },
        "id": "V7egrZQAk5SI",
        "outputId": "d4034bb5-372a-420f-9b79-e01535b68162"
      },
      "source": [
        "novo_array.cumsum(axis=1)  #faz soma cumulativa"
      ],
      "execution_count": 81,
      "outputs": [
        {
          "output_type": "execute_result",
          "data": {
            "text/plain": [
              "array([[  1,   3,   6,  10,  15],\n",
              "       [  6,  13,  21,  30,  40],\n",
              "       [ 11,  23,  36,  50,  65],\n",
              "       [ 16,  33,  51,  70,  90],\n",
              "       [ 21,  43,  66,  90, 115]])"
            ]
          },
          "metadata": {
            "tags": []
          },
          "execution_count": 81
        }
      ]
    },
    {
      "cell_type": "code",
      "metadata": {
        "colab": {
          "base_uri": "https://localhost:8080/"
        },
        "id": "FT2iGlCDsjH5",
        "outputId": "aa99fa61-d620-4ae4-81b3-eaba4bf07d6b"
      },
      "source": [
        "(novo_array>0).sum()  #contando o valor de um determinado tipo dentro de um array"
      ],
      "execution_count": 82,
      "outputs": [
        {
          "output_type": "execute_result",
          "data": {
            "text/plain": [
              "25"
            ]
          },
          "metadata": {
            "tags": []
          },
          "execution_count": 82
        }
      ]
    },
    {
      "cell_type": "code",
      "metadata": {
        "colab": {
          "base_uri": "https://localhost:8080/"
        },
        "id": "aYd1Z9x8tRDw",
        "outputId": "489709ef-28ad-44af-99c8-90899888c16c"
      },
      "source": [
        "(novo_array>10).all() #testa se a condição é true em todos os valores do array"
      ],
      "execution_count": 83,
      "outputs": [
        {
          "output_type": "execute_result",
          "data": {
            "text/plain": [
              "False"
            ]
          },
          "metadata": {
            "tags": []
          },
          "execution_count": 83
        }
      ]
    },
    {
      "cell_type": "code",
      "metadata": {
        "colab": {
          "base_uri": "https://localhost:8080/"
        },
        "id": "g38e8SITtwae",
        "outputId": "07680bf1-b5d0-4146-c59e-6280b16ee2dd"
      },
      "source": [
        "(novo_array>=25).any() #testa se a condição é true"
      ],
      "execution_count": 84,
      "outputs": [
        {
          "output_type": "execute_result",
          "data": {
            "text/plain": [
              "True"
            ]
          },
          "metadata": {
            "tags": []
          },
          "execution_count": 84
        }
      ]
    },
    {
      "cell_type": "code",
      "metadata": {
        "id": "KwNj4i2qvOoL"
      },
      "source": [
        "arr11 = np.array([[1902, 1293, 193, 463],\n",
        "                 [235903, 1293, 1, 590],\n",
        "                 [9090, 9, 1505, 90],\n",
        "                 [123, 590, 12894, 112]])"
      ],
      "execution_count": 85,
      "outputs": []
    },
    {
      "cell_type": "code",
      "metadata": {
        "colab": {
          "base_uri": "https://localhost:8080/"
        },
        "id": "EA7HfQpm4bed",
        "outputId": "e1f65465-4679-4b1c-b98e-703923cbd9ab"
      },
      "source": [
        "arr11"
      ],
      "execution_count": 86,
      "outputs": [
        {
          "output_type": "execute_result",
          "data": {
            "text/plain": [
              "array([[  1902,   1293,    193,    463],\n",
              "       [235903,   1293,      1,    590],\n",
              "       [  9090,      9,   1505,     90],\n",
              "       [   123,    590,  12894,    112]])"
            ]
          },
          "metadata": {
            "tags": []
          },
          "execution_count": 86
        }
      ]
    },
    {
      "cell_type": "code",
      "metadata": {
        "id": "KlsuIAX05Nev"
      },
      "source": [
        "arr11.sort(axis=0)"
      ],
      "execution_count": 87,
      "outputs": []
    },
    {
      "cell_type": "code",
      "metadata": {
        "colab": {
          "base_uri": "https://localhost:8080/"
        },
        "id": "UqX2KjaL7aXF",
        "outputId": "bc3d513c-6f63-4a28-890a-d74717c0eafa"
      },
      "source": [
        "arr11"
      ],
      "execution_count": 88,
      "outputs": [
        {
          "output_type": "execute_result",
          "data": {
            "text/plain": [
              "array([[   123,      9,      1,     90],\n",
              "       [  1902,    590,    193,    112],\n",
              "       [  9090,   1293,   1505,    463],\n",
              "       [235903,   1293,  12894,    590]])"
            ]
          },
          "metadata": {
            "tags": []
          },
          "execution_count": 88
        }
      ]
    },
    {
      "cell_type": "code",
      "metadata": {
        "colab": {
          "base_uri": "https://localhost:8080/"
        },
        "id": "RRMY8wvJ8ahB",
        "outputId": "6d3179b2-7dad-4608-8308-78c78f2e3ccb"
      },
      "source": [
        "arr12 = np.arange(1, 101)\n",
        "arr12[int(0.09* len(arr12))] #mostra a porcentagem do array"
      ],
      "execution_count": 89,
      "outputs": [
        {
          "output_type": "execute_result",
          "data": {
            "text/plain": [
              "10"
            ]
          },
          "metadata": {
            "tags": []
          },
          "execution_count": 89
        }
      ]
    },
    {
      "cell_type": "code",
      "metadata": {
        "colab": {
          "base_uri": "https://localhost:8080/"
        },
        "id": "wMCZ0vEJ9r3D",
        "outputId": "265fe0c1-82cc-4526-f731-50ba76bf488e"
      },
      "source": [
        "numeros = [1, 1, 2, 3, 55, 4, 5, 55, 90, 9]\n",
        "\n",
        "np.unique(numeros)"
      ],
      "execution_count": 90,
      "outputs": [
        {
          "output_type": "execute_result",
          "data": {
            "text/plain": [
              "array([ 1,  2,  3,  4,  5,  9, 55, 90])"
            ]
          },
          "metadata": {
            "tags": []
          },
          "execution_count": 90
        }
      ]
    },
    {
      "cell_type": "code",
      "metadata": {
        "colab": {
          "base_uri": "https://localhost:8080/"
        },
        "id": "rR5NpjNLPr_E",
        "outputId": "a4858269-e7aa-4a04-a0d6-53f5c7350649"
      },
      "source": [
        "set(numeros) #alternativa em python puro"
      ],
      "execution_count": 91,
      "outputs": [
        {
          "output_type": "execute_result",
          "data": {
            "text/plain": [
              "{1, 2, 3, 4, 5, 9, 55, 90}"
            ]
          },
          "metadata": {
            "tags": []
          },
          "execution_count": 91
        }
      ]
    },
    {
      "cell_type": "code",
      "metadata": {
        "colab": {
          "base_uri": "https://localhost:8080/"
        },
        "id": "3fnGSquIQrdY",
        "outputId": "e8e5b3a1-30cb-416d-b7b0-9dcc6c72639e"
      },
      "source": [
        "np.in1d(numeros, [1, 2, 31]) #faz um isin"
      ],
      "execution_count": 92,
      "outputs": [
        {
          "output_type": "execute_result",
          "data": {
            "text/plain": [
              "array([ True,  True,  True, False, False, False, False, False, False,\n",
              "       False])"
            ]
          },
          "metadata": {
            "tags": []
          },
          "execution_count": 92
        }
      ]
    },
    {
      "cell_type": "code",
      "metadata": {
        "colab": {
          "base_uri": "https://localhost:8080/"
        },
        "id": "NslaGBNVRmcY",
        "outputId": "4da0a018-d513-451a-d4ca-054f62103ed3"
      },
      "source": [
        "np.intersect1d(numeros, [1, 2, 4, 20])  #retorna um array com elementos em comum"
      ],
      "execution_count": 93,
      "outputs": [
        {
          "output_type": "execute_result",
          "data": {
            "text/plain": [
              "array([1, 2, 4])"
            ]
          },
          "metadata": {
            "tags": []
          },
          "execution_count": 93
        }
      ]
    },
    {
      "cell_type": "code",
      "metadata": {
        "colab": {
          "base_uri": "https://localhost:8080/"
        },
        "id": "S6V22AV4SHPq",
        "outputId": "bb727c3c-312e-4223-c48c-d557dd3a7fcf"
      },
      "source": [
        "np.union1d(numeros, [1, 2, 4, 20]) #faz um join em dois arrays"
      ],
      "execution_count": 94,
      "outputs": [
        {
          "output_type": "execute_result",
          "data": {
            "text/plain": [
              "array([ 1,  2,  3,  4,  5,  9, 20, 55, 90])"
            ]
          },
          "metadata": {
            "tags": []
          },
          "execution_count": 94
        }
      ]
    },
    {
      "cell_type": "code",
      "metadata": {
        "colab": {
          "base_uri": "https://localhost:8080/"
        },
        "id": "CBbN_yzwSc9b",
        "outputId": "bed62846-89ba-4453-9c2e-ce7b7100b2e9"
      },
      "source": [
        "np.setdiff1d(numeros, [1, 2, 4, 20]) #retorna os valores que tem em x e não em y"
      ],
      "execution_count": 95,
      "outputs": [
        {
          "output_type": "execute_result",
          "data": {
            "text/plain": [
              "array([ 3,  5,  9, 55, 90])"
            ]
          },
          "metadata": {
            "tags": []
          },
          "execution_count": 95
        }
      ]
    },
    {
      "cell_type": "code",
      "metadata": {
        "colab": {
          "base_uri": "https://localhost:8080/"
        },
        "id": "TiDXUjDLS40V",
        "outputId": "ca92c370-2fe8-44bb-b093-51e863c6ac7d"
      },
      "source": [
        "np.setxor1d(numeros, [1, 2, 4, 55, 20]) #retorna os valores que não se repetem nem em x nem y"
      ],
      "execution_count": 96,
      "outputs": [
        {
          "output_type": "execute_result",
          "data": {
            "text/plain": [
              "array([ 3,  5,  9, 20, 90])"
            ]
          },
          "metadata": {
            "tags": []
          },
          "execution_count": 96
        }
      ]
    },
    {
      "cell_type": "markdown",
      "metadata": {
        "id": "Gi7GtZwu0zQm"
      },
      "source": [
        "### **Salvando e carregando arrays numpy**"
      ]
    },
    {
      "cell_type": "code",
      "metadata": {
        "id": "k8O4oMAuTsM4"
      },
      "source": [
        "np.save('/content/drive/MyDrive/Data Science/Python para Analise de Dados/array12.npy', arr12)"
      ],
      "execution_count": 97,
      "outputs": []
    },
    {
      "cell_type": "code",
      "metadata": {
        "colab": {
          "base_uri": "https://localhost:8080/"
        },
        "id": "eaLMCteJUOOp",
        "outputId": "62c5419d-2bd5-451a-d0b8-b1b58d8bfd36"
      },
      "source": [
        "teste_array = np.load('/content/drive/MyDrive/Data Science/Python para Analise de Dados/array12.npy')\n",
        "teste_array"
      ],
      "execution_count": 98,
      "outputs": [
        {
          "output_type": "execute_result",
          "data": {
            "text/plain": [
              "array([  1,   2,   3,   4,   5,   6,   7,   8,   9,  10,  11,  12,  13,\n",
              "        14,  15,  16,  17,  18,  19,  20,  21,  22,  23,  24,  25,  26,\n",
              "        27,  28,  29,  30,  31,  32,  33,  34,  35,  36,  37,  38,  39,\n",
              "        40,  41,  42,  43,  44,  45,  46,  47,  48,  49,  50,  51,  52,\n",
              "        53,  54,  55,  56,  57,  58,  59,  60,  61,  62,  63,  64,  65,\n",
              "        66,  67,  68,  69,  70,  71,  72,  73,  74,  75,  76,  77,  78,\n",
              "        79,  80,  81,  82,  83,  84,  85,  86,  87,  88,  89,  90,  91,\n",
              "        92,  93,  94,  95,  96,  97,  98,  99, 100])"
            ]
          },
          "metadata": {
            "tags": []
          },
          "execution_count": 98
        }
      ]
    },
    {
      "cell_type": "code",
      "metadata": {
        "id": "oENL1A_BUu9N"
      },
      "source": [
        "np.savez('/content/drive/MyDrive/Data Science/Python para Analise de Dados/teste_dois_arrays.npz', a=arr11, b=arr12) #salva mais de um array"
      ],
      "execution_count": 99,
      "outputs": []
    },
    {
      "cell_type": "code",
      "metadata": {
        "id": "LIjpEOxAVXe5"
      },
      "source": [
        "teste_dois_arrays = np.load('/content/drive/MyDrive/Data Science/Python para Analise de Dados/teste_dois_arrays.npz')"
      ],
      "execution_count": 100,
      "outputs": []
    },
    {
      "cell_type": "code",
      "metadata": {
        "colab": {
          "base_uri": "https://localhost:8080/"
        },
        "id": "d-B9mEsrVmcb",
        "outputId": "1665e1d2-9d22-4e7d-f7fd-fd3f69268b47"
      },
      "source": [
        "teste_dois_arrays['b']"
      ],
      "execution_count": 101,
      "outputs": [
        {
          "output_type": "execute_result",
          "data": {
            "text/plain": [
              "array([  1,   2,   3,   4,   5,   6,   7,   8,   9,  10,  11,  12,  13,\n",
              "        14,  15,  16,  17,  18,  19,  20,  21,  22,  23,  24,  25,  26,\n",
              "        27,  28,  29,  30,  31,  32,  33,  34,  35,  36,  37,  38,  39,\n",
              "        40,  41,  42,  43,  44,  45,  46,  47,  48,  49,  50,  51,  52,\n",
              "        53,  54,  55,  56,  57,  58,  59,  60,  61,  62,  63,  64,  65,\n",
              "        66,  67,  68,  69,  70,  71,  72,  73,  74,  75,  76,  77,  78,\n",
              "        79,  80,  81,  82,  83,  84,  85,  86,  87,  88,  89,  90,  91,\n",
              "        92,  93,  94,  95,  96,  97,  98,  99, 100])"
            ]
          },
          "metadata": {
            "tags": []
          },
          "execution_count": 101
        }
      ]
    },
    {
      "cell_type": "code",
      "metadata": {
        "colab": {
          "base_uri": "https://localhost:8080/"
        },
        "id": "q-JdfDhfWIMU",
        "outputId": "0c5a8f08-b605-4d07-d180-cd62bb49ba62"
      },
      "source": [
        "teste_dois_arrays['a']"
      ],
      "execution_count": 102,
      "outputs": [
        {
          "output_type": "execute_result",
          "data": {
            "text/plain": [
              "array([[   123,      9,      1,     90],\n",
              "       [  1902,    590,    193,    112],\n",
              "       [  9090,   1293,   1505,    463],\n",
              "       [235903,   1293,  12894,    590]])"
            ]
          },
          "metadata": {
            "tags": []
          },
          "execution_count": 102
        }
      ]
    },
    {
      "cell_type": "markdown",
      "metadata": {
        "id": "WzG00s8q1TOP"
      },
      "source": [
        "### **Multiplicando matrizes:**"
      ]
    },
    {
      "cell_type": "markdown",
      "metadata": {
        "id": "HM4IMeVqAznB"
      },
      "source": [
        "![multiplicacao_matrizes.png](data:image/png;base64,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)"
      ]
    },
    {
      "cell_type": "code",
      "metadata": {
        "colab": {
          "base_uri": "https://localhost:8080/"
        },
        "id": "8mdL3yBQBJch",
        "outputId": "993c9108-4907-4745-b3e7-2868f22064a8"
      },
      "source": [
        "xx2 = np.array([[1, 2],\n",
        "              [3, 4]])\n",
        "x3 = np.array([[-1, 3],\n",
        "               [4, 2]])\n",
        "np.dot(xx2, x3)"
      ],
      "execution_count": 103,
      "outputs": [
        {
          "output_type": "execute_result",
          "data": {
            "text/plain": [
              "array([[ 7,  7],\n",
              "       [13, 17]])"
            ]
          },
          "metadata": {
            "tags": []
          },
          "execution_count": 103
        }
      ]
    },
    {
      "cell_type": "code",
      "metadata": {
        "colab": {
          "base_uri": "https://localhost:8080/"
        },
        "id": "Id39sr8xcVjm",
        "outputId": "96ab55a0-067b-4d82-8156-c2a2816ef872"
      },
      "source": [
        "xis = np.array([[4, 9],\n",
        "                [2, 6]])\n",
        "ipislon = np.array([[5, 4],\n",
        "                    [9, 8]])\n",
        "\n",
        "ipislon.dot(xis) #além de multiplicar matrizes, também é utilizado para o calculo de quando a imagem vai ser redimensionada pra algo menor em DL"
      ],
      "execution_count": 104,
      "outputs": [
        {
          "output_type": "execute_result",
          "data": {
            "text/plain": [
              "array([[ 28,  69],\n",
              "       [ 52, 129]])"
            ]
          },
          "metadata": {
            "tags": []
          },
          "execution_count": 104
        }
      ]
    },
    {
      "cell_type": "code",
      "metadata": {
        "colab": {
          "base_uri": "https://localhost:8080/"
        },
        "id": "g9ZP37hGjfsr",
        "outputId": "2c696c65-92f0-4018-e9be-03aa5ab776cd"
      },
      "source": [
        "ipislon@xis #mesma coisa do dot"
      ],
      "execution_count": 105,
      "outputs": [
        {
          "output_type": "execute_result",
          "data": {
            "text/plain": [
              "array([[ 28,  69],\n",
              "       [ 52, 129]])"
            ]
          },
          "metadata": {
            "tags": []
          },
          "execution_count": 105
        }
      ]
    },
    {
      "cell_type": "markdown",
      "metadata": {
        "id": "4ddQg_c91kpd"
      },
      "source": [
        "Obs: Multiplicar dois arrays bidimensionais com *\n",
        "corresponde ao produto de todos os elementos, e não a um produto escalar de matrizes"
      ]
    },
    {
      "cell_type": "code",
      "metadata": {
        "colab": {
          "base_uri": "https://localhost:8080/"
        },
        "id": "czMSIuU213ef",
        "outputId": "06fd193d-bc64-415e-b847-21b1dcfb3c09"
      },
      "source": [
        "ipislon * xis   #ipislon * xis != ipislon@xis ou ipislon.dot(xis)"
      ],
      "execution_count": 106,
      "outputs": [
        {
          "output_type": "execute_result",
          "data": {
            "text/plain": [
              "array([[20, 36],\n",
              "       [18, 48]])"
            ]
          },
          "metadata": {
            "tags": []
          },
          "execution_count": 106
        }
      ]
    },
    {
      "cell_type": "markdown",
      "metadata": {
        "id": "7YWGEXT47XLX"
      },
      "source": [
        "### **Calculando Determinantes:**"
      ]
    },
    {
      "cell_type": "markdown",
      "metadata": {
        "id": "z5FjaHF_8dXB"
      },
      "source": [
        "Precisa importar a biblioteca: *from numpy.linalg import inv, qr*"
      ]
    },
    {
      "cell_type": "code",
      "metadata": {
        "id": "AmZIifsa5oiF"
      },
      "source": [
        "determinante_ordem_2 = Image.open('/content/drive/MyDrive/Data Science/Python para Analise de Dados/Algebra Linear/determinante_ordem_2.png')"
      ],
      "execution_count": 107,
      "outputs": []
    },
    {
      "cell_type": "markdown",
      "metadata": {
        "id": "Id5_RQyX_TmY"
      },
      "source": [
        "**Calculando Determinante de ordem 2:**"
      ]
    },
    {
      "cell_type": "markdown",
      "metadata": {
        "id": "AX2O2cPO900Q"
      },
      "source": [
        "Para calcular o determinante de uma matriz de ordem 2, calculamos a diferença entre o produto dos termos da diagonal principal e os termos da diagonal secundária."
      ]
    },
    {
      "cell_type": "code",
      "metadata": {
        "colab": {
          "base_uri": "https://localhost:8080/",
          "height": 0
        },
        "id": "88U-MN0Y9zfN",
        "outputId": "7982a318-0644-419f-eb12-7f7ce2a3cadb"
      },
      "source": [
        "determinante_ordem_2"
      ],
      "execution_count": 108,
      "outputs": [
        {
          "output_type": "execute_result",
          "data": {
            "image/png": "[encoded data removed]",
            "text/plain": [
              "<PIL.PngImagePlugin.PngImageFile image mode=RGB size=716x332 at 0x7F94D6DF0F10>"
            ]
          },
          "metadata": {
            "tags": []
          },
          "execution_count": 108
        }
      ]
    },
    {
      "cell_type": "code",
      "metadata": {
        "id": "0hTlY5Yg72Op"
      },
      "source": [
        "det_02 = np.array([[1, 5],\n",
        "                   [2, 3]])"
      ],
      "execution_count": 109,
      "outputs": []
    },
    {
      "cell_type": "code",
      "metadata": {
        "colab": {
          "base_uri": "https://localhost:8080/"
        },
        "id": "aBN3GYBI8naq",
        "outputId": "e212a198-f6a1-408c-cfc7-e04b53e8afed"
      },
      "source": [
        "np.linalg.det(det_02)"
      ],
      "execution_count": 110,
      "outputs": [
        {
          "output_type": "execute_result",
          "data": {
            "text/plain": [
              "-7.000000000000001"
            ]
          },
          "metadata": {
            "tags": []
          },
          "execution_count": 110
        }
      ]
    },
    {
      "cell_type": "code",
      "metadata": {
        "colab": {
          "base_uri": "https://localhost:8080/"
        },
        "id": "taVqlPUt9P7W",
        "outputId": "9ef75043-60b6-49dc-e267-74c020363294"
      },
      "source": [
        "det_02_02 = np.array([[10, 3],\n",
        "                      [7, 5]])\n",
        "\n",
        "np.linalg.det(det_02_02)"
      ],
      "execution_count": 111,
      "outputs": [
        {
          "output_type": "execute_result",
          "data": {
            "text/plain": [
              "29.000000000000004"
            ]
          },
          "metadata": {
            "tags": []
          },
          "execution_count": 111
        }
      ]
    },
    {
      "cell_type": "code",
      "metadata": {
        "colab": {
          "base_uri": "https://localhost:8080/"
        },
        "id": "zD8GrwJ3__pV",
        "outputId": "e3c5b784-501e-4946-aab2-c8ab13434281"
      },
      "source": [
        "det_02_03 = np.array([[20, 30],\n",
        "                      [5, 10]])\n",
        "np.linalg.det(det_02_03)"
      ],
      "execution_count": 112,
      "outputs": [
        {
          "output_type": "execute_result",
          "data": {
            "text/plain": [
              "49.99999999999999"
            ]
          },
          "metadata": {
            "tags": []
          },
          "execution_count": 112
        }
      ]
    },
    {
      "cell_type": "markdown",
      "metadata": {
        "id": "OLIyr_9RKc8t"
      },
      "source": [
        "### **Determinante ordem 3:**"
      ]
    },
    {
      "cell_type": "markdown",
      "metadata": {
        "id": "tzbVvycnKnNn"
      },
      "source": [
        "![determinante_ordem_3.png](data:image/png;base64,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)"
      ]
    },
    {
      "cell_type": "code",
      "metadata": {
        "colab": {
          "base_uri": "https://localhost:8080/"
        },
        "id": "HXl8q5RsKtQ-",
        "outputId": "dc7dfbee-099c-47b3-cbbc-4cfcd2614f38"
      },
      "source": [
        "det_03 = np.array([[1, 9, 5],\n",
        "                   [3, 7, 8],\n",
        "                   [10, 4, 2]])\n",
        "np.linalg.det(det_03)"
      ],
      "execution_count": 113,
      "outputs": [
        {
          "output_type": "execute_result",
          "data": {
            "text/plain": [
              "358.0"
            ]
          },
          "metadata": {
            "tags": []
          },
          "execution_count": 113
        }
      ]
    },
    {
      "cell_type": "code",
      "metadata": {
        "colab": {
          "base_uri": "https://localhost:8080/"
        },
        "id": "jKbBVqzwLXLi",
        "outputId": "cb480fe2-ae61-4473-8a87-61fa939ce9a4"
      },
      "source": [
        "det_03.trace()  #soma os valores na diagonal da diagonal principal"
      ],
      "execution_count": 114,
      "outputs": [
        {
          "output_type": "execute_result",
          "data": {
            "text/plain": [
              "10"
            ]
          },
          "metadata": {
            "tags": []
          },
          "execution_count": 114
        }
      ]
    },
    {
      "cell_type": "markdown",
      "metadata": {
        "id": "1f3vAQIrTFx6"
      },
      "source": [
        "### **Distribuição normal:**"
      ]
    },
    {
      "cell_type": "markdown",
      "metadata": {
        "id": "wIRw7O-VTNlv"
      },
      "source": [
        "![distribuio-normal-6-728.jpg](data:image/jpeg;base64,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)"
      ]
    },
    {
      "cell_type": "code",
      "metadata": {
        "colab": {
          "base_uri": "https://localhost:8080/"
        },
        "id": "eMLuzTBuTfOm",
        "outputId": "14c59019-6702-42a0-a1ec-a20e85d849d7"
      },
      "source": [
        "np.random.normal(size=(3, 3)) #gera sequencia aleatória da distribuição normal"
      ],
      "execution_count": 115,
      "outputs": [
        {
          "output_type": "execute_result",
          "data": {
            "text/plain": [
              "array([[-1.47868159, -0.74792845, -0.3434742 ],\n",
              "       [-0.50824533,  1.16923948,  0.08500122],\n",
              "       [-0.06164327, -1.13490453,  0.04779327]])"
            ]
          },
          "metadata": {
            "tags": []
          },
          "execution_count": 115
        }
      ]
    },
    {
      "cell_type": "markdown",
      "metadata": {
        "id": "21XWT7-sRhJY"
      },
      "source": [
        "### **Random Walk**"
      ]
    },
    {
      "cell_type": "code",
      "metadata": {
        "id": "eVoQSDB3jdlH"
      },
      "source": [
        "import random"
      ],
      "execution_count": 116,
      "outputs": []
    },
    {
      "cell_type": "code",
      "metadata": {
        "colab": {
          "base_uri": "https://localhost:8080/",
          "height": 282
        },
        "id": "ztTih41sjfaB",
        "outputId": "242d5837-042a-4814-de75-3749e93b07ee"
      },
      "source": [
        "posicao = 0\n",
        "andar = [posicao]\n",
        "passos = 100000\n",
        "for i in range(passos):\n",
        "  passo = 1 if random.randint(0, 1) else -1\n",
        "  posicao += passo\n",
        "  andar.append(posicao)\n",
        "plt.plot(andar[:100])"
      ],
      "execution_count": 117,
      "outputs": [
        {
          "output_type": "execute_result",
          "data": {
            "text/plain": [
              "[<matplotlib.lines.Line2D at 0x7f94d6c1efd0>]"
            ]
          },
          "metadata": {
            "tags": []
          },
          "execution_count": 117
        },
        {
          "output_type": "display_data",
          "data": {
            "image/png": "[encoded data removed]",
            "text/plain": [
              "<Figure size 432x288 with 1 Axes>"
            ]
          },
          "metadata": {
            "tags": [],
            "needs_background": "light"
          }
        }
      ]
    },
    {
      "cell_type": "markdown",
      "metadata": {
        "id": "Jv6YWR1xUZca"
      },
      "source": [
        "Forma Resumida da fórumula de cima:"
      ]
    },
    {
      "cell_type": "code",
      "metadata": {
        "colab": {
          "base_uri": "https://localhost:8080/",
          "height": 282
        },
        "id": "_ajPcvI1ljHE",
        "outputId": "e425e999-11b1-4bed-932a-c58a50dd6442"
      },
      "source": [
        "nsteps = 1000000\n",
        "draws = np.random.randint(0, 2, size=nsteps)\n",
        "steps = np.where(draws>0, 1, -1)\n",
        "walk = steps.cumsum()\n",
        "\n",
        "plt.plot(walk[:100])"
      ],
      "execution_count": 118,
      "outputs": [
        {
          "output_type": "execute_result",
          "data": {
            "text/plain": [
              "[<matplotlib.lines.Line2D at 0x7f94d6744090>]"
            ]
          },
          "metadata": {
            "tags": []
          },
          "execution_count": 118
        },
        {
          "output_type": "display_data",
          "data": {
            "image/png": "[encoded data removed]",
            "text/plain": [
              "<Figure size 432x288 with 1 Axes>"
            ]
          },
          "metadata": {
            "tags": [],
            "needs_background": "light"
          }
        }
      ]
    },
    {
      "cell_type": "code",
      "metadata": {
        "colab": {
          "base_uri": "https://localhost:8080/"
        },
        "id": "OBjtPAt-Xya-",
        "outputId": "da03b7e8-edb5-4ec3-aad7-244b3eb02765"
      },
      "source": [
        "(np.abs(walk) >= 10) #Abs = retorna valor absoluto(módulo). Mostra um array booleano mostrando quando ele passou aquela condição "
      ],
      "execution_count": 119,
      "outputs": [
        {
          "output_type": "execute_result",
          "data": {
            "text/plain": [
              "array([False, False, False, ...,  True,  True,  True])"
            ]
          },
          "metadata": {
            "tags": []
          },
          "execution_count": 119
        }
      ]
    },
    {
      "cell_type": "code",
      "metadata": {
        "colab": {
          "base_uri": "https://localhost:8080/"
        },
        "id": "DAZVQYseYkxQ",
        "outputId": "a742dbf0-8128-4d1c-8c84-2de8c7581418"
      },
      "source": [
        "(np.abs(walk) >= 10).argmax() #retorna o número do primeiro índice que excedeu a condição do módulo"
      ],
      "execution_count": 120,
      "outputs": [
        {
          "output_type": "execute_result",
          "data": {
            "text/plain": [
              "193"
            ]
          },
          "metadata": {
            "tags": []
          },
          "execution_count": 120
        }
      ]
    },
    {
      "cell_type": "markdown",
      "metadata": {
        "id": "aqfzShIeaCvh"
      },
      "source": [
        "### **Trabalhando com vários random walks:**"
      ]
    },
    {
      "cell_type": "code",
      "metadata": {
        "colab": {
          "base_uri": "https://localhost:8080/"
        },
        "id": "gyW4sxH0aJMz",
        "outputId": "a099c12f-d7d2-4be5-ca7d-8e2f06f60eed"
      },
      "source": [
        "numero_passeios = 23\n",
        "numero_passos = 10000\n",
        "destinos = np.random.randint(0, 2, size=(numero_passeios, numero_passos))\n",
        "numero_passo = np.where(destinos>0, 1, -1)\n",
        "total_passeio = numero_passo.cumsum(1)\n",
        "total_passeio"
      ],
      "execution_count": 121,
      "outputs": [
        {
          "output_type": "execute_result",
          "data": {
            "text/plain": [
              "array([[  -1,   -2,   -1, ...,  -50,  -49,  -48],\n",
              "       [   1,    2,    3, ..., -230, -231, -232],\n",
              "       [  -1,    0,    1, ..., -232, -233, -232],\n",
              "       ...,\n",
              "       [  -1,   -2,   -3, ...,  -44,  -45,  -44],\n",
              "       [  -1,    0,   -1, ..., -124, -125, -124],\n",
              "       [   1,    2,    3, ...,  -36,  -35,  -36]])"
            ]
          },
          "metadata": {
            "tags": []
          },
          "execution_count": 121
        }
      ]
    },
    {
      "cell_type": "code",
      "metadata": {
        "colab": {
          "base_uri": "https://localhost:8080/",
          "height": 265
        },
        "id": "TqpJl74vdvJK",
        "outputId": "5f238d7f-42fa-456f-cd32-0e08b63cb6d1"
      },
      "source": [
        "plt.plot(total_passeio[:10])\n",
        "plt.show()"
      ],
      "execution_count": 122,
      "outputs": [
        {
          "output_type": "display_data",
          "data": {
            "image/png": "[encoded data removed]",
            "text/plain": [
              "<Figure size 432x288 with 1 Axes>"
            ]
          },
          "metadata": {
            "tags": [],
            "needs_background": "light"
          }
        }
      ]
    },
    {
      "cell_type": "code",
      "metadata": {
        "colab": {
          "base_uri": "https://localhost:8080/"
        },
        "id": "LavnWHk9dNMB",
        "outputId": "6b969f78-4d6f-4edb-f90a-1aa6d158fd1a"
      },
      "source": [
        "total_passeio.max()"
      ],
      "execution_count": 123,
      "outputs": [
        {
          "output_type": "execute_result",
          "data": {
            "text/plain": [
              "227"
            ]
          },
          "metadata": {
            "tags": []
          },
          "execution_count": 123
        }
      ]
    },
    {
      "cell_type": "code",
      "metadata": {
        "colab": {
          "base_uri": "https://localhost:8080/"
        },
        "id": "MKlw6WOigWua",
        "outputId": "4e8de138-0441-4d34-f457-87c8b77a9476"
      },
      "source": [
        "total_passeio.min()"
      ],
      "execution_count": 124,
      "outputs": [
        {
          "output_type": "execute_result",
          "data": {
            "text/plain": [
              "-248"
            ]
          },
          "metadata": {
            "tags": []
          },
          "execution_count": 124
        }
      ]
    },
    {
      "cell_type": "code",
      "metadata": {
        "colab": {
          "base_uri": "https://localhost:8080/"
        },
        "id": "d9f5n_AuhKUc",
        "outputId": "1b4c0bd5-54c7-4a46-8e90-5ea88d24da92"
      },
      "source": [
        "alcanca30 = (np.abs(total_passeio) >= 30).any(1)\n",
        "alcanca30 #Confere se existem random walks acima de 30"
      ],
      "execution_count": 125,
      "outputs": [
        {
          "output_type": "execute_result",
          "data": {
            "text/plain": [
              "array([ True,  True,  True,  True,  True,  True,  True,  True,  True,\n",
              "        True,  True,  True,  True,  True,  True,  True,  True,  True,\n",
              "        True,  True,  True,  True,  True])"
            ]
          },
          "metadata": {
            "tags": []
          },
          "execution_count": 125
        }
      ]
    },
    {
      "cell_type": "code",
      "metadata": {
        "colab": {
          "base_uri": "https://localhost:8080/"
        },
        "id": "Atel0dhIhelk",
        "outputId": "bd13b98f-7b7e-4dad-f7e2-43cdb9982712"
      },
      "source": [
        "alcanca30.sum() #Soma o numero total de vezes que passou de 30"
      ],
      "execution_count": 126,
      "outputs": [
        {
          "output_type": "execute_result",
          "data": {
            "text/plain": [
              "23"
            ]
          },
          "metadata": {
            "tags": []
          },
          "execution_count": 126
        }
      ]
    },
    {
      "cell_type": "code",
      "metadata": {
        "colab": {
          "base_uri": "https://localhost:8080/"
        },
        "id": "Hryl3_zniNrN",
        "outputId": "183f23ad-764d-454c-aa14-a4b2b1f46b81"
      },
      "source": [
        "crossing_times = (np.abs(total_passeio[alcanca30]) >= 30).argmax(1)\n",
        "crossing_times  #Retorna o índice das vezes que passaram de 30"
      ],
      "execution_count": 127,
      "outputs": [
        {
          "output_type": "execute_result",
          "data": {
            "text/plain": [
              "array([ 221,  703, 1051,  211,  307,  347, 1109,  759,  457,  949, 1593,\n",
              "        949, 2977, 1093,  723,  129, 1189, 1143,  683, 2619,  325, 1121,\n",
              "       1677])"
            ]
          },
          "metadata": {
            "tags": []
          },
          "execution_count": 127
        }
      ]
    },
    {
      "cell_type": "code",
      "metadata": {
        "colab": {
          "base_uri": "https://localhost:8080/"
        },
        "id": "vt-eO5Ldi0kH",
        "outputId": "6378a49c-0529-46f5-cfbd-3c5cd4ef4418"
      },
      "source": [
        "crossing_times.mean()"
      ],
      "execution_count": 128,
      "outputs": [
        {
          "output_type": "execute_result",
          "data": {
            "text/plain": [
              "971.0869565217391"
            ]
          },
          "metadata": {
            "tags": []
          },
          "execution_count": 128
        }
      ]
    },
    {
      "cell_type": "code",
      "metadata": {
        "id": "ZIViP_MiFmxj"
      },
      "source": [
        ""
      ],
      "execution_count": null,
      "outputs": []
    }
  ]
}