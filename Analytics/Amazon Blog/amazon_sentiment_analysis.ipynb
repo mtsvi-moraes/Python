{
 "cells": [
  {
   "cell_type": "code",
   "execution_count": 1,
   "metadata": {},
   "outputs": [],
   "source": [
    "import nltk"
   ]
  },
  {
   "cell_type": "code",
   "execution_count": 2,
   "metadata": {},
   "outputs": [],
   "source": [
    "from nltk.sentiment.vader import SentimentIntensityAnalyzer\n",
    "import pandas as pd"
   ]
  },
  {
   "cell_type": "code",
   "execution_count": 3,
   "metadata": {},
   "outputs": [],
   "source": [
    "sid = SentimentIntensityAnalyzer()"
   ]
  },
  {
   "cell_type": "code",
   "execution_count": 4,
   "metadata": {},
   "outputs": [],
   "source": [
    "df = pd.read_csv('amazon.csv', sep=';')\n",
    "df.replace(r'\\n', '', regex=True, inplace=True)"
   ]
  },
  {
   "cell_type": "code",
   "execution_count": 5,
   "metadata": {},
   "outputs": [],
   "source": [
    "import datetime as dt"
   ]
  },
  {
   "cell_type": "code",
   "execution_count": 6,
   "metadata": {},
   "outputs": [
    {
     "data": {
      "text/html": [
       "<div>\n",
       "<style scoped>\n",
       "    .dataframe tbody tr th:only-of-type {\n",
       "        vertical-align: middle;\n",
       "    }\n",
       "\n",
       "    .dataframe tbody tr th {\n",
       "        vertical-align: top;\n",
       "    }\n",
       "\n",
       "    .dataframe thead th {\n",
       "        text-align: right;\n",
       "    }\n",
       "</style>\n",
       "<table border=\"1\" class=\"dataframe\">\n",
       "  <thead>\n",
       "    <tr style=\"text-align: right;\">\n",
       "      <th></th>\n",
       "      <th>Title</th>\n",
       "      <th>Date</th>\n",
       "      <th>Contributor</th>\n",
       "      <th>Content</th>\n",
       "      <th>Link</th>\n",
       "      <th>Role</th>\n",
       "    </tr>\n",
       "  </thead>\n",
       "  <tbody>\n",
       "    <tr>\n",
       "      <th>0</th>\n",
       "      <td>Be a Part of Ambient Intelligence</td>\n",
       "      <td>2021-11-16</td>\n",
       "      <td>Bob Mars</td>\n",
       "      <td>Ambient intelligence is an environment where e...</td>\n",
       "      <td>https://developer.amazon.com/en-US/blogs/alexa...</td>\n",
       "      <td>NaN</td>\n",
       "    </tr>\n",
       "    <tr>\n",
       "      <th>1</th>\n",
       "      <td>Launch of Smart Home Device Health Service</td>\n",
       "      <td>2021-11-08</td>\n",
       "      <td>Sharon Morrow</td>\n",
       "      <td>Do you want to use Smart Home technology to he...</td>\n",
       "      <td>https://developer.amazon.com/en-US/blogs/alexa...</td>\n",
       "      <td>NaN</td>\n",
       "    </tr>\n",
       "    <tr>\n",
       "      <th>2</th>\n",
       "      <td>Support for Matter over Thread coming to Echo ...</td>\n",
       "      <td>2021-11-03</td>\n",
       "      <td>Gabe Kassel</td>\n",
       "      <td>Today, we are excited to announce our support ...</td>\n",
       "      <td>https://developer.amazon.com/en-US/blogs/alexa...</td>\n",
       "      <td>NaN</td>\n",
       "    </tr>\n",
       "    <tr>\n",
       "      <th>3</th>\n",
       "      <td>Alexa is Coming to Hospitals and Senior Living...</td>\n",
       "      <td>2021-10-25</td>\n",
       "      <td>Shantanu Kurhekar</td>\n",
       "      <td>Today, we are excited to announce two new solu...</td>\n",
       "      <td>https://developer.amazon.com/en-US/blogs/alexa...</td>\n",
       "      <td>NaN</td>\n",
       "    </tr>\n",
       "    <tr>\n",
       "      <th>4</th>\n",
       "      <td>Introducing the New Alexa Connect Kit SDK for ...</td>\n",
       "      <td>2021-10-20</td>\n",
       "      <td>Nithya Chandrasekaran</td>\n",
       "      <td>Today, we are excited to announce Alexa Connec...</td>\n",
       "      <td>https://developer.amazon.com/en-US/blogs/alexa...</td>\n",
       "      <td>NaN</td>\n",
       "    </tr>\n",
       "    <tr>\n",
       "      <th>...</th>\n",
       "      <td>...</td>\n",
       "      <td>...</td>\n",
       "      <td>...</td>\n",
       "      <td>...</td>\n",
       "      <td>...</td>\n",
       "      <td>...</td>\n",
       "    </tr>\n",
       "    <tr>\n",
       "      <th>135</th>\n",
       "      <td>Sonos’ Karen Wickert: Proof That Testing Is Cr...</td>\n",
       "      <td>2018-03-07</td>\n",
       "      <td>Jennifer King</td>\n",
       "      <td>When Karen Wickert started their career as a m...</td>\n",
       "      <td>https://developer.amazon.com/en-US/blogs/alexa...</td>\n",
       "      <td>NaN</td>\n",
       "    </tr>\n",
       "    <tr>\n",
       "      <th>136</th>\n",
       "      <td>Introducing the Amazon Alexa Premium Far-Field...</td>\n",
       "      <td>2018-01-05</td>\n",
       "      <td>Gagan Luthra</td>\n",
       "      <td>The Amazon Alexa Voice Service (AVS) makes it ...</td>\n",
       "      <td>https://developer.amazon.com/en-US/blogs/alexa...</td>\n",
       "      <td>NaN</td>\n",
       "    </tr>\n",
       "    <tr>\n",
       "      <th>137</th>\n",
       "      <td>Amazon Alexa Mobile Accessories: A New Alexa-E...</td>\n",
       "      <td>2018-01-05</td>\n",
       "      <td>Gagan Luthra</td>\n",
       "      <td>Millions of customers around the world have in...</td>\n",
       "      <td>https://developer.amazon.com/en-US/blogs/alexa...</td>\n",
       "      <td>NaN</td>\n",
       "    </tr>\n",
       "    <tr>\n",
       "      <th>138</th>\n",
       "      <td>How to Control Your Cooking Devices with the S...</td>\n",
       "      <td>2018-01-04</td>\n",
       "      <td>Mike Maas</td>\n",
       "      <td>Today we announced updates to the Smart Home S...</td>\n",
       "      <td>https://developer.amazon.com/en-US/blogs/alexa...</td>\n",
       "      <td>NaN</td>\n",
       "    </tr>\n",
       "    <tr>\n",
       "      <th>139</th>\n",
       "      <td>Introducing Cooking Capabilities in the Alexa ...</td>\n",
       "      <td>2018-01-04</td>\n",
       "      <td>Mike Maas</td>\n",
       "      <td>Customers have now connected tens of millions ...</td>\n",
       "      <td>https://developer.amazon.com/en-US/blogs/alexa...</td>\n",
       "      <td>NaN</td>\n",
       "    </tr>\n",
       "  </tbody>\n",
       "</table>\n",
       "<p>140 rows × 6 columns</p>\n",
       "</div>"
      ],
      "text/plain": [
       "                                                 Title        Date  \\\n",
       "0                    Be a Part of Ambient Intelligence  2021-11-16   \n",
       "1           Launch of Smart Home Device Health Service  2021-11-08   \n",
       "2    Support for Matter over Thread coming to Echo ...  2021-11-03   \n",
       "3    Alexa is Coming to Hospitals and Senior Living...  2021-10-25   \n",
       "4    Introducing the New Alexa Connect Kit SDK for ...  2021-10-20   \n",
       "..                                                 ...         ...   \n",
       "135  Sonos’ Karen Wickert: Proof That Testing Is Cr...  2018-03-07   \n",
       "136  Introducing the Amazon Alexa Premium Far-Field...  2018-01-05   \n",
       "137  Amazon Alexa Mobile Accessories: A New Alexa-E...  2018-01-05   \n",
       "138  How to Control Your Cooking Devices with the S...  2018-01-04   \n",
       "139  Introducing Cooking Capabilities in the Alexa ...  2018-01-04   \n",
       "\n",
       "               Contributor                                            Content  \\\n",
       "0                 Bob Mars  Ambient intelligence is an environment where e...   \n",
       "1            Sharon Morrow  Do you want to use Smart Home technology to he...   \n",
       "2              Gabe Kassel  Today, we are excited to announce our support ...   \n",
       "3        Shantanu Kurhekar  Today, we are excited to announce two new solu...   \n",
       "4    Nithya Chandrasekaran  Today, we are excited to announce Alexa Connec...   \n",
       "..                     ...                                                ...   \n",
       "135          Jennifer King  When Karen Wickert started their career as a m...   \n",
       "136           Gagan Luthra  The Amazon Alexa Voice Service (AVS) makes it ...   \n",
       "137           Gagan Luthra  Millions of customers around the world have in...   \n",
       "138              Mike Maas  Today we announced updates to the Smart Home S...   \n",
       "139              Mike Maas  Customers have now connected tens of millions ...   \n",
       "\n",
       "                                                  Link  Role  \n",
       "0    https://developer.amazon.com/en-US/blogs/alexa...   NaN  \n",
       "1    https://developer.amazon.com/en-US/blogs/alexa...   NaN  \n",
       "2    https://developer.amazon.com/en-US/blogs/alexa...   NaN  \n",
       "3    https://developer.amazon.com/en-US/blogs/alexa...   NaN  \n",
       "4    https://developer.amazon.com/en-US/blogs/alexa...   NaN  \n",
       "..                                                 ...   ...  \n",
       "135  https://developer.amazon.com/en-US/blogs/alexa...   NaN  \n",
       "136  https://developer.amazon.com/en-US/blogs/alexa...   NaN  \n",
       "137  https://developer.amazon.com/en-US/blogs/alexa...   NaN  \n",
       "138  https://developer.amazon.com/en-US/blogs/alexa...   NaN  \n",
       "139  https://developer.amazon.com/en-US/blogs/alexa...   NaN  \n",
       "\n",
       "[140 rows x 6 columns]"
      ]
     },
     "execution_count": 6,
     "metadata": {},
     "output_type": "execute_result"
    }
   ],
   "source": [
    "df['Date'] = pd.to_datetime(df['Date']).dt.date\n",
    "df"
   ]
  },
  {
   "cell_type": "code",
   "execution_count": 7,
   "metadata": {},
   "outputs": [
    {
     "data": {
      "text/plain": [
       "Title            0\n",
       "Date             0\n",
       "Contributor      0\n",
       "Content          0\n",
       "Link             0\n",
       "Role           140\n",
       "dtype: int64"
      ]
     },
     "execution_count": 7,
     "metadata": {},
     "output_type": "execute_result"
    }
   ],
   "source": [
    "df.isnull().sum()"
   ]
  },
  {
   "cell_type": "code",
   "execution_count": 8,
   "metadata": {},
   "outputs": [],
   "source": [
    "df.drop('Role', axis=1, inplace=True)"
   ]
  },
  {
   "cell_type": "code",
   "execution_count": 9,
   "metadata": {},
   "outputs": [
    {
     "data": {
      "text/plain": [
       "{'neg': 0.017, 'neu': 0.86, 'pos': 0.123, 'compound': 0.9984}"
      ]
     },
     "execution_count": 9,
     "metadata": {},
     "output_type": "execute_result"
    }
   ],
   "source": [
    "sid.polarity_scores(df.iloc[0]['Content'])"
   ]
  },
  {
   "cell_type": "code",
   "execution_count": 10,
   "metadata": {},
   "outputs": [
    {
     "data": {
      "text/plain": [
       "\"Ambient intelligence is an environment where each of your devices and services is interconnected through artificial intelligence (AI), offering far more capabilities than any single service or device could. In this paradigm, AI understands the state of your environment and your preferences, helps you when you need it, and recedes into the background when you don't. Imagine a smart picture frame that shows you your personal schedule as you approach it, interacts with a third-party weather service to proactively make a suggestion for what to wear, and reverts to artwork as you walk away.Amazon is just one of many companies investing in ambient intelligence. We're making it easier for developers and partners to build devices and services that integrate deeply with our products. We believe that a truly ambient environment will include many different technologies and voice AIs working together, seamlessly, in a customer's household. Amazon understands that developing ambient environments requires support and knowledge from the entire industry — so we sponsored the Voice Interoperability Initiative to support and accelerate voice AIs working together.In a world with multiple voice services, each with different capabilities, we believe customers should have the freedom to choose their preferred service. To this end, Amazon, along with leading technology companies, announced the Voice Interoperability Initiative (VII) just over two years ago. VII now has over 90 members committed to providing customers choice and flexibility to interact with multiple voice services. Our aim is to deliver this experience through simultaneously available voice services, each with their own ‘wake word’ or invocation name that enable customers to talk to the service of their choice by simply saying its name.Bringing together many different technologies and having voice services working together in ambient environments introduces new challenges for product and voice agent designers. To understand how simultaneously available voice services can work together on the same product, Amazon published a Multi-Agent Design Guide (MADG) with the input of VII members. The MADG provides design recommendations and best practices for delivering delightful customer experiences with multi-agent devices.The MADG paves the way to natural voice interactions with agents. For example, it should be clear to customers which agent is listening so they can direct the question they are asking or command to the intended agent. Also, when a user is in a conversation with one agent, interruptions from other agents should be limited, much the same way we limit interruptions when we engage in human conversations. The MADG covers these topics and also introduces new concepts such as Universal Device Commands (UDCs) and Agent Transfers.UDCs allow a person to ask any agent on a device to perform certain functions, such as stopping music playback, which is helpful when it is unclear which agent was initially asked to play music because the person who started the music has since left the room. An Agent Transfer redirects to another agent on the device when a user asks an agent to perform a task that it cannot fulfill. In this case, the agent automatically initiates a dialog with another agent that may be able to fulfill the task. UDCs and Agent Transfers improve the customer experience in ambient environments by helping accomplish what the customer wants when multiple voice agents are involved.Amazon has recently announced two new technologies that support agent interoperability on a single product that are consistent with the principles outlined in the Multi-Agent Design Guide: Alexa Custom Assistant (ACA) and the Multi-Agent eXperience (MAX) Toolkit.ACA is a comprehensive new solution built directly on top of Alexa technology that lets device makers and service providers create intelligent assistants tailored to their brand personality and customer needs. It provides companies with access to world class, always-improving voice AI technology, customized with a unique wake word, voice, skills, and capabilities. The brand's assistant also seamlessly coexists and cooperates with Alexa, providing customers the benefit of an intelligent assistant that is their product and services expert, while Alexa provides the familiar experiences they already know and love.MAX Toolkit includes an agent-agnostic MAX Library middleware that enables your agent and cloud services to coordinate and interoperate with other agents. MAX models conversations between people and agents in much the same way that people engage in conversations with one another. It also provides methods for coordinating potential simultaneous speech output by multiple agents. For example, if the user has asked an agent to remind them of something later in the day and that reminder is about to occur while another agent is speaking, the reminder speech can be queued to be output after the speaking agent finishes.Both ACA and MAX facilitate the integration of multiple agents on products in ambient environments. Use ACA to host your brand agent if you do not have a voice agent infrastructure. Or consider MAX Toolkit to integrate your agent and its cloud services alongside other agents and Alexa on your product.Today, customers can interact with Alexa and other agents on a number of devices, including Facebook's Portal devices and Deutsche Telekom's Smart Speaker Mini. There are also devices from Orange, Xiaomi, OnePlus and more as well as in vehicles from Audi, BMW, VW, and Nissan where voice agents co-exist. That's the beauty of ambient intelligence done right — it enables developers to bring together different solutions into a unified, delightful customer experience.In the coming years, a large number of homes and work places will have ambient intelligence that will be able to learn about your environment and preferences and act on those insights in ways that are useful to you. Ambient environments consist of many different technologies and voice agents that work together seamlessly on, and across, devices. VII, MADG, ACA and MAX Toolkit are making it easier for developers and partners to build devices and voice services that work well together in serving customer needs.\""
      ]
     },
     "execution_count": 10,
     "metadata": {},
     "output_type": "execute_result"
    }
   ],
   "source": [
    "df.Content[0]"
   ]
  },
  {
   "cell_type": "code",
   "execution_count": 11,
   "metadata": {},
   "outputs": [],
   "source": [
    "df['Scores'] = df['Content'].apply(lambda content: sid.polarity_scores(content))"
   ]
  },
  {
   "cell_type": "code",
   "execution_count": 12,
   "metadata": {},
   "outputs": [
    {
     "data": {
      "text/html": [
       "<div>\n",
       "<style scoped>\n",
       "    .dataframe tbody tr th:only-of-type {\n",
       "        vertical-align: middle;\n",
       "    }\n",
       "\n",
       "    .dataframe tbody tr th {\n",
       "        vertical-align: top;\n",
       "    }\n",
       "\n",
       "    .dataframe thead th {\n",
       "        text-align: right;\n",
       "    }\n",
       "</style>\n",
       "<table border=\"1\" class=\"dataframe\">\n",
       "  <thead>\n",
       "    <tr style=\"text-align: right;\">\n",
       "      <th></th>\n",
       "      <th>Title</th>\n",
       "      <th>Date</th>\n",
       "      <th>Contributor</th>\n",
       "      <th>Content</th>\n",
       "      <th>Link</th>\n",
       "      <th>Scores</th>\n",
       "    </tr>\n",
       "  </thead>\n",
       "  <tbody>\n",
       "    <tr>\n",
       "      <th>0</th>\n",
       "      <td>Be a Part of Ambient Intelligence</td>\n",
       "      <td>2021-11-16</td>\n",
       "      <td>Bob Mars</td>\n",
       "      <td>Ambient intelligence is an environment where e...</td>\n",
       "      <td>https://developer.amazon.com/en-US/blogs/alexa...</td>\n",
       "      <td>{'neg': 0.017, 'neu': 0.86, 'pos': 0.123, 'com...</td>\n",
       "    </tr>\n",
       "    <tr>\n",
       "      <th>1</th>\n",
       "      <td>Launch of Smart Home Device Health Service</td>\n",
       "      <td>2021-11-08</td>\n",
       "      <td>Sharon Morrow</td>\n",
       "      <td>Do you want to use Smart Home technology to he...</td>\n",
       "      <td>https://developer.amazon.com/en-US/blogs/alexa...</td>\n",
       "      <td>{'neg': 0.0, 'neu': 0.787, 'pos': 0.213, 'comp...</td>\n",
       "    </tr>\n",
       "    <tr>\n",
       "      <th>2</th>\n",
       "      <td>Support for Matter over Thread coming to Echo ...</td>\n",
       "      <td>2021-11-03</td>\n",
       "      <td>Gabe Kassel</td>\n",
       "      <td>Today, we are excited to announce our support ...</td>\n",
       "      <td>https://developer.amazon.com/en-US/blogs/alexa...</td>\n",
       "      <td>{'neg': 0.0, 'neu': 0.81, 'pos': 0.19, 'compou...</td>\n",
       "    </tr>\n",
       "    <tr>\n",
       "      <th>3</th>\n",
       "      <td>Alexa is Coming to Hospitals and Senior Living...</td>\n",
       "      <td>2021-10-25</td>\n",
       "      <td>Shantanu Kurhekar</td>\n",
       "      <td>Today, we are excited to announce two new solu...</td>\n",
       "      <td>https://developer.amazon.com/en-US/blogs/alexa...</td>\n",
       "      <td>{'neg': 0.023, 'neu': 0.82, 'pos': 0.158, 'com...</td>\n",
       "    </tr>\n",
       "    <tr>\n",
       "      <th>4</th>\n",
       "      <td>Introducing the New Alexa Connect Kit SDK for ...</td>\n",
       "      <td>2021-10-20</td>\n",
       "      <td>Nithya Chandrasekaran</td>\n",
       "      <td>Today, we are excited to announce Alexa Connec...</td>\n",
       "      <td>https://developer.amazon.com/en-US/blogs/alexa...</td>\n",
       "      <td>{'neg': 0.013, 'neu': 0.833, 'pos': 0.154, 'co...</td>\n",
       "    </tr>\n",
       "    <tr>\n",
       "      <th>...</th>\n",
       "      <td>...</td>\n",
       "      <td>...</td>\n",
       "      <td>...</td>\n",
       "      <td>...</td>\n",
       "      <td>...</td>\n",
       "      <td>...</td>\n",
       "    </tr>\n",
       "    <tr>\n",
       "      <th>135</th>\n",
       "      <td>Sonos’ Karen Wickert: Proof That Testing Is Cr...</td>\n",
       "      <td>2018-03-07</td>\n",
       "      <td>Jennifer King</td>\n",
       "      <td>When Karen Wickert started their career as a m...</td>\n",
       "      <td>https://developer.amazon.com/en-US/blogs/alexa...</td>\n",
       "      <td>{'neg': 0.026, 'neu': 0.837, 'pos': 0.137, 'co...</td>\n",
       "    </tr>\n",
       "    <tr>\n",
       "      <th>136</th>\n",
       "      <td>Introducing the Amazon Alexa Premium Far-Field...</td>\n",
       "      <td>2018-01-05</td>\n",
       "      <td>Gagan Luthra</td>\n",
       "      <td>The Amazon Alexa Voice Service (AVS) makes it ...</td>\n",
       "      <td>https://developer.amazon.com/en-US/blogs/alexa...</td>\n",
       "      <td>{'neg': 0.008, 'neu': 0.879, 'pos': 0.113, 'co...</td>\n",
       "    </tr>\n",
       "    <tr>\n",
       "      <th>137</th>\n",
       "      <td>Amazon Alexa Mobile Accessories: A New Alexa-E...</td>\n",
       "      <td>2018-01-05</td>\n",
       "      <td>Gagan Luthra</td>\n",
       "      <td>Millions of customers around the world have in...</td>\n",
       "      <td>https://developer.amazon.com/en-US/blogs/alexa...</td>\n",
       "      <td>{'neg': 0.005, 'neu': 0.878, 'pos': 0.117, 'co...</td>\n",
       "    </tr>\n",
       "    <tr>\n",
       "      <th>138</th>\n",
       "      <td>How to Control Your Cooking Devices with the S...</td>\n",
       "      <td>2018-01-04</td>\n",
       "      <td>Mike Maas</td>\n",
       "      <td>Today we announced updates to the Smart Home S...</td>\n",
       "      <td>https://developer.amazon.com/en-US/blogs/alexa...</td>\n",
       "      <td>{'neg': 0.0, 'neu': 0.92, 'pos': 0.08, 'compou...</td>\n",
       "    </tr>\n",
       "    <tr>\n",
       "      <th>139</th>\n",
       "      <td>Introducing Cooking Capabilities in the Alexa ...</td>\n",
       "      <td>2018-01-04</td>\n",
       "      <td>Mike Maas</td>\n",
       "      <td>Customers have now connected tens of millions ...</td>\n",
       "      <td>https://developer.amazon.com/en-US/blogs/alexa...</td>\n",
       "      <td>{'neg': 0.005, 'neu': 0.815, 'pos': 0.18, 'com...</td>\n",
       "    </tr>\n",
       "  </tbody>\n",
       "</table>\n",
       "<p>140 rows × 6 columns</p>\n",
       "</div>"
      ],
      "text/plain": [
       "                                                 Title        Date  \\\n",
       "0                    Be a Part of Ambient Intelligence  2021-11-16   \n",
       "1           Launch of Smart Home Device Health Service  2021-11-08   \n",
       "2    Support for Matter over Thread coming to Echo ...  2021-11-03   \n",
       "3    Alexa is Coming to Hospitals and Senior Living...  2021-10-25   \n",
       "4    Introducing the New Alexa Connect Kit SDK for ...  2021-10-20   \n",
       "..                                                 ...         ...   \n",
       "135  Sonos’ Karen Wickert: Proof That Testing Is Cr...  2018-03-07   \n",
       "136  Introducing the Amazon Alexa Premium Far-Field...  2018-01-05   \n",
       "137  Amazon Alexa Mobile Accessories: A New Alexa-E...  2018-01-05   \n",
       "138  How to Control Your Cooking Devices with the S...  2018-01-04   \n",
       "139  Introducing Cooking Capabilities in the Alexa ...  2018-01-04   \n",
       "\n",
       "               Contributor                                            Content  \\\n",
       "0                 Bob Mars  Ambient intelligence is an environment where e...   \n",
       "1            Sharon Morrow  Do you want to use Smart Home technology to he...   \n",
       "2              Gabe Kassel  Today, we are excited to announce our support ...   \n",
       "3        Shantanu Kurhekar  Today, we are excited to announce two new solu...   \n",
       "4    Nithya Chandrasekaran  Today, we are excited to announce Alexa Connec...   \n",
       "..                     ...                                                ...   \n",
       "135          Jennifer King  When Karen Wickert started their career as a m...   \n",
       "136           Gagan Luthra  The Amazon Alexa Voice Service (AVS) makes it ...   \n",
       "137           Gagan Luthra  Millions of customers around the world have in...   \n",
       "138              Mike Maas  Today we announced updates to the Smart Home S...   \n",
       "139              Mike Maas  Customers have now connected tens of millions ...   \n",
       "\n",
       "                                                  Link  \\\n",
       "0    https://developer.amazon.com/en-US/blogs/alexa...   \n",
       "1    https://developer.amazon.com/en-US/blogs/alexa...   \n",
       "2    https://developer.amazon.com/en-US/blogs/alexa...   \n",
       "3    https://developer.amazon.com/en-US/blogs/alexa...   \n",
       "4    https://developer.amazon.com/en-US/blogs/alexa...   \n",
       "..                                                 ...   \n",
       "135  https://developer.amazon.com/en-US/blogs/alexa...   \n",
       "136  https://developer.amazon.com/en-US/blogs/alexa...   \n",
       "137  https://developer.amazon.com/en-US/blogs/alexa...   \n",
       "138  https://developer.amazon.com/en-US/blogs/alexa...   \n",
       "139  https://developer.amazon.com/en-US/blogs/alexa...   \n",
       "\n",
       "                                                Scores  \n",
       "0    {'neg': 0.017, 'neu': 0.86, 'pos': 0.123, 'com...  \n",
       "1    {'neg': 0.0, 'neu': 0.787, 'pos': 0.213, 'comp...  \n",
       "2    {'neg': 0.0, 'neu': 0.81, 'pos': 0.19, 'compou...  \n",
       "3    {'neg': 0.023, 'neu': 0.82, 'pos': 0.158, 'com...  \n",
       "4    {'neg': 0.013, 'neu': 0.833, 'pos': 0.154, 'co...  \n",
       "..                                                 ...  \n",
       "135  {'neg': 0.026, 'neu': 0.837, 'pos': 0.137, 'co...  \n",
       "136  {'neg': 0.008, 'neu': 0.879, 'pos': 0.113, 'co...  \n",
       "137  {'neg': 0.005, 'neu': 0.878, 'pos': 0.117, 'co...  \n",
       "138  {'neg': 0.0, 'neu': 0.92, 'pos': 0.08, 'compou...  \n",
       "139  {'neg': 0.005, 'neu': 0.815, 'pos': 0.18, 'com...  \n",
       "\n",
       "[140 rows x 6 columns]"
      ]
     },
     "execution_count": 12,
     "metadata": {},
     "output_type": "execute_result"
    }
   ],
   "source": [
    "df"
   ]
  },
  {
   "cell_type": "code",
   "execution_count": 13,
   "metadata": {},
   "outputs": [],
   "source": [
    "df['Compound'] = df['Scores'].apply(lambda d: d['compound'])"
   ]
  },
  {
   "cell_type": "code",
   "execution_count": 14,
   "metadata": {},
   "outputs": [],
   "source": [
    "df['Overall Score'] = df['Compound'].apply(lambda score: 'POS' if score >=0 else 'NEG')"
   ]
  },
  {
   "cell_type": "code",
   "execution_count": 15,
   "metadata": {},
   "outputs": [
    {
     "data": {
      "text/html": [
       "<div>\n",
       "<style scoped>\n",
       "    .dataframe tbody tr th:only-of-type {\n",
       "        vertical-align: middle;\n",
       "    }\n",
       "\n",
       "    .dataframe tbody tr th {\n",
       "        vertical-align: top;\n",
       "    }\n",
       "\n",
       "    .dataframe thead th {\n",
       "        text-align: right;\n",
       "    }\n",
       "</style>\n",
       "<table border=\"1\" class=\"dataframe\">\n",
       "  <thead>\n",
       "    <tr style=\"text-align: right;\">\n",
       "      <th></th>\n",
       "      <th>Title</th>\n",
       "      <th>Date</th>\n",
       "      <th>Contributor</th>\n",
       "      <th>Content</th>\n",
       "      <th>Link</th>\n",
       "      <th>Scores</th>\n",
       "      <th>Compound</th>\n",
       "      <th>Overall Score</th>\n",
       "    </tr>\n",
       "  </thead>\n",
       "  <tbody>\n",
       "  </tbody>\n",
       "</table>\n",
       "</div>"
      ],
      "text/plain": [
       "Empty DataFrame\n",
       "Columns: [Title, Date, Contributor, Content, Link, Scores, Compound, Overall Score]\n",
       "Index: []"
      ]
     },
     "execution_count": 15,
     "metadata": {},
     "output_type": "execute_result"
    }
   ],
   "source": [
    "df[df['Overall Score'] == 'NEG']"
   ]
  },
  {
   "cell_type": "code",
   "execution_count": 16,
   "metadata": {},
   "outputs": [],
   "source": [
    "from sklearn.feature_extraction.text import CountVectorizer"
   ]
  },
  {
   "cell_type": "code",
   "execution_count": 17,
   "metadata": {},
   "outputs": [],
   "source": [
    "cv = CountVectorizer(max_df=.9, min_df=.1, stop_words= 'english')"
   ]
  },
  {
   "cell_type": "code",
   "execution_count": 18,
   "metadata": {},
   "outputs": [],
   "source": [
    "dtm = cv.fit_transform(df['Content'])"
   ]
  },
  {
   "cell_type": "code",
   "execution_count": 19,
   "metadata": {},
   "outputs": [
    {
     "data": {
      "text/plain": [
       "<140x564 sparse matrix of type '<class 'numpy.int64'>'\n",
       "\twith 17168 stored elements in Compressed Sparse Row format>"
      ]
     },
     "execution_count": 19,
     "metadata": {},
     "output_type": "execute_result"
    }
   ],
   "source": [
    "dtm"
   ]
  },
  {
   "cell_type": "code",
   "execution_count": 20,
   "metadata": {},
   "outputs": [],
   "source": [
    "from sklearn.decomposition import LatentDirichletAllocation"
   ]
  },
  {
   "cell_type": "code",
   "execution_count": 21,
   "metadata": {},
   "outputs": [],
   "source": [
    "LDA = LatentDirichletAllocation(n_components=10)"
   ]
  },
  {
   "cell_type": "code",
   "execution_count": 22,
   "metadata": {},
   "outputs": [
    {
     "data": {
      "text/plain": [
       "LatentDirichletAllocation()"
      ]
     },
     "execution_count": 22,
     "metadata": {},
     "output_type": "execute_result"
    }
   ],
   "source": [
    "LDA.fit(dtm)"
   ]
  },
  {
   "cell_type": "code",
   "execution_count": 23,
   "metadata": {},
   "outputs": [
    {
     "data": {
      "text/plain": [
       "564"
      ]
     },
     "execution_count": 23,
     "metadata": {},
     "output_type": "execute_result"
    }
   ],
   "source": [
    "len(cv.get_feature_names_out()) #Mesmo tamanho do dtm, ou seja, são mil e poucas dimensoes (documentos) por 590 linhas"
   ]
  },
  {
   "cell_type": "code",
   "execution_count": 24,
   "metadata": {},
   "outputs": [
    {
     "data": {
      "text/plain": [
       "'consumer'"
      ]
     },
     "execution_count": 24,
     "metadata": {},
     "output_type": "execute_result"
    }
   ],
   "source": [
    "cv.get_feature_names_out()[100]"
   ]
  },
  {
   "cell_type": "code",
   "execution_count": 25,
   "metadata": {},
   "outputs": [
    {
     "data": {
      "text/plain": [
       "10"
      ]
     },
     "execution_count": 25,
     "metadata": {},
     "output_type": "execute_result"
    }
   ],
   "source": [
    "len(LDA.components_) #Retorna o numero de tópicos"
   ]
  },
  {
   "cell_type": "code",
   "execution_count": 26,
   "metadata": {},
   "outputs": [],
   "source": [
    "first_topic = LDA.components_[0]"
   ]
  },
  {
   "cell_type": "code",
   "execution_count": 27,
   "metadata": {},
   "outputs": [
    {
     "data": {
      "text/plain": [
       "numpy.ndarray"
      ]
     },
     "execution_count": 27,
     "metadata": {},
     "output_type": "execute_result"
    }
   ],
   "source": [
    "type(first_topic)"
   ]
  },
  {
   "cell_type": "code",
   "execution_count": 28,
   "metadata": {},
   "outputs": [
    {
     "data": {
      "text/plain": [
       "array([341, 362,  11, 470, 292, 318, 311, 500, 492, 340, 148, 257, 533,\n",
       "       116, 478, 406, 373, 202, 476, 433, 277, 479, 123, 440, 398, 208,\n",
       "        78,  66, 451, 532, 408, 536, 165, 170, 510, 422, 446, 210, 139,\n",
       "       501, 276, 140, 281, 293, 469, 194, 379, 449,  49, 334, 455, 227,\n",
       "       204, 153, 539, 188, 259, 338, 468,  91, 186, 121, 147, 336,  93,\n",
       "       297, 454, 358, 124, 212, 439, 385,  98, 438, 453, 161, 137, 489,\n",
       "       176, 405, 354,  42, 261, 196, 151,  94, 544,  58, 428, 128, 339,\n",
       "       459, 169, 391, 255,  21, 497, 301, 299, 262,  75, 189, 475, 486,\n",
       "       363, 427, 285, 112, 177, 230, 516, 289,  65,  22, 319, 226,  86,\n",
       "       229, 103,  70, 203,  43, 114, 396, 120,  18, 404,  50, 549, 294,\n",
       "       115, 367, 109,  85, 302, 483,  10, 395, 118, 526, 232, 144, 445,\n",
       "       412, 280, 149, 150,  74, 364, 563, 409, 548, 168, 321, 130, 327,\n",
       "       498, 560, 263, 480, 349, 213, 310, 256, 413, 352, 392, 273, 243,\n",
       "       271, 502, 267, 190, 278, 172, 342, 541, 239, 531, 493, 111,  88,\n",
       "       467, 518, 555, 134, 249, 490, 195, 317, 529, 473, 286, 142,   7,\n",
       "       523, 464, 520, 105,  87,  31, 250,  35, 199, 488, 223, 547, 237,\n",
       "       228, 126,  60, 540, 397,  79, 326, 350, 351, 558,  32, 211, 154,\n",
       "       365,  76, 443, 156,  25, 303,  69, 381, 474, 384,  48, 462, 231,\n",
       "       521, 133, 304, 466, 279, 528, 108, 331, 522, 357, 291, 472, 456,\n",
       "        73, 356, 343, 366, 551, 359, 368, 388, 122,   4, 269, 200, 288,\n",
       "       242,  71,   6,  84, 266,  82,  89, 553, 244, 390,   5, 214, 295,\n",
       "        39, 135, 163, 554, 332, 241, 233, 312, 184, 346, 355,  30, 296,\n",
       "         8, 178, 100, 166, 218,  45, 402, 386, 252, 387, 209,  17,  62,\n",
       "       220, 382, 207, 369, 290, 322, 562, 393, 272, 282, 417, 107, 206,\n",
       "       234,   2, 225, 246, 494, 102,  14, 138, 485, 360,  19, 265, 216,\n",
       "       260, 538,  13, 424, 429, 444,  52, 465, 198, 238,  36, 221, 437,\n",
       "       143, 361, 217, 162, 316,  38, 335, 167, 517, 222,  81, 106,  97,\n",
       "       247, 300, 423, 347, 129, 191, 284, 414, 450, 253, 394, 164,  23,\n",
       "        64,  72, 401,  80, 308, 309, 512, 463, 511, 519, 506, 323, 495,\n",
       "        33, 452, 505, 545, 436,  77, 254, 421, 415, 307, 435, 181, 187,\n",
       "       101, 380, 503, 420, 378, 131, 447, 315,  15,  90,  24,  53, 328,\n",
       "       372, 320, 471, 434, 525,  28, 183, 205, 333,   9, 411, 403, 344,\n",
       "        41,  96,  12, 145, 274, 557, 509, 329, 298,  92, 491,  57, 110,\n",
       "         1, 348, 157, 127, 245, 527, 370, 399, 353, 442, 219, 325,  55,\n",
       "       117,  27, 418,  56, 448, 141, 410,  20, 515, 215, 132, 477, 248,\n",
       "         0, 159, 550, 146, 180,  29, 201, 524, 556, 270, 313, 383, 192,\n",
       "       251, 371, 425, 179, 306, 389, 158, 481, 460, 400, 374,  51, 441,\n",
       "       197, 125, 504, 534, 268, 431, 546, 258, 185,  63, 507, 535, 499,\n",
       "        54,   3,  61,  95,  16, 193,  34, 416, 345, 461, 508,  47,  46,\n",
       "       152, 487, 171, 552, 496, 275, 314, 119, 324,  40, 426, 173, 419,\n",
       "       287, 160, 283,  37, 530, 182, 113,  68,  83, 377, 484, 482, 264,\n",
       "       235, 174, 330, 240, 559, 236,  59, 457,  26, 543, 407, 375, 155,\n",
       "        99, 104, 305,  44, 175,  67, 537, 514, 136, 376, 542, 224, 432,\n",
       "       337, 561, 513, 430, 458], dtype=int64)"
      ]
     },
     "execution_count": 28,
     "metadata": {},
     "output_type": "execute_result"
    }
   ],
   "source": [
    "first_topic.argsort() #retorna um array com o numero dos indices dos valores sorteados em ordem do menor pro maior\n",
    "\n",
    "#ex: [10, 200, 1] retornaria [2, 0, 1]"
   ]
  },
  {
   "cell_type": "code",
   "execution_count": 29,
   "metadata": {},
   "outputs": [],
   "source": [
    "top_ten = first_topic.argsort()[-10:]"
   ]
  },
  {
   "cell_type": "code",
   "execution_count": 30,
   "metadata": {},
   "outputs": [
    {
     "name": "stdout",
     "output_type": "stream",
     "text": [
      "devices\n",
      "products\n",
      "visual\n",
      "home\n",
      "sdk\n",
      "new\n",
      "wwa\n",
      "tv\n",
      "screen\n",
      "smart\n"
     ]
    }
   ],
   "source": [
    "for index in top_ten:\n",
    "    print(cv.get_feature_names_out()[index])"
   ]
  },
  {
   "cell_type": "code",
   "execution_count": 31,
   "metadata": {},
   "outputs": [],
   "source": [
    "import sys\n",
    "\n",
    "orig_stdout = sys.stdout\n",
    "f = open(\n",
    "    'df.txt', 'w'\n",
    ")\n",
    "sys.stdout = f\n",
    "\n",
    "\n",
    "for index, topic in enumerate(LDA.components_):\n",
    "    dataframe = pd.DataFrame(columns=[f'THE TOP 15 WORDS FOR TOPIC #{index}'], data=[cv.get_feature_names_out()[index] for index in topic.argsort()[-15:]])\n",
    "    print(dataframe)\n",
    "\n",
    "sys.stdout = orig_stdout\n",
    "f.close()"
   ]
  },
  {
   "cell_type": "code",
   "execution_count": 32,
   "metadata": {},
   "outputs": [
    {
     "data": {
      "text/html": [
       "<div>\n",
       "<style scoped>\n",
       "    .dataframe tbody tr th:only-of-type {\n",
       "        vertical-align: middle;\n",
       "    }\n",
       "\n",
       "    .dataframe tbody tr th {\n",
       "        vertical-align: top;\n",
       "    }\n",
       "\n",
       "    .dataframe thead th {\n",
       "        text-align: right;\n",
       "    }\n",
       "</style>\n",
       "<table border=\"1\" class=\"dataframe\">\n",
       "  <thead>\n",
       "    <tr style=\"text-align: right;\">\n",
       "      <th></th>\n",
       "      <th>THE TOP 15 WORDS FOR TOPIC #0</th>\n",
       "      <th>THE TOP 15 WORDS FOR TOPIC #1</th>\n",
       "      <th>THE TOP 15 WORDS FOR TOPIC #2</th>\n",
       "      <th>THE TOP 15 WORDS FOR TOPIC #3</th>\n",
       "      <th>THE TOP 15 WORDS FOR TOPIC #4</th>\n",
       "      <th>THE TOP 15 WORDS FOR TOPIC #5</th>\n",
       "      <th>THE TOP 15 WORDS FOR TOPIC #6</th>\n",
       "      <th>THE TOP 15 WORDS FOR TOPIC #7</th>\n",
       "      <th>THE TOP 15 WORDS FOR TOPIC #8</th>\n",
       "      <th>THE TOP 15 WORDS FOR TOPIC #9</th>\n",
       "    </tr>\n",
       "  </thead>\n",
       "  <tbody>\n",
       "    <tr>\n",
       "      <th>0</th>\n",
       "      <td>0                          based</td>\n",
       "      <td>0                          using</td>\n",
       "      <td>0                       building</td>\n",
       "      <td>0                      available</td>\n",
       "      <td>0                           says</td>\n",
       "      <td>0                    experiences</td>\n",
       "      <td>0                        network</td>\n",
       "      <td>0                            avs</td>\n",
       "      <td>0                        devices</td>\n",
       "      <td>0                         amazon</td>\n",
       "    </tr>\n",
       "    <tr>\n",
       "      <th>1</th>\n",
       "      <td>1                    experiences</td>\n",
       "      <td>1                        enabled</td>\n",
       "      <td>1                       customer</td>\n",
       "      <td>1                            app</td>\n",
       "      <td>1                        control</td>\n",
       "      <td>1                     interfaces</td>\n",
       "      <td>1                       products</td>\n",
       "      <td>1                          hands</td>\n",
       "      <td>1                          model</td>\n",
       "      <td>1                   capabilities</td>\n",
       "    </tr>\n",
       "    <tr>\n",
       "      <th>2</th>\n",
       "      <td>2                  certification</td>\n",
       "      <td>2                         access</td>\n",
       "      <td>2                       services</td>\n",
       "      <td>2                         skills</td>\n",
       "      <td>2                         report</td>\n",
       "      <td>2                         amazon</td>\n",
       "      <td>2                      bluetooth</td>\n",
       "      <td>2                            say</td>\n",
       "      <td>2                      discovery</td>\n",
       "      <td>2                            use</td>\n",
       "    </tr>\n",
       "    <tr>\n",
       "      <th>3</th>\n",
       "      <td>3                          video</td>\n",
       "      <td>3                          built</td>\n",
       "      <td>3                          skill</td>\n",
       "      <td>3                           soon</td>\n",
       "      <td>3                         lights</td>\n",
       "      <td>3                         create</td>\n",
       "      <td>3                           free</td>\n",
       "      <td>3                         access</td>\n",
       "      <td>3                      interface</td>\n",
       "      <td>3                          using</td>\n",
       "    </tr>\n",
       "    <tr>\n",
       "      <th>4</th>\n",
       "      <td>4                            tvs</td>\n",
       "      <td>4                    development</td>\n",
       "      <td>4                          built</td>\n",
       "      <td>4                          using</td>\n",
       "      <td>4                            api</td>\n",
       "      <td>4                      available</td>\n",
       "      <td>4                       customer</td>\n",
       "      <td>4                         amazon</td>\n",
       "      <td>4                        support</td>\n",
       "      <td>4                          cloud</td>\n",
       "    </tr>\n",
       "    <tr>\n",
       "      <th>5</th>\n",
       "      <td>5                        devices</td>\n",
       "      <td>5                            kit</td>\n",
       "      <td>5                          build</td>\n",
       "      <td>5                         amazon</td>\n",
       "      <td>5                           make</td>\n",
       "      <td>5                       security</td>\n",
       "      <td>5                      announced</td>\n",
       "      <td>5                           play</td>\n",
       "      <td>5                          using</td>\n",
       "      <td>5                           food</td>\n",
       "    </tr>\n",
       "    <tr>\n",
       "      <th>6</th>\n",
       "      <td>6                       products</td>\n",
       "      <td>6                            sdk</td>\n",
       "      <td>6                     experience</td>\n",
       "      <td>6                            api</td>\n",
       "      <td>6                          water</td>\n",
       "      <td>6                            app</td>\n",
       "      <td>6                             fi</td>\n",
       "      <td>6                          voice</td>\n",
       "      <td>6                           mode</td>\n",
       "      <td>6                           time</td>\n",
       "    </tr>\n",
       "    <tr>\n",
       "      <th>7</th>\n",
       "      <td>7                         visual</td>\n",
       "      <td>7                          voice</td>\n",
       "      <td>7                         amazon</td>\n",
       "      <td>7                         enable</td>\n",
       "      <td>7                       customer</td>\n",
       "      <td>7                           view</td>\n",
       "      <td>7                             wi</td>\n",
       "      <td>7                          local</td>\n",
       "      <td>7                         skills</td>\n",
       "      <td>7                    development</td>\n",
       "    </tr>\n",
       "    <tr>\n",
       "      <th>8</th>\n",
       "      <td>8                           home</td>\n",
       "      <td>8                            new</td>\n",
       "      <td>8                     developers</td>\n",
       "      <td>8                       customer</td>\n",
       "      <td>8                            use</td>\n",
       "      <td>8                       customer</td>\n",
       "      <td>8                         simple</td>\n",
       "      <td>8                        weather</td>\n",
       "      <td>8                            use</td>\n",
       "      <td>8                          smart</td>\n",
       "    </tr>\n",
       "    <tr>\n",
       "      <th>9</th>\n",
       "      <td>9                            sdk</td>\n",
       "      <td>9                         makers</td>\n",
       "      <td>9                     technology</td>\n",
       "      <td>9                            new</td>\n",
       "      <td>9                           mode</td>\n",
       "      <td>9                           live</td>\n",
       "      <td>9                         amazon</td>\n",
       "      <td>9                           just</td>\n",
       "      <td>9                            api</td>\n",
       "      <td>9                        connect</td>\n",
       "    </tr>\n",
       "    <tr>\n",
       "      <th>10</th>\n",
       "      <td>10                           new</td>\n",
       "      <td>10                       devices</td>\n",
       "      <td>10                           new</td>\n",
       "      <td>10                       devices</td>\n",
       "      <td>10                           new</td>\n",
       "      <td>10                          time</td>\n",
       "      <td>10                          home</td>\n",
       "      <td>10                         built</td>\n",
       "      <td>10                           new</td>\n",
       "      <td>10                           kit</td>\n",
       "    </tr>\n",
       "    <tr>\n",
       "      <th>11</th>\n",
       "      <td>11                           wwa</td>\n",
       "      <td>11                       product</td>\n",
       "      <td>11                   experiences</td>\n",
       "      <td>11                           use</td>\n",
       "      <td>11                          home</td>\n",
       "      <td>11                         build</td>\n",
       "      <td>11                           new</td>\n",
       "      <td>11                     including</td>\n",
       "      <td>11                        custom</td>\n",
       "      <td>11                       product</td>\n",
       "    </tr>\n",
       "    <tr>\n",
       "      <th>12</th>\n",
       "      <td>12                            tv</td>\n",
       "      <td>12                        amazon</td>\n",
       "      <td>12                       devices</td>\n",
       "      <td>12                         skill</td>\n",
       "      <td>12                        enable</td>\n",
       "      <td>12                       cameras</td>\n",
       "      <td>12                         setup</td>\n",
       "      <td>12                       devices</td>\n",
       "      <td>12                         smart</td>\n",
       "      <td>12                        module</td>\n",
       "    </tr>\n",
       "    <tr>\n",
       "      <th>13</th>\n",
       "      <td>13                        screen</td>\n",
       "      <td>13                      products</td>\n",
       "      <td>13                        skills</td>\n",
       "      <td>13                          home</td>\n",
       "      <td>13                         smart</td>\n",
       "      <td>13                        camera</td>\n",
       "      <td>13                         smart</td>\n",
       "      <td>13                          news</td>\n",
       "      <td>13                          home</td>\n",
       "      <td>13                       cooking</td>\n",
       "    </tr>\n",
       "    <tr>\n",
       "      <th>14</th>\n",
       "      <td>14                         smart</td>\n",
       "      <td>14                           avs</td>\n",
       "      <td>14                         voice</td>\n",
       "      <td>14                         smart</td>\n",
       "      <td>14                       devices</td>\n",
       "      <td>14                          echo</td>\n",
       "      <td>14                       devices</td>\n",
       "      <td>14                         music</td>\n",
       "      <td>14                         skill</td>\n",
       "      <td>14                           ack</td>\n",
       "    </tr>\n",
       "  </tbody>\n",
       "</table>\n",
       "</div>"
      ],
      "text/plain": [
       "0      THE TOP 15 WORDS FOR TOPIC #0     THE TOP 15 WORDS FOR TOPIC #1  \\\n",
       "0   0                          based  0                          using   \n",
       "1   1                    experiences  1                        enabled   \n",
       "2   2                  certification  2                         access   \n",
       "3   3                          video  3                          built   \n",
       "4   4                            tvs  4                    development   \n",
       "5   5                        devices  5                            kit   \n",
       "6   6                       products  6                            sdk   \n",
       "7   7                         visual  7                          voice   \n",
       "8   8                           home  8                            new   \n",
       "9   9                            sdk  9                         makers   \n",
       "10  10                           new  10                       devices   \n",
       "11  11                           wwa  11                       product   \n",
       "12  12                            tv  12                        amazon   \n",
       "13  13                        screen  13                      products   \n",
       "14  14                         smart  14                           avs   \n",
       "\n",
       "0      THE TOP 15 WORDS FOR TOPIC #2     THE TOP 15 WORDS FOR TOPIC #3  \\\n",
       "0   0                       building  0                      available   \n",
       "1   1                       customer  1                            app   \n",
       "2   2                       services  2                         skills   \n",
       "3   3                          skill  3                           soon   \n",
       "4   4                          built  4                          using   \n",
       "5   5                          build  5                         amazon   \n",
       "6   6                     experience  6                            api   \n",
       "7   7                         amazon  7                         enable   \n",
       "8   8                     developers  8                       customer   \n",
       "9   9                     technology  9                            new   \n",
       "10  10                           new  10                       devices   \n",
       "11  11                   experiences  11                           use   \n",
       "12  12                       devices  12                         skill   \n",
       "13  13                        skills  13                          home   \n",
       "14  14                         voice  14                         smart   \n",
       "\n",
       "0      THE TOP 15 WORDS FOR TOPIC #4     THE TOP 15 WORDS FOR TOPIC #5  \\\n",
       "0   0                           says  0                    experiences   \n",
       "1   1                        control  1                     interfaces   \n",
       "2   2                         report  2                         amazon   \n",
       "3   3                         lights  3                         create   \n",
       "4   4                            api  4                      available   \n",
       "5   5                           make  5                       security   \n",
       "6   6                          water  6                            app   \n",
       "7   7                       customer  7                           view   \n",
       "8   8                            use  8                       customer   \n",
       "9   9                           mode  9                           live   \n",
       "10  10                           new  10                          time   \n",
       "11  11                          home  11                         build   \n",
       "12  12                        enable  12                       cameras   \n",
       "13  13                         smart  13                        camera   \n",
       "14  14                       devices  14                          echo   \n",
       "\n",
       "0      THE TOP 15 WORDS FOR TOPIC #6     THE TOP 15 WORDS FOR TOPIC #7  \\\n",
       "0   0                        network  0                            avs   \n",
       "1   1                       products  1                          hands   \n",
       "2   2                      bluetooth  2                            say   \n",
       "3   3                           free  3                         access   \n",
       "4   4                       customer  4                         amazon   \n",
       "5   5                      announced  5                           play   \n",
       "6   6                             fi  6                          voice   \n",
       "7   7                             wi  7                          local   \n",
       "8   8                         simple  8                        weather   \n",
       "9   9                         amazon  9                           just   \n",
       "10  10                          home  10                         built   \n",
       "11  11                           new  11                     including   \n",
       "12  12                         setup  12                       devices   \n",
       "13  13                         smart  13                          news   \n",
       "14  14                       devices  14                         music   \n",
       "\n",
       "0      THE TOP 15 WORDS FOR TOPIC #8     THE TOP 15 WORDS FOR TOPIC #9  \n",
       "0   0                        devices  0                         amazon  \n",
       "1   1                          model  1                   capabilities  \n",
       "2   2                      discovery  2                            use  \n",
       "3   3                      interface  3                          using  \n",
       "4   4                        support  4                          cloud  \n",
       "5   5                          using  5                           food  \n",
       "6   6                           mode  6                           time  \n",
       "7   7                         skills  7                    development  \n",
       "8   8                            use  8                          smart  \n",
       "9   9                            api  9                        connect  \n",
       "10  10                           new  10                           kit  \n",
       "11  11                        custom  11                       product  \n",
       "12  12                         smart  12                        module  \n",
       "13  13                          home  13                       cooking  \n",
       "14  14                         skill  14                           ack  "
      ]
     },
     "execution_count": 32,
     "metadata": {},
     "output_type": "execute_result"
    }
   ],
   "source": [
    "df2 = pd.read_table('df.txt', header=None)\n",
    "import numpy as np\n",
    "arr = np.array(df2)\n",
    "dataframe = pd.DataFrame(arr.reshape((10, 16))).T\n",
    "headers = dataframe.iloc[0]\n",
    "new_df = pd.DataFrame(data=dataframe.values[1:], columns=headers)\n",
    "new_df"
   ]
  },
  {
   "cell_type": "code",
   "execution_count": 33,
   "metadata": {},
   "outputs": [],
   "source": [
    "topic_results = LDA.transform(dtm)"
   ]
  },
  {
   "cell_type": "code",
   "execution_count": 34,
   "metadata": {},
   "outputs": [
    {
     "data": {
      "text/plain": [
       "2"
      ]
     },
     "execution_count": 34,
     "metadata": {},
     "output_type": "execute_result"
    }
   ],
   "source": [
    "topic_results[0].argmax()"
   ]
  },
  {
   "cell_type": "code",
   "execution_count": 35,
   "metadata": {},
   "outputs": [],
   "source": [
    "df['Topic'] = topic_results.argmax(axis=1)"
   ]
  },
  {
   "cell_type": "code",
   "execution_count": 40,
   "metadata": {},
   "outputs": [],
   "source": [
    "positive = df[df['Overall Score'] == 'POS']\n",
    "positive.reset_index(drop=True, inplace=True)\n",
    "negative = df[df['Overall Score'] == 'NEG']\n",
    "negative.reset_index(drop=True, inplace=True)\n",
    "analytics = df.groupby('Contributor').count().sort_values(by='Title', ascending=False)\n",
    "analytics.to_excel('amazon_alytics.xlsx')\n",
    "df.to_excel('amazon_final.xlsx', index=False)\n",
    "positive.to_excel('amazon_positive_articles.xlsx', index=False)\n",
    "negative.to_excel('amazon_negative_articles.xlsx', index=False)\n",
    "new_df.to_excel('amazon_topic.xlsx', index=False)"
   ]
  }
 ],
 "metadata": {
  "interpreter": {
   "hash": "85ea59b576b4d42e5b007ccfc29f7533bd412890d47039184691991a9b14feb4"
  },
  "kernelspec": {
   "display_name": "Python 3.8.12 64-bit ('base': conda)",
   "language": "python",
   "name": "python3"
  },
  "language_info": {
   "codemirror_mode": {
    "name": "ipython",
    "version": 3
   },
   "file_extension": ".py",
   "mimetype": "text/x-python",
   "name": "python",
   "nbconvert_exporter": "python",
   "pygments_lexer": "ipython3",
   "version": "3.8.12"
  },
  "orig_nbformat": 4
 },
 "nbformat": 4,
 "nbformat_minor": 2
}
