{
 "cells": [
  {
   "cell_type": "markdown",
   "id": "b9506147",
   "metadata": {},
   "source": [
    "## ANOVA (Análise de Variância):"
   ]
  },
  {
   "cell_type": "markdown",
   "id": "697f3544",
   "metadata": {},
   "source": [
    "**Sobre ANOVA:** Faz uma análise de variância de grupos em relação a média, mostrando o quão significativo o resultado é"
   ]
  },
  {
   "cell_type": "markdown",
   "id": "f4daa941",
   "metadata": {},
   "source": [
    "**Testando as hipóteses:**\n",
    "\n",
    "**H0:** Não há diferença significativa\n",
    "\n",
    "**H1:** Há diferença significativa"
   ]
  },
  {
   "cell_type": "code",
   "execution_count": 1,
   "id": "c3ab69e7",
   "metadata": {},
   "outputs": [],
   "source": [
    "import pandas as pd\n",
    "import numpy as np\n",
    "import scipy\n",
    "from scipy import stats\n",
    "from scipy.stats import norm"
   ]
  },
  {
   "cell_type": "code",
   "execution_count": 2,
   "id": "8333f04c",
   "metadata": {},
   "outputs": [],
   "source": [
    "arr = norm.rvs(loc=50, scale=10, size=100)\n",
    "arr2 = norm.rvs(loc=90, scale=20, size=100)\n",
    "arr3 = norm.rvs(loc=10, scale=3, size=100)\n",
    "array = np.concatenate([arr, arr2, arr3]).reshape((50, 6))"
   ]
  },
  {
   "cell_type": "code",
   "execution_count": 3,
   "id": "75d4ac62",
   "metadata": {},
   "outputs": [
    {
     "data": {
      "text/html": [
       "<div>\n",
       "<style scoped>\n",
       "    .dataframe tbody tr th:only-of-type {\n",
       "        vertical-align: middle;\n",
       "    }\n",
       "\n",
       "    .dataframe tbody tr th {\n",
       "        vertical-align: top;\n",
       "    }\n",
       "\n",
       "    .dataframe thead th {\n",
       "        text-align: right;\n",
       "    }\n",
       "</style>\n",
       "<table border=\"1\" class=\"dataframe\">\n",
       "  <thead>\n",
       "    <tr style=\"text-align: right;\">\n",
       "      <th></th>\n",
       "      <th>Primeira</th>\n",
       "      <th>Segunda</th>\n",
       "      <th>Terceira</th>\n",
       "      <th>Quarta</th>\n",
       "      <th>Quinta</th>\n",
       "      <th>Sexta</th>\n",
       "    </tr>\n",
       "  </thead>\n",
       "  <tbody>\n",
       "    <tr>\n",
       "      <th>count</th>\n",
       "      <td>50.000000</td>\n",
       "      <td>50.000000</td>\n",
       "      <td>50.000000</td>\n",
       "      <td>50.000000</td>\n",
       "      <td>50.000000</td>\n",
       "      <td>50.000000</td>\n",
       "    </tr>\n",
       "    <tr>\n",
       "      <th>mean</th>\n",
       "      <td>46.395307</td>\n",
       "      <td>51.648727</td>\n",
       "      <td>46.199946</td>\n",
       "      <td>49.121744</td>\n",
       "      <td>52.440201</td>\n",
       "      <td>52.726342</td>\n",
       "    </tr>\n",
       "    <tr>\n",
       "      <th>std</th>\n",
       "      <td>34.561018</td>\n",
       "      <td>35.217587</td>\n",
       "      <td>34.449901</td>\n",
       "      <td>35.508069</td>\n",
       "      <td>36.273215</td>\n",
       "      <td>39.580676</td>\n",
       "    </tr>\n",
       "    <tr>\n",
       "      <th>min</th>\n",
       "      <td>1.830323</td>\n",
       "      <td>4.686267</td>\n",
       "      <td>4.641915</td>\n",
       "      <td>4.087347</td>\n",
       "      <td>2.809909</td>\n",
       "      <td>3.630232</td>\n",
       "    </tr>\n",
       "    <tr>\n",
       "      <th>25%</th>\n",
       "      <td>10.562868</td>\n",
       "      <td>13.420772</td>\n",
       "      <td>12.034654</td>\n",
       "      <td>11.318079</td>\n",
       "      <td>12.451734</td>\n",
       "      <td>12.190266</td>\n",
       "    </tr>\n",
       "    <tr>\n",
       "      <th>50%</th>\n",
       "      <td>44.984819</td>\n",
       "      <td>57.746808</td>\n",
       "      <td>41.729750</td>\n",
       "      <td>46.514669</td>\n",
       "      <td>54.250371</td>\n",
       "      <td>49.136307</td>\n",
       "    </tr>\n",
       "    <tr>\n",
       "      <th>75%</th>\n",
       "      <td>62.023309</td>\n",
       "      <td>75.782230</td>\n",
       "      <td>70.471387</td>\n",
       "      <td>78.344300</td>\n",
       "      <td>79.726925</td>\n",
       "      <td>88.627604</td>\n",
       "    </tr>\n",
       "    <tr>\n",
       "      <th>max</th>\n",
       "      <td>116.282529</td>\n",
       "      <td>133.585723</td>\n",
       "      <td>130.501738</td>\n",
       "      <td>118.474785</td>\n",
       "      <td>128.028279</td>\n",
       "      <td>127.597174</td>\n",
       "    </tr>\n",
       "  </tbody>\n",
       "</table>\n",
       "</div>"
      ],
      "text/plain": [
       "         Primeira     Segunda    Terceira      Quarta      Quinta       Sexta\n",
       "count   50.000000   50.000000   50.000000   50.000000   50.000000   50.000000\n",
       "mean    46.395307   51.648727   46.199946   49.121744   52.440201   52.726342\n",
       "std     34.561018   35.217587   34.449901   35.508069   36.273215   39.580676\n",
       "min      1.830323    4.686267    4.641915    4.087347    2.809909    3.630232\n",
       "25%     10.562868   13.420772   12.034654   11.318079   12.451734   12.190266\n",
       "50%     44.984819   57.746808   41.729750   46.514669   54.250371   49.136307\n",
       "75%     62.023309   75.782230   70.471387   78.344300   79.726925   88.627604\n",
       "max    116.282529  133.585723  130.501738  118.474785  128.028279  127.597174"
      ]
     },
     "execution_count": 3,
     "metadata": {},
     "output_type": "execute_result"
    }
   ],
   "source": [
    "df = pd.DataFrame(array, columns=['Primeira', 'Segunda', 'Terceira', 'Quarta', 'Quinta', 'Sexta'])\n",
    "df.describe()"
   ]
  },
  {
   "cell_type": "code",
   "execution_count": 13,
   "id": "539116a9",
   "metadata": {},
   "outputs": [
    {
     "data": {
      "text/html": [
       "<div>\n",
       "<style scoped>\n",
       "    .dataframe tbody tr th:only-of-type {\n",
       "        vertical-align: middle;\n",
       "    }\n",
       "\n",
       "    .dataframe tbody tr th {\n",
       "        vertical-align: top;\n",
       "    }\n",
       "\n",
       "    .dataframe thead th {\n",
       "        text-align: right;\n",
       "    }\n",
       "</style>\n",
       "<table border=\"1\" class=\"dataframe\">\n",
       "  <thead>\n",
       "    <tr style=\"text-align: right;\">\n",
       "      <th></th>\n",
       "      <th>Primeira</th>\n",
       "      <th>Segunda</th>\n",
       "      <th>Terceira</th>\n",
       "      <th>Quarta</th>\n",
       "      <th>Quinta</th>\n",
       "      <th>Sexta</th>\n",
       "      <th>Setima</th>\n",
       "      <th>Oitava</th>\n",
       "      <th>Nona</th>\n",
       "    </tr>\n",
       "  </thead>\n",
       "  <tbody>\n",
       "    <tr>\n",
       "      <th>0</th>\n",
       "      <td>52.512120</td>\n",
       "      <td>60.206968</td>\n",
       "      <td>45.784072</td>\n",
       "      <td>37.940408</td>\n",
       "      <td>54.590326</td>\n",
       "      <td>54.698882</td>\n",
       "      <td>False</td>\n",
       "      <td>True</td>\n",
       "      <td>False</td>\n",
       "    </tr>\n",
       "    <tr>\n",
       "      <th>1</th>\n",
       "      <td>44.805195</td>\n",
       "      <td>52.713150</td>\n",
       "      <td>34.084662</td>\n",
       "      <td>44.137193</td>\n",
       "      <td>50.766581</td>\n",
       "      <td>47.286531</td>\n",
       "      <td>False</td>\n",
       "      <td>False</td>\n",
       "      <td>True</td>\n",
       "    </tr>\n",
       "    <tr>\n",
       "      <th>2</th>\n",
       "      <td>54.364414</td>\n",
       "      <td>58.365638</td>\n",
       "      <td>45.256344</td>\n",
       "      <td>63.313190</td>\n",
       "      <td>43.198056</td>\n",
       "      <td>57.562589</td>\n",
       "      <td>False</td>\n",
       "      <td>True</td>\n",
       "      <td>False</td>\n",
       "    </tr>\n",
       "    <tr>\n",
       "      <th>3</th>\n",
       "      <td>46.991780</td>\n",
       "      <td>60.109712</td>\n",
       "      <td>54.165680</td>\n",
       "      <td>45.448508</td>\n",
       "      <td>55.906576</td>\n",
       "      <td>45.498109</td>\n",
       "      <td>False</td>\n",
       "      <td>False</td>\n",
       "      <td>True</td>\n",
       "    </tr>\n",
       "    <tr>\n",
       "      <th>4</th>\n",
       "      <td>64.354189</td>\n",
       "      <td>69.358671</td>\n",
       "      <td>38.163884</td>\n",
       "      <td>63.097947</td>\n",
       "      <td>42.725051</td>\n",
       "      <td>53.524617</td>\n",
       "      <td>False</td>\n",
       "      <td>True</td>\n",
       "      <td>False</td>\n",
       "    </tr>\n",
       "  </tbody>\n",
       "</table>\n",
       "</div>"
      ],
      "text/plain": [
       "    Primeira    Segunda   Terceira     Quarta     Quinta      Sexta  Setima  \\\n",
       "0  52.512120  60.206968  45.784072  37.940408  54.590326  54.698882   False   \n",
       "1  44.805195  52.713150  34.084662  44.137193  50.766581  47.286531   False   \n",
       "2  54.364414  58.365638  45.256344  63.313190  43.198056  57.562589   False   \n",
       "3  46.991780  60.109712  54.165680  45.448508  55.906576  45.498109   False   \n",
       "4  64.354189  69.358671  38.163884  63.097947  42.725051  53.524617   False   \n",
       "\n",
       "   Oitava   Nona  \n",
       "0    True  False  \n",
       "1   False   True  \n",
       "2    True  False  \n",
       "3   False   True  \n",
       "4    True  False  "
      ]
     },
     "execution_count": 13,
     "metadata": {},
     "output_type": "execute_result"
    }
   ],
   "source": [
    "df['Setima'] = df['Segunda'].values < 50\n",
    "df['Nona'] = df['Oitava'] == df['Setima']\n",
    "df.head()"
   ]
  },
  {
   "cell_type": "code",
   "execution_count": 14,
   "id": "aeba9e60",
   "metadata": {},
   "outputs": [
    {
     "data": {
      "text/html": [
       "<div>\n",
       "<style scoped>\n",
       "    .dataframe tbody tr th:only-of-type {\n",
       "        vertical-align: middle;\n",
       "    }\n",
       "\n",
       "    .dataframe tbody tr th {\n",
       "        vertical-align: top;\n",
       "    }\n",
       "\n",
       "    .dataframe thead th {\n",
       "        text-align: right;\n",
       "    }\n",
       "</style>\n",
       "<table border=\"1\" class=\"dataframe\">\n",
       "  <thead>\n",
       "    <tr style=\"text-align: right;\">\n",
       "      <th></th>\n",
       "      <th>Primeira</th>\n",
       "      <th>Segunda</th>\n",
       "      <th>Terceira</th>\n",
       "      <th>Quarta</th>\n",
       "      <th>Quinta</th>\n",
       "      <th>Sexta</th>\n",
       "      <th>Setima</th>\n",
       "      <th>Oitava</th>\n",
       "      <th>Nona</th>\n",
       "    </tr>\n",
       "  </thead>\n",
       "  <tbody>\n",
       "    <tr>\n",
       "      <th>0</th>\n",
       "      <td>52.512120</td>\n",
       "      <td>60.206968</td>\n",
       "      <td>45.784072</td>\n",
       "      <td>37.940408</td>\n",
       "      <td>54.590326</td>\n",
       "      <td>54.698882</td>\n",
       "      <td>False</td>\n",
       "      <td>True</td>\n",
       "      <td>False</td>\n",
       "    </tr>\n",
       "    <tr>\n",
       "      <th>1</th>\n",
       "      <td>44.805195</td>\n",
       "      <td>52.713150</td>\n",
       "      <td>34.084662</td>\n",
       "      <td>44.137193</td>\n",
       "      <td>50.766581</td>\n",
       "      <td>47.286531</td>\n",
       "      <td>False</td>\n",
       "      <td>False</td>\n",
       "      <td>True</td>\n",
       "    </tr>\n",
       "    <tr>\n",
       "      <th>2</th>\n",
       "      <td>54.364414</td>\n",
       "      <td>58.365638</td>\n",
       "      <td>45.256344</td>\n",
       "      <td>63.313190</td>\n",
       "      <td>43.198056</td>\n",
       "      <td>57.562589</td>\n",
       "      <td>False</td>\n",
       "      <td>True</td>\n",
       "      <td>False</td>\n",
       "    </tr>\n",
       "    <tr>\n",
       "      <th>3</th>\n",
       "      <td>46.991780</td>\n",
       "      <td>60.109712</td>\n",
       "      <td>54.165680</td>\n",
       "      <td>45.448508</td>\n",
       "      <td>55.906576</td>\n",
       "      <td>45.498109</td>\n",
       "      <td>False</td>\n",
       "      <td>False</td>\n",
       "      <td>True</td>\n",
       "    </tr>\n",
       "    <tr>\n",
       "      <th>4</th>\n",
       "      <td>64.354189</td>\n",
       "      <td>69.358671</td>\n",
       "      <td>38.163884</td>\n",
       "      <td>63.097947</td>\n",
       "      <td>42.725051</td>\n",
       "      <td>53.524617</td>\n",
       "      <td>False</td>\n",
       "      <td>True</td>\n",
       "      <td>False</td>\n",
       "    </tr>\n",
       "  </tbody>\n",
       "</table>\n",
       "</div>"
      ],
      "text/plain": [
       "    Primeira    Segunda   Terceira     Quarta     Quinta      Sexta  Setima  \\\n",
       "0  52.512120  60.206968  45.784072  37.940408  54.590326  54.698882   False   \n",
       "1  44.805195  52.713150  34.084662  44.137193  50.766581  47.286531   False   \n",
       "2  54.364414  58.365638  45.256344  63.313190  43.198056  57.562589   False   \n",
       "3  46.991780  60.109712  54.165680  45.448508  55.906576  45.498109   False   \n",
       "4  64.354189  69.358671  38.163884  63.097947  42.725051  53.524617   False   \n",
       "\n",
       "   Oitava   Nona  \n",
       "0    True  False  \n",
       "1   False   True  \n",
       "2    True  False  \n",
       "3   False   True  \n",
       "4    True  False  "
      ]
     },
     "execution_count": 14,
     "metadata": {},
     "output_type": "execute_result"
    }
   ],
   "source": [
    "df['Oitava'] = df['Primeira'].values >50\n",
    "df.head()"
   ]
  },
  {
   "cell_type": "code",
   "execution_count": 15,
   "id": "0851b25c",
   "metadata": {
    "scrolled": true
   },
   "outputs": [
    {
     "data": {
      "text/plain": [
       "<AxesSubplot:>"
      ]
     },
     "execution_count": 15,
     "metadata": {},
     "output_type": "execute_result"
    },
    {
     "data": {
      "image/png": "[encoded data removed]",
      "text/plain": [
       "<Figure size 432x288 with 1 Axes>"
      ]
     },
     "metadata": {
      "needs_background": "light"
     },
     "output_type": "display_data"
    }
   ],
   "source": [
    "df.boxplot()"
   ]
  },
  {
   "cell_type": "markdown",
   "id": "215aa6c3",
   "metadata": {},
   "source": [
    "## **Two-way Anova:**"
   ]
  },
  {
   "cell_type": "markdown",
   "id": "6e7b7a02",
   "metadata": {},
   "source": [
    "**Sobre o two-way Anova:** Uma variável numérica X mais x variáveis categóricas ou booleanas"
   ]
  },
  {
   "cell_type": "code",
   "execution_count": 7,
   "id": "d9b96b4e",
   "metadata": {},
   "outputs": [],
   "source": [
    "import statsmodels.api as sm\n",
    "from statsmodels.formula.api import ols\n",
    "from statsmodels.stats.multicomp import MultiComparison"
   ]
  },
  {
   "cell_type": "code",
   "execution_count": 19,
   "id": "54aec84f",
   "metadata": {
    "scrolled": true
   },
   "outputs": [
    {
     "data": {
      "text/html": [
       "<div>\n",
       "<style scoped>\n",
       "    .dataframe tbody tr th:only-of-type {\n",
       "        vertical-align: middle;\n",
       "    }\n",
       "\n",
       "    .dataframe tbody tr th {\n",
       "        vertical-align: top;\n",
       "    }\n",
       "\n",
       "    .dataframe thead th {\n",
       "        text-align: right;\n",
       "    }\n",
       "</style>\n",
       "<table border=\"1\" class=\"dataframe\">\n",
       "  <thead>\n",
       "    <tr style=\"text-align: right;\">\n",
       "      <th></th>\n",
       "      <th>df</th>\n",
       "      <th>sum_sq</th>\n",
       "      <th>mean_sq</th>\n",
       "      <th>F</th>\n",
       "      <th>PR(&gt;F)</th>\n",
       "    </tr>\n",
       "  </thead>\n",
       "  <tbody>\n",
       "    <tr>\n",
       "      <th>Setima</th>\n",
       "      <td>1.0</td>\n",
       "      <td>26652.637045</td>\n",
       "      <td>26652.637045</td>\n",
       "      <td>84.005364</td>\n",
       "      <td>6.032852e-12</td>\n",
       "    </tr>\n",
       "    <tr>\n",
       "      <th>Oitava</th>\n",
       "      <td>1.0</td>\n",
       "      <td>16276.709174</td>\n",
       "      <td>16276.709174</td>\n",
       "      <td>51.301899</td>\n",
       "      <td>5.200625e-09</td>\n",
       "    </tr>\n",
       "    <tr>\n",
       "      <th>Nona</th>\n",
       "      <td>1.0</td>\n",
       "      <td>1004.827119</td>\n",
       "      <td>1004.827119</td>\n",
       "      <td>3.167074</td>\n",
       "      <td>8.174388e-02</td>\n",
       "    </tr>\n",
       "    <tr>\n",
       "      <th>Setima:Oitava</th>\n",
       "      <td>1.0</td>\n",
       "      <td>46.560652</td>\n",
       "      <td>46.560652</td>\n",
       "      <td>0.146753</td>\n",
       "      <td>7.034228e-01</td>\n",
       "    </tr>\n",
       "    <tr>\n",
       "      <th>Setima:Nona</th>\n",
       "      <td>1.0</td>\n",
       "      <td>111.734142</td>\n",
       "      <td>111.734142</td>\n",
       "      <td>0.352170</td>\n",
       "      <td>5.557940e-01</td>\n",
       "    </tr>\n",
       "    <tr>\n",
       "      <th>Oitava:Nona</th>\n",
       "      <td>1.0</td>\n",
       "      <td>14.521889</td>\n",
       "      <td>14.521889</td>\n",
       "      <td>0.045771</td>\n",
       "      <td>8.315382e-01</td>\n",
       "    </tr>\n",
       "    <tr>\n",
       "      <th>Setima:Oitava:Nona</th>\n",
       "      <td>1.0</td>\n",
       "      <td>449.250781</td>\n",
       "      <td>449.250781</td>\n",
       "      <td>1.415975</td>\n",
       "      <td>2.401724e-01</td>\n",
       "    </tr>\n",
       "    <tr>\n",
       "      <th>Residual</th>\n",
       "      <td>46.0</td>\n",
       "      <td>14594.559696</td>\n",
       "      <td>317.273037</td>\n",
       "      <td>NaN</td>\n",
       "      <td>NaN</td>\n",
       "    </tr>\n",
       "  </tbody>\n",
       "</table>\n",
       "</div>"
      ],
      "text/plain": [
       "                      df        sum_sq       mean_sq          F        PR(>F)\n",
       "Setima               1.0  26652.637045  26652.637045  84.005364  6.032852e-12\n",
       "Oitava               1.0  16276.709174  16276.709174  51.301899  5.200625e-09\n",
       "Nona                 1.0   1004.827119   1004.827119   3.167074  8.174388e-02\n",
       "Setima:Oitava        1.0     46.560652     46.560652   0.146753  7.034228e-01\n",
       "Setima:Nona          1.0    111.734142    111.734142   0.352170  5.557940e-01\n",
       "Oitava:Nona          1.0     14.521889     14.521889   0.045771  8.315382e-01\n",
       "Setima:Oitava:Nona   1.0    449.250781    449.250781   1.415975  2.401724e-01\n",
       "Residual            46.0  14594.559696    317.273037        NaN           NaN"
      ]
     },
     "execution_count": 19,
     "metadata": {},
     "output_type": "execute_result"
    }
   ],
   "source": [
    "model = ols('Primeira ~ Setima*Oitava*Nona', data = df).fit()\n",
    "resultados2 = sm.stats.anova_lm(model)\n",
    "resultados2"
   ]
  },
  {
   "cell_type": "markdown",
   "id": "2655f777",
   "metadata": {},
   "source": [
    "## One-way Anova:"
   ]
  },
  {
   "cell_type": "markdown",
   "id": "acdcb137",
   "metadata": {},
   "source": [
    "**Sobre o one-way Anova:** O número X de variáveis numéricas tem que ser igual ao número de Y variáveis categóricas ou booleanas"
   ]
  },
  {
   "cell_type": "code",
   "execution_count": 9,
   "id": "b7b5b7e1",
   "metadata": {},
   "outputs": [],
   "source": [
    "from scipy.stats import f_oneway"
   ]
  },
  {
   "cell_type": "code",
   "execution_count": 56,
   "id": "8927f304",
   "metadata": {},
   "outputs": [],
   "source": [
    "F, p = f_oneway(df[['Primeira', 'Segunda', 'Terceira']], df[['Oitava', 'Setima', 'Nona']])"
   ]
  },
  {
   "cell_type": "code",
   "execution_count": 57,
   "id": "a9b769ae",
   "metadata": {},
   "outputs": [
    {
     "data": {
      "text/plain": [
       "array([2.31584660e-15, 2.97767782e-17, 2.06110569e-15])"
      ]
     },
     "execution_count": 57,
     "metadata": {},
     "output_type": "execute_result"
    }
   ],
   "source": [
    "p"
   ]
  },
  {
   "cell_type": "code",
   "execution_count": 58,
   "id": "2d73e1a0",
   "metadata": {},
   "outputs": [
    {
     "data": {
      "text/plain": [
       "array([ 88.5390742 , 105.69409572,  88.97847467])"
      ]
     },
     "execution_count": 58,
     "metadata": {},
     "output_type": "execute_result"
    }
   ],
   "source": [
    "F"
   ]
  },
  {
   "cell_type": "markdown",
   "id": "5f088b8c",
   "metadata": {},
   "source": [
    "**Se p-valor(significância) >0.05:** Rejeita a hipótese nula. Do contrário rejeita a hipótese alternativa"
   ]
  },
  {
   "cell_type": "markdown",
   "id": "85a1dfb9",
   "metadata": {},
   "source": [
    "## Teste de Tukey:"
   ]
  },
  {
   "cell_type": "markdown",
   "id": "5115e282",
   "metadata": {},
   "source": [
    "**Sobre o teste:** Fala qual variável rejeitou ou não o teste de hipótese"
   ]
  },
  {
   "cell_type": "code",
   "execution_count": 72,
   "id": "1d725dd6",
   "metadata": {},
   "outputs": [],
   "source": [
    "mc = MultiComparison(df['Primeira'], df['Setima'])"
   ]
  },
  {
   "cell_type": "code",
   "execution_count": 73,
   "id": "e1e27d2e",
   "metadata": {},
   "outputs": [],
   "source": [
    "result = mc.tukeyhsd(alpha=0.01)"
   ]
  },
  {
   "cell_type": "code",
   "execution_count": 69,
   "id": "44e5fef1",
   "metadata": {},
   "outputs": [
    {
     "name": "stdout",
     "output_type": "stream",
     "text": [
      " Multiple Comparison of Means - Tukey HSD, FWER=0.01 \n",
      "=====================================================\n",
      "group1 group2 meandiff p-adj  lower    upper   reject\n",
      "-----------------------------------------------------\n",
      " False   True  -46.512 0.001 -66.2044 -26.8196   True\n",
      "-----------------------------------------------------\n"
     ]
    }
   ],
   "source": [
    "print(result)"
   ]
  }
 ],
 "metadata": {
  "kernelspec": {
   "display_name": "Python 3 (ipykernel)",
   "language": "python",
   "name": "python3"
  },
  "language_info": {
   "codemirror_mode": {
    "name": "ipython",
    "version": 3
   },
   "file_extension": ".py",
   "mimetype": "text/x-python",
   "name": "python",
   "nbconvert_exporter": "python",
   "pygments_lexer": "ipython3",
   "version": "3.8.11"
  }
 },
 "nbformat": 4,
 "nbformat_minor": 5
}
