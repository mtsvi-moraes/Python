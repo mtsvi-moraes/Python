{
 "cells": [
  {
   "cell_type": "code",
   "execution_count": 2,
   "metadata": {},
   "outputs": [],
   "source": [
    "import json\n",
    "import pandas as pd\n"
   ]
  },
  {
   "cell_type": "code",
   "execution_count": 19,
   "metadata": {},
   "outputs": [
    {
     "data": {
      "text/plain": [
       "[\"'6 Predictions for the Future of Performance Management'\",\n",
       " \"  'When it Comes to Ransomware  Should Your Company Pay?'\",\n",
       " \"  'How to Reduce Outside Counsel Spend — in Just Two Steps'\",\n",
       " \"  'Your Primer on AI for Sales'\",\n",
       " \"  'Rethink IT Roles and Organisation Structure for Digital Work'\",\n",
       " \"  'Build a Future-Ready Workforce for Digital Business Acceleration'\",\n",
       " \"  'Sales Tech Mayhem: The 6 Core Elements of the Ultimate Stack'\",\n",
       " \"  'Panel Discussion: Optimize Your Marketing Machine'\",\n",
       " \"  '6 Predictions for the Future of Performance Management'\"]"
      ]
     },
     "execution_count": 19,
     "metadata": {},
     "output_type": "execute_result"
    }
   ],
   "source": [
    "json_file = pd.read_json('test.json')\n",
    "\n",
    "for line in json_file.Articles:\n",
    "    reshaped = str(line).split(',')\n",
    "\n",
    "reshaped = str(reshaped)\n",
    "reshaped_articles =  \"\".join(reshaped.replace('[', '').replace(']', '').replace('\"', '')).split(',')\n",
    "reshaped_articles[1:3] = [\"\".join(reshaped_articles[1:3])]\n",
    "reshaped_articles"
   ]
  },
  {
   "cell_type": "code",
   "execution_count": 11,
   "metadata": {},
   "outputs": [
    {
     "data": {
      "text/plain": [
       "'[\"[\\'October 14 2021\\'\", \" \\'October 10 2021\\'\", \" \\'October 08 2021\\'\", \" \\'October 05 2021\\'\", \" \\'November 30 2021\\'\", \" \\'November 22 2021\\'\", \" \\'November 19 2021\\'\", \" \\'November 19 2021\\'\", \" \\'October 14 2021\\']\"]'"
      ]
     },
     "execution_count": 11,
     "metadata": {},
     "output_type": "execute_result"
    }
   ],
   "source": [
    "for line in json_file.Date:\n",
    "    lines = str(line).split(',')\n",
    "\n",
    "lines = str(lines)\n",
    "lines"
   ]
  },
  {
   "cell_type": "code",
   "execution_count": 13,
   "metadata": {},
   "outputs": [
    {
     "data": {
      "text/plain": [
       "[\"'October 14 2021'\",\n",
       " \"  'October 10 2021'\",\n",
       " \"  'October 08 2021'\",\n",
       " \"  'October 05 2021'\",\n",
       " \"  'November 30 2021'\",\n",
       " \"  'November 22 2021'\",\n",
       " \"  'November 19 2021'\",\n",
       " \"  'November 19 2021'\",\n",
       " \"  'October 14 2021'\"]"
      ]
     },
     "execution_count": 13,
     "metadata": {},
     "output_type": "execute_result"
    }
   ],
   "source": [
    "reshaped_lines =  \"\".join(lines.replace('[', '').replace(']', '').replace('\"', '')).split(',')\n",
    "reshaped_lines"
   ]
  },
  {
   "cell_type": "code",
   "execution_count": 61,
   "metadata": {},
   "outputs": [
    {
     "data": {
      "text/plain": [
       "array(['2021-10-14T00:00:00.000000000', '2021-10-10T00:00:00.000000000',\n",
       "       '2021-10-08T00:00:00.000000000', '2021-10-05T00:00:00.000000000',\n",
       "       '2021-11-30T00:00:00.000000000', '2021-11-22T00:00:00.000000000',\n",
       "       '2021-11-19T00:00:00.000000000', '2021-11-19T00:00:00.000000000',\n",
       "       '2021-10-14T00:00:00.000000000'], dtype='datetime64[ns]')"
      ]
     },
     "execution_count": 61,
     "metadata": {},
     "output_type": "execute_result"
    }
   ],
   "source": [
    "df = pd.DataFrame(reshaped_articles, index=reshaped_lines, columns=['Article'])\n",
    "pd.set_option(\"max_colwidth\", 200)\n",
    "df.index.name = 'Date'\n",
    "df.index = pd.to_datetime(df.index)\n",
    "df.index.values"
   ]
  },
  {
   "cell_type": "code",
   "execution_count": 63,
   "metadata": {},
   "outputs": [],
   "source": [
    "df.to_csv('gartner.csv')"
   ]
  },
  {
   "cell_type": "code",
   "execution_count": 15,
   "metadata": {},
   "outputs": [
    {
     "ename": "FileNotFoundError",
     "evalue": "[Errno 2] No such file or directory: 'event_registry.json'",
     "output_type": "error",
     "traceback": [
      "\u001b[1;31m---------------------------------------------------------------------------\u001b[0m",
      "\u001b[1;31mFileNotFoundError\u001b[0m                         Traceback (most recent call last)",
      "\u001b[1;32m~\\AppData\\Local\\Temp/ipykernel_15976/3696683075.py\u001b[0m in \u001b[0;36m<module>\u001b[1;34m\u001b[0m\n\u001b[1;32m----> 1\u001b[1;33m \u001b[1;32mwith\u001b[0m \u001b[0mopen\u001b[0m\u001b[1;33m(\u001b[0m\u001b[1;34m'event_registry.json'\u001b[0m\u001b[1;33m)\u001b[0m \u001b[1;32mas\u001b[0m \u001b[0mf\u001b[0m\u001b[1;33m:\u001b[0m\u001b[1;33m\u001b[0m\u001b[1;33m\u001b[0m\u001b[0m\n\u001b[0m\u001b[0;32m      2\u001b[0m    \u001b[0mdata\u001b[0m \u001b[1;33m=\u001b[0m \u001b[0mjson\u001b[0m\u001b[1;33m.\u001b[0m\u001b[0mload\u001b[0m\u001b[1;33m(\u001b[0m\u001b[0mf\u001b[0m\u001b[1;33m)\u001b[0m\u001b[1;33m\u001b[0m\u001b[1;33m\u001b[0m\u001b[0m\n\u001b[0;32m      3\u001b[0m \u001b[0mprint\u001b[0m\u001b[1;33m(\u001b[0m\u001b[0mdata\u001b[0m\u001b[1;33m)\u001b[0m\u001b[1;33m\u001b[0m\u001b[1;33m\u001b[0m\u001b[0m\n",
      "\u001b[1;31mFileNotFoundError\u001b[0m: [Errno 2] No such file or directory: 'event_registry.json'"
     ]
    }
   ],
   "source": [
    "with open('event_registry.json') as f:\n",
    "   data = json.load(f)\n",
    "print(data)"
   ]
  }
 ],
 "metadata": {
  "interpreter": {
   "hash": "85ea59b576b4d42e5b007ccfc29f7533bd412890d47039184691991a9b14feb4"
  },
  "kernelspec": {
   "display_name": "Python 3.8.11 64-bit ('base': conda)",
   "name": "python3"
  },
  "language_info": {
   "codemirror_mode": {
    "name": "ipython",
    "version": 3
   },
   "file_extension": ".py",
   "mimetype": "text/x-python",
   "name": "python",
   "nbconvert_exporter": "python",
   "pygments_lexer": "ipython3",
   "version": "3.8.11"
  },
  "orig_nbformat": 4
 },
 "nbformat": 4,
 "nbformat_minor": 2
}
