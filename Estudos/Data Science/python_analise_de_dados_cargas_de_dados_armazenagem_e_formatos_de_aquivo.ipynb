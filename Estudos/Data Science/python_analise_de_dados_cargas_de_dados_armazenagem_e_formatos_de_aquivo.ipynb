{
  "nbformat": 4,
  "nbformat_minor": 0,
  "metadata": {
    "colab": {
      "name": "Python pra Análise de Dados - Cargas de Dados, armazenagem e formatos de aquivo",
      "provenance": []
    },
    "kernelspec": {
      "name": "python3",
      "display_name": "Python 3"
    },
    "language_info": {
      "name": "python"
    }
  },
  "cells": [
    {
      "cell_type": "markdown",
      "metadata": {
        "id": "HDT7hclPtQ0J"
      },
      "source": [
        "# **Carga de dados, armazenagem e formatos de arquivo**"
      ]
    },
    {
      "cell_type": "markdown",
      "metadata": {
        "id": "zJV6TTuxteMC"
      },
      "source": [
        "## **Lendo e salvando arquivos csv:**"
      ]
    },
    {
      "cell_type": "code",
      "metadata": {
        "id": "MuUzgrDNjYQo"
      },
      "source": [
        "import pandas as pd\n",
        "import numpy as np"
      ],
      "execution_count": 1,
      "outputs": []
    },
    {
      "cell_type": "code",
      "metadata": {
        "id": "8xeiZIxim6bm"
      },
      "source": [
        "df = pd.DataFrame([['um', 'a', 1, 2], ['um', 'b', 3, 4], ['um','c', 5, 6], ['um','d', 7, 8], ['dois','a', 9, 10], ['dois','b', 11, 12], ['dois', 'c', 13, 14],['dois', 'd', 15, 16]], \n",
        "                 columns = ['chave1', 'chave2', 'valor1', 'valor2'])\n",
        "df.to_csv('/content/drive/MyDrive/Data Science/Python para Analise de Dados/df.csv', index=False, header=True)"
      ],
      "execution_count": 2,
      "outputs": []
    },
    {
      "cell_type": "markdown",
      "metadata": {
        "id": "jyGhShNPtynb"
      },
      "source": [
        "**Escolhendo a coluna na ordem que eu determinar:**"
      ]
    },
    {
      "cell_type": "code",
      "metadata": {
        "colab": {
          "base_uri": "https://localhost:8080/",
          "height": 328
        },
        "id": "oa3XmAHrsgGe",
        "outputId": "45773dde-c729-4bbb-846c-a0afd38d9fa8"
      },
      "source": [
        "df2 = pd.read_csv('/content/drive/MyDrive/Data Science/Python para Analise de Dados/df.csv', sep=',', index_col= ['chave1', 'chave2'])\n",
        "df2"
      ],
      "execution_count": 3,
      "outputs": [
        {
          "output_type": "execute_result",
          "data": {
            "text/html": [
              "<div>\n",
              "<style scoped>\n",
              "    .dataframe tbody tr th:only-of-type {\n",
              "        vertical-align: middle;\n",
              "    }\n",
              "\n",
              "    .dataframe tbody tr th {\n",
              "        vertical-align: top;\n",
              "    }\n",
              "\n",
              "    .dataframe thead th {\n",
              "        text-align: right;\n",
              "    }\n",
              "</style>\n",
              "<table border=\"1\" class=\"dataframe\">\n",
              "  <thead>\n",
              "    <tr style=\"text-align: right;\">\n",
              "      <th></th>\n",
              "      <th></th>\n",
              "      <th>valor1</th>\n",
              "      <th>valor2</th>\n",
              "    </tr>\n",
              "    <tr>\n",
              "      <th>chave1</th>\n",
              "      <th>chave2</th>\n",
              "      <th></th>\n",
              "      <th></th>\n",
              "    </tr>\n",
              "  </thead>\n",
              "  <tbody>\n",
              "    <tr>\n",
              "      <th rowspan=\"4\" valign=\"top\">um</th>\n",
              "      <th>a</th>\n",
              "      <td>1</td>\n",
              "      <td>2</td>\n",
              "    </tr>\n",
              "    <tr>\n",
              "      <th>b</th>\n",
              "      <td>3</td>\n",
              "      <td>4</td>\n",
              "    </tr>\n",
              "    <tr>\n",
              "      <th>c</th>\n",
              "      <td>5</td>\n",
              "      <td>6</td>\n",
              "    </tr>\n",
              "    <tr>\n",
              "      <th>d</th>\n",
              "      <td>7</td>\n",
              "      <td>8</td>\n",
              "    </tr>\n",
              "    <tr>\n",
              "      <th rowspan=\"4\" valign=\"top\">dois</th>\n",
              "      <th>a</th>\n",
              "      <td>9</td>\n",
              "      <td>10</td>\n",
              "    </tr>\n",
              "    <tr>\n",
              "      <th>b</th>\n",
              "      <td>11</td>\n",
              "      <td>12</td>\n",
              "    </tr>\n",
              "    <tr>\n",
              "      <th>c</th>\n",
              "      <td>13</td>\n",
              "      <td>14</td>\n",
              "    </tr>\n",
              "    <tr>\n",
              "      <th>d</th>\n",
              "      <td>15</td>\n",
              "      <td>16</td>\n",
              "    </tr>\n",
              "  </tbody>\n",
              "</table>\n",
              "</div>"
            ],
            "text/plain": [
              "               valor1  valor2\n",
              "chave1 chave2                \n",
              "um     a            1       2\n",
              "       b            3       4\n",
              "       c            5       6\n",
              "       d            7       8\n",
              "dois   a            9      10\n",
              "       b           11      12\n",
              "       c           13      14\n",
              "       d           15      16"
            ]
          },
          "metadata": {
            "tags": []
          },
          "execution_count": 3
        }
      ]
    },
    {
      "cell_type": "markdown",
      "metadata": {
        "id": "clwxvnQ1vwBW"
      },
      "source": [
        "**Pulando linhas:**"
      ]
    },
    {
      "cell_type": "code",
      "metadata": {
        "colab": {
          "base_uri": "https://localhost:8080/",
          "height": 235
        },
        "id": "wUonOb_Cv9Qx",
        "outputId": "40f35d0c-216e-40cf-d8de-600142770dbd"
      },
      "source": [
        "df3 = pd.read_csv('/content/drive/MyDrive/Data Science/Python para Analise de Dados/df.csv', sep=',', skiprows= [0, 6])\n",
        "df3"
      ],
      "execution_count": 4,
      "outputs": [
        {
          "output_type": "execute_result",
          "data": {
            "text/html": [
              "<div>\n",
              "<style scoped>\n",
              "    .dataframe tbody tr th:only-of-type {\n",
              "        vertical-align: middle;\n",
              "    }\n",
              "\n",
              "    .dataframe tbody tr th {\n",
              "        vertical-align: top;\n",
              "    }\n",
              "\n",
              "    .dataframe thead th {\n",
              "        text-align: right;\n",
              "    }\n",
              "</style>\n",
              "<table border=\"1\" class=\"dataframe\">\n",
              "  <thead>\n",
              "    <tr style=\"text-align: right;\">\n",
              "      <th></th>\n",
              "      <th>um</th>\n",
              "      <th>a</th>\n",
              "      <th>1</th>\n",
              "      <th>2</th>\n",
              "    </tr>\n",
              "  </thead>\n",
              "  <tbody>\n",
              "    <tr>\n",
              "      <th>0</th>\n",
              "      <td>um</td>\n",
              "      <td>b</td>\n",
              "      <td>3</td>\n",
              "      <td>4</td>\n",
              "    </tr>\n",
              "    <tr>\n",
              "      <th>1</th>\n",
              "      <td>um</td>\n",
              "      <td>c</td>\n",
              "      <td>5</td>\n",
              "      <td>6</td>\n",
              "    </tr>\n",
              "    <tr>\n",
              "      <th>2</th>\n",
              "      <td>um</td>\n",
              "      <td>d</td>\n",
              "      <td>7</td>\n",
              "      <td>8</td>\n",
              "    </tr>\n",
              "    <tr>\n",
              "      <th>3</th>\n",
              "      <td>dois</td>\n",
              "      <td>a</td>\n",
              "      <td>9</td>\n",
              "      <td>10</td>\n",
              "    </tr>\n",
              "    <tr>\n",
              "      <th>4</th>\n",
              "      <td>dois</td>\n",
              "      <td>c</td>\n",
              "      <td>13</td>\n",
              "      <td>14</td>\n",
              "    </tr>\n",
              "    <tr>\n",
              "      <th>5</th>\n",
              "      <td>dois</td>\n",
              "      <td>d</td>\n",
              "      <td>15</td>\n",
              "      <td>16</td>\n",
              "    </tr>\n",
              "  </tbody>\n",
              "</table>\n",
              "</div>"
            ],
            "text/plain": [
              "     um  a   1   2\n",
              "0    um  b   3   4\n",
              "1    um  c   5   6\n",
              "2    um  d   7   8\n",
              "3  dois  a   9  10\n",
              "4  dois  c  13  14\n",
              "5  dois  d  15  16"
            ]
          },
          "metadata": {
            "tags": []
          },
          "execution_count": 4
        }
      ]
    },
    {
      "cell_type": "markdown",
      "metadata": {
        "id": "Nkgbeogsxke2"
      },
      "source": [
        "**Definindo quantas linhas o arquivo vai aparecer:**"
      ]
    },
    {
      "cell_type": "code",
      "metadata": {
        "colab": {
          "base_uri": "https://localhost:8080/",
          "height": 142
        },
        "id": "ccvNAy1pxPO9",
        "outputId": "e814de62-82e2-44de-daed-76eae1e268fa"
      },
      "source": [
        "df4 = pd.read_csv('/content/drive/MyDrive/Data Science/Python para Analise de Dados/df.csv', sep=',', nrows=3)\n",
        "df4"
      ],
      "execution_count": 5,
      "outputs": [
        {
          "output_type": "execute_result",
          "data": {
            "text/html": [
              "<div>\n",
              "<style scoped>\n",
              "    .dataframe tbody tr th:only-of-type {\n",
              "        vertical-align: middle;\n",
              "    }\n",
              "\n",
              "    .dataframe tbody tr th {\n",
              "        vertical-align: top;\n",
              "    }\n",
              "\n",
              "    .dataframe thead th {\n",
              "        text-align: right;\n",
              "    }\n",
              "</style>\n",
              "<table border=\"1\" class=\"dataframe\">\n",
              "  <thead>\n",
              "    <tr style=\"text-align: right;\">\n",
              "      <th></th>\n",
              "      <th>chave1</th>\n",
              "      <th>chave2</th>\n",
              "      <th>valor1</th>\n",
              "      <th>valor2</th>\n",
              "    </tr>\n",
              "  </thead>\n",
              "  <tbody>\n",
              "    <tr>\n",
              "      <th>0</th>\n",
              "      <td>um</td>\n",
              "      <td>a</td>\n",
              "      <td>1</td>\n",
              "      <td>2</td>\n",
              "    </tr>\n",
              "    <tr>\n",
              "      <th>1</th>\n",
              "      <td>um</td>\n",
              "      <td>b</td>\n",
              "      <td>3</td>\n",
              "      <td>4</td>\n",
              "    </tr>\n",
              "    <tr>\n",
              "      <th>2</th>\n",
              "      <td>um</td>\n",
              "      <td>c</td>\n",
              "      <td>5</td>\n",
              "      <td>6</td>\n",
              "    </tr>\n",
              "  </tbody>\n",
              "</table>\n",
              "</div>"
            ],
            "text/plain": [
              "  chave1 chave2  valor1  valor2\n",
              "0     um      a       1       2\n",
              "1     um      b       3       4\n",
              "2     um      c       5       6"
            ]
          },
          "metadata": {
            "tags": []
          },
          "execution_count": 5
        }
      ]
    },
    {
      "cell_type": "markdown",
      "metadata": {
        "id": "jsYTcbqw8laO"
      },
      "source": [
        "**Obs: Também é possível colocar diferentes separadores. Nesse caso stdout dá um print na expressão**"
      ]
    },
    {
      "cell_type": "code",
      "metadata": {
        "id": "eSJckQ4K6mIt"
      },
      "source": [
        "import sys"
      ],
      "execution_count": 6,
      "outputs": []
    },
    {
      "cell_type": "code",
      "metadata": {
        "colab": {
          "base_uri": "https://localhost:8080/"
        },
        "id": "RIEOzvJN6txr",
        "outputId": "8f21044a-6c9e-46d4-a4d0-70a071834a9b"
      },
      "source": [
        "df4.to_csv(sys.stdout, sep='|')"
      ],
      "execution_count": 7,
      "outputs": [
        {
          "output_type": "stream",
          "text": [
            "|chave1|chave2|valor1|valor2\n",
            "0|um|a|1|2\n",
            "1|um|b|3|4\n",
            "2|um|c|5|6\n"
          ],
          "name": "stdout"
        }
      ]
    },
    {
      "cell_type": "markdown",
      "metadata": {
        "id": "-k2Ss82MBdPV"
      },
      "source": [
        "**Não apenas df's podem ser convertidos pra outro formato, mas Series também:**"
      ]
    },
    {
      "cell_type": "code",
      "metadata": {
        "colab": {
          "base_uri": "https://localhost:8080/"
        },
        "id": "T2WZgMDE-hcQ",
        "outputId": "964b4dc8-4e67-4129-95bd-67aba23cfb7d"
      },
      "source": [
        "datas = pd.date_range('08/08/1997', periods=10)\n",
        "calendario = pd.Series(np.arange(1, 11), index=datas)\n",
        "calendario"
      ],
      "execution_count": 8,
      "outputs": [
        {
          "output_type": "execute_result",
          "data": {
            "text/plain": [
              "1997-08-08     1\n",
              "1997-08-09     2\n",
              "1997-08-10     3\n",
              "1997-08-11     4\n",
              "1997-08-12     5\n",
              "1997-08-13     6\n",
              "1997-08-14     7\n",
              "1997-08-15     8\n",
              "1997-08-16     9\n",
              "1997-08-17    10\n",
              "Freq: D, dtype: int64"
            ]
          },
          "metadata": {
            "tags": []
          },
          "execution_count": 8
        }
      ]
    },
    {
      "cell_type": "markdown",
      "metadata": {
        "id": "OtDd6q6ZB0jq"
      },
      "source": [
        "**Salvando series em diversos formatos:**"
      ]
    },
    {
      "cell_type": "code",
      "metadata": {
        "id": "CofOCN3-A6ZM"
      },
      "source": [
        "calendario.to_csv('/content/drive/MyDrive/Data Science/Python para Analise de Dados/calendario.csv', index=False)\n",
        "calendario.to_json('/content/drive/MyDrive/Data Science/Python para Analise de Dados/calendario.json')\n",
        "calendario.to_excel('/content/drive/MyDrive/Data Science/Python para Analise de Dados/calendario.xlsx')"
      ],
      "execution_count": 9,
      "outputs": []
    },
    {
      "cell_type": "code",
      "metadata": {
        "id": "HEwQjJ43UZCT"
      },
      "source": [
        "import csv\n",
        "random = open('/content/drive/MyDrive/Data Science/Python para Analise de Dados/Files/random.csv', )\n",
        "arquivo = csv.reader(random, delimiter='|', quotechar='\"', lineterminator='\\n', quoting = csv.QUOTE_MINIMAL)"
      ],
      "execution_count": 10,
      "outputs": []
    },
    {
      "cell_type": "code",
      "metadata": {
        "colab": {
          "base_uri": "https://localhost:8080/"
        },
        "id": "jsojTeSj4Aug",
        "outputId": "00e52aea-fc0e-45bc-e21e-6e744806094a"
      },
      "source": [
        "for x in arquivo:\n",
        "  print(x)"
      ],
      "execution_count": 11,
      "outputs": [
        {
          "output_type": "stream",
          "text": [
            "['\\ufeff\"feathers\"', 'yourself', 'correct', 'queen', 'extra', 'girl', 'condition', 'enjoy', 'instead', 'nearest']\n",
            "['teach', 'famous', 'success', 'inch', 'getting', 'three', 'flew', 'finger', 'nice', 'still']\n",
            "['when', 'movie', 'heavy', 'view', 'stay', 'mean', 'white', 'raw', 'calm', 'tea']\n",
            "['jungle', 'none', 'box', 'relationship', 'volume', 'given', 'effect', 'labor', 'lips', 'asleep']\n",
            "['second', 'want', 'look', 'slope', 'branch', 'fly', 'scale', 'worker', 'blank', 'lips']\n",
            "['ordinary', 'dot', 'copper', 'pine', 'let', 'shown', 'yellow', 'football', 'children', 'suppose']\n",
            "['official', 'cross', 'sale', 'teeth', 'without', 'central', 'familiar', 'draw', 'fix', 'danger']\n",
            "['waste', 'primitive', 'solve', 'noun', 'college', 'breath', 'came', 'including', 'health', 'victory']\n",
            "['master', 'memory', 'action', 'death', 'week', 'laugh', 'get', 'no', 'library', 'away']\n",
            "['say', 'swimming', 'hour', 'ground', 'cut', 'again', 'purpose', 'given', 'shelter', 'short']\n",
            "['temperature', 'mirror', 'day', 'love', 'own', 'cloud', 'village', 'won', 'substance', 'immediately']\n"
          ],
          "name": "stdout"
        }
      ]
    },
    {
      "cell_type": "code",
      "metadata": {
        "colab": {
          "base_uri": "https://localhost:8080/"
        },
        "id": "LgxqqWOqtrDl",
        "outputId": "d1a38cd0-abdd-44c9-f3c1-2c1af893ee75"
      },
      "source": [
        "with open('/content/drive/MyDrive/Data Science/Python para Analise de Dados/Files/random.csv') as random:\n",
        "  lines = list(csv.reader(random))\n",
        "  header, values = lines[0], lines[1:]\n",
        "\n",
        "data_dict = {h: v for h, v in zip(header, zip(*values))}\n",
        "data_dict"
      ],
      "execution_count": 12,
      "outputs": [
        {
          "output_type": "execute_result",
          "data": {
            "text/plain": [
              "{'\\ufeff\"feathers\"|\"yourself\"|\"correct\"|\"queen\"|\"extra\"|\"girl\"|\"condition\"|\"enjoy\"|\"instead\"|\"nearest\"': ('teach|\"famous\"|\"success\"|\"inch\"|\"getting\"|\"three\"|\"flew\"|\"finger\"|\"nice\"|\"still\"',\n",
              "  'when|\"movie\"|\"heavy\"|\"view\"|\"stay\"|\"mean\"|\"white\"|\"raw\"|\"calm\"|\"tea\"',\n",
              "  'jungle|\"none\"|\"box\"|\"relationship\"|\"volume\"|\"given\"|\"effect\"|\"labor\"|\"lips\"|\"asleep\"',\n",
              "  'second|\"want\"|\"look\"|\"slope\"|\"branch\"|\"fly\"|\"scale\"|\"worker\"|\"blank\"|\"lips\"',\n",
              "  'ordinary|\"dot\"|\"copper\"|\"pine\"|\"let\"|\"shown\"|\"yellow\"|\"football\"|\"children\"|\"suppose\"',\n",
              "  'official|\"cross\"|\"sale\"|\"teeth\"|\"without\"|\"central\"|\"familiar\"|\"draw\"|\"fix\"|\"danger\"',\n",
              "  'waste|\"primitive\"|\"solve\"|\"noun\"|\"college\"|\"breath\"|\"came\"|\"including\"|\"health\"|\"victory\"',\n",
              "  'master|\"memory\"|\"action\"|\"death\"|\"week\"|\"laugh\"|\"get\"|\"no\"|\"library\"|\"away\"',\n",
              "  'say|\"swimming\"|\"hour\"|\"ground\"|\"cut\"|\"again\"|\"purpose\"|\"given\"|\"shelter\"|\"short\"',\n",
              "  'temperature|\"mirror\"|\"day\"|\"love\"|\"own\"|\"cloud\"|\"village\"|\"won\"|\"substance\"|\"immediately\"')}"
            ]
          },
          "metadata": {
            "tags": []
          },
          "execution_count": 12
        }
      ]
    },
    {
      "cell_type": "code",
      "metadata": {
        "id": "s4hiCyWN49xn"
      },
      "source": [
        "class my_dialect(csv.Dialect):\n",
        "  lineterminator = '\\n'\n",
        "  delimiter = ';'\n",
        "  quotechar = '\"'\n",
        "  quoting = csv.QUOTE_MINIMAL\n",
        "reader = csv.reader(arquivo, dialect=my_dialect)"
      ],
      "execution_count": 13,
      "outputs": []
    },
    {
      "cell_type": "code",
      "metadata": {
        "colab": {
          "base_uri": "https://localhost:8080/"
        },
        "id": "xVQw7OutCONb",
        "outputId": "ce9ac673-2e98-4bb9-f1fe-e418eb813593"
      },
      "source": [
        "!cat examples/ex7.csv"
      ],
      "execution_count": 14,
      "outputs": [
        {
          "output_type": "stream",
          "text": [
            "cat: examples/ex7.csv: No such file or directory\n"
          ],
          "name": "stdout"
        }
      ]
    },
    {
      "cell_type": "code",
      "metadata": {
        "colab": {
          "base_uri": "https://localhost:8080/",
          "height": 359
        },
        "id": "l4LqeWpQxOtE",
        "outputId": "7f9d9233-86d1-4cdf-a9b6-36afd9e08671"
      },
      "source": [
        "random1 = pd.read_table('/content/drive/MyDrive/Data Science/Python para Analise de Dados/Files/random.csv', sep='|')\n",
        "random1"
      ],
      "execution_count": 15,
      "outputs": [
        {
          "output_type": "execute_result",
          "data": {
            "text/html": [
              "<div>\n",
              "<style scoped>\n",
              "    .dataframe tbody tr th:only-of-type {\n",
              "        vertical-align: middle;\n",
              "    }\n",
              "\n",
              "    .dataframe tbody tr th {\n",
              "        vertical-align: top;\n",
              "    }\n",
              "\n",
              "    .dataframe thead th {\n",
              "        text-align: right;\n",
              "    }\n",
              "</style>\n",
              "<table border=\"1\" class=\"dataframe\">\n",
              "  <thead>\n",
              "    <tr style=\"text-align: right;\">\n",
              "      <th></th>\n",
              "      <th>feathers</th>\n",
              "      <th>yourself</th>\n",
              "      <th>correct</th>\n",
              "      <th>queen</th>\n",
              "      <th>extra</th>\n",
              "      <th>girl</th>\n",
              "      <th>condition</th>\n",
              "      <th>enjoy</th>\n",
              "      <th>instead</th>\n",
              "      <th>nearest</th>\n",
              "    </tr>\n",
              "  </thead>\n",
              "  <tbody>\n",
              "    <tr>\n",
              "      <th>0</th>\n",
              "      <td>teach</td>\n",
              "      <td>famous</td>\n",
              "      <td>success</td>\n",
              "      <td>inch</td>\n",
              "      <td>getting</td>\n",
              "      <td>three</td>\n",
              "      <td>flew</td>\n",
              "      <td>finger</td>\n",
              "      <td>nice</td>\n",
              "      <td>still</td>\n",
              "    </tr>\n",
              "    <tr>\n",
              "      <th>1</th>\n",
              "      <td>when</td>\n",
              "      <td>movie</td>\n",
              "      <td>heavy</td>\n",
              "      <td>view</td>\n",
              "      <td>stay</td>\n",
              "      <td>mean</td>\n",
              "      <td>white</td>\n",
              "      <td>raw</td>\n",
              "      <td>calm</td>\n",
              "      <td>tea</td>\n",
              "    </tr>\n",
              "    <tr>\n",
              "      <th>2</th>\n",
              "      <td>jungle</td>\n",
              "      <td>none</td>\n",
              "      <td>box</td>\n",
              "      <td>relationship</td>\n",
              "      <td>volume</td>\n",
              "      <td>given</td>\n",
              "      <td>effect</td>\n",
              "      <td>labor</td>\n",
              "      <td>lips</td>\n",
              "      <td>asleep</td>\n",
              "    </tr>\n",
              "    <tr>\n",
              "      <th>3</th>\n",
              "      <td>second</td>\n",
              "      <td>want</td>\n",
              "      <td>look</td>\n",
              "      <td>slope</td>\n",
              "      <td>branch</td>\n",
              "      <td>fly</td>\n",
              "      <td>scale</td>\n",
              "      <td>worker</td>\n",
              "      <td>blank</td>\n",
              "      <td>lips</td>\n",
              "    </tr>\n",
              "    <tr>\n",
              "      <th>4</th>\n",
              "      <td>ordinary</td>\n",
              "      <td>dot</td>\n",
              "      <td>copper</td>\n",
              "      <td>pine</td>\n",
              "      <td>let</td>\n",
              "      <td>shown</td>\n",
              "      <td>yellow</td>\n",
              "      <td>football</td>\n",
              "      <td>children</td>\n",
              "      <td>suppose</td>\n",
              "    </tr>\n",
              "    <tr>\n",
              "      <th>5</th>\n",
              "      <td>official</td>\n",
              "      <td>cross</td>\n",
              "      <td>sale</td>\n",
              "      <td>teeth</td>\n",
              "      <td>without</td>\n",
              "      <td>central</td>\n",
              "      <td>familiar</td>\n",
              "      <td>draw</td>\n",
              "      <td>fix</td>\n",
              "      <td>danger</td>\n",
              "    </tr>\n",
              "    <tr>\n",
              "      <th>6</th>\n",
              "      <td>waste</td>\n",
              "      <td>primitive</td>\n",
              "      <td>solve</td>\n",
              "      <td>noun</td>\n",
              "      <td>college</td>\n",
              "      <td>breath</td>\n",
              "      <td>came</td>\n",
              "      <td>including</td>\n",
              "      <td>health</td>\n",
              "      <td>victory</td>\n",
              "    </tr>\n",
              "    <tr>\n",
              "      <th>7</th>\n",
              "      <td>master</td>\n",
              "      <td>memory</td>\n",
              "      <td>action</td>\n",
              "      <td>death</td>\n",
              "      <td>week</td>\n",
              "      <td>laugh</td>\n",
              "      <td>get</td>\n",
              "      <td>no</td>\n",
              "      <td>library</td>\n",
              "      <td>away</td>\n",
              "    </tr>\n",
              "    <tr>\n",
              "      <th>8</th>\n",
              "      <td>say</td>\n",
              "      <td>swimming</td>\n",
              "      <td>hour</td>\n",
              "      <td>ground</td>\n",
              "      <td>cut</td>\n",
              "      <td>again</td>\n",
              "      <td>purpose</td>\n",
              "      <td>given</td>\n",
              "      <td>shelter</td>\n",
              "      <td>short</td>\n",
              "    </tr>\n",
              "    <tr>\n",
              "      <th>9</th>\n",
              "      <td>temperature</td>\n",
              "      <td>mirror</td>\n",
              "      <td>day</td>\n",
              "      <td>love</td>\n",
              "      <td>own</td>\n",
              "      <td>cloud</td>\n",
              "      <td>village</td>\n",
              "      <td>won</td>\n",
              "      <td>substance</td>\n",
              "      <td>immediately</td>\n",
              "    </tr>\n",
              "  </tbody>\n",
              "</table>\n",
              "</div>"
            ],
            "text/plain": [
              "      feathers   yourself  correct  ...      enjoy    instead      nearest\n",
              "0        teach     famous  success  ...     finger       nice        still\n",
              "1         when      movie    heavy  ...        raw       calm          tea\n",
              "2       jungle       none      box  ...      labor       lips       asleep\n",
              "3       second       want     look  ...     worker      blank         lips\n",
              "4     ordinary        dot   copper  ...   football   children      suppose\n",
              "5     official      cross     sale  ...       draw        fix       danger\n",
              "6        waste  primitive    solve  ...  including     health      victory\n",
              "7       master     memory   action  ...         no    library         away\n",
              "8          say   swimming     hour  ...      given    shelter        short\n",
              "9  temperature     mirror      day  ...        won  substance  immediately\n",
              "\n",
              "[10 rows x 10 columns]"
            ]
          },
          "metadata": {
            "tags": []
          },
          "execution_count": 15
        }
      ]
    },
    {
      "cell_type": "markdown",
      "metadata": {
        "id": "iPvNEvQWOybf"
      },
      "source": [
        "## **Trabalhando com *JSONS*:**"
      ]
    },
    {
      "cell_type": "code",
      "metadata": {
        "colab": {
          "base_uri": "https://localhost:8080/",
          "height": 0
        },
        "id": "Y0XPGy55XsoS",
        "outputId": "13d7ddcd-94cc-4e35-cf5d-405598800092"
      },
      "source": [
        "JSON = pd.read_json('/content/drive/MyDrive/Data Science/Python para Analise de Dados/generated.json')\n",
        "JSON.head()"
      ],
      "execution_count": 16,
      "outputs": [
        {
          "output_type": "execute_result",
          "data": {
            "text/html": [
              "<div>\n",
              "<style scoped>\n",
              "    .dataframe tbody tr th:only-of-type {\n",
              "        vertical-align: middle;\n",
              "    }\n",
              "\n",
              "    .dataframe tbody tr th {\n",
              "        vertical-align: top;\n",
              "    }\n",
              "\n",
              "    .dataframe thead th {\n",
              "        text-align: right;\n",
              "    }\n",
              "</style>\n",
              "<table border=\"1\" class=\"dataframe\">\n",
              "  <thead>\n",
              "    <tr style=\"text-align: right;\">\n",
              "      <th></th>\n",
              "      <th>_id</th>\n",
              "      <th>index</th>\n",
              "      <th>guid</th>\n",
              "      <th>isActive</th>\n",
              "      <th>balance</th>\n",
              "      <th>picture</th>\n",
              "      <th>age</th>\n",
              "      <th>eyeColor</th>\n",
              "      <th>name</th>\n",
              "      <th>gender</th>\n",
              "      <th>company</th>\n",
              "      <th>email</th>\n",
              "      <th>phone</th>\n",
              "      <th>address</th>\n",
              "      <th>about</th>\n",
              "      <th>registered</th>\n",
              "      <th>latitude</th>\n",
              "      <th>longitude</th>\n",
              "      <th>tags</th>\n",
              "      <th>friends</th>\n",
              "      <th>greeting</th>\n",
              "      <th>favoriteFruit</th>\n",
              "    </tr>\n",
              "  </thead>\n",
              "  <tbody>\n",
              "    <tr>\n",
              "      <th>0</th>\n",
              "      <td>60d4f8cb838bfdfbe65ac8c3</td>\n",
              "      <td>0</td>\n",
              "      <td>0c34e833-3cab-467b-9142-cbf9b583ec81</td>\n",
              "      <td>True</td>\n",
              "      <td>$2,998.66</td>\n",
              "      <td>http://placehold.it/32x32</td>\n",
              "      <td>28</td>\n",
              "      <td>green</td>\n",
              "      <td>Nichole Parks</td>\n",
              "      <td>female</td>\n",
              "      <td>SHADEASE</td>\n",
              "      <td>nicholeparks@shadease.com</td>\n",
              "      <td>+1 (881) 455-2039</td>\n",
              "      <td>318 Crooke Avenue, Monument, Georgia, 4393</td>\n",
              "      <td>Sunt duis irure in aute ex Lorem ex quis. Moll...</td>\n",
              "      <td>2017-08-24T02:20:56 +03:00</td>\n",
              "      <td>78.423624</td>\n",
              "      <td>-101.245037</td>\n",
              "      <td>[officia, occaecat, id, consectetur, ullamco, ...</td>\n",
              "      <td>[{'id': 0, 'name': 'Bethany Delacruz'}, {'id':...</td>\n",
              "      <td>Hello, Nichole Parks! You have 10 unread messa...</td>\n",
              "      <td>banana</td>\n",
              "    </tr>\n",
              "    <tr>\n",
              "      <th>1</th>\n",
              "      <td>60d4f8cbc76c4553f90ef163</td>\n",
              "      <td>1</td>\n",
              "      <td>0132282d-1407-47a5-aa80-5e8ba586c6a9</td>\n",
              "      <td>True</td>\n",
              "      <td>$1,351.49</td>\n",
              "      <td>http://placehold.it/32x32</td>\n",
              "      <td>34</td>\n",
              "      <td>blue</td>\n",
              "      <td>Erma Hart</td>\n",
              "      <td>female</td>\n",
              "      <td>ZILPHUR</td>\n",
              "      <td>ermahart@zilphur.com</td>\n",
              "      <td>+1 (890) 405-2227</td>\n",
              "      <td>846 Varanda Place, Cressey, District Of Columb...</td>\n",
              "      <td>Ad officia duis labore veniam ipsum proident f...</td>\n",
              "      <td>2019-09-07T10:25:22 +03:00</td>\n",
              "      <td>-47.204035</td>\n",
              "      <td>-133.254854</td>\n",
              "      <td>[dolore, laboris, ullamco, proident, commodo, ...</td>\n",
              "      <td>[{'id': 0, 'name': 'Murray Leblanc'}, {'id': 1...</td>\n",
              "      <td>Hello, Erma Hart! You have 1 unread messages.</td>\n",
              "      <td>apple</td>\n",
              "    </tr>\n",
              "    <tr>\n",
              "      <th>2</th>\n",
              "      <td>60d4f8cbb173544b52bd29dc</td>\n",
              "      <td>2</td>\n",
              "      <td>606c6fe4-e4fe-49ed-96b5-e0803852d029</td>\n",
              "      <td>False</td>\n",
              "      <td>$2,639.80</td>\n",
              "      <td>http://placehold.it/32x32</td>\n",
              "      <td>40</td>\n",
              "      <td>green</td>\n",
              "      <td>Andrea Mccray</td>\n",
              "      <td>female</td>\n",
              "      <td>DAYCORE</td>\n",
              "      <td>andreamccray@daycore.com</td>\n",
              "      <td>+1 (867) 543-3835</td>\n",
              "      <td>968 Grant Avenue, Coloma, South Dakota, 4875</td>\n",
              "      <td>Cupidatat ad officia minim anim Lorem enim tem...</td>\n",
              "      <td>2015-02-01T01:33:07 +02:00</td>\n",
              "      <td>-13.749573</td>\n",
              "      <td>-140.504223</td>\n",
              "      <td>[excepteur, aliqua, reprehenderit, veniam, tem...</td>\n",
              "      <td>[{'id': 0, 'name': 'Whitfield Rice'}, {'id': 1...</td>\n",
              "      <td>Hello, Andrea Mccray! You have 4 unread messages.</td>\n",
              "      <td>strawberry</td>\n",
              "    </tr>\n",
              "    <tr>\n",
              "      <th>3</th>\n",
              "      <td>60d4f8cb29592322b9b3283f</td>\n",
              "      <td>3</td>\n",
              "      <td>9d153a25-a9c2-4d50-a0f5-4a5493530f2f</td>\n",
              "      <td>False</td>\n",
              "      <td>$1,731.36</td>\n",
              "      <td>http://placehold.it/32x32</td>\n",
              "      <td>31</td>\n",
              "      <td>brown</td>\n",
              "      <td>Johns Ayers</td>\n",
              "      <td>male</td>\n",
              "      <td>NEBULEAN</td>\n",
              "      <td>johnsayers@nebulean.com</td>\n",
              "      <td>+1 (922) 436-2689</td>\n",
              "      <td>179 Neptune Avenue, Elbert, Idaho, 2632</td>\n",
              "      <td>Dolore do id officia occaecat mollit proident....</td>\n",
              "      <td>2015-11-04T08:35:26 +02:00</td>\n",
              "      <td>-40.822816</td>\n",
              "      <td>141.189879</td>\n",
              "      <td>[ad, proident, exercitation, dolore, et, nulla...</td>\n",
              "      <td>[{'id': 0, 'name': 'Goodwin Case'}, {'id': 1, ...</td>\n",
              "      <td>Hello, Johns Ayers! You have 3 unread messages.</td>\n",
              "      <td>banana</td>\n",
              "    </tr>\n",
              "    <tr>\n",
              "      <th>4</th>\n",
              "      <td>60d4f8cb2ff7425a609a853a</td>\n",
              "      <td>4</td>\n",
              "      <td>852efaae-b82d-4fcf-b852-6f18c17f99de</td>\n",
              "      <td>True</td>\n",
              "      <td>$3,785.44</td>\n",
              "      <td>http://placehold.it/32x32</td>\n",
              "      <td>32</td>\n",
              "      <td>blue</td>\n",
              "      <td>Burke Hodges</td>\n",
              "      <td>male</td>\n",
              "      <td>AQUASURE</td>\n",
              "      <td>burkehodges@aquasure.com</td>\n",
              "      <td>+1 (860) 491-2834</td>\n",
              "      <td>755 Butler Street, Thermal, Alabama, 565</td>\n",
              "      <td>Et fugiat exercitation culpa anim quis non cup...</td>\n",
              "      <td>2020-12-03T01:56:29 +03:00</td>\n",
              "      <td>7.901799</td>\n",
              "      <td>-88.782744</td>\n",
              "      <td>[occaecat, duis, ea, officia, mollit, ad, adip...</td>\n",
              "      <td>[{'id': 0, 'name': 'Fern Reilly'}, {'id': 1, '...</td>\n",
              "      <td>Hello, Burke Hodges! You have 6 unread messages.</td>\n",
              "      <td>banana</td>\n",
              "    </tr>\n",
              "  </tbody>\n",
              "</table>\n",
              "</div>"
            ],
            "text/plain": [
              "                        _id  ...  favoriteFruit\n",
              "0  60d4f8cb838bfdfbe65ac8c3  ...         banana\n",
              "1  60d4f8cbc76c4553f90ef163  ...          apple\n",
              "2  60d4f8cbb173544b52bd29dc  ...     strawberry\n",
              "3  60d4f8cb29592322b9b3283f  ...         banana\n",
              "4  60d4f8cb2ff7425a609a853a  ...         banana\n",
              "\n",
              "[5 rows x 22 columns]"
            ]
          },
          "metadata": {
            "tags": []
          },
          "execution_count": 16
        }
      ]
    },
    {
      "cell_type": "markdown",
      "metadata": {
        "id": "KqOKb9hQPJPb"
      },
      "source": [
        "### **Convertendo Jsons para python:**"
      ]
    },
    {
      "cell_type": "code",
      "metadata": {
        "id": "VmJdoIghNO2t"
      },
      "source": [
        "obj = \"\"\"\n",
        "{\"nome\": \"Eduardo\",\n",
        "\"lugares_viveu\": [\"Brasil\", \"Japao\", \"Ucrania\"],\n",
        "\"pet\": null,\n",
        "\"siblings\": [{\"Nome\": \"Icaro\", \"Idade\": 30, \"pets\": [\"Zeus\", \"Zuleika\"]},\n",
        "{\"Nome\": \"Katarina\", \"Idade\": 38,\n",
        "\"pets\": [\"Chico\", \"Bolhudo\", \"Jonnatan\"]}]\n",
        "}\n",
        "\"\"\""
      ],
      "execution_count": 17,
      "outputs": []
    },
    {
      "cell_type": "code",
      "metadata": {
        "colab": {
          "base_uri": "https://localhost:8080/"
        },
        "id": "ZEKTCN0hNQ3h",
        "outputId": "7c08f2cb-2199-4639-9916-76f92379e62c"
      },
      "source": [
        "import json\n",
        "json_python = json.loads(obj)\n",
        "json_python"
      ],
      "execution_count": 18,
      "outputs": [
        {
          "output_type": "execute_result",
          "data": {
            "text/plain": [
              "{'lugares_viveu': ['Brasil', 'Japao', 'Ucrania'],\n",
              " 'nome': 'Eduardo',\n",
              " 'pet': None,\n",
              " 'siblings': [{'Idade': 30, 'Nome': 'Icaro', 'pets': ['Zeus', 'Zuleika']},\n",
              "  {'Idade': 38, 'Nome': 'Katarina', 'pets': ['Chico', 'Bolhudo', 'Jonnatan']}]}"
            ]
          },
          "metadata": {
            "tags": []
          },
          "execution_count": 18
        }
      ]
    },
    {
      "cell_type": "markdown",
      "metadata": {
        "id": "N-jaKTa-XI5f"
      },
      "source": [
        "**Filtrando items e construindo DF de JSONS:**"
      ]
    },
    {
      "cell_type": "code",
      "metadata": {
        "colab": {
          "base_uri": "https://localhost:8080/",
          "height": 0
        },
        "id": "W3TeEloHT8Mq",
        "outputId": "df492bde-f6d2-44c9-e32e-7636536b5eaa"
      },
      "source": [
        "irmaos = pd.DataFrame(json_python['siblings'], columns=['Nome', 'Idade'])\n",
        "irmaos"
      ],
      "execution_count": 19,
      "outputs": [
        {
          "output_type": "execute_result",
          "data": {
            "text/html": [
              "<div>\n",
              "<style scoped>\n",
              "    .dataframe tbody tr th:only-of-type {\n",
              "        vertical-align: middle;\n",
              "    }\n",
              "\n",
              "    .dataframe tbody tr th {\n",
              "        vertical-align: top;\n",
              "    }\n",
              "\n",
              "    .dataframe thead th {\n",
              "        text-align: right;\n",
              "    }\n",
              "</style>\n",
              "<table border=\"1\" class=\"dataframe\">\n",
              "  <thead>\n",
              "    <tr style=\"text-align: right;\">\n",
              "      <th></th>\n",
              "      <th>Nome</th>\n",
              "      <th>Idade</th>\n",
              "    </tr>\n",
              "  </thead>\n",
              "  <tbody>\n",
              "    <tr>\n",
              "      <th>0</th>\n",
              "      <td>Icaro</td>\n",
              "      <td>30</td>\n",
              "    </tr>\n",
              "    <tr>\n",
              "      <th>1</th>\n",
              "      <td>Katarina</td>\n",
              "      <td>38</td>\n",
              "    </tr>\n",
              "  </tbody>\n",
              "</table>\n",
              "</div>"
            ],
            "text/plain": [
              "       Nome  Idade\n",
              "0     Icaro     30\n",
              "1  Katarina     38"
            ]
          },
          "metadata": {
            "tags": []
          },
          "execution_count": 19
        }
      ]
    },
    {
      "cell_type": "markdown",
      "metadata": {
        "id": "rJETxhItScEC"
      },
      "source": [
        "**Convertendo objeto Python para JSON:**"
      ]
    },
    {
      "cell_type": "code",
      "metadata": {
        "colab": {
          "base_uri": "https://localhost:8080/",
          "height": 0
        },
        "id": "dCFecamwSJDe",
        "outputId": "f89f8ec6-0921-4dd2-afd9-38b6181e403c"
      },
      "source": [
        "python_json = json.dumps(json_python)\n",
        "python_json"
      ],
      "execution_count": 20,
      "outputs": [
        {
          "output_type": "execute_result",
          "data": {
            "application/vnd.google.colaboratory.intrinsic+json": {
              "type": "string"
            },
            "text/plain": [
              "'{\"nome\": \"Eduardo\", \"lugares_viveu\": [\"Brasil\", \"Japao\", \"Ucrania\"], \"pet\": null, \"siblings\": [{\"Nome\": \"Icaro\", \"Idade\": 30, \"pets\": [\"Zeus\", \"Zuleika\"]}, {\"Nome\": \"Katarina\", \"Idade\": 38, \"pets\": [\"Chico\", \"Bolhudo\", \"Jonnatan\"]}]}'"
            ]
          },
          "metadata": {
            "tags": []
          },
          "execution_count": 20
        }
      ]
    },
    {
      "cell_type": "markdown",
      "metadata": {
        "id": "Qu2IPs4v8GY_"
      },
      "source": [
        "## **Trabalhando com dados HTML/XML:**"
      ]
    },
    {
      "cell_type": "markdown",
      "metadata": {
        "id": "s1xIIoIF4vHG"
      },
      "source": [
        "**Obs: Quando você faz scraping, ele retorna uma lista de DF**"
      ]
    },
    {
      "cell_type": "code",
      "metadata": {
        "colab": {
          "base_uri": "https://localhost:8080/"
        },
        "id": "5iTHu5ALpwHP",
        "outputId": "10be3214-1ffb-4e53-9b8f-fb58e971094d"
      },
      "source": [
        "html = pd.read_html('https://www.fdic.gov/resources/resolutions/bank-failures/failed-bank-list/')\n",
        "np.shape(html)"
      ],
      "execution_count": 21,
      "outputs": [
        {
          "output_type": "execute_result",
          "data": {
            "text/plain": [
              "(1, 563, 7)"
            ]
          },
          "metadata": {
            "tags": []
          },
          "execution_count": 21
        }
      ]
    },
    {
      "cell_type": "code",
      "metadata": {
        "colab": {
          "base_uri": "https://localhost:8080/"
        },
        "id": "rtpbJAz17MTx",
        "outputId": "6a076da1-2848-48a4-e170-58aa552951dc"
      },
      "source": [
        " type(html)"
      ],
      "execution_count": 22,
      "outputs": [
        {
          "output_type": "execute_result",
          "data": {
            "text/plain": [
              "list"
            ]
          },
          "metadata": {
            "tags": []
          },
          "execution_count": 22
        }
      ]
    },
    {
      "cell_type": "code",
      "metadata": {
        "colab": {
          "base_uri": "https://localhost:8080/"
        },
        "id": "I_vqUpnAl2gN",
        "outputId": "1e476369-068c-4d55-afbc-e6dde1ab11e5"
      },
      "source": [
        "len(html)"
      ],
      "execution_count": 23,
      "outputs": [
        {
          "output_type": "execute_result",
          "data": {
            "text/plain": [
              "1"
            ]
          },
          "metadata": {
            "tags": []
          },
          "execution_count": 23
        }
      ]
    },
    {
      "cell_type": "code",
      "metadata": {
        "colab": {
          "base_uri": "https://localhost:8080/"
        },
        "id": "FFDSIRBT5scX",
        "outputId": "e0ebd756-9365-4a92-d6b3-f82b539c920e"
      },
      "source": [
        "falhas = html[0]\n",
        "np.shape(falhas)"
      ],
      "execution_count": 24,
      "outputs": [
        {
          "output_type": "execute_result",
          "data": {
            "text/plain": [
              "(563, 7)"
            ]
          },
          "metadata": {
            "tags": []
          },
          "execution_count": 24
        }
      ]
    },
    {
      "cell_type": "code",
      "metadata": {
        "colab": {
          "base_uri": "https://localhost:8080/",
          "height": 0
        },
        "id": "8XLK2snI7ign",
        "outputId": "39fd0148-4136-46fb-d0a9-39ddf71abf60"
      },
      "source": [
        "falhas"
      ],
      "execution_count": 25,
      "outputs": [
        {
          "output_type": "execute_result",
          "data": {
            "text/html": [
              "<div>\n",
              "<style scoped>\n",
              "    .dataframe tbody tr th:only-of-type {\n",
              "        vertical-align: middle;\n",
              "    }\n",
              "\n",
              "    .dataframe tbody tr th {\n",
              "        vertical-align: top;\n",
              "    }\n",
              "\n",
              "    .dataframe thead th {\n",
              "        text-align: right;\n",
              "    }\n",
              "</style>\n",
              "<table border=\"1\" class=\"dataframe\">\n",
              "  <thead>\n",
              "    <tr style=\"text-align: right;\">\n",
              "      <th></th>\n",
              "      <th>Bank NameBank</th>\n",
              "      <th>CityCity</th>\n",
              "      <th>StateSt</th>\n",
              "      <th>CertCert</th>\n",
              "      <th>Acquiring InstitutionAI</th>\n",
              "      <th>Closing DateClosing</th>\n",
              "      <th>FundFund</th>\n",
              "    </tr>\n",
              "  </thead>\n",
              "  <tbody>\n",
              "    <tr>\n",
              "      <th>0</th>\n",
              "      <td>Almena State Bank</td>\n",
              "      <td>Almena</td>\n",
              "      <td>KS</td>\n",
              "      <td>15426</td>\n",
              "      <td>Equity Bank</td>\n",
              "      <td>October 23, 2020</td>\n",
              "      <td>10538</td>\n",
              "    </tr>\n",
              "    <tr>\n",
              "      <th>1</th>\n",
              "      <td>First City Bank of Florida</td>\n",
              "      <td>Fort Walton Beach</td>\n",
              "      <td>FL</td>\n",
              "      <td>16748</td>\n",
              "      <td>United Fidelity Bank, fsb</td>\n",
              "      <td>October 16, 2020</td>\n",
              "      <td>10537</td>\n",
              "    </tr>\n",
              "    <tr>\n",
              "      <th>2</th>\n",
              "      <td>The First State Bank</td>\n",
              "      <td>Barboursville</td>\n",
              "      <td>WV</td>\n",
              "      <td>14361</td>\n",
              "      <td>MVB Bank, Inc.</td>\n",
              "      <td>April 3, 2020</td>\n",
              "      <td>10536</td>\n",
              "    </tr>\n",
              "    <tr>\n",
              "      <th>3</th>\n",
              "      <td>Ericson State Bank</td>\n",
              "      <td>Ericson</td>\n",
              "      <td>NE</td>\n",
              "      <td>18265</td>\n",
              "      <td>Farmers and Merchants Bank</td>\n",
              "      <td>February 14, 2020</td>\n",
              "      <td>10535</td>\n",
              "    </tr>\n",
              "    <tr>\n",
              "      <th>4</th>\n",
              "      <td>City National Bank of New Jersey</td>\n",
              "      <td>Newark</td>\n",
              "      <td>NJ</td>\n",
              "      <td>21111</td>\n",
              "      <td>Industrial Bank</td>\n",
              "      <td>November 1, 2019</td>\n",
              "      <td>10534</td>\n",
              "    </tr>\n",
              "    <tr>\n",
              "      <th>...</th>\n",
              "      <td>...</td>\n",
              "      <td>...</td>\n",
              "      <td>...</td>\n",
              "      <td>...</td>\n",
              "      <td>...</td>\n",
              "      <td>...</td>\n",
              "      <td>...</td>\n",
              "    </tr>\n",
              "    <tr>\n",
              "      <th>558</th>\n",
              "      <td>Superior Bank, FSB</td>\n",
              "      <td>Hinsdale</td>\n",
              "      <td>IL</td>\n",
              "      <td>32646</td>\n",
              "      <td>Superior Federal, FSB</td>\n",
              "      <td>July 27, 2001</td>\n",
              "      <td>6004</td>\n",
              "    </tr>\n",
              "    <tr>\n",
              "      <th>559</th>\n",
              "      <td>Malta National Bank</td>\n",
              "      <td>Malta</td>\n",
              "      <td>OH</td>\n",
              "      <td>6629</td>\n",
              "      <td>North Valley Bank</td>\n",
              "      <td>May 3, 2001</td>\n",
              "      <td>4648</td>\n",
              "    </tr>\n",
              "    <tr>\n",
              "      <th>560</th>\n",
              "      <td>First Alliance Bank &amp; Trust Co.</td>\n",
              "      <td>Manchester</td>\n",
              "      <td>NH</td>\n",
              "      <td>34264</td>\n",
              "      <td>Southern New Hampshire Bank &amp; Trust</td>\n",
              "      <td>February 2, 2001</td>\n",
              "      <td>4647</td>\n",
              "    </tr>\n",
              "    <tr>\n",
              "      <th>561</th>\n",
              "      <td>National State Bank of Metropolis</td>\n",
              "      <td>Metropolis</td>\n",
              "      <td>IL</td>\n",
              "      <td>3815</td>\n",
              "      <td>Banterra Bank of Marion</td>\n",
              "      <td>December 14, 2000</td>\n",
              "      <td>4646</td>\n",
              "    </tr>\n",
              "    <tr>\n",
              "      <th>562</th>\n",
              "      <td>Bank of Honolulu</td>\n",
              "      <td>Honolulu</td>\n",
              "      <td>HI</td>\n",
              "      <td>21029</td>\n",
              "      <td>Bank of the Orient</td>\n",
              "      <td>October 13, 2000</td>\n",
              "      <td>4645</td>\n",
              "    </tr>\n",
              "  </tbody>\n",
              "</table>\n",
              "<p>563 rows × 7 columns</p>\n",
              "</div>"
            ],
            "text/plain": [
              "                         Bank NameBank  ... FundFund\n",
              "0                    Almena State Bank  ...    10538\n",
              "1           First City Bank of Florida  ...    10537\n",
              "2                 The First State Bank  ...    10536\n",
              "3                   Ericson State Bank  ...    10535\n",
              "4     City National Bank of New Jersey  ...    10534\n",
              "..                                 ...  ...      ...\n",
              "558                 Superior Bank, FSB  ...     6004\n",
              "559                Malta National Bank  ...     4648\n",
              "560    First Alliance Bank & Trust Co.  ...     4647\n",
              "561  National State Bank of Metropolis  ...     4646\n",
              "562                   Bank of Honolulu  ...     4645\n",
              "\n",
              "[563 rows x 7 columns]"
            ]
          },
          "metadata": {
            "tags": []
          },
          "execution_count": 25
        }
      ]
    },
    {
      "cell_type": "markdown",
      "metadata": {
        "id": "8lGpJoQhAvwi"
      },
      "source": [
        "### **Tratando os dados HTML:**"
      ]
    },
    {
      "cell_type": "code",
      "metadata": {
        "colab": {
          "base_uri": "https://localhost:8080/",
          "height": 0
        },
        "id": "lYzEaIfD6Ryj",
        "outputId": "c7db9bb8-9353-4715-8b70-7ac4f575385c"
      },
      "source": [
        "falhas.head()"
      ],
      "execution_count": 26,
      "outputs": [
        {
          "output_type": "execute_result",
          "data": {
            "text/html": [
              "<div>\n",
              "<style scoped>\n",
              "    .dataframe tbody tr th:only-of-type {\n",
              "        vertical-align: middle;\n",
              "    }\n",
              "\n",
              "    .dataframe tbody tr th {\n",
              "        vertical-align: top;\n",
              "    }\n",
              "\n",
              "    .dataframe thead th {\n",
              "        text-align: right;\n",
              "    }\n",
              "</style>\n",
              "<table border=\"1\" class=\"dataframe\">\n",
              "  <thead>\n",
              "    <tr style=\"text-align: right;\">\n",
              "      <th></th>\n",
              "      <th>Bank NameBank</th>\n",
              "      <th>CityCity</th>\n",
              "      <th>StateSt</th>\n",
              "      <th>CertCert</th>\n",
              "      <th>Acquiring InstitutionAI</th>\n",
              "      <th>Closing DateClosing</th>\n",
              "      <th>FundFund</th>\n",
              "    </tr>\n",
              "  </thead>\n",
              "  <tbody>\n",
              "    <tr>\n",
              "      <th>0</th>\n",
              "      <td>Almena State Bank</td>\n",
              "      <td>Almena</td>\n",
              "      <td>KS</td>\n",
              "      <td>15426</td>\n",
              "      <td>Equity Bank</td>\n",
              "      <td>October 23, 2020</td>\n",
              "      <td>10538</td>\n",
              "    </tr>\n",
              "    <tr>\n",
              "      <th>1</th>\n",
              "      <td>First City Bank of Florida</td>\n",
              "      <td>Fort Walton Beach</td>\n",
              "      <td>FL</td>\n",
              "      <td>16748</td>\n",
              "      <td>United Fidelity Bank, fsb</td>\n",
              "      <td>October 16, 2020</td>\n",
              "      <td>10537</td>\n",
              "    </tr>\n",
              "    <tr>\n",
              "      <th>2</th>\n",
              "      <td>The First State Bank</td>\n",
              "      <td>Barboursville</td>\n",
              "      <td>WV</td>\n",
              "      <td>14361</td>\n",
              "      <td>MVB Bank, Inc.</td>\n",
              "      <td>April 3, 2020</td>\n",
              "      <td>10536</td>\n",
              "    </tr>\n",
              "    <tr>\n",
              "      <th>3</th>\n",
              "      <td>Ericson State Bank</td>\n",
              "      <td>Ericson</td>\n",
              "      <td>NE</td>\n",
              "      <td>18265</td>\n",
              "      <td>Farmers and Merchants Bank</td>\n",
              "      <td>February 14, 2020</td>\n",
              "      <td>10535</td>\n",
              "    </tr>\n",
              "    <tr>\n",
              "      <th>4</th>\n",
              "      <td>City National Bank of New Jersey</td>\n",
              "      <td>Newark</td>\n",
              "      <td>NJ</td>\n",
              "      <td>21111</td>\n",
              "      <td>Industrial Bank</td>\n",
              "      <td>November 1, 2019</td>\n",
              "      <td>10534</td>\n",
              "    </tr>\n",
              "  </tbody>\n",
              "</table>\n",
              "</div>"
            ],
            "text/plain": [
              "                      Bank NameBank  ... FundFund\n",
              "0                 Almena State Bank  ...    10538\n",
              "1        First City Bank of Florida  ...    10537\n",
              "2              The First State Bank  ...    10536\n",
              "3                Ericson State Bank  ...    10535\n",
              "4  City National Bank of New Jersey  ...    10534\n",
              "\n",
              "[5 rows x 7 columns]"
            ]
          },
          "metadata": {
            "tags": []
          },
          "execution_count": 26
        }
      ]
    },
    {
      "cell_type": "code",
      "metadata": {
        "colab": {
          "base_uri": "https://localhost:8080/"
        },
        "id": "lwrC6MMA6_Ky",
        "outputId": "09eb04fe-44ab-4628-818f-5edf720c5ddc"
      },
      "source": [
        "falencia = pd.to_datetime(falhas['Closing DateClosing'])\n",
        "falencia.dt.year.value_counts()"
      ],
      "execution_count": 27,
      "outputs": [
        {
          "output_type": "execute_result",
          "data": {
            "text/plain": [
              "2010    157\n",
              "2009    140\n",
              "2011     92\n",
              "2012     51\n",
              "2008     25\n",
              "2013     24\n",
              "2014     18\n",
              "2002     11\n",
              "2017      8\n",
              "2015      8\n",
              "2016      5\n",
              "2004      4\n",
              "2001      4\n",
              "2020      4\n",
              "2019      4\n",
              "2003      3\n",
              "2007      3\n",
              "2000      2\n",
              "Name: Closing DateClosing, dtype: int64"
            ]
          },
          "metadata": {
            "tags": []
          },
          "execution_count": 27
        }
      ]
    },
    {
      "cell_type": "markdown",
      "metadata": {
        "id": "s6UAJBgjVk9O"
      },
      "source": [
        "### **Trabalhando com dados XML:**"
      ]
    },
    {
      "cell_type": "code",
      "metadata": {
        "id": "C5eNHoJSEiBI"
      },
      "source": [
        "from lxml import objectify"
      ],
      "execution_count": 28,
      "outputs": []
    },
    {
      "cell_type": "code",
      "metadata": {
        "id": "a20j5p8hFIBW"
      },
      "source": [
        "path = '/content/drive/MyDrive/Data Science/Python para Analise de Dados/Files/arquivo3.xml'\n",
        "arquivo1 = objectify.parse(open(path))\n",
        "root = arquivo1.getroot()\n",
        "\n",
        "data = []\n",
        "skip_fields = ['PARENT_SEQ', 'INDICATOR_SEQ', 'DESIRED_CHANGE', 'DECIMAL_PLACES', 'YEAR']\n",
        "\n",
        "for elt in root:\n",
        "  el_data = {}\n",
        "  for child in elt.getchildren():\n",
        "    if child.tag in skip_fields:\n",
        "      continue\n",
        "    el_data[child.tag] = child.pyval\n",
        "data.append(el_data)"
      ],
      "execution_count": 29,
      "outputs": []
    },
    {
      "cell_type": "code",
      "metadata": {
        "colab": {
          "base_uri": "https://localhost:8080/",
          "height": 0
        },
        "id": "3ASUkX2nJqKj",
        "outputId": "9caf8a80-9704-41b8-925b-d4040af951eb"
      },
      "source": [
        "perf = pd.DataFrame(data)\n",
        "perf.head()"
      ],
      "execution_count": 30,
      "outputs": [
        {
          "output_type": "execute_result",
          "data": {
            "text/html": [
              "<div>\n",
              "<style scoped>\n",
              "    .dataframe tbody tr th:only-of-type {\n",
              "        vertical-align: middle;\n",
              "    }\n",
              "\n",
              "    .dataframe tbody tr th {\n",
              "        vertical-align: top;\n",
              "    }\n",
              "\n",
              "    .dataframe thead th {\n",
              "        text-align: right;\n",
              "    }\n",
              "</style>\n",
              "<table border=\"1\" class=\"dataframe\">\n",
              "  <thead>\n",
              "    <tr style=\"text-align: right;\">\n",
              "      <th></th>\n",
              "      <th>AGENCY_NAME</th>\n",
              "      <th>INDICATOR_NAME</th>\n",
              "      <th>DESCRIPTION</th>\n",
              "      <th>PERIOD_YEAR</th>\n",
              "      <th>PERIOD_MONTH</th>\n",
              "      <th>CATEGORY</th>\n",
              "      <th>FREQUENCY</th>\n",
              "      <th>INDICATOR_UNIT</th>\n",
              "      <th>YTD_TARGET</th>\n",
              "      <th>YTD_ACTUAL</th>\n",
              "      <th>MONTHLY_TARGET</th>\n",
              "      <th>MONTHLY_ACTUAL</th>\n",
              "    </tr>\n",
              "  </thead>\n",
              "  <tbody>\n",
              "    <tr>\n",
              "      <th>0</th>\n",
              "      <td>Metro-North Railroad</td>\n",
              "      <td>Escalator Availability</td>\n",
              "      <td>Percent of the time that escalators are operat...</td>\n",
              "      <td>2011</td>\n",
              "      <td>12</td>\n",
              "      <td>Service Indicators</td>\n",
              "      <td>M</td>\n",
              "      <td>%</td>\n",
              "      <td>97.0</td>\n",
              "      <td></td>\n",
              "      <td>97.0</td>\n",
              "      <td></td>\n",
              "    </tr>\n",
              "  </tbody>\n",
              "</table>\n",
              "</div>"
            ],
            "text/plain": [
              "            AGENCY_NAME          INDICATOR_NAME  ... MONTHLY_TARGET  MONTHLY_ACTUAL\n",
              "0  Metro-North Railroad  Escalator Availability  ...           97.0                \n",
              "\n",
              "[1 rows x 12 columns]"
            ]
          },
          "metadata": {
            "tags": []
          },
          "execution_count": 30
        }
      ]
    },
    {
      "cell_type": "code",
      "metadata": {
        "colab": {
          "base_uri": "https://localhost:8080/",
          "height": 0
        },
        "id": "WVrYMn5vV4gg",
        "outputId": "900f9e6e-7c61-4288-d874-68ccf92dfd5f"
      },
      "source": [
        "from io import StringIO\n",
        "tag = '<a href=\"http://www.google.com\">Google</a>'\n",
        "root = objectify.parse(StringIO(tag)).getroot()\n",
        "\n",
        "root.get('href')"
      ],
      "execution_count": 31,
      "outputs": [
        {
          "output_type": "execute_result",
          "data": {
            "application/vnd.google.colaboratory.intrinsic+json": {
              "type": "string"
            },
            "text/plain": [
              "'http://www.google.com'"
            ]
          },
          "metadata": {
            "tags": []
          },
          "execution_count": 31
        }
      ]
    },
    {
      "cell_type": "code",
      "metadata": {
        "colab": {
          "base_uri": "https://localhost:8080/",
          "height": 0
        },
        "id": "Uh83e8_qohXn",
        "outputId": "29b5a16e-a186-4ecf-d3d6-0fb93a741e37"
      },
      "source": [
        "root.text"
      ],
      "execution_count": 32,
      "outputs": [
        {
          "output_type": "execute_result",
          "data": {
            "application/vnd.google.colaboratory.intrinsic+json": {
              "type": "string"
            },
            "text/plain": [
              "'Google'"
            ]
          },
          "metadata": {
            "tags": []
          },
          "execution_count": 32
        }
      ]
    },
    {
      "cell_type": "markdown",
      "metadata": {
        "id": "FCsHMCLOW8ut"
      },
      "source": [
        "##**Trabalhando com binários:**"
      ]
    },
    {
      "cell_type": "markdown",
      "metadata": {
        "id": "JGZDJ8tTbkgV"
      },
      "source": [
        "Uma das formas mais simples de armazenar dados (também\n",
        "conhecida como serialização) de modo eficiente em formato binário é usando a serialização embutida pickle de Python. Serialização e Desserialização são mecanismos usados em muitos ambientes quando você precisa converter qualquer objeto  para algo que você pode colocar “fora” do seu aplicativo.  Esta conversão pode ser em ambos os sentidos, e é muito conveniente se você precisar salvar ou transferir dados (Ex: Criar um arquivo “exportação” / “backup” em um projeto, etc).\n",
        " "
      ]
    },
    {
      "cell_type": "code",
      "metadata": {
        "id": "zbyowZGSWNfj"
      },
      "source": [
        "picles = calendario.to_pickle('/content/drive/MyDrive/Data Science/Python para Analise de Dados/calendario_pickle')"
      ],
      "execution_count": 33,
      "outputs": []
    },
    {
      "cell_type": "code",
      "metadata": {
        "colab": {
          "base_uri": "https://localhost:8080/"
        },
        "id": "ISQZIKNiYKkM",
        "outputId": "c73138e2-f125-4eb0-e40a-5d31e33967d9"
      },
      "source": [
        "pd.read_pickle('/content/drive/MyDrive/Data Science/Python para Analise de Dados/calendario_pickle')"
      ],
      "execution_count": 34,
      "outputs": [
        {
          "output_type": "execute_result",
          "data": {
            "text/plain": [
              "1997-08-08     1\n",
              "1997-08-09     2\n",
              "1997-08-10     3\n",
              "1997-08-11     4\n",
              "1997-08-12     5\n",
              "1997-08-13     6\n",
              "1997-08-14     7\n",
              "1997-08-15     8\n",
              "1997-08-16     9\n",
              "1997-08-17    10\n",
              "Freq: D, dtype: int64"
            ]
          },
          "metadata": {
            "tags": []
          },
          "execution_count": 34
        }
      ]
    },
    {
      "cell_type": "markdown",
      "metadata": {
        "id": "msPq2q-jdmm-"
      },
      "source": [
        "### **Arquivos Feather: Extremamente rápidos para DF's**"
      ]
    },
    {
      "cell_type": "code",
      "metadata": {
        "id": "x1xGScFtZ2Vt"
      },
      "source": [
        "feather = df.to_feather('/content/drive/MyDrive/Data Science/Python para Analise de Dados/df.feather')\n",
        "feather"
      ],
      "execution_count": 35,
      "outputs": []
    },
    {
      "cell_type": "code",
      "metadata": {
        "colab": {
          "base_uri": "https://localhost:8080/",
          "height": 0
        },
        "id": "0WWnvd-1arSS",
        "outputId": "7377b909-62b5-4424-81c4-2d358f9378ab"
      },
      "source": [
        "pd.read_feather('/content/drive/MyDrive/Data Science/Python para Analise de Dados/df.feather')"
      ],
      "execution_count": 36,
      "outputs": [
        {
          "output_type": "execute_result",
          "data": {
            "text/html": [
              "<div>\n",
              "<style scoped>\n",
              "    .dataframe tbody tr th:only-of-type {\n",
              "        vertical-align: middle;\n",
              "    }\n",
              "\n",
              "    .dataframe tbody tr th {\n",
              "        vertical-align: top;\n",
              "    }\n",
              "\n",
              "    .dataframe thead th {\n",
              "        text-align: right;\n",
              "    }\n",
              "</style>\n",
              "<table border=\"1\" class=\"dataframe\">\n",
              "  <thead>\n",
              "    <tr style=\"text-align: right;\">\n",
              "      <th></th>\n",
              "      <th>chave1</th>\n",
              "      <th>chave2</th>\n",
              "      <th>valor1</th>\n",
              "      <th>valor2</th>\n",
              "    </tr>\n",
              "  </thead>\n",
              "  <tbody>\n",
              "    <tr>\n",
              "      <th>0</th>\n",
              "      <td>um</td>\n",
              "      <td>a</td>\n",
              "      <td>1</td>\n",
              "      <td>2</td>\n",
              "    </tr>\n",
              "    <tr>\n",
              "      <th>1</th>\n",
              "      <td>um</td>\n",
              "      <td>b</td>\n",
              "      <td>3</td>\n",
              "      <td>4</td>\n",
              "    </tr>\n",
              "    <tr>\n",
              "      <th>2</th>\n",
              "      <td>um</td>\n",
              "      <td>c</td>\n",
              "      <td>5</td>\n",
              "      <td>6</td>\n",
              "    </tr>\n",
              "    <tr>\n",
              "      <th>3</th>\n",
              "      <td>um</td>\n",
              "      <td>d</td>\n",
              "      <td>7</td>\n",
              "      <td>8</td>\n",
              "    </tr>\n",
              "    <tr>\n",
              "      <th>4</th>\n",
              "      <td>dois</td>\n",
              "      <td>a</td>\n",
              "      <td>9</td>\n",
              "      <td>10</td>\n",
              "    </tr>\n",
              "    <tr>\n",
              "      <th>5</th>\n",
              "      <td>dois</td>\n",
              "      <td>b</td>\n",
              "      <td>11</td>\n",
              "      <td>12</td>\n",
              "    </tr>\n",
              "    <tr>\n",
              "      <th>6</th>\n",
              "      <td>dois</td>\n",
              "      <td>c</td>\n",
              "      <td>13</td>\n",
              "      <td>14</td>\n",
              "    </tr>\n",
              "    <tr>\n",
              "      <th>7</th>\n",
              "      <td>dois</td>\n",
              "      <td>d</td>\n",
              "      <td>15</td>\n",
              "      <td>16</td>\n",
              "    </tr>\n",
              "  </tbody>\n",
              "</table>\n",
              "</div>"
            ],
            "text/plain": [
              "  chave1 chave2  valor1  valor2\n",
              "0     um      a       1       2\n",
              "1     um      b       3       4\n",
              "2     um      c       5       6\n",
              "3     um      d       7       8\n",
              "4   dois      a       9      10\n",
              "5   dois      b      11      12\n",
              "6   dois      c      13      14\n",
              "7   dois      d      15      16"
            ]
          },
          "metadata": {
            "tags": []
          },
          "execution_count": 36
        }
      ]
    },
    {
      "cell_type": "markdown",
      "metadata": {
        "id": "xIVWEjE4fahk"
      },
      "source": [
        "***Bcolz***: Um conteiner que lê arquivos com muitas linhas e 'zipa' ele:"
      ]
    },
    {
      "cell_type": "markdown",
      "metadata": {
        "id": "UN0WFKzmoMA0"
      },
      "source": [
        "### **Arquivos DF5**: Utilizado para **arquivos locais enormes** em formato **comprimido**"
      ]
    },
    {
      "cell_type": "code",
      "metadata": {
        "colab": {
          "base_uri": "https://localhost:8080/",
          "height": 0
        },
        "id": "zSPrFYA8f06d",
        "outputId": "55b61d66-7975-4ad2-fb83-d91be40ec250"
      },
      "source": [
        "df5 = pd.DataFrame({'a': np.arange(10000)})\n",
        "df5"
      ],
      "execution_count": 37,
      "outputs": [
        {
          "output_type": "execute_result",
          "data": {
            "text/html": [
              "<div>\n",
              "<style scoped>\n",
              "    .dataframe tbody tr th:only-of-type {\n",
              "        vertical-align: middle;\n",
              "    }\n",
              "\n",
              "    .dataframe tbody tr th {\n",
              "        vertical-align: top;\n",
              "    }\n",
              "\n",
              "    .dataframe thead th {\n",
              "        text-align: right;\n",
              "    }\n",
              "</style>\n",
              "<table border=\"1\" class=\"dataframe\">\n",
              "  <thead>\n",
              "    <tr style=\"text-align: right;\">\n",
              "      <th></th>\n",
              "      <th>a</th>\n",
              "    </tr>\n",
              "  </thead>\n",
              "  <tbody>\n",
              "    <tr>\n",
              "      <th>0</th>\n",
              "      <td>0</td>\n",
              "    </tr>\n",
              "    <tr>\n",
              "      <th>1</th>\n",
              "      <td>1</td>\n",
              "    </tr>\n",
              "    <tr>\n",
              "      <th>2</th>\n",
              "      <td>2</td>\n",
              "    </tr>\n",
              "    <tr>\n",
              "      <th>3</th>\n",
              "      <td>3</td>\n",
              "    </tr>\n",
              "    <tr>\n",
              "      <th>4</th>\n",
              "      <td>4</td>\n",
              "    </tr>\n",
              "    <tr>\n",
              "      <th>...</th>\n",
              "      <td>...</td>\n",
              "    </tr>\n",
              "    <tr>\n",
              "      <th>9995</th>\n",
              "      <td>9995</td>\n",
              "    </tr>\n",
              "    <tr>\n",
              "      <th>9996</th>\n",
              "      <td>9996</td>\n",
              "    </tr>\n",
              "    <tr>\n",
              "      <th>9997</th>\n",
              "      <td>9997</td>\n",
              "    </tr>\n",
              "    <tr>\n",
              "      <th>9998</th>\n",
              "      <td>9998</td>\n",
              "    </tr>\n",
              "    <tr>\n",
              "      <th>9999</th>\n",
              "      <td>9999</td>\n",
              "    </tr>\n",
              "  </tbody>\n",
              "</table>\n",
              "<p>10000 rows × 1 columns</p>\n",
              "</div>"
            ],
            "text/plain": [
              "         a\n",
              "0        0\n",
              "1        1\n",
              "2        2\n",
              "3        3\n",
              "4        4\n",
              "...    ...\n",
              "9995  9995\n",
              "9996  9996\n",
              "9997  9997\n",
              "9998  9998\n",
              "9999  9999\n",
              "\n",
              "[10000 rows x 1 columns]"
            ]
          },
          "metadata": {
            "tags": []
          },
          "execution_count": 37
        }
      ]
    },
    {
      "cell_type": "code",
      "metadata": {
        "colab": {
          "base_uri": "https://localhost:8080/"
        },
        "id": "T8pa7NuCiwfK",
        "outputId": "6a883683-8b95-4c1b-e08c-5225d6781bc5"
      },
      "source": [
        "path = pd.HDFStore('/content/drive/MyDrive/Data Science/Python para Analise de Dados/mydata.h5')\n",
        "path['obj1'] = df5\n",
        "path['obj1_col'] = df5['a']\n",
        "path"
      ],
      "execution_count": 38,
      "outputs": [
        {
          "output_type": "execute_result",
          "data": {
            "text/plain": [
              "<class 'pandas.io.pytables.HDFStore'>\n",
              "File path: /content/drive/MyDrive/Data Science/Python para Analise de Dados/mydata.h5"
            ]
          },
          "metadata": {
            "tags": []
          },
          "execution_count": 38
        }
      ]
    },
    {
      "cell_type": "code",
      "metadata": {
        "colab": {
          "base_uri": "https://localhost:8080/",
          "height": 0
        },
        "id": "eeUacbWLj7TZ",
        "outputId": "9b7ae497-5b0a-44a5-b07e-8db4d2574ea9"
      },
      "source": [
        "path['obj1']"
      ],
      "execution_count": 39,
      "outputs": [
        {
          "output_type": "execute_result",
          "data": {
            "text/html": [
              "<div>\n",
              "<style scoped>\n",
              "    .dataframe tbody tr th:only-of-type {\n",
              "        vertical-align: middle;\n",
              "    }\n",
              "\n",
              "    .dataframe tbody tr th {\n",
              "        vertical-align: top;\n",
              "    }\n",
              "\n",
              "    .dataframe thead th {\n",
              "        text-align: right;\n",
              "    }\n",
              "</style>\n",
              "<table border=\"1\" class=\"dataframe\">\n",
              "  <thead>\n",
              "    <tr style=\"text-align: right;\">\n",
              "      <th></th>\n",
              "      <th>a</th>\n",
              "    </tr>\n",
              "  </thead>\n",
              "  <tbody>\n",
              "    <tr>\n",
              "      <th>0</th>\n",
              "      <td>0</td>\n",
              "    </tr>\n",
              "    <tr>\n",
              "      <th>1</th>\n",
              "      <td>1</td>\n",
              "    </tr>\n",
              "    <tr>\n",
              "      <th>2</th>\n",
              "      <td>2</td>\n",
              "    </tr>\n",
              "    <tr>\n",
              "      <th>3</th>\n",
              "      <td>3</td>\n",
              "    </tr>\n",
              "    <tr>\n",
              "      <th>4</th>\n",
              "      <td>4</td>\n",
              "    </tr>\n",
              "    <tr>\n",
              "      <th>...</th>\n",
              "      <td>...</td>\n",
              "    </tr>\n",
              "    <tr>\n",
              "      <th>9995</th>\n",
              "      <td>9995</td>\n",
              "    </tr>\n",
              "    <tr>\n",
              "      <th>9996</th>\n",
              "      <td>9996</td>\n",
              "    </tr>\n",
              "    <tr>\n",
              "      <th>9997</th>\n",
              "      <td>9997</td>\n",
              "    </tr>\n",
              "    <tr>\n",
              "      <th>9998</th>\n",
              "      <td>9998</td>\n",
              "    </tr>\n",
              "    <tr>\n",
              "      <th>9999</th>\n",
              "      <td>9999</td>\n",
              "    </tr>\n",
              "  </tbody>\n",
              "</table>\n",
              "<p>10000 rows × 1 columns</p>\n",
              "</div>"
            ],
            "text/plain": [
              "         a\n",
              "0        0\n",
              "1        1\n",
              "2        2\n",
              "3        3\n",
              "4        4\n",
              "...    ...\n",
              "9995  9995\n",
              "9996  9996\n",
              "9997  9997\n",
              "9998  9998\n",
              "9999  9999\n",
              "\n",
              "[10000 rows x 1 columns]"
            ]
          },
          "metadata": {
            "tags": []
          },
          "execution_count": 39
        }
      ]
    },
    {
      "cell_type": "markdown",
      "metadata": {
        "id": "TkfIMuiBoxLo"
      },
      "source": [
        "**Criando colunas e fazendo queries:**"
      ]
    },
    {
      "cell_type": "markdown",
      "metadata": {
        "id": "HpCYp6R2q5z8"
      },
      "source": [
        "Obs: HDFStore aceita dois esquemas de armazenagem: 'fixed' e 'table'. Table é mais lento, porém aceita queries"
      ]
    },
    {
      "cell_type": "code",
      "metadata": {
        "id": "unEPy_W8kLV6"
      },
      "source": [
        "path.put('obj2', df5, format='table')"
      ],
      "execution_count": 40,
      "outputs": []
    },
    {
      "cell_type": "markdown",
      "metadata": {
        "id": "_DPJwlEvm1A3"
      },
      "source": [
        "Obs: path.put('obj2', df5, format='table') == path['obj2'] = df5"
      ]
    },
    {
      "cell_type": "code",
      "metadata": {
        "colab": {
          "base_uri": "https://localhost:8080/",
          "height": 0
        },
        "id": "ZnY1NXdbnKMq",
        "outputId": "90e03b64-4454-4015-cca0-500066adf57d"
      },
      "source": [
        "path.select('obj2', where=['index >= 30 and index <=50'])"
      ],
      "execution_count": 41,
      "outputs": [
        {
          "output_type": "execute_result",
          "data": {
            "text/html": [
              "<div>\n",
              "<style scoped>\n",
              "    .dataframe tbody tr th:only-of-type {\n",
              "        vertical-align: middle;\n",
              "    }\n",
              "\n",
              "    .dataframe tbody tr th {\n",
              "        vertical-align: top;\n",
              "    }\n",
              "\n",
              "    .dataframe thead th {\n",
              "        text-align: right;\n",
              "    }\n",
              "</style>\n",
              "<table border=\"1\" class=\"dataframe\">\n",
              "  <thead>\n",
              "    <tr style=\"text-align: right;\">\n",
              "      <th></th>\n",
              "      <th>a</th>\n",
              "    </tr>\n",
              "  </thead>\n",
              "  <tbody>\n",
              "    <tr>\n",
              "      <th>30</th>\n",
              "      <td>30</td>\n",
              "    </tr>\n",
              "    <tr>\n",
              "      <th>31</th>\n",
              "      <td>31</td>\n",
              "    </tr>\n",
              "    <tr>\n",
              "      <th>32</th>\n",
              "      <td>32</td>\n",
              "    </tr>\n",
              "    <tr>\n",
              "      <th>33</th>\n",
              "      <td>33</td>\n",
              "    </tr>\n",
              "    <tr>\n",
              "      <th>34</th>\n",
              "      <td>34</td>\n",
              "    </tr>\n",
              "    <tr>\n",
              "      <th>35</th>\n",
              "      <td>35</td>\n",
              "    </tr>\n",
              "    <tr>\n",
              "      <th>36</th>\n",
              "      <td>36</td>\n",
              "    </tr>\n",
              "    <tr>\n",
              "      <th>37</th>\n",
              "      <td>37</td>\n",
              "    </tr>\n",
              "    <tr>\n",
              "      <th>38</th>\n",
              "      <td>38</td>\n",
              "    </tr>\n",
              "    <tr>\n",
              "      <th>39</th>\n",
              "      <td>39</td>\n",
              "    </tr>\n",
              "    <tr>\n",
              "      <th>40</th>\n",
              "      <td>40</td>\n",
              "    </tr>\n",
              "    <tr>\n",
              "      <th>41</th>\n",
              "      <td>41</td>\n",
              "    </tr>\n",
              "    <tr>\n",
              "      <th>42</th>\n",
              "      <td>42</td>\n",
              "    </tr>\n",
              "    <tr>\n",
              "      <th>43</th>\n",
              "      <td>43</td>\n",
              "    </tr>\n",
              "    <tr>\n",
              "      <th>44</th>\n",
              "      <td>44</td>\n",
              "    </tr>\n",
              "    <tr>\n",
              "      <th>45</th>\n",
              "      <td>45</td>\n",
              "    </tr>\n",
              "    <tr>\n",
              "      <th>46</th>\n",
              "      <td>46</td>\n",
              "    </tr>\n",
              "    <tr>\n",
              "      <th>47</th>\n",
              "      <td>47</td>\n",
              "    </tr>\n",
              "    <tr>\n",
              "      <th>48</th>\n",
              "      <td>48</td>\n",
              "    </tr>\n",
              "    <tr>\n",
              "      <th>49</th>\n",
              "      <td>49</td>\n",
              "    </tr>\n",
              "    <tr>\n",
              "      <th>50</th>\n",
              "      <td>50</td>\n",
              "    </tr>\n",
              "  </tbody>\n",
              "</table>\n",
              "</div>"
            ],
            "text/plain": [
              "     a\n",
              "30  30\n",
              "31  31\n",
              "32  32\n",
              "33  33\n",
              "34  34\n",
              "35  35\n",
              "36  36\n",
              "37  37\n",
              "38  38\n",
              "39  39\n",
              "40  40\n",
              "41  41\n",
              "42  42\n",
              "43  43\n",
              "44  44\n",
              "45  45\n",
              "46  46\n",
              "47  47\n",
              "48  48\n",
              "49  49\n",
              "50  50"
            ]
          },
          "metadata": {
            "tags": []
          },
          "execution_count": 41
        }
      ]
    },
    {
      "cell_type": "markdown",
      "metadata": {
        "id": "4NdypxiybXxC"
      },
      "source": [
        "## **Trabalhando com arquivos excel:**"
      ]
    },
    {
      "cell_type": "markdown",
      "metadata": {
        "id": "4-5FLzJia4n1"
      },
      "source": [
        "### **Abrindo arquivos em Excel:**"
      ]
    },
    {
      "cell_type": "markdown",
      "metadata": {
        "id": "pisnwmcCcmza"
      },
      "source": [
        "**Obs: Ambos os métodos fazem a mesma coisa, no entanto, ExcelFile é mais rápido, principalmente quando se tratar de vários arquivos**"
      ]
    },
    {
      "cell_type": "code",
      "metadata": {
        "colab": {
          "base_uri": "https://localhost:8080/",
          "height": 0
        },
        "id": "O9tFanwo2fYE",
        "outputId": "ffbcb770-b8f2-44e6-81a5-2d3d21715ed0"
      },
      "source": [
        "xlsx = pd.ExcelFile('/content/drive/MyDrive/Data Science/Python para Analise de Dados/calendario.xlsx')\n",
        "xlsx.parse()"
      ],
      "execution_count": 42,
      "outputs": [
        {
          "output_type": "execute_result",
          "data": {
            "text/html": [
              "<div>\n",
              "<style scoped>\n",
              "    .dataframe tbody tr th:only-of-type {\n",
              "        vertical-align: middle;\n",
              "    }\n",
              "\n",
              "    .dataframe tbody tr th {\n",
              "        vertical-align: top;\n",
              "    }\n",
              "\n",
              "    .dataframe thead th {\n",
              "        text-align: right;\n",
              "    }\n",
              "</style>\n",
              "<table border=\"1\" class=\"dataframe\">\n",
              "  <thead>\n",
              "    <tr style=\"text-align: right;\">\n",
              "      <th></th>\n",
              "      <th>Unnamed: 0</th>\n",
              "      <th>0</th>\n",
              "    </tr>\n",
              "  </thead>\n",
              "  <tbody>\n",
              "    <tr>\n",
              "      <th>0</th>\n",
              "      <td>1997-08-08</td>\n",
              "      <td>1</td>\n",
              "    </tr>\n",
              "    <tr>\n",
              "      <th>1</th>\n",
              "      <td>1997-08-09</td>\n",
              "      <td>2</td>\n",
              "    </tr>\n",
              "    <tr>\n",
              "      <th>2</th>\n",
              "      <td>1997-08-10</td>\n",
              "      <td>3</td>\n",
              "    </tr>\n",
              "    <tr>\n",
              "      <th>3</th>\n",
              "      <td>1997-08-11</td>\n",
              "      <td>4</td>\n",
              "    </tr>\n",
              "    <tr>\n",
              "      <th>4</th>\n",
              "      <td>1997-08-12</td>\n",
              "      <td>5</td>\n",
              "    </tr>\n",
              "    <tr>\n",
              "      <th>5</th>\n",
              "      <td>1997-08-13</td>\n",
              "      <td>6</td>\n",
              "    </tr>\n",
              "    <tr>\n",
              "      <th>6</th>\n",
              "      <td>1997-08-14</td>\n",
              "      <td>7</td>\n",
              "    </tr>\n",
              "    <tr>\n",
              "      <th>7</th>\n",
              "      <td>1997-08-15</td>\n",
              "      <td>8</td>\n",
              "    </tr>\n",
              "    <tr>\n",
              "      <th>8</th>\n",
              "      <td>1997-08-16</td>\n",
              "      <td>9</td>\n",
              "    </tr>\n",
              "    <tr>\n",
              "      <th>9</th>\n",
              "      <td>1997-08-17</td>\n",
              "      <td>10</td>\n",
              "    </tr>\n",
              "  </tbody>\n",
              "</table>\n",
              "</div>"
            ],
            "text/plain": [
              "  Unnamed: 0   0\n",
              "0 1997-08-08   1\n",
              "1 1997-08-09   2\n",
              "2 1997-08-10   3\n",
              "3 1997-08-11   4\n",
              "4 1997-08-12   5\n",
              "5 1997-08-13   6\n",
              "6 1997-08-14   7\n",
              "7 1997-08-15   8\n",
              "8 1997-08-16   9\n",
              "9 1997-08-17  10"
            ]
          },
          "metadata": {
            "tags": []
          },
          "execution_count": 42
        }
      ]
    },
    {
      "cell_type": "code",
      "metadata": {
        "colab": {
          "base_uri": "https://localhost:8080/",
          "height": 0
        },
        "id": "VkKnSOHbS6Er",
        "outputId": "9c59357e-6fc6-4e04-985f-370f0e0ad683"
      },
      "source": [
        "xlsx2 = pd.read_excel('/content/drive/MyDrive/Data Science/Python para Analise de Dados/calendario.xlsx')\n",
        "xlsx2"
      ],
      "execution_count": 43,
      "outputs": [
        {
          "output_type": "execute_result",
          "data": {
            "text/html": [
              "<div>\n",
              "<style scoped>\n",
              "    .dataframe tbody tr th:only-of-type {\n",
              "        vertical-align: middle;\n",
              "    }\n",
              "\n",
              "    .dataframe tbody tr th {\n",
              "        vertical-align: top;\n",
              "    }\n",
              "\n",
              "    .dataframe thead th {\n",
              "        text-align: right;\n",
              "    }\n",
              "</style>\n",
              "<table border=\"1\" class=\"dataframe\">\n",
              "  <thead>\n",
              "    <tr style=\"text-align: right;\">\n",
              "      <th></th>\n",
              "      <th>Unnamed: 0</th>\n",
              "      <th>0</th>\n",
              "    </tr>\n",
              "  </thead>\n",
              "  <tbody>\n",
              "    <tr>\n",
              "      <th>0</th>\n",
              "      <td>1997-08-08</td>\n",
              "      <td>1</td>\n",
              "    </tr>\n",
              "    <tr>\n",
              "      <th>1</th>\n",
              "      <td>1997-08-09</td>\n",
              "      <td>2</td>\n",
              "    </tr>\n",
              "    <tr>\n",
              "      <th>2</th>\n",
              "      <td>1997-08-10</td>\n",
              "      <td>3</td>\n",
              "    </tr>\n",
              "    <tr>\n",
              "      <th>3</th>\n",
              "      <td>1997-08-11</td>\n",
              "      <td>4</td>\n",
              "    </tr>\n",
              "    <tr>\n",
              "      <th>4</th>\n",
              "      <td>1997-08-12</td>\n",
              "      <td>5</td>\n",
              "    </tr>\n",
              "    <tr>\n",
              "      <th>5</th>\n",
              "      <td>1997-08-13</td>\n",
              "      <td>6</td>\n",
              "    </tr>\n",
              "    <tr>\n",
              "      <th>6</th>\n",
              "      <td>1997-08-14</td>\n",
              "      <td>7</td>\n",
              "    </tr>\n",
              "    <tr>\n",
              "      <th>7</th>\n",
              "      <td>1997-08-15</td>\n",
              "      <td>8</td>\n",
              "    </tr>\n",
              "    <tr>\n",
              "      <th>8</th>\n",
              "      <td>1997-08-16</td>\n",
              "      <td>9</td>\n",
              "    </tr>\n",
              "    <tr>\n",
              "      <th>9</th>\n",
              "      <td>1997-08-17</td>\n",
              "      <td>10</td>\n",
              "    </tr>\n",
              "  </tbody>\n",
              "</table>\n",
              "</div>"
            ],
            "text/plain": [
              "  Unnamed: 0   0\n",
              "0 1997-08-08   1\n",
              "1 1997-08-09   2\n",
              "2 1997-08-10   3\n",
              "3 1997-08-11   4\n",
              "4 1997-08-12   5\n",
              "5 1997-08-13   6\n",
              "6 1997-08-14   7\n",
              "7 1997-08-15   8\n",
              "8 1997-08-16   9\n",
              "9 1997-08-17  10"
            ]
          },
          "metadata": {
            "tags": []
          },
          "execution_count": 43
        }
      ]
    },
    {
      "cell_type": "markdown",
      "metadata": {
        "id": "2qx6BSyHcJrB"
      },
      "source": [
        "### **Salvando arquivos excel:**"
      ]
    },
    {
      "cell_type": "code",
      "metadata": {
        "colab": {
          "base_uri": "https://localhost:8080/",
          "height": 0
        },
        "id": "M2O6MZqCTjM4",
        "outputId": "3b7c9c03-a469-48c7-89e2-6a750ce5a6e3"
      },
      "source": [
        "writer = pd.ExcelWriter('/content/drive/MyDrive/Data Science/Python para Analise de Dados/exemplo2.xlsx')\n",
        "df4.to_excel(writer)\n",
        "writer.save()\n",
        "df4"
      ],
      "execution_count": 44,
      "outputs": [
        {
          "output_type": "execute_result",
          "data": {
            "text/html": [
              "<div>\n",
              "<style scoped>\n",
              "    .dataframe tbody tr th:only-of-type {\n",
              "        vertical-align: middle;\n",
              "    }\n",
              "\n",
              "    .dataframe tbody tr th {\n",
              "        vertical-align: top;\n",
              "    }\n",
              "\n",
              "    .dataframe thead th {\n",
              "        text-align: right;\n",
              "    }\n",
              "</style>\n",
              "<table border=\"1\" class=\"dataframe\">\n",
              "  <thead>\n",
              "    <tr style=\"text-align: right;\">\n",
              "      <th></th>\n",
              "      <th>chave1</th>\n",
              "      <th>chave2</th>\n",
              "      <th>valor1</th>\n",
              "      <th>valor2</th>\n",
              "    </tr>\n",
              "  </thead>\n",
              "  <tbody>\n",
              "    <tr>\n",
              "      <th>0</th>\n",
              "      <td>um</td>\n",
              "      <td>a</td>\n",
              "      <td>1</td>\n",
              "      <td>2</td>\n",
              "    </tr>\n",
              "    <tr>\n",
              "      <th>1</th>\n",
              "      <td>um</td>\n",
              "      <td>b</td>\n",
              "      <td>3</td>\n",
              "      <td>4</td>\n",
              "    </tr>\n",
              "    <tr>\n",
              "      <th>2</th>\n",
              "      <td>um</td>\n",
              "      <td>c</td>\n",
              "      <td>5</td>\n",
              "      <td>6</td>\n",
              "    </tr>\n",
              "  </tbody>\n",
              "</table>\n",
              "</div>"
            ],
            "text/plain": [
              "  chave1 chave2  valor1  valor2\n",
              "0     um      a       1       2\n",
              "1     um      b       3       4\n",
              "2     um      c       5       6"
            ]
          },
          "metadata": {
            "tags": []
          },
          "execution_count": 44
        }
      ]
    },
    {
      "cell_type": "code",
      "metadata": {
        "id": "MfLnar0pUzDw"
      },
      "source": [
        "xlsx2.to_excel('/content/drive/MyDrive/Data Science/Python para Analise de Dados/exemplo3.xlsx')"
      ],
      "execution_count": 45,
      "outputs": []
    },
    {
      "cell_type": "markdown",
      "metadata": {
        "id": "q7DiUr9yHEgY"
      },
      "source": [
        "## **Trabalhando com dados de APIs web:**"
      ]
    },
    {
      "cell_type": "code",
      "metadata": {
        "id": "o_QkXHjYCPfR"
      },
      "source": [
        "import requests"
      ],
      "execution_count": 46,
      "outputs": []
    },
    {
      "cell_type": "code",
      "metadata": {
        "colab": {
          "base_uri": "https://localhost:8080/"
        },
        "id": "ftFX3MXNCRX7",
        "outputId": "2604bc7d-cf87-4e23-d07c-5767431c92aa"
      },
      "source": [
        " url = 'https://api.github.com/repos/pandas-dev/pandas/issues'\n",
        " resp = requests.get(url)\n",
        " resp"
      ],
      "execution_count": 47,
      "outputs": [
        {
          "output_type": "execute_result",
          "data": {
            "text/plain": [
              "<Response [200]>"
            ]
          },
          "metadata": {
            "tags": []
          },
          "execution_count": 47
        }
      ]
    },
    {
      "cell_type": "code",
      "metadata": {
        "id": "3fiiKxdQECfw",
        "colab": {
          "base_uri": "https://localhost:8080/",
          "height": 35
        },
        "outputId": "4b592fc0-328e-464f-dd3b-3861935fee67"
      },
      "source": [
        "dados = resp.json()\n",
        "dados[0]['title']"
      ],
      "execution_count": 48,
      "outputs": [
        {
          "output_type": "execute_result",
          "data": {
            "application/vnd.google.colaboratory.intrinsic+json": {
              "type": "string"
            },
            "text/plain": [
              "'BUG: `truncate` has wrong behavior when the Index has only one unique value'"
            ]
          },
          "metadata": {
            "tags": []
          },
          "execution_count": 48
        }
      ]
    },
    {
      "cell_type": "code",
      "metadata": {
        "id": "viY5wy_DGL-W"
      },
      "source": [
        "lista_bugs = pd.DataFrame(dados, columns=['number', 'title','labels', 'state'])"
      ],
      "execution_count": 49,
      "outputs": []
    },
    {
      "cell_type": "code",
      "metadata": {
        "colab": {
          "base_uri": "https://localhost:8080/",
          "height": 979
        },
        "id": "8wKgotzWGZBy",
        "outputId": "113ff994-f833-40d3-aa1f-24f145d641c5"
      },
      "source": [
        "lista_bugs"
      ],
      "execution_count": 50,
      "outputs": [
        {
          "output_type": "execute_result",
          "data": {
            "text/html": [
              "<div>\n",
              "<style scoped>\n",
              "    .dataframe tbody tr th:only-of-type {\n",
              "        vertical-align: middle;\n",
              "    }\n",
              "\n",
              "    .dataframe tbody tr th {\n",
              "        vertical-align: top;\n",
              "    }\n",
              "\n",
              "    .dataframe thead th {\n",
              "        text-align: right;\n",
              "    }\n",
              "</style>\n",
              "<table border=\"1\" class=\"dataframe\">\n",
              "  <thead>\n",
              "    <tr style=\"text-align: right;\">\n",
              "      <th></th>\n",
              "      <th>number</th>\n",
              "      <th>title</th>\n",
              "      <th>labels</th>\n",
              "      <th>state</th>\n",
              "    </tr>\n",
              "  </thead>\n",
              "  <tbody>\n",
              "    <tr>\n",
              "      <th>0</th>\n",
              "      <td>42365</td>\n",
              "      <td>BUG: `truncate` has wrong behavior when the In...</td>\n",
              "      <td>[{'id': 76811, 'node_id': 'MDU6TGFiZWw3NjgxMQ=...</td>\n",
              "      <td>open</td>\n",
              "    </tr>\n",
              "    <tr>\n",
              "      <th>1</th>\n",
              "      <td>42364</td>\n",
              "      <td>ENH: ASV Coverage</td>\n",
              "      <td>[{'id': 732775912, 'node_id': 'MDU6TGFiZWw3MzI...</td>\n",
              "      <td>open</td>\n",
              "    </tr>\n",
              "    <tr>\n",
              "      <th>2</th>\n",
              "      <td>42363</td>\n",
              "      <td>Backport PR #42342 on branch 1.3.x (DOC: fix d...</td>\n",
              "      <td>[{'id': 87485152, 'node_id': 'MDU6TGFiZWw4NzQ4...</td>\n",
              "      <td>open</td>\n",
              "    </tr>\n",
              "    <tr>\n",
              "      <th>3</th>\n",
              "      <td>42362</td>\n",
              "      <td>REF: handle length-0 setops cases higher up</td>\n",
              "      <td>[]</td>\n",
              "      <td>open</td>\n",
              "    </tr>\n",
              "    <tr>\n",
              "      <th>4</th>\n",
              "      <td>42361</td>\n",
              "      <td>CLN: make some private Index methods positiona...</td>\n",
              "      <td>[]</td>\n",
              "      <td>open</td>\n",
              "    </tr>\n",
              "    <tr>\n",
              "      <th>5</th>\n",
              "      <td>42360</td>\n",
              "      <td>BUG: fixes PyPy build (do not use _PyHASH_Imag)</td>\n",
              "      <td>[{'id': 129350, 'node_id': 'MDU6TGFiZWwxMjkzNT...</td>\n",
              "      <td>open</td>\n",
              "    </tr>\n",
              "    <tr>\n",
              "      <th>6</th>\n",
              "      <td>42359</td>\n",
              "      <td>STYLE disallow Series | AnyArrayLike</td>\n",
              "      <td>[{'id': 106935113, 'node_id': 'MDU6TGFiZWwxMDY...</td>\n",
              "      <td>open</td>\n",
              "    </tr>\n",
              "    <tr>\n",
              "      <th>7</th>\n",
              "      <td>42358</td>\n",
              "      <td>ENH</td>\n",
              "      <td>[]</td>\n",
              "      <td>open</td>\n",
              "    </tr>\n",
              "    <tr>\n",
              "      <th>8</th>\n",
              "      <td>42357</td>\n",
              "      <td>PERF: concat of pyarrow string array does not ...</td>\n",
              "      <td>[{'id': 8935311, 'node_id': 'MDU6TGFiZWw4OTM1M...</td>\n",
              "      <td>open</td>\n",
              "    </tr>\n",
              "    <tr>\n",
              "      <th>9</th>\n",
              "      <td>42356</td>\n",
              "      <td>BUG: AttributeError: 'DataFrame' object has no...</td>\n",
              "      <td>[{'id': 76811, 'node_id': 'MDU6TGFiZWw3NjgxMQ=...</td>\n",
              "      <td>open</td>\n",
              "    </tr>\n",
              "    <tr>\n",
              "      <th>10</th>\n",
              "      <td>42355</td>\n",
              "      <td>BUG: build failure on PyPy in hash functions</td>\n",
              "      <td>[{'id': 76811, 'node_id': 'MDU6TGFiZWw3NjgxMQ=...</td>\n",
              "      <td>open</td>\n",
              "    </tr>\n",
              "    <tr>\n",
              "      <th>11</th>\n",
              "      <td>42354</td>\n",
              "      <td>TST: mark test_wrong_url as requiring network</td>\n",
              "      <td>[]</td>\n",
              "      <td>open</td>\n",
              "    </tr>\n",
              "    <tr>\n",
              "      <th>12</th>\n",
              "      <td>42353</td>\n",
              "      <td>PERF: DatetimeIndex.union</td>\n",
              "      <td>[]</td>\n",
              "      <td>open</td>\n",
              "    </tr>\n",
              "    <tr>\n",
              "      <th>13</th>\n",
              "      <td>42352</td>\n",
              "      <td>BUG: df.to_dict(orient=\"records\") significantl...</td>\n",
              "      <td>[{'id': 76811, 'node_id': 'MDU6TGFiZWw3NjgxMQ=...</td>\n",
              "      <td>open</td>\n",
              "    </tr>\n",
              "    <tr>\n",
              "      <th>14</th>\n",
              "      <td>42351</td>\n",
              "      <td>DEPR: ignoring missing labels when indexing on...</td>\n",
              "      <td>[]</td>\n",
              "      <td>open</td>\n",
              "    </tr>\n",
              "    <tr>\n",
              "      <th>15</th>\n",
              "      <td>42350</td>\n",
              "      <td>BUG: Don't cache args during rolling/expanding...</td>\n",
              "      <td>[{'id': 76811, 'node_id': 'MDU6TGFiZWw3NjgxMQ=...</td>\n",
              "      <td>open</td>\n",
              "    </tr>\n",
              "    <tr>\n",
              "      <th>16</th>\n",
              "      <td>42349</td>\n",
              "      <td>API: pd.Label to disambiguate e.g. MultiIndex ...</td>\n",
              "      <td>[{'id': 35818298, 'node_id': 'MDU6TGFiZWwzNTgx...</td>\n",
              "      <td>open</td>\n",
              "    </tr>\n",
              "    <tr>\n",
              "      <th>17</th>\n",
              "      <td>42347</td>\n",
              "      <td>RLS: Missing assets in release 1.3.0</td>\n",
              "      <td>[{'id': 32933285, 'node_id': 'MDU6TGFiZWwzMjkz...</td>\n",
              "      <td>open</td>\n",
              "    </tr>\n",
              "    <tr>\n",
              "      <th>18</th>\n",
              "      <td>42346</td>\n",
              "      <td>Rename index when using DataFrame.reset_index</td>\n",
              "      <td>[]</td>\n",
              "      <td>open</td>\n",
              "    </tr>\n",
              "    <tr>\n",
              "      <th>19</th>\n",
              "      <td>42345</td>\n",
              "      <td>BUG: regression for 1.3.0: saving a dataframe ...</td>\n",
              "      <td>[{'id': 76811, 'node_id': 'MDU6TGFiZWw3NjgxMQ=...</td>\n",
              "      <td>open</td>\n",
              "    </tr>\n",
              "    <tr>\n",
              "      <th>20</th>\n",
              "      <td>42343</td>\n",
              "      <td>RLS: 1.3.1</td>\n",
              "      <td>[{'id': 131473665, 'node_id': 'MDU6TGFiZWwxMzE...</td>\n",
              "      <td>open</td>\n",
              "    </tr>\n",
              "    <tr>\n",
              "      <th>21</th>\n",
              "      <td>42340</td>\n",
              "      <td>DOC: Unsuppress relevant dataframe in split-ap...</td>\n",
              "      <td>[]</td>\n",
              "      <td>open</td>\n",
              "    </tr>\n",
              "    <tr>\n",
              "      <th>22</th>\n",
              "      <td>42339</td>\n",
              "      <td>ENH: Add `method='table'` for EWM.mean</td>\n",
              "      <td>[{'id': 76812, 'node_id': 'MDU6TGFiZWw3NjgxMg=...</td>\n",
              "      <td>open</td>\n",
              "    </tr>\n",
              "    <tr>\n",
              "      <th>23</th>\n",
              "      <td>42338</td>\n",
              "      <td>PERF/REGR: revert #41785</td>\n",
              "      <td>[{'id': 1465286368, 'node_id': 'MDU6TGFiZWwxND...</td>\n",
              "      <td>open</td>\n",
              "    </tr>\n",
              "    <tr>\n",
              "      <th>24</th>\n",
              "      <td>42335</td>\n",
              "      <td>BUG: Series.loc with MultiIndex whose first le...</td>\n",
              "      <td>[{'id': 76811, 'node_id': 'MDU6TGFiZWw3NjgxMQ=...</td>\n",
              "      <td>open</td>\n",
              "    </tr>\n",
              "    <tr>\n",
              "      <th>25</th>\n",
              "      <td>42333</td>\n",
              "      <td>REGR: rolling.EWMMethods.time_ewm</td>\n",
              "      <td>[{'id': 8935311, 'node_id': 'MDU6TGFiZWw4OTM1M...</td>\n",
              "      <td>open</td>\n",
              "    </tr>\n",
              "    <tr>\n",
              "      <th>26</th>\n",
              "      <td>42332</td>\n",
              "      <td>BUG: groupby().agg() loses column names for an...</td>\n",
              "      <td>[{'id': 76811, 'node_id': 'MDU6TGFiZWw3NjgxMQ=...</td>\n",
              "      <td>open</td>\n",
              "    </tr>\n",
              "    <tr>\n",
              "      <th>27</th>\n",
              "      <td>42331</td>\n",
              "      <td>BUG: Unsorted and Monotonic Indexes respond di...</td>\n",
              "      <td>[{'id': 76811, 'node_id': 'MDU6TGFiZWw3NjgxMQ=...</td>\n",
              "      <td>open</td>\n",
              "    </tr>\n",
              "    <tr>\n",
              "      <th>28</th>\n",
              "      <td>42329</td>\n",
              "      <td>BUG: .loc with MultiIndex with tuple in level ...</td>\n",
              "      <td>[{'id': 76811, 'node_id': 'MDU6TGFiZWw3NjgxMQ=...</td>\n",
              "      <td>open</td>\n",
              "    </tr>\n",
              "    <tr>\n",
              "      <th>29</th>\n",
              "      <td>42328</td>\n",
              "      <td>add Juneteenth to USFederalHolidayCalendar</td>\n",
              "      <td>[]</td>\n",
              "      <td>open</td>\n",
              "    </tr>\n",
              "  </tbody>\n",
              "</table>\n",
              "</div>"
            ],
            "text/plain": [
              "    number  ... state\n",
              "0    42365  ...  open\n",
              "1    42364  ...  open\n",
              "2    42363  ...  open\n",
              "3    42362  ...  open\n",
              "4    42361  ...  open\n",
              "5    42360  ...  open\n",
              "6    42359  ...  open\n",
              "7    42358  ...  open\n",
              "8    42357  ...  open\n",
              "9    42356  ...  open\n",
              "10   42355  ...  open\n",
              "11   42354  ...  open\n",
              "12   42353  ...  open\n",
              "13   42352  ...  open\n",
              "14   42351  ...  open\n",
              "15   42350  ...  open\n",
              "16   42349  ...  open\n",
              "17   42347  ...  open\n",
              "18   42346  ...  open\n",
              "19   42345  ...  open\n",
              "20   42343  ...  open\n",
              "21   42340  ...  open\n",
              "22   42339  ...  open\n",
              "23   42338  ...  open\n",
              "24   42335  ...  open\n",
              "25   42333  ...  open\n",
              "26   42332  ...  open\n",
              "27   42331  ...  open\n",
              "28   42329  ...  open\n",
              "29   42328  ...  open\n",
              "\n",
              "[30 rows x 4 columns]"
            ]
          },
          "metadata": {
            "tags": []
          },
          "execution_count": 50
        }
      ]
    },
    {
      "cell_type": "markdown",
      "metadata": {
        "id": "If5_tG_VvzrQ"
      },
      "source": [
        "## **Manipulando dados de banco de dados:**"
      ]
    },
    {
      "cell_type": "code",
      "metadata": {
        "id": "7EIw7OFxqB5o"
      },
      "source": [
        "import sqlite3"
      ],
      "execution_count": 51,
      "outputs": []
    },
    {
      "cell_type": "code",
      "metadata": {
        "id": "AvwylPRUqYsE"
      },
      "source": [
        "query = \"\"\"\n",
        "        CREATE TABLE teste(\n",
        "          a VARCHAR(20),\n",
        "          b VARCHAR(20),\n",
        "          c FLOAT,\n",
        "          d INT);\"\"\""
      ],
      "execution_count": 52,
      "outputs": []
    },
    {
      "cell_type": "code",
      "metadata": {
        "id": "Rfd6r-56rXfI"
      },
      "source": [
        "con = sqlite3.connect('/content/drive/MyDrive/Data Science/Python para Analise de Dados/mydata.sqlite', timeout=10)"
      ],
      "execution_count": 53,
      "outputs": []
    },
    {
      "cell_type": "code",
      "metadata": {
        "id": "nVVk26RHroE4"
      },
      "source": [
        "con.commit()"
      ],
      "execution_count": 54,
      "outputs": []
    },
    {
      "cell_type": "code",
      "metadata": {
        "id": "B87YPE5Vrue5"
      },
      "source": [
        "dados_query = [('São Paulo', 'Mogi das Cruzes', 1.25, 6),\n",
        "               ('Minas Gerais', 'Belo Horizonte', 2.6, 3), \n",
        "               ('Rio Grande do Sul', 'Pelotas', 1.7, 5)]\n",
        "stmt = \"INSERT INTO teste VALUES(?, ?, ?, ?)\""
      ],
      "execution_count": 55,
      "outputs": []
    },
    {
      "cell_type": "code",
      "metadata": {
        "colab": {
          "base_uri": "https://localhost:8080/"
        },
        "id": "WKvYbVajs8jX",
        "outputId": "d112d34f-19fa-462f-ee5d-4a130d49088a"
      },
      "source": [
        "con.executemany(stmt, dados_query)"
      ],
      "execution_count": 56,
      "outputs": [
        {
          "output_type": "execute_result",
          "data": {
            "text/plain": [
              "<sqlite3.Cursor at 0x7fd8a1e01dc0>"
            ]
          },
          "metadata": {
            "tags": []
          },
          "execution_count": 56
        }
      ]
    },
    {
      "cell_type": "code",
      "metadata": {
        "colab": {
          "base_uri": "https://localhost:8080/"
        },
        "id": "-GFAndxitDMs",
        "outputId": "a253a1d7-c0e9-4fc5-883c-924a782dff5f"
      },
      "source": [
        "tabela = con.execute('select * from teste')\n",
        "linhas = tabela.fetchall()\n",
        "linhas"
      ],
      "execution_count": 57,
      "outputs": [
        {
          "output_type": "execute_result",
          "data": {
            "text/plain": [
              "[('São Paulo', 'Mogi das Cruzes', 1.25, 6),\n",
              " ('Minas Gerais', 'Belo Horizonte', 2.6, 3),\n",
              " ('Rio Grande do Sul', 'Pelotas', 1.7, 5)]"
            ]
          },
          "metadata": {
            "tags": []
          },
          "execution_count": 57
        }
      ]
    },
    {
      "cell_type": "code",
      "metadata": {
        "colab": {
          "base_uri": "https://localhost:8080/"
        },
        "id": "kW4fnk5tuPyn",
        "outputId": "18763e92-22af-48a7-9554-94e7077dda39"
      },
      "source": [
        "colunas = tabela.description\n",
        "colunas"
      ],
      "execution_count": 58,
      "outputs": [
        {
          "output_type": "execute_result",
          "data": {
            "text/plain": [
              "(('a', None, None, None, None, None, None),\n",
              " ('b', None, None, None, None, None, None),\n",
              " ('c', None, None, None, None, None, None),\n",
              " ('d', None, None, None, None, None, None))"
            ]
          },
          "metadata": {
            "tags": []
          },
          "execution_count": 58
        }
      ]
    },
    {
      "cell_type": "code",
      "metadata": {
        "colab": {
          "base_uri": "https://localhost:8080/",
          "height": 0
        },
        "id": "PfwjSblsub0x",
        "outputId": "14d4d93c-3fab-4fa7-b91f-79bcae348c1e"
      },
      "source": [
        "df_sql = pd.DataFrame(linhas, columns=[x[0] for x in colunas])\n",
        "df_sql"
      ],
      "execution_count": 59,
      "outputs": [
        {
          "output_type": "execute_result",
          "data": {
            "text/html": [
              "<div>\n",
              "<style scoped>\n",
              "    .dataframe tbody tr th:only-of-type {\n",
              "        vertical-align: middle;\n",
              "    }\n",
              "\n",
              "    .dataframe tbody tr th {\n",
              "        vertical-align: top;\n",
              "    }\n",
              "\n",
              "    .dataframe thead th {\n",
              "        text-align: right;\n",
              "    }\n",
              "</style>\n",
              "<table border=\"1\" class=\"dataframe\">\n",
              "  <thead>\n",
              "    <tr style=\"text-align: right;\">\n",
              "      <th></th>\n",
              "      <th>a</th>\n",
              "      <th>b</th>\n",
              "      <th>c</th>\n",
              "      <th>d</th>\n",
              "    </tr>\n",
              "  </thead>\n",
              "  <tbody>\n",
              "    <tr>\n",
              "      <th>0</th>\n",
              "      <td>São Paulo</td>\n",
              "      <td>Mogi das Cruzes</td>\n",
              "      <td>1.25</td>\n",
              "      <td>6</td>\n",
              "    </tr>\n",
              "    <tr>\n",
              "      <th>1</th>\n",
              "      <td>Minas Gerais</td>\n",
              "      <td>Belo Horizonte</td>\n",
              "      <td>2.60</td>\n",
              "      <td>3</td>\n",
              "    </tr>\n",
              "    <tr>\n",
              "      <th>2</th>\n",
              "      <td>Rio Grande do Sul</td>\n",
              "      <td>Pelotas</td>\n",
              "      <td>1.70</td>\n",
              "      <td>5</td>\n",
              "    </tr>\n",
              "  </tbody>\n",
              "</table>\n",
              "</div>"
            ],
            "text/plain": [
              "                   a                b     c  d\n",
              "0          São Paulo  Mogi das Cruzes  1.25  6\n",
              "1       Minas Gerais   Belo Horizonte  2.60  3\n",
              "2  Rio Grande do Sul          Pelotas  1.70  5"
            ]
          },
          "metadata": {
            "tags": []
          },
          "execution_count": 59
        }
      ]
    }
  ]
}