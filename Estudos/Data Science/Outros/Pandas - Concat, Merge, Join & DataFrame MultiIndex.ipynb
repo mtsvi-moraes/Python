{
  "nbformat": 4,
  "nbformat_minor": 0,
  "metadata": {
    "colab": {
      "name": "Pandas - Concat, Merge, Join & DataFrame MultiIndex.ipynb",
      "provenance": [],
      "collapsed_sections": [
        "5whgn4HDuEfJ",
        "J6j3rJbTvyOc",
        "rtYmPJ7vxm09"
      ]
    },
    "kernelspec": {
      "name": "python3",
      "display_name": "Python 3"
    },
    "language_info": {
      "name": "python"
    }
  },
  "cells": [
    {
      "cell_type": "code",
      "metadata": {
        "id": "sT06w7qnT_oa"
      },
      "source": [
        "import pandas as pd\n",
        "import numpy as np\n",
        "from pandas import DataFrame, Series"
      ],
      "execution_count": null,
      "outputs": []
    },
    {
      "cell_type": "code",
      "metadata": {
        "colab": {
          "base_uri": "https://localhost:8080/",
          "height": 204
        },
        "id": "yzo-8H-eUI2f",
        "outputId": "49bdb53d-f61d-404b-e7dd-e47709f97f41"
      },
      "source": [
        "df = pd.DataFrame(data=np.arange(1, 16).reshape(5, 3), columns=['a', 'b', 'c'], index=['A', 'B', 'C', 'D', 'E'])\n",
        "df"
      ],
      "execution_count": null,
      "outputs": [
        {
          "output_type": "execute_result",
          "data": {
            "text/html": [
              "<div>\n",
              "<style scoped>\n",
              "    .dataframe tbody tr th:only-of-type {\n",
              "        vertical-align: middle;\n",
              "    }\n",
              "\n",
              "    .dataframe tbody tr th {\n",
              "        vertical-align: top;\n",
              "    }\n",
              "\n",
              "    .dataframe thead th {\n",
              "        text-align: right;\n",
              "    }\n",
              "</style>\n",
              "<table border=\"1\" class=\"dataframe\">\n",
              "  <thead>\n",
              "    <tr style=\"text-align: right;\">\n",
              "      <th></th>\n",
              "      <th>a</th>\n",
              "      <th>b</th>\n",
              "      <th>c</th>\n",
              "    </tr>\n",
              "  </thead>\n",
              "  <tbody>\n",
              "    <tr>\n",
              "      <th>A</th>\n",
              "      <td>1</td>\n",
              "      <td>2</td>\n",
              "      <td>3</td>\n",
              "    </tr>\n",
              "    <tr>\n",
              "      <th>B</th>\n",
              "      <td>4</td>\n",
              "      <td>5</td>\n",
              "      <td>6</td>\n",
              "    </tr>\n",
              "    <tr>\n",
              "      <th>C</th>\n",
              "      <td>7</td>\n",
              "      <td>8</td>\n",
              "      <td>9</td>\n",
              "    </tr>\n",
              "    <tr>\n",
              "      <th>D</th>\n",
              "      <td>10</td>\n",
              "      <td>11</td>\n",
              "      <td>12</td>\n",
              "    </tr>\n",
              "    <tr>\n",
              "      <th>E</th>\n",
              "      <td>13</td>\n",
              "      <td>14</td>\n",
              "      <td>15</td>\n",
              "    </tr>\n",
              "  </tbody>\n",
              "</table>\n",
              "</div>"
            ],
            "text/plain": [
              "    a   b   c\n",
              "A   1   2   3\n",
              "B   4   5   6\n",
              "C   7   8   9\n",
              "D  10  11  12\n",
              "E  13  14  15"
            ]
          },
          "metadata": {
            "tags": []
          },
          "execution_count": 2
        }
      ]
    },
    {
      "cell_type": "code",
      "metadata": {
        "colab": {
          "base_uri": "https://localhost:8080/",
          "height": 204
        },
        "id": "8V3fjFszUxcY",
        "outputId": "7eaca12a-5546-45a4-8c1b-5ecb6a92f7f5"
      },
      "source": [
        "df2 = pd.DataFrame(data=np.array([16, 17, 7,18, 19,7,19, 20, 7,21, 22, 10,23, 24, 13]).reshape((5,3)), \n",
        "                   columns=['d', 'e', 'f'], index=['A', 'E', 'SP', 'BR', 'JP'])\n",
        "df2"
      ],
      "execution_count": null,
      "outputs": [
        {
          "output_type": "execute_result",
          "data": {
            "text/html": [
              "<div>\n",
              "<style scoped>\n",
              "    .dataframe tbody tr th:only-of-type {\n",
              "        vertical-align: middle;\n",
              "    }\n",
              "\n",
              "    .dataframe tbody tr th {\n",
              "        vertical-align: top;\n",
              "    }\n",
              "\n",
              "    .dataframe thead th {\n",
              "        text-align: right;\n",
              "    }\n",
              "</style>\n",
              "<table border=\"1\" class=\"dataframe\">\n",
              "  <thead>\n",
              "    <tr style=\"text-align: right;\">\n",
              "      <th></th>\n",
              "      <th>d</th>\n",
              "      <th>e</th>\n",
              "      <th>f</th>\n",
              "    </tr>\n",
              "  </thead>\n",
              "  <tbody>\n",
              "    <tr>\n",
              "      <th>A</th>\n",
              "      <td>16</td>\n",
              "      <td>17</td>\n",
              "      <td>7</td>\n",
              "    </tr>\n",
              "    <tr>\n",
              "      <th>E</th>\n",
              "      <td>18</td>\n",
              "      <td>19</td>\n",
              "      <td>7</td>\n",
              "    </tr>\n",
              "    <tr>\n",
              "      <th>SP</th>\n",
              "      <td>19</td>\n",
              "      <td>20</td>\n",
              "      <td>7</td>\n",
              "    </tr>\n",
              "    <tr>\n",
              "      <th>BR</th>\n",
              "      <td>21</td>\n",
              "      <td>22</td>\n",
              "      <td>10</td>\n",
              "    </tr>\n",
              "    <tr>\n",
              "      <th>JP</th>\n",
              "      <td>23</td>\n",
              "      <td>24</td>\n",
              "      <td>13</td>\n",
              "    </tr>\n",
              "  </tbody>\n",
              "</table>\n",
              "</div>"
            ],
            "text/plain": [
              "     d   e   f\n",
              "A   16  17   7\n",
              "E   18  19   7\n",
              "SP  19  20   7\n",
              "BR  21  22  10\n",
              "JP  23  24  13"
            ]
          },
          "metadata": {
            "tags": []
          },
          "execution_count": 3
        }
      ]
    },
    {
      "cell_type": "code",
      "metadata": {
        "colab": {
          "base_uri": "https://localhost:8080/",
          "height": 142
        },
        "id": "70sJRnqBVTtl",
        "outputId": "437d5afd-91b2-490c-b0b9-7f1ddcf4e70e"
      },
      "source": [
        "df3 = pd.DataFrame(data=np.arange(31, 46).reshape(3, 5), columns=['a', 'b', 'c', 'd', 'e'])\n",
        "df3"
      ],
      "execution_count": null,
      "outputs": [
        {
          "output_type": "execute_result",
          "data": {
            "text/html": [
              "<div>\n",
              "<style scoped>\n",
              "    .dataframe tbody tr th:only-of-type {\n",
              "        vertical-align: middle;\n",
              "    }\n",
              "\n",
              "    .dataframe tbody tr th {\n",
              "        vertical-align: top;\n",
              "    }\n",
              "\n",
              "    .dataframe thead th {\n",
              "        text-align: right;\n",
              "    }\n",
              "</style>\n",
              "<table border=\"1\" class=\"dataframe\">\n",
              "  <thead>\n",
              "    <tr style=\"text-align: right;\">\n",
              "      <th></th>\n",
              "      <th>a</th>\n",
              "      <th>b</th>\n",
              "      <th>c</th>\n",
              "      <th>d</th>\n",
              "      <th>e</th>\n",
              "    </tr>\n",
              "  </thead>\n",
              "  <tbody>\n",
              "    <tr>\n",
              "      <th>0</th>\n",
              "      <td>31</td>\n",
              "      <td>32</td>\n",
              "      <td>33</td>\n",
              "      <td>34</td>\n",
              "      <td>35</td>\n",
              "    </tr>\n",
              "    <tr>\n",
              "      <th>1</th>\n",
              "      <td>36</td>\n",
              "      <td>37</td>\n",
              "      <td>38</td>\n",
              "      <td>39</td>\n",
              "      <td>40</td>\n",
              "    </tr>\n",
              "    <tr>\n",
              "      <th>2</th>\n",
              "      <td>41</td>\n",
              "      <td>42</td>\n",
              "      <td>43</td>\n",
              "      <td>44</td>\n",
              "      <td>45</td>\n",
              "    </tr>\n",
              "  </tbody>\n",
              "</table>\n",
              "</div>"
            ],
            "text/plain": [
              "    a   b   c   d   e\n",
              "0  31  32  33  34  35\n",
              "1  36  37  38  39  40\n",
              "2  41  42  43  44  45"
            ]
          },
          "metadata": {
            "tags": []
          },
          "execution_count": 4
        }
      ]
    },
    {
      "cell_type": "code",
      "metadata": {
        "colab": {
          "base_uri": "https://localhost:8080/",
          "height": 204
        },
        "id": "Da8cCMYCyHPb",
        "outputId": "b5e06ee3-7216-458f-fdec-78609341229c"
      },
      "source": [
        "df4 = pd.DataFrame(data=np.arange(5, 20).reshape(5, 3), columns=['a', 'b', 'c'])\n",
        "df4"
      ],
      "execution_count": null,
      "outputs": [
        {
          "output_type": "execute_result",
          "data": {
            "text/html": [
              "<div>\n",
              "<style scoped>\n",
              "    .dataframe tbody tr th:only-of-type {\n",
              "        vertical-align: middle;\n",
              "    }\n",
              "\n",
              "    .dataframe tbody tr th {\n",
              "        vertical-align: top;\n",
              "    }\n",
              "\n",
              "    .dataframe thead th {\n",
              "        text-align: right;\n",
              "    }\n",
              "</style>\n",
              "<table border=\"1\" class=\"dataframe\">\n",
              "  <thead>\n",
              "    <tr style=\"text-align: right;\">\n",
              "      <th></th>\n",
              "      <th>a</th>\n",
              "      <th>b</th>\n",
              "      <th>c</th>\n",
              "    </tr>\n",
              "  </thead>\n",
              "  <tbody>\n",
              "    <tr>\n",
              "      <th>0</th>\n",
              "      <td>5</td>\n",
              "      <td>6</td>\n",
              "      <td>7</td>\n",
              "    </tr>\n",
              "    <tr>\n",
              "      <th>1</th>\n",
              "      <td>8</td>\n",
              "      <td>9</td>\n",
              "      <td>10</td>\n",
              "    </tr>\n",
              "    <tr>\n",
              "      <th>2</th>\n",
              "      <td>11</td>\n",
              "      <td>12</td>\n",
              "      <td>13</td>\n",
              "    </tr>\n",
              "    <tr>\n",
              "      <th>3</th>\n",
              "      <td>14</td>\n",
              "      <td>15</td>\n",
              "      <td>16</td>\n",
              "    </tr>\n",
              "    <tr>\n",
              "      <th>4</th>\n",
              "      <td>17</td>\n",
              "      <td>18</td>\n",
              "      <td>19</td>\n",
              "    </tr>\n",
              "  </tbody>\n",
              "</table>\n",
              "</div>"
            ],
            "text/plain": [
              "    a   b   c\n",
              "0   5   6   7\n",
              "1   8   9  10\n",
              "2  11  12  13\n",
              "3  14  15  16\n",
              "4  17  18  19"
            ]
          },
          "metadata": {
            "tags": []
          },
          "execution_count": 5
        }
      ]
    },
    {
      "cell_type": "markdown",
      "metadata": {
        "id": "ZdwanxvhrWNs"
      },
      "source": [
        "## ***PD Concat***"
      ]
    },
    {
      "cell_type": "markdown",
      "metadata": {
        "id": "FmYQsQK9rhvN"
      },
      "source": [
        "**PD concat faz um full join (Junta tudo) independente de ter colunas ou indexes iguais**"
      ]
    },
    {
      "cell_type": "code",
      "metadata": {
        "colab": {
          "base_uri": "https://localhost:8080/",
          "height": 297
        },
        "id": "92b7DgvX-Q7e",
        "outputId": "fab7929a-267f-4ead-f35c-4e6a9d447b19"
      },
      "source": [
        "pd.concat([df,df3], axis=1)"
      ],
      "execution_count": null,
      "outputs": [
        {
          "output_type": "execute_result",
          "data": {
            "text/html": [
              "<div>\n",
              "<style scoped>\n",
              "    .dataframe tbody tr th:only-of-type {\n",
              "        vertical-align: middle;\n",
              "    }\n",
              "\n",
              "    .dataframe tbody tr th {\n",
              "        vertical-align: top;\n",
              "    }\n",
              "\n",
              "    .dataframe thead th {\n",
              "        text-align: right;\n",
              "    }\n",
              "</style>\n",
              "<table border=\"1\" class=\"dataframe\">\n",
              "  <thead>\n",
              "    <tr style=\"text-align: right;\">\n",
              "      <th></th>\n",
              "      <th>a</th>\n",
              "      <th>b</th>\n",
              "      <th>c</th>\n",
              "      <th>a</th>\n",
              "      <th>b</th>\n",
              "      <th>c</th>\n",
              "      <th>d</th>\n",
              "      <th>e</th>\n",
              "    </tr>\n",
              "  </thead>\n",
              "  <tbody>\n",
              "    <tr>\n",
              "      <th>A</th>\n",
              "      <td>1.0</td>\n",
              "      <td>2.0</td>\n",
              "      <td>3.0</td>\n",
              "      <td>NaN</td>\n",
              "      <td>NaN</td>\n",
              "      <td>NaN</td>\n",
              "      <td>NaN</td>\n",
              "      <td>NaN</td>\n",
              "    </tr>\n",
              "    <tr>\n",
              "      <th>B</th>\n",
              "      <td>4.0</td>\n",
              "      <td>5.0</td>\n",
              "      <td>6.0</td>\n",
              "      <td>NaN</td>\n",
              "      <td>NaN</td>\n",
              "      <td>NaN</td>\n",
              "      <td>NaN</td>\n",
              "      <td>NaN</td>\n",
              "    </tr>\n",
              "    <tr>\n",
              "      <th>C</th>\n",
              "      <td>7.0</td>\n",
              "      <td>8.0</td>\n",
              "      <td>9.0</td>\n",
              "      <td>NaN</td>\n",
              "      <td>NaN</td>\n",
              "      <td>NaN</td>\n",
              "      <td>NaN</td>\n",
              "      <td>NaN</td>\n",
              "    </tr>\n",
              "    <tr>\n",
              "      <th>D</th>\n",
              "      <td>10.0</td>\n",
              "      <td>11.0</td>\n",
              "      <td>12.0</td>\n",
              "      <td>NaN</td>\n",
              "      <td>NaN</td>\n",
              "      <td>NaN</td>\n",
              "      <td>NaN</td>\n",
              "      <td>NaN</td>\n",
              "    </tr>\n",
              "    <tr>\n",
              "      <th>E</th>\n",
              "      <td>13.0</td>\n",
              "      <td>14.0</td>\n",
              "      <td>15.0</td>\n",
              "      <td>NaN</td>\n",
              "      <td>NaN</td>\n",
              "      <td>NaN</td>\n",
              "      <td>NaN</td>\n",
              "      <td>NaN</td>\n",
              "    </tr>\n",
              "    <tr>\n",
              "      <th>0</th>\n",
              "      <td>NaN</td>\n",
              "      <td>NaN</td>\n",
              "      <td>NaN</td>\n",
              "      <td>31.0</td>\n",
              "      <td>32.0</td>\n",
              "      <td>33.0</td>\n",
              "      <td>34.0</td>\n",
              "      <td>35.0</td>\n",
              "    </tr>\n",
              "    <tr>\n",
              "      <th>1</th>\n",
              "      <td>NaN</td>\n",
              "      <td>NaN</td>\n",
              "      <td>NaN</td>\n",
              "      <td>36.0</td>\n",
              "      <td>37.0</td>\n",
              "      <td>38.0</td>\n",
              "      <td>39.0</td>\n",
              "      <td>40.0</td>\n",
              "    </tr>\n",
              "    <tr>\n",
              "      <th>2</th>\n",
              "      <td>NaN</td>\n",
              "      <td>NaN</td>\n",
              "      <td>NaN</td>\n",
              "      <td>41.0</td>\n",
              "      <td>42.0</td>\n",
              "      <td>43.0</td>\n",
              "      <td>44.0</td>\n",
              "      <td>45.0</td>\n",
              "    </tr>\n",
              "  </tbody>\n",
              "</table>\n",
              "</div>"
            ],
            "text/plain": [
              "      a     b     c     a     b     c     d     e\n",
              "A   1.0   2.0   3.0   NaN   NaN   NaN   NaN   NaN\n",
              "B   4.0   5.0   6.0   NaN   NaN   NaN   NaN   NaN\n",
              "C   7.0   8.0   9.0   NaN   NaN   NaN   NaN   NaN\n",
              "D  10.0  11.0  12.0   NaN   NaN   NaN   NaN   NaN\n",
              "E  13.0  14.0  15.0   NaN   NaN   NaN   NaN   NaN\n",
              "0   NaN   NaN   NaN  31.0  32.0  33.0  34.0  35.0\n",
              "1   NaN   NaN   NaN  36.0  37.0  38.0  39.0  40.0\n",
              "2   NaN   NaN   NaN  41.0  42.0  43.0  44.0  45.0"
            ]
          },
          "metadata": {
            "tags": []
          },
          "execution_count": 6
        }
      ]
    },
    {
      "cell_type": "code",
      "metadata": {
        "colab": {
          "base_uri": "https://localhost:8080/",
          "height": 359
        },
        "id": "GrC8kVNXyX3W",
        "outputId": "c8fbe679-6d9a-4c69-ff70-6a45099d0eff"
      },
      "source": [
        "pd.concat([df, df4])"
      ],
      "execution_count": null,
      "outputs": [
        {
          "output_type": "execute_result",
          "data": {
            "text/html": [
              "<div>\n",
              "<style scoped>\n",
              "    .dataframe tbody tr th:only-of-type {\n",
              "        vertical-align: middle;\n",
              "    }\n",
              "\n",
              "    .dataframe tbody tr th {\n",
              "        vertical-align: top;\n",
              "    }\n",
              "\n",
              "    .dataframe thead th {\n",
              "        text-align: right;\n",
              "    }\n",
              "</style>\n",
              "<table border=\"1\" class=\"dataframe\">\n",
              "  <thead>\n",
              "    <tr style=\"text-align: right;\">\n",
              "      <th></th>\n",
              "      <th>a</th>\n",
              "      <th>b</th>\n",
              "      <th>c</th>\n",
              "    </tr>\n",
              "  </thead>\n",
              "  <tbody>\n",
              "    <tr>\n",
              "      <th>A</th>\n",
              "      <td>1</td>\n",
              "      <td>2</td>\n",
              "      <td>3</td>\n",
              "    </tr>\n",
              "    <tr>\n",
              "      <th>B</th>\n",
              "      <td>4</td>\n",
              "      <td>5</td>\n",
              "      <td>6</td>\n",
              "    </tr>\n",
              "    <tr>\n",
              "      <th>C</th>\n",
              "      <td>7</td>\n",
              "      <td>8</td>\n",
              "      <td>9</td>\n",
              "    </tr>\n",
              "    <tr>\n",
              "      <th>D</th>\n",
              "      <td>10</td>\n",
              "      <td>11</td>\n",
              "      <td>12</td>\n",
              "    </tr>\n",
              "    <tr>\n",
              "      <th>E</th>\n",
              "      <td>13</td>\n",
              "      <td>14</td>\n",
              "      <td>15</td>\n",
              "    </tr>\n",
              "    <tr>\n",
              "      <th>0</th>\n",
              "      <td>5</td>\n",
              "      <td>6</td>\n",
              "      <td>7</td>\n",
              "    </tr>\n",
              "    <tr>\n",
              "      <th>1</th>\n",
              "      <td>8</td>\n",
              "      <td>9</td>\n",
              "      <td>10</td>\n",
              "    </tr>\n",
              "    <tr>\n",
              "      <th>2</th>\n",
              "      <td>11</td>\n",
              "      <td>12</td>\n",
              "      <td>13</td>\n",
              "    </tr>\n",
              "    <tr>\n",
              "      <th>3</th>\n",
              "      <td>14</td>\n",
              "      <td>15</td>\n",
              "      <td>16</td>\n",
              "    </tr>\n",
              "    <tr>\n",
              "      <th>4</th>\n",
              "      <td>17</td>\n",
              "      <td>18</td>\n",
              "      <td>19</td>\n",
              "    </tr>\n",
              "  </tbody>\n",
              "</table>\n",
              "</div>"
            ],
            "text/plain": [
              "    a   b   c\n",
              "A   1   2   3\n",
              "B   4   5   6\n",
              "C   7   8   9\n",
              "D  10  11  12\n",
              "E  13  14  15\n",
              "0   5   6   7\n",
              "1   8   9  10\n",
              "2  11  12  13\n",
              "3  14  15  16\n",
              "4  17  18  19"
            ]
          },
          "metadata": {
            "tags": []
          },
          "execution_count": 7
        }
      ]
    },
    {
      "cell_type": "markdown",
      "metadata": {
        "id": "qkW19IMMk8s1"
      },
      "source": [
        "## ***Merge:***"
      ]
    },
    {
      "cell_type": "markdown",
      "metadata": {
        "id": "_v0BCUyPthVi"
      },
      "source": [
        "**Faz joins no *pandas*** "
      ]
    },
    {
      "cell_type": "markdown",
      "metadata": {
        "id": "5whgn4HDuEfJ"
      },
      "source": [
        "### ***Inner join:***"
      ]
    },
    {
      "cell_type": "code",
      "metadata": {
        "colab": {
          "base_uri": "https://localhost:8080/"
        },
        "id": "A-W_f3mmdBav",
        "outputId": "09057e89-2eee-454a-a5d1-11b526a07ae2"
      },
      "source": [
        "df6 = pd.DataFrame(np.array(['a', 'b', 'q', 'w', 'x', 'y']).reshape(3, 2), columns=['c1', 'c2'])\n",
        "df6"
      ],
      "execution_count": null,
      "outputs": [
        {
          "output_type": "execute_result",
          "data": {
            "text/html": [
              "<div>\n",
              "<style scoped>\n",
              "    .dataframe tbody tr th:only-of-type {\n",
              "        vertical-align: middle;\n",
              "    }\n",
              "\n",
              "    .dataframe tbody tr th {\n",
              "        vertical-align: top;\n",
              "    }\n",
              "\n",
              "    .dataframe thead th {\n",
              "        text-align: right;\n",
              "    }\n",
              "</style>\n",
              "<table border=\"1\" class=\"dataframe\">\n",
              "  <thead>\n",
              "    <tr style=\"text-align: right;\">\n",
              "      <th></th>\n",
              "      <th>c1</th>\n",
              "      <th>c2</th>\n",
              "    </tr>\n",
              "  </thead>\n",
              "  <tbody>\n",
              "    <tr>\n",
              "      <th>0</th>\n",
              "      <td>a</td>\n",
              "      <td>b</td>\n",
              "    </tr>\n",
              "    <tr>\n",
              "      <th>1</th>\n",
              "      <td>q</td>\n",
              "      <td>w</td>\n",
              "    </tr>\n",
              "    <tr>\n",
              "      <th>2</th>\n",
              "      <td>x</td>\n",
              "      <td>y</td>\n",
              "    </tr>\n",
              "  </tbody>\n",
              "</table>\n",
              "</div>"
            ],
            "text/plain": [
              "  c1 c2\n",
              "0  a  b\n",
              "1  q  w\n",
              "2  x  y"
            ]
          },
          "metadata": {
            "tags": []
          },
          "execution_count": 8
        }
      ]
    },
    {
      "cell_type": "code",
      "metadata": {
        "colab": {
          "base_uri": "https://localhost:8080/"
        },
        "id": "wGF83qYKeZFp",
        "outputId": "3936b61b-fc9a-47ae-c307-393f02162f37"
      },
      "source": [
        "df7 = pd.DataFrame(np.array(['b', 'c', 'e', 'r', 'y', 'z']).reshape(3, 2), columns=['c2', 'c3'])\n",
        "df7"
      ],
      "execution_count": null,
      "outputs": [
        {
          "output_type": "execute_result",
          "data": {
            "text/html": [
              "<div>\n",
              "<style scoped>\n",
              "    .dataframe tbody tr th:only-of-type {\n",
              "        vertical-align: middle;\n",
              "    }\n",
              "\n",
              "    .dataframe tbody tr th {\n",
              "        vertical-align: top;\n",
              "    }\n",
              "\n",
              "    .dataframe thead th {\n",
              "        text-align: right;\n",
              "    }\n",
              "</style>\n",
              "<table border=\"1\" class=\"dataframe\">\n",
              "  <thead>\n",
              "    <tr style=\"text-align: right;\">\n",
              "      <th></th>\n",
              "      <th>c2</th>\n",
              "      <th>c3</th>\n",
              "    </tr>\n",
              "  </thead>\n",
              "  <tbody>\n",
              "    <tr>\n",
              "      <th>0</th>\n",
              "      <td>b</td>\n",
              "      <td>c</td>\n",
              "    </tr>\n",
              "    <tr>\n",
              "      <th>1</th>\n",
              "      <td>e</td>\n",
              "      <td>r</td>\n",
              "    </tr>\n",
              "    <tr>\n",
              "      <th>2</th>\n",
              "      <td>y</td>\n",
              "      <td>z</td>\n",
              "    </tr>\n",
              "  </tbody>\n",
              "</table>\n",
              "</div>"
            ],
            "text/plain": [
              "  c2 c3\n",
              "0  b  c\n",
              "1  e  r\n",
              "2  y  z"
            ]
          },
          "metadata": {
            "tags": []
          },
          "execution_count": 9
        }
      ]
    },
    {
      "cell_type": "markdown",
      "metadata": {
        "id": "cRcOR_w1rItJ"
      },
      "source": [
        "![InnerJoin](https://datacarpentry.org/semester-biology/materials/inner-join.gif)"
      ]
    },
    {
      "cell_type": "code",
      "metadata": {
        "colab": {
          "base_uri": "https://localhost:8080/"
        },
        "id": "RxiK-somgiiv",
        "outputId": "ce451719-1b73-4fc7-eda4-bb470bde91e8"
      },
      "source": [
        "df6.merge(df7, how='inner', on='c2')"
      ],
      "execution_count": null,
      "outputs": [
        {
          "output_type": "execute_result",
          "data": {
            "text/html": [
              "<div>\n",
              "<style scoped>\n",
              "    .dataframe tbody tr th:only-of-type {\n",
              "        vertical-align: middle;\n",
              "    }\n",
              "\n",
              "    .dataframe tbody tr th {\n",
              "        vertical-align: top;\n",
              "    }\n",
              "\n",
              "    .dataframe thead th {\n",
              "        text-align: right;\n",
              "    }\n",
              "</style>\n",
              "<table border=\"1\" class=\"dataframe\">\n",
              "  <thead>\n",
              "    <tr style=\"text-align: right;\">\n",
              "      <th></th>\n",
              "      <th>c1</th>\n",
              "      <th>c2</th>\n",
              "      <th>c3</th>\n",
              "    </tr>\n",
              "  </thead>\n",
              "  <tbody>\n",
              "    <tr>\n",
              "      <th>0</th>\n",
              "      <td>a</td>\n",
              "      <td>b</td>\n",
              "      <td>c</td>\n",
              "    </tr>\n",
              "    <tr>\n",
              "      <th>1</th>\n",
              "      <td>x</td>\n",
              "      <td>y</td>\n",
              "      <td>z</td>\n",
              "    </tr>\n",
              "  </tbody>\n",
              "</table>\n",
              "</div>"
            ],
            "text/plain": [
              "  c1 c2 c3\n",
              "0  a  b  c\n",
              "1  x  y  z"
            ]
          },
          "metadata": {
            "tags": []
          },
          "execution_count": 10
        }
      ]
    },
    {
      "cell_type": "markdown",
      "metadata": {
        "id": "J6j3rJbTvyOc"
      },
      "source": [
        "### ***Left Join:***"
      ]
    },
    {
      "cell_type": "code",
      "metadata": {
        "colab": {
          "base_uri": "https://localhost:8080/"
        },
        "id": "UEs0PZ0IexAZ",
        "outputId": "f6eb00eb-d40f-4952-f7ff-02c089c42805"
      },
      "source": [
        "df6.merge(df7, how='left', on='c2')"
      ],
      "execution_count": null,
      "outputs": [
        {
          "output_type": "execute_result",
          "data": {
            "text/html": [
              "<div>\n",
              "<style scoped>\n",
              "    .dataframe tbody tr th:only-of-type {\n",
              "        vertical-align: middle;\n",
              "    }\n",
              "\n",
              "    .dataframe tbody tr th {\n",
              "        vertical-align: top;\n",
              "    }\n",
              "\n",
              "    .dataframe thead th {\n",
              "        text-align: right;\n",
              "    }\n",
              "</style>\n",
              "<table border=\"1\" class=\"dataframe\">\n",
              "  <thead>\n",
              "    <tr style=\"text-align: right;\">\n",
              "      <th></th>\n",
              "      <th>c1</th>\n",
              "      <th>c2</th>\n",
              "      <th>c3</th>\n",
              "    </tr>\n",
              "  </thead>\n",
              "  <tbody>\n",
              "    <tr>\n",
              "      <th>0</th>\n",
              "      <td>a</td>\n",
              "      <td>b</td>\n",
              "      <td>c</td>\n",
              "    </tr>\n",
              "    <tr>\n",
              "      <th>1</th>\n",
              "      <td>q</td>\n",
              "      <td>w</td>\n",
              "      <td>NaN</td>\n",
              "    </tr>\n",
              "    <tr>\n",
              "      <th>2</th>\n",
              "      <td>x</td>\n",
              "      <td>y</td>\n",
              "      <td>z</td>\n",
              "    </tr>\n",
              "  </tbody>\n",
              "</table>\n",
              "</div>"
            ],
            "text/plain": [
              "  c1 c2   c3\n",
              "0  a  b    c\n",
              "1  q  w  NaN\n",
              "2  x  y    z"
            ]
          },
          "metadata": {
            "tags": []
          },
          "execution_count": 11
        }
      ]
    },
    {
      "cell_type": "markdown",
      "metadata": {
        "id": "XyMqkgelxJfQ"
      },
      "source": [
        "![LeftJoin](https://i.stack.imgur.com/D4ppa.gif)"
      ]
    },
    {
      "cell_type": "markdown",
      "metadata": {
        "id": "rtYmPJ7vxm09"
      },
      "source": [
        "### ***Right Join***"
      ]
    },
    {
      "cell_type": "code",
      "metadata": {
        "colab": {
          "base_uri": "https://localhost:8080/"
        },
        "id": "_NMDu7nQyOu6",
        "outputId": "8e4b6154-ebd1-4e8b-f536-06ba15d3d0bd"
      },
      "source": [
        "df6.merge(df7, how='right', on='c2')"
      ],
      "execution_count": null,
      "outputs": [
        {
          "output_type": "execute_result",
          "data": {
            "text/html": [
              "<div>\n",
              "<style scoped>\n",
              "    .dataframe tbody tr th:only-of-type {\n",
              "        vertical-align: middle;\n",
              "    }\n",
              "\n",
              "    .dataframe tbody tr th {\n",
              "        vertical-align: top;\n",
              "    }\n",
              "\n",
              "    .dataframe thead th {\n",
              "        text-align: right;\n",
              "    }\n",
              "</style>\n",
              "<table border=\"1\" class=\"dataframe\">\n",
              "  <thead>\n",
              "    <tr style=\"text-align: right;\">\n",
              "      <th></th>\n",
              "      <th>c1</th>\n",
              "      <th>c2</th>\n",
              "      <th>c3</th>\n",
              "    </tr>\n",
              "  </thead>\n",
              "  <tbody>\n",
              "    <tr>\n",
              "      <th>0</th>\n",
              "      <td>a</td>\n",
              "      <td>b</td>\n",
              "      <td>c</td>\n",
              "    </tr>\n",
              "    <tr>\n",
              "      <th>1</th>\n",
              "      <td>NaN</td>\n",
              "      <td>e</td>\n",
              "      <td>r</td>\n",
              "    </tr>\n",
              "    <tr>\n",
              "      <th>2</th>\n",
              "      <td>x</td>\n",
              "      <td>y</td>\n",
              "      <td>z</td>\n",
              "    </tr>\n",
              "  </tbody>\n",
              "</table>\n",
              "</div>"
            ],
            "text/plain": [
              "    c1 c2 c3\n",
              "0    a  b  c\n",
              "1  NaN  e  r\n",
              "2    x  y  z"
            ]
          },
          "metadata": {
            "tags": []
          },
          "execution_count": 12
        }
      ]
    },
    {
      "cell_type": "markdown",
      "metadata": {
        "id": "tRcxvKaoQJBH"
      },
      "source": [
        "![RightJoin](https://ssbi-blog.de/wp-content/uploads/2019/03/right-join.gif)"
      ]
    },
    {
      "cell_type": "markdown",
      "metadata": {
        "id": "h59hK9k2pwrN"
      },
      "source": [
        "### **Full outer join:**"
      ]
    },
    {
      "cell_type": "code",
      "metadata": {
        "colab": {
          "base_uri": "https://localhost:8080/",
          "height": 173
        },
        "id": "EgbzBkQCjfZb",
        "outputId": "e73843f6-040f-42e1-c116-c5ce0c52d8e8"
      },
      "source": [
        "df6.merge(df7, how='outer')"
      ],
      "execution_count": null,
      "outputs": [
        {
          "output_type": "execute_result",
          "data": {
            "text/html": [
              "<div>\n",
              "<style scoped>\n",
              "    .dataframe tbody tr th:only-of-type {\n",
              "        vertical-align: middle;\n",
              "    }\n",
              "\n",
              "    .dataframe tbody tr th {\n",
              "        vertical-align: top;\n",
              "    }\n",
              "\n",
              "    .dataframe thead th {\n",
              "        text-align: right;\n",
              "    }\n",
              "</style>\n",
              "<table border=\"1\" class=\"dataframe\">\n",
              "  <thead>\n",
              "    <tr style=\"text-align: right;\">\n",
              "      <th></th>\n",
              "      <th>c1</th>\n",
              "      <th>c2</th>\n",
              "      <th>c3</th>\n",
              "    </tr>\n",
              "  </thead>\n",
              "  <tbody>\n",
              "    <tr>\n",
              "      <th>0</th>\n",
              "      <td>a</td>\n",
              "      <td>b</td>\n",
              "      <td>c</td>\n",
              "    </tr>\n",
              "    <tr>\n",
              "      <th>1</th>\n",
              "      <td>q</td>\n",
              "      <td>w</td>\n",
              "      <td>NaN</td>\n",
              "    </tr>\n",
              "    <tr>\n",
              "      <th>2</th>\n",
              "      <td>x</td>\n",
              "      <td>y</td>\n",
              "      <td>z</td>\n",
              "    </tr>\n",
              "    <tr>\n",
              "      <th>3</th>\n",
              "      <td>NaN</td>\n",
              "      <td>e</td>\n",
              "      <td>r</td>\n",
              "    </tr>\n",
              "  </tbody>\n",
              "</table>\n",
              "</div>"
            ],
            "text/plain": [
              "    c1 c2   c3\n",
              "0    a  b    c\n",
              "1    q  w  NaN\n",
              "2    x  y    z\n",
              "3  NaN  e    r"
            ]
          },
          "metadata": {
            "tags": []
          },
          "execution_count": 13
        }
      ]
    },
    {
      "cell_type": "markdown",
      "metadata": {
        "id": "SO3IsyoPqEvQ"
      },
      "source": [
        "![image.png](data:image/png;base64,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)"
      ]
    },
    {
      "cell_type": "markdown",
      "metadata": {
        "id": "V-SONunmlUxb"
      },
      "source": [
        "## ***Join:***"
      ]
    },
    {
      "cell_type": "markdown",
      "metadata": {
        "id": "b2SIiIcolaVK"
      },
      "source": [
        "**Método join faz \"join\" pelos indices\"**"
      ]
    },
    {
      "cell_type": "code",
      "metadata": {
        "colab": {
          "base_uri": "https://localhost:8080/",
          "height": 204
        },
        "id": "KFasSsBxtGVu",
        "outputId": "5ee698cb-c4ce-4d22-873a-5a851e68a843"
      },
      "source": [
        "df.join(df2)"
      ],
      "execution_count": null,
      "outputs": [
        {
          "output_type": "execute_result",
          "data": {
            "text/html": [
              "<div>\n",
              "<style scoped>\n",
              "    .dataframe tbody tr th:only-of-type {\n",
              "        vertical-align: middle;\n",
              "    }\n",
              "\n",
              "    .dataframe tbody tr th {\n",
              "        vertical-align: top;\n",
              "    }\n",
              "\n",
              "    .dataframe thead th {\n",
              "        text-align: right;\n",
              "    }\n",
              "</style>\n",
              "<table border=\"1\" class=\"dataframe\">\n",
              "  <thead>\n",
              "    <tr style=\"text-align: right;\">\n",
              "      <th></th>\n",
              "      <th>a</th>\n",
              "      <th>b</th>\n",
              "      <th>c</th>\n",
              "      <th>d</th>\n",
              "      <th>e</th>\n",
              "      <th>f</th>\n",
              "    </tr>\n",
              "  </thead>\n",
              "  <tbody>\n",
              "    <tr>\n",
              "      <th>A</th>\n",
              "      <td>1</td>\n",
              "      <td>2</td>\n",
              "      <td>3</td>\n",
              "      <td>16.0</td>\n",
              "      <td>17.0</td>\n",
              "      <td>7.0</td>\n",
              "    </tr>\n",
              "    <tr>\n",
              "      <th>B</th>\n",
              "      <td>4</td>\n",
              "      <td>5</td>\n",
              "      <td>6</td>\n",
              "      <td>NaN</td>\n",
              "      <td>NaN</td>\n",
              "      <td>NaN</td>\n",
              "    </tr>\n",
              "    <tr>\n",
              "      <th>C</th>\n",
              "      <td>7</td>\n",
              "      <td>8</td>\n",
              "      <td>9</td>\n",
              "      <td>NaN</td>\n",
              "      <td>NaN</td>\n",
              "      <td>NaN</td>\n",
              "    </tr>\n",
              "    <tr>\n",
              "      <th>D</th>\n",
              "      <td>10</td>\n",
              "      <td>11</td>\n",
              "      <td>12</td>\n",
              "      <td>NaN</td>\n",
              "      <td>NaN</td>\n",
              "      <td>NaN</td>\n",
              "    </tr>\n",
              "    <tr>\n",
              "      <th>E</th>\n",
              "      <td>13</td>\n",
              "      <td>14</td>\n",
              "      <td>15</td>\n",
              "      <td>18.0</td>\n",
              "      <td>19.0</td>\n",
              "      <td>7.0</td>\n",
              "    </tr>\n",
              "  </tbody>\n",
              "</table>\n",
              "</div>"
            ],
            "text/plain": [
              "    a   b   c     d     e    f\n",
              "A   1   2   3  16.0  17.0  7.0\n",
              "B   4   5   6   NaN   NaN  NaN\n",
              "C   7   8   9   NaN   NaN  NaN\n",
              "D  10  11  12   NaN   NaN  NaN\n",
              "E  13  14  15  18.0  19.0  7.0"
            ]
          },
          "metadata": {
            "tags": []
          },
          "execution_count": 14
        }
      ]
    },
    {
      "cell_type": "markdown",
      "metadata": {
        "id": "42fzGY0LvsBc"
      },
      "source": [
        "## **Índice Multinível:**"
      ]
    },
    {
      "cell_type": "code",
      "metadata": {
        "id": "T1UTf3PJwPx4"
      },
      "source": [
        "nivel = ['LV1', 'LV1', 'LV1', 'LV2', 'LV2', 'LV2']\n",
        "index_nivel = ['A', 'B', 'C', 1, 2, 3]\n",
        "hier_index = list(zip(nivel, index_nivel))\n",
        "hier_index = pd.MultiIndex.from_tuples(hier_index)"
      ],
      "execution_count": null,
      "outputs": []
    },
    {
      "cell_type": "code",
      "metadata": {
        "colab": {
          "base_uri": "https://localhost:8080/",
          "height": 235
        },
        "id": "m28mz4q8v4mj",
        "outputId": "81d0f55e-0aa6-4efc-e225-bb1999038097"
      },
      "source": [
        "df8 = pd.DataFrame(np.arange(1, 19).reshape(6, 3), index=hier_index, columns=['a', 'b', 'c'])\n",
        "df8"
      ],
      "execution_count": null,
      "outputs": [
        {
          "output_type": "execute_result",
          "data": {
            "text/html": [
              "<div>\n",
              "<style scoped>\n",
              "    .dataframe tbody tr th:only-of-type {\n",
              "        vertical-align: middle;\n",
              "    }\n",
              "\n",
              "    .dataframe tbody tr th {\n",
              "        vertical-align: top;\n",
              "    }\n",
              "\n",
              "    .dataframe thead th {\n",
              "        text-align: right;\n",
              "    }\n",
              "</style>\n",
              "<table border=\"1\" class=\"dataframe\">\n",
              "  <thead>\n",
              "    <tr style=\"text-align: right;\">\n",
              "      <th></th>\n",
              "      <th></th>\n",
              "      <th>a</th>\n",
              "      <th>b</th>\n",
              "      <th>c</th>\n",
              "    </tr>\n",
              "  </thead>\n",
              "  <tbody>\n",
              "    <tr>\n",
              "      <th rowspan=\"3\" valign=\"top\">LV1</th>\n",
              "      <th>A</th>\n",
              "      <td>1</td>\n",
              "      <td>2</td>\n",
              "      <td>3</td>\n",
              "    </tr>\n",
              "    <tr>\n",
              "      <th>B</th>\n",
              "      <td>4</td>\n",
              "      <td>5</td>\n",
              "      <td>6</td>\n",
              "    </tr>\n",
              "    <tr>\n",
              "      <th>C</th>\n",
              "      <td>7</td>\n",
              "      <td>8</td>\n",
              "      <td>9</td>\n",
              "    </tr>\n",
              "    <tr>\n",
              "      <th rowspan=\"3\" valign=\"top\">LV2</th>\n",
              "      <th>1</th>\n",
              "      <td>10</td>\n",
              "      <td>11</td>\n",
              "      <td>12</td>\n",
              "    </tr>\n",
              "    <tr>\n",
              "      <th>2</th>\n",
              "      <td>13</td>\n",
              "      <td>14</td>\n",
              "      <td>15</td>\n",
              "    </tr>\n",
              "    <tr>\n",
              "      <th>3</th>\n",
              "      <td>16</td>\n",
              "      <td>17</td>\n",
              "      <td>18</td>\n",
              "    </tr>\n",
              "  </tbody>\n",
              "</table>\n",
              "</div>"
            ],
            "text/plain": [
              "        a   b   c\n",
              "LV1 A   1   2   3\n",
              "    B   4   5   6\n",
              "    C   7   8   9\n",
              "LV2 1  10  11  12\n",
              "    2  13  14  15\n",
              "    3  16  17  18"
            ]
          },
          "metadata": {
            "tags": []
          },
          "execution_count": 16
        }
      ]
    },
    {
      "cell_type": "code",
      "metadata": {
        "colab": {
          "base_uri": "https://localhost:8080/",
          "height": 173
        },
        "id": "h7Mg_ydhI44G",
        "outputId": "53e6edaa-2220-4dc0-c0f8-cc253f6ed3c2"
      },
      "source": [
        "df8.index.names = ['LVL', 'EX']\n",
        "df8.loc['LV1']"
      ],
      "execution_count": null,
      "outputs": [
        {
          "output_type": "execute_result",
          "data": {
            "text/html": [
              "<div>\n",
              "<style scoped>\n",
              "    .dataframe tbody tr th:only-of-type {\n",
              "        vertical-align: middle;\n",
              "    }\n",
              "\n",
              "    .dataframe tbody tr th {\n",
              "        vertical-align: top;\n",
              "    }\n",
              "\n",
              "    .dataframe thead th {\n",
              "        text-align: right;\n",
              "    }\n",
              "</style>\n",
              "<table border=\"1\" class=\"dataframe\">\n",
              "  <thead>\n",
              "    <tr style=\"text-align: right;\">\n",
              "      <th></th>\n",
              "      <th>a</th>\n",
              "      <th>b</th>\n",
              "      <th>c</th>\n",
              "    </tr>\n",
              "    <tr>\n",
              "      <th>EX</th>\n",
              "      <th></th>\n",
              "      <th></th>\n",
              "      <th></th>\n",
              "    </tr>\n",
              "  </thead>\n",
              "  <tbody>\n",
              "    <tr>\n",
              "      <th>A</th>\n",
              "      <td>1</td>\n",
              "      <td>2</td>\n",
              "      <td>3</td>\n",
              "    </tr>\n",
              "    <tr>\n",
              "      <th>B</th>\n",
              "      <td>4</td>\n",
              "      <td>5</td>\n",
              "      <td>6</td>\n",
              "    </tr>\n",
              "    <tr>\n",
              "      <th>C</th>\n",
              "      <td>7</td>\n",
              "      <td>8</td>\n",
              "      <td>9</td>\n",
              "    </tr>\n",
              "  </tbody>\n",
              "</table>\n",
              "</div>"
            ],
            "text/plain": [
              "    a  b  c\n",
              "EX         \n",
              "A   1  2  3\n",
              "B   4  5  6\n",
              "C   7  8  9"
            ]
          },
          "metadata": {
            "tags": []
          },
          "execution_count": 17
        }
      ]
    },
    {
      "cell_type": "code",
      "metadata": {
        "colab": {
          "base_uri": "https://localhost:8080/"
        },
        "id": "UROqz4vXJtcO",
        "outputId": "ca707f43-6787-422c-865f-53ff8b5d5082"
      },
      "source": [
        "df8.loc['LV1', 'b']"
      ],
      "execution_count": null,
      "outputs": [
        {
          "output_type": "execute_result",
          "data": {
            "text/plain": [
              "EX\n",
              "A    2\n",
              "B    5\n",
              "C    8\n",
              "Name: b, dtype: int64"
            ]
          },
          "metadata": {
            "tags": []
          },
          "execution_count": 35
        }
      ]
    },
    {
      "cell_type": "code",
      "metadata": {
        "colab": {
          "base_uri": "https://localhost:8080/",
          "height": 561
        },
        "id": "mS3HpcNwJ3iI",
        "outputId": "31413553-d1c3-4e0d-9072-9bea3d8f9444"
      },
      "source": [
        ""
      ],
      "execution_count": null,
      "outputs": [
        {
          "output_type": "error",
          "ename": "KeyError",
          "evalue": "ignored",
          "traceback": [
            "\u001b[0;31m---------------------------------------------------------------------------\u001b[0m",
            "\u001b[0;31mKeyError\u001b[0m                                  Traceback (most recent call last)",
            "\u001b[0;32m/usr/local/lib/python3.7/dist-packages/pandas/core/indexes/base.py\u001b[0m in \u001b[0;36mget_loc\u001b[0;34m(self, key, method, tolerance)\u001b[0m\n\u001b[1;32m   2897\u001b[0m             \u001b[0;32mtry\u001b[0m\u001b[0;34m:\u001b[0m\u001b[0;34m\u001b[0m\u001b[0;34m\u001b[0m\u001b[0m\n\u001b[0;32m-> 2898\u001b[0;31m                 \u001b[0;32mreturn\u001b[0m \u001b[0mself\u001b[0m\u001b[0;34m.\u001b[0m\u001b[0m_engine\u001b[0m\u001b[0;34m.\u001b[0m\u001b[0mget_loc\u001b[0m\u001b[0;34m(\u001b[0m\u001b[0mcasted_key\u001b[0m\u001b[0;34m)\u001b[0m\u001b[0;34m\u001b[0m\u001b[0;34m\u001b[0m\u001b[0m\n\u001b[0m\u001b[1;32m   2899\u001b[0m             \u001b[0;32mexcept\u001b[0m \u001b[0mKeyError\u001b[0m \u001b[0;32mas\u001b[0m \u001b[0merr\u001b[0m\u001b[0;34m:\u001b[0m\u001b[0;34m\u001b[0m\u001b[0;34m\u001b[0m\u001b[0m\n",
            "\u001b[0;32mpandas/_libs/index.pyx\u001b[0m in \u001b[0;36mpandas._libs.index.IndexEngine.get_loc\u001b[0;34m()\u001b[0m\n",
            "\u001b[0;32mpandas/_libs/index.pyx\u001b[0m in \u001b[0;36mpandas._libs.index.IndexEngine.get_loc\u001b[0;34m()\u001b[0m\n",
            "\u001b[0;32mpandas/_libs/hashtable_class_helper.pxi\u001b[0m in \u001b[0;36mpandas._libs.hashtable.PyObjectHashTable.get_item\u001b[0;34m()\u001b[0m\n",
            "\u001b[0;32mpandas/_libs/hashtable_class_helper.pxi\u001b[0m in \u001b[0;36mpandas._libs.hashtable.PyObjectHashTable.get_item\u001b[0;34m()\u001b[0m\n",
            "\u001b[0;31mKeyError\u001b[0m: 'a'",
            "\nThe above exception was the direct cause of the following exception:\n",
            "\u001b[0;31mKeyError\u001b[0m                                  Traceback (most recent call last)",
            "\u001b[0;32m<ipython-input-113-77fad8809d7e>\u001b[0m in \u001b[0;36m<module>\u001b[0;34m()\u001b[0m\n\u001b[0;32m----> 1\u001b[0;31m \u001b[0mdf8\u001b[0m\u001b[0;34m.\u001b[0m\u001b[0mxs\u001b[0m\u001b[0;34m(\u001b[0m\u001b[0;34m'a'\u001b[0m\u001b[0;34m)\u001b[0m\u001b[0;34m\u001b[0m\u001b[0;34m\u001b[0m\u001b[0m\n\u001b[0m",
            "\u001b[0;32m/usr/local/lib/python3.7/dist-packages/pandas/core/generic.py\u001b[0m in \u001b[0;36mxs\u001b[0;34m(self, key, axis, level, drop_level)\u001b[0m\n\u001b[1;32m   3489\u001b[0m         \u001b[0mindex\u001b[0m \u001b[0;34m=\u001b[0m \u001b[0mself\u001b[0m\u001b[0;34m.\u001b[0m\u001b[0mindex\u001b[0m\u001b[0;34m\u001b[0m\u001b[0;34m\u001b[0m\u001b[0m\n\u001b[1;32m   3490\u001b[0m         \u001b[0;32mif\u001b[0m \u001b[0misinstance\u001b[0m\u001b[0;34m(\u001b[0m\u001b[0mindex\u001b[0m\u001b[0;34m,\u001b[0m \u001b[0mMultiIndex\u001b[0m\u001b[0;34m)\u001b[0m\u001b[0;34m:\u001b[0m\u001b[0;34m\u001b[0m\u001b[0;34m\u001b[0m\u001b[0m\n\u001b[0;32m-> 3491\u001b[0;31m             \u001b[0mloc\u001b[0m\u001b[0;34m,\u001b[0m \u001b[0mnew_index\u001b[0m \u001b[0;34m=\u001b[0m \u001b[0mself\u001b[0m\u001b[0;34m.\u001b[0m\u001b[0mindex\u001b[0m\u001b[0;34m.\u001b[0m\u001b[0mget_loc_level\u001b[0m\u001b[0;34m(\u001b[0m\u001b[0mkey\u001b[0m\u001b[0;34m,\u001b[0m \u001b[0mdrop_level\u001b[0m\u001b[0;34m=\u001b[0m\u001b[0mdrop_level\u001b[0m\u001b[0;34m)\u001b[0m\u001b[0;34m\u001b[0m\u001b[0;34m\u001b[0m\u001b[0m\n\u001b[0m\u001b[1;32m   3492\u001b[0m         \u001b[0;32melse\u001b[0m\u001b[0;34m:\u001b[0m\u001b[0;34m\u001b[0m\u001b[0;34m\u001b[0m\u001b[0m\n\u001b[1;32m   3493\u001b[0m             \u001b[0mloc\u001b[0m \u001b[0;34m=\u001b[0m \u001b[0mself\u001b[0m\u001b[0;34m.\u001b[0m\u001b[0mindex\u001b[0m\u001b[0;34m.\u001b[0m\u001b[0mget_loc\u001b[0m\u001b[0;34m(\u001b[0m\u001b[0mkey\u001b[0m\u001b[0;34m)\u001b[0m\u001b[0;34m\u001b[0m\u001b[0;34m\u001b[0m\u001b[0m\n",
            "\u001b[0;32m/usr/local/lib/python3.7/dist-packages/pandas/core/indexes/multi.py\u001b[0m in \u001b[0;36mget_loc_level\u001b[0;34m(self, key, level, drop_level)\u001b[0m\n\u001b[1;32m   2883\u001b[0m                 \u001b[0;32mreturn\u001b[0m \u001b[0mindexer\u001b[0m\u001b[0;34m,\u001b[0m \u001b[0mmaybe_mi_droplevels\u001b[0m\u001b[0;34m(\u001b[0m\u001b[0mindexer\u001b[0m\u001b[0;34m,\u001b[0m \u001b[0milevels\u001b[0m\u001b[0;34m,\u001b[0m \u001b[0mdrop_level\u001b[0m\u001b[0;34m)\u001b[0m\u001b[0;34m\u001b[0m\u001b[0;34m\u001b[0m\u001b[0m\n\u001b[1;32m   2884\u001b[0m         \u001b[0;32melse\u001b[0m\u001b[0;34m:\u001b[0m\u001b[0;34m\u001b[0m\u001b[0;34m\u001b[0m\u001b[0m\n\u001b[0;32m-> 2885\u001b[0;31m             \u001b[0mindexer\u001b[0m \u001b[0;34m=\u001b[0m \u001b[0mself\u001b[0m\u001b[0;34m.\u001b[0m\u001b[0m_get_level_indexer\u001b[0m\u001b[0;34m(\u001b[0m\u001b[0mkey\u001b[0m\u001b[0;34m,\u001b[0m \u001b[0mlevel\u001b[0m\u001b[0;34m=\u001b[0m\u001b[0mlevel\u001b[0m\u001b[0;34m)\u001b[0m\u001b[0;34m\u001b[0m\u001b[0;34m\u001b[0m\u001b[0m\n\u001b[0m\u001b[1;32m   2886\u001b[0m             \u001b[0;32mreturn\u001b[0m \u001b[0mindexer\u001b[0m\u001b[0;34m,\u001b[0m \u001b[0mmaybe_mi_droplevels\u001b[0m\u001b[0;34m(\u001b[0m\u001b[0mindexer\u001b[0m\u001b[0;34m,\u001b[0m \u001b[0;34m[\u001b[0m\u001b[0mlevel\u001b[0m\u001b[0;34m]\u001b[0m\u001b[0;34m,\u001b[0m \u001b[0mdrop_level\u001b[0m\u001b[0;34m)\u001b[0m\u001b[0;34m\u001b[0m\u001b[0;34m\u001b[0m\u001b[0m\n\u001b[1;32m   2887\u001b[0m \u001b[0;34m\u001b[0m\u001b[0m\n",
            "\u001b[0;32m/usr/local/lib/python3.7/dist-packages/pandas/core/indexes/multi.py\u001b[0m in \u001b[0;36m_get_level_indexer\u001b[0;34m(self, key, level, indexer)\u001b[0m\n\u001b[1;32m   2967\u001b[0m         \u001b[0;32melse\u001b[0m\u001b[0;34m:\u001b[0m\u001b[0;34m\u001b[0m\u001b[0;34m\u001b[0m\u001b[0m\n\u001b[1;32m   2968\u001b[0m \u001b[0;34m\u001b[0m\u001b[0m\n\u001b[0;32m-> 2969\u001b[0;31m             \u001b[0mcode\u001b[0m \u001b[0;34m=\u001b[0m \u001b[0mself\u001b[0m\u001b[0;34m.\u001b[0m\u001b[0m_get_loc_single_level_index\u001b[0m\u001b[0;34m(\u001b[0m\u001b[0mlevel_index\u001b[0m\u001b[0;34m,\u001b[0m \u001b[0mkey\u001b[0m\u001b[0;34m)\u001b[0m\u001b[0;34m\u001b[0m\u001b[0;34m\u001b[0m\u001b[0m\n\u001b[0m\u001b[1;32m   2970\u001b[0m \u001b[0;34m\u001b[0m\u001b[0m\n\u001b[1;32m   2971\u001b[0m             \u001b[0;32mif\u001b[0m \u001b[0mlevel\u001b[0m \u001b[0;34m>\u001b[0m \u001b[0;36m0\u001b[0m \u001b[0;32mor\u001b[0m \u001b[0mself\u001b[0m\u001b[0;34m.\u001b[0m\u001b[0mlexsort_depth\u001b[0m \u001b[0;34m==\u001b[0m \u001b[0;36m0\u001b[0m\u001b[0;34m:\u001b[0m\u001b[0;34m\u001b[0m\u001b[0;34m\u001b[0m\u001b[0m\n",
            "\u001b[0;32m/usr/local/lib/python3.7/dist-packages/pandas/core/indexes/multi.py\u001b[0m in \u001b[0;36m_get_loc_single_level_index\u001b[0;34m(self, level_index, key)\u001b[0m\n\u001b[1;32m   2635\u001b[0m             \u001b[0;32mreturn\u001b[0m \u001b[0;34m-\u001b[0m\u001b[0;36m1\u001b[0m\u001b[0;34m\u001b[0m\u001b[0;34m\u001b[0m\u001b[0m\n\u001b[1;32m   2636\u001b[0m         \u001b[0;32melse\u001b[0m\u001b[0;34m:\u001b[0m\u001b[0;34m\u001b[0m\u001b[0;34m\u001b[0m\u001b[0m\n\u001b[0;32m-> 2637\u001b[0;31m             \u001b[0;32mreturn\u001b[0m \u001b[0mlevel_index\u001b[0m\u001b[0;34m.\u001b[0m\u001b[0mget_loc\u001b[0m\u001b[0;34m(\u001b[0m\u001b[0mkey\u001b[0m\u001b[0;34m)\u001b[0m\u001b[0;34m\u001b[0m\u001b[0;34m\u001b[0m\u001b[0m\n\u001b[0m\u001b[1;32m   2638\u001b[0m \u001b[0;34m\u001b[0m\u001b[0m\n\u001b[1;32m   2639\u001b[0m     \u001b[0;32mdef\u001b[0m \u001b[0mget_loc\u001b[0m\u001b[0;34m(\u001b[0m\u001b[0mself\u001b[0m\u001b[0;34m,\u001b[0m \u001b[0mkey\u001b[0m\u001b[0;34m,\u001b[0m \u001b[0mmethod\u001b[0m\u001b[0;34m=\u001b[0m\u001b[0;32mNone\u001b[0m\u001b[0;34m)\u001b[0m\u001b[0;34m:\u001b[0m\u001b[0;34m\u001b[0m\u001b[0;34m\u001b[0m\u001b[0m\n",
            "\u001b[0;32m/usr/local/lib/python3.7/dist-packages/pandas/core/indexes/base.py\u001b[0m in \u001b[0;36mget_loc\u001b[0;34m(self, key, method, tolerance)\u001b[0m\n\u001b[1;32m   2898\u001b[0m                 \u001b[0;32mreturn\u001b[0m \u001b[0mself\u001b[0m\u001b[0;34m.\u001b[0m\u001b[0m_engine\u001b[0m\u001b[0;34m.\u001b[0m\u001b[0mget_loc\u001b[0m\u001b[0;34m(\u001b[0m\u001b[0mcasted_key\u001b[0m\u001b[0;34m)\u001b[0m\u001b[0;34m\u001b[0m\u001b[0;34m\u001b[0m\u001b[0m\n\u001b[1;32m   2899\u001b[0m             \u001b[0;32mexcept\u001b[0m \u001b[0mKeyError\u001b[0m \u001b[0;32mas\u001b[0m \u001b[0merr\u001b[0m\u001b[0;34m:\u001b[0m\u001b[0;34m\u001b[0m\u001b[0;34m\u001b[0m\u001b[0m\n\u001b[0;32m-> 2900\u001b[0;31m                 \u001b[0;32mraise\u001b[0m \u001b[0mKeyError\u001b[0m\u001b[0;34m(\u001b[0m\u001b[0mkey\u001b[0m\u001b[0;34m)\u001b[0m \u001b[0;32mfrom\u001b[0m \u001b[0merr\u001b[0m\u001b[0;34m\u001b[0m\u001b[0;34m\u001b[0m\u001b[0m\n\u001b[0m\u001b[1;32m   2901\u001b[0m \u001b[0;34m\u001b[0m\u001b[0m\n\u001b[1;32m   2902\u001b[0m         \u001b[0;32mif\u001b[0m \u001b[0mtolerance\u001b[0m \u001b[0;32mis\u001b[0m \u001b[0;32mnot\u001b[0m \u001b[0;32mNone\u001b[0m\u001b[0;34m:\u001b[0m\u001b[0;34m\u001b[0m\u001b[0;34m\u001b[0m\u001b[0m\n",
            "\u001b[0;31mKeyError\u001b[0m: 'a'"
          ]
        }
      ]
    }
  ]
}