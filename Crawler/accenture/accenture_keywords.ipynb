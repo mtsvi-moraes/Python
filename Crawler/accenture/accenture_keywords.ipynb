{
 "cells": [
  {
   "cell_type": "code",
   "execution_count": 2,
   "metadata": {
    "id": "ojv6zagSrRA_"
   },
   "outputs": [],
   "source": [
    "import pandas as pd\n",
    "import matplotlib.pyplot as plt\n",
    "import numpy as np\n",
    "import seaborn as sns\n",
    "import spacy\n",
    "from collections import Counter\n",
    "from string import punctuation\n",
    "from matplotlib import rcParams\n",
    "%matplotlib inline\n",
    "import os\n",
    "os.environ[\"KMP_DUPLICATE_LIB_OK\"]=\"TRUE\""
   ]
  },
  {
   "cell_type": "code",
   "execution_count": 13,
   "metadata": {
    "colab": {
     "base_uri": "https://localhost:8080/",
     "height": 173
    },
    "id": "u2QJJXqnrga7",
    "outputId": "4f373ebf-ae9b-47a2-a4fc-8ccb9251c862"
   },
   "outputs": [
    {
     "data": {
      "text/html": [
       "<div>\n",
       "<style scoped>\n",
       "    .dataframe tbody tr th:only-of-type {\n",
       "        vertical-align: middle;\n",
       "    }\n",
       "\n",
       "    .dataframe tbody tr th {\n",
       "        vertical-align: top;\n",
       "    }\n",
       "\n",
       "    .dataframe thead th {\n",
       "        text-align: right;\n",
       "    }\n",
       "</style>\n",
       "<table border=\"1\" class=\"dataframe\">\n",
       "  <thead>\n",
       "    <tr style=\"text-align: right;\">\n",
       "      <th></th>\n",
       "      <th>Title</th>\n",
       "      <th>Date</th>\n",
       "      <th>Link</th>\n",
       "    </tr>\n",
       "  </thead>\n",
       "  <tbody>\n",
       "    <tr>\n",
       "      <th>0</th>\n",
       "      <td>[World Economic Forum, Accenture and EPRI Laun...</td>\n",
       "      <td>November 03, 2021</td>\n",
       "      <td>https://newsroom.accenture.com/news/world-econ...</td>\n",
       "    </tr>\n",
       "    <tr>\n",
       "      <th>1</th>\n",
       "      <td>[Accenture Acquires BCS Consulting to Strength...</td>\n",
       "      <td>October 28, 2021</td>\n",
       "      <td>https://newsroom.accenture.com/news/accenture-...</td>\n",
       "    </tr>\n",
       "    <tr>\n",
       "      <th>2</th>\n",
       "      <td>[CEOs Unequivocally Call for Bold Government A...</td>\n",
       "      <td>October 31, 2021</td>\n",
       "      <td>https://newsroom.accenture.com/news/ceos-unequ...</td>\n",
       "    </tr>\n",
       "    <tr>\n",
       "      <th>3</th>\n",
       "      <td>[Accenture Positioned as a Leader in IDC Marke...</td>\n",
       "      <td>November 01, 2021</td>\n",
       "      <td>https://newsroom.accenture.com/news/accenture-...</td>\n",
       "    </tr>\n",
       "    <tr>\n",
       "      <th>4</th>\n",
       "      <td>[More than Half of Organizations Not Effective...</td>\n",
       "      <td>November 03, 2021</td>\n",
       "      <td>https://newsroom.accenture.com/news/more-than-...</td>\n",
       "    </tr>\n",
       "    <tr>\n",
       "      <th>...</th>\n",
       "      <td>...</td>\n",
       "      <td>...</td>\n",
       "      <td>...</td>\n",
       "    </tr>\n",
       "    <tr>\n",
       "      <th>4865</th>\n",
       "      <td>[Accenture Collaborates with Chubu Electric Po...</td>\n",
       "      <td>August 09, 2021</td>\n",
       "      <td>https://newsroom.accenture.com/news/accenture-...</td>\n",
       "    </tr>\n",
       "    <tr>\n",
       "      <th>4866</th>\n",
       "      <td>[National Wildlife Federation Expands Its “Gar...</td>\n",
       "      <td>August 03, 2021</td>\n",
       "      <td>https://newsroom.accenture.com/news/national-w...</td>\n",
       "    </tr>\n",
       "    <tr>\n",
       "      <th>4867</th>\n",
       "      <td>[Accenture Named a Leader in ‘Salesforce Consu...</td>\n",
       "      <td>August 03, 2021</td>\n",
       "      <td>https://newsroom.accenture.com/news/accenture-...</td>\n",
       "    </tr>\n",
       "    <tr>\n",
       "      <th>4868</th>\n",
       "      <td>[Global Cyber Intrusion Activity More than Dou...</td>\n",
       "      <td>August 04, 2021</td>\n",
       "      <td>https://newsroom.accenture.com/news/global-cyb...</td>\n",
       "    </tr>\n",
       "    <tr>\n",
       "      <th>4869</th>\n",
       "      <td>[Salt River Project Teams with Accenture to Tr...</td>\n",
       "      <td>August 04, 2021</td>\n",
       "      <td>https://newsroom.accenture.com/news/salt-river...</td>\n",
       "    </tr>\n",
       "  </tbody>\n",
       "</table>\n",
       "<p>4870 rows × 3 columns</p>\n",
       "</div>"
      ],
      "text/plain": [
       "                                                  Title               Date  \\\n",
       "0     [World Economic Forum, Accenture and EPRI Laun...  November 03, 2021   \n",
       "1     [Accenture Acquires BCS Consulting to Strength...   October 28, 2021   \n",
       "2     [CEOs Unequivocally Call for Bold Government A...   October 31, 2021   \n",
       "3     [Accenture Positioned as a Leader in IDC Marke...  November 01, 2021   \n",
       "4     [More than Half of Organizations Not Effective...  November 03, 2021   \n",
       "...                                                 ...                ...   \n",
       "4865  [Accenture Collaborates with Chubu Electric Po...    August 09, 2021   \n",
       "4866  [National Wildlife Federation Expands Its “Gar...    August 03, 2021   \n",
       "4867  [Accenture Named a Leader in ‘Salesforce Consu...    August 03, 2021   \n",
       "4868  [Global Cyber Intrusion Activity More than Dou...    August 04, 2021   \n",
       "4869  [Salt River Project Teams with Accenture to Tr...    August 04, 2021   \n",
       "\n",
       "                                                   Link  \n",
       "0     https://newsroom.accenture.com/news/world-econ...  \n",
       "1     https://newsroom.accenture.com/news/accenture-...  \n",
       "2     https://newsroom.accenture.com/news/ceos-unequ...  \n",
       "3     https://newsroom.accenture.com/news/accenture-...  \n",
       "4     https://newsroom.accenture.com/news/more-than-...  \n",
       "...                                                 ...  \n",
       "4865  https://newsroom.accenture.com/news/accenture-...  \n",
       "4866  https://newsroom.accenture.com/news/national-w...  \n",
       "4867  https://newsroom.accenture.com/news/accenture-...  \n",
       "4868  https://newsroom.accenture.com/news/global-cyb...  \n",
       "4869  https://newsroom.accenture.com/news/salt-river...  \n",
       "\n",
       "[4870 rows x 3 columns]"
      ]
     },
     "execution_count": 13,
     "metadata": {},
     "output_type": "execute_result"
    }
   ],
   "source": [
    "message = pd.read_json('accenture.json')\n",
    "message"
   ]
  },
  {
   "cell_type": "code",
   "execution_count": 14,
   "metadata": {},
   "outputs": [
    {
     "data": {
      "text/html": [
       "<div>\n",
       "<style scoped>\n",
       "    .dataframe tbody tr th:only-of-type {\n",
       "        vertical-align: middle;\n",
       "    }\n",
       "\n",
       "    .dataframe tbody tr th {\n",
       "        vertical-align: top;\n",
       "    }\n",
       "\n",
       "    .dataframe thead th {\n",
       "        text-align: right;\n",
       "    }\n",
       "</style>\n",
       "<table border=\"1\" class=\"dataframe\">\n",
       "  <thead>\n",
       "    <tr style=\"text-align: right;\">\n",
       "      <th></th>\n",
       "      <th>Title</th>\n",
       "    </tr>\n",
       "  </thead>\n",
       "  <tbody>\n",
       "    <tr>\n",
       "      <th>0</th>\n",
       "      <td>World Economic Forum, Accenture and EPRI Launc...</td>\n",
       "    </tr>\n",
       "    <tr>\n",
       "      <th>1</th>\n",
       "      <td>Accenture Acquires BCS Consulting to Strengthe...</td>\n",
       "    </tr>\n",
       "    <tr>\n",
       "      <th>2</th>\n",
       "      <td>CEOs Unequivocally Call for Bold Government Ac...</td>\n",
       "    </tr>\n",
       "    <tr>\n",
       "      <th>3</th>\n",
       "      <td>Accenture Positioned as a Leader in IDC Market...</td>\n",
       "    </tr>\n",
       "    <tr>\n",
       "      <th>4</th>\n",
       "      <td>More than Half of Organizations Not Effectivel...</td>\n",
       "    </tr>\n",
       "    <tr>\n",
       "      <th>...</th>\n",
       "      <td>...</td>\n",
       "    </tr>\n",
       "    <tr>\n",
       "      <th>4865</th>\n",
       "      <td>Accenture Collaborates with Chubu Electric Pow...</td>\n",
       "    </tr>\n",
       "    <tr>\n",
       "      <th>4866</th>\n",
       "      <td>National Wildlife Federation Expands Its “Gard...</td>\n",
       "    </tr>\n",
       "    <tr>\n",
       "      <th>4867</th>\n",
       "      <td>Accenture Named a Leader in ‘Salesforce Consul...</td>\n",
       "    </tr>\n",
       "    <tr>\n",
       "      <th>4868</th>\n",
       "      <td>Global Cyber Intrusion Activity More than Doub...</td>\n",
       "    </tr>\n",
       "    <tr>\n",
       "      <th>4869</th>\n",
       "      <td>Salt River Project Teams with Accenture to Tra...</td>\n",
       "    </tr>\n",
       "  </tbody>\n",
       "</table>\n",
       "<p>4870 rows × 1 columns</p>\n",
       "</div>"
      ],
      "text/plain": [
       "                                                  Title\n",
       "0     World Economic Forum, Accenture and EPRI Launc...\n",
       "1     Accenture Acquires BCS Consulting to Strengthe...\n",
       "2     CEOs Unequivocally Call for Bold Government Ac...\n",
       "3     Accenture Positioned as a Leader in IDC Market...\n",
       "4     More than Half of Organizations Not Effectivel...\n",
       "...                                                 ...\n",
       "4865  Accenture Collaborates with Chubu Electric Pow...\n",
       "4866  National Wildlife Federation Expands Its “Gard...\n",
       "4867  Accenture Named a Leader in ‘Salesforce Consul...\n",
       "4868  Global Cyber Intrusion Activity More than Doub...\n",
       "4869  Salt River Project Teams with Accenture to Tra...\n",
       "\n",
       "[4870 rows x 1 columns]"
      ]
     },
     "execution_count": 14,
     "metadata": {},
     "output_type": "execute_result"
    }
   ],
   "source": [
    "a = message.Title.values\n",
    "b = [i for i in a if i not in ['[', ']']]\n",
    "messages = pd.DataFrame(b, columns=['Title'])\n",
    "messages"
   ]
  },
  {
   "cell_type": "code",
   "execution_count": 15,
   "metadata": {
    "id": "iiKZx7RPrjLQ"
   },
   "outputs": [],
   "source": [
    "nlp = spacy.load(\"en_core_web_sm\")"
   ]
  },
  {
   "cell_type": "code",
   "execution_count": 16,
   "metadata": {
    "id": "caZstaYernOa"
   },
   "outputs": [],
   "source": [
    "def get_hotwords(text):\n",
    "    result = []\n",
    "    pos_tag = ['PROPN', 'ADJ', 'NOUN']\n",
    "    doc = nlp(text.lower())\n",
    "    for token in doc:\n",
    "        \n",
    "        if(token.text in nlp.Defaults.stop_words or token.text in punctuation):\n",
    "            continue\n",
    "        \n",
    "        elif(token.pos_ in pos_tag):\n",
    "            result.append(token.text)\n",
    "                \n",
    "    return result"
   ]
  },
  {
   "cell_type": "code",
   "execution_count": 17,
   "metadata": {
    "id": "bKbyOvXrrq0J"
   },
   "outputs": [],
   "source": [
    "message_text = str(messages.Title.values)\n",
    "output = get_hotwords(message_text)\n",
    "words = [x for x in Counter(output).most_common(30)]"
   ]
  },
  {
   "cell_type": "code",
   "execution_count": 18,
   "metadata": {},
   "outputs": [
    {
     "data": {
      "text/plain": [
       "[('accenture', 6),\n",
       " ('consulting', 2),\n",
       " ('services', 2),\n",
       " ('capabilities', 2),\n",
       " ('research', 2),\n",
       " ('global', 2),\n",
       " ('world', 1),\n",
       " ('economic', 1),\n",
       " ('forum', 1),\n",
       " ('epri', 1),\n",
       " ('launch', 1),\n",
       " ('initiative', 1),\n",
       " ('transition', 1),\n",
       " ('industrial', 1),\n",
       " ('clusters', 1),\n",
       " ('net', 1),\n",
       " ('bcs', 1),\n",
       " ('u.k', 1),\n",
       " ('financial', 1),\n",
       " ('technology', 1),\n",
       " ('bold', 1),\n",
       " ('government', 1),\n",
       " ('action', 1),\n",
       " ('consistent', 1),\n",
       " ('climate', 1),\n",
       " ('policy', 1),\n",
       " ('cop26', 1),\n",
       " ('latest', 1),\n",
       " ('sustainability', 1),\n",
       " ('un', 1)]"
      ]
     },
     "execution_count": 18,
     "metadata": {},
     "output_type": "execute_result"
    }
   ],
   "source": [
    "words"
   ]
  },
  {
   "cell_type": "code",
   "execution_count": 19,
   "metadata": {
    "colab": {
     "base_uri": "https://localhost:8080/",
     "height": 514
    },
    "id": "gaxBfKv5rxss",
    "outputId": "675f2a91-bdb7-4210-9ebb-c3b19b753303"
   },
   "outputs": [
    {
     "data": {
      "image/png": "[encoded data removed]",
      "text/plain": [
       "<Figure size 1440x1152 with 1 Axes>"
      ]
     },
     "metadata": {},
     "output_type": "display_data"
    }
   ],
   "source": [
    "df = pd.DataFrame(words, columns =['Most commom keywords', 'Amount'])\n",
    "rcParams['figure.figsize'] = 20,16\n",
    "sns.set_style('darkgrid')\n",
    "ax = sns.barplot(x='Amount', y='Most commom keywords', data= df[:10], palette='rocket', edgecolor='k')\n",
    "ax.set_title('ACCENTURE TOP 10 MOST COMMOM KEYWORDS BY FREQUENCY', fontsize=14, weight='bold')\n",
    "ax.set_xlabel('Amount')\n",
    "sns.despine();\n",
    "plt.savefig('accenture_keywords.png')"
   ]
  },
  {
   "cell_type": "code",
   "execution_count": 20,
   "metadata": {},
   "outputs": [],
   "source": [
    "doc = list(nlp(message_text).noun_chunks)"
   ]
  },
  {
   "cell_type": "code",
   "execution_count": 21,
   "metadata": {},
   "outputs": [],
   "source": [
    "import sys\n",
    "\n",
    "orig_stdout = sys.stdout\n",
    "f = open(\n",
    "    'accenture.txt', 'w'\n",
    ")\n",
    "sys.stdout = f\n",
    "\n",
    "\n",
    "for token in doc:\n",
    "    if 'Accenture' in str(token):\n",
    "        print(token)\n",
    "\n",
    "sys.stdout = orig_stdout\n",
    "f.close()"
   ]
  },
  {
   "cell_type": "code",
   "execution_count": 22,
   "metadata": {},
   "outputs": [
    {
     "data": {
      "text/html": [
       "<div>\n",
       "<style scoped>\n",
       "    .dataframe tbody tr th:only-of-type {\n",
       "        vertical-align: middle;\n",
       "    }\n",
       "\n",
       "    .dataframe tbody tr th {\n",
       "        vertical-align: top;\n",
       "    }\n",
       "\n",
       "    .dataframe thead th {\n",
       "        text-align: right;\n",
       "    }\n",
       "</style>\n",
       "<table border=\"1\" class=\"dataframe\">\n",
       "  <thead>\n",
       "    <tr style=\"text-align: right;\">\n",
       "      <th></th>\n",
       "      <th>Frequency</th>\n",
       "    </tr>\n",
       "    <tr>\n",
       "      <th>Term</th>\n",
       "      <th></th>\n",
       "    </tr>\n",
       "  </thead>\n",
       "  <tbody>\n",
       "    <tr>\n",
       "      <th>Accenture</th>\n",
       "      <td>3</td>\n",
       "    </tr>\n",
       "    <tr>\n",
       "      <th>Accenture’s Cyber Incident Response Update'</th>\n",
       "      <td>1</td>\n",
       "    </tr>\n",
       "    <tr>\n",
       "      <th>'Salt River Project Teams</th>\n",
       "      <td>1</td>\n",
       "    </tr>\n",
       "  </tbody>\n",
       "</table>\n",
       "</div>"
      ],
      "text/plain": [
       "                                             Frequency\n",
       "Term                                                  \n",
       "Accenture                                            3\n",
       "Accenture’s Cyber Incident Response Update'          1\n",
       " 'Salt River Project Teams                           1"
      ]
     },
     "execution_count": 22,
     "metadata": {},
     "output_type": "execute_result"
    }
   ],
   "source": [
    "df = pd.read_table(\n",
    "    'accenture.txt', \n",
    "    header=None,\n",
    "    encoding= 'cp1252'\n",
    ")\n",
    "df.rename(\n",
    "    columns={\n",
    "        0: 'Accenture'\n",
    "    },\n",
    "    inplace=True, \n",
    "    errors='raise'\n",
    ")\n",
    "dff = pd.DataFrame(\n",
    "    data=df.Accenture.value_counts()\n",
    ").rename(\n",
    "    columns={'Accenture': 'Frequency'}\n",
    ").rename_axis(\n",
    "    'Term'\n",
    ")\n",
    "dff.head()"
   ]
  },
  {
   "cell_type": "code",
   "execution_count": 23,
   "metadata": {},
   "outputs": [
    {
     "data": {
      "image/png": "[encoded data removed]",
      "text/plain": [
       "<Figure size 1296x1080 with 1 Axes>"
      ]
     },
     "metadata": {},
     "output_type": "display_data"
    }
   ],
   "source": [
    "rcParams[\n",
    "    'figure.figsize'\n",
    "] = 18,15\n",
    "ax = sns.barplot(\n",
    "    data=dff[:6], \n",
    "    x=dff.index[:6], \n",
    "    y='Frequency', \n",
    "    palette='rocket', \n",
    "    edgecolor='k'\n",
    ")\n",
    "ax.set_title(\n",
    "    'TOP 3 MOST COMMOM KEYWORDS INSIDE ACCENTURE BY FREQUENCY', \n",
    "    fontsize=14, \n",
    "    weight='bold'\n",
    ")\n",
    "ax.set_xlabel(\n",
    "    'TERM'\n",
    ")\n",
    "plt.savefig(\n",
    "    'most_commom_keyword.png'\n",
    ")"
   ]
  },
  {
   "cell_type": "code",
   "execution_count": 24,
   "metadata": {},
   "outputs": [],
   "source": [
    "orig_stdout = sys.stdout\n",
    "f = open(\n",
    "    'consulting.txt', 'w'\n",
    ")\n",
    "sys.stdout = f\n",
    "\n",
    "\n",
    "for token in doc:\n",
    "    if 'Consulting' in str(token):\n",
    "        print(token)\n",
    "\n",
    "sys.stdout = orig_stdout\n",
    "f.close()"
   ]
  },
  {
   "cell_type": "code",
   "execution_count": 25,
   "metadata": {},
   "outputs": [
    {
     "data": {
      "text/html": [
       "<div>\n",
       "<style scoped>\n",
       "    .dataframe tbody tr th:only-of-type {\n",
       "        vertical-align: middle;\n",
       "    }\n",
       "\n",
       "    .dataframe tbody tr th {\n",
       "        vertical-align: top;\n",
       "    }\n",
       "\n",
       "    .dataframe thead th {\n",
       "        text-align: right;\n",
       "    }\n",
       "</style>\n",
       "<table border=\"1\" class=\"dataframe\">\n",
       "  <thead>\n",
       "    <tr style=\"text-align: right;\">\n",
       "      <th></th>\n",
       "      <th>Frequency</th>\n",
       "    </tr>\n",
       "    <tr>\n",
       "      <th>Term</th>\n",
       "      <th></th>\n",
       "    </tr>\n",
       "  </thead>\n",
       "  <tbody>\n",
       "    <tr>\n",
       "      <th>its U.K. Financial Services Consulting</th>\n",
       "      <td>1</td>\n",
       "    </tr>\n",
       "    <tr>\n",
       "      <th>Salesforce Consulting Partners’ Report</th>\n",
       "      <td>1</td>\n",
       "    </tr>\n",
       "  </tbody>\n",
       "</table>\n",
       "</div>"
      ],
      "text/plain": [
       "                                        Frequency\n",
       "Term                                             \n",
       "its U.K. Financial Services Consulting          1\n",
       "Salesforce Consulting Partners’ Report          1"
      ]
     },
     "execution_count": 25,
     "metadata": {},
     "output_type": "execute_result"
    }
   ],
   "source": [
    "df2 = pd.read_table(\n",
    "    'consulting.txt', \n",
    "    header=None,\n",
    "    encoding= 'cp1252'\n",
    ")\n",
    "df2.rename(\n",
    "    columns={\n",
    "        0: 'Consulting'\n",
    "    },\n",
    "    inplace=True, \n",
    "    errors='raise'\n",
    ")\n",
    "dff2 = pd.DataFrame(\n",
    "    data=df2.Consulting.value_counts()\n",
    ").rename(\n",
    "    columns={'Consulting': 'Frequency'}\n",
    ").rename_axis(\n",
    "    'Term'\n",
    ")\n",
    "dff2.head()"
   ]
  },
  {
   "cell_type": "code",
   "execution_count": 26,
   "metadata": {},
   "outputs": [
    {
     "data": {
      "image/png": "[encoded data removed]",
      "text/plain": [
       "<Figure size 1296x1080 with 1 Axes>"
      ]
     },
     "metadata": {},
     "output_type": "display_data"
    }
   ],
   "source": [
    "rcParams[\n",
    "    'figure.figsize'\n",
    "] = 18,15\n",
    "ax = sns.barplot(\n",
    "    data=dff2[:7], \n",
    "    x=dff2.index[:7], \n",
    "    y='Frequency', \n",
    "    palette='rocket', \n",
    "    edgecolor='k'\n",
    ")\n",
    "ax.set_title(\n",
    "    'TOP MOST COMMOM KEYWORDS INSIDE CONSULTING BY FREQUENCY', \n",
    "    fontsize=14, \n",
    "    weight='bold'\n",
    ")\n",
    "ax.set_xlabel(\n",
    "    'TERM'\n",
    ")\n",
    "plt.savefig(\n",
    "    'second_most_commom_keyword.png'\n",
    ")"
   ]
  },
  {
   "cell_type": "code",
   "execution_count": 27,
   "metadata": {},
   "outputs": [],
   "source": [
    "orig_stdout = sys.stdout\n",
    "f = open(\n",
    "    'services.txt', 'w'\n",
    ")\n",
    "sys.stdout = f\n",
    "\n",
    "\n",
    "for token in doc:\n",
    "    if 'Services' in str(token):\n",
    "        print(token)\n",
    "\n",
    "sys.stdout = orig_stdout\n",
    "f.close()"
   ]
  },
  {
   "cell_type": "code",
   "execution_count": 28,
   "metadata": {},
   "outputs": [
    {
     "data": {
      "text/html": [
       "<div>\n",
       "<style scoped>\n",
       "    .dataframe tbody tr th:only-of-type {\n",
       "        vertical-align: middle;\n",
       "    }\n",
       "\n",
       "    .dataframe tbody tr th {\n",
       "        vertical-align: top;\n",
       "    }\n",
       "\n",
       "    .dataframe thead th {\n",
       "        text-align: right;\n",
       "    }\n",
       "</style>\n",
       "<table border=\"1\" class=\"dataframe\">\n",
       "  <thead>\n",
       "    <tr style=\"text-align: right;\">\n",
       "      <th></th>\n",
       "      <th>Frequency</th>\n",
       "    </tr>\n",
       "    <tr>\n",
       "      <th>Term</th>\n",
       "      <th></th>\n",
       "    </tr>\n",
       "  </thead>\n",
       "  <tbody>\n",
       "    <tr>\n",
       "      <th>its U.K. Financial Services Consulting</th>\n",
       "      <td>1</td>\n",
       "    </tr>\n",
       "    <tr>\n",
       "      <th>Services Capabilities</th>\n",
       "      <td>1</td>\n",
       "    </tr>\n",
       "  </tbody>\n",
       "</table>\n",
       "</div>"
      ],
      "text/plain": [
       "                                        Frequency\n",
       "Term                                             \n",
       "its U.K. Financial Services Consulting          1\n",
       "Services Capabilities                           1"
      ]
     },
     "execution_count": 28,
     "metadata": {},
     "output_type": "execute_result"
    }
   ],
   "source": [
    "df3 = pd.read_table(\n",
    "    'services.txt', \n",
    "    header=None,\n",
    "    encoding= 'cp1252'\n",
    ")\n",
    "df3.rename(\n",
    "    columns={\n",
    "        0: 'Services'\n",
    "    },\n",
    "    inplace=True, \n",
    "    errors='raise'\n",
    ")\n",
    "dff3 = pd.DataFrame(\n",
    "    data=df3.Services.value_counts()\n",
    ").rename(\n",
    "    columns={'Services': 'Frequency'}\n",
    ").rename_axis(\n",
    "    'Term'\n",
    ")\n",
    "dff3.head()"
   ]
  },
  {
   "cell_type": "code",
   "execution_count": 29,
   "metadata": {},
   "outputs": [
    {
     "data": {
      "image/png": "[encoded data removed]",
      "text/plain": [
       "<Figure size 1296x1080 with 1 Axes>"
      ]
     },
     "metadata": {},
     "output_type": "display_data"
    }
   ],
   "source": [
    "rcParams[\n",
    "    'figure.figsize'\n",
    "] = 18,15\n",
    "ax = sns.barplot(\n",
    "    data=dff3[:7], \n",
    "    x=dff3.index[:7], \n",
    "    y='Frequency', \n",
    "    palette='rocket', \n",
    "    edgecolor='k'\n",
    ")\n",
    "ax.set_title(\n",
    "    'TOP MOST COMMOM KEYWORDS INSIDE SERVICES BY FREQUENCY', \n",
    "    fontsize=14, \n",
    "    weight='bold'\n",
    ")\n",
    "ax.set_xlabel(\n",
    "    'TERM'\n",
    ")\n",
    "plt.savefig(\n",
    "    'third_most_commom_keyword.png'\n",
    ")"
   ]
  },
  {
   "cell_type": "code",
   "execution_count": 32,
   "metadata": {},
   "outputs": [],
   "source": [
    "orig_stdout = sys.stdout\n",
    "f = open(\n",
    "    'capabilities.txt', 'w'\n",
    ")\n",
    "sys.stdout = f\n",
    "\n",
    "\n",
    "for token in doc:\n",
    "    if 'Capabilities' in str(token):\n",
    "        print(token)\n",
    "\n",
    "sys.stdout = orig_stdout\n",
    "f.close()"
   ]
  },
  {
   "cell_type": "code",
   "execution_count": 33,
   "metadata": {},
   "outputs": [
    {
     "data": {
      "text/html": [
       "<div>\n",
       "<style scoped>\n",
       "    .dataframe tbody tr th:only-of-type {\n",
       "        vertical-align: middle;\n",
       "    }\n",
       "\n",
       "    .dataframe tbody tr th {\n",
       "        vertical-align: top;\n",
       "    }\n",
       "\n",
       "    .dataframe thead th {\n",
       "        text-align: right;\n",
       "    }\n",
       "</style>\n",
       "<table border=\"1\" class=\"dataframe\">\n",
       "  <thead>\n",
       "    <tr style=\"text-align: right;\">\n",
       "      <th></th>\n",
       "      <th>Frequency</th>\n",
       "    </tr>\n",
       "    <tr>\n",
       "      <th>Term</th>\n",
       "      <th></th>\n",
       "    </tr>\n",
       "  </thead>\n",
       "  <tbody>\n",
       "    <tr>\n",
       "      <th>Services Capabilities</th>\n",
       "      <td>1</td>\n",
       "    </tr>\n",
       "  </tbody>\n",
       "</table>\n",
       "</div>"
      ],
      "text/plain": [
       "                       Frequency\n",
       "Term                            \n",
       "Services Capabilities          1"
      ]
     },
     "execution_count": 33,
     "metadata": {},
     "output_type": "execute_result"
    }
   ],
   "source": [
    "df4 = pd.read_table(\n",
    "    'capabilities.txt', \n",
    "    header=None\n",
    ")\n",
    "df4.rename(\n",
    "    columns={\n",
    "        0: 'Capabilities'\n",
    "    },\n",
    "    inplace=True, \n",
    "    errors='raise'\n",
    ")\n",
    "dff4 = pd.DataFrame(\n",
    "    data=df4.Capabilities.value_counts()\n",
    ").rename(\n",
    "    columns={'Capabilities': 'Frequency'}\n",
    ").rename_axis(\n",
    "    'Term'\n",
    ")\n",
    "dff4.head()"
   ]
  },
  {
   "cell_type": "code",
   "execution_count": 34,
   "metadata": {},
   "outputs": [
    {
     "data": {
      "image/png": "[encoded data removed]",
      "text/plain": [
       "<Figure size 1296x1080 with 1 Axes>"
      ]
     },
     "metadata": {},
     "output_type": "display_data"
    }
   ],
   "source": [
    "rcParams[\n",
    "    'figure.figsize'\n",
    "] = 18,15\n",
    "ax = sns.barplot(\n",
    "    data=dff4[:5], \n",
    "    x=dff4.index[:5], \n",
    "    y='Frequency', \n",
    "    palette='rocket', \n",
    "    edgecolor='k'\n",
    ")\n",
    "ax.set_title(\n",
    "    'TOP MOST COMMOM KEYWORDS INSIDE CAPABILITIES BY FREQUENCY', \n",
    "    fontsize=14, \n",
    "    weight='bold'\n",
    ")\n",
    "ax.set_xlabel(\n",
    "    'TERM'\n",
    ")\n",
    "plt.savefig(\n",
    "    'fourth_most_commom_keyword.png'\n",
    ")"
   ]
  },
  {
   "cell_type": "code",
   "execution_count": 35,
   "metadata": {},
   "outputs": [],
   "source": [
    "orig_stdout = sys.stdout\n",
    "f = open(\n",
    "    'research.txt', 'w'\n",
    ")\n",
    "sys.stdout = f\n",
    "\n",
    "\n",
    "for token in doc:\n",
    "    if 'Research' in str(token):\n",
    "        print(token)\n",
    "\n",
    "sys.stdout = orig_stdout\n",
    "f.close()"
   ]
  },
  {
   "cell_type": "code",
   "execution_count": 36,
   "metadata": {},
   "outputs": [
    {
     "data": {
      "text/html": [
       "<div>\n",
       "<style scoped>\n",
       "    .dataframe tbody tr th:only-of-type {\n",
       "        vertical-align: middle;\n",
       "    }\n",
       "\n",
       "    .dataframe tbody tr th {\n",
       "        vertical-align: top;\n",
       "    }\n",
       "\n",
       "    .dataframe thead th {\n",
       "        text-align: right;\n",
       "    }\n",
       "</style>\n",
       "<table border=\"1\" class=\"dataframe\">\n",
       "  <thead>\n",
       "    <tr style=\"text-align: right;\">\n",
       "      <th></th>\n",
       "      <th>Frequency</th>\n",
       "    </tr>\n",
       "    <tr>\n",
       "      <th>Term</th>\n",
       "      <th></th>\n",
       "    </tr>\n",
       "  </thead>\n",
       "  <tbody>\n",
       "    <tr>\n",
       "      <th>Latest Sustainability Research</th>\n",
       "      <td>1</td>\n",
       "    </tr>\n",
       "    <tr>\n",
       "      <th>Independent Research Firm</th>\n",
       "      <td>1</td>\n",
       "    </tr>\n",
       "  </tbody>\n",
       "</table>\n",
       "</div>"
      ],
      "text/plain": [
       "                                Frequency\n",
       "Term                                     \n",
       "Latest Sustainability Research          1\n",
       "Independent Research Firm               1"
      ]
     },
     "execution_count": 36,
     "metadata": {},
     "output_type": "execute_result"
    }
   ],
   "source": [
    "df5 = pd.read_table(\n",
    "    'research.txt', \n",
    "    header=None,\n",
    "    encoding= 'cp1252'\n",
    ")\n",
    "df5.rename(\n",
    "    columns={\n",
    "        0: 'Research'\n",
    "    },\n",
    "    inplace=True, \n",
    "    errors='raise'\n",
    ")\n",
    "dff5 = pd.DataFrame(\n",
    "    data=df5.Research.value_counts()\n",
    ").rename(\n",
    "    columns={'Research': 'Frequency'}\n",
    ").rename_axis(\n",
    "    'Term'\n",
    ")\n",
    "dff5.head()"
   ]
  },
  {
   "cell_type": "code",
   "execution_count": 37,
   "metadata": {},
   "outputs": [
    {
     "data": {
      "image/png": "[encoded data removed]",
      "text/plain": [
       "<Figure size 1296x1080 with 1 Axes>"
      ]
     },
     "metadata": {},
     "output_type": "display_data"
    }
   ],
   "source": [
    "rcParams[\n",
    "    'figure.figsize'\n",
    "] = 18,15\n",
    "ax = sns.barplot(\n",
    "    data=dff5[:6], \n",
    "    x=dff5.index[:6], \n",
    "    y='Frequency', \n",
    "    palette='rocket', \n",
    "    edgecolor='k'\n",
    ")\n",
    "ax.set_title(\n",
    "    'TOP MOST COMMOM KEYWORDS INSIDE RESEARCH END BY FREQUENCY', \n",
    "    fontsize=14, \n",
    "    weight='bold'\n",
    ")\n",
    "ax.set_xlabel(\n",
    "    'TERM'\n",
    ")\n",
    "plt.savefig(\n",
    "    'fifth_most_commom_keyword.png'\n",
    ")"
   ]
  },
  {
   "cell_type": "code",
   "execution_count": 38,
   "metadata": {},
   "outputs": [],
   "source": [
    "orig_stdout = sys.stdout\n",
    "f = open(\n",
    "    'global.txt', 'w'\n",
    ")\n",
    "sys.stdout = f\n",
    "\n",
    "\n",
    "for token in doc:\n",
    "    if 'Global' in str(token):\n",
    "        print(token)\n",
    "\n",
    "sys.stdout = orig_stdout\n",
    "f.close()"
   ]
  },
  {
   "cell_type": "code",
   "execution_count": 39,
   "metadata": {},
   "outputs": [
    {
     "data": {
      "text/html": [
       "<div>\n",
       "<style scoped>\n",
       "    .dataframe tbody tr th:only-of-type {\n",
       "        vertical-align: middle;\n",
       "    }\n",
       "\n",
       "    .dataframe tbody tr th {\n",
       "        vertical-align: top;\n",
       "    }\n",
       "\n",
       "    .dataframe thead th {\n",
       "        text-align: right;\n",
       "    }\n",
       "</style>\n",
       "<table border=\"1\" class=\"dataframe\">\n",
       "  <thead>\n",
       "    <tr style=\"text-align: right;\">\n",
       "      <th></th>\n",
       "      <th>Frequency</th>\n",
       "    </tr>\n",
       "    <tr>\n",
       "      <th>Term</th>\n",
       "      <th></th>\n",
       "    </tr>\n",
       "  </thead>\n",
       "  <tbody>\n",
       "    <tr>\n",
       "      <th>the UN Global Compact</th>\n",
       "      <td>1</td>\n",
       "    </tr>\n",
       "    <tr>\n",
       "      <th>Global Cyber Intrusion Activity</th>\n",
       "      <td>1</td>\n",
       "    </tr>\n",
       "  </tbody>\n",
       "</table>\n",
       "</div>"
      ],
      "text/plain": [
       "                                 Frequency\n",
       "Term                                      \n",
       "the UN Global Compact                    1\n",
       "Global Cyber Intrusion Activity          1"
      ]
     },
     "execution_count": 39,
     "metadata": {},
     "output_type": "execute_result"
    }
   ],
   "source": [
    "df6 = pd.read_table(\n",
    "    'global.txt', \n",
    "    header=None,\n",
    "    encoding= 'cp1252'\n",
    ")\n",
    "df6.rename(\n",
    "    columns={\n",
    "        0: 'Global'\n",
    "    },\n",
    "    inplace=True, \n",
    "    errors='raise'\n",
    ")\n",
    "dff6 = pd.DataFrame(\n",
    "    data=df6.Global.value_counts()\n",
    ").rename(\n",
    "    columns={'Global': 'Frequency'}\n",
    ").rename_axis(\n",
    "    'Term'\n",
    ")\n",
    "dff6.head()"
   ]
  },
  {
   "cell_type": "code",
   "execution_count": 40,
   "metadata": {},
   "outputs": [
    {
     "data": {
      "image/png": "[encoded data removed]",
      "text/plain": [
       "<Figure size 1296x1080 with 1 Axes>"
      ]
     },
     "metadata": {},
     "output_type": "display_data"
    }
   ],
   "source": [
    "rcParams[\n",
    "    'figure.figsize'\n",
    "] = 18,15\n",
    "ax = sns.barplot(\n",
    "    data=dff6[:5], \n",
    "    x=dff6.index[:5], \n",
    "    y='Frequency', \n",
    "    palette='rocket', \n",
    "    edgecolor='k'\n",
    ")\n",
    "ax.set_title(\n",
    "    'TOP MOST COMMOM KEYWORDS INSIDE GLOBAL BY FREQUENCY', \n",
    "    fontsize=14, \n",
    "    weight='bold'\n",
    ")\n",
    "ax.set_xlabel(\n",
    "    'TERM'\n",
    ")\n",
    "plt.savefig(\n",
    "    'sixth_most_commom_keyword.png'\n",
    ")"
   ]
  }
 ],
 "metadata": {
  "colab": {
   "name": "accenture_keywords.ipynb",
   "provenance": []
  },
  "kernelspec": {
   "display_name": "Python 3 (ipykernel)",
   "language": "python",
   "name": "python3"
  },
  "language_info": {
   "codemirror_mode": {
    "name": "ipython",
    "version": 3
   },
   "file_extension": ".py",
   "mimetype": "text/x-python",
   "name": "python",
   "nbconvert_exporter": "python",
   "pygments_lexer": "ipython3",
   "version": "3.8.11"
  }
 },
 "nbformat": 4,
 "nbformat_minor": 1
}
