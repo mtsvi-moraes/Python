{
  "nbformat": 4,
  "nbformat_minor": 0,
  "metadata": {
    "colab": {
      "name": "python_analise_dados_pandas.ipynb",
      "provenance": [],
      "collapsed_sections": [
        "PbJp2_yTh-ZE",
        "_dEAISemzvbG",
        "oCaVx09McU74",
        "84V4_5a0cuaK"
      ],
      "include_colab_link": true
    },
    "kernelspec": {
      "name": "python3",
      "display_name": "Python 3"
    },
    "language_info": {
      "name": "python"
    }
  },
  "cells": [
    {
      "cell_type": "markdown",
      "metadata": {
        "id": "view-in-github",
        "colab_type": "text"
      },
      "source": [
        "<a href=\"https://colab.research.google.com/github/mtsvi-moraes/mtsvi-moraes/blob/main/python_analise_dados_pandas.ipynb\" target=\"_parent\"><img src=\"https://colab.research.google.com/assets/colab-badge.svg\" alt=\"Open In Colab\"/></a>"
      ]
    },
    {
      "cell_type": "markdown",
      "metadata": {
        "id": "LakvwgTKPc2r"
      },
      "source": [
        "# **Criando Series e DataFrames com Pandas:**"
      ]
    },
    {
      "cell_type": "markdown",
      "metadata": {
        "id": "C9p8ZdiXPmHK"
      },
      "source": [
        "### **Importando bibliotecas:**"
      ]
    },
    {
      "cell_type": "code",
      "metadata": {
        "id": "suzv-TL7NoK5"
      },
      "source": [
        "import pandas as pd\n",
        "from pandas import Series, DataFrame\n",
        "import numpy as np"
      ],
      "execution_count": 170,
      "outputs": []
    },
    {
      "cell_type": "markdown",
      "metadata": {
        "id": "EDGEbzHhPt-P"
      },
      "source": [
        "### **Criando e fazendo seleções em Series:**"
      ]
    },
    {
      "cell_type": "code",
      "metadata": {
        "colab": {
          "base_uri": "https://localhost:8080/"
        },
        "id": "gvZe0F8hP1qm",
        "outputId": "0e90e2a8-fab2-450d-dbe2-9e2f4736c798"
      },
      "source": [
        "objeto = pd.Series([1, 2, 3], index=['um', 'dois', 'tres'])\n",
        "\n",
        "objeto[['um', 'dois']]"
      ],
      "execution_count": 171,
      "outputs": [
        {
          "output_type": "execute_result",
          "data": {
            "text/plain": [
              "um      1\n",
              "dois    2\n",
              "dtype: int64"
            ]
          },
          "metadata": {
            "tags": []
          },
          "execution_count": 171
        }
      ]
    },
    {
      "cell_type": "code",
      "metadata": {
        "colab": {
          "base_uri": "https://localhost:8080/"
        },
        "id": "SEjg-ol6RYKp",
        "outputId": "3da96ec2-188f-4e35-9081-df14fa39a553"
      },
      "source": [
        "'tres' in objeto   #obs: Procura pelo índice"
      ],
      "execution_count": 172,
      "outputs": [
        {
          "output_type": "execute_result",
          "data": {
            "text/plain": [
              "True"
            ]
          },
          "metadata": {
            "tags": []
          },
          "execution_count": 172
        }
      ]
    },
    {
      "cell_type": "code",
      "metadata": {
        "colab": {
          "base_uri": "https://localhost:8080/"
        },
        "id": "KzkJzqOOQk3p",
        "outputId": "6849cb0b-f6ec-47d7-cfaf-e241cff3cc56"
      },
      "source": [
        "objeto.values"
      ],
      "execution_count": 173,
      "outputs": [
        {
          "output_type": "execute_result",
          "data": {
            "text/plain": [
              "array([1, 2, 3])"
            ]
          },
          "metadata": {
            "tags": []
          },
          "execution_count": 173
        }
      ]
    },
    {
      "cell_type": "code",
      "metadata": {
        "colab": {
          "base_uri": "https://localhost:8080/"
        },
        "id": "3vgVL7q3QwK5",
        "outputId": "6728082f-7b55-4180-816b-aa37f62e7ec4"
      },
      "source": [
        "objeto.index"
      ],
      "execution_count": 174,
      "outputs": [
        {
          "output_type": "execute_result",
          "data": {
            "text/plain": [
              "Index(['um', 'dois', 'tres'], dtype='object')"
            ]
          },
          "metadata": {
            "tags": []
          },
          "execution_count": 174
        }
      ]
    },
    {
      "cell_type": "markdown",
      "metadata": {
        "id": "pFLsNZ7uTOwv"
      },
      "source": [
        "### **Convertendo dicionários em Series**"
      ]
    },
    {
      "cell_type": "markdown",
      "metadata": {
        "id": "p7YeJRNhTX6C"
      },
      "source": [
        "Obs: As chaves se tornam índices e os valores as linhas"
      ]
    },
    {
      "cell_type": "code",
      "metadata": {
        "colab": {
          "base_uri": "https://localhost:8080/"
        },
        "id": "2WmFTvj0Q31Q",
        "outputId": "3f9fcb41-5ef6-42be-fb2e-3c9c11a5ad39"
      },
      "source": [
        "estados = {'SP': 44000000, 'MG': 20000000, 'RG': 6748000, 'AM': 3874000, 'PR': 11000000}\n",
        "estados_br = pd.Series(estados)\n",
        "estados_br"
      ],
      "execution_count": 175,
      "outputs": [
        {
          "output_type": "execute_result",
          "data": {
            "text/plain": [
              "SP    44000000\n",
              "MG    20000000\n",
              "RG     6748000\n",
              "AM     3874000\n",
              "PR    11000000\n",
              "dtype: int64"
            ]
          },
          "metadata": {
            "tags": []
          },
          "execution_count": 175
        }
      ]
    },
    {
      "cell_type": "markdown",
      "metadata": {
        "id": "PbMBCZyAVI1-"
      },
      "source": [
        "**Atribuindo o índice de outra lista:**"
      ]
    },
    {
      "cell_type": "code",
      "metadata": {
        "colab": {
          "base_uri": "https://localhost:8080/"
        },
        "id": "0gknqfSoUbG5",
        "outputId": "ed17bf15-6e91-49cf-be61-fd35e3a2a58e"
      },
      "source": [
        "nome_estados = ['Utah', 'SP', 'MG', 'RG', 'AM']\n",
        "estados_gerais = pd.Series(estados, index=nome_estados)\n",
        "estados_gerais"
      ],
      "execution_count": 176,
      "outputs": [
        {
          "output_type": "execute_result",
          "data": {
            "text/plain": [
              "Utah           NaN\n",
              "SP      44000000.0\n",
              "MG      20000000.0\n",
              "RG       6748000.0\n",
              "AM       3874000.0\n",
              "dtype: float64"
            ]
          },
          "metadata": {
            "tags": []
          },
          "execution_count": 176
        }
      ]
    },
    {
      "cell_type": "code",
      "metadata": {
        "colab": {
          "base_uri": "https://localhost:8080/"
        },
        "id": "MhsncC8hWNua",
        "outputId": "526ae53c-ecb9-44a0-bf23-07fc120f0ac1"
      },
      "source": [
        "estados_br + estados_gerais                 #Somando duas Series, é feito um join"
      ],
      "execution_count": 177,
      "outputs": [
        {
          "output_type": "execute_result",
          "data": {
            "text/plain": [
              "AM       7748000.0\n",
              "MG      40000000.0\n",
              "PR             NaN\n",
              "RG      13496000.0\n",
              "SP      88000000.0\n",
              "Utah           NaN\n",
              "dtype: float64"
            ]
          },
          "metadata": {
            "tags": []
          },
          "execution_count": 177
        }
      ]
    },
    {
      "cell_type": "markdown",
      "metadata": {
        "id": "iNd6m8goV1cv"
      },
      "source": [
        "**Identificando números nulos:**"
      ]
    },
    {
      "cell_type": "code",
      "metadata": {
        "colab": {
          "base_uri": "https://localhost:8080/"
        },
        "id": "FSrUEiyAVh6W",
        "outputId": "4c2ecf8e-f75b-499e-8d01-34a3a7807d17"
      },
      "source": [
        "estados_gerais.isnull()"
      ],
      "execution_count": 178,
      "outputs": [
        {
          "output_type": "execute_result",
          "data": {
            "text/plain": [
              "Utah     True\n",
              "SP      False\n",
              "MG      False\n",
              "RG      False\n",
              "AM      False\n",
              "dtype: bool"
            ]
          },
          "metadata": {
            "tags": []
          },
          "execution_count": 178
        }
      ]
    },
    {
      "cell_type": "code",
      "metadata": {
        "colab": {
          "base_uri": "https://localhost:8080/"
        },
        "id": "pKSlcNReVo8k",
        "outputId": "6de40392-9bc9-4078-e420-f5141e2cdd7c"
      },
      "source": [
        "estados_gerais.notnull()"
      ],
      "execution_count": 179,
      "outputs": [
        {
          "output_type": "execute_result",
          "data": {
            "text/plain": [
              "Utah    False\n",
              "SP       True\n",
              "MG       True\n",
              "RG       True\n",
              "AM       True\n",
              "dtype: bool"
            ]
          },
          "metadata": {
            "tags": []
          },
          "execution_count": 179
        }
      ]
    },
    {
      "cell_type": "markdown",
      "metadata": {
        "id": "12258FdPXSs6"
      },
      "source": [
        "**Nomeando Índices e Nomes:**"
      ]
    },
    {
      "cell_type": "code",
      "metadata": {
        "colab": {
          "base_uri": "https://localhost:8080/"
        },
        "id": "jwZ0D8ZXXf9p",
        "outputId": "ab93ee13-aff9-47f4-a010-3afdb8c769b9"
      },
      "source": [
        "estados_gerais.index.name = 'Estados:'\n",
        "estados_gerais"
      ],
      "execution_count": 180,
      "outputs": [
        {
          "output_type": "execute_result",
          "data": {
            "text/plain": [
              "Estados:\n",
              "Utah           NaN\n",
              "SP      44000000.0\n",
              "MG      20000000.0\n",
              "RG       6748000.0\n",
              "AM       3874000.0\n",
              "dtype: float64"
            ]
          },
          "metadata": {
            "tags": []
          },
          "execution_count": 180
        }
      ]
    },
    {
      "cell_type": "code",
      "metadata": {
        "colab": {
          "base_uri": "https://localhost:8080/"
        },
        "id": "ryu5bXvEX2TY",
        "outputId": "838fb811-70a4-4898-d413-c7975847ed81"
      },
      "source": [
        "estados_gerais.name = 'Populacao'\n",
        "estados_gerais"
      ],
      "execution_count": 181,
      "outputs": [
        {
          "output_type": "execute_result",
          "data": {
            "text/plain": [
              "Estados:\n",
              "Utah           NaN\n",
              "SP      44000000.0\n",
              "MG      20000000.0\n",
              "RG       6748000.0\n",
              "AM       3874000.0\n",
              "Name: Populacao, dtype: float64"
            ]
          },
          "metadata": {
            "tags": []
          },
          "execution_count": 181
        }
      ]
    },
    {
      "cell_type": "markdown",
      "metadata": {
        "id": "PbJp2_yTh-ZE"
      },
      "source": [
        "### **DataFrame:**"
      ]
    },
    {
      "cell_type": "code",
      "metadata": {
        "colab": {
          "base_uri": "https://localhost:8080/",
          "height": 0
        },
        "id": "a4jwlzNhiCWc",
        "outputId": "1497dcbb-2942-4eff-9ae4-ae3bea94da32"
      },
      "source": [
        "data = {'Estado': ['São Paulo', 'São Paulo', 'São Paulo', 'Minas Gerais', 'Minas Gerais', 'Minas Gerais'],\n",
        "'Ano': [2000, 2005, 2010, 2000, 2010, 2020],\n",
        "'População': [36974378, 39201179, 41223683, 17891494, 19597330, 21292666]}\n",
        "dados = pd.DataFrame(data)\n",
        "dados.head()"
      ],
      "execution_count": 182,
      "outputs": [
        {
          "output_type": "execute_result",
          "data": {
            "text/html": [
              "<div>\n",
              "<style scoped>\n",
              "    .dataframe tbody tr th:only-of-type {\n",
              "        vertical-align: middle;\n",
              "    }\n",
              "\n",
              "    .dataframe tbody tr th {\n",
              "        vertical-align: top;\n",
              "    }\n",
              "\n",
              "    .dataframe thead th {\n",
              "        text-align: right;\n",
              "    }\n",
              "</style>\n",
              "<table border=\"1\" class=\"dataframe\">\n",
              "  <thead>\n",
              "    <tr style=\"text-align: right;\">\n",
              "      <th></th>\n",
              "      <th>Estado</th>\n",
              "      <th>Ano</th>\n",
              "      <th>População</th>\n",
              "    </tr>\n",
              "  </thead>\n",
              "  <tbody>\n",
              "    <tr>\n",
              "      <th>0</th>\n",
              "      <td>São Paulo</td>\n",
              "      <td>2000</td>\n",
              "      <td>36974378</td>\n",
              "    </tr>\n",
              "    <tr>\n",
              "      <th>1</th>\n",
              "      <td>São Paulo</td>\n",
              "      <td>2005</td>\n",
              "      <td>39201179</td>\n",
              "    </tr>\n",
              "    <tr>\n",
              "      <th>2</th>\n",
              "      <td>São Paulo</td>\n",
              "      <td>2010</td>\n",
              "      <td>41223683</td>\n",
              "    </tr>\n",
              "    <tr>\n",
              "      <th>3</th>\n",
              "      <td>Minas Gerais</td>\n",
              "      <td>2000</td>\n",
              "      <td>17891494</td>\n",
              "    </tr>\n",
              "    <tr>\n",
              "      <th>4</th>\n",
              "      <td>Minas Gerais</td>\n",
              "      <td>2010</td>\n",
              "      <td>19597330</td>\n",
              "    </tr>\n",
              "  </tbody>\n",
              "</table>\n",
              "</div>"
            ],
            "text/plain": [
              "         Estado   Ano  População\n",
              "0     São Paulo  2000   36974378\n",
              "1     São Paulo  2005   39201179\n",
              "2     São Paulo  2010   41223683\n",
              "3  Minas Gerais  2000   17891494\n",
              "4  Minas Gerais  2010   19597330"
            ]
          },
          "metadata": {
            "tags": []
          },
          "execution_count": 182
        }
      ]
    },
    {
      "cell_type": "markdown",
      "metadata": {
        "id": "hEQ6jfZPu50t"
      },
      "source": [
        "**Escolhendo colunas do jeito que eu quero:**"
      ]
    },
    {
      "cell_type": "code",
      "metadata": {
        "colab": {
          "base_uri": "https://localhost:8080/",
          "height": 0
        },
        "id": "DI2sKZSCusGJ",
        "outputId": "57b3cd00-6063-466f-8700-96921cb117eb"
      },
      "source": [
        "pd.DataFrame(data, columns=['Ano', 'Estado', 'População'])"
      ],
      "execution_count": 183,
      "outputs": [
        {
          "output_type": "execute_result",
          "data": {
            "text/html": [
              "<div>\n",
              "<style scoped>\n",
              "    .dataframe tbody tr th:only-of-type {\n",
              "        vertical-align: middle;\n",
              "    }\n",
              "\n",
              "    .dataframe tbody tr th {\n",
              "        vertical-align: top;\n",
              "    }\n",
              "\n",
              "    .dataframe thead th {\n",
              "        text-align: right;\n",
              "    }\n",
              "</style>\n",
              "<table border=\"1\" class=\"dataframe\">\n",
              "  <thead>\n",
              "    <tr style=\"text-align: right;\">\n",
              "      <th></th>\n",
              "      <th>Ano</th>\n",
              "      <th>Estado</th>\n",
              "      <th>População</th>\n",
              "    </tr>\n",
              "  </thead>\n",
              "  <tbody>\n",
              "    <tr>\n",
              "      <th>0</th>\n",
              "      <td>2000</td>\n",
              "      <td>São Paulo</td>\n",
              "      <td>36974378</td>\n",
              "    </tr>\n",
              "    <tr>\n",
              "      <th>1</th>\n",
              "      <td>2005</td>\n",
              "      <td>São Paulo</td>\n",
              "      <td>39201179</td>\n",
              "    </tr>\n",
              "    <tr>\n",
              "      <th>2</th>\n",
              "      <td>2010</td>\n",
              "      <td>São Paulo</td>\n",
              "      <td>41223683</td>\n",
              "    </tr>\n",
              "    <tr>\n",
              "      <th>3</th>\n",
              "      <td>2000</td>\n",
              "      <td>Minas Gerais</td>\n",
              "      <td>17891494</td>\n",
              "    </tr>\n",
              "    <tr>\n",
              "      <th>4</th>\n",
              "      <td>2010</td>\n",
              "      <td>Minas Gerais</td>\n",
              "      <td>19597330</td>\n",
              "    </tr>\n",
              "    <tr>\n",
              "      <th>5</th>\n",
              "      <td>2020</td>\n",
              "      <td>Minas Gerais</td>\n",
              "      <td>21292666</td>\n",
              "    </tr>\n",
              "  </tbody>\n",
              "</table>\n",
              "</div>"
            ],
            "text/plain": [
              "    Ano        Estado  População\n",
              "0  2000     São Paulo   36974378\n",
              "1  2005     São Paulo   39201179\n",
              "2  2010     São Paulo   41223683\n",
              "3  2000  Minas Gerais   17891494\n",
              "4  2010  Minas Gerais   19597330\n",
              "5  2020  Minas Gerais   21292666"
            ]
          },
          "metadata": {
            "tags": []
          },
          "execution_count": 183
        }
      ]
    },
    {
      "cell_type": "markdown",
      "metadata": {
        "id": "ldsUH6Ytvce7"
      },
      "source": [
        "Obs: Caso não tenha a coluna que eu criei, ele preenche a coluna com NaN"
      ]
    },
    {
      "cell_type": "code",
      "metadata": {
        "colab": {
          "base_uri": "https://localhost:8080/",
          "height": 0
        },
        "id": "2bVZTHl6vB6K",
        "outputId": "daefa9d3-514d-4b9f-9696-164917b1843d"
      },
      "source": [
        "pd.DataFrame(data, columns=['Ano', 'Estado', 'População', 'Renda'])"
      ],
      "execution_count": 184,
      "outputs": [
        {
          "output_type": "execute_result",
          "data": {
            "text/html": [
              "<div>\n",
              "<style scoped>\n",
              "    .dataframe tbody tr th:only-of-type {\n",
              "        vertical-align: middle;\n",
              "    }\n",
              "\n",
              "    .dataframe tbody tr th {\n",
              "        vertical-align: top;\n",
              "    }\n",
              "\n",
              "    .dataframe thead th {\n",
              "        text-align: right;\n",
              "    }\n",
              "</style>\n",
              "<table border=\"1\" class=\"dataframe\">\n",
              "  <thead>\n",
              "    <tr style=\"text-align: right;\">\n",
              "      <th></th>\n",
              "      <th>Ano</th>\n",
              "      <th>Estado</th>\n",
              "      <th>População</th>\n",
              "      <th>Renda</th>\n",
              "    </tr>\n",
              "  </thead>\n",
              "  <tbody>\n",
              "    <tr>\n",
              "      <th>0</th>\n",
              "      <td>2000</td>\n",
              "      <td>São Paulo</td>\n",
              "      <td>36974378</td>\n",
              "      <td>NaN</td>\n",
              "    </tr>\n",
              "    <tr>\n",
              "      <th>1</th>\n",
              "      <td>2005</td>\n",
              "      <td>São Paulo</td>\n",
              "      <td>39201179</td>\n",
              "      <td>NaN</td>\n",
              "    </tr>\n",
              "    <tr>\n",
              "      <th>2</th>\n",
              "      <td>2010</td>\n",
              "      <td>São Paulo</td>\n",
              "      <td>41223683</td>\n",
              "      <td>NaN</td>\n",
              "    </tr>\n",
              "    <tr>\n",
              "      <th>3</th>\n",
              "      <td>2000</td>\n",
              "      <td>Minas Gerais</td>\n",
              "      <td>17891494</td>\n",
              "      <td>NaN</td>\n",
              "    </tr>\n",
              "    <tr>\n",
              "      <th>4</th>\n",
              "      <td>2010</td>\n",
              "      <td>Minas Gerais</td>\n",
              "      <td>19597330</td>\n",
              "      <td>NaN</td>\n",
              "    </tr>\n",
              "    <tr>\n",
              "      <th>5</th>\n",
              "      <td>2020</td>\n",
              "      <td>Minas Gerais</td>\n",
              "      <td>21292666</td>\n",
              "      <td>NaN</td>\n",
              "    </tr>\n",
              "  </tbody>\n",
              "</table>\n",
              "</div>"
            ],
            "text/plain": [
              "    Ano        Estado  População Renda\n",
              "0  2000     São Paulo   36974378   NaN\n",
              "1  2005     São Paulo   39201179   NaN\n",
              "2  2010     São Paulo   41223683   NaN\n",
              "3  2000  Minas Gerais   17891494   NaN\n",
              "4  2010  Minas Gerais   19597330   NaN\n",
              "5  2020  Minas Gerais   21292666   NaN"
            ]
          },
          "metadata": {
            "tags": []
          },
          "execution_count": 184
        }
      ]
    },
    {
      "cell_type": "code",
      "metadata": {
        "colab": {
          "base_uri": "https://localhost:8080/",
          "height": 0
        },
        "id": "XMax_rc0v9xM",
        "outputId": "4e02c3d6-beaf-4efd-dc8b-cd63d742d5f2"
      },
      "source": [
        "dados[['Ano']]"
      ],
      "execution_count": 185,
      "outputs": [
        {
          "output_type": "execute_result",
          "data": {
            "text/html": [
              "<div>\n",
              "<style scoped>\n",
              "    .dataframe tbody tr th:only-of-type {\n",
              "        vertical-align: middle;\n",
              "    }\n",
              "\n",
              "    .dataframe tbody tr th {\n",
              "        vertical-align: top;\n",
              "    }\n",
              "\n",
              "    .dataframe thead th {\n",
              "        text-align: right;\n",
              "    }\n",
              "</style>\n",
              "<table border=\"1\" class=\"dataframe\">\n",
              "  <thead>\n",
              "    <tr style=\"text-align: right;\">\n",
              "      <th></th>\n",
              "      <th>Ano</th>\n",
              "    </tr>\n",
              "  </thead>\n",
              "  <tbody>\n",
              "    <tr>\n",
              "      <th>0</th>\n",
              "      <td>2000</td>\n",
              "    </tr>\n",
              "    <tr>\n",
              "      <th>1</th>\n",
              "      <td>2005</td>\n",
              "    </tr>\n",
              "    <tr>\n",
              "      <th>2</th>\n",
              "      <td>2010</td>\n",
              "    </tr>\n",
              "    <tr>\n",
              "      <th>3</th>\n",
              "      <td>2000</td>\n",
              "    </tr>\n",
              "    <tr>\n",
              "      <th>4</th>\n",
              "      <td>2010</td>\n",
              "    </tr>\n",
              "    <tr>\n",
              "      <th>5</th>\n",
              "      <td>2020</td>\n",
              "    </tr>\n",
              "  </tbody>\n",
              "</table>\n",
              "</div>"
            ],
            "text/plain": [
              "    Ano\n",
              "0  2000\n",
              "1  2005\n",
              "2  2010\n",
              "3  2000\n",
              "4  2010\n",
              "5  2020"
            ]
          },
          "metadata": {
            "tags": []
          },
          "execution_count": 185
        }
      ]
    },
    {
      "cell_type": "markdown",
      "metadata": {
        "id": "EyLKDC-lDcCK"
      },
      "source": [
        "**Criando uma nova coluna com os valores desejados:**"
      ]
    },
    {
      "cell_type": "code",
      "metadata": {
        "colab": {
          "base_uri": "https://localhost:8080/",
          "height": 0
        },
        "id": "F0vval_oAJSG",
        "outputId": "cc8a10aa-800b-46d5-dee6-408bc2e7d503"
      },
      "source": [
        "dados['Renda'] = 2000\n",
        "dados"
      ],
      "execution_count": 186,
      "outputs": [
        {
          "output_type": "execute_result",
          "data": {
            "text/html": [
              "<div>\n",
              "<style scoped>\n",
              "    .dataframe tbody tr th:only-of-type {\n",
              "        vertical-align: middle;\n",
              "    }\n",
              "\n",
              "    .dataframe tbody tr th {\n",
              "        vertical-align: top;\n",
              "    }\n",
              "\n",
              "    .dataframe thead th {\n",
              "        text-align: right;\n",
              "    }\n",
              "</style>\n",
              "<table border=\"1\" class=\"dataframe\">\n",
              "  <thead>\n",
              "    <tr style=\"text-align: right;\">\n",
              "      <th></th>\n",
              "      <th>Estado</th>\n",
              "      <th>Ano</th>\n",
              "      <th>População</th>\n",
              "      <th>Renda</th>\n",
              "    </tr>\n",
              "  </thead>\n",
              "  <tbody>\n",
              "    <tr>\n",
              "      <th>0</th>\n",
              "      <td>São Paulo</td>\n",
              "      <td>2000</td>\n",
              "      <td>36974378</td>\n",
              "      <td>2000</td>\n",
              "    </tr>\n",
              "    <tr>\n",
              "      <th>1</th>\n",
              "      <td>São Paulo</td>\n",
              "      <td>2005</td>\n",
              "      <td>39201179</td>\n",
              "      <td>2000</td>\n",
              "    </tr>\n",
              "    <tr>\n",
              "      <th>2</th>\n",
              "      <td>São Paulo</td>\n",
              "      <td>2010</td>\n",
              "      <td>41223683</td>\n",
              "      <td>2000</td>\n",
              "    </tr>\n",
              "    <tr>\n",
              "      <th>3</th>\n",
              "      <td>Minas Gerais</td>\n",
              "      <td>2000</td>\n",
              "      <td>17891494</td>\n",
              "      <td>2000</td>\n",
              "    </tr>\n",
              "    <tr>\n",
              "      <th>4</th>\n",
              "      <td>Minas Gerais</td>\n",
              "      <td>2010</td>\n",
              "      <td>19597330</td>\n",
              "      <td>2000</td>\n",
              "    </tr>\n",
              "    <tr>\n",
              "      <th>5</th>\n",
              "      <td>Minas Gerais</td>\n",
              "      <td>2020</td>\n",
              "      <td>21292666</td>\n",
              "      <td>2000</td>\n",
              "    </tr>\n",
              "  </tbody>\n",
              "</table>\n",
              "</div>"
            ],
            "text/plain": [
              "         Estado   Ano  População  Renda\n",
              "0     São Paulo  2000   36974378   2000\n",
              "1     São Paulo  2005   39201179   2000\n",
              "2     São Paulo  2010   41223683   2000\n",
              "3  Minas Gerais  2000   17891494   2000\n",
              "4  Minas Gerais  2010   19597330   2000\n",
              "5  Minas Gerais  2020   21292666   2000"
            ]
          },
          "metadata": {
            "tags": []
          },
          "execution_count": 186
        }
      ]
    },
    {
      "cell_type": "code",
      "metadata": {
        "colab": {
          "base_uri": "https://localhost:8080/",
          "height": 0
        },
        "id": "gjKMA9Y5njuI",
        "outputId": "0d677e62-42a4-49d9-ba18-1b866df6647f"
      },
      "source": [
        "valor = pd.Series([-1, 1, 2, -2], index=['Teste', 'Exemplo', 'Amostra', '14'])\n",
        "dados['Renda'] = valor\n",
        "dados"
      ],
      "execution_count": 187,
      "outputs": [
        {
          "output_type": "execute_result",
          "data": {
            "text/html": [
              "<div>\n",
              "<style scoped>\n",
              "    .dataframe tbody tr th:only-of-type {\n",
              "        vertical-align: middle;\n",
              "    }\n",
              "\n",
              "    .dataframe tbody tr th {\n",
              "        vertical-align: top;\n",
              "    }\n",
              "\n",
              "    .dataframe thead th {\n",
              "        text-align: right;\n",
              "    }\n",
              "</style>\n",
              "<table border=\"1\" class=\"dataframe\">\n",
              "  <thead>\n",
              "    <tr style=\"text-align: right;\">\n",
              "      <th></th>\n",
              "      <th>Estado</th>\n",
              "      <th>Ano</th>\n",
              "      <th>População</th>\n",
              "      <th>Renda</th>\n",
              "    </tr>\n",
              "  </thead>\n",
              "  <tbody>\n",
              "    <tr>\n",
              "      <th>0</th>\n",
              "      <td>São Paulo</td>\n",
              "      <td>2000</td>\n",
              "      <td>36974378</td>\n",
              "      <td>NaN</td>\n",
              "    </tr>\n",
              "    <tr>\n",
              "      <th>1</th>\n",
              "      <td>São Paulo</td>\n",
              "      <td>2005</td>\n",
              "      <td>39201179</td>\n",
              "      <td>NaN</td>\n",
              "    </tr>\n",
              "    <tr>\n",
              "      <th>2</th>\n",
              "      <td>São Paulo</td>\n",
              "      <td>2010</td>\n",
              "      <td>41223683</td>\n",
              "      <td>NaN</td>\n",
              "    </tr>\n",
              "    <tr>\n",
              "      <th>3</th>\n",
              "      <td>Minas Gerais</td>\n",
              "      <td>2000</td>\n",
              "      <td>17891494</td>\n",
              "      <td>NaN</td>\n",
              "    </tr>\n",
              "    <tr>\n",
              "      <th>4</th>\n",
              "      <td>Minas Gerais</td>\n",
              "      <td>2010</td>\n",
              "      <td>19597330</td>\n",
              "      <td>NaN</td>\n",
              "    </tr>\n",
              "    <tr>\n",
              "      <th>5</th>\n",
              "      <td>Minas Gerais</td>\n",
              "      <td>2020</td>\n",
              "      <td>21292666</td>\n",
              "      <td>NaN</td>\n",
              "    </tr>\n",
              "  </tbody>\n",
              "</table>\n",
              "</div>"
            ],
            "text/plain": [
              "         Estado   Ano  População  Renda\n",
              "0     São Paulo  2000   36974378    NaN\n",
              "1     São Paulo  2005   39201179    NaN\n",
              "2     São Paulo  2010   41223683    NaN\n",
              "3  Minas Gerais  2000   17891494    NaN\n",
              "4  Minas Gerais  2010   19597330    NaN\n",
              "5  Minas Gerais  2020   21292666    NaN"
            ]
          },
          "metadata": {
            "tags": []
          },
          "execution_count": 187
        }
      ]
    },
    {
      "cell_type": "markdown",
      "metadata": {
        "id": "zts2Oso2qp3u"
      },
      "source": [
        "**Criando uma coluna com uma variável booleana**"
      ]
    },
    {
      "cell_type": "code",
      "metadata": {
        "colab": {
          "base_uri": "https://localhost:8080/",
          "height": 0
        },
        "id": "1QzqVjanqUfW",
        "outputId": "13698ba1-8a0d-45b9-8b3d-45f5941fb9a6"
      },
      "source": [
        "dados['Confere'] = dados['Ano'] == 2010\n",
        "dados"
      ],
      "execution_count": 188,
      "outputs": [
        {
          "output_type": "execute_result",
          "data": {
            "text/html": [
              "<div>\n",
              "<style scoped>\n",
              "    .dataframe tbody tr th:only-of-type {\n",
              "        vertical-align: middle;\n",
              "    }\n",
              "\n",
              "    .dataframe tbody tr th {\n",
              "        vertical-align: top;\n",
              "    }\n",
              "\n",
              "    .dataframe thead th {\n",
              "        text-align: right;\n",
              "    }\n",
              "</style>\n",
              "<table border=\"1\" class=\"dataframe\">\n",
              "  <thead>\n",
              "    <tr style=\"text-align: right;\">\n",
              "      <th></th>\n",
              "      <th>Estado</th>\n",
              "      <th>Ano</th>\n",
              "      <th>População</th>\n",
              "      <th>Renda</th>\n",
              "      <th>Confere</th>\n",
              "    </tr>\n",
              "  </thead>\n",
              "  <tbody>\n",
              "    <tr>\n",
              "      <th>0</th>\n",
              "      <td>São Paulo</td>\n",
              "      <td>2000</td>\n",
              "      <td>36974378</td>\n",
              "      <td>NaN</td>\n",
              "      <td>False</td>\n",
              "    </tr>\n",
              "    <tr>\n",
              "      <th>1</th>\n",
              "      <td>São Paulo</td>\n",
              "      <td>2005</td>\n",
              "      <td>39201179</td>\n",
              "      <td>NaN</td>\n",
              "      <td>False</td>\n",
              "    </tr>\n",
              "    <tr>\n",
              "      <th>2</th>\n",
              "      <td>São Paulo</td>\n",
              "      <td>2010</td>\n",
              "      <td>41223683</td>\n",
              "      <td>NaN</td>\n",
              "      <td>True</td>\n",
              "    </tr>\n",
              "    <tr>\n",
              "      <th>3</th>\n",
              "      <td>Minas Gerais</td>\n",
              "      <td>2000</td>\n",
              "      <td>17891494</td>\n",
              "      <td>NaN</td>\n",
              "      <td>False</td>\n",
              "    </tr>\n",
              "    <tr>\n",
              "      <th>4</th>\n",
              "      <td>Minas Gerais</td>\n",
              "      <td>2010</td>\n",
              "      <td>19597330</td>\n",
              "      <td>NaN</td>\n",
              "      <td>True</td>\n",
              "    </tr>\n",
              "    <tr>\n",
              "      <th>5</th>\n",
              "      <td>Minas Gerais</td>\n",
              "      <td>2020</td>\n",
              "      <td>21292666</td>\n",
              "      <td>NaN</td>\n",
              "      <td>False</td>\n",
              "    </tr>\n",
              "  </tbody>\n",
              "</table>\n",
              "</div>"
            ],
            "text/plain": [
              "         Estado   Ano  População  Renda  Confere\n",
              "0     São Paulo  2000   36974378    NaN    False\n",
              "1     São Paulo  2005   39201179    NaN    False\n",
              "2     São Paulo  2010   41223683    NaN     True\n",
              "3  Minas Gerais  2000   17891494    NaN    False\n",
              "4  Minas Gerais  2010   19597330    NaN     True\n",
              "5  Minas Gerais  2020   21292666    NaN    False"
            ]
          },
          "metadata": {
            "tags": []
          },
          "execution_count": 188
        }
      ]
    },
    {
      "cell_type": "markdown",
      "metadata": {
        "id": "9VvM0_N3rHkD"
      },
      "source": [
        "**Deletando colunas:**"
      ]
    },
    {
      "cell_type": "code",
      "metadata": {
        "colab": {
          "base_uri": "https://localhost:8080/",
          "height": 0
        },
        "id": "559iwcGSq_Ub",
        "outputId": "42cc5ad1-9f08-43ea-93cb-8a3b7a855ee3"
      },
      "source": [
        "del dados['Confere']\n",
        "dados"
      ],
      "execution_count": 189,
      "outputs": [
        {
          "output_type": "execute_result",
          "data": {
            "text/html": [
              "<div>\n",
              "<style scoped>\n",
              "    .dataframe tbody tr th:only-of-type {\n",
              "        vertical-align: middle;\n",
              "    }\n",
              "\n",
              "    .dataframe tbody tr th {\n",
              "        vertical-align: top;\n",
              "    }\n",
              "\n",
              "    .dataframe thead th {\n",
              "        text-align: right;\n",
              "    }\n",
              "</style>\n",
              "<table border=\"1\" class=\"dataframe\">\n",
              "  <thead>\n",
              "    <tr style=\"text-align: right;\">\n",
              "      <th></th>\n",
              "      <th>Estado</th>\n",
              "      <th>Ano</th>\n",
              "      <th>População</th>\n",
              "      <th>Renda</th>\n",
              "    </tr>\n",
              "  </thead>\n",
              "  <tbody>\n",
              "    <tr>\n",
              "      <th>0</th>\n",
              "      <td>São Paulo</td>\n",
              "      <td>2000</td>\n",
              "      <td>36974378</td>\n",
              "      <td>NaN</td>\n",
              "    </tr>\n",
              "    <tr>\n",
              "      <th>1</th>\n",
              "      <td>São Paulo</td>\n",
              "      <td>2005</td>\n",
              "      <td>39201179</td>\n",
              "      <td>NaN</td>\n",
              "    </tr>\n",
              "    <tr>\n",
              "      <th>2</th>\n",
              "      <td>São Paulo</td>\n",
              "      <td>2010</td>\n",
              "      <td>41223683</td>\n",
              "      <td>NaN</td>\n",
              "    </tr>\n",
              "    <tr>\n",
              "      <th>3</th>\n",
              "      <td>Minas Gerais</td>\n",
              "      <td>2000</td>\n",
              "      <td>17891494</td>\n",
              "      <td>NaN</td>\n",
              "    </tr>\n",
              "    <tr>\n",
              "      <th>4</th>\n",
              "      <td>Minas Gerais</td>\n",
              "      <td>2010</td>\n",
              "      <td>19597330</td>\n",
              "      <td>NaN</td>\n",
              "    </tr>\n",
              "    <tr>\n",
              "      <th>5</th>\n",
              "      <td>Minas Gerais</td>\n",
              "      <td>2020</td>\n",
              "      <td>21292666</td>\n",
              "      <td>NaN</td>\n",
              "    </tr>\n",
              "  </tbody>\n",
              "</table>\n",
              "</div>"
            ],
            "text/plain": [
              "         Estado   Ano  População  Renda\n",
              "0     São Paulo  2000   36974378    NaN\n",
              "1     São Paulo  2005   39201179    NaN\n",
              "2     São Paulo  2010   41223683    NaN\n",
              "3  Minas Gerais  2000   17891494    NaN\n",
              "4  Minas Gerais  2010   19597330    NaN\n",
              "5  Minas Gerais  2020   21292666    NaN"
            ]
          },
          "metadata": {
            "tags": []
          },
          "execution_count": 189
        }
      ]
    },
    {
      "cell_type": "markdown",
      "metadata": {
        "id": "-A6R7elRrlv5"
      },
      "source": [
        "**Criando DataFrames a partir de dicionários:**"
      ]
    },
    {
      "cell_type": "code",
      "metadata": {
        "id": "kHoJ3iparhoZ"
      },
      "source": [
        "pop = {'Nevada': {2001: 2.4, 2002: 2.9},\n",
        "      'Ohio': {2000: 1.5, 2001: 1.7, 2002: 3.6}}"
      ],
      "execution_count": 190,
      "outputs": []
    },
    {
      "cell_type": "code",
      "metadata": {
        "colab": {
          "base_uri": "https://localhost:8080/",
          "height": 0
        },
        "id": "x_MAMs2rrsqz",
        "outputId": "a727438b-3f69-4396-cde8-1819e93acb5c"
      },
      "source": [
        "dados_new = pd.DataFrame(pop)\n",
        "dados_new"
      ],
      "execution_count": 191,
      "outputs": [
        {
          "output_type": "execute_result",
          "data": {
            "text/html": [
              "<div>\n",
              "<style scoped>\n",
              "    .dataframe tbody tr th:only-of-type {\n",
              "        vertical-align: middle;\n",
              "    }\n",
              "\n",
              "    .dataframe tbody tr th {\n",
              "        vertical-align: top;\n",
              "    }\n",
              "\n",
              "    .dataframe thead th {\n",
              "        text-align: right;\n",
              "    }\n",
              "</style>\n",
              "<table border=\"1\" class=\"dataframe\">\n",
              "  <thead>\n",
              "    <tr style=\"text-align: right;\">\n",
              "      <th></th>\n",
              "      <th>Nevada</th>\n",
              "      <th>Ohio</th>\n",
              "    </tr>\n",
              "  </thead>\n",
              "  <tbody>\n",
              "    <tr>\n",
              "      <th>2001</th>\n",
              "      <td>2.4</td>\n",
              "      <td>1.7</td>\n",
              "    </tr>\n",
              "    <tr>\n",
              "      <th>2002</th>\n",
              "      <td>2.9</td>\n",
              "      <td>3.6</td>\n",
              "    </tr>\n",
              "    <tr>\n",
              "      <th>2000</th>\n",
              "      <td>NaN</td>\n",
              "      <td>1.5</td>\n",
              "    </tr>\n",
              "  </tbody>\n",
              "</table>\n",
              "</div>"
            ],
            "text/plain": [
              "      Nevada  Ohio\n",
              "2001     2.4   1.7\n",
              "2002     2.9   3.6\n",
              "2000     NaN   1.5"
            ]
          },
          "metadata": {
            "tags": []
          },
          "execution_count": 191
        }
      ]
    },
    {
      "cell_type": "code",
      "metadata": {
        "colab": {
          "base_uri": "https://localhost:8080/",
          "height": 0
        },
        "id": "wKx_gW2Vsrnq",
        "outputId": "28b76146-7adb-49ad-a488-e4854e653d98"
      },
      "source": [
        "dados_new.T #faz a transposição do DataFrame assim como no array NumPy"
      ],
      "execution_count": 192,
      "outputs": [
        {
          "output_type": "execute_result",
          "data": {
            "text/html": [
              "<div>\n",
              "<style scoped>\n",
              "    .dataframe tbody tr th:only-of-type {\n",
              "        vertical-align: middle;\n",
              "    }\n",
              "\n",
              "    .dataframe tbody tr th {\n",
              "        vertical-align: top;\n",
              "    }\n",
              "\n",
              "    .dataframe thead th {\n",
              "        text-align: right;\n",
              "    }\n",
              "</style>\n",
              "<table border=\"1\" class=\"dataframe\">\n",
              "  <thead>\n",
              "    <tr style=\"text-align: right;\">\n",
              "      <th></th>\n",
              "      <th>2001</th>\n",
              "      <th>2002</th>\n",
              "      <th>2000</th>\n",
              "    </tr>\n",
              "  </thead>\n",
              "  <tbody>\n",
              "    <tr>\n",
              "      <th>Nevada</th>\n",
              "      <td>2.4</td>\n",
              "      <td>2.9</td>\n",
              "      <td>NaN</td>\n",
              "    </tr>\n",
              "    <tr>\n",
              "      <th>Ohio</th>\n",
              "      <td>1.7</td>\n",
              "      <td>3.6</td>\n",
              "      <td>1.5</td>\n",
              "    </tr>\n",
              "  </tbody>\n",
              "</table>\n",
              "</div>"
            ],
            "text/plain": [
              "        2001  2002  2000\n",
              "Nevada   2.4   2.9   NaN\n",
              "Ohio     1.7   3.6   1.5"
            ]
          },
          "metadata": {
            "tags": []
          },
          "execution_count": 192
        }
      ]
    },
    {
      "cell_type": "markdown",
      "metadata": {
        "id": "xmFUdoqnuHWE"
      },
      "source": [
        "**Renomeando colunas e indices:**"
      ]
    },
    {
      "cell_type": "code",
      "metadata": {
        "colab": {
          "base_uri": "https://localhost:8080/",
          "height": 0
        },
        "id": "aLOuAbiity38",
        "outputId": "06c94058-31ad-401a-e1cc-fe11673803c0"
      },
      "source": [
        "dados_new.columns.name = 'Anos:'; dados_new.index.name = 'Estados'\n",
        "dados_new"
      ],
      "execution_count": 193,
      "outputs": [
        {
          "output_type": "execute_result",
          "data": {
            "text/html": [
              "<div>\n",
              "<style scoped>\n",
              "    .dataframe tbody tr th:only-of-type {\n",
              "        vertical-align: middle;\n",
              "    }\n",
              "\n",
              "    .dataframe tbody tr th {\n",
              "        vertical-align: top;\n",
              "    }\n",
              "\n",
              "    .dataframe thead th {\n",
              "        text-align: right;\n",
              "    }\n",
              "</style>\n",
              "<table border=\"1\" class=\"dataframe\">\n",
              "  <thead>\n",
              "    <tr style=\"text-align: right;\">\n",
              "      <th>Anos:</th>\n",
              "      <th>Nevada</th>\n",
              "      <th>Ohio</th>\n",
              "    </tr>\n",
              "    <tr>\n",
              "      <th>Estados</th>\n",
              "      <th></th>\n",
              "      <th></th>\n",
              "    </tr>\n",
              "  </thead>\n",
              "  <tbody>\n",
              "    <tr>\n",
              "      <th>2001</th>\n",
              "      <td>2.4</td>\n",
              "      <td>1.7</td>\n",
              "    </tr>\n",
              "    <tr>\n",
              "      <th>2002</th>\n",
              "      <td>2.9</td>\n",
              "      <td>3.6</td>\n",
              "    </tr>\n",
              "    <tr>\n",
              "      <th>2000</th>\n",
              "      <td>NaN</td>\n",
              "      <td>1.5</td>\n",
              "    </tr>\n",
              "  </tbody>\n",
              "</table>\n",
              "</div>"
            ],
            "text/plain": [
              "Anos:    Nevada  Ohio\n",
              "Estados              \n",
              "2001        2.4   1.7\n",
              "2002        2.9   3.6\n",
              "2000        NaN   1.5"
            ]
          },
          "metadata": {
            "tags": []
          },
          "execution_count": 193
        }
      ]
    },
    {
      "cell_type": "code",
      "metadata": {
        "colab": {
          "base_uri": "https://localhost:8080/"
        },
        "id": "mnKD1SJ7ucR2",
        "outputId": "064833a9-425f-433e-b977-37f76b282e76"
      },
      "source": [
        "dados_new.index.is_unique    #Retorna true se o índice não tiver itens repetidos"
      ],
      "execution_count": 194,
      "outputs": [
        {
          "output_type": "execute_result",
          "data": {
            "text/plain": [
              "True"
            ]
          },
          "metadata": {
            "tags": []
          },
          "execution_count": 194
        }
      ]
    },
    {
      "cell_type": "markdown",
      "metadata": {
        "id": "_dEAISemzvbG"
      },
      "source": [
        "### **Reorganizando novos índices e colunas do jeito que eu quero:**"
      ]
    },
    {
      "cell_type": "code",
      "metadata": {
        "colab": {
          "base_uri": "https://localhost:8080/"
        },
        "id": "_E9CdeTexWOC",
        "outputId": "167ecde3-f7ae-49c9-9a5a-c3e95dbf73b8"
      },
      "source": [
        "obj = pd.Series(np.arange(1, 6), index=['Terceiro', 'Primeiro', 'Segundo', 'Quinto', 'Quarto'])\n",
        "obj"
      ],
      "execution_count": 195,
      "outputs": [
        {
          "output_type": "execute_result",
          "data": {
            "text/plain": [
              "Terceiro    1\n",
              "Primeiro    2\n",
              "Segundo     3\n",
              "Quinto      4\n",
              "Quarto      5\n",
              "dtype: int64"
            ]
          },
          "metadata": {
            "tags": []
          },
          "execution_count": 195
        }
      ]
    },
    {
      "cell_type": "markdown",
      "metadata": {
        "id": "Ir-iTW2RqlYn"
      },
      "source": [
        "Obs: Caso um novo índice não exista nos elementos que escolhi, ele cria uma nova coluna com NaN"
      ]
    },
    {
      "cell_type": "code",
      "metadata": {
        "colab": {
          "base_uri": "https://localhost:8080/",
          "height": 0
        },
        "id": "gY6Gj8rR0V8q",
        "outputId": "c00db41e-3152-4570-8d1b-50c21fba6dca"
      },
      "source": [
        "obj2 = obj.reindex(['Primeiro', 'Segundo', 'Terceiro', 'Quarto', 'Quinto', '6º'])\n",
        "pd.DataFrame(obj2)"
      ],
      "execution_count": 196,
      "outputs": [
        {
          "output_type": "execute_result",
          "data": {
            "text/html": [
              "<div>\n",
              "<style scoped>\n",
              "    .dataframe tbody tr th:only-of-type {\n",
              "        vertical-align: middle;\n",
              "    }\n",
              "\n",
              "    .dataframe tbody tr th {\n",
              "        vertical-align: top;\n",
              "    }\n",
              "\n",
              "    .dataframe thead th {\n",
              "        text-align: right;\n",
              "    }\n",
              "</style>\n",
              "<table border=\"1\" class=\"dataframe\">\n",
              "  <thead>\n",
              "    <tr style=\"text-align: right;\">\n",
              "      <th></th>\n",
              "      <th>0</th>\n",
              "    </tr>\n",
              "  </thead>\n",
              "  <tbody>\n",
              "    <tr>\n",
              "      <th>Primeiro</th>\n",
              "      <td>2.0</td>\n",
              "    </tr>\n",
              "    <tr>\n",
              "      <th>Segundo</th>\n",
              "      <td>3.0</td>\n",
              "    </tr>\n",
              "    <tr>\n",
              "      <th>Terceiro</th>\n",
              "      <td>1.0</td>\n",
              "    </tr>\n",
              "    <tr>\n",
              "      <th>Quarto</th>\n",
              "      <td>5.0</td>\n",
              "    </tr>\n",
              "    <tr>\n",
              "      <th>Quinto</th>\n",
              "      <td>4.0</td>\n",
              "    </tr>\n",
              "    <tr>\n",
              "      <th>6º</th>\n",
              "      <td>NaN</td>\n",
              "    </tr>\n",
              "  </tbody>\n",
              "</table>\n",
              "</div>"
            ],
            "text/plain": [
              "            0\n",
              "Primeiro  2.0\n",
              "Segundo   3.0\n",
              "Terceiro  1.0\n",
              "Quarto    5.0\n",
              "Quinto    4.0\n",
              "6º        NaN"
            ]
          },
          "metadata": {
            "tags": []
          },
          "execution_count": 196
        }
      ]
    },
    {
      "cell_type": "code",
      "metadata": {
        "colab": {
          "base_uri": "https://localhost:8080/"
        },
        "id": "b4e5LExhsXgh",
        "outputId": "e7360d8a-2f3f-4790-8310-ecf8fd3063be"
      },
      "source": [
        "obj3 = pd.Series(['blue', 'purple', 'yellow'], index=[0, 2, 4])\n",
        "obj3"
      ],
      "execution_count": 197,
      "outputs": [
        {
          "output_type": "execute_result",
          "data": {
            "text/plain": [
              "0      blue\n",
              "2    purple\n",
              "4    yellow\n",
              "dtype: object"
            ]
          },
          "metadata": {
            "tags": []
          },
          "execution_count": 197
        }
      ]
    },
    {
      "cell_type": "code",
      "metadata": {
        "colab": {
          "base_uri": "https://localhost:8080/"
        },
        "id": "BCkOI4WescyA",
        "outputId": "a7ea133f-81b3-4bfe-cf81-8ec4d0a89143"
      },
      "source": [
        "obj3.reindex(range(6))"
      ],
      "execution_count": 198,
      "outputs": [
        {
          "output_type": "execute_result",
          "data": {
            "text/plain": [
              "0      blue\n",
              "1       NaN\n",
              "2    purple\n",
              "3       NaN\n",
              "4    yellow\n",
              "5       NaN\n",
              "dtype: object"
            ]
          },
          "metadata": {
            "tags": []
          },
          "execution_count": 198
        }
      ]
    },
    {
      "cell_type": "code",
      "metadata": {
        "colab": {
          "base_uri": "https://localhost:8080/"
        },
        "id": "BSxSg-setAyE",
        "outputId": "948ee66f-c8bc-4d76-9fb5-380740ec249e"
      },
      "source": [
        "obj3.reindex(range(6), method='ffill')      #ffill Preenche o NaN com o valor encontrado no índice anterior (o índice anterior preenche pra frente o próximo NaN, por isso ffill(forward fill), bfill é o contrário)"
      ],
      "execution_count": 199,
      "outputs": [
        {
          "output_type": "execute_result",
          "data": {
            "text/plain": [
              "0      blue\n",
              "1      blue\n",
              "2    purple\n",
              "3    purple\n",
              "4    yellow\n",
              "5    yellow\n",
              "dtype: object"
            ]
          },
          "metadata": {
            "tags": []
          },
          "execution_count": 199
        }
      ]
    },
    {
      "cell_type": "code",
      "metadata": {
        "colab": {
          "base_uri": "https://localhost:8080/"
        },
        "id": "NxHDuOKGuGmH",
        "outputId": "fa0de364-918a-4ee3-8ed6-07e8d16c7fa5"
      },
      "source": [
        "obj3.reindex(range(6), method='bfill') #bfill Preenche o NaN com o valor encontrado no índice posterior (o indice após o NaN passa a preencher o valor de de NaN)"
      ],
      "execution_count": 200,
      "outputs": [
        {
          "output_type": "execute_result",
          "data": {
            "text/plain": [
              "0      blue\n",
              "1    purple\n",
              "2    purple\n",
              "3    yellow\n",
              "4    yellow\n",
              "5       NaN\n",
              "dtype: object"
            ]
          },
          "metadata": {
            "tags": []
          },
          "execution_count": 200
        }
      ]
    },
    {
      "cell_type": "code",
      "metadata": {
        "colab": {
          "base_uri": "https://localhost:8080/",
          "height": 0
        },
        "id": "BEaSILrkvD9A",
        "outputId": "bdabbad2-b2ea-4641-c823-5fdb190dace7"
      },
      "source": [
        "obj4 = pd.DataFrame(np.arange(1, 10).reshape(3, 3), index=['A', 'C', 'D'], columns=['Utah', 'Las Vegas', 'California'])\n",
        "obj4"
      ],
      "execution_count": 201,
      "outputs": [
        {
          "output_type": "execute_result",
          "data": {
            "text/html": [
              "<div>\n",
              "<style scoped>\n",
              "    .dataframe tbody tr th:only-of-type {\n",
              "        vertical-align: middle;\n",
              "    }\n",
              "\n",
              "    .dataframe tbody tr th {\n",
              "        vertical-align: top;\n",
              "    }\n",
              "\n",
              "    .dataframe thead th {\n",
              "        text-align: right;\n",
              "    }\n",
              "</style>\n",
              "<table border=\"1\" class=\"dataframe\">\n",
              "  <thead>\n",
              "    <tr style=\"text-align: right;\">\n",
              "      <th></th>\n",
              "      <th>Utah</th>\n",
              "      <th>Las Vegas</th>\n",
              "      <th>California</th>\n",
              "    </tr>\n",
              "  </thead>\n",
              "  <tbody>\n",
              "    <tr>\n",
              "      <th>A</th>\n",
              "      <td>1</td>\n",
              "      <td>2</td>\n",
              "      <td>3</td>\n",
              "    </tr>\n",
              "    <tr>\n",
              "      <th>C</th>\n",
              "      <td>4</td>\n",
              "      <td>5</td>\n",
              "      <td>6</td>\n",
              "    </tr>\n",
              "    <tr>\n",
              "      <th>D</th>\n",
              "      <td>7</td>\n",
              "      <td>8</td>\n",
              "      <td>9</td>\n",
              "    </tr>\n",
              "  </tbody>\n",
              "</table>\n",
              "</div>"
            ],
            "text/plain": [
              "   Utah  Las Vegas  California\n",
              "A     1          2           3\n",
              "C     4          5           6\n",
              "D     7          8           9"
            ]
          },
          "metadata": {
            "tags": []
          },
          "execution_count": 201
        }
      ]
    },
    {
      "cell_type": "code",
      "metadata": {
        "colab": {
          "base_uri": "https://localhost:8080/",
          "height": 0
        },
        "id": "WvWfs-Sfwdx_",
        "outputId": "14d4354d-ed84-497b-eb17-3f5c5f1ea43a"
      },
      "source": [
        "obj4.reindex(['A', 'B', 'C', 'D'], columns=['California', 'Las Vegas', 'Texas'])"
      ],
      "execution_count": 202,
      "outputs": [
        {
          "output_type": "execute_result",
          "data": {
            "text/html": [
              "<div>\n",
              "<style scoped>\n",
              "    .dataframe tbody tr th:only-of-type {\n",
              "        vertical-align: middle;\n",
              "    }\n",
              "\n",
              "    .dataframe tbody tr th {\n",
              "        vertical-align: top;\n",
              "    }\n",
              "\n",
              "    .dataframe thead th {\n",
              "        text-align: right;\n",
              "    }\n",
              "</style>\n",
              "<table border=\"1\" class=\"dataframe\">\n",
              "  <thead>\n",
              "    <tr style=\"text-align: right;\">\n",
              "      <th></th>\n",
              "      <th>California</th>\n",
              "      <th>Las Vegas</th>\n",
              "      <th>Texas</th>\n",
              "    </tr>\n",
              "  </thead>\n",
              "  <tbody>\n",
              "    <tr>\n",
              "      <th>A</th>\n",
              "      <td>3.0</td>\n",
              "      <td>2.0</td>\n",
              "      <td>NaN</td>\n",
              "    </tr>\n",
              "    <tr>\n",
              "      <th>B</th>\n",
              "      <td>NaN</td>\n",
              "      <td>NaN</td>\n",
              "      <td>NaN</td>\n",
              "    </tr>\n",
              "    <tr>\n",
              "      <th>C</th>\n",
              "      <td>6.0</td>\n",
              "      <td>5.0</td>\n",
              "      <td>NaN</td>\n",
              "    </tr>\n",
              "    <tr>\n",
              "      <th>D</th>\n",
              "      <td>9.0</td>\n",
              "      <td>8.0</td>\n",
              "      <td>NaN</td>\n",
              "    </tr>\n",
              "  </tbody>\n",
              "</table>\n",
              "</div>"
            ],
            "text/plain": [
              "   California  Las Vegas  Texas\n",
              "A         3.0        2.0    NaN\n",
              "B         NaN        NaN    NaN\n",
              "C         6.0        5.0    NaN\n",
              "D         9.0        8.0    NaN"
            ]
          },
          "metadata": {
            "tags": []
          },
          "execution_count": 202
        }
      ]
    },
    {
      "cell_type": "code",
      "metadata": {
        "id": "CRsYcXLMWb_z"
      },
      "source": [
        "obj5 = pd.Series(np.arange(5), index=['Primeiro', 'Segundo', 'Terceiro', 'Quarto', 'Quinto'])\n",
        "\n",
        "new_obj = obj5.drop('Terceiro')  #drop deleta conforme o índice, e devolve a Series, embora modificação não seja inplace"
      ],
      "execution_count": 203,
      "outputs": []
    },
    {
      "cell_type": "markdown",
      "metadata": {
        "id": "oCaVx09McU74"
      },
      "source": [
        "### **Descartando entradas de um eixo:**"
      ]
    },
    {
      "cell_type": "code",
      "metadata": {
        "colab": {
          "base_uri": "https://localhost:8080/"
        },
        "id": "u1UJvUxUX0hw",
        "outputId": "dd542598-1e16-477d-fca1-aefa462127cf"
      },
      "source": [
        "obj5.drop(['Terceiro', 'Quarto']) "
      ],
      "execution_count": 204,
      "outputs": [
        {
          "output_type": "execute_result",
          "data": {
            "text/plain": [
              "Primeiro    0\n",
              "Segundo     1\n",
              "Quinto      4\n",
              "dtype: int64"
            ]
          },
          "metadata": {
            "tags": []
          },
          "execution_count": 204
        }
      ]
    },
    {
      "cell_type": "code",
      "metadata": {
        "id": "wX8l-mz4ZnJn"
      },
      "source": [
        "dadinhos = pd.DataFrame(np.arange(16).reshape((4, 4)),\n",
        "                    index=['AM', 'PR', 'SP', 'RS'],\n",
        "                    columns=['UM', 'DOIS', 'TRES', 'QUATRO'])"
      ],
      "execution_count": 205,
      "outputs": []
    },
    {
      "cell_type": "code",
      "metadata": {
        "colab": {
          "base_uri": "https://localhost:8080/",
          "height": 0
        },
        "id": "sv8rR4sFYSHh",
        "outputId": "d03ff324-cb6e-42b6-bd9a-3e30c954cbc4"
      },
      "source": [
        "dadinhos.drop(['AM', 'RS'])"
      ],
      "execution_count": 206,
      "outputs": [
        {
          "output_type": "execute_result",
          "data": {
            "text/html": [
              "<div>\n",
              "<style scoped>\n",
              "    .dataframe tbody tr th:only-of-type {\n",
              "        vertical-align: middle;\n",
              "    }\n",
              "\n",
              "    .dataframe tbody tr th {\n",
              "        vertical-align: top;\n",
              "    }\n",
              "\n",
              "    .dataframe thead th {\n",
              "        text-align: right;\n",
              "    }\n",
              "</style>\n",
              "<table border=\"1\" class=\"dataframe\">\n",
              "  <thead>\n",
              "    <tr style=\"text-align: right;\">\n",
              "      <th></th>\n",
              "      <th>UM</th>\n",
              "      <th>DOIS</th>\n",
              "      <th>TRES</th>\n",
              "      <th>QUATRO</th>\n",
              "    </tr>\n",
              "  </thead>\n",
              "  <tbody>\n",
              "    <tr>\n",
              "      <th>PR</th>\n",
              "      <td>4</td>\n",
              "      <td>5</td>\n",
              "      <td>6</td>\n",
              "      <td>7</td>\n",
              "    </tr>\n",
              "    <tr>\n",
              "      <th>SP</th>\n",
              "      <td>8</td>\n",
              "      <td>9</td>\n",
              "      <td>10</td>\n",
              "      <td>11</td>\n",
              "    </tr>\n",
              "  </tbody>\n",
              "</table>\n",
              "</div>"
            ],
            "text/plain": [
              "    UM  DOIS  TRES  QUATRO\n",
              "PR   4     5     6       7\n",
              "SP   8     9    10      11"
            ]
          },
          "metadata": {
            "tags": []
          },
          "execution_count": 206
        }
      ]
    },
    {
      "cell_type": "markdown",
      "metadata": {
        "id": "vtW5rcvMaqDn"
      },
      "source": [
        "**Apagando pelas colunas:**"
      ]
    },
    {
      "cell_type": "code",
      "metadata": {
        "colab": {
          "base_uri": "https://localhost:8080/",
          "height": 0
        },
        "id": "ZFzgEz7vaoPx",
        "outputId": "f78ddb00-6579-4bdc-a25c-885fbb2aa375"
      },
      "source": [
        "dadinhos.drop(['UM', 'QUATRO'], axis=1)"
      ],
      "execution_count": 207,
      "outputs": [
        {
          "output_type": "execute_result",
          "data": {
            "text/html": [
              "<div>\n",
              "<style scoped>\n",
              "    .dataframe tbody tr th:only-of-type {\n",
              "        vertical-align: middle;\n",
              "    }\n",
              "\n",
              "    .dataframe tbody tr th {\n",
              "        vertical-align: top;\n",
              "    }\n",
              "\n",
              "    .dataframe thead th {\n",
              "        text-align: right;\n",
              "    }\n",
              "</style>\n",
              "<table border=\"1\" class=\"dataframe\">\n",
              "  <thead>\n",
              "    <tr style=\"text-align: right;\">\n",
              "      <th></th>\n",
              "      <th>DOIS</th>\n",
              "      <th>TRES</th>\n",
              "    </tr>\n",
              "  </thead>\n",
              "  <tbody>\n",
              "    <tr>\n",
              "      <th>AM</th>\n",
              "      <td>1</td>\n",
              "      <td>2</td>\n",
              "    </tr>\n",
              "    <tr>\n",
              "      <th>PR</th>\n",
              "      <td>5</td>\n",
              "      <td>6</td>\n",
              "    </tr>\n",
              "    <tr>\n",
              "      <th>SP</th>\n",
              "      <td>9</td>\n",
              "      <td>10</td>\n",
              "    </tr>\n",
              "    <tr>\n",
              "      <th>RS</th>\n",
              "      <td>13</td>\n",
              "      <td>14</td>\n",
              "    </tr>\n",
              "  </tbody>\n",
              "</table>\n",
              "</div>"
            ],
            "text/plain": [
              "    DOIS  TRES\n",
              "AM     1     2\n",
              "PR     5     6\n",
              "SP     9    10\n",
              "RS    13    14"
            ]
          },
          "metadata": {
            "tags": []
          },
          "execution_count": 207
        }
      ]
    },
    {
      "cell_type": "markdown",
      "metadata": {
        "id": "boWIlk9Ob3oE"
      },
      "source": [
        "Obs: Se quisesse fazer mudança inplace, teria que colocar inplace= True nos parâmetros"
      ]
    },
    {
      "cell_type": "markdown",
      "metadata": {
        "id": "84V4_5a0cuaK"
      },
      "source": [
        "### **Slices em series:**"
      ]
    },
    {
      "cell_type": "markdown",
      "metadata": {
        "id": "Ns6Ruesrd5DT"
      },
      "source": [
        "Funciona parecido com os arrays NumPy, com diferença que você pode fazer o slice pelo nome do índice da Series, não somente o modo convencional de numeros"
      ]
    },
    {
      "cell_type": "code",
      "metadata": {
        "colab": {
          "base_uri": "https://localhost:8080/"
        },
        "id": "C_DjXhckd3-G",
        "outputId": "8bc15eb9-3b71-4d37-d350-ad221bfe3928"
      },
      "source": [
        "letras = pd.Series(np.arange(10), index=['a', 'b', 'c', 'd', 'e', 'f', 'g', 'h', 'i', 'j'])\n",
        "letras[1:4]"
      ],
      "execution_count": 208,
      "outputs": [
        {
          "output_type": "execute_result",
          "data": {
            "text/plain": [
              "b    1\n",
              "c    2\n",
              "d    3\n",
              "dtype: int64"
            ]
          },
          "metadata": {
            "tags": []
          },
          "execution_count": 208
        }
      ]
    },
    {
      "cell_type": "code",
      "metadata": {
        "colab": {
          "base_uri": "https://localhost:8080/"
        },
        "id": "K6lI8yYFggMq",
        "outputId": "caa8327f-aebd-4769-fbaf-4a7c5b7258cd"
      },
      "source": [
        "letras['b':'d']"
      ],
      "execution_count": 209,
      "outputs": [
        {
          "output_type": "execute_result",
          "data": {
            "text/plain": [
              "b    1\n",
              "c    2\n",
              "d    3\n",
              "dtype: int64"
            ]
          },
          "metadata": {
            "tags": []
          },
          "execution_count": 209
        }
      ]
    },
    {
      "cell_type": "code",
      "metadata": {
        "colab": {
          "base_uri": "https://localhost:8080/"
        },
        "id": "SOjIi2p0gCoB",
        "outputId": "ac25611b-8438-4101-f4f8-93e4803bedbf"
      },
      "source": [
        "letras[['b', 'c','d']]"
      ],
      "execution_count": 210,
      "outputs": [
        {
          "output_type": "execute_result",
          "data": {
            "text/plain": [
              "b    1\n",
              "c    2\n",
              "d    3\n",
              "dtype: int64"
            ]
          },
          "metadata": {
            "tags": []
          },
          "execution_count": 210
        }
      ]
    },
    {
      "cell_type": "code",
      "metadata": {
        "colab": {
          "base_uri": "https://localhost:8080/"
        },
        "id": "v5hwrAFsgaQg",
        "outputId": "921ff2aa-fe43-41d3-9a86-ff11a059df16"
      },
      "source": [
        "letras[letras>5]"
      ],
      "execution_count": 211,
      "outputs": [
        {
          "output_type": "execute_result",
          "data": {
            "text/plain": [
              "g    6\n",
              "h    7\n",
              "i    8\n",
              "j    9\n",
              "dtype: int64"
            ]
          },
          "metadata": {
            "tags": []
          },
          "execution_count": 211
        }
      ]
    },
    {
      "cell_type": "code",
      "metadata": {
        "colab": {
          "base_uri": "https://localhost:8080/"
        },
        "id": "w-BxscMoi3z4",
        "outputId": "436eb7f9-31b0-4bef-fff0-30064bf13537"
      },
      "source": [
        "letras[['j', 'a']] = 20\n",
        "letras"
      ],
      "execution_count": 212,
      "outputs": [
        {
          "output_type": "execute_result",
          "data": {
            "text/plain": [
              "a    20\n",
              "b     1\n",
              "c     2\n",
              "d     3\n",
              "e     4\n",
              "f     5\n",
              "g     6\n",
              "h     7\n",
              "i     8\n",
              "j    20\n",
              "dtype: int64"
            ]
          },
          "metadata": {
            "tags": []
          },
          "execution_count": 212
        }
      ]
    },
    {
      "cell_type": "code",
      "metadata": {
        "colab": {
          "base_uri": "https://localhost:8080/",
          "height": 0
        },
        "id": "Q0ddJCKPjmFv",
        "outputId": "53cfa2f8-2c46-462f-853c-38f861b0c0f6"
      },
      "source": [
        "nomes = pd.DataFrame(np.arange(16).reshape((4, 4)), \n",
        "                     index= ['Maria', 'Carla', 'Joao', 'Matheus'],\n",
        "                     columns= ['UM', 'DOIS', 'TRES', 'QUATRO'])\n",
        "nomes"
      ],
      "execution_count": 213,
      "outputs": [
        {
          "output_type": "execute_result",
          "data": {
            "text/html": [
              "<div>\n",
              "<style scoped>\n",
              "    .dataframe tbody tr th:only-of-type {\n",
              "        vertical-align: middle;\n",
              "    }\n",
              "\n",
              "    .dataframe tbody tr th {\n",
              "        vertical-align: top;\n",
              "    }\n",
              "\n",
              "    .dataframe thead th {\n",
              "        text-align: right;\n",
              "    }\n",
              "</style>\n",
              "<table border=\"1\" class=\"dataframe\">\n",
              "  <thead>\n",
              "    <tr style=\"text-align: right;\">\n",
              "      <th></th>\n",
              "      <th>UM</th>\n",
              "      <th>DOIS</th>\n",
              "      <th>TRES</th>\n",
              "      <th>QUATRO</th>\n",
              "    </tr>\n",
              "  </thead>\n",
              "  <tbody>\n",
              "    <tr>\n",
              "      <th>Maria</th>\n",
              "      <td>0</td>\n",
              "      <td>1</td>\n",
              "      <td>2</td>\n",
              "      <td>3</td>\n",
              "    </tr>\n",
              "    <tr>\n",
              "      <th>Carla</th>\n",
              "      <td>4</td>\n",
              "      <td>5</td>\n",
              "      <td>6</td>\n",
              "      <td>7</td>\n",
              "    </tr>\n",
              "    <tr>\n",
              "      <th>Joao</th>\n",
              "      <td>8</td>\n",
              "      <td>9</td>\n",
              "      <td>10</td>\n",
              "      <td>11</td>\n",
              "    </tr>\n",
              "    <tr>\n",
              "      <th>Matheus</th>\n",
              "      <td>12</td>\n",
              "      <td>13</td>\n",
              "      <td>14</td>\n",
              "      <td>15</td>\n",
              "    </tr>\n",
              "  </tbody>\n",
              "</table>\n",
              "</div>"
            ],
            "text/plain": [
              "         UM  DOIS  TRES  QUATRO\n",
              "Maria     0     1     2       3\n",
              "Carla     4     5     6       7\n",
              "Joao      8     9    10      11\n",
              "Matheus  12    13    14      15"
            ]
          },
          "metadata": {
            "tags": []
          },
          "execution_count": 213
        }
      ]
    },
    {
      "cell_type": "code",
      "metadata": {
        "colab": {
          "base_uri": "https://localhost:8080/",
          "height": 0
        },
        "id": "5yh1LKqRlDRn",
        "outputId": "50445fea-b974-4b63-f3ba-e239ac1df527"
      },
      "source": [
        "nomes[['DOIS']]"
      ],
      "execution_count": 214,
      "outputs": [
        {
          "output_type": "execute_result",
          "data": {
            "text/html": [
              "<div>\n",
              "<style scoped>\n",
              "    .dataframe tbody tr th:only-of-type {\n",
              "        vertical-align: middle;\n",
              "    }\n",
              "\n",
              "    .dataframe tbody tr th {\n",
              "        vertical-align: top;\n",
              "    }\n",
              "\n",
              "    .dataframe thead th {\n",
              "        text-align: right;\n",
              "    }\n",
              "</style>\n",
              "<table border=\"1\" class=\"dataframe\">\n",
              "  <thead>\n",
              "    <tr style=\"text-align: right;\">\n",
              "      <th></th>\n",
              "      <th>DOIS</th>\n",
              "    </tr>\n",
              "  </thead>\n",
              "  <tbody>\n",
              "    <tr>\n",
              "      <th>Maria</th>\n",
              "      <td>1</td>\n",
              "    </tr>\n",
              "    <tr>\n",
              "      <th>Carla</th>\n",
              "      <td>5</td>\n",
              "    </tr>\n",
              "    <tr>\n",
              "      <th>Joao</th>\n",
              "      <td>9</td>\n",
              "    </tr>\n",
              "    <tr>\n",
              "      <th>Matheus</th>\n",
              "      <td>13</td>\n",
              "    </tr>\n",
              "  </tbody>\n",
              "</table>\n",
              "</div>"
            ],
            "text/plain": [
              "         DOIS\n",
              "Maria       1\n",
              "Carla       5\n",
              "Joao        9\n",
              "Matheus    13"
            ]
          },
          "metadata": {
            "tags": []
          },
          "execution_count": 214
        }
      ]
    },
    {
      "cell_type": "code",
      "metadata": {
        "colab": {
          "base_uri": "https://localhost:8080/",
          "height": 0
        },
        "id": "mam0wfEClSzi",
        "outputId": "bf6fcf18-f4cd-4a13-d640-511571b05550"
      },
      "source": [
        "nomes[['DOIS', 'QUATRO']]"
      ],
      "execution_count": 215,
      "outputs": [
        {
          "output_type": "execute_result",
          "data": {
            "text/html": [
              "<div>\n",
              "<style scoped>\n",
              "    .dataframe tbody tr th:only-of-type {\n",
              "        vertical-align: middle;\n",
              "    }\n",
              "\n",
              "    .dataframe tbody tr th {\n",
              "        vertical-align: top;\n",
              "    }\n",
              "\n",
              "    .dataframe thead th {\n",
              "        text-align: right;\n",
              "    }\n",
              "</style>\n",
              "<table border=\"1\" class=\"dataframe\">\n",
              "  <thead>\n",
              "    <tr style=\"text-align: right;\">\n",
              "      <th></th>\n",
              "      <th>DOIS</th>\n",
              "      <th>QUATRO</th>\n",
              "    </tr>\n",
              "  </thead>\n",
              "  <tbody>\n",
              "    <tr>\n",
              "      <th>Maria</th>\n",
              "      <td>1</td>\n",
              "      <td>3</td>\n",
              "    </tr>\n",
              "    <tr>\n",
              "      <th>Carla</th>\n",
              "      <td>5</td>\n",
              "      <td>7</td>\n",
              "    </tr>\n",
              "    <tr>\n",
              "      <th>Joao</th>\n",
              "      <td>9</td>\n",
              "      <td>11</td>\n",
              "    </tr>\n",
              "    <tr>\n",
              "      <th>Matheus</th>\n",
              "      <td>13</td>\n",
              "      <td>15</td>\n",
              "    </tr>\n",
              "  </tbody>\n",
              "</table>\n",
              "</div>"
            ],
            "text/plain": [
              "         DOIS  QUATRO\n",
              "Maria       1       3\n",
              "Carla       5       7\n",
              "Joao        9      11\n",
              "Matheus    13      15"
            ]
          },
          "metadata": {
            "tags": []
          },
          "execution_count": 215
        }
      ]
    },
    {
      "cell_type": "code",
      "metadata": {
        "colab": {
          "base_uri": "https://localhost:8080/",
          "height": 0
        },
        "id": "ihtKUDCQlx4J",
        "outputId": "2a52d745-ffee-4266-9b7d-f01319bb0a46"
      },
      "source": [
        "nomes[:2]"
      ],
      "execution_count": 216,
      "outputs": [
        {
          "output_type": "execute_result",
          "data": {
            "text/html": [
              "<div>\n",
              "<style scoped>\n",
              "    .dataframe tbody tr th:only-of-type {\n",
              "        vertical-align: middle;\n",
              "    }\n",
              "\n",
              "    .dataframe tbody tr th {\n",
              "        vertical-align: top;\n",
              "    }\n",
              "\n",
              "    .dataframe thead th {\n",
              "        text-align: right;\n",
              "    }\n",
              "</style>\n",
              "<table border=\"1\" class=\"dataframe\">\n",
              "  <thead>\n",
              "    <tr style=\"text-align: right;\">\n",
              "      <th></th>\n",
              "      <th>UM</th>\n",
              "      <th>DOIS</th>\n",
              "      <th>TRES</th>\n",
              "      <th>QUATRO</th>\n",
              "    </tr>\n",
              "  </thead>\n",
              "  <tbody>\n",
              "    <tr>\n",
              "      <th>Maria</th>\n",
              "      <td>0</td>\n",
              "      <td>1</td>\n",
              "      <td>2</td>\n",
              "      <td>3</td>\n",
              "    </tr>\n",
              "    <tr>\n",
              "      <th>Carla</th>\n",
              "      <td>4</td>\n",
              "      <td>5</td>\n",
              "      <td>6</td>\n",
              "      <td>7</td>\n",
              "    </tr>\n",
              "  </tbody>\n",
              "</table>\n",
              "</div>"
            ],
            "text/plain": [
              "       UM  DOIS  TRES  QUATRO\n",
              "Maria   0     1     2       3\n",
              "Carla   4     5     6       7"
            ]
          },
          "metadata": {
            "tags": []
          },
          "execution_count": 216
        }
      ]
    },
    {
      "cell_type": "code",
      "metadata": {
        "colab": {
          "base_uri": "https://localhost:8080/",
          "height": 0
        },
        "id": "tCvquWxjl261",
        "outputId": "fb2b9220-4379-402a-d515-6f363327f991"
      },
      "source": [
        "nomes[nomes['QUATRO']>10]"
      ],
      "execution_count": 217,
      "outputs": [
        {
          "output_type": "execute_result",
          "data": {
            "text/html": [
              "<div>\n",
              "<style scoped>\n",
              "    .dataframe tbody tr th:only-of-type {\n",
              "        vertical-align: middle;\n",
              "    }\n",
              "\n",
              "    .dataframe tbody tr th {\n",
              "        vertical-align: top;\n",
              "    }\n",
              "\n",
              "    .dataframe thead th {\n",
              "        text-align: right;\n",
              "    }\n",
              "</style>\n",
              "<table border=\"1\" class=\"dataframe\">\n",
              "  <thead>\n",
              "    <tr style=\"text-align: right;\">\n",
              "      <th></th>\n",
              "      <th>UM</th>\n",
              "      <th>DOIS</th>\n",
              "      <th>TRES</th>\n",
              "      <th>QUATRO</th>\n",
              "    </tr>\n",
              "  </thead>\n",
              "  <tbody>\n",
              "    <tr>\n",
              "      <th>Joao</th>\n",
              "      <td>8</td>\n",
              "      <td>9</td>\n",
              "      <td>10</td>\n",
              "      <td>11</td>\n",
              "    </tr>\n",
              "    <tr>\n",
              "      <th>Matheus</th>\n",
              "      <td>12</td>\n",
              "      <td>13</td>\n",
              "      <td>14</td>\n",
              "      <td>15</td>\n",
              "    </tr>\n",
              "  </tbody>\n",
              "</table>\n",
              "</div>"
            ],
            "text/plain": [
              "         UM  DOIS  TRES  QUATRO\n",
              "Joao      8     9    10      11\n",
              "Matheus  12    13    14      15"
            ]
          },
          "metadata": {
            "tags": []
          },
          "execution_count": 217
        }
      ]
    },
    {
      "cell_type": "markdown",
      "metadata": {
        "id": "EbnjBZZtmbqd"
      },
      "source": [
        "Obs: Uma simples operação com um operador normal volta um DataFrame booleano"
      ]
    },
    {
      "cell_type": "code",
      "metadata": {
        "colab": {
          "base_uri": "https://localhost:8080/",
          "height": 0
        },
        "id": "Kw0mKJHJmWnj",
        "outputId": "fc0b1939-b46d-4c5c-8fe3-a9c87c0e417b"
      },
      "source": [
        "nomes >10 "
      ],
      "execution_count": 218,
      "outputs": [
        {
          "output_type": "execute_result",
          "data": {
            "text/html": [
              "<div>\n",
              "<style scoped>\n",
              "    .dataframe tbody tr th:only-of-type {\n",
              "        vertical-align: middle;\n",
              "    }\n",
              "\n",
              "    .dataframe tbody tr th {\n",
              "        vertical-align: top;\n",
              "    }\n",
              "\n",
              "    .dataframe thead th {\n",
              "        text-align: right;\n",
              "    }\n",
              "</style>\n",
              "<table border=\"1\" class=\"dataframe\">\n",
              "  <thead>\n",
              "    <tr style=\"text-align: right;\">\n",
              "      <th></th>\n",
              "      <th>UM</th>\n",
              "      <th>DOIS</th>\n",
              "      <th>TRES</th>\n",
              "      <th>QUATRO</th>\n",
              "    </tr>\n",
              "  </thead>\n",
              "  <tbody>\n",
              "    <tr>\n",
              "      <th>Maria</th>\n",
              "      <td>False</td>\n",
              "      <td>False</td>\n",
              "      <td>False</td>\n",
              "      <td>False</td>\n",
              "    </tr>\n",
              "    <tr>\n",
              "      <th>Carla</th>\n",
              "      <td>False</td>\n",
              "      <td>False</td>\n",
              "      <td>False</td>\n",
              "      <td>False</td>\n",
              "    </tr>\n",
              "    <tr>\n",
              "      <th>Joao</th>\n",
              "      <td>False</td>\n",
              "      <td>False</td>\n",
              "      <td>False</td>\n",
              "      <td>True</td>\n",
              "    </tr>\n",
              "    <tr>\n",
              "      <th>Matheus</th>\n",
              "      <td>True</td>\n",
              "      <td>True</td>\n",
              "      <td>True</td>\n",
              "      <td>True</td>\n",
              "    </tr>\n",
              "  </tbody>\n",
              "</table>\n",
              "</div>"
            ],
            "text/plain": [
              "            UM   DOIS   TRES  QUATRO\n",
              "Maria    False  False  False   False\n",
              "Carla    False  False  False   False\n",
              "Joao     False  False  False    True\n",
              "Matheus   True   True   True    True"
            ]
          },
          "metadata": {
            "tags": []
          },
          "execution_count": 218
        }
      ]
    },
    {
      "cell_type": "code",
      "metadata": {
        "colab": {
          "base_uri": "https://localhost:8080/",
          "height": 0
        },
        "id": "inSdYFxXmk0j",
        "outputId": "38a01551-1b1b-45c1-c053-cc9545e0cd33"
      },
      "source": [
        "# nomes[nomes == 0] = 'R/N'\n",
        "nomes"
      ],
      "execution_count": 219,
      "outputs": [
        {
          "output_type": "execute_result",
          "data": {
            "text/html": [
              "<div>\n",
              "<style scoped>\n",
              "    .dataframe tbody tr th:only-of-type {\n",
              "        vertical-align: middle;\n",
              "    }\n",
              "\n",
              "    .dataframe tbody tr th {\n",
              "        vertical-align: top;\n",
              "    }\n",
              "\n",
              "    .dataframe thead th {\n",
              "        text-align: right;\n",
              "    }\n",
              "</style>\n",
              "<table border=\"1\" class=\"dataframe\">\n",
              "  <thead>\n",
              "    <tr style=\"text-align: right;\">\n",
              "      <th></th>\n",
              "      <th>UM</th>\n",
              "      <th>DOIS</th>\n",
              "      <th>TRES</th>\n",
              "      <th>QUATRO</th>\n",
              "    </tr>\n",
              "  </thead>\n",
              "  <tbody>\n",
              "    <tr>\n",
              "      <th>Maria</th>\n",
              "      <td>0</td>\n",
              "      <td>1</td>\n",
              "      <td>2</td>\n",
              "      <td>3</td>\n",
              "    </tr>\n",
              "    <tr>\n",
              "      <th>Carla</th>\n",
              "      <td>4</td>\n",
              "      <td>5</td>\n",
              "      <td>6</td>\n",
              "      <td>7</td>\n",
              "    </tr>\n",
              "    <tr>\n",
              "      <th>Joao</th>\n",
              "      <td>8</td>\n",
              "      <td>9</td>\n",
              "      <td>10</td>\n",
              "      <td>11</td>\n",
              "    </tr>\n",
              "    <tr>\n",
              "      <th>Matheus</th>\n",
              "      <td>12</td>\n",
              "      <td>13</td>\n",
              "      <td>14</td>\n",
              "      <td>15</td>\n",
              "    </tr>\n",
              "  </tbody>\n",
              "</table>\n",
              "</div>"
            ],
            "text/plain": [
              "         UM  DOIS  TRES  QUATRO\n",
              "Maria     0     1     2       3\n",
              "Carla     4     5     6       7\n",
              "Joao      8     9    10      11\n",
              "Matheus  12    13    14      15"
            ]
          },
          "metadata": {
            "tags": []
          },
          "execution_count": 219
        }
      ]
    },
    {
      "cell_type": "code",
      "metadata": {
        "colab": {
          "base_uri": "https://localhost:8080/",
          "height": 0
        },
        "id": "_uRTJGvsoGD4",
        "outputId": "5725ea4f-b1f0-4b31-ea83-46d35ad2aad2"
      },
      "source": [
        "nomes.loc[['Maria'], ['UM',  'QUATRO']]"
      ],
      "execution_count": 220,
      "outputs": [
        {
          "output_type": "execute_result",
          "data": {
            "text/html": [
              "<div>\n",
              "<style scoped>\n",
              "    .dataframe tbody tr th:only-of-type {\n",
              "        vertical-align: middle;\n",
              "    }\n",
              "\n",
              "    .dataframe tbody tr th {\n",
              "        vertical-align: top;\n",
              "    }\n",
              "\n",
              "    .dataframe thead th {\n",
              "        text-align: right;\n",
              "    }\n",
              "</style>\n",
              "<table border=\"1\" class=\"dataframe\">\n",
              "  <thead>\n",
              "    <tr style=\"text-align: right;\">\n",
              "      <th></th>\n",
              "      <th>UM</th>\n",
              "      <th>QUATRO</th>\n",
              "    </tr>\n",
              "  </thead>\n",
              "  <tbody>\n",
              "    <tr>\n",
              "      <th>Maria</th>\n",
              "      <td>0</td>\n",
              "      <td>3</td>\n",
              "    </tr>\n",
              "  </tbody>\n",
              "</table>\n",
              "</div>"
            ],
            "text/plain": [
              "       UM  QUATRO\n",
              "Maria   0       3"
            ]
          },
          "metadata": {
            "tags": []
          },
          "execution_count": 220
        }
      ]
    },
    {
      "cell_type": "markdown",
      "metadata": {
        "id": "tffmUGM72R1F"
      },
      "source": [
        "### **Fazendo slices com iloc e loc**"
      ]
    },
    {
      "cell_type": "code",
      "metadata": {
        "colab": {
          "base_uri": "https://localhost:8080/",
          "height": 0
        },
        "id": "oHXGZMX4pkMD",
        "outputId": "95fd3c7a-03d8-4d8d-a4bf-5d13b8a4003b"
      },
      "source": [
        "nomes.iloc[[0], [0, 3]]"
      ],
      "execution_count": 221,
      "outputs": [
        {
          "output_type": "execute_result",
          "data": {
            "text/html": [
              "<div>\n",
              "<style scoped>\n",
              "    .dataframe tbody tr th:only-of-type {\n",
              "        vertical-align: middle;\n",
              "    }\n",
              "\n",
              "    .dataframe tbody tr th {\n",
              "        vertical-align: top;\n",
              "    }\n",
              "\n",
              "    .dataframe thead th {\n",
              "        text-align: right;\n",
              "    }\n",
              "</style>\n",
              "<table border=\"1\" class=\"dataframe\">\n",
              "  <thead>\n",
              "    <tr style=\"text-align: right;\">\n",
              "      <th></th>\n",
              "      <th>UM</th>\n",
              "      <th>QUATRO</th>\n",
              "    </tr>\n",
              "  </thead>\n",
              "  <tbody>\n",
              "    <tr>\n",
              "      <th>Maria</th>\n",
              "      <td>0</td>\n",
              "      <td>3</td>\n",
              "    </tr>\n",
              "  </tbody>\n",
              "</table>\n",
              "</div>"
            ],
            "text/plain": [
              "       UM  QUATRO\n",
              "Maria   0       3"
            ]
          },
          "metadata": {
            "tags": []
          },
          "execution_count": 221
        }
      ]
    },
    {
      "cell_type": "code",
      "metadata": {
        "colab": {
          "base_uri": "https://localhost:8080/",
          "height": 0
        },
        "id": "yboP0zE7qzCX",
        "outputId": "00ece300-9350-4070-e963-1ab0c9645458"
      },
      "source": [
        "nomes.iloc[:, :3][nomes.TRES>=10]"
      ],
      "execution_count": 222,
      "outputs": [
        {
          "output_type": "execute_result",
          "data": {
            "text/html": [
              "<div>\n",
              "<style scoped>\n",
              "    .dataframe tbody tr th:only-of-type {\n",
              "        vertical-align: middle;\n",
              "    }\n",
              "\n",
              "    .dataframe tbody tr th {\n",
              "        vertical-align: top;\n",
              "    }\n",
              "\n",
              "    .dataframe thead th {\n",
              "        text-align: right;\n",
              "    }\n",
              "</style>\n",
              "<table border=\"1\" class=\"dataframe\">\n",
              "  <thead>\n",
              "    <tr style=\"text-align: right;\">\n",
              "      <th></th>\n",
              "      <th>UM</th>\n",
              "      <th>DOIS</th>\n",
              "      <th>TRES</th>\n",
              "    </tr>\n",
              "  </thead>\n",
              "  <tbody>\n",
              "    <tr>\n",
              "      <th>Joao</th>\n",
              "      <td>8</td>\n",
              "      <td>9</td>\n",
              "      <td>10</td>\n",
              "    </tr>\n",
              "    <tr>\n",
              "      <th>Matheus</th>\n",
              "      <td>12</td>\n",
              "      <td>13</td>\n",
              "      <td>14</td>\n",
              "    </tr>\n",
              "  </tbody>\n",
              "</table>\n",
              "</div>"
            ],
            "text/plain": [
              "         UM  DOIS  TRES\n",
              "Joao      8     9    10\n",
              "Matheus  12    13    14"
            ]
          },
          "metadata": {
            "tags": []
          },
          "execution_count": 222
        }
      ]
    },
    {
      "cell_type": "code",
      "metadata": {
        "colab": {
          "base_uri": "https://localhost:8080/"
        },
        "id": "AQo0UiNA36-P",
        "outputId": "e09433d1-9b32-4002-b817-481751ce0925"
      },
      "source": [
        "ser = pd.Series(np.arange(5.))\n",
        "\n",
        "#Se indexasse um valor de -1 com inteiro ou loc na series\n",
        "#geraria um bug por não conseguir identificar se era uma label ou um inteiro. Pra corrigir, seria necessário colocar um index com valor\n",
        "\n",
        "ser"
      ],
      "execution_count": 223,
      "outputs": [
        {
          "output_type": "execute_result",
          "data": {
            "text/plain": [
              "0    0.0\n",
              "1    1.0\n",
              "2    2.0\n",
              "3    3.0\n",
              "4    4.0\n",
              "dtype: float64"
            ]
          },
          "metadata": {
            "tags": []
          },
          "execution_count": 223
        }
      ]
    },
    {
      "cell_type": "code",
      "metadata": {
        "id": "QxVwQdDBC2z2",
        "colab": {
          "base_uri": "https://localhost:8080/"
        },
        "outputId": "1a28044e-edc6-4178-f22a-cde9b61fec0e"
      },
      "source": [
        "ser2 = pd.Series([1, 2, 3, 4, 5], index=['A', 'B', 'C', 'D', 'E'])\n",
        "ser2"
      ],
      "execution_count": 224,
      "outputs": [
        {
          "output_type": "execute_result",
          "data": {
            "text/plain": [
              "A    1\n",
              "B    2\n",
              "C    3\n",
              "D    4\n",
              "E    5\n",
              "dtype: int64"
            ]
          },
          "metadata": {
            "tags": []
          },
          "execution_count": 224
        }
      ]
    },
    {
      "cell_type": "code",
      "metadata": {
        "id": "v07dNRSQ62Da",
        "colab": {
          "base_uri": "https://localhost:8080/"
        },
        "outputId": "2cbd8577-d1aa-4b12-b035-44926fb833d9"
      },
      "source": [
        "ser2[-1]"
      ],
      "execution_count": 225,
      "outputs": [
        {
          "output_type": "execute_result",
          "data": {
            "text/plain": [
              "5"
            ]
          },
          "metadata": {
            "tags": []
          },
          "execution_count": 225
        }
      ]
    },
    {
      "cell_type": "markdown",
      "metadata": {
        "id": "SKZ2KCioB8R3"
      },
      "source": [
        "### **Aritmética e alinhamento de dados:**"
      ]
    },
    {
      "cell_type": "code",
      "metadata": {
        "colab": {
          "base_uri": "https://localhost:8080/"
        },
        "id": "ouj8XIzGKnTx",
        "outputId": "7806f86b-1a4e-4b1c-9e6a-3f7db984d67a"
      },
      "source": [
        "s1 = pd.Series([7.3, -2.5, 3.4, 1.5], index=['a', 'c', 'd', 'e'])\n",
        "s1"
      ],
      "execution_count": 226,
      "outputs": [
        {
          "output_type": "execute_result",
          "data": {
            "text/plain": [
              "a    7.3\n",
              "c   -2.5\n",
              "d    3.4\n",
              "e    1.5\n",
              "dtype: float64"
            ]
          },
          "metadata": {
            "tags": []
          },
          "execution_count": 226
        }
      ]
    },
    {
      "cell_type": "code",
      "metadata": {
        "colab": {
          "base_uri": "https://localhost:8080/"
        },
        "id": "zmh_ipoyLLwe",
        "outputId": "f294bd22-e97c-4e09-c61a-f324ea910a1b"
      },
      "source": [
        "s2 = pd.Series([-2.1, 3.6, -1.5, 4, 3.1], index=['a', 'c', 'e', 'f', 'g'])\n",
        "s2"
      ],
      "execution_count": 227,
      "outputs": [
        {
          "output_type": "execute_result",
          "data": {
            "text/plain": [
              "a   -2.1\n",
              "c    3.6\n",
              "e   -1.5\n",
              "f    4.0\n",
              "g    3.1\n",
              "dtype: float64"
            ]
          },
          "metadata": {
            "tags": []
          },
          "execution_count": 227
        }
      ]
    },
    {
      "cell_type": "markdown",
      "metadata": {
        "id": "Ciy6hPUuCJ-I"
      },
      "source": [
        "Obs: Quando objetos estiverem sendo somados, se algum par de índices\n",
        "não for igual, o respectivo índice no resultado será a união dos\n",
        "pares de índices."
      ]
    },
    {
      "cell_type": "code",
      "metadata": {
        "colab": {
          "base_uri": "https://localhost:8080/"
        },
        "id": "PKiPxzKaLbe1",
        "outputId": "28c13c26-e845-48c8-f29f-ef0a16430f30"
      },
      "source": [
        "s1+s2"
      ],
      "execution_count": 228,
      "outputs": [
        {
          "output_type": "execute_result",
          "data": {
            "text/plain": [
              "a    5.2\n",
              "c    1.1\n",
              "d    NaN\n",
              "e    0.0\n",
              "f    NaN\n",
              "g    NaN\n",
              "dtype: float64"
            ]
          },
          "metadata": {
            "tags": []
          },
          "execution_count": 228
        }
      ]
    },
    {
      "cell_type": "code",
      "metadata": {
        "colab": {
          "base_uri": "https://localhost:8080/",
          "height": 0
        },
        "id": "St38t4uJFlFw",
        "outputId": "800dbff4-aade-4828-f35f-9c42e89ebf82"
      },
      "source": [
        "df1 = pd.DataFrame(np.arange(9.).reshape((3, 3)), columns=list('bcd'), index=['Ohio', 'Texas', 'Colorado'])\n",
        "df1"
      ],
      "execution_count": 229,
      "outputs": [
        {
          "output_type": "execute_result",
          "data": {
            "text/html": [
              "<div>\n",
              "<style scoped>\n",
              "    .dataframe tbody tr th:only-of-type {\n",
              "        vertical-align: middle;\n",
              "    }\n",
              "\n",
              "    .dataframe tbody tr th {\n",
              "        vertical-align: top;\n",
              "    }\n",
              "\n",
              "    .dataframe thead th {\n",
              "        text-align: right;\n",
              "    }\n",
              "</style>\n",
              "<table border=\"1\" class=\"dataframe\">\n",
              "  <thead>\n",
              "    <tr style=\"text-align: right;\">\n",
              "      <th></th>\n",
              "      <th>b</th>\n",
              "      <th>c</th>\n",
              "      <th>d</th>\n",
              "    </tr>\n",
              "  </thead>\n",
              "  <tbody>\n",
              "    <tr>\n",
              "      <th>Ohio</th>\n",
              "      <td>0.0</td>\n",
              "      <td>1.0</td>\n",
              "      <td>2.0</td>\n",
              "    </tr>\n",
              "    <tr>\n",
              "      <th>Texas</th>\n",
              "      <td>3.0</td>\n",
              "      <td>4.0</td>\n",
              "      <td>5.0</td>\n",
              "    </tr>\n",
              "    <tr>\n",
              "      <th>Colorado</th>\n",
              "      <td>6.0</td>\n",
              "      <td>7.0</td>\n",
              "      <td>8.0</td>\n",
              "    </tr>\n",
              "  </tbody>\n",
              "</table>\n",
              "</div>"
            ],
            "text/plain": [
              "            b    c    d\n",
              "Ohio      0.0  1.0  2.0\n",
              "Texas     3.0  4.0  5.0\n",
              "Colorado  6.0  7.0  8.0"
            ]
          },
          "metadata": {
            "tags": []
          },
          "execution_count": 229
        }
      ]
    },
    {
      "cell_type": "code",
      "metadata": {
        "colab": {
          "base_uri": "https://localhost:8080/",
          "height": 0
        },
        "id": "4Z3-h9eOF65k",
        "outputId": "f94f5779-cdc5-4f47-c4aa-cbfb3449decd"
      },
      "source": [
        "df2 = pd.DataFrame(np.arange(12.).reshape((4, 3)), columns=list('bde'), index=['Utah', 'Ohio', 'Texas', 'Oregon'])\n",
        "df2"
      ],
      "execution_count": 230,
      "outputs": [
        {
          "output_type": "execute_result",
          "data": {
            "text/html": [
              "<div>\n",
              "<style scoped>\n",
              "    .dataframe tbody tr th:only-of-type {\n",
              "        vertical-align: middle;\n",
              "    }\n",
              "\n",
              "    .dataframe tbody tr th {\n",
              "        vertical-align: top;\n",
              "    }\n",
              "\n",
              "    .dataframe thead th {\n",
              "        text-align: right;\n",
              "    }\n",
              "</style>\n",
              "<table border=\"1\" class=\"dataframe\">\n",
              "  <thead>\n",
              "    <tr style=\"text-align: right;\">\n",
              "      <th></th>\n",
              "      <th>b</th>\n",
              "      <th>d</th>\n",
              "      <th>e</th>\n",
              "    </tr>\n",
              "  </thead>\n",
              "  <tbody>\n",
              "    <tr>\n",
              "      <th>Utah</th>\n",
              "      <td>0.0</td>\n",
              "      <td>1.0</td>\n",
              "      <td>2.0</td>\n",
              "    </tr>\n",
              "    <tr>\n",
              "      <th>Ohio</th>\n",
              "      <td>3.0</td>\n",
              "      <td>4.0</td>\n",
              "      <td>5.0</td>\n",
              "    </tr>\n",
              "    <tr>\n",
              "      <th>Texas</th>\n",
              "      <td>6.0</td>\n",
              "      <td>7.0</td>\n",
              "      <td>8.0</td>\n",
              "    </tr>\n",
              "    <tr>\n",
              "      <th>Oregon</th>\n",
              "      <td>9.0</td>\n",
              "      <td>10.0</td>\n",
              "      <td>11.0</td>\n",
              "    </tr>\n",
              "  </tbody>\n",
              "</table>\n",
              "</div>"
            ],
            "text/plain": [
              "          b     d     e\n",
              "Utah    0.0   1.0   2.0\n",
              "Ohio    3.0   4.0   5.0\n",
              "Texas   6.0   7.0   8.0\n",
              "Oregon  9.0  10.0  11.0"
            ]
          },
          "metadata": {
            "tags": []
          },
          "execution_count": 230
        }
      ]
    },
    {
      "cell_type": "markdown",
      "metadata": {
        "id": "iu5CQVwuJN9v"
      },
      "source": [
        "**No caso do DataFrame com Index, o alinhamento é feito tanto nas linhas\n",
        "quanto nas colunas:**"
      ]
    },
    {
      "cell_type": "code",
      "metadata": {
        "colab": {
          "base_uri": "https://localhost:8080/",
          "height": 0
        },
        "id": "JgauFL8LGFNI",
        "outputId": "09a2e050-c5d3-40fb-8724-e6e7cd59d423"
      },
      "source": [
        "df1 + df2"
      ],
      "execution_count": 231,
      "outputs": [
        {
          "output_type": "execute_result",
          "data": {
            "text/html": [
              "<div>\n",
              "<style scoped>\n",
              "    .dataframe tbody tr th:only-of-type {\n",
              "        vertical-align: middle;\n",
              "    }\n",
              "\n",
              "    .dataframe tbody tr th {\n",
              "        vertical-align: top;\n",
              "    }\n",
              "\n",
              "    .dataframe thead th {\n",
              "        text-align: right;\n",
              "    }\n",
              "</style>\n",
              "<table border=\"1\" class=\"dataframe\">\n",
              "  <thead>\n",
              "    <tr style=\"text-align: right;\">\n",
              "      <th></th>\n",
              "      <th>b</th>\n",
              "      <th>c</th>\n",
              "      <th>d</th>\n",
              "      <th>e</th>\n",
              "    </tr>\n",
              "  </thead>\n",
              "  <tbody>\n",
              "    <tr>\n",
              "      <th>Colorado</th>\n",
              "      <td>NaN</td>\n",
              "      <td>NaN</td>\n",
              "      <td>NaN</td>\n",
              "      <td>NaN</td>\n",
              "    </tr>\n",
              "    <tr>\n",
              "      <th>Ohio</th>\n",
              "      <td>3.0</td>\n",
              "      <td>NaN</td>\n",
              "      <td>6.0</td>\n",
              "      <td>NaN</td>\n",
              "    </tr>\n",
              "    <tr>\n",
              "      <th>Oregon</th>\n",
              "      <td>NaN</td>\n",
              "      <td>NaN</td>\n",
              "      <td>NaN</td>\n",
              "      <td>NaN</td>\n",
              "    </tr>\n",
              "    <tr>\n",
              "      <th>Texas</th>\n",
              "      <td>9.0</td>\n",
              "      <td>NaN</td>\n",
              "      <td>12.0</td>\n",
              "      <td>NaN</td>\n",
              "    </tr>\n",
              "    <tr>\n",
              "      <th>Utah</th>\n",
              "      <td>NaN</td>\n",
              "      <td>NaN</td>\n",
              "      <td>NaN</td>\n",
              "      <td>NaN</td>\n",
              "    </tr>\n",
              "  </tbody>\n",
              "</table>\n",
              "</div>"
            ],
            "text/plain": [
              "            b   c     d   e\n",
              "Colorado  NaN NaN   NaN NaN\n",
              "Ohio      3.0 NaN   6.0 NaN\n",
              "Oregon    NaN NaN   NaN NaN\n",
              "Texas     9.0 NaN  12.0 NaN\n",
              "Utah      NaN NaN   NaN NaN"
            ]
          },
          "metadata": {
            "tags": []
          },
          "execution_count": 231
        }
      ]
    },
    {
      "cell_type": "code",
      "metadata": {
        "colab": {
          "base_uri": "https://localhost:8080/",
          "height": 0
        },
        "id": "UGpoiwwpLBvb",
        "outputId": "95586761-2cd9-4e26-fc41-5c27b9c54511"
      },
      "source": [
        "df3 = pd.DataFrame({'A': [1, 2]})\n",
        "df3"
      ],
      "execution_count": 232,
      "outputs": [
        {
          "output_type": "execute_result",
          "data": {
            "text/html": [
              "<div>\n",
              "<style scoped>\n",
              "    .dataframe tbody tr th:only-of-type {\n",
              "        vertical-align: middle;\n",
              "    }\n",
              "\n",
              "    .dataframe tbody tr th {\n",
              "        vertical-align: top;\n",
              "    }\n",
              "\n",
              "    .dataframe thead th {\n",
              "        text-align: right;\n",
              "    }\n",
              "</style>\n",
              "<table border=\"1\" class=\"dataframe\">\n",
              "  <thead>\n",
              "    <tr style=\"text-align: right;\">\n",
              "      <th></th>\n",
              "      <th>A</th>\n",
              "    </tr>\n",
              "  </thead>\n",
              "  <tbody>\n",
              "    <tr>\n",
              "      <th>0</th>\n",
              "      <td>1</td>\n",
              "    </tr>\n",
              "    <tr>\n",
              "      <th>1</th>\n",
              "      <td>2</td>\n",
              "    </tr>\n",
              "  </tbody>\n",
              "</table>\n",
              "</div>"
            ],
            "text/plain": [
              "   A\n",
              "0  1\n",
              "1  2"
            ]
          },
          "metadata": {
            "tags": []
          },
          "execution_count": 232
        }
      ]
    },
    {
      "cell_type": "code",
      "metadata": {
        "colab": {
          "base_uri": "https://localhost:8080/",
          "height": 0
        },
        "id": "6X9cjw4dLINN",
        "outputId": "cd523b66-fc19-4890-9d64-cd8e9ee1e471"
      },
      "source": [
        "df4 = pd.DataFrame({'B': [3, 4]})\n",
        "df4"
      ],
      "execution_count": 233,
      "outputs": [
        {
          "output_type": "execute_result",
          "data": {
            "text/html": [
              "<div>\n",
              "<style scoped>\n",
              "    .dataframe tbody tr th:only-of-type {\n",
              "        vertical-align: middle;\n",
              "    }\n",
              "\n",
              "    .dataframe tbody tr th {\n",
              "        vertical-align: top;\n",
              "    }\n",
              "\n",
              "    .dataframe thead th {\n",
              "        text-align: right;\n",
              "    }\n",
              "</style>\n",
              "<table border=\"1\" class=\"dataframe\">\n",
              "  <thead>\n",
              "    <tr style=\"text-align: right;\">\n",
              "      <th></th>\n",
              "      <th>B</th>\n",
              "    </tr>\n",
              "  </thead>\n",
              "  <tbody>\n",
              "    <tr>\n",
              "      <th>0</th>\n",
              "      <td>3</td>\n",
              "    </tr>\n",
              "    <tr>\n",
              "      <th>1</th>\n",
              "      <td>4</td>\n",
              "    </tr>\n",
              "  </tbody>\n",
              "</table>\n",
              "</div>"
            ],
            "text/plain": [
              "   B\n",
              "0  3\n",
              "1  4"
            ]
          },
          "metadata": {
            "tags": []
          },
          "execution_count": 233
        }
      ]
    },
    {
      "cell_type": "markdown",
      "metadata": {
        "id": "mY6pOwLoLpwe"
      },
      "source": [
        "**Se você somar objetos DataFrame sem rótulos para colunas ou\n",
        "linhas em comum, o resultado conterá somente nulos:**"
      ]
    },
    {
      "cell_type": "code",
      "metadata": {
        "colab": {
          "base_uri": "https://localhost:8080/",
          "height": 0
        },
        "id": "qWq79ZCTLS2W",
        "outputId": "f1aee57e-c2e8-4892-c5f8-53f13f473d42"
      },
      "source": [
        "df3+df4"
      ],
      "execution_count": 234,
      "outputs": [
        {
          "output_type": "execute_result",
          "data": {
            "text/html": [
              "<div>\n",
              "<style scoped>\n",
              "    .dataframe tbody tr th:only-of-type {\n",
              "        vertical-align: middle;\n",
              "    }\n",
              "\n",
              "    .dataframe tbody tr th {\n",
              "        vertical-align: top;\n",
              "    }\n",
              "\n",
              "    .dataframe thead th {\n",
              "        text-align: right;\n",
              "    }\n",
              "</style>\n",
              "<table border=\"1\" class=\"dataframe\">\n",
              "  <thead>\n",
              "    <tr style=\"text-align: right;\">\n",
              "      <th></th>\n",
              "      <th>A</th>\n",
              "      <th>B</th>\n",
              "    </tr>\n",
              "  </thead>\n",
              "  <tbody>\n",
              "    <tr>\n",
              "      <th>0</th>\n",
              "      <td>NaN</td>\n",
              "      <td>NaN</td>\n",
              "    </tr>\n",
              "    <tr>\n",
              "      <th>1</th>\n",
              "      <td>NaN</td>\n",
              "      <td>NaN</td>\n",
              "    </tr>\n",
              "  </tbody>\n",
              "</table>\n",
              "</div>"
            ],
            "text/plain": [
              "    A   B\n",
              "0 NaN NaN\n",
              "1 NaN NaN"
            ]
          },
          "metadata": {
            "tags": []
          },
          "execution_count": 234
        }
      ]
    },
    {
      "cell_type": "markdown",
      "metadata": {
        "id": "CsCwxh9kH1CM"
      },
      "source": [
        "### **Métodos aritméticos com valores para preenchimento:**"
      ]
    },
    {
      "cell_type": "code",
      "metadata": {
        "colab": {
          "base_uri": "https://localhost:8080/",
          "height": 0
        },
        "id": "TeE-EGdW7b9H",
        "outputId": "40259687-9993-43c6-8432-412048395580"
      },
      "source": [
        "df5 = pd.DataFrame(np.arange(12.).reshape((3, 4)), columns=list('abcd'))\n",
        "df5"
      ],
      "execution_count": 235,
      "outputs": [
        {
          "output_type": "execute_result",
          "data": {
            "text/html": [
              "<div>\n",
              "<style scoped>\n",
              "    .dataframe tbody tr th:only-of-type {\n",
              "        vertical-align: middle;\n",
              "    }\n",
              "\n",
              "    .dataframe tbody tr th {\n",
              "        vertical-align: top;\n",
              "    }\n",
              "\n",
              "    .dataframe thead th {\n",
              "        text-align: right;\n",
              "    }\n",
              "</style>\n",
              "<table border=\"1\" class=\"dataframe\">\n",
              "  <thead>\n",
              "    <tr style=\"text-align: right;\">\n",
              "      <th></th>\n",
              "      <th>a</th>\n",
              "      <th>b</th>\n",
              "      <th>c</th>\n",
              "      <th>d</th>\n",
              "    </tr>\n",
              "  </thead>\n",
              "  <tbody>\n",
              "    <tr>\n",
              "      <th>0</th>\n",
              "      <td>0.0</td>\n",
              "      <td>1.0</td>\n",
              "      <td>2.0</td>\n",
              "      <td>3.0</td>\n",
              "    </tr>\n",
              "    <tr>\n",
              "      <th>1</th>\n",
              "      <td>4.0</td>\n",
              "      <td>5.0</td>\n",
              "      <td>6.0</td>\n",
              "      <td>7.0</td>\n",
              "    </tr>\n",
              "    <tr>\n",
              "      <th>2</th>\n",
              "      <td>8.0</td>\n",
              "      <td>9.0</td>\n",
              "      <td>10.0</td>\n",
              "      <td>11.0</td>\n",
              "    </tr>\n",
              "  </tbody>\n",
              "</table>\n",
              "</div>"
            ],
            "text/plain": [
              "     a    b     c     d\n",
              "0  0.0  1.0   2.0   3.0\n",
              "1  4.0  5.0   6.0   7.0\n",
              "2  8.0  9.0  10.0  11.0"
            ]
          },
          "metadata": {
            "tags": []
          },
          "execution_count": 235
        }
      ]
    },
    {
      "cell_type": "code",
      "metadata": {
        "colab": {
          "base_uri": "https://localhost:8080/",
          "height": 0
        },
        "id": "iqeBpVTA_8wI",
        "outputId": "78c5906e-741a-4b72-ac46-132ff48015ac"
      },
      "source": [
        "df6 = pd.DataFrame(np.arange(20.).reshape((4, 5)), columns=list('abcde'))\n",
        "df6.loc[1, 'b'] = np.nan\n",
        "df6"
      ],
      "execution_count": 236,
      "outputs": [
        {
          "output_type": "execute_result",
          "data": {
            "text/html": [
              "<div>\n",
              "<style scoped>\n",
              "    .dataframe tbody tr th:only-of-type {\n",
              "        vertical-align: middle;\n",
              "    }\n",
              "\n",
              "    .dataframe tbody tr th {\n",
              "        vertical-align: top;\n",
              "    }\n",
              "\n",
              "    .dataframe thead th {\n",
              "        text-align: right;\n",
              "    }\n",
              "</style>\n",
              "<table border=\"1\" class=\"dataframe\">\n",
              "  <thead>\n",
              "    <tr style=\"text-align: right;\">\n",
              "      <th></th>\n",
              "      <th>a</th>\n",
              "      <th>b</th>\n",
              "      <th>c</th>\n",
              "      <th>d</th>\n",
              "      <th>e</th>\n",
              "    </tr>\n",
              "  </thead>\n",
              "  <tbody>\n",
              "    <tr>\n",
              "      <th>0</th>\n",
              "      <td>0.0</td>\n",
              "      <td>1.0</td>\n",
              "      <td>2.0</td>\n",
              "      <td>3.0</td>\n",
              "      <td>4.0</td>\n",
              "    </tr>\n",
              "    <tr>\n",
              "      <th>1</th>\n",
              "      <td>5.0</td>\n",
              "      <td>NaN</td>\n",
              "      <td>7.0</td>\n",
              "      <td>8.0</td>\n",
              "      <td>9.0</td>\n",
              "    </tr>\n",
              "    <tr>\n",
              "      <th>2</th>\n",
              "      <td>10.0</td>\n",
              "      <td>11.0</td>\n",
              "      <td>12.0</td>\n",
              "      <td>13.0</td>\n",
              "      <td>14.0</td>\n",
              "    </tr>\n",
              "    <tr>\n",
              "      <th>3</th>\n",
              "      <td>15.0</td>\n",
              "      <td>16.0</td>\n",
              "      <td>17.0</td>\n",
              "      <td>18.0</td>\n",
              "      <td>19.0</td>\n",
              "    </tr>\n",
              "  </tbody>\n",
              "</table>\n",
              "</div>"
            ],
            "text/plain": [
              "      a     b     c     d     e\n",
              "0   0.0   1.0   2.0   3.0   4.0\n",
              "1   5.0   NaN   7.0   8.0   9.0\n",
              "2  10.0  11.0  12.0  13.0  14.0\n",
              "3  15.0  16.0  17.0  18.0  19.0"
            ]
          },
          "metadata": {
            "tags": []
          },
          "execution_count": 236
        }
      ]
    },
    {
      "cell_type": "code",
      "metadata": {
        "colab": {
          "base_uri": "https://localhost:8080/",
          "height": 0
        },
        "id": "mOHpOczJAKKS",
        "outputId": "64911ad3-705a-4de1-a8bb-d029f147a225"
      },
      "source": [
        "df5+df6"
      ],
      "execution_count": 237,
      "outputs": [
        {
          "output_type": "execute_result",
          "data": {
            "text/html": [
              "<div>\n",
              "<style scoped>\n",
              "    .dataframe tbody tr th:only-of-type {\n",
              "        vertical-align: middle;\n",
              "    }\n",
              "\n",
              "    .dataframe tbody tr th {\n",
              "        vertical-align: top;\n",
              "    }\n",
              "\n",
              "    .dataframe thead th {\n",
              "        text-align: right;\n",
              "    }\n",
              "</style>\n",
              "<table border=\"1\" class=\"dataframe\">\n",
              "  <thead>\n",
              "    <tr style=\"text-align: right;\">\n",
              "      <th></th>\n",
              "      <th>a</th>\n",
              "      <th>b</th>\n",
              "      <th>c</th>\n",
              "      <th>d</th>\n",
              "      <th>e</th>\n",
              "    </tr>\n",
              "  </thead>\n",
              "  <tbody>\n",
              "    <tr>\n",
              "      <th>0</th>\n",
              "      <td>0.0</td>\n",
              "      <td>2.0</td>\n",
              "      <td>4.0</td>\n",
              "      <td>6.0</td>\n",
              "      <td>NaN</td>\n",
              "    </tr>\n",
              "    <tr>\n",
              "      <th>1</th>\n",
              "      <td>9.0</td>\n",
              "      <td>NaN</td>\n",
              "      <td>13.0</td>\n",
              "      <td>15.0</td>\n",
              "      <td>NaN</td>\n",
              "    </tr>\n",
              "    <tr>\n",
              "      <th>2</th>\n",
              "      <td>18.0</td>\n",
              "      <td>20.0</td>\n",
              "      <td>22.0</td>\n",
              "      <td>24.0</td>\n",
              "      <td>NaN</td>\n",
              "    </tr>\n",
              "    <tr>\n",
              "      <th>3</th>\n",
              "      <td>NaN</td>\n",
              "      <td>NaN</td>\n",
              "      <td>NaN</td>\n",
              "      <td>NaN</td>\n",
              "      <td>NaN</td>\n",
              "    </tr>\n",
              "  </tbody>\n",
              "</table>\n",
              "</div>"
            ],
            "text/plain": [
              "      a     b     c     d   e\n",
              "0   0.0   2.0   4.0   6.0 NaN\n",
              "1   9.0   NaN  13.0  15.0 NaN\n",
              "2  18.0  20.0  22.0  24.0 NaN\n",
              "3   NaN   NaN   NaN   NaN NaN"
            ]
          },
          "metadata": {
            "tags": []
          },
          "execution_count": 237
        }
      ]
    },
    {
      "cell_type": "code",
      "metadata": {
        "colab": {
          "base_uri": "https://localhost:8080/",
          "height": 0
        },
        "id": "IVv73_4gBeMZ",
        "outputId": "ba824f2a-6834-4284-c398-bda8010bf1f7"
      },
      "source": [
        "df5.radd(df6, fill_value=0)"
      ],
      "execution_count": 238,
      "outputs": [
        {
          "output_type": "execute_result",
          "data": {
            "text/html": [
              "<div>\n",
              "<style scoped>\n",
              "    .dataframe tbody tr th:only-of-type {\n",
              "        vertical-align: middle;\n",
              "    }\n",
              "\n",
              "    .dataframe tbody tr th {\n",
              "        vertical-align: top;\n",
              "    }\n",
              "\n",
              "    .dataframe thead th {\n",
              "        text-align: right;\n",
              "    }\n",
              "</style>\n",
              "<table border=\"1\" class=\"dataframe\">\n",
              "  <thead>\n",
              "    <tr style=\"text-align: right;\">\n",
              "      <th></th>\n",
              "      <th>a</th>\n",
              "      <th>b</th>\n",
              "      <th>c</th>\n",
              "      <th>d</th>\n",
              "      <th>e</th>\n",
              "    </tr>\n",
              "  </thead>\n",
              "  <tbody>\n",
              "    <tr>\n",
              "      <th>0</th>\n",
              "      <td>0.0</td>\n",
              "      <td>2.0</td>\n",
              "      <td>4.0</td>\n",
              "      <td>6.0</td>\n",
              "      <td>4.0</td>\n",
              "    </tr>\n",
              "    <tr>\n",
              "      <th>1</th>\n",
              "      <td>9.0</td>\n",
              "      <td>5.0</td>\n",
              "      <td>13.0</td>\n",
              "      <td>15.0</td>\n",
              "      <td>9.0</td>\n",
              "    </tr>\n",
              "    <tr>\n",
              "      <th>2</th>\n",
              "      <td>18.0</td>\n",
              "      <td>20.0</td>\n",
              "      <td>22.0</td>\n",
              "      <td>24.0</td>\n",
              "      <td>14.0</td>\n",
              "    </tr>\n",
              "    <tr>\n",
              "      <th>3</th>\n",
              "      <td>15.0</td>\n",
              "      <td>16.0</td>\n",
              "      <td>17.0</td>\n",
              "      <td>18.0</td>\n",
              "      <td>19.0</td>\n",
              "    </tr>\n",
              "  </tbody>\n",
              "</table>\n",
              "</div>"
            ],
            "text/plain": [
              "      a     b     c     d     e\n",
              "0   0.0   2.0   4.0   6.0   4.0\n",
              "1   9.0   5.0  13.0  15.0   9.0\n",
              "2  18.0  20.0  22.0  24.0  14.0\n",
              "3  15.0  16.0  17.0  18.0  19.0"
            ]
          },
          "metadata": {
            "tags": []
          },
          "execution_count": 238
        }
      ]
    },
    {
      "cell_type": "code",
      "metadata": {
        "colab": {
          "base_uri": "https://localhost:8080/",
          "height": 0
        },
        "id": "Xt2E8IzuC5e4",
        "outputId": "3100e16f-ecb1-4dd9-e88c-08e16e8e6b4c"
      },
      "source": [
        "df5-df6"
      ],
      "execution_count": 239,
      "outputs": [
        {
          "output_type": "execute_result",
          "data": {
            "text/html": [
              "<div>\n",
              "<style scoped>\n",
              "    .dataframe tbody tr th:only-of-type {\n",
              "        vertical-align: middle;\n",
              "    }\n",
              "\n",
              "    .dataframe tbody tr th {\n",
              "        vertical-align: top;\n",
              "    }\n",
              "\n",
              "    .dataframe thead th {\n",
              "        text-align: right;\n",
              "    }\n",
              "</style>\n",
              "<table border=\"1\" class=\"dataframe\">\n",
              "  <thead>\n",
              "    <tr style=\"text-align: right;\">\n",
              "      <th></th>\n",
              "      <th>a</th>\n",
              "      <th>b</th>\n",
              "      <th>c</th>\n",
              "      <th>d</th>\n",
              "      <th>e</th>\n",
              "    </tr>\n",
              "  </thead>\n",
              "  <tbody>\n",
              "    <tr>\n",
              "      <th>0</th>\n",
              "      <td>0.0</td>\n",
              "      <td>0.0</td>\n",
              "      <td>0.0</td>\n",
              "      <td>0.0</td>\n",
              "      <td>NaN</td>\n",
              "    </tr>\n",
              "    <tr>\n",
              "      <th>1</th>\n",
              "      <td>-1.0</td>\n",
              "      <td>NaN</td>\n",
              "      <td>-1.0</td>\n",
              "      <td>-1.0</td>\n",
              "      <td>NaN</td>\n",
              "    </tr>\n",
              "    <tr>\n",
              "      <th>2</th>\n",
              "      <td>-2.0</td>\n",
              "      <td>-2.0</td>\n",
              "      <td>-2.0</td>\n",
              "      <td>-2.0</td>\n",
              "      <td>NaN</td>\n",
              "    </tr>\n",
              "    <tr>\n",
              "      <th>3</th>\n",
              "      <td>NaN</td>\n",
              "      <td>NaN</td>\n",
              "      <td>NaN</td>\n",
              "      <td>NaN</td>\n",
              "      <td>NaN</td>\n",
              "    </tr>\n",
              "  </tbody>\n",
              "</table>\n",
              "</div>"
            ],
            "text/plain": [
              "     a    b    c    d   e\n",
              "0  0.0  0.0  0.0  0.0 NaN\n",
              "1 -1.0  NaN -1.0 -1.0 NaN\n",
              "2 -2.0 -2.0 -2.0 -2.0 NaN\n",
              "3  NaN  NaN  NaN  NaN NaN"
            ]
          },
          "metadata": {
            "tags": []
          },
          "execution_count": 239
        }
      ]
    },
    {
      "cell_type": "code",
      "metadata": {
        "colab": {
          "base_uri": "https://localhost:8080/",
          "height": 0
        },
        "id": "UDUoB73gCMJY",
        "outputId": "8633091f-61ed-47e9-8e21-252eab3c3564"
      },
      "source": [
        "df5.sub(df6, fill_value=0)"
      ],
      "execution_count": 240,
      "outputs": [
        {
          "output_type": "execute_result",
          "data": {
            "text/html": [
              "<div>\n",
              "<style scoped>\n",
              "    .dataframe tbody tr th:only-of-type {\n",
              "        vertical-align: middle;\n",
              "    }\n",
              "\n",
              "    .dataframe tbody tr th {\n",
              "        vertical-align: top;\n",
              "    }\n",
              "\n",
              "    .dataframe thead th {\n",
              "        text-align: right;\n",
              "    }\n",
              "</style>\n",
              "<table border=\"1\" class=\"dataframe\">\n",
              "  <thead>\n",
              "    <tr style=\"text-align: right;\">\n",
              "      <th></th>\n",
              "      <th>a</th>\n",
              "      <th>b</th>\n",
              "      <th>c</th>\n",
              "      <th>d</th>\n",
              "      <th>e</th>\n",
              "    </tr>\n",
              "  </thead>\n",
              "  <tbody>\n",
              "    <tr>\n",
              "      <th>0</th>\n",
              "      <td>0.0</td>\n",
              "      <td>0.0</td>\n",
              "      <td>0.0</td>\n",
              "      <td>0.0</td>\n",
              "      <td>-4.0</td>\n",
              "    </tr>\n",
              "    <tr>\n",
              "      <th>1</th>\n",
              "      <td>-1.0</td>\n",
              "      <td>5.0</td>\n",
              "      <td>-1.0</td>\n",
              "      <td>-1.0</td>\n",
              "      <td>-9.0</td>\n",
              "    </tr>\n",
              "    <tr>\n",
              "      <th>2</th>\n",
              "      <td>-2.0</td>\n",
              "      <td>-2.0</td>\n",
              "      <td>-2.0</td>\n",
              "      <td>-2.0</td>\n",
              "      <td>-14.0</td>\n",
              "    </tr>\n",
              "    <tr>\n",
              "      <th>3</th>\n",
              "      <td>-15.0</td>\n",
              "      <td>-16.0</td>\n",
              "      <td>-17.0</td>\n",
              "      <td>-18.0</td>\n",
              "      <td>-19.0</td>\n",
              "    </tr>\n",
              "  </tbody>\n",
              "</table>\n",
              "</div>"
            ],
            "text/plain": [
              "      a     b     c     d     e\n",
              "0   0.0   0.0   0.0   0.0  -4.0\n",
              "1  -1.0   5.0  -1.0  -1.0  -9.0\n",
              "2  -2.0  -2.0  -2.0  -2.0 -14.0\n",
              "3 -15.0 -16.0 -17.0 -18.0 -19.0"
            ]
          },
          "metadata": {
            "tags": []
          },
          "execution_count": 240
        }
      ]
    },
    {
      "cell_type": "code",
      "metadata": {
        "colab": {
          "base_uri": "https://localhost:8080/",
          "height": 0
        },
        "id": "hkAiPlsZHEVm",
        "outputId": "e1f3083b-21a7-4405-9c41-ec102cd697c3"
      },
      "source": [
        "df5/df6"
      ],
      "execution_count": 241,
      "outputs": [
        {
          "output_type": "execute_result",
          "data": {
            "text/html": [
              "<div>\n",
              "<style scoped>\n",
              "    .dataframe tbody tr th:only-of-type {\n",
              "        vertical-align: middle;\n",
              "    }\n",
              "\n",
              "    .dataframe tbody tr th {\n",
              "        vertical-align: top;\n",
              "    }\n",
              "\n",
              "    .dataframe thead th {\n",
              "        text-align: right;\n",
              "    }\n",
              "</style>\n",
              "<table border=\"1\" class=\"dataframe\">\n",
              "  <thead>\n",
              "    <tr style=\"text-align: right;\">\n",
              "      <th></th>\n",
              "      <th>a</th>\n",
              "      <th>b</th>\n",
              "      <th>c</th>\n",
              "      <th>d</th>\n",
              "      <th>e</th>\n",
              "    </tr>\n",
              "  </thead>\n",
              "  <tbody>\n",
              "    <tr>\n",
              "      <th>0</th>\n",
              "      <td>NaN</td>\n",
              "      <td>1.000000</td>\n",
              "      <td>1.000000</td>\n",
              "      <td>1.000000</td>\n",
              "      <td>NaN</td>\n",
              "    </tr>\n",
              "    <tr>\n",
              "      <th>1</th>\n",
              "      <td>0.8</td>\n",
              "      <td>NaN</td>\n",
              "      <td>0.857143</td>\n",
              "      <td>0.875000</td>\n",
              "      <td>NaN</td>\n",
              "    </tr>\n",
              "    <tr>\n",
              "      <th>2</th>\n",
              "      <td>0.8</td>\n",
              "      <td>0.818182</td>\n",
              "      <td>0.833333</td>\n",
              "      <td>0.846154</td>\n",
              "      <td>NaN</td>\n",
              "    </tr>\n",
              "    <tr>\n",
              "      <th>3</th>\n",
              "      <td>NaN</td>\n",
              "      <td>NaN</td>\n",
              "      <td>NaN</td>\n",
              "      <td>NaN</td>\n",
              "      <td>NaN</td>\n",
              "    </tr>\n",
              "  </tbody>\n",
              "</table>\n",
              "</div>"
            ],
            "text/plain": [
              "     a         b         c         d   e\n",
              "0  NaN  1.000000  1.000000  1.000000 NaN\n",
              "1  0.8       NaN  0.857143  0.875000 NaN\n",
              "2  0.8  0.818182  0.833333  0.846154 NaN\n",
              "3  NaN       NaN       NaN       NaN NaN"
            ]
          },
          "metadata": {
            "tags": []
          },
          "execution_count": 241
        }
      ]
    },
    {
      "cell_type": "code",
      "metadata": {
        "colab": {
          "base_uri": "https://localhost:8080/",
          "height": 0
        },
        "id": "D51em-p7HJ4y",
        "outputId": "71aa745a-3308-4b96-ffec-64e22bd7c5e1"
      },
      "source": [
        "df5.div(df6, fill_value=0)"
      ],
      "execution_count": 242,
      "outputs": [
        {
          "output_type": "execute_result",
          "data": {
            "text/html": [
              "<div>\n",
              "<style scoped>\n",
              "    .dataframe tbody tr th:only-of-type {\n",
              "        vertical-align: middle;\n",
              "    }\n",
              "\n",
              "    .dataframe tbody tr th {\n",
              "        vertical-align: top;\n",
              "    }\n",
              "\n",
              "    .dataframe thead th {\n",
              "        text-align: right;\n",
              "    }\n",
              "</style>\n",
              "<table border=\"1\" class=\"dataframe\">\n",
              "  <thead>\n",
              "    <tr style=\"text-align: right;\">\n",
              "      <th></th>\n",
              "      <th>a</th>\n",
              "      <th>b</th>\n",
              "      <th>c</th>\n",
              "      <th>d</th>\n",
              "      <th>e</th>\n",
              "    </tr>\n",
              "  </thead>\n",
              "  <tbody>\n",
              "    <tr>\n",
              "      <th>0</th>\n",
              "      <td>NaN</td>\n",
              "      <td>1.000000</td>\n",
              "      <td>1.000000</td>\n",
              "      <td>1.000000</td>\n",
              "      <td>0.0</td>\n",
              "    </tr>\n",
              "    <tr>\n",
              "      <th>1</th>\n",
              "      <td>0.8</td>\n",
              "      <td>inf</td>\n",
              "      <td>0.857143</td>\n",
              "      <td>0.875000</td>\n",
              "      <td>0.0</td>\n",
              "    </tr>\n",
              "    <tr>\n",
              "      <th>2</th>\n",
              "      <td>0.8</td>\n",
              "      <td>0.818182</td>\n",
              "      <td>0.833333</td>\n",
              "      <td>0.846154</td>\n",
              "      <td>0.0</td>\n",
              "    </tr>\n",
              "    <tr>\n",
              "      <th>3</th>\n",
              "      <td>0.0</td>\n",
              "      <td>0.000000</td>\n",
              "      <td>0.000000</td>\n",
              "      <td>0.000000</td>\n",
              "      <td>0.0</td>\n",
              "    </tr>\n",
              "  </tbody>\n",
              "</table>\n",
              "</div>"
            ],
            "text/plain": [
              "     a         b         c         d    e\n",
              "0  NaN  1.000000  1.000000  1.000000  0.0\n",
              "1  0.8       inf  0.857143  0.875000  0.0\n",
              "2  0.8  0.818182  0.833333  0.846154  0.0\n",
              "3  0.0  0.000000  0.000000  0.000000  0.0"
            ]
          },
          "metadata": {
            "tags": []
          },
          "execution_count": 242
        }
      ]
    },
    {
      "cell_type": "code",
      "metadata": {
        "id": "2sKN7c2YHjwX",
        "colab": {
          "base_uri": "https://localhost:8080/",
          "height": 0
        },
        "outputId": "a543b5b5-f82b-405a-880a-4f7cbf3d1a9d"
      },
      "source": [
        "df6.pow(2)"
      ],
      "execution_count": 243,
      "outputs": [
        {
          "output_type": "execute_result",
          "data": {
            "text/html": [
              "<div>\n",
              "<style scoped>\n",
              "    .dataframe tbody tr th:only-of-type {\n",
              "        vertical-align: middle;\n",
              "    }\n",
              "\n",
              "    .dataframe tbody tr th {\n",
              "        vertical-align: top;\n",
              "    }\n",
              "\n",
              "    .dataframe thead th {\n",
              "        text-align: right;\n",
              "    }\n",
              "</style>\n",
              "<table border=\"1\" class=\"dataframe\">\n",
              "  <thead>\n",
              "    <tr style=\"text-align: right;\">\n",
              "      <th></th>\n",
              "      <th>a</th>\n",
              "      <th>b</th>\n",
              "      <th>c</th>\n",
              "      <th>d</th>\n",
              "      <th>e</th>\n",
              "    </tr>\n",
              "  </thead>\n",
              "  <tbody>\n",
              "    <tr>\n",
              "      <th>0</th>\n",
              "      <td>0.0</td>\n",
              "      <td>1.0</td>\n",
              "      <td>4.0</td>\n",
              "      <td>9.0</td>\n",
              "      <td>16.0</td>\n",
              "    </tr>\n",
              "    <tr>\n",
              "      <th>1</th>\n",
              "      <td>25.0</td>\n",
              "      <td>NaN</td>\n",
              "      <td>49.0</td>\n",
              "      <td>64.0</td>\n",
              "      <td>81.0</td>\n",
              "    </tr>\n",
              "    <tr>\n",
              "      <th>2</th>\n",
              "      <td>100.0</td>\n",
              "      <td>121.0</td>\n",
              "      <td>144.0</td>\n",
              "      <td>169.0</td>\n",
              "      <td>196.0</td>\n",
              "    </tr>\n",
              "    <tr>\n",
              "      <th>3</th>\n",
              "      <td>225.0</td>\n",
              "      <td>256.0</td>\n",
              "      <td>289.0</td>\n",
              "      <td>324.0</td>\n",
              "      <td>361.0</td>\n",
              "    </tr>\n",
              "  </tbody>\n",
              "</table>\n",
              "</div>"
            ],
            "text/plain": [
              "       a      b      c      d      e\n",
              "0    0.0    1.0    4.0    9.0   16.0\n",
              "1   25.0    NaN   49.0   64.0   81.0\n",
              "2  100.0  121.0  144.0  169.0  196.0\n",
              "3  225.0  256.0  289.0  324.0  361.0"
            ]
          },
          "metadata": {
            "tags": []
          },
          "execution_count": 243
        }
      ]
    },
    {
      "cell_type": "code",
      "metadata": {
        "colab": {
          "base_uri": "https://localhost:8080/",
          "height": 0
        },
        "id": "_oBDrtxJTzIj",
        "outputId": "7627d3be-7bc9-4200-c7a7-e9d84f92c3cb"
      },
      "source": [
        "df6**2"
      ],
      "execution_count": 244,
      "outputs": [
        {
          "output_type": "execute_result",
          "data": {
            "text/html": [
              "<div>\n",
              "<style scoped>\n",
              "    .dataframe tbody tr th:only-of-type {\n",
              "        vertical-align: middle;\n",
              "    }\n",
              "\n",
              "    .dataframe tbody tr th {\n",
              "        vertical-align: top;\n",
              "    }\n",
              "\n",
              "    .dataframe thead th {\n",
              "        text-align: right;\n",
              "    }\n",
              "</style>\n",
              "<table border=\"1\" class=\"dataframe\">\n",
              "  <thead>\n",
              "    <tr style=\"text-align: right;\">\n",
              "      <th></th>\n",
              "      <th>a</th>\n",
              "      <th>b</th>\n",
              "      <th>c</th>\n",
              "      <th>d</th>\n",
              "      <th>e</th>\n",
              "    </tr>\n",
              "  </thead>\n",
              "  <tbody>\n",
              "    <tr>\n",
              "      <th>0</th>\n",
              "      <td>0.0</td>\n",
              "      <td>1.0</td>\n",
              "      <td>4.0</td>\n",
              "      <td>9.0</td>\n",
              "      <td>16.0</td>\n",
              "    </tr>\n",
              "    <tr>\n",
              "      <th>1</th>\n",
              "      <td>25.0</td>\n",
              "      <td>NaN</td>\n",
              "      <td>49.0</td>\n",
              "      <td>64.0</td>\n",
              "      <td>81.0</td>\n",
              "    </tr>\n",
              "    <tr>\n",
              "      <th>2</th>\n",
              "      <td>100.0</td>\n",
              "      <td>121.0</td>\n",
              "      <td>144.0</td>\n",
              "      <td>169.0</td>\n",
              "      <td>196.0</td>\n",
              "    </tr>\n",
              "    <tr>\n",
              "      <th>3</th>\n",
              "      <td>225.0</td>\n",
              "      <td>256.0</td>\n",
              "      <td>289.0</td>\n",
              "      <td>324.0</td>\n",
              "      <td>361.0</td>\n",
              "    </tr>\n",
              "  </tbody>\n",
              "</table>\n",
              "</div>"
            ],
            "text/plain": [
              "       a      b      c      d      e\n",
              "0    0.0    1.0    4.0    9.0   16.0\n",
              "1   25.0    NaN   49.0   64.0   81.0\n",
              "2  100.0  121.0  144.0  169.0  196.0\n",
              "3  225.0  256.0  289.0  324.0  361.0"
            ]
          },
          "metadata": {
            "tags": []
          },
          "execution_count": 244
        }
      ]
    },
    {
      "cell_type": "markdown",
      "metadata": {
        "id": "ySxvNyCtYS_O"
      },
      "source": [
        "Equivalente a df-df, df+df, df*df, df**2, df/df , mas com suporte para substituir um fill_value para dados ausentes em uma das entradas."
      ]
    },
    {
      "cell_type": "markdown",
      "metadata": {
        "id": "TykYb_aG-Cof"
      },
      "source": [
        "###***Broadcasting* de arrays:**"
      ]
    },
    {
      "cell_type": "code",
      "metadata": {
        "colab": {
          "base_uri": "https://localhost:8080/"
        },
        "id": "6f8GWQwE68Yd",
        "outputId": "fb1b0d9d-3c89-4d6f-d04a-e49a82375216"
      },
      "source": [
        "arr = np.arange(1, 21).reshape((5, 4))\n",
        "arr"
      ],
      "execution_count": 245,
      "outputs": [
        {
          "output_type": "execute_result",
          "data": {
            "text/plain": [
              "array([[ 1,  2,  3,  4],\n",
              "       [ 5,  6,  7,  8],\n",
              "       [ 9, 10, 11, 12],\n",
              "       [13, 14, 15, 16],\n",
              "       [17, 18, 19, 20]])"
            ]
          },
          "metadata": {
            "tags": []
          },
          "execution_count": 245
        }
      ]
    },
    {
      "cell_type": "code",
      "metadata": {
        "colab": {
          "base_uri": "https://localhost:8080/"
        },
        "id": "alj0ddHu9gr6",
        "outputId": "fd3aed18-0ec0-4685-a504-902417f5c3b2"
      },
      "source": [
        "arr[0]"
      ],
      "execution_count": 246,
      "outputs": [
        {
          "output_type": "execute_result",
          "data": {
            "text/plain": [
              "array([1, 2, 3, 4])"
            ]
          },
          "metadata": {
            "tags": []
          },
          "execution_count": 246
        }
      ]
    },
    {
      "cell_type": "code",
      "metadata": {
        "colab": {
          "base_uri": "https://localhost:8080/"
        },
        "id": "m12FQEz89ixd",
        "outputId": "d520f0a8-b42a-4b70-b896-3947167b4da7"
      },
      "source": [
        "arr-arr[0]"
      ],
      "execution_count": 247,
      "outputs": [
        {
          "output_type": "execute_result",
          "data": {
            "text/plain": [
              "array([[ 0,  0,  0,  0],\n",
              "       [ 4,  4,  4,  4],\n",
              "       [ 8,  8,  8,  8],\n",
              "       [12, 12, 12, 12],\n",
              "       [16, 16, 16, 16]])"
            ]
          },
          "metadata": {
            "tags": []
          },
          "execution_count": 247
        }
      ]
    },
    {
      "cell_type": "markdown",
      "metadata": {
        "id": "hYF2VaPn-df0"
      },
      "source": [
        "Obs: Quando arr - arr[0], df-series, a subtração é realizada uma vez\n",
        "para cada linha."
      ]
    },
    {
      "cell_type": "code",
      "metadata": {
        "colab": {
          "base_uri": "https://localhost:8080/",
          "height": 0
        },
        "id": "4oXd4Aq4-CKP",
        "outputId": "1f4c5adf-d967-4f97-edf3-100ad9ca977e"
      },
      "source": [
        "frame = pd.DataFrame(np.arange(12.).reshape((4, 3)), columns=list('bde'), index=['Utah', 'Ohio', 'Texas', 'Oregon'])\n",
        "frame"
      ],
      "execution_count": 248,
      "outputs": [
        {
          "output_type": "execute_result",
          "data": {
            "text/html": [
              "<div>\n",
              "<style scoped>\n",
              "    .dataframe tbody tr th:only-of-type {\n",
              "        vertical-align: middle;\n",
              "    }\n",
              "\n",
              "    .dataframe tbody tr th {\n",
              "        vertical-align: top;\n",
              "    }\n",
              "\n",
              "    .dataframe thead th {\n",
              "        text-align: right;\n",
              "    }\n",
              "</style>\n",
              "<table border=\"1\" class=\"dataframe\">\n",
              "  <thead>\n",
              "    <tr style=\"text-align: right;\">\n",
              "      <th></th>\n",
              "      <th>b</th>\n",
              "      <th>d</th>\n",
              "      <th>e</th>\n",
              "    </tr>\n",
              "  </thead>\n",
              "  <tbody>\n",
              "    <tr>\n",
              "      <th>Utah</th>\n",
              "      <td>0.0</td>\n",
              "      <td>1.0</td>\n",
              "      <td>2.0</td>\n",
              "    </tr>\n",
              "    <tr>\n",
              "      <th>Ohio</th>\n",
              "      <td>3.0</td>\n",
              "      <td>4.0</td>\n",
              "      <td>5.0</td>\n",
              "    </tr>\n",
              "    <tr>\n",
              "      <th>Texas</th>\n",
              "      <td>6.0</td>\n",
              "      <td>7.0</td>\n",
              "      <td>8.0</td>\n",
              "    </tr>\n",
              "    <tr>\n",
              "      <th>Oregon</th>\n",
              "      <td>9.0</td>\n",
              "      <td>10.0</td>\n",
              "      <td>11.0</td>\n",
              "    </tr>\n",
              "  </tbody>\n",
              "</table>\n",
              "</div>"
            ],
            "text/plain": [
              "          b     d     e\n",
              "Utah    0.0   1.0   2.0\n",
              "Ohio    3.0   4.0   5.0\n",
              "Texas   6.0   7.0   8.0\n",
              "Oregon  9.0  10.0  11.0"
            ]
          },
          "metadata": {
            "tags": []
          },
          "execution_count": 248
        }
      ]
    },
    {
      "cell_type": "code",
      "metadata": {
        "colab": {
          "base_uri": "https://localhost:8080/"
        },
        "id": "abWV-FObFAk3",
        "outputId": "5d92e1f1-3db1-4f7b-9d54-372989dea869"
      },
      "source": [
        "series = frame.iloc[0]\n",
        "series"
      ],
      "execution_count": 249,
      "outputs": [
        {
          "output_type": "execute_result",
          "data": {
            "text/plain": [
              "b    0.0\n",
              "d    1.0\n",
              "e    2.0\n",
              "Name: Utah, dtype: float64"
            ]
          },
          "metadata": {
            "tags": []
          },
          "execution_count": 249
        }
      ]
    },
    {
      "cell_type": "code",
      "metadata": {
        "colab": {
          "base_uri": "https://localhost:8080/"
        },
        "id": "U0fFOG7-GxnH",
        "outputId": "407ca619-0e08-4bc5-834f-0f932a97a085"
      },
      "source": [
        "series2 = pd.Series(range(3), index=['b', 'e', 'f'])\n",
        "series2"
      ],
      "execution_count": 250,
      "outputs": [
        {
          "output_type": "execute_result",
          "data": {
            "text/plain": [
              "b    0\n",
              "e    1\n",
              "f    2\n",
              "dtype: int64"
            ]
          },
          "metadata": {
            "tags": []
          },
          "execution_count": 250
        }
      ]
    },
    {
      "cell_type": "code",
      "metadata": {
        "colab": {
          "base_uri": "https://localhost:8080/",
          "height": 0
        },
        "id": "FQMLu9N3FyAT",
        "outputId": "35f8cfbb-cb84-4d69-9566-49752ec5d91f"
      },
      "source": [
        "frame - series"
      ],
      "execution_count": 251,
      "outputs": [
        {
          "output_type": "execute_result",
          "data": {
            "text/html": [
              "<div>\n",
              "<style scoped>\n",
              "    .dataframe tbody tr th:only-of-type {\n",
              "        vertical-align: middle;\n",
              "    }\n",
              "\n",
              "    .dataframe tbody tr th {\n",
              "        vertical-align: top;\n",
              "    }\n",
              "\n",
              "    .dataframe thead th {\n",
              "        text-align: right;\n",
              "    }\n",
              "</style>\n",
              "<table border=\"1\" class=\"dataframe\">\n",
              "  <thead>\n",
              "    <tr style=\"text-align: right;\">\n",
              "      <th></th>\n",
              "      <th>b</th>\n",
              "      <th>d</th>\n",
              "      <th>e</th>\n",
              "    </tr>\n",
              "  </thead>\n",
              "  <tbody>\n",
              "    <tr>\n",
              "      <th>Utah</th>\n",
              "      <td>0.0</td>\n",
              "      <td>0.0</td>\n",
              "      <td>0.0</td>\n",
              "    </tr>\n",
              "    <tr>\n",
              "      <th>Ohio</th>\n",
              "      <td>3.0</td>\n",
              "      <td>3.0</td>\n",
              "      <td>3.0</td>\n",
              "    </tr>\n",
              "    <tr>\n",
              "      <th>Texas</th>\n",
              "      <td>6.0</td>\n",
              "      <td>6.0</td>\n",
              "      <td>6.0</td>\n",
              "    </tr>\n",
              "    <tr>\n",
              "      <th>Oregon</th>\n",
              "      <td>9.0</td>\n",
              "      <td>9.0</td>\n",
              "      <td>9.0</td>\n",
              "    </tr>\n",
              "  </tbody>\n",
              "</table>\n",
              "</div>"
            ],
            "text/plain": [
              "          b    d    e\n",
              "Utah    0.0  0.0  0.0\n",
              "Ohio    3.0  3.0  3.0\n",
              "Texas   6.0  6.0  6.0\n",
              "Oregon  9.0  9.0  9.0"
            ]
          },
          "metadata": {
            "tags": []
          },
          "execution_count": 251
        }
      ]
    },
    {
      "cell_type": "markdown",
      "metadata": {
        "id": "80vJra99IU77"
      },
      "source": [
        "Obs: Se o valor de um índice não for encontrado nas colunas do\n",
        "DataFrame nem no índice de Series, ele faz um join"
      ]
    },
    {
      "cell_type": "code",
      "metadata": {
        "colab": {
          "base_uri": "https://localhost:8080/",
          "height": 0
        },
        "id": "hdlLWRdiG1oR",
        "outputId": "df66116e-b78e-432f-d28e-2c851ec037da"
      },
      "source": [
        "frame - series2"
      ],
      "execution_count": 252,
      "outputs": [
        {
          "output_type": "execute_result",
          "data": {
            "text/html": [
              "<div>\n",
              "<style scoped>\n",
              "    .dataframe tbody tr th:only-of-type {\n",
              "        vertical-align: middle;\n",
              "    }\n",
              "\n",
              "    .dataframe tbody tr th {\n",
              "        vertical-align: top;\n",
              "    }\n",
              "\n",
              "    .dataframe thead th {\n",
              "        text-align: right;\n",
              "    }\n",
              "</style>\n",
              "<table border=\"1\" class=\"dataframe\">\n",
              "  <thead>\n",
              "    <tr style=\"text-align: right;\">\n",
              "      <th></th>\n",
              "      <th>b</th>\n",
              "      <th>d</th>\n",
              "      <th>e</th>\n",
              "      <th>f</th>\n",
              "    </tr>\n",
              "  </thead>\n",
              "  <tbody>\n",
              "    <tr>\n",
              "      <th>Utah</th>\n",
              "      <td>0.0</td>\n",
              "      <td>NaN</td>\n",
              "      <td>1.0</td>\n",
              "      <td>NaN</td>\n",
              "    </tr>\n",
              "    <tr>\n",
              "      <th>Ohio</th>\n",
              "      <td>3.0</td>\n",
              "      <td>NaN</td>\n",
              "      <td>4.0</td>\n",
              "      <td>NaN</td>\n",
              "    </tr>\n",
              "    <tr>\n",
              "      <th>Texas</th>\n",
              "      <td>6.0</td>\n",
              "      <td>NaN</td>\n",
              "      <td>7.0</td>\n",
              "      <td>NaN</td>\n",
              "    </tr>\n",
              "    <tr>\n",
              "      <th>Oregon</th>\n",
              "      <td>9.0</td>\n",
              "      <td>NaN</td>\n",
              "      <td>10.0</td>\n",
              "      <td>NaN</td>\n",
              "    </tr>\n",
              "  </tbody>\n",
              "</table>\n",
              "</div>"
            ],
            "text/plain": [
              "          b   d     e   f\n",
              "Utah    0.0 NaN   1.0 NaN\n",
              "Ohio    3.0 NaN   4.0 NaN\n",
              "Texas   6.0 NaN   7.0 NaN\n",
              "Oregon  9.0 NaN  10.0 NaN"
            ]
          },
          "metadata": {
            "tags": []
          },
          "execution_count": 252
        }
      ]
    },
    {
      "cell_type": "markdown",
      "metadata": {
        "id": "ROCl2WBONgzS"
      },
      "source": [
        "***Broadcasting* pelas colunas:**"
      ]
    },
    {
      "cell_type": "code",
      "metadata": {
        "colab": {
          "base_uri": "https://localhost:8080/"
        },
        "id": "ERRzWYgaIbCu",
        "outputId": "65cb0465-ee21-484f-80be-d1e3f506b479"
      },
      "source": [
        "series3 = frame.d\n",
        "series3"
      ],
      "execution_count": 253,
      "outputs": [
        {
          "output_type": "execute_result",
          "data": {
            "text/plain": [
              "Utah       1.0\n",
              "Ohio       4.0\n",
              "Texas      7.0\n",
              "Oregon    10.0\n",
              "Name: d, dtype: float64"
            ]
          },
          "metadata": {
            "tags": []
          },
          "execution_count": 253
        }
      ]
    },
    {
      "cell_type": "code",
      "metadata": {
        "colab": {
          "base_uri": "https://localhost:8080/",
          "height": 0
        },
        "id": "-2fJp5YTJXBX",
        "outputId": "21bc8cc8-c4e6-4c2b-e6cf-f8692a311a70"
      },
      "source": [
        "frame.sub(series3, axis=0)"
      ],
      "execution_count": 254,
      "outputs": [
        {
          "output_type": "execute_result",
          "data": {
            "text/html": [
              "<div>\n",
              "<style scoped>\n",
              "    .dataframe tbody tr th:only-of-type {\n",
              "        vertical-align: middle;\n",
              "    }\n",
              "\n",
              "    .dataframe tbody tr th {\n",
              "        vertical-align: top;\n",
              "    }\n",
              "\n",
              "    .dataframe thead th {\n",
              "        text-align: right;\n",
              "    }\n",
              "</style>\n",
              "<table border=\"1\" class=\"dataframe\">\n",
              "  <thead>\n",
              "    <tr style=\"text-align: right;\">\n",
              "      <th></th>\n",
              "      <th>b</th>\n",
              "      <th>d</th>\n",
              "      <th>e</th>\n",
              "    </tr>\n",
              "  </thead>\n",
              "  <tbody>\n",
              "    <tr>\n",
              "      <th>Utah</th>\n",
              "      <td>-1.0</td>\n",
              "      <td>0.0</td>\n",
              "      <td>1.0</td>\n",
              "    </tr>\n",
              "    <tr>\n",
              "      <th>Ohio</th>\n",
              "      <td>-1.0</td>\n",
              "      <td>0.0</td>\n",
              "      <td>1.0</td>\n",
              "    </tr>\n",
              "    <tr>\n",
              "      <th>Texas</th>\n",
              "      <td>-1.0</td>\n",
              "      <td>0.0</td>\n",
              "      <td>1.0</td>\n",
              "    </tr>\n",
              "    <tr>\n",
              "      <th>Oregon</th>\n",
              "      <td>-1.0</td>\n",
              "      <td>0.0</td>\n",
              "      <td>1.0</td>\n",
              "    </tr>\n",
              "  </tbody>\n",
              "</table>\n",
              "</div>"
            ],
            "text/plain": [
              "          b    d    e\n",
              "Utah   -1.0  0.0  1.0\n",
              "Ohio   -1.0  0.0  1.0\n",
              "Texas  -1.0  0.0  1.0\n",
              "Oregon -1.0  0.0  1.0"
            ]
          },
          "metadata": {
            "tags": []
          },
          "execution_count": 254
        }
      ]
    },
    {
      "cell_type": "markdown",
      "metadata": {
        "id": "yFMNAuiVumYr"
      },
      "source": [
        "### **Funções e Mapeamento:**"
      ]
    },
    {
      "cell_type": "code",
      "metadata": {
        "colab": {
          "base_uri": "https://localhost:8080/",
          "height": 0
        },
        "id": "Oc4c5bMkPcwT",
        "outputId": "7e8813a4-6fb5-48a9-b214-5560a04bc45d"
      },
      "source": [
        "frame2 = pd.DataFrame(np.random.randn(4, 3), columns=list('bde'), index=['Utah', 'Ohio', 'Texas', 'Oregon'])\n",
        "frame2"
      ],
      "execution_count": 255,
      "outputs": [
        {
          "output_type": "execute_result",
          "data": {
            "text/html": [
              "<div>\n",
              "<style scoped>\n",
              "    .dataframe tbody tr th:only-of-type {\n",
              "        vertical-align: middle;\n",
              "    }\n",
              "\n",
              "    .dataframe tbody tr th {\n",
              "        vertical-align: top;\n",
              "    }\n",
              "\n",
              "    .dataframe thead th {\n",
              "        text-align: right;\n",
              "    }\n",
              "</style>\n",
              "<table border=\"1\" class=\"dataframe\">\n",
              "  <thead>\n",
              "    <tr style=\"text-align: right;\">\n",
              "      <th></th>\n",
              "      <th>b</th>\n",
              "      <th>d</th>\n",
              "      <th>e</th>\n",
              "    </tr>\n",
              "  </thead>\n",
              "  <tbody>\n",
              "    <tr>\n",
              "      <th>Utah</th>\n",
              "      <td>0.546295</td>\n",
              "      <td>-0.031319</td>\n",
              "      <td>0.034888</td>\n",
              "    </tr>\n",
              "    <tr>\n",
              "      <th>Ohio</th>\n",
              "      <td>0.235185</td>\n",
              "      <td>-0.589563</td>\n",
              "      <td>-0.448273</td>\n",
              "    </tr>\n",
              "    <tr>\n",
              "      <th>Texas</th>\n",
              "      <td>0.423013</td>\n",
              "      <td>-1.590110</td>\n",
              "      <td>0.839312</td>\n",
              "    </tr>\n",
              "    <tr>\n",
              "      <th>Oregon</th>\n",
              "      <td>-0.147139</td>\n",
              "      <td>0.323164</td>\n",
              "      <td>1.202376</td>\n",
              "    </tr>\n",
              "  </tbody>\n",
              "</table>\n",
              "</div>"
            ],
            "text/plain": [
              "               b         d         e\n",
              "Utah    0.546295 -0.031319  0.034888\n",
              "Ohio    0.235185 -0.589563 -0.448273\n",
              "Texas   0.423013 -1.590110  0.839312\n",
              "Oregon -0.147139  0.323164  1.202376"
            ]
          },
          "metadata": {
            "tags": []
          },
          "execution_count": 255
        }
      ]
    },
    {
      "cell_type": "code",
      "metadata": {
        "id": "2NICX1mAPi2z"
      },
      "source": [
        "f = lambda x: x.max() - x.min()"
      ],
      "execution_count": 256,
      "outputs": []
    },
    {
      "cell_type": "markdown",
      "metadata": {
        "id": "TSyn3iWlu8fQ"
      },
      "source": [
        "Obs: **Apply** aplica a função **ao longo de um eixo**, já **applymap** aplica uma função ao DataFrame **elemento a elemento**"
      ]
    },
    {
      "cell_type": "code",
      "metadata": {
        "colab": {
          "base_uri": "https://localhost:8080/"
        },
        "id": "zrNBuVJ-P2Fz",
        "outputId": "d334db9e-d28c-4981-f26f-cfcada9eee00"
      },
      "source": [
        "frame2.apply(f, axis=0)"
      ],
      "execution_count": 257,
      "outputs": [
        {
          "output_type": "execute_result",
          "data": {
            "text/plain": [
              "b    0.693434\n",
              "d    1.913274\n",
              "e    1.650649\n",
              "dtype: float64"
            ]
          },
          "metadata": {
            "tags": []
          },
          "execution_count": 257
        }
      ]
    },
    {
      "cell_type": "code",
      "metadata": {
        "colab": {
          "base_uri": "https://localhost:8080/"
        },
        "id": "VAQEwDhvQwpv",
        "outputId": "92eb8135-ed2d-4268-e0d9-e876af82ce5a"
      },
      "source": [
        "frame2.apply(f, axis=1)"
      ],
      "execution_count": 258,
      "outputs": [
        {
          "output_type": "execute_result",
          "data": {
            "text/plain": [
              "Utah      0.577614\n",
              "Ohio      0.824748\n",
              "Texas     2.429422\n",
              "Oregon    1.349515\n",
              "dtype: float64"
            ]
          },
          "metadata": {
            "tags": []
          },
          "execution_count": 258
        }
      ]
    },
    {
      "cell_type": "code",
      "metadata": {
        "id": "39WCdgyQSJIW"
      },
      "source": [
        "def y(x):\n",
        "  return pd.Series([x.min(), x.max(), (x.min()-x.max()), x.std(), x.mean()], index= ['min', 'max', 'max - min', 'std', 'avg'])"
      ],
      "execution_count": 259,
      "outputs": []
    },
    {
      "cell_type": "code",
      "metadata": {
        "colab": {
          "base_uri": "https://localhost:8080/",
          "height": 0
        },
        "id": "rZSRieM2S131",
        "outputId": "48f942ee-3d82-4190-f97b-d5703d9cf6ac"
      },
      "source": [
        "frame2.apply(y)"
      ],
      "execution_count": 260,
      "outputs": [
        {
          "output_type": "execute_result",
          "data": {
            "text/html": [
              "<div>\n",
              "<style scoped>\n",
              "    .dataframe tbody tr th:only-of-type {\n",
              "        vertical-align: middle;\n",
              "    }\n",
              "\n",
              "    .dataframe tbody tr th {\n",
              "        vertical-align: top;\n",
              "    }\n",
              "\n",
              "    .dataframe thead th {\n",
              "        text-align: right;\n",
              "    }\n",
              "</style>\n",
              "<table border=\"1\" class=\"dataframe\">\n",
              "  <thead>\n",
              "    <tr style=\"text-align: right;\">\n",
              "      <th></th>\n",
              "      <th>b</th>\n",
              "      <th>d</th>\n",
              "      <th>e</th>\n",
              "    </tr>\n",
              "  </thead>\n",
              "  <tbody>\n",
              "    <tr>\n",
              "      <th>min</th>\n",
              "      <td>-0.147139</td>\n",
              "      <td>-1.590110</td>\n",
              "      <td>-0.448273</td>\n",
              "    </tr>\n",
              "    <tr>\n",
              "      <th>max</th>\n",
              "      <td>0.546295</td>\n",
              "      <td>0.323164</td>\n",
              "      <td>1.202376</td>\n",
              "    </tr>\n",
              "    <tr>\n",
              "      <th>max - min</th>\n",
              "      <td>-0.693434</td>\n",
              "      <td>-1.913274</td>\n",
              "      <td>-1.650649</td>\n",
              "    </tr>\n",
              "    <tr>\n",
              "      <th>std</th>\n",
              "      <td>0.302677</td>\n",
              "      <td>0.834761</td>\n",
              "      <td>0.750439</td>\n",
              "    </tr>\n",
              "    <tr>\n",
              "      <th>avg</th>\n",
              "      <td>0.264338</td>\n",
              "      <td>-0.471957</td>\n",
              "      <td>0.407076</td>\n",
              "    </tr>\n",
              "  </tbody>\n",
              "</table>\n",
              "</div>"
            ],
            "text/plain": [
              "                  b         d         e\n",
              "min       -0.147139 -1.590110 -0.448273\n",
              "max        0.546295  0.323164  1.202376\n",
              "max - min -0.693434 -1.913274 -1.650649\n",
              "std        0.302677  0.834761  0.750439\n",
              "avg        0.264338 -0.471957  0.407076"
            ]
          },
          "metadata": {
            "tags": []
          },
          "execution_count": 260
        }
      ]
    },
    {
      "cell_type": "code",
      "metadata": {
        "colab": {
          "base_uri": "https://localhost:8080/",
          "height": 0
        },
        "id": "pofEDJI9sP4H",
        "outputId": "1b42b767-8b4f-423a-8056-a021128ccc48"
      },
      "source": [
        "formatacao = lambda x: '%.2f' %x\n",
        "frame2.applymap(formatacao)"
      ],
      "execution_count": 261,
      "outputs": [
        {
          "output_type": "execute_result",
          "data": {
            "text/html": [
              "<div>\n",
              "<style scoped>\n",
              "    .dataframe tbody tr th:only-of-type {\n",
              "        vertical-align: middle;\n",
              "    }\n",
              "\n",
              "    .dataframe tbody tr th {\n",
              "        vertical-align: top;\n",
              "    }\n",
              "\n",
              "    .dataframe thead th {\n",
              "        text-align: right;\n",
              "    }\n",
              "</style>\n",
              "<table border=\"1\" class=\"dataframe\">\n",
              "  <thead>\n",
              "    <tr style=\"text-align: right;\">\n",
              "      <th></th>\n",
              "      <th>b</th>\n",
              "      <th>d</th>\n",
              "      <th>e</th>\n",
              "    </tr>\n",
              "  </thead>\n",
              "  <tbody>\n",
              "    <tr>\n",
              "      <th>Utah</th>\n",
              "      <td>0.55</td>\n",
              "      <td>-0.03</td>\n",
              "      <td>0.03</td>\n",
              "    </tr>\n",
              "    <tr>\n",
              "      <th>Ohio</th>\n",
              "      <td>0.24</td>\n",
              "      <td>-0.59</td>\n",
              "      <td>-0.45</td>\n",
              "    </tr>\n",
              "    <tr>\n",
              "      <th>Texas</th>\n",
              "      <td>0.42</td>\n",
              "      <td>-1.59</td>\n",
              "      <td>0.84</td>\n",
              "    </tr>\n",
              "    <tr>\n",
              "      <th>Oregon</th>\n",
              "      <td>-0.15</td>\n",
              "      <td>0.32</td>\n",
              "      <td>1.20</td>\n",
              "    </tr>\n",
              "  </tbody>\n",
              "</table>\n",
              "</div>"
            ],
            "text/plain": [
              "            b      d      e\n",
              "Utah     0.55  -0.03   0.03\n",
              "Ohio     0.24  -0.59  -0.45\n",
              "Texas    0.42  -1.59   0.84\n",
              "Oregon  -0.15   0.32   1.20"
            ]
          },
          "metadata": {
            "tags": []
          },
          "execution_count": 261
        }
      ]
    },
    {
      "cell_type": "markdown",
      "metadata": {
        "id": "Hvt_fxpAkkNP"
      },
      "source": [
        "### **Sort e ranqueamento**"
      ]
    },
    {
      "cell_type": "code",
      "metadata": {
        "colab": {
          "base_uri": "https://localhost:8080/"
        },
        "id": "VbAr_zI2wjuq",
        "outputId": "fcc75b5f-cba2-43de-b2c7-f3083c8a362b"
      },
      "source": [
        "obj6 = pd.Series(range(4), index=['d', 'a', 'b', 'c'])\n",
        "obj6.sort_index()"
      ],
      "execution_count": 262,
      "outputs": [
        {
          "output_type": "execute_result",
          "data": {
            "text/plain": [
              "a    1\n",
              "b    2\n",
              "c    3\n",
              "d    0\n",
              "dtype: int64"
            ]
          },
          "metadata": {
            "tags": []
          },
          "execution_count": 262
        }
      ]
    },
    {
      "cell_type": "code",
      "metadata": {
        "colab": {
          "base_uri": "https://localhost:8080/",
          "height": 0
        },
        "id": "1F-qcSyBxPc3",
        "outputId": "3d42f8d0-cd63-4771-97ea-e768db348476"
      },
      "source": [
        "frame3 = pd.DataFrame(np.arange(8).reshape((2, 4)), index=['two', 'one'], columns=['d', 'a', 'b', 'c'])\n",
        "frame3.sort_index()"
      ],
      "execution_count": 263,
      "outputs": [
        {
          "output_type": "execute_result",
          "data": {
            "text/html": [
              "<div>\n",
              "<style scoped>\n",
              "    .dataframe tbody tr th:only-of-type {\n",
              "        vertical-align: middle;\n",
              "    }\n",
              "\n",
              "    .dataframe tbody tr th {\n",
              "        vertical-align: top;\n",
              "    }\n",
              "\n",
              "    .dataframe thead th {\n",
              "        text-align: right;\n",
              "    }\n",
              "</style>\n",
              "<table border=\"1\" class=\"dataframe\">\n",
              "  <thead>\n",
              "    <tr style=\"text-align: right;\">\n",
              "      <th></th>\n",
              "      <th>d</th>\n",
              "      <th>a</th>\n",
              "      <th>b</th>\n",
              "      <th>c</th>\n",
              "    </tr>\n",
              "  </thead>\n",
              "  <tbody>\n",
              "    <tr>\n",
              "      <th>one</th>\n",
              "      <td>4</td>\n",
              "      <td>5</td>\n",
              "      <td>6</td>\n",
              "      <td>7</td>\n",
              "    </tr>\n",
              "    <tr>\n",
              "      <th>two</th>\n",
              "      <td>0</td>\n",
              "      <td>1</td>\n",
              "      <td>2</td>\n",
              "      <td>3</td>\n",
              "    </tr>\n",
              "  </tbody>\n",
              "</table>\n",
              "</div>"
            ],
            "text/plain": [
              "     d  a  b  c\n",
              "one  4  5  6  7\n",
              "two  0  1  2  3"
            ]
          },
          "metadata": {
            "tags": []
          },
          "execution_count": 263
        }
      ]
    },
    {
      "cell_type": "code",
      "metadata": {
        "colab": {
          "base_uri": "https://localhost:8080/",
          "height": 0
        },
        "id": "wyClM0rIxQ4D",
        "outputId": "cac2ccb6-5d92-4ee6-85f4-0e8bdaac1e85"
      },
      "source": [
        "frame3.sort_index(axis=1).sort_index()"
      ],
      "execution_count": 264,
      "outputs": [
        {
          "output_type": "execute_result",
          "data": {
            "text/html": [
              "<div>\n",
              "<style scoped>\n",
              "    .dataframe tbody tr th:only-of-type {\n",
              "        vertical-align: middle;\n",
              "    }\n",
              "\n",
              "    .dataframe tbody tr th {\n",
              "        vertical-align: top;\n",
              "    }\n",
              "\n",
              "    .dataframe thead th {\n",
              "        text-align: right;\n",
              "    }\n",
              "</style>\n",
              "<table border=\"1\" class=\"dataframe\">\n",
              "  <thead>\n",
              "    <tr style=\"text-align: right;\">\n",
              "      <th></th>\n",
              "      <th>a</th>\n",
              "      <th>b</th>\n",
              "      <th>c</th>\n",
              "      <th>d</th>\n",
              "    </tr>\n",
              "  </thead>\n",
              "  <tbody>\n",
              "    <tr>\n",
              "      <th>one</th>\n",
              "      <td>5</td>\n",
              "      <td>6</td>\n",
              "      <td>7</td>\n",
              "      <td>4</td>\n",
              "    </tr>\n",
              "    <tr>\n",
              "      <th>two</th>\n",
              "      <td>1</td>\n",
              "      <td>2</td>\n",
              "      <td>3</td>\n",
              "      <td>0</td>\n",
              "    </tr>\n",
              "  </tbody>\n",
              "</table>\n",
              "</div>"
            ],
            "text/plain": [
              "     a  b  c  d\n",
              "one  5  6  7  4\n",
              "two  1  2  3  0"
            ]
          },
          "metadata": {
            "tags": []
          },
          "execution_count": 264
        }
      ]
    },
    {
      "cell_type": "code",
      "metadata": {
        "colab": {
          "base_uri": "https://localhost:8080/",
          "height": 0
        },
        "id": "CNl09i67yO2_",
        "outputId": "5dae0858-c925-4077-84dc-f81d69ade8cd"
      },
      "source": [
        "frame3.sort_index(axis=1, ascending=False)"
      ],
      "execution_count": 265,
      "outputs": [
        {
          "output_type": "execute_result",
          "data": {
            "text/html": [
              "<div>\n",
              "<style scoped>\n",
              "    .dataframe tbody tr th:only-of-type {\n",
              "        vertical-align: middle;\n",
              "    }\n",
              "\n",
              "    .dataframe tbody tr th {\n",
              "        vertical-align: top;\n",
              "    }\n",
              "\n",
              "    .dataframe thead th {\n",
              "        text-align: right;\n",
              "    }\n",
              "</style>\n",
              "<table border=\"1\" class=\"dataframe\">\n",
              "  <thead>\n",
              "    <tr style=\"text-align: right;\">\n",
              "      <th></th>\n",
              "      <th>d</th>\n",
              "      <th>c</th>\n",
              "      <th>b</th>\n",
              "      <th>a</th>\n",
              "    </tr>\n",
              "  </thead>\n",
              "  <tbody>\n",
              "    <tr>\n",
              "      <th>two</th>\n",
              "      <td>0</td>\n",
              "      <td>3</td>\n",
              "      <td>2</td>\n",
              "      <td>1</td>\n",
              "    </tr>\n",
              "    <tr>\n",
              "      <th>one</th>\n",
              "      <td>4</td>\n",
              "      <td>7</td>\n",
              "      <td>6</td>\n",
              "      <td>5</td>\n",
              "    </tr>\n",
              "  </tbody>\n",
              "</table>\n",
              "</div>"
            ],
            "text/plain": [
              "     d  c  b  a\n",
              "two  0  3  2  1\n",
              "one  4  7  6  5"
            ]
          },
          "metadata": {
            "tags": []
          },
          "execution_count": 265
        }
      ]
    },
    {
      "cell_type": "markdown",
      "metadata": {
        "id": "wfNwChyy0O1a"
      },
      "source": [
        "**Qualquer valor indicativo de ausência será ordenado no final da\n",
        "Series, por padrão:**"
      ]
    },
    {
      "cell_type": "code",
      "metadata": {
        "colab": {
          "base_uri": "https://localhost:8080/"
        },
        "id": "uakoMmRfzSrh",
        "outputId": "fbcecef1-f5bc-4dc6-e6da-1f721f70f90b"
      },
      "source": [
        "obj7 = pd.Series([4, 7, -3, 2, np.nan, -5, 129, 19, np.nan])\n",
        "obj7.sort_values()"
      ],
      "execution_count": 266,
      "outputs": [
        {
          "output_type": "execute_result",
          "data": {
            "text/plain": [
              "5     -5.0\n",
              "2     -3.0\n",
              "3      2.0\n",
              "0      4.0\n",
              "1      7.0\n",
              "7     19.0\n",
              "6    129.0\n",
              "4      NaN\n",
              "8      NaN\n",
              "dtype: float64"
            ]
          },
          "metadata": {
            "tags": []
          },
          "execution_count": 266
        }
      ]
    },
    {
      "cell_type": "code",
      "metadata": {
        "colab": {
          "base_uri": "https://localhost:8080/",
          "height": 0
        },
        "id": "V-8ksJMC0t4A",
        "outputId": "b9c7c05f-4d14-40a5-e9f1-2325aa9119cc"
      },
      "source": [
        "frame4 = pd.DataFrame({'b': [4, 7, -3, 2], 'a': [0, 1, 0, 1], 'c': [12, 39, -1,3]})\n",
        "frame4"
      ],
      "execution_count": 267,
      "outputs": [
        {
          "output_type": "execute_result",
          "data": {
            "text/html": [
              "<div>\n",
              "<style scoped>\n",
              "    .dataframe tbody tr th:only-of-type {\n",
              "        vertical-align: middle;\n",
              "    }\n",
              "\n",
              "    .dataframe tbody tr th {\n",
              "        vertical-align: top;\n",
              "    }\n",
              "\n",
              "    .dataframe thead th {\n",
              "        text-align: right;\n",
              "    }\n",
              "</style>\n",
              "<table border=\"1\" class=\"dataframe\">\n",
              "  <thead>\n",
              "    <tr style=\"text-align: right;\">\n",
              "      <th></th>\n",
              "      <th>b</th>\n",
              "      <th>a</th>\n",
              "      <th>c</th>\n",
              "    </tr>\n",
              "  </thead>\n",
              "  <tbody>\n",
              "    <tr>\n",
              "      <th>0</th>\n",
              "      <td>4</td>\n",
              "      <td>0</td>\n",
              "      <td>12</td>\n",
              "    </tr>\n",
              "    <tr>\n",
              "      <th>1</th>\n",
              "      <td>7</td>\n",
              "      <td>1</td>\n",
              "      <td>39</td>\n",
              "    </tr>\n",
              "    <tr>\n",
              "      <th>2</th>\n",
              "      <td>-3</td>\n",
              "      <td>0</td>\n",
              "      <td>-1</td>\n",
              "    </tr>\n",
              "    <tr>\n",
              "      <th>3</th>\n",
              "      <td>2</td>\n",
              "      <td>1</td>\n",
              "      <td>3</td>\n",
              "    </tr>\n",
              "  </tbody>\n",
              "</table>\n",
              "</div>"
            ],
            "text/plain": [
              "   b  a   c\n",
              "0  4  0  12\n",
              "1  7  1  39\n",
              "2 -3  0  -1\n",
              "3  2  1   3"
            ]
          },
          "metadata": {
            "tags": []
          },
          "execution_count": 267
        }
      ]
    },
    {
      "cell_type": "code",
      "metadata": {
        "colab": {
          "base_uri": "https://localhost:8080/",
          "height": 0
        },
        "id": "HL9LQswR08H7",
        "outputId": "76120213-25a5-428a-ccd9-8d7b4802033e"
      },
      "source": [
        "frame4.sort_values(by=['a', 'b'])"
      ],
      "execution_count": 268,
      "outputs": [
        {
          "output_type": "execute_result",
          "data": {
            "text/html": [
              "<div>\n",
              "<style scoped>\n",
              "    .dataframe tbody tr th:only-of-type {\n",
              "        vertical-align: middle;\n",
              "    }\n",
              "\n",
              "    .dataframe tbody tr th {\n",
              "        vertical-align: top;\n",
              "    }\n",
              "\n",
              "    .dataframe thead th {\n",
              "        text-align: right;\n",
              "    }\n",
              "</style>\n",
              "<table border=\"1\" class=\"dataframe\">\n",
              "  <thead>\n",
              "    <tr style=\"text-align: right;\">\n",
              "      <th></th>\n",
              "      <th>b</th>\n",
              "      <th>a</th>\n",
              "      <th>c</th>\n",
              "    </tr>\n",
              "  </thead>\n",
              "  <tbody>\n",
              "    <tr>\n",
              "      <th>2</th>\n",
              "      <td>-3</td>\n",
              "      <td>0</td>\n",
              "      <td>-1</td>\n",
              "    </tr>\n",
              "    <tr>\n",
              "      <th>0</th>\n",
              "      <td>4</td>\n",
              "      <td>0</td>\n",
              "      <td>12</td>\n",
              "    </tr>\n",
              "    <tr>\n",
              "      <th>3</th>\n",
              "      <td>2</td>\n",
              "      <td>1</td>\n",
              "      <td>3</td>\n",
              "    </tr>\n",
              "    <tr>\n",
              "      <th>1</th>\n",
              "      <td>7</td>\n",
              "      <td>1</td>\n",
              "      <td>39</td>\n",
              "    </tr>\n",
              "  </tbody>\n",
              "</table>\n",
              "</div>"
            ],
            "text/plain": [
              "   b  a   c\n",
              "2 -3  0  -1\n",
              "0  4  0  12\n",
              "3  2  1   3\n",
              "1  7  1  39"
            ]
          },
          "metadata": {
            "tags": []
          },
          "execution_count": 268
        }
      ]
    },
    {
      "cell_type": "markdown",
      "metadata": {
        "id": "ZVcc6r289OPm"
      },
      "source": [
        "![image.png](data:image/png;base64,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)"
      ]
    },
    {
      "cell_type": "code",
      "metadata": {
        "colab": {
          "base_uri": "https://localhost:8080/"
        },
        "id": "Jo3ILPL-4Tsh",
        "outputId": "97153423-f9ae-4f80-852c-ae3f20886af2"
      },
      "source": [
        "obj8 = pd.Series([7, -5, 9, 4, 2, 0, -4], index=['one', 'two', 'three', 'four', 'five', 'six', 'seven'])\n",
        "obj8"
      ],
      "execution_count": 269,
      "outputs": [
        {
          "output_type": "execute_result",
          "data": {
            "text/plain": [
              "one      7\n",
              "two     -5\n",
              "three    9\n",
              "four     4\n",
              "five     2\n",
              "six      0\n",
              "seven   -4\n",
              "dtype: int64"
            ]
          },
          "metadata": {
            "tags": []
          },
          "execution_count": 269
        }
      ]
    },
    {
      "cell_type": "code",
      "metadata": {
        "colab": {
          "base_uri": "https://localhost:8080/"
        },
        "id": "DElmFDCx4gll",
        "outputId": "767acbb9-2395-499a-ef94-88c04547f9a2"
      },
      "source": [
        "obj8.rank(method='max', ascending=True).sort_values()"
      ],
      "execution_count": 270,
      "outputs": [
        {
          "output_type": "execute_result",
          "data": {
            "text/plain": [
              "two      1.0\n",
              "seven    2.0\n",
              "six      3.0\n",
              "five     4.0\n",
              "four     5.0\n",
              "one      6.0\n",
              "three    7.0\n",
              "dtype: float64"
            ]
          },
          "metadata": {
            "tags": []
          },
          "execution_count": 270
        }
      ]
    },
    {
      "cell_type": "code",
      "metadata": {
        "colab": {
          "base_uri": "https://localhost:8080/"
        },
        "id": "uqZhHB-MXxUA",
        "outputId": "4f9d7357-0c05-4687-b85f-2603b0ab1fc0"
      },
      "source": [
        "obj8"
      ],
      "execution_count": 271,
      "outputs": [
        {
          "output_type": "execute_result",
          "data": {
            "text/plain": [
              "one      7\n",
              "two     -5\n",
              "three    9\n",
              "four     4\n",
              "five     2\n",
              "six      0\n",
              "seven   -4\n",
              "dtype: int64"
            ]
          },
          "metadata": {
            "tags": []
          },
          "execution_count": 271
        }
      ]
    },
    {
      "cell_type": "code",
      "metadata": {
        "colab": {
          "base_uri": "https://localhost:8080/"
        },
        "id": "OUlFXsCsYcGw",
        "outputId": "c0a69c3b-0350-4436-ed65-879f95fec73c"
      },
      "source": [
        "obj8.rank(ascending=False)"
      ],
      "execution_count": 272,
      "outputs": [
        {
          "output_type": "execute_result",
          "data": {
            "text/plain": [
              "one      2.0\n",
              "two      7.0\n",
              "three    1.0\n",
              "four     3.0\n",
              "five     4.0\n",
              "six      5.0\n",
              "seven    6.0\n",
              "dtype: float64"
            ]
          },
          "metadata": {
            "tags": []
          },
          "execution_count": 272
        }
      ]
    },
    {
      "cell_type": "markdown",
      "metadata": {
        "id": "STtohZG0YMH3"
      },
      "source": [
        "###***Índices de eixos com rótulos duplicados:***\n"
      ]
    },
    {
      "cell_type": "code",
      "metadata": {
        "colab": {
          "base_uri": "https://localhost:8080/"
        },
        "id": "m2Fo5D_68AY9",
        "outputId": "265784fc-d865-4f40-8d06-ee4cac2f989f"
      },
      "source": [
        "obj9 = pd.Series(np.arange(10), index=['a', 'a', 'a', 'b', 'b', 'b', 'c', 'c', 'c', 'd'])\n",
        "\n",
        "obj9['b']"
      ],
      "execution_count": 273,
      "outputs": [
        {
          "output_type": "execute_result",
          "data": {
            "text/plain": [
              "b    3\n",
              "b    4\n",
              "b    5\n",
              "dtype: int64"
            ]
          },
          "metadata": {
            "tags": []
          },
          "execution_count": 273
        }
      ]
    },
    {
      "cell_type": "code",
      "metadata": {
        "colab": {
          "base_uri": "https://localhost:8080/"
        },
        "id": "5ou81D8I8zGP",
        "outputId": "6300bd82-1db0-49b7-ac01-959ba26692c8"
      },
      "source": [
        "# Confere se o index tem valores únicos\n",
        "\n",
        "obj9.index.is_unique"
      ],
      "execution_count": 274,
      "outputs": [
        {
          "output_type": "execute_result",
          "data": {
            "text/plain": [
              "False"
            ]
          },
          "metadata": {
            "tags": []
          },
          "execution_count": 274
        }
      ]
    },
    {
      "cell_type": "code",
      "metadata": {
        "colab": {
          "base_uri": "https://localhost:8080/"
        },
        "id": "VlXyrOrl8-Rt",
        "outputId": "24226510-d16a-4f8c-cd38-e535c9821b9e"
      },
      "source": [
        "obj9.is_unique"
      ],
      "execution_count": 275,
      "outputs": [
        {
          "output_type": "execute_result",
          "data": {
            "text/plain": [
              "True"
            ]
          },
          "metadata": {
            "tags": []
          },
          "execution_count": 275
        }
      ]
    },
    {
      "cell_type": "markdown",
      "metadata": {
        "id": "1-3o9kR8-BQa"
      },
      "source": [
        "**Obs: Indexar um rótulo com várias\n",
        "entradas devolve uma Series, enquanto entradas únicas devolvem\n",
        "um valor escalar:**\n",
        "\n"
      ]
    },
    {
      "cell_type": "code",
      "metadata": {
        "colab": {
          "base_uri": "https://localhost:8080/"
        },
        "id": "ftXDF0tC9kGF",
        "outputId": "01f320ff-8d5f-46e6-ce2c-9bff9b4b6f00"
      },
      "source": [
        "obj9.c"
      ],
      "execution_count": 276,
      "outputs": [
        {
          "output_type": "execute_result",
          "data": {
            "text/plain": [
              "c    6\n",
              "c    7\n",
              "c    8\n",
              "dtype: int64"
            ]
          },
          "metadata": {
            "tags": []
          },
          "execution_count": 276
        }
      ]
    },
    {
      "cell_type": "code",
      "metadata": {
        "colab": {
          "base_uri": "https://localhost:8080/"
        },
        "id": "rl4O66wO9pWl",
        "outputId": "bf3bcc6a-5d5a-4929-c3cd-eab777c8c1c5"
      },
      "source": [
        "obj9.d"
      ],
      "execution_count": 277,
      "outputs": [
        {
          "output_type": "execute_result",
          "data": {
            "text/plain": [
              "9"
            ]
          },
          "metadata": {
            "tags": []
          },
          "execution_count": 277
        }
      ]
    },
    {
      "cell_type": "markdown",
      "metadata": {
        "id": "Y4PGf24-_09W"
      },
      "source": [
        "**Obs: Indexar um DF de index com várias\n",
        "entradas devolve um DataFrame, enquanto entradas únicas devolvem\n",
        "uma Series:**"
      ]
    },
    {
      "cell_type": "code",
      "metadata": {
        "colab": {
          "base_uri": "https://localhost:8080/",
          "height": 0
        },
        "id": "wqogQ91k-gh8",
        "outputId": "839aba52-8fe4-445e-cfc3-2f7948df0572"
      },
      "source": [
        "df7 = pd.DataFrame(np.random.randn(5, 3), index=['a', 'a', 'b', 'b', 'c'])\n",
        "df7"
      ],
      "execution_count": 278,
      "outputs": [
        {
          "output_type": "execute_result",
          "data": {
            "text/html": [
              "<div>\n",
              "<style scoped>\n",
              "    .dataframe tbody tr th:only-of-type {\n",
              "        vertical-align: middle;\n",
              "    }\n",
              "\n",
              "    .dataframe tbody tr th {\n",
              "        vertical-align: top;\n",
              "    }\n",
              "\n",
              "    .dataframe thead th {\n",
              "        text-align: right;\n",
              "    }\n",
              "</style>\n",
              "<table border=\"1\" class=\"dataframe\">\n",
              "  <thead>\n",
              "    <tr style=\"text-align: right;\">\n",
              "      <th></th>\n",
              "      <th>0</th>\n",
              "      <th>1</th>\n",
              "      <th>2</th>\n",
              "    </tr>\n",
              "  </thead>\n",
              "  <tbody>\n",
              "    <tr>\n",
              "      <th>a</th>\n",
              "      <td>0.652915</td>\n",
              "      <td>0.499057</td>\n",
              "      <td>0.996950</td>\n",
              "    </tr>\n",
              "    <tr>\n",
              "      <th>a</th>\n",
              "      <td>0.192341</td>\n",
              "      <td>-0.317434</td>\n",
              "      <td>0.311885</td>\n",
              "    </tr>\n",
              "    <tr>\n",
              "      <th>b</th>\n",
              "      <td>0.561365</td>\n",
              "      <td>0.146822</td>\n",
              "      <td>0.730360</td>\n",
              "    </tr>\n",
              "    <tr>\n",
              "      <th>b</th>\n",
              "      <td>-0.149495</td>\n",
              "      <td>1.117984</td>\n",
              "      <td>0.629953</td>\n",
              "    </tr>\n",
              "    <tr>\n",
              "      <th>c</th>\n",
              "      <td>0.406323</td>\n",
              "      <td>0.608068</td>\n",
              "      <td>-0.546333</td>\n",
              "    </tr>\n",
              "  </tbody>\n",
              "</table>\n",
              "</div>"
            ],
            "text/plain": [
              "          0         1         2\n",
              "a  0.652915  0.499057  0.996950\n",
              "a  0.192341 -0.317434  0.311885\n",
              "b  0.561365  0.146822  0.730360\n",
              "b -0.149495  1.117984  0.629953\n",
              "c  0.406323  0.608068 -0.546333"
            ]
          },
          "metadata": {
            "tags": []
          },
          "execution_count": 278
        }
      ]
    },
    {
      "cell_type": "code",
      "metadata": {
        "colab": {
          "base_uri": "https://localhost:8080/",
          "height": 0
        },
        "id": "anHZnG2A_CsJ",
        "outputId": "f31c49c5-2f5a-4f95-8617-1767ad25ee53"
      },
      "source": [
        "df7.loc['b']"
      ],
      "execution_count": 279,
      "outputs": [
        {
          "output_type": "execute_result",
          "data": {
            "text/html": [
              "<div>\n",
              "<style scoped>\n",
              "    .dataframe tbody tr th:only-of-type {\n",
              "        vertical-align: middle;\n",
              "    }\n",
              "\n",
              "    .dataframe tbody tr th {\n",
              "        vertical-align: top;\n",
              "    }\n",
              "\n",
              "    .dataframe thead th {\n",
              "        text-align: right;\n",
              "    }\n",
              "</style>\n",
              "<table border=\"1\" class=\"dataframe\">\n",
              "  <thead>\n",
              "    <tr style=\"text-align: right;\">\n",
              "      <th></th>\n",
              "      <th>0</th>\n",
              "      <th>1</th>\n",
              "      <th>2</th>\n",
              "    </tr>\n",
              "  </thead>\n",
              "  <tbody>\n",
              "    <tr>\n",
              "      <th>b</th>\n",
              "      <td>0.561365</td>\n",
              "      <td>0.146822</td>\n",
              "      <td>0.730360</td>\n",
              "    </tr>\n",
              "    <tr>\n",
              "      <th>b</th>\n",
              "      <td>-0.149495</td>\n",
              "      <td>1.117984</td>\n",
              "      <td>0.629953</td>\n",
              "    </tr>\n",
              "  </tbody>\n",
              "</table>\n",
              "</div>"
            ],
            "text/plain": [
              "          0         1         2\n",
              "b  0.561365  0.146822  0.730360\n",
              "b -0.149495  1.117984  0.629953"
            ]
          },
          "metadata": {
            "tags": []
          },
          "execution_count": 279
        }
      ]
    },
    {
      "cell_type": "code",
      "metadata": {
        "colab": {
          "base_uri": "https://localhost:8080/"
        },
        "id": "CVI0pxlJ_kn4",
        "outputId": "8b10cb70-3e8e-4742-bf3d-3efb47cafc50"
      },
      "source": [
        "df7.loc['c']"
      ],
      "execution_count": 280,
      "outputs": [
        {
          "output_type": "execute_result",
          "data": {
            "text/plain": [
              "0    0.406323\n",
              "1    0.608068\n",
              "2   -0.546333\n",
              "Name: c, dtype: float64"
            ]
          },
          "metadata": {
            "tags": []
          },
          "execution_count": 280
        }
      ]
    },
    {
      "cell_type": "markdown",
      "metadata": {
        "id": "KF3pWjSDDWHB"
      },
      "source": [
        "###**Resumindo e calculando estatísticas descritivas:**"
      ]
    },
    {
      "cell_type": "code",
      "metadata": {
        "colab": {
          "base_uri": "https://localhost:8080/",
          "height": 0
        },
        "id": "Y0DrgqKV7HdS",
        "outputId": "b26acb0a-b5be-4d15-ba64-bc4709ecb8ee"
      },
      "source": [
        "df8 = pd.DataFrame([[1.4, np.nan], [7.1, -4.5], [np.nan, np.nan], [0.75, -1.3]],\n",
        "                   index=['a', 'b', 'c', 'd'],\n",
        "                   columns=['one', 'two'])\n",
        "df8"
      ],
      "execution_count": 281,
      "outputs": [
        {
          "output_type": "execute_result",
          "data": {
            "text/html": [
              "<div>\n",
              "<style scoped>\n",
              "    .dataframe tbody tr th:only-of-type {\n",
              "        vertical-align: middle;\n",
              "    }\n",
              "\n",
              "    .dataframe tbody tr th {\n",
              "        vertical-align: top;\n",
              "    }\n",
              "\n",
              "    .dataframe thead th {\n",
              "        text-align: right;\n",
              "    }\n",
              "</style>\n",
              "<table border=\"1\" class=\"dataframe\">\n",
              "  <thead>\n",
              "    <tr style=\"text-align: right;\">\n",
              "      <th></th>\n",
              "      <th>one</th>\n",
              "      <th>two</th>\n",
              "    </tr>\n",
              "  </thead>\n",
              "  <tbody>\n",
              "    <tr>\n",
              "      <th>a</th>\n",
              "      <td>1.40</td>\n",
              "      <td>NaN</td>\n",
              "    </tr>\n",
              "    <tr>\n",
              "      <th>b</th>\n",
              "      <td>7.10</td>\n",
              "      <td>-4.5</td>\n",
              "    </tr>\n",
              "    <tr>\n",
              "      <th>c</th>\n",
              "      <td>NaN</td>\n",
              "      <td>NaN</td>\n",
              "    </tr>\n",
              "    <tr>\n",
              "      <th>d</th>\n",
              "      <td>0.75</td>\n",
              "      <td>-1.3</td>\n",
              "    </tr>\n",
              "  </tbody>\n",
              "</table>\n",
              "</div>"
            ],
            "text/plain": [
              "    one  two\n",
              "a  1.40  NaN\n",
              "b  7.10 -4.5\n",
              "c   NaN  NaN\n",
              "d  0.75 -1.3"
            ]
          },
          "metadata": {
            "tags": []
          },
          "execution_count": 281
        }
      ]
    },
    {
      "cell_type": "code",
      "metadata": {
        "colab": {
          "base_uri": "https://localhost:8080/"
        },
        "id": "UDTcjai-7diF",
        "outputId": "bc780f6d-aa5e-4f51-83bd-cfd7dba3fde6"
      },
      "source": [
        "df8.sum(axis=0)"
      ],
      "execution_count": 282,
      "outputs": [
        {
          "output_type": "execute_result",
          "data": {
            "text/plain": [
              "one    9.25\n",
              "two   -5.80\n",
              "dtype: float64"
            ]
          },
          "metadata": {
            "tags": []
          },
          "execution_count": 282
        }
      ]
    },
    {
      "cell_type": "code",
      "metadata": {
        "colab": {
          "base_uri": "https://localhost:8080/"
        },
        "id": "IVu2gUhv7nkp",
        "outputId": "8f69113d-d7f4-4fb8-ce8d-1621443bb2a4"
      },
      "source": [
        "df8.sum(axis=1, skipna=False)"
      ],
      "execution_count": 283,
      "outputs": [
        {
          "output_type": "execute_result",
          "data": {
            "text/plain": [
              "a     NaN\n",
              "b    2.60\n",
              "c     NaN\n",
              "d   -0.55\n",
              "dtype: float64"
            ]
          },
          "metadata": {
            "tags": []
          },
          "execution_count": 283
        }
      ]
    },
    {
      "cell_type": "code",
      "metadata": {
        "colab": {
          "base_uri": "https://localhost:8080/"
        },
        "id": "uUhmLTu28bdV",
        "outputId": "4a608008-cf9e-4bfd-8b65-b554a76e0d08"
      },
      "source": [
        "#Retorna o indice onde o valor minimo está\n",
        "\n",
        "df8.idxmin()"
      ],
      "execution_count": 284,
      "outputs": [
        {
          "output_type": "execute_result",
          "data": {
            "text/plain": [
              "one    d\n",
              "two    b\n",
              "dtype: object"
            ]
          },
          "metadata": {
            "tags": []
          },
          "execution_count": 284
        }
      ]
    },
    {
      "cell_type": "code",
      "metadata": {
        "colab": {
          "base_uri": "https://localhost:8080/",
          "height": 0
        },
        "id": "e26eoRqx83BC",
        "outputId": "0387f229-e7c0-415d-be34-8c9f50f79916"
      },
      "source": [
        "df8.describe()"
      ],
      "execution_count": 285,
      "outputs": [
        {
          "output_type": "execute_result",
          "data": {
            "text/html": [
              "<div>\n",
              "<style scoped>\n",
              "    .dataframe tbody tr th:only-of-type {\n",
              "        vertical-align: middle;\n",
              "    }\n",
              "\n",
              "    .dataframe tbody tr th {\n",
              "        vertical-align: top;\n",
              "    }\n",
              "\n",
              "    .dataframe thead th {\n",
              "        text-align: right;\n",
              "    }\n",
              "</style>\n",
              "<table border=\"1\" class=\"dataframe\">\n",
              "  <thead>\n",
              "    <tr style=\"text-align: right;\">\n",
              "      <th></th>\n",
              "      <th>one</th>\n",
              "      <th>two</th>\n",
              "    </tr>\n",
              "  </thead>\n",
              "  <tbody>\n",
              "    <tr>\n",
              "      <th>count</th>\n",
              "      <td>3.000000</td>\n",
              "      <td>2.000000</td>\n",
              "    </tr>\n",
              "    <tr>\n",
              "      <th>mean</th>\n",
              "      <td>3.083333</td>\n",
              "      <td>-2.900000</td>\n",
              "    </tr>\n",
              "    <tr>\n",
              "      <th>std</th>\n",
              "      <td>3.493685</td>\n",
              "      <td>2.262742</td>\n",
              "    </tr>\n",
              "    <tr>\n",
              "      <th>min</th>\n",
              "      <td>0.750000</td>\n",
              "      <td>-4.500000</td>\n",
              "    </tr>\n",
              "    <tr>\n",
              "      <th>25%</th>\n",
              "      <td>1.075000</td>\n",
              "      <td>-3.700000</td>\n",
              "    </tr>\n",
              "    <tr>\n",
              "      <th>50%</th>\n",
              "      <td>1.400000</td>\n",
              "      <td>-2.900000</td>\n",
              "    </tr>\n",
              "    <tr>\n",
              "      <th>75%</th>\n",
              "      <td>4.250000</td>\n",
              "      <td>-2.100000</td>\n",
              "    </tr>\n",
              "    <tr>\n",
              "      <th>max</th>\n",
              "      <td>7.100000</td>\n",
              "      <td>-1.300000</td>\n",
              "    </tr>\n",
              "  </tbody>\n",
              "</table>\n",
              "</div>"
            ],
            "text/plain": [
              "            one       two\n",
              "count  3.000000  2.000000\n",
              "mean   3.083333 -2.900000\n",
              "std    3.493685  2.262742\n",
              "min    0.750000 -4.500000\n",
              "25%    1.075000 -3.700000\n",
              "50%    1.400000 -2.900000\n",
              "75%    4.250000 -2.100000\n",
              "max    7.100000 -1.300000"
            ]
          },
          "metadata": {
            "tags": []
          },
          "execution_count": 285
        }
      ]
    },
    {
      "cell_type": "markdown",
      "metadata": {
        "id": "iNRiPyFOCADK"
      },
      "source": [
        "![image.png](data:image/png;base64,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)"
      ]
    },
    {
      "cell_type": "code",
      "metadata": {
        "colab": {
          "base_uri": "https://localhost:8080/",
          "height": 0
        },
        "id": "t3vRehmp88V5",
        "outputId": "6cc3ef69-04f5-4429-fc80-47383061c3e1"
      },
      "source": [
        "arrr = pd.DataFrame(list([6, 9, 10, 6, 2, 1,8, 7, 9]))\n",
        "arrr"
      ],
      "execution_count": 286,
      "outputs": [
        {
          "output_type": "execute_result",
          "data": {
            "text/html": [
              "<div>\n",
              "<style scoped>\n",
              "    .dataframe tbody tr th:only-of-type {\n",
              "        vertical-align: middle;\n",
              "    }\n",
              "\n",
              "    .dataframe tbody tr th {\n",
              "        vertical-align: top;\n",
              "    }\n",
              "\n",
              "    .dataframe thead th {\n",
              "        text-align: right;\n",
              "    }\n",
              "</style>\n",
              "<table border=\"1\" class=\"dataframe\">\n",
              "  <thead>\n",
              "    <tr style=\"text-align: right;\">\n",
              "      <th></th>\n",
              "      <th>0</th>\n",
              "    </tr>\n",
              "  </thead>\n",
              "  <tbody>\n",
              "    <tr>\n",
              "      <th>0</th>\n",
              "      <td>6</td>\n",
              "    </tr>\n",
              "    <tr>\n",
              "      <th>1</th>\n",
              "      <td>9</td>\n",
              "    </tr>\n",
              "    <tr>\n",
              "      <th>2</th>\n",
              "      <td>10</td>\n",
              "    </tr>\n",
              "    <tr>\n",
              "      <th>3</th>\n",
              "      <td>6</td>\n",
              "    </tr>\n",
              "    <tr>\n",
              "      <th>4</th>\n",
              "      <td>2</td>\n",
              "    </tr>\n",
              "    <tr>\n",
              "      <th>5</th>\n",
              "      <td>1</td>\n",
              "    </tr>\n",
              "    <tr>\n",
              "      <th>6</th>\n",
              "      <td>8</td>\n",
              "    </tr>\n",
              "    <tr>\n",
              "      <th>7</th>\n",
              "      <td>7</td>\n",
              "    </tr>\n",
              "    <tr>\n",
              "      <th>8</th>\n",
              "      <td>9</td>\n",
              "    </tr>\n",
              "  </tbody>\n",
              "</table>\n",
              "</div>"
            ],
            "text/plain": [
              "    0\n",
              "0   6\n",
              "1   9\n",
              "2  10\n",
              "3   6\n",
              "4   2\n",
              "5   1\n",
              "6   8\n",
              "7   7\n",
              "8   9"
            ]
          },
          "metadata": {
            "tags": []
          },
          "execution_count": 286
        }
      ]
    },
    {
      "cell_type": "code",
      "metadata": {
        "colab": {
          "base_uri": "https://localhost:8080/"
        },
        "id": "gjR7DdDn9dom",
        "outputId": "730997f0-71b2-444f-c454-ccf162b07a1c"
      },
      "source": [
        "arrr.mean()"
      ],
      "execution_count": 287,
      "outputs": [
        {
          "output_type": "execute_result",
          "data": {
            "text/plain": [
              "0    6.444444\n",
              "dtype: float64"
            ]
          },
          "metadata": {
            "tags": []
          },
          "execution_count": 287
        }
      ]
    },
    {
      "cell_type": "code",
      "metadata": {
        "colab": {
          "base_uri": "https://localhost:8080/"
        },
        "id": "yg5Ci_74-tNg",
        "outputId": "2a458401-ea6a-408d-acc4-16e00eaad496"
      },
      "source": [
        "arrr.median()"
      ],
      "execution_count": 288,
      "outputs": [
        {
          "output_type": "execute_result",
          "data": {
            "text/plain": [
              "0    7.0\n",
              "dtype: float64"
            ]
          },
          "metadata": {
            "tags": []
          },
          "execution_count": 288
        }
      ]
    },
    {
      "cell_type": "code",
      "metadata": {
        "colab": {
          "base_uri": "https://localhost:8080/",
          "height": 0
        },
        "id": "b0KLZ6-dCYe9",
        "outputId": "7c80de0e-174d-4101-9096-04c0caaa9773"
      },
      "source": [
        "arrr.mode()"
      ],
      "execution_count": 289,
      "outputs": [
        {
          "output_type": "execute_result",
          "data": {
            "text/html": [
              "<div>\n",
              "<style scoped>\n",
              "    .dataframe tbody tr th:only-of-type {\n",
              "        vertical-align: middle;\n",
              "    }\n",
              "\n",
              "    .dataframe tbody tr th {\n",
              "        vertical-align: top;\n",
              "    }\n",
              "\n",
              "    .dataframe thead th {\n",
              "        text-align: right;\n",
              "    }\n",
              "</style>\n",
              "<table border=\"1\" class=\"dataframe\">\n",
              "  <thead>\n",
              "    <tr style=\"text-align: right;\">\n",
              "      <th></th>\n",
              "      <th>0</th>\n",
              "    </tr>\n",
              "  </thead>\n",
              "  <tbody>\n",
              "    <tr>\n",
              "      <th>0</th>\n",
              "      <td>6</td>\n",
              "    </tr>\n",
              "    <tr>\n",
              "      <th>1</th>\n",
              "      <td>9</td>\n",
              "    </tr>\n",
              "  </tbody>\n",
              "</table>\n",
              "</div>"
            ],
            "text/plain": [
              "   0\n",
              "0  6\n",
              "1  9"
            ]
          },
          "metadata": {
            "tags": []
          },
          "execution_count": 289
        }
      ]
    },
    {
      "cell_type": "markdown",
      "metadata": {
        "id": "9Ra6Jlk9_2xF"
      },
      "source": [
        "### **Covariância e Correlação:**"
      ]
    },
    {
      "cell_type": "markdown",
      "metadata": {
        "id": "1Vzfat-0O3Kx"
      },
      "source": [
        "**A covariância mede a relação linear entre duas variáveis e a correlação mede tanto a força como a direção da relação linear entre duas variáveis:**"
      ]
    },
    {
      "cell_type": "code",
      "metadata": {
        "id": "4SNoYP3FEDz4"
      },
      "source": [
        "import pandas_datareader.data as web\n",
        "all_data = {ticker: web.get_data_yahoo(ticker)\n",
        "for ticker in ['AAPL', 'IBM', 'MSFT', 'GOOG']}\n",
        "price = pd.DataFrame({ticker: data['Adj Close']\n",
        "for ticker, data in all_data.items()})\n",
        "volume = pd.DataFrame({ticker: data['Volume']\n",
        "for ticker, data in all_data.items()})"
      ],
      "execution_count": 290,
      "outputs": []
    },
    {
      "cell_type": "markdown",
      "metadata": {
        "id": "Nl9spY6RRvE3"
      },
      "source": [
        "***Calculando as mudanças percentuais nos preços:*** "
      ]
    },
    {
      "cell_type": "code",
      "metadata": {
        "colab": {
          "base_uri": "https://localhost:8080/",
          "height": 235
        },
        "id": "5h4nrqWQEWaN",
        "outputId": "47ae89b6-2490-4318-ca10-2bceec32d3b9"
      },
      "source": [
        "returns = price.pct_change()\n",
        "returns.tail()"
      ],
      "execution_count": 291,
      "outputs": [
        {
          "output_type": "execute_result",
          "data": {
            "text/html": [
              "<div>\n",
              "<style scoped>\n",
              "    .dataframe tbody tr th:only-of-type {\n",
              "        vertical-align: middle;\n",
              "    }\n",
              "\n",
              "    .dataframe tbody tr th {\n",
              "        vertical-align: top;\n",
              "    }\n",
              "\n",
              "    .dataframe thead th {\n",
              "        text-align: right;\n",
              "    }\n",
              "</style>\n",
              "<table border=\"1\" class=\"dataframe\">\n",
              "  <thead>\n",
              "    <tr style=\"text-align: right;\">\n",
              "      <th></th>\n",
              "      <th>AAPL</th>\n",
              "      <th>IBM</th>\n",
              "      <th>MSFT</th>\n",
              "      <th>GOOG</th>\n",
              "    </tr>\n",
              "    <tr>\n",
              "      <th>Date</th>\n",
              "      <th></th>\n",
              "      <th></th>\n",
              "      <th></th>\n",
              "      <th></th>\n",
              "    </tr>\n",
              "  </thead>\n",
              "  <tbody>\n",
              "    <tr>\n",
              "      <th>2021-06-14</th>\n",
              "      <td>0.024578</td>\n",
              "      <td>-0.008263</td>\n",
              "      <td>0.007755</td>\n",
              "      <td>0.005215</td>\n",
              "    </tr>\n",
              "    <tr>\n",
              "      <th>2021-06-15</th>\n",
              "      <td>-0.006438</td>\n",
              "      <td>-0.004466</td>\n",
              "      <td>-0.005887</td>\n",
              "      <td>-0.002525</td>\n",
              "    </tr>\n",
              "    <tr>\n",
              "      <th>2021-06-16</th>\n",
              "      <td>0.003934</td>\n",
              "      <td>-0.010244</td>\n",
              "      <td>-0.003793</td>\n",
              "      <td>-0.002670</td>\n",
              "    </tr>\n",
              "    <tr>\n",
              "      <th>2021-06-17</th>\n",
              "      <td>0.012601</td>\n",
              "      <td>-0.015085</td>\n",
              "      <td>0.013676</td>\n",
              "      <td>0.005366</td>\n",
              "    </tr>\n",
              "    <tr>\n",
              "      <th>2021-06-18</th>\n",
              "      <td>-0.010092</td>\n",
              "      <td>-0.017033</td>\n",
              "      <td>-0.005634</td>\n",
              "      <td>-0.006358</td>\n",
              "    </tr>\n",
              "  </tbody>\n",
              "</table>\n",
              "</div>"
            ],
            "text/plain": [
              "                AAPL       IBM      MSFT      GOOG\n",
              "Date                                              \n",
              "2021-06-14  0.024578 -0.008263  0.007755  0.005215\n",
              "2021-06-15 -0.006438 -0.004466 -0.005887 -0.002525\n",
              "2021-06-16  0.003934 -0.010244 -0.003793 -0.002670\n",
              "2021-06-17  0.012601 -0.015085  0.013676  0.005366\n",
              "2021-06-18 -0.010092 -0.017033 -0.005634 -0.006358"
            ]
          },
          "metadata": {
            "tags": []
          },
          "execution_count": 291
        }
      ]
    },
    {
      "cell_type": "markdown",
      "metadata": {
        "id": "SSHnWHCBSeNy"
      },
      "source": [
        "***Calculando a covariância:***"
      ]
    },
    {
      "cell_type": "markdown",
      "metadata": {
        "id": "RFSmVcZWjwIY"
      },
      "source": [
        "![image.png](data:image/png;base64,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)"
      ]
    },
    {
      "cell_type": "code",
      "metadata": {
        "colab": {
          "base_uri": "https://localhost:8080/"
        },
        "id": "BNbtybF7SZOd",
        "outputId": "29f8eb5b-d25a-46c8-ce4f-04be5084f6a7"
      },
      "source": [
        "returns['MSFT'].cov(returns['IBM'])"
      ],
      "execution_count": 292,
      "outputs": [
        {
          "output_type": "execute_result",
          "data": {
            "text/plain": [
              "0.0001502133877891011"
            ]
          },
          "metadata": {
            "tags": []
          },
          "execution_count": 292
        }
      ]
    },
    {
      "cell_type": "markdown",
      "metadata": {
        "id": "UodNuhh8S8em"
      },
      "source": [
        "***Calculando a correlação:***"
      ]
    },
    {
      "cell_type": "markdown",
      "metadata": {
        "id": "yZ0RK_XI2E5h"
      },
      "source": [
        "![image.png](data:image/png;base64,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)\n",
        "\n"
      ]
    },
    {
      "cell_type": "markdown",
      "metadata": {
        "id": "HsZS1zn5P7gb"
      },
      "source": [
        "***rx,y = (soma dos resultados de xi.***yi**) - n (numero de itens) **(média de x e y)/ n-1 * (desvio padrão de x e y)***"
      ]
    },
    {
      "cell_type": "code",
      "metadata": {
        "colab": {
          "base_uri": "https://localhost:8080/"
        },
        "id": "wXGt4wmETEr8",
        "outputId": "4d7068df-f6e4-4a67-8246-ab2208fe7442"
      },
      "source": [
        "returns['MSFT'].corr(returns['IBM'])"
      ],
      "execution_count": 293,
      "outputs": [
        {
          "output_type": "execute_result",
          "data": {
            "text/plain": [
              "0.5295882176292394"
            ]
          },
          "metadata": {
            "tags": []
          },
          "execution_count": 293
        }
      ]
    },
    {
      "cell_type": "markdown",
      "metadata": {
        "id": "64hLrQJTVBNI"
      },
      "source": [
        "***Quando feito com um DF, retorna um DF***"
      ]
    },
    {
      "cell_type": "code",
      "metadata": {
        "colab": {
          "base_uri": "https://localhost:8080/",
          "height": 173
        },
        "id": "mZSJBkTGTmPQ",
        "outputId": "870849b4-205a-4550-b70f-5b0acfab405d"
      },
      "source": [
        "returns.corr()"
      ],
      "execution_count": 294,
      "outputs": [
        {
          "output_type": "execute_result",
          "data": {
            "text/html": [
              "<div>\n",
              "<style scoped>\n",
              "    .dataframe tbody tr th:only-of-type {\n",
              "        vertical-align: middle;\n",
              "    }\n",
              "\n",
              "    .dataframe tbody tr th {\n",
              "        vertical-align: top;\n",
              "    }\n",
              "\n",
              "    .dataframe thead th {\n",
              "        text-align: right;\n",
              "    }\n",
              "</style>\n",
              "<table border=\"1\" class=\"dataframe\">\n",
              "  <thead>\n",
              "    <tr style=\"text-align: right;\">\n",
              "      <th></th>\n",
              "      <th>AAPL</th>\n",
              "      <th>IBM</th>\n",
              "      <th>MSFT</th>\n",
              "      <th>GOOG</th>\n",
              "    </tr>\n",
              "  </thead>\n",
              "  <tbody>\n",
              "    <tr>\n",
              "      <th>AAPL</th>\n",
              "      <td>1.000000</td>\n",
              "      <td>0.446048</td>\n",
              "      <td>0.726369</td>\n",
              "      <td>0.660306</td>\n",
              "    </tr>\n",
              "    <tr>\n",
              "      <th>IBM</th>\n",
              "      <td>0.446048</td>\n",
              "      <td>1.000000</td>\n",
              "      <td>0.529588</td>\n",
              "      <td>0.493453</td>\n",
              "    </tr>\n",
              "    <tr>\n",
              "      <th>MSFT</th>\n",
              "      <td>0.726369</td>\n",
              "      <td>0.529588</td>\n",
              "      <td>1.000000</td>\n",
              "      <td>0.774149</td>\n",
              "    </tr>\n",
              "    <tr>\n",
              "      <th>GOOG</th>\n",
              "      <td>0.660306</td>\n",
              "      <td>0.493453</td>\n",
              "      <td>0.774149</td>\n",
              "      <td>1.000000</td>\n",
              "    </tr>\n",
              "  </tbody>\n",
              "</table>\n",
              "</div>"
            ],
            "text/plain": [
              "          AAPL       IBM      MSFT      GOOG\n",
              "AAPL  1.000000  0.446048  0.726369  0.660306\n",
              "IBM   0.446048  1.000000  0.529588  0.493453\n",
              "MSFT  0.726369  0.529588  1.000000  0.774149\n",
              "GOOG  0.660306  0.493453  0.774149  1.000000"
            ]
          },
          "metadata": {
            "tags": []
          },
          "execution_count": 294
        }
      ]
    },
    {
      "cell_type": "code",
      "metadata": {
        "colab": {
          "base_uri": "https://localhost:8080/",
          "height": 173
        },
        "id": "EKjo2S99TtI2",
        "outputId": "75511463-e614-45a3-f50b-c3bb0f474d39"
      },
      "source": [
        "returns.cov()"
      ],
      "execution_count": 295,
      "outputs": [
        {
          "output_type": "execute_result",
          "data": {
            "text/html": [
              "<div>\n",
              "<style scoped>\n",
              "    .dataframe tbody tr th:only-of-type {\n",
              "        vertical-align: middle;\n",
              "    }\n",
              "\n",
              "    .dataframe tbody tr th {\n",
              "        vertical-align: top;\n",
              "    }\n",
              "\n",
              "    .dataframe thead th {\n",
              "        text-align: right;\n",
              "    }\n",
              "</style>\n",
              "<table border=\"1\" class=\"dataframe\">\n",
              "  <thead>\n",
              "    <tr style=\"text-align: right;\">\n",
              "      <th></th>\n",
              "      <th>AAPL</th>\n",
              "      <th>IBM</th>\n",
              "      <th>MSFT</th>\n",
              "      <th>GOOG</th>\n",
              "    </tr>\n",
              "  </thead>\n",
              "  <tbody>\n",
              "    <tr>\n",
              "      <th>AAPL</th>\n",
              "      <td>0.000364</td>\n",
              "      <td>0.000140</td>\n",
              "      <td>0.000240</td>\n",
              "      <td>0.000212</td>\n",
              "    </tr>\n",
              "    <tr>\n",
              "      <th>IBM</th>\n",
              "      <td>0.000140</td>\n",
              "      <td>0.000269</td>\n",
              "      <td>0.000150</td>\n",
              "      <td>0.000136</td>\n",
              "    </tr>\n",
              "    <tr>\n",
              "      <th>MSFT</th>\n",
              "      <td>0.000240</td>\n",
              "      <td>0.000150</td>\n",
              "      <td>0.000299</td>\n",
              "      <td>0.000225</td>\n",
              "    </tr>\n",
              "    <tr>\n",
              "      <th>GOOG</th>\n",
              "      <td>0.000212</td>\n",
              "      <td>0.000136</td>\n",
              "      <td>0.000225</td>\n",
              "      <td>0.000283</td>\n",
              "    </tr>\n",
              "  </tbody>\n",
              "</table>\n",
              "</div>"
            ],
            "text/plain": [
              "          AAPL       IBM      MSFT      GOOG\n",
              "AAPL  0.000364  0.000140  0.000240  0.000212\n",
              "IBM   0.000140  0.000269  0.000150  0.000136\n",
              "MSFT  0.000240  0.000150  0.000299  0.000225\n",
              "GOOG  0.000212  0.000136  0.000225  0.000283"
            ]
          },
          "metadata": {
            "tags": []
          },
          "execution_count": 295
        }
      ]
    },
    {
      "cell_type": "markdown",
      "metadata": {
        "id": "3a5MOIZBdB6j"
      },
      "source": [
        "***Usando corrwith, podemos calcular\n",
        "correlações de pares entre as colunas ou linhas de um DF\n",
        "com outra Series ou um DF.***"
      ]
    },
    {
      "cell_type": "code",
      "metadata": {
        "colab": {
          "base_uri": "https://localhost:8080/"
        },
        "id": "hm72vB2IVVpw",
        "outputId": "a0415ce1-d816-46fb-b940-8568e728799c"
      },
      "source": [
        "returns.corrwith(returns.IBM)"
      ],
      "execution_count": 296,
      "outputs": [
        {
          "output_type": "execute_result",
          "data": {
            "text/plain": [
              "AAPL    0.446048\n",
              "IBM     1.000000\n",
              "MSFT    0.529588\n",
              "GOOG    0.493453\n",
              "dtype: float64"
            ]
          },
          "metadata": {
            "tags": []
          },
          "execution_count": 296
        }
      ]
    },
    {
      "cell_type": "code",
      "metadata": {
        "colab": {
          "base_uri": "https://localhost:8080/",
          "height": 173
        },
        "id": "suEBRhWSWsiU",
        "outputId": "a9874268-2d7f-4ad2-da0e-a159e9d59917"
      },
      "source": [
        "pd.DataFrame(round(returns.corrwith(volume), 3))"
      ],
      "execution_count": 297,
      "outputs": [
        {
          "output_type": "execute_result",
          "data": {
            "text/html": [
              "<div>\n",
              "<style scoped>\n",
              "    .dataframe tbody tr th:only-of-type {\n",
              "        vertical-align: middle;\n",
              "    }\n",
              "\n",
              "    .dataframe tbody tr th {\n",
              "        vertical-align: top;\n",
              "    }\n",
              "\n",
              "    .dataframe thead th {\n",
              "        text-align: right;\n",
              "    }\n",
              "</style>\n",
              "<table border=\"1\" class=\"dataframe\">\n",
              "  <thead>\n",
              "    <tr style=\"text-align: right;\">\n",
              "      <th></th>\n",
              "      <th>0</th>\n",
              "    </tr>\n",
              "  </thead>\n",
              "  <tbody>\n",
              "    <tr>\n",
              "      <th>AAPL</th>\n",
              "      <td>-0.052</td>\n",
              "    </tr>\n",
              "    <tr>\n",
              "      <th>IBM</th>\n",
              "      <td>-0.102</td>\n",
              "    </tr>\n",
              "    <tr>\n",
              "      <th>MSFT</th>\n",
              "      <td>-0.060</td>\n",
              "    </tr>\n",
              "    <tr>\n",
              "      <th>GOOG</th>\n",
              "      <td>-0.115</td>\n",
              "    </tr>\n",
              "  </tbody>\n",
              "</table>\n",
              "</div>"
            ],
            "text/plain": [
              "          0\n",
              "AAPL -0.052\n",
              "IBM  -0.102\n",
              "MSFT -0.060\n",
              "GOOG -0.115"
            ]
          },
          "metadata": {
            "tags": []
          },
          "execution_count": 297
        }
      ]
    },
    {
      "cell_type": "markdown",
      "metadata": {
        "id": "R_03T5dNek7d"
      },
      "source": [
        "***Passar axis=1 faz a correlação linha por linha***"
      ]
    },
    {
      "cell_type": "code",
      "metadata": {
        "colab": {
          "base_uri": "https://localhost:8080/",
          "height": 235
        },
        "id": "D1YNJgYVeNQM",
        "outputId": "57bd04b8-62d7-43ac-aa0c-c0624d8b440c"
      },
      "source": [
        "pd.DataFrame(round(returns.corrwith(volume, axis=1), 3)).head()"
      ],
      "execution_count": 298,
      "outputs": [
        {
          "output_type": "execute_result",
          "data": {
            "text/html": [
              "<div>\n",
              "<style scoped>\n",
              "    .dataframe tbody tr th:only-of-type {\n",
              "        vertical-align: middle;\n",
              "    }\n",
              "\n",
              "    .dataframe tbody tr th {\n",
              "        vertical-align: top;\n",
              "    }\n",
              "\n",
              "    .dataframe thead th {\n",
              "        text-align: right;\n",
              "    }\n",
              "</style>\n",
              "<table border=\"1\" class=\"dataframe\">\n",
              "  <thead>\n",
              "    <tr style=\"text-align: right;\">\n",
              "      <th></th>\n",
              "      <th>0</th>\n",
              "    </tr>\n",
              "    <tr>\n",
              "      <th>Date</th>\n",
              "      <th></th>\n",
              "    </tr>\n",
              "  </thead>\n",
              "  <tbody>\n",
              "    <tr>\n",
              "      <th>2016-06-22</th>\n",
              "      <td>NaN</td>\n",
              "    </tr>\n",
              "    <tr>\n",
              "      <th>2016-06-23</th>\n",
              "      <td>-0.476</td>\n",
              "    </tr>\n",
              "    <tr>\n",
              "      <th>2016-06-24</th>\n",
              "      <td>0.757</td>\n",
              "    </tr>\n",
              "    <tr>\n",
              "      <th>2016-06-27</th>\n",
              "      <td>0.125</td>\n",
              "    </tr>\n",
              "    <tr>\n",
              "      <th>2016-06-28</th>\n",
              "      <td>-0.040</td>\n",
              "    </tr>\n",
              "  </tbody>\n",
              "</table>\n",
              "</div>"
            ],
            "text/plain": [
              "                0\n",
              "Date             \n",
              "2016-06-22    NaN\n",
              "2016-06-23 -0.476\n",
              "2016-06-24  0.757\n",
              "2016-06-27  0.125\n",
              "2016-06-28 -0.040"
            ]
          },
          "metadata": {
            "tags": []
          },
          "execution_count": 298
        }
      ]
    },
    {
      "cell_type": "markdown",
      "metadata": {
        "id": "gt_CugPEnY7G"
      },
      "source": [
        "### **Valores únicos, contadores de valores e pertinência**"
      ]
    },
    {
      "cell_type": "code",
      "metadata": {
        "colab": {
          "base_uri": "https://localhost:8080/"
        },
        "id": "fWKP5f_7fr0a",
        "outputId": "cf88dab1-7aa8-4aad-da83-18d21d19e766"
      },
      "source": [
        "obj10 =  pd.Series(['d', 'a', 'd', 'e', 'e', 'b', 'b', 'c', 'c'])\n",
        "uniques = obj10.unique()\n",
        "uniques"
      ],
      "execution_count": 301,
      "outputs": [
        {
          "output_type": "execute_result",
          "data": {
            "text/plain": [
              "array(['d', 'a', 'e', 'b', 'c'], dtype=object)"
            ]
          },
          "metadata": {
            "tags": []
          },
          "execution_count": 301
        }
      ]
    },
    {
      "cell_type": "code",
      "metadata": {
        "colab": {
          "base_uri": "https://localhost:8080/"
        },
        "id": "eO1XnZyogGRc",
        "outputId": "dbb82afe-fa63-4c6d-c067-4ca47f61cbc3"
      },
      "source": [
        "obj10.value_counts()"
      ],
      "execution_count": 302,
      "outputs": [
        {
          "output_type": "execute_result",
          "data": {
            "text/plain": [
              "e    2\n",
              "c    2\n",
              "b    2\n",
              "d    2\n",
              "a    1\n",
              "dtype: int64"
            ]
          },
          "metadata": {
            "tags": []
          },
          "execution_count": 302
        }
      ]
    },
    {
      "cell_type": "code",
      "metadata": {
        "colab": {
          "base_uri": "https://localhost:8080/"
        },
        "id": "q5pn_RFqgOCF",
        "outputId": "8e02b215-4c68-4839-bb73-b3ba497d5475"
      },
      "source": [
        "mascara = obj10.isin(['a', 'e', 'c'])\n",
        "mascara"
      ],
      "execution_count": 312,
      "outputs": [
        {
          "output_type": "execute_result",
          "data": {
            "text/plain": [
              "0    False\n",
              "1     True\n",
              "2    False\n",
              "3     True\n",
              "4     True\n",
              "5    False\n",
              "6    False\n",
              "7     True\n",
              "8     True\n",
              "dtype: bool"
            ]
          },
          "metadata": {
            "tags": []
          },
          "execution_count": 312
        }
      ]
    },
    {
      "cell_type": "code",
      "metadata": {
        "colab": {
          "base_uri": "https://localhost:8080/"
        },
        "id": "yKKZMRbFhJEz",
        "outputId": "e83af393-5a30-4c4b-e086-7f455483fd6a"
      },
      "source": [
        "obj10[mascara]"
      ],
      "execution_count": 313,
      "outputs": [
        {
          "output_type": "execute_result",
          "data": {
            "text/plain": [
              "1    a\n",
              "3    e\n",
              "4    e\n",
              "7    c\n",
              "8    c\n",
              "dtype: object"
            ]
          },
          "metadata": {
            "tags": []
          },
          "execution_count": 313
        }
      ]
    },
    {
      "cell_type": "markdown",
      "metadata": {
        "id": "CBfxS1x_lSvT"
      },
      "source": [
        "**Index.get_indexer pega o primeiro array, compara com o segundo, e traz de volta os índices do primeiro no segundo**"
      ]
    },
    {
      "cell_type": "code",
      "metadata": {
        "colab": {
          "base_uri": "https://localhost:8080/"
        },
        "id": "TRYjt3YSjbH-",
        "outputId": "2fab124a-a190-46d9-a1d1-7f23eea34d3d"
      },
      "source": [
        "exemplo = pd.Series(['s', 'x', 'a'])\n",
        "pd.Index(exemplo).get_indexer(['a', 's', 'x', 'k', 'm'])"
      ],
      "execution_count": 322,
      "outputs": [
        {
          "output_type": "execute_result",
          "data": {
            "text/plain": [
              "array([ 2,  0,  1, -1, -1])"
            ]
          },
          "metadata": {
            "tags": []
          },
          "execution_count": 322
        }
      ]
    },
    {
      "cell_type": "markdown",
      "metadata": {
        "id": "TO4Qtyg5kpB3"
      },
      "source": [
        "Obs: -1 significa que não está presente no indexador"
      ]
    },
    {
      "cell_type": "code",
      "metadata": {
        "colab": {
          "base_uri": "https://localhost:8080/",
          "height": 204
        },
        "id": "dK_0wgtSl4aN",
        "outputId": "a3b00a5b-c0a8-467e-92a2-0020e7799cd6"
      },
      "source": [
        "df9 =  pd.DataFrame({'Col1': [1, 3, 4, 3, 4],'Col2': [2, 3, 1, 2, 3],'Col3': [1, 5, 2, 4, 4]})\n",
        "df9"
      ],
      "execution_count": 325,
      "outputs": [
        {
          "output_type": "execute_result",
          "data": {
            "text/html": [
              "<div>\n",
              "<style scoped>\n",
              "    .dataframe tbody tr th:only-of-type {\n",
              "        vertical-align: middle;\n",
              "    }\n",
              "\n",
              "    .dataframe tbody tr th {\n",
              "        vertical-align: top;\n",
              "    }\n",
              "\n",
              "    .dataframe thead th {\n",
              "        text-align: right;\n",
              "    }\n",
              "</style>\n",
              "<table border=\"1\" class=\"dataframe\">\n",
              "  <thead>\n",
              "    <tr style=\"text-align: right;\">\n",
              "      <th></th>\n",
              "      <th>Col1</th>\n",
              "      <th>Col2</th>\n",
              "      <th>Col3</th>\n",
              "    </tr>\n",
              "  </thead>\n",
              "  <tbody>\n",
              "    <tr>\n",
              "      <th>0</th>\n",
              "      <td>1</td>\n",
              "      <td>2</td>\n",
              "      <td>1</td>\n",
              "    </tr>\n",
              "    <tr>\n",
              "      <th>1</th>\n",
              "      <td>3</td>\n",
              "      <td>3</td>\n",
              "      <td>5</td>\n",
              "    </tr>\n",
              "    <tr>\n",
              "      <th>2</th>\n",
              "      <td>4</td>\n",
              "      <td>1</td>\n",
              "      <td>2</td>\n",
              "    </tr>\n",
              "    <tr>\n",
              "      <th>3</th>\n",
              "      <td>3</td>\n",
              "      <td>2</td>\n",
              "      <td>4</td>\n",
              "    </tr>\n",
              "    <tr>\n",
              "      <th>4</th>\n",
              "      <td>4</td>\n",
              "      <td>3</td>\n",
              "      <td>4</td>\n",
              "    </tr>\n",
              "  </tbody>\n",
              "</table>\n",
              "</div>"
            ],
            "text/plain": [
              "   Col1  Col2  Col3\n",
              "0     1     2     1\n",
              "1     3     3     5\n",
              "2     4     1     2\n",
              "3     3     2     4\n",
              "4     4     3     4"
            ]
          },
          "metadata": {
            "tags": []
          },
          "execution_count": 325
        }
      ]
    },
    {
      "cell_type": "code",
      "metadata": {
        "colab": {
          "base_uri": "https://localhost:8080/",
          "height": 204
        },
        "id": "o3225mTdmWTW",
        "outputId": "bef4beb7-c76d-484f-a255-933c7f3b088e"
      },
      "source": [
        "df9_resultado = df9.apply(pd.value_counts).fillna(0)\n",
        "df9_resultado"
      ],
      "execution_count": 329,
      "outputs": [
        {
          "output_type": "execute_result",
          "data": {
            "text/html": [
              "<div>\n",
              "<style scoped>\n",
              "    .dataframe tbody tr th:only-of-type {\n",
              "        vertical-align: middle;\n",
              "    }\n",
              "\n",
              "    .dataframe tbody tr th {\n",
              "        vertical-align: top;\n",
              "    }\n",
              "\n",
              "    .dataframe thead th {\n",
              "        text-align: right;\n",
              "    }\n",
              "</style>\n",
              "<table border=\"1\" class=\"dataframe\">\n",
              "  <thead>\n",
              "    <tr style=\"text-align: right;\">\n",
              "      <th></th>\n",
              "      <th>Col1</th>\n",
              "      <th>Col2</th>\n",
              "      <th>Col3</th>\n",
              "    </tr>\n",
              "  </thead>\n",
              "  <tbody>\n",
              "    <tr>\n",
              "      <th>1</th>\n",
              "      <td>1.0</td>\n",
              "      <td>1.0</td>\n",
              "      <td>1.0</td>\n",
              "    </tr>\n",
              "    <tr>\n",
              "      <th>2</th>\n",
              "      <td>0.0</td>\n",
              "      <td>2.0</td>\n",
              "      <td>1.0</td>\n",
              "    </tr>\n",
              "    <tr>\n",
              "      <th>3</th>\n",
              "      <td>2.0</td>\n",
              "      <td>2.0</td>\n",
              "      <td>0.0</td>\n",
              "    </tr>\n",
              "    <tr>\n",
              "      <th>4</th>\n",
              "      <td>2.0</td>\n",
              "      <td>0.0</td>\n",
              "      <td>2.0</td>\n",
              "    </tr>\n",
              "    <tr>\n",
              "      <th>5</th>\n",
              "      <td>0.0</td>\n",
              "      <td>0.0</td>\n",
              "      <td>1.0</td>\n",
              "    </tr>\n",
              "  </tbody>\n",
              "</table>\n",
              "</div>"
            ],
            "text/plain": [
              "   Col1  Col2  Col3\n",
              "1   1.0   1.0   1.0\n",
              "2   0.0   2.0   1.0\n",
              "3   2.0   2.0   0.0\n",
              "4   2.0   0.0   2.0\n",
              "5   0.0   0.0   1.0"
            ]
          },
          "metadata": {
            "tags": []
          },
          "execution_count": 329
        }
      ]
    }
  ]
}